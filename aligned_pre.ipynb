{
 "cells": [
  {
   "cell_type": "code",
   "execution_count": 1,
   "metadata": {},
   "outputs": [],
   "source": [
    "from textgrids import TextGrid\n",
    "import os"
   ]
  },
  {
   "cell_type": "code",
   "execution_count": 2,
   "metadata": {},
   "outputs": [],
   "source": [
    "\n",
    "grid_dir = 'biaobei_aligned'\n",
    "grids = os.listdir(grid_dir)\n",
    "\n",
    "py_list = []\n",
    "\n",
    "for g in grids:\n",
    "    grid = TextGrid(os.path.join(grid_dir, g))    \n",
    "    pds = []\n",
    "    for w in grid['words']:\n",
    "        if len(w.text) > 0 and w.xmax - w.xmin > 0.03 and w.xmax - w.xmin < 0.6:\n",
    "            pds.append((w.text, w.xmin, w.xmax))\n",
    "    py_list.append({\n",
    "        'file_name': g.split('.')[0],\n",
    "        'pinyin_clips': pds\n",
    "    })\n"
   ]
  },
  {
   "cell_type": "code",
   "execution_count": 3,
   "metadata": {},
   "outputs": [],
   "source": [
    "\n",
    "import json\n",
    "\n",
    "json_object = json.dumps(py_list, indent=4)\n",
    "\n",
    "with open(\"biaobei_py_list.json\", \"w\") as outfile:\n",
    "    outfile.write(json_object)\n",
    "    "
   ]
  },
  {
   "cell_type": "code",
   "execution_count": 5,
   "metadata": {},
   "outputs": [
    {
     "data": {
      "text/plain": [
       "7999"
      ]
     },
     "execution_count": 5,
     "metadata": {},
     "output_type": "execute_result"
    }
   ],
   "source": [
    "len(py_list)"
   ]
  },
  {
   "cell_type": "code",
   "execution_count": null,
   "metadata": {},
   "outputs": [],
   "source": []
  }
 ],
 "metadata": {
  "kernelspec": {
   "display_name": "cn_speech",
   "language": "python",
   "name": "python3"
  },
  "language_info": {
   "codemirror_mode": {
    "name": "ipython",
    "version": 3
   },
   "file_extension": ".py",
   "mimetype": "text/x-python",
   "name": "python",
   "nbconvert_exporter": "python",
   "pygments_lexer": "ipython3",
   "version": "3.8.0"
  },
  "orig_nbformat": 4
 },
 "nbformat": 4,
 "nbformat_minor": 2
}
