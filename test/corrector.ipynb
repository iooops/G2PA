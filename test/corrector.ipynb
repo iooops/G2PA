{
 "cells": [
  {
   "cell_type": "code",
   "execution_count": 13,
   "metadata": {},
   "outputs": [],
   "source": [
    "import os, json, random\n",
    "from torch.utils.data import Dataset\n",
    "import torch\n",
    "import torch.nn as nn\n",
    "import torch.nn.functional as F\n",
    "import torchaudio\n",
    "import torchaudio.transforms as T\n",
    "from torch.utils.data import DataLoader\n",
    "import torch.optim as optim\n",
    "from torchvision import models\n",
    "from torch.optim.lr_scheduler import StepLR\n",
    "import numpy as np\n",
    "from datetime import datetime\n",
    "from transformers import (\n",
    "    Wav2Vec2FeatureExtractor,\n",
    "    HubertModel,\n",
    ")\n",
    "from textgrids import TextGrid\n",
    "from tqdm import tqdm"
   ]
  },
  {
   "cell_type": "code",
   "execution_count": 14,
   "metadata": {},
   "outputs": [],
   "source": [
    "pinyin_list = ['a', 'ai', 'an', 'ang', 'ao', 'ba', 'bai', 'ban', 'bang', 'bao', 'be', 'bei', 'ben', 'beng', 'bi', 'bian', 'bianr', 'biao', 'bie', 'bin', 'bing', 'bo', 'bu', 'ca', 'cai', 'can', 'cang', 'cao', 'ce', 'cen', 'ceng', 'cha', 'chai', 'chan', 'chang', 'chao', 'che', 'chen', 'cheng', 'chi', 'chong', 'chou', 'chu', 'chua', 'chuai', 'chuan', 'chuang', 'chui', 'chun', 'chuo', 'ci', 'cong', 'cou', 'cu', 'cuan', 'cui', 'cun', 'cuo', 'da', 'dai', 'dan', 'dang', 'dao', 'de', 'dei', 'den', 'deng', 'di', 'dia', 'dian', 'diao', 'die', 'ding', 'diu', 'dong', 'dou', 'du', 'duan', 'dui', 'dun', 'duo', 'e', 'ei', 'en', 'ng', 'eng', 'er', 'fa', 'fan', 'fang', 'fei', 'fen', 'feng', 'fo', 'fou', 'fu', 'ga', 'gai', 'gan', 'gang', 'gao', 'ge', 'gei', 'gen', 'geng', 'gong', 'gou', 'gu', 'gua', 'guai', 'guan', 'guang', 'gui', 'gun', 'guo', 'ha', 'hai', 'hair', 'han', 'hang', 'hao', 'he', 'hei', 'hen', 'heng', 'hong', 'hou', 'hu', 'hua', 'huai', 'huan', 'huang', 'hui', 'huir', 'hun', 'huo', 'ji', 'jia', 'jian', 'jiang', 'jiao', 'jie', 'jin', 'jing', 'jiong', 'jiu', 'ju', 'juan', 'jue', 'jun', 'ka', 'kai', 'kan', 'kang', 'kao', 'ke', 'kei', 'ken', 'keng', 'kong', 'kou', 'ku', 'kua', 'kuai', 'kuan', 'kuang', 'kui', 'kun', 'kuo', 'la', 'lai', 'lan', 'lang', 'lao', 'le', 'lei', 'leng', 'li', 'lia', 'lian', 'liang', 'liao', 'lie', 'lin', 'ling', 'liu', 'lo', 'long', 'lou', 'lu', 'lv', 'luan', 'lve', 'lue', 'lun', 'luo', 'ma', 'mai', 'man', 'mang', 'mao', 'me', 'mei', 'men', 'meng', 'mi', 'mian', 'miao', 'mie', 'min', 'ming', 'miu', 'mo', 'mou', 'mu', 'na', 'nar', 'nai', 'nan', 'nang', 'nao', 'ne', 'nei', 'nen', 'neng', 'ni', 'nia', 'nian', 'niang', 'niao', 'nie', 'nin', 'ning', 'niu', 'nong', 'nou', 'nu', 'nv', 'nuan', 'nve', 'nue', 'nuo', 'o', 'ou', 'pa', 'pai', 'pan', 'pang', 'pao', 'pe', 'pei', 'pen', 'peng', 'pi', 'pian', 'piao', 'pie', 'pin', 'ping', 'po', 'pou', 'pu', 'qi', 'qia', 'qian', 'qiang', 'qiao', 'qie', 'qin', 'qing', 'qiong', 'qiu', 'qu', 'quan', 'que', 'qun', 'ran', 'rang', 'rao', 're', 'ren', 'reng', 'ri', 'rong', 'rou', 'ru', 'rua', 'ruan', 'rui', 'run', 'ruo', 'sa', 'sai', 'san', 'sang', 'sao', 'se', 'sen', 'seng', 'sha', 'shai', 'shan', 'shang', 'shao', 'she', 'shei', 'shen', 'sheng', 'shi', 'shir', 'shou', 'shu', 'shua', 'shuai', 'shuan', 'shuang', 'shui', 'shun', 'shuo', 'si', 'song', 'sou', 'su', 'suan', 'sui', 'sun', 'suo', 'ta', 'tai', 'tan', 'tang', 'tao', 'te', 'tei', 'teng', 'ti', 'tian', 'tianr', 'tiao', 'tie', 'ting', 'tong', 'tou', 'tu', 'tuan', 'tui', 'tun', 'tuo', 'wa', 'wai', 'wan', 'wanr', 'wang', 'wei', 'weir', 'wen', 'weng', 'wo', 'wu', 'xi', 'xia', 'xian', 'xiang', 'xiao', 'xie', 'xin', 'xing', 'xiong', 'xiu', 'xu', 'xuan', 'xue', 'xun', 'ya', 'yan', 'yang', 'yao', 'ye', 'yi', 'yin', 'ying', 'yo', 'yong', 'you', 'yu', 'yuan', 'yue', 'yun', 'za', 'zai', 'zan', 'zang', 'zao', 'ze', 'zei', 'zen', 'zeng', 'zha', 'zhai', 'zhan', 'zhang', 'zhao', 'zhe', 'zhei', 'zhen', 'zheng', 'zher', 'zhi', 'zhong', 'zhou', 'zhu', 'zhua', 'zhuai', 'zhuan', 'zhuang', 'zhui', 'zhun', 'zhuo', 'zi', 'zong', 'zou', 'zu', 'zuan', 'zui', 'zun', 'zuo', 'gair', 'yir', 'jinr', 'menr', 'her', 'gunr', 'huanr', 'jiar', 'duir', 'dir', 'banr', 'yanr', 'cir', 'genr', 'ger', 'tongr', 'renr', 'kuair', 'yuanr', 'liar', 'dunr', 'fur', 'zaor', 'yangr', 'ter', 'yingr', 'fanr', 'tuor', 'pir', 'jingr', 'hanr', 'duor', 'tanr', 'zhunr', 'jir', 'huor', 'far', 'dianr', 'zhur', 'tour', 'qir', 'mingr', 'lanr', 'lir', 'daor', 'niur']\n",
    "\n",
    "pinyin_to_label = {p: i for i, p in enumerate(pinyin_list)}\n",
    "label_to_pinyin = {i: p for i, p in enumerate(pinyin_list)}"
   ]
  },
  {
   "cell_type": "code",
   "execution_count": 15,
   "metadata": {},
   "outputs": [
    {
     "data": {
      "text/plain": [
       "ResNet(\n",
       "  (conv1): Conv2d(1, 64, kernel_size=(7, 7), stride=(2, 2), padding=(3, 3), bias=False)\n",
       "  (bn1): BatchNorm2d(64, eps=1e-05, momentum=0.1, affine=True, track_running_stats=True)\n",
       "  (relu): ReLU(inplace=True)\n",
       "  (maxpool): MaxPool2d(kernel_size=3, stride=2, padding=1, dilation=1, ceil_mode=False)\n",
       "  (layer1): Sequential(\n",
       "    (0): BasicBlock(\n",
       "      (conv1): Conv2d(64, 64, kernel_size=(3, 3), stride=(1, 1), padding=(1, 1), bias=False)\n",
       "      (bn1): BatchNorm2d(64, eps=1e-05, momentum=0.1, affine=True, track_running_stats=True)\n",
       "      (relu): ReLU(inplace=True)\n",
       "      (conv2): Conv2d(64, 64, kernel_size=(3, 3), stride=(1, 1), padding=(1, 1), bias=False)\n",
       "      (bn2): BatchNorm2d(64, eps=1e-05, momentum=0.1, affine=True, track_running_stats=True)\n",
       "    )\n",
       "    (1): BasicBlock(\n",
       "      (conv1): Conv2d(64, 64, kernel_size=(3, 3), stride=(1, 1), padding=(1, 1), bias=False)\n",
       "      (bn1): BatchNorm2d(64, eps=1e-05, momentum=0.1, affine=True, track_running_stats=True)\n",
       "      (relu): ReLU(inplace=True)\n",
       "      (conv2): Conv2d(64, 64, kernel_size=(3, 3), stride=(1, 1), padding=(1, 1), bias=False)\n",
       "      (bn2): BatchNorm2d(64, eps=1e-05, momentum=0.1, affine=True, track_running_stats=True)\n",
       "    )\n",
       "  )\n",
       "  (layer2): Sequential(\n",
       "    (0): BasicBlock(\n",
       "      (conv1): Conv2d(64, 128, kernel_size=(3, 3), stride=(2, 2), padding=(1, 1), bias=False)\n",
       "      (bn1): BatchNorm2d(128, eps=1e-05, momentum=0.1, affine=True, track_running_stats=True)\n",
       "      (relu): ReLU(inplace=True)\n",
       "      (conv2): Conv2d(128, 128, kernel_size=(3, 3), stride=(1, 1), padding=(1, 1), bias=False)\n",
       "      (bn2): BatchNorm2d(128, eps=1e-05, momentum=0.1, affine=True, track_running_stats=True)\n",
       "      (downsample): Sequential(\n",
       "        (0): Conv2d(64, 128, kernel_size=(1, 1), stride=(2, 2), bias=False)\n",
       "        (1): BatchNorm2d(128, eps=1e-05, momentum=0.1, affine=True, track_running_stats=True)\n",
       "      )\n",
       "    )\n",
       "    (1): BasicBlock(\n",
       "      (conv1): Conv2d(128, 128, kernel_size=(3, 3), stride=(1, 1), padding=(1, 1), bias=False)\n",
       "      (bn1): BatchNorm2d(128, eps=1e-05, momentum=0.1, affine=True, track_running_stats=True)\n",
       "      (relu): ReLU(inplace=True)\n",
       "      (conv2): Conv2d(128, 128, kernel_size=(3, 3), stride=(1, 1), padding=(1, 1), bias=False)\n",
       "      (bn2): BatchNorm2d(128, eps=1e-05, momentum=0.1, affine=True, track_running_stats=True)\n",
       "    )\n",
       "  )\n",
       "  (layer3): Sequential(\n",
       "    (0): BasicBlock(\n",
       "      (conv1): Conv2d(128, 256, kernel_size=(3, 3), stride=(2, 2), padding=(1, 1), bias=False)\n",
       "      (bn1): BatchNorm2d(256, eps=1e-05, momentum=0.1, affine=True, track_running_stats=True)\n",
       "      (relu): ReLU(inplace=True)\n",
       "      (conv2): Conv2d(256, 256, kernel_size=(3, 3), stride=(1, 1), padding=(1, 1), bias=False)\n",
       "      (bn2): BatchNorm2d(256, eps=1e-05, momentum=0.1, affine=True, track_running_stats=True)\n",
       "      (downsample): Sequential(\n",
       "        (0): Conv2d(128, 256, kernel_size=(1, 1), stride=(2, 2), bias=False)\n",
       "        (1): BatchNorm2d(256, eps=1e-05, momentum=0.1, affine=True, track_running_stats=True)\n",
       "      )\n",
       "    )\n",
       "    (1): BasicBlock(\n",
       "      (conv1): Conv2d(256, 256, kernel_size=(3, 3), stride=(1, 1), padding=(1, 1), bias=False)\n",
       "      (bn1): BatchNorm2d(256, eps=1e-05, momentum=0.1, affine=True, track_running_stats=True)\n",
       "      (relu): ReLU(inplace=True)\n",
       "      (conv2): Conv2d(256, 256, kernel_size=(3, 3), stride=(1, 1), padding=(1, 1), bias=False)\n",
       "      (bn2): BatchNorm2d(256, eps=1e-05, momentum=0.1, affine=True, track_running_stats=True)\n",
       "    )\n",
       "  )\n",
       "  (layer4): Sequential(\n",
       "    (0): BasicBlock(\n",
       "      (conv1): Conv2d(256, 512, kernel_size=(3, 3), stride=(2, 2), padding=(1, 1), bias=False)\n",
       "      (bn1): BatchNorm2d(512, eps=1e-05, momentum=0.1, affine=True, track_running_stats=True)\n",
       "      (relu): ReLU(inplace=True)\n",
       "      (conv2): Conv2d(512, 512, kernel_size=(3, 3), stride=(1, 1), padding=(1, 1), bias=False)\n",
       "      (bn2): BatchNorm2d(512, eps=1e-05, momentum=0.1, affine=True, track_running_stats=True)\n",
       "      (downsample): Sequential(\n",
       "        (0): Conv2d(256, 512, kernel_size=(1, 1), stride=(2, 2), bias=False)\n",
       "        (1): BatchNorm2d(512, eps=1e-05, momentum=0.1, affine=True, track_running_stats=True)\n",
       "      )\n",
       "    )\n",
       "    (1): BasicBlock(\n",
       "      (conv1): Conv2d(512, 512, kernel_size=(3, 3), stride=(1, 1), padding=(1, 1), bias=False)\n",
       "      (bn1): BatchNorm2d(512, eps=1e-05, momentum=0.1, affine=True, track_running_stats=True)\n",
       "      (relu): ReLU(inplace=True)\n",
       "      (conv2): Conv2d(512, 512, kernel_size=(3, 3), stride=(1, 1), padding=(1, 1), bias=False)\n",
       "      (bn2): BatchNorm2d(512, eps=1e-05, momentum=0.1, affine=True, track_running_stats=True)\n",
       "    )\n",
       "  )\n",
       "  (avgpool): AdaptiveAvgPool2d(output_size=(1, 1))\n",
       "  (fc): Linear(in_features=512, out_features=472, bias=True)\n",
       ")"
      ]
     },
     "execution_count": 15,
     "metadata": {},
     "output_type": "execute_result"
    }
   ],
   "source": [
    "\n",
    "def change_layers(model):\n",
    "    model.conv1 = nn.Conv2d(1, 64, kernel_size=(7, 7), stride=(2, 2), padding=(3, 3), bias=False)\n",
    "    model.fc = nn.Linear(512, len(pinyin_list))\n",
    "    return model\n",
    "\n",
    "model = models.resnet18(pretrained=False)\n",
    "change_layers(model)\n"
   ]
  },
  {
   "cell_type": "code",
   "execution_count": 16,
   "metadata": {},
   "outputs": [
    {
     "data": {
      "text/plain": [
       "<All keys matched successfully>"
      ]
     },
     "execution_count": 16,
     "metadata": {},
     "output_type": "execute_result"
    }
   ],
   "source": [
    "# model.load_state_dict(torch.load('../checkpoints/07_09_2023_14:46:23/ckp_18.pt')['model_state_dict'])\n",
    "model.load_state_dict(torch.load('../checkpoints/13_09_2023_22:13:20/ckp_12.pt')['model_state_dict'])"
   ]
  },
  {
   "cell_type": "code",
   "execution_count": 17,
   "metadata": {},
   "outputs": [],
   "source": [
    "model.eval()\n",
    "model = model.cuda()"
   ]
  },
  {
   "cell_type": "code",
   "execution_count": 18,
   "metadata": {},
   "outputs": [
    {
     "data": {
      "text/plain": [
       "HubertModel(\n",
       "  (feature_extractor): HubertFeatureEncoder(\n",
       "    (conv_layers): ModuleList(\n",
       "      (0): HubertGroupNormConvLayer(\n",
       "        (conv): Conv1d(1, 512, kernel_size=(10,), stride=(5,), bias=False)\n",
       "        (activation): GELUActivation()\n",
       "        (layer_norm): GroupNorm(512, 512, eps=1e-05, affine=True)\n",
       "      )\n",
       "      (1): HubertNoLayerNormConvLayer(\n",
       "        (conv): Conv1d(512, 512, kernel_size=(3,), stride=(2,), bias=False)\n",
       "        (activation): GELUActivation()\n",
       "      )\n",
       "      (2): HubertNoLayerNormConvLayer(\n",
       "        (conv): Conv1d(512, 512, kernel_size=(3,), stride=(2,), bias=False)\n",
       "        (activation): GELUActivation()\n",
       "      )\n",
       "      (3): HubertNoLayerNormConvLayer(\n",
       "        (conv): Conv1d(512, 512, kernel_size=(3,), stride=(2,), bias=False)\n",
       "        (activation): GELUActivation()\n",
       "      )\n",
       "      (4): HubertNoLayerNormConvLayer(\n",
       "        (conv): Conv1d(512, 512, kernel_size=(3,), stride=(2,), bias=False)\n",
       "        (activation): GELUActivation()\n",
       "      )\n",
       "      (5): HubertNoLayerNormConvLayer(\n",
       "        (conv): Conv1d(512, 512, kernel_size=(2,), stride=(2,), bias=False)\n",
       "        (activation): GELUActivation()\n",
       "      )\n",
       "      (6): HubertNoLayerNormConvLayer(\n",
       "        (conv): Conv1d(512, 512, kernel_size=(2,), stride=(2,), bias=False)\n",
       "        (activation): GELUActivation()\n",
       "      )\n",
       "    )\n",
       "  )\n",
       "  (feature_projection): HubertFeatureProjection(\n",
       "    (layer_norm): LayerNorm((512,), eps=1e-05, elementwise_affine=True)\n",
       "    (projection): Linear(in_features=512, out_features=768, bias=True)\n",
       "    (dropout): Dropout(p=0.0, inplace=False)\n",
       "  )\n",
       "  (encoder): HubertEncoder(\n",
       "    (pos_conv_embed): HubertPositionalConvEmbedding(\n",
       "      (conv): Conv1d(768, 768, kernel_size=(128,), stride=(1,), padding=(64,), groups=16)\n",
       "      (padding): HubertSamePadLayer()\n",
       "      (activation): GELUActivation()\n",
       "    )\n",
       "    (layer_norm): LayerNorm((768,), eps=1e-05, elementwise_affine=True)\n",
       "    (dropout): Dropout(p=0.1, inplace=False)\n",
       "    (layers): ModuleList(\n",
       "      (0): HubertEncoderLayer(\n",
       "        (attention): HubertAttention(\n",
       "          (k_proj): Linear(in_features=768, out_features=768, bias=True)\n",
       "          (v_proj): Linear(in_features=768, out_features=768, bias=True)\n",
       "          (q_proj): Linear(in_features=768, out_features=768, bias=True)\n",
       "          (out_proj): Linear(in_features=768, out_features=768, bias=True)\n",
       "        )\n",
       "        (dropout): Dropout(p=0.1, inplace=False)\n",
       "        (layer_norm): LayerNorm((768,), eps=1e-05, elementwise_affine=True)\n",
       "        (feed_forward): HubertFeedForward(\n",
       "          (intermediate_dropout): Dropout(p=0.1, inplace=False)\n",
       "          (intermediate_dense): Linear(in_features=768, out_features=3072, bias=True)\n",
       "          (intermediate_act_fn): GELUActivation()\n",
       "          (output_dense): Linear(in_features=3072, out_features=768, bias=True)\n",
       "          (output_dropout): Dropout(p=0.1, inplace=False)\n",
       "        )\n",
       "        (final_layer_norm): LayerNorm((768,), eps=1e-05, elementwise_affine=True)\n",
       "      )\n",
       "      (1): HubertEncoderLayer(\n",
       "        (attention): HubertAttention(\n",
       "          (k_proj): Linear(in_features=768, out_features=768, bias=True)\n",
       "          (v_proj): Linear(in_features=768, out_features=768, bias=True)\n",
       "          (q_proj): Linear(in_features=768, out_features=768, bias=True)\n",
       "          (out_proj): Linear(in_features=768, out_features=768, bias=True)\n",
       "        )\n",
       "        (dropout): Dropout(p=0.1, inplace=False)\n",
       "        (layer_norm): LayerNorm((768,), eps=1e-05, elementwise_affine=True)\n",
       "        (feed_forward): HubertFeedForward(\n",
       "          (intermediate_dropout): Dropout(p=0.1, inplace=False)\n",
       "          (intermediate_dense): Linear(in_features=768, out_features=3072, bias=True)\n",
       "          (intermediate_act_fn): GELUActivation()\n",
       "          (output_dense): Linear(in_features=3072, out_features=768, bias=True)\n",
       "          (output_dropout): Dropout(p=0.1, inplace=False)\n",
       "        )\n",
       "        (final_layer_norm): LayerNorm((768,), eps=1e-05, elementwise_affine=True)\n",
       "      )\n",
       "      (2): HubertEncoderLayer(\n",
       "        (attention): HubertAttention(\n",
       "          (k_proj): Linear(in_features=768, out_features=768, bias=True)\n",
       "          (v_proj): Linear(in_features=768, out_features=768, bias=True)\n",
       "          (q_proj): Linear(in_features=768, out_features=768, bias=True)\n",
       "          (out_proj): Linear(in_features=768, out_features=768, bias=True)\n",
       "        )\n",
       "        (dropout): Dropout(p=0.1, inplace=False)\n",
       "        (layer_norm): LayerNorm((768,), eps=1e-05, elementwise_affine=True)\n",
       "        (feed_forward): HubertFeedForward(\n",
       "          (intermediate_dropout): Dropout(p=0.1, inplace=False)\n",
       "          (intermediate_dense): Linear(in_features=768, out_features=3072, bias=True)\n",
       "          (intermediate_act_fn): GELUActivation()\n",
       "          (output_dense): Linear(in_features=3072, out_features=768, bias=True)\n",
       "          (output_dropout): Dropout(p=0.1, inplace=False)\n",
       "        )\n",
       "        (final_layer_norm): LayerNorm((768,), eps=1e-05, elementwise_affine=True)\n",
       "      )\n",
       "      (3): HubertEncoderLayer(\n",
       "        (attention): HubertAttention(\n",
       "          (k_proj): Linear(in_features=768, out_features=768, bias=True)\n",
       "          (v_proj): Linear(in_features=768, out_features=768, bias=True)\n",
       "          (q_proj): Linear(in_features=768, out_features=768, bias=True)\n",
       "          (out_proj): Linear(in_features=768, out_features=768, bias=True)\n",
       "        )\n",
       "        (dropout): Dropout(p=0.1, inplace=False)\n",
       "        (layer_norm): LayerNorm((768,), eps=1e-05, elementwise_affine=True)\n",
       "        (feed_forward): HubertFeedForward(\n",
       "          (intermediate_dropout): Dropout(p=0.1, inplace=False)\n",
       "          (intermediate_dense): Linear(in_features=768, out_features=3072, bias=True)\n",
       "          (intermediate_act_fn): GELUActivation()\n",
       "          (output_dense): Linear(in_features=3072, out_features=768, bias=True)\n",
       "          (output_dropout): Dropout(p=0.1, inplace=False)\n",
       "        )\n",
       "        (final_layer_norm): LayerNorm((768,), eps=1e-05, elementwise_affine=True)\n",
       "      )\n",
       "      (4): HubertEncoderLayer(\n",
       "        (attention): HubertAttention(\n",
       "          (k_proj): Linear(in_features=768, out_features=768, bias=True)\n",
       "          (v_proj): Linear(in_features=768, out_features=768, bias=True)\n",
       "          (q_proj): Linear(in_features=768, out_features=768, bias=True)\n",
       "          (out_proj): Linear(in_features=768, out_features=768, bias=True)\n",
       "        )\n",
       "        (dropout): Dropout(p=0.1, inplace=False)\n",
       "        (layer_norm): LayerNorm((768,), eps=1e-05, elementwise_affine=True)\n",
       "        (feed_forward): HubertFeedForward(\n",
       "          (intermediate_dropout): Dropout(p=0.1, inplace=False)\n",
       "          (intermediate_dense): Linear(in_features=768, out_features=3072, bias=True)\n",
       "          (intermediate_act_fn): GELUActivation()\n",
       "          (output_dense): Linear(in_features=3072, out_features=768, bias=True)\n",
       "          (output_dropout): Dropout(p=0.1, inplace=False)\n",
       "        )\n",
       "        (final_layer_norm): LayerNorm((768,), eps=1e-05, elementwise_affine=True)\n",
       "      )\n",
       "      (5): HubertEncoderLayer(\n",
       "        (attention): HubertAttention(\n",
       "          (k_proj): Linear(in_features=768, out_features=768, bias=True)\n",
       "          (v_proj): Linear(in_features=768, out_features=768, bias=True)\n",
       "          (q_proj): Linear(in_features=768, out_features=768, bias=True)\n",
       "          (out_proj): Linear(in_features=768, out_features=768, bias=True)\n",
       "        )\n",
       "        (dropout): Dropout(p=0.1, inplace=False)\n",
       "        (layer_norm): LayerNorm((768,), eps=1e-05, elementwise_affine=True)\n",
       "        (feed_forward): HubertFeedForward(\n",
       "          (intermediate_dropout): Dropout(p=0.1, inplace=False)\n",
       "          (intermediate_dense): Linear(in_features=768, out_features=3072, bias=True)\n",
       "          (intermediate_act_fn): GELUActivation()\n",
       "          (output_dense): Linear(in_features=3072, out_features=768, bias=True)\n",
       "          (output_dropout): Dropout(p=0.1, inplace=False)\n",
       "        )\n",
       "        (final_layer_norm): LayerNorm((768,), eps=1e-05, elementwise_affine=True)\n",
       "      )\n",
       "      (6): HubertEncoderLayer(\n",
       "        (attention): HubertAttention(\n",
       "          (k_proj): Linear(in_features=768, out_features=768, bias=True)\n",
       "          (v_proj): Linear(in_features=768, out_features=768, bias=True)\n",
       "          (q_proj): Linear(in_features=768, out_features=768, bias=True)\n",
       "          (out_proj): Linear(in_features=768, out_features=768, bias=True)\n",
       "        )\n",
       "        (dropout): Dropout(p=0.1, inplace=False)\n",
       "        (layer_norm): LayerNorm((768,), eps=1e-05, elementwise_affine=True)\n",
       "        (feed_forward): HubertFeedForward(\n",
       "          (intermediate_dropout): Dropout(p=0.1, inplace=False)\n",
       "          (intermediate_dense): Linear(in_features=768, out_features=3072, bias=True)\n",
       "          (intermediate_act_fn): GELUActivation()\n",
       "          (output_dense): Linear(in_features=3072, out_features=768, bias=True)\n",
       "          (output_dropout): Dropout(p=0.1, inplace=False)\n",
       "        )\n",
       "        (final_layer_norm): LayerNorm((768,), eps=1e-05, elementwise_affine=True)\n",
       "      )\n",
       "      (7): HubertEncoderLayer(\n",
       "        (attention): HubertAttention(\n",
       "          (k_proj): Linear(in_features=768, out_features=768, bias=True)\n",
       "          (v_proj): Linear(in_features=768, out_features=768, bias=True)\n",
       "          (q_proj): Linear(in_features=768, out_features=768, bias=True)\n",
       "          (out_proj): Linear(in_features=768, out_features=768, bias=True)\n",
       "        )\n",
       "        (dropout): Dropout(p=0.1, inplace=False)\n",
       "        (layer_norm): LayerNorm((768,), eps=1e-05, elementwise_affine=True)\n",
       "        (feed_forward): HubertFeedForward(\n",
       "          (intermediate_dropout): Dropout(p=0.1, inplace=False)\n",
       "          (intermediate_dense): Linear(in_features=768, out_features=3072, bias=True)\n",
       "          (intermediate_act_fn): GELUActivation()\n",
       "          (output_dense): Linear(in_features=3072, out_features=768, bias=True)\n",
       "          (output_dropout): Dropout(p=0.1, inplace=False)\n",
       "        )\n",
       "        (final_layer_norm): LayerNorm((768,), eps=1e-05, elementwise_affine=True)\n",
       "      )\n",
       "      (8): HubertEncoderLayer(\n",
       "        (attention): HubertAttention(\n",
       "          (k_proj): Linear(in_features=768, out_features=768, bias=True)\n",
       "          (v_proj): Linear(in_features=768, out_features=768, bias=True)\n",
       "          (q_proj): Linear(in_features=768, out_features=768, bias=True)\n",
       "          (out_proj): Linear(in_features=768, out_features=768, bias=True)\n",
       "        )\n",
       "        (dropout): Dropout(p=0.1, inplace=False)\n",
       "        (layer_norm): LayerNorm((768,), eps=1e-05, elementwise_affine=True)\n",
       "        (feed_forward): HubertFeedForward(\n",
       "          (intermediate_dropout): Dropout(p=0.1, inplace=False)\n",
       "          (intermediate_dense): Linear(in_features=768, out_features=3072, bias=True)\n",
       "          (intermediate_act_fn): GELUActivation()\n",
       "          (output_dense): Linear(in_features=3072, out_features=768, bias=True)\n",
       "          (output_dropout): Dropout(p=0.1, inplace=False)\n",
       "        )\n",
       "        (final_layer_norm): LayerNorm((768,), eps=1e-05, elementwise_affine=True)\n",
       "      )\n",
       "      (9): HubertEncoderLayer(\n",
       "        (attention): HubertAttention(\n",
       "          (k_proj): Linear(in_features=768, out_features=768, bias=True)\n",
       "          (v_proj): Linear(in_features=768, out_features=768, bias=True)\n",
       "          (q_proj): Linear(in_features=768, out_features=768, bias=True)\n",
       "          (out_proj): Linear(in_features=768, out_features=768, bias=True)\n",
       "        )\n",
       "        (dropout): Dropout(p=0.1, inplace=False)\n",
       "        (layer_norm): LayerNorm((768,), eps=1e-05, elementwise_affine=True)\n",
       "        (feed_forward): HubertFeedForward(\n",
       "          (intermediate_dropout): Dropout(p=0.1, inplace=False)\n",
       "          (intermediate_dense): Linear(in_features=768, out_features=3072, bias=True)\n",
       "          (intermediate_act_fn): GELUActivation()\n",
       "          (output_dense): Linear(in_features=3072, out_features=768, bias=True)\n",
       "          (output_dropout): Dropout(p=0.1, inplace=False)\n",
       "        )\n",
       "        (final_layer_norm): LayerNorm((768,), eps=1e-05, elementwise_affine=True)\n",
       "      )\n",
       "      (10): HubertEncoderLayer(\n",
       "        (attention): HubertAttention(\n",
       "          (k_proj): Linear(in_features=768, out_features=768, bias=True)\n",
       "          (v_proj): Linear(in_features=768, out_features=768, bias=True)\n",
       "          (q_proj): Linear(in_features=768, out_features=768, bias=True)\n",
       "          (out_proj): Linear(in_features=768, out_features=768, bias=True)\n",
       "        )\n",
       "        (dropout): Dropout(p=0.1, inplace=False)\n",
       "        (layer_norm): LayerNorm((768,), eps=1e-05, elementwise_affine=True)\n",
       "        (feed_forward): HubertFeedForward(\n",
       "          (intermediate_dropout): Dropout(p=0.1, inplace=False)\n",
       "          (intermediate_dense): Linear(in_features=768, out_features=3072, bias=True)\n",
       "          (intermediate_act_fn): GELUActivation()\n",
       "          (output_dense): Linear(in_features=3072, out_features=768, bias=True)\n",
       "          (output_dropout): Dropout(p=0.1, inplace=False)\n",
       "        )\n",
       "        (final_layer_norm): LayerNorm((768,), eps=1e-05, elementwise_affine=True)\n",
       "      )\n",
       "      (11): HubertEncoderLayer(\n",
       "        (attention): HubertAttention(\n",
       "          (k_proj): Linear(in_features=768, out_features=768, bias=True)\n",
       "          (v_proj): Linear(in_features=768, out_features=768, bias=True)\n",
       "          (q_proj): Linear(in_features=768, out_features=768, bias=True)\n",
       "          (out_proj): Linear(in_features=768, out_features=768, bias=True)\n",
       "        )\n",
       "        (dropout): Dropout(p=0.1, inplace=False)\n",
       "        (layer_norm): LayerNorm((768,), eps=1e-05, elementwise_affine=True)\n",
       "        (feed_forward): HubertFeedForward(\n",
       "          (intermediate_dropout): Dropout(p=0.1, inplace=False)\n",
       "          (intermediate_dense): Linear(in_features=768, out_features=3072, bias=True)\n",
       "          (intermediate_act_fn): GELUActivation()\n",
       "          (output_dense): Linear(in_features=3072, out_features=768, bias=True)\n",
       "          (output_dropout): Dropout(p=0.1, inplace=False)\n",
       "        )\n",
       "        (final_layer_norm): LayerNorm((768,), eps=1e-05, elementwise_affine=True)\n",
       "      )\n",
       "    )\n",
       "  )\n",
       ")"
      ]
     },
     "execution_count": 18,
     "metadata": {},
     "output_type": "execute_result"
    }
   ],
   "source": [
    "hubert_model_path = \"TencentGameMate/chinese-hubert-base\"\n",
    "feature_extractor = Wav2Vec2FeatureExtractor.from_pretrained(hubert_model_path)\n",
    "hubert_model = HubertModel.from_pretrained(hubert_model_path)\n",
    "\n",
    "hubert_model = hubert_model.cuda()\n",
    "hubert_model.eval()"
   ]
  },
  {
   "cell_type": "code",
   "execution_count": 19,
   "metadata": {},
   "outputs": [
    {
     "data": {
      "text/plain": [
       "{'file_name': '008002',\n",
       " 'line_text': '喜欢把李敖的书插在牛仔裤的前面？',\n",
       " 'gt_py': 'xi3 huan1 ba2 li3 ao2 de5 shu1 cha1 zai4 niu2 zai3 ku4 de5 qian2 mian4',\n",
       " 'line_py': ['xi3',\n",
       "  'huan5',\n",
       "  'ba3',\n",
       "  'li3',\n",
       "  'ao2',\n",
       "  'de5',\n",
       "  'shu1',\n",
       "  'cha1',\n",
       "  'zai4',\n",
       "  'niu2',\n",
       "  'zai3',\n",
       "  'ku4',\n",
       "  'de5',\n",
       "  'qian2',\n",
       "  'mian4'],\n",
       " 'hetero_py': [['xi3'],\n",
       "  ['huan1'],\n",
       "  ['ba3', 'ba4'],\n",
       "  ['li3'],\n",
       "  ['ao2'],\n",
       "  ['de5', 'di2', 'di4'],\n",
       "  ['shu1'],\n",
       "  ['cha1'],\n",
       "  ['zai4'],\n",
       "  ['niu2'],\n",
       "  ['zi1', 'zi3', 'zai3'],\n",
       "  ['ku4'],\n",
       "  ['de5', 'di2', 'di4'],\n",
       "  ['qian2'],\n",
       "  ['mian4']],\n",
       " 'g2pm_py': ['xi3',\n",
       "  'huan1',\n",
       "  'ba3',\n",
       "  'li3',\n",
       "  'ao2',\n",
       "  'de5',\n",
       "  'shu1',\n",
       "  'cha1',\n",
       "  'zai4',\n",
       "  'niu2',\n",
       "  'zai3',\n",
       "  'ku4',\n",
       "  'de5',\n",
       "  'qian2',\n",
       "  'mian4']}"
      ]
     },
     "execution_count": 19,
     "metadata": {},
     "output_type": "execute_result"
    }
   ],
   "source": [
    "metadata = json.load(open('test_py_list.json'))\n",
    "\n",
    "metadata[0]"
   ]
  },
  {
   "cell_type": "code",
   "execution_count": 20,
   "metadata": {},
   "outputs": [
    {
     "data": {
      "text/plain": [
       "['008002', '008003']"
      ]
     },
     "execution_count": 20,
     "metadata": {},
     "output_type": "execute_result"
    }
   ],
   "source": [
    "file_keys = [m['file_name'] for m in metadata]\n",
    "\n",
    "file_keys[:2]"
   ]
  },
  {
   "cell_type": "code",
   "execution_count": 21,
   "metadata": {},
   "outputs": [
    {
     "name": "stdout",
     "output_type": "stream",
     "text": [
      "008493.TextGrid <Interval text=\"shuai4\" xmin=1.77 xmax=1.79>\n",
      "008233.TextGrid <Interval text=\"hang2\" xmin=1.16 xmax=1.18>\n",
      "008945.TextGrid <Interval text=\"lo5\" xmin=4.72 xmax=4.74>\n",
      "008926.TextGrid <Interval text=\"hai2\" xmin=4.67 xmax=4.69>\n",
      "009987.TextGrid <Interval text=\"mei3\" xmin=0.83 xmax=0.85>\n",
      "009344.TextGrid <Interval text=\"suo1\" xmin=1.0 xmax=1.02>\n",
      "008557.TextGrid <Interval text=\"he2\" xmin=3.44 xmax=3.46>\n",
      "008914.TextGrid <Interval text=\"pu3\" xmin=0.73 xmax=0.75>\n",
      "009708.TextGrid <Interval text=\"di4\" xmin=3.14 xmax=3.16>\n",
      "009757.TextGrid <Interval text=\"leng2\" xmin=2.36 xmax=2.38>\n",
      "009860.TextGrid <Interval text=\"a1\" xmin=1.47 xmax=1.48>\n",
      "009860.TextGrid <Interval text=\"a1\" xmin=5.01 xmax=5.02>\n",
      "009199.TextGrid <Interval text=\"ao3\" xmin=3.32 xmax=3.33>\n",
      "009649.TextGrid <Interval text=\"mu3\" xmin=1.01 xmax=1.03>\n",
      "009841.TextGrid <Interval text=\"di4\" xmin=1.99 xmax=2.01>\n"
     ]
    }
   ],
   "source": [
    "\n",
    "grid_dir = './biaobei_aligned'\n",
    "grids = os.listdir(grid_dir)\n",
    "\n",
    "py_list = []\n",
    "\n",
    "for g in grids:\n",
    "    file_name = g.split('.')[0]\n",
    "    if file_name not in file_keys:\n",
    "        continue\n",
    "    grid = TextGrid(os.path.join(grid_dir, g))    \n",
    "    pds = []\n",
    "    for w in grid['words']:\n",
    "        # if len(w.text) > 0 and w.xmax - w.xmin > 0.7:\n",
    "        #     print(g, w.text, w.xmin, w.xmax)            \n",
    "        if len(w.text) > 0 and w.xmax - w.xmin > 0.03 and w.xmax - w.xmin < 0.6:\n",
    "            pds.append((w.text, w.xmin, w.xmax))\n",
    "        elif w.text != '':\n",
    "            print(g, w)\n",
    "    py_list.append({\n",
    "        'file_name': file_name,\n",
    "        'pinyin_clips': pds\n",
    "    })\n",
    "    "
   ]
  },
  {
   "cell_type": "code",
   "execution_count": 22,
   "metadata": {},
   "outputs": [],
   "source": [
    "audio_py_pairs = {}\n",
    "for p in py_list:\n",
    "    file_path = 'lab_wav_pairs/' +  p['file_name'] + '.wav'\n",
    "    for pc in p['pinyin_clips']:\n",
    "        if file_path in audio_py_pairs:\n",
    "            audio_py_pairs[file_path].append((pc[0], pc[1], pc[2]))\n",
    "        else:\n",
    "            audio_py_pairs[file_path] = [(pc[0], pc[1], pc[2])]"
   ]
  },
  {
   "cell_type": "code",
   "execution_count": 23,
   "metadata": {},
   "outputs": [
    {
     "data": {
      "text/plain": [
       "dict_keys(['lab_wav_pairs/008002.wav', 'lab_wav_pairs/008003.wav', 'lab_wav_pairs/008004.wav', 'lab_wav_pairs/008005.wav', 'lab_wav_pairs/008006.wav', 'lab_wav_pairs/008007.wav', 'lab_wav_pairs/008008.wav', 'lab_wav_pairs/008009.wav', 'lab_wav_pairs/008010.wav', 'lab_wav_pairs/008011.wav', 'lab_wav_pairs/008012.wav', 'lab_wav_pairs/008013.wav', 'lab_wav_pairs/008014.wav', 'lab_wav_pairs/008015.wav', 'lab_wav_pairs/008016.wav', 'lab_wav_pairs/008017.wav', 'lab_wav_pairs/008018.wav', 'lab_wav_pairs/008019.wav', 'lab_wav_pairs/008020.wav', 'lab_wav_pairs/008021.wav', 'lab_wav_pairs/008022.wav', 'lab_wav_pairs/008023.wav', 'lab_wav_pairs/008024.wav', 'lab_wav_pairs/008025.wav', 'lab_wav_pairs/008027.wav', 'lab_wav_pairs/008028.wav', 'lab_wav_pairs/008029.wav', 'lab_wav_pairs/008030.wav', 'lab_wav_pairs/008031.wav', 'lab_wav_pairs/008032.wav', 'lab_wav_pairs/008033.wav', 'lab_wav_pairs/008034.wav', 'lab_wav_pairs/008035.wav', 'lab_wav_pairs/008036.wav', 'lab_wav_pairs/008037.wav', 'lab_wav_pairs/008038.wav', 'lab_wav_pairs/008039.wav', 'lab_wav_pairs/008040.wav', 'lab_wav_pairs/008041.wav', 'lab_wav_pairs/008042.wav', 'lab_wav_pairs/008043.wav', 'lab_wav_pairs/008044.wav', 'lab_wav_pairs/008045.wav', 'lab_wav_pairs/008046.wav', 'lab_wav_pairs/008047.wav', 'lab_wav_pairs/008048.wav', 'lab_wav_pairs/008049.wav', 'lab_wav_pairs/008050.wav', 'lab_wav_pairs/008051.wav', 'lab_wav_pairs/008052.wav', 'lab_wav_pairs/008053.wav', 'lab_wav_pairs/008054.wav', 'lab_wav_pairs/008055.wav', 'lab_wav_pairs/008056.wav', 'lab_wav_pairs/008057.wav', 'lab_wav_pairs/008058.wav', 'lab_wav_pairs/008060.wav', 'lab_wav_pairs/008061.wav', 'lab_wav_pairs/008062.wav', 'lab_wav_pairs/008063.wav', 'lab_wav_pairs/008064.wav', 'lab_wav_pairs/008065.wav', 'lab_wav_pairs/008066.wav', 'lab_wav_pairs/008068.wav', 'lab_wav_pairs/008069.wav', 'lab_wav_pairs/008070.wav', 'lab_wav_pairs/008071.wav', 'lab_wav_pairs/008073.wav', 'lab_wav_pairs/008074.wav', 'lab_wav_pairs/008075.wav', 'lab_wav_pairs/008076.wav', 'lab_wav_pairs/008077.wav', 'lab_wav_pairs/008078.wav', 'lab_wav_pairs/008079.wav', 'lab_wav_pairs/008080.wav', 'lab_wav_pairs/008081.wav', 'lab_wav_pairs/008082.wav', 'lab_wav_pairs/008083.wav', 'lab_wav_pairs/008084.wav', 'lab_wav_pairs/008085.wav', 'lab_wav_pairs/008086.wav', 'lab_wav_pairs/008087.wav', 'lab_wav_pairs/008088.wav', 'lab_wav_pairs/008089.wav', 'lab_wav_pairs/008090.wav', 'lab_wav_pairs/008092.wav', 'lab_wav_pairs/008093.wav', 'lab_wav_pairs/008094.wav', 'lab_wav_pairs/008095.wav', 'lab_wav_pairs/008096.wav', 'lab_wav_pairs/008097.wav', 'lab_wav_pairs/008098.wav', 'lab_wav_pairs/008099.wav', 'lab_wav_pairs/008100.wav', 'lab_wav_pairs/008101.wav', 'lab_wav_pairs/008102.wav', 'lab_wav_pairs/008103.wav', 'lab_wav_pairs/008104.wav', 'lab_wav_pairs/008105.wav', 'lab_wav_pairs/008106.wav', 'lab_wav_pairs/008107.wav', 'lab_wav_pairs/008108.wav', 'lab_wav_pairs/008109.wav', 'lab_wav_pairs/008110.wav', 'lab_wav_pairs/008111.wav', 'lab_wav_pairs/008112.wav', 'lab_wav_pairs/008113.wav', 'lab_wav_pairs/008114.wav', 'lab_wav_pairs/008115.wav', 'lab_wav_pairs/008116.wav', 'lab_wav_pairs/008117.wav', 'lab_wav_pairs/008118.wav', 'lab_wav_pairs/008119.wav', 'lab_wav_pairs/008120.wav', 'lab_wav_pairs/008121.wav', 'lab_wav_pairs/008122.wav', 'lab_wav_pairs/008123.wav', 'lab_wav_pairs/008124.wav', 'lab_wav_pairs/008125.wav', 'lab_wav_pairs/008126.wav', 'lab_wav_pairs/008127.wav', 'lab_wav_pairs/008128.wav', 'lab_wav_pairs/008129.wav', 'lab_wav_pairs/008130.wav', 'lab_wav_pairs/008131.wav', 'lab_wav_pairs/008132.wav', 'lab_wav_pairs/008133.wav', 'lab_wav_pairs/008134.wav', 'lab_wav_pairs/008135.wav', 'lab_wav_pairs/008136.wav', 'lab_wav_pairs/008137.wav', 'lab_wav_pairs/008138.wav', 'lab_wav_pairs/008139.wav', 'lab_wav_pairs/008140.wav', 'lab_wav_pairs/008141.wav', 'lab_wav_pairs/008142.wav', 'lab_wav_pairs/008143.wav', 'lab_wav_pairs/008144.wav', 'lab_wav_pairs/008145.wav', 'lab_wav_pairs/008146.wav', 'lab_wav_pairs/008147.wav', 'lab_wav_pairs/008148.wav', 'lab_wav_pairs/008149.wav', 'lab_wav_pairs/008150.wav', 'lab_wav_pairs/008151.wav', 'lab_wav_pairs/008152.wav', 'lab_wav_pairs/008153.wav', 'lab_wav_pairs/008154.wav', 'lab_wav_pairs/008156.wav', 'lab_wav_pairs/008157.wav', 'lab_wav_pairs/008158.wav', 'lab_wav_pairs/008159.wav', 'lab_wav_pairs/008160.wav', 'lab_wav_pairs/008161.wav', 'lab_wav_pairs/008162.wav', 'lab_wav_pairs/008163.wav', 'lab_wav_pairs/008164.wav', 'lab_wav_pairs/008165.wav', 'lab_wav_pairs/008166.wav', 'lab_wav_pairs/008167.wav', 'lab_wav_pairs/008168.wav', 'lab_wav_pairs/008169.wav', 'lab_wav_pairs/008170.wav', 'lab_wav_pairs/008171.wav', 'lab_wav_pairs/008172.wav', 'lab_wav_pairs/008173.wav', 'lab_wav_pairs/008175.wav', 'lab_wav_pairs/008176.wav', 'lab_wav_pairs/008177.wav', 'lab_wav_pairs/008178.wav', 'lab_wav_pairs/008179.wav', 'lab_wav_pairs/008180.wav', 'lab_wav_pairs/008181.wav', 'lab_wav_pairs/008182.wav', 'lab_wav_pairs/008183.wav', 'lab_wav_pairs/008184.wav', 'lab_wav_pairs/008185.wav', 'lab_wav_pairs/008186.wav', 'lab_wav_pairs/008187.wav', 'lab_wav_pairs/008188.wav', 'lab_wav_pairs/008189.wav', 'lab_wav_pairs/008190.wav', 'lab_wav_pairs/008191.wav', 'lab_wav_pairs/008192.wav', 'lab_wav_pairs/008193.wav', 'lab_wav_pairs/008194.wav', 'lab_wav_pairs/008195.wav', 'lab_wav_pairs/008196.wav', 'lab_wav_pairs/008197.wav', 'lab_wav_pairs/008198.wav', 'lab_wav_pairs/008199.wav', 'lab_wav_pairs/008200.wav', 'lab_wav_pairs/008201.wav', 'lab_wav_pairs/008202.wav', 'lab_wav_pairs/008203.wav', 'lab_wav_pairs/008204.wav', 'lab_wav_pairs/008205.wav', 'lab_wav_pairs/008206.wav', 'lab_wav_pairs/008207.wav', 'lab_wav_pairs/008208.wav', 'lab_wav_pairs/008209.wav', 'lab_wav_pairs/008210.wav', 'lab_wav_pairs/008211.wav', 'lab_wav_pairs/008212.wav', 'lab_wav_pairs/008213.wav', 'lab_wav_pairs/008214.wav', 'lab_wav_pairs/008215.wav', 'lab_wav_pairs/008216.wav', 'lab_wav_pairs/008217.wav', 'lab_wav_pairs/008218.wav', 'lab_wav_pairs/008219.wav', 'lab_wav_pairs/008220.wav', 'lab_wav_pairs/008221.wav', 'lab_wav_pairs/008222.wav', 'lab_wav_pairs/008223.wav', 'lab_wav_pairs/008224.wav', 'lab_wav_pairs/008225.wav', 'lab_wav_pairs/008226.wav', 'lab_wav_pairs/008227.wav', 'lab_wav_pairs/008228.wav', 'lab_wav_pairs/008229.wav', 'lab_wav_pairs/008230.wav', 'lab_wav_pairs/008231.wav', 'lab_wav_pairs/008232.wav', 'lab_wav_pairs/008233.wav', 'lab_wav_pairs/008234.wav', 'lab_wav_pairs/008235.wav', 'lab_wav_pairs/008236.wav', 'lab_wav_pairs/008237.wav', 'lab_wav_pairs/008238.wav', 'lab_wav_pairs/008239.wav', 'lab_wav_pairs/008241.wav', 'lab_wav_pairs/008242.wav', 'lab_wav_pairs/008243.wav', 'lab_wav_pairs/008244.wav', 'lab_wav_pairs/008245.wav', 'lab_wav_pairs/008246.wav', 'lab_wav_pairs/008247.wav', 'lab_wav_pairs/008248.wav', 'lab_wav_pairs/008249.wav', 'lab_wav_pairs/008250.wav', 'lab_wav_pairs/008251.wav', 'lab_wav_pairs/008252.wav', 'lab_wav_pairs/008253.wav', 'lab_wav_pairs/008254.wav', 'lab_wav_pairs/008255.wav', 'lab_wav_pairs/008256.wav', 'lab_wav_pairs/008257.wav', 'lab_wav_pairs/008258.wav', 'lab_wav_pairs/008259.wav', 'lab_wav_pairs/008260.wav', 'lab_wav_pairs/008261.wav', 'lab_wav_pairs/008262.wav', 'lab_wav_pairs/008263.wav', 'lab_wav_pairs/008264.wav', 'lab_wav_pairs/008265.wav', 'lab_wav_pairs/008266.wav', 'lab_wav_pairs/008267.wav', 'lab_wav_pairs/008268.wav', 'lab_wav_pairs/008269.wav', 'lab_wav_pairs/008270.wav', 'lab_wav_pairs/008271.wav', 'lab_wav_pairs/008272.wav', 'lab_wav_pairs/008273.wav', 'lab_wav_pairs/008274.wav', 'lab_wav_pairs/008275.wav', 'lab_wav_pairs/008276.wav', 'lab_wav_pairs/008277.wav', 'lab_wav_pairs/008278.wav', 'lab_wav_pairs/008279.wav', 'lab_wav_pairs/008280.wav', 'lab_wav_pairs/008281.wav', 'lab_wav_pairs/008282.wav', 'lab_wav_pairs/008283.wav', 'lab_wav_pairs/008284.wav', 'lab_wav_pairs/008285.wav', 'lab_wav_pairs/008286.wav', 'lab_wav_pairs/008287.wav', 'lab_wav_pairs/008288.wav', 'lab_wav_pairs/008289.wav', 'lab_wav_pairs/008290.wav', 'lab_wav_pairs/008291.wav', 'lab_wav_pairs/008292.wav', 'lab_wav_pairs/008293.wav', 'lab_wav_pairs/008294.wav', 'lab_wav_pairs/008295.wav', 'lab_wav_pairs/008296.wav', 'lab_wav_pairs/008297.wav', 'lab_wav_pairs/008298.wav', 'lab_wav_pairs/008299.wav', 'lab_wav_pairs/008300.wav', 'lab_wav_pairs/008301.wav', 'lab_wav_pairs/008302.wav', 'lab_wav_pairs/008303.wav', 'lab_wav_pairs/008304.wav', 'lab_wav_pairs/008305.wav', 'lab_wav_pairs/008306.wav', 'lab_wav_pairs/008307.wav', 'lab_wav_pairs/008308.wav', 'lab_wav_pairs/008309.wav', 'lab_wav_pairs/008310.wav', 'lab_wav_pairs/008311.wav', 'lab_wav_pairs/008312.wav', 'lab_wav_pairs/008313.wav', 'lab_wav_pairs/008314.wav', 'lab_wav_pairs/008315.wav', 'lab_wav_pairs/008316.wav', 'lab_wav_pairs/008317.wav', 'lab_wav_pairs/008318.wav', 'lab_wav_pairs/008319.wav', 'lab_wav_pairs/008321.wav', 'lab_wav_pairs/008322.wav', 'lab_wav_pairs/008323.wav', 'lab_wav_pairs/008324.wav', 'lab_wav_pairs/008325.wav', 'lab_wav_pairs/008326.wav', 'lab_wav_pairs/008327.wav', 'lab_wav_pairs/008328.wav', 'lab_wav_pairs/008329.wav', 'lab_wav_pairs/008330.wav', 'lab_wav_pairs/008331.wav', 'lab_wav_pairs/008332.wav', 'lab_wav_pairs/008333.wav', 'lab_wav_pairs/008334.wav', 'lab_wav_pairs/008335.wav', 'lab_wav_pairs/008336.wav', 'lab_wav_pairs/008337.wav', 'lab_wav_pairs/008338.wav', 'lab_wav_pairs/008339.wav', 'lab_wav_pairs/008341.wav', 'lab_wav_pairs/008342.wav', 'lab_wav_pairs/008343.wav', 'lab_wav_pairs/008344.wav', 'lab_wav_pairs/008345.wav', 'lab_wav_pairs/008346.wav', 'lab_wav_pairs/008347.wav', 'lab_wav_pairs/008348.wav', 'lab_wav_pairs/008349.wav', 'lab_wav_pairs/008350.wav', 'lab_wav_pairs/008351.wav', 'lab_wav_pairs/008352.wav', 'lab_wav_pairs/008353.wav', 'lab_wav_pairs/008354.wav', 'lab_wav_pairs/008355.wav', 'lab_wav_pairs/008356.wav', 'lab_wav_pairs/008357.wav', 'lab_wav_pairs/008358.wav', 'lab_wav_pairs/008359.wav', 'lab_wav_pairs/008360.wav', 'lab_wav_pairs/008361.wav', 'lab_wav_pairs/008362.wav', 'lab_wav_pairs/008363.wav', 'lab_wav_pairs/008364.wav', 'lab_wav_pairs/008365.wav', 'lab_wav_pairs/008366.wav', 'lab_wav_pairs/008367.wav', 'lab_wav_pairs/008368.wav', 'lab_wav_pairs/008369.wav', 'lab_wav_pairs/008370.wav', 'lab_wav_pairs/008371.wav', 'lab_wav_pairs/008373.wav', 'lab_wav_pairs/008374.wav', 'lab_wav_pairs/008375.wav', 'lab_wav_pairs/008376.wav', 'lab_wav_pairs/008377.wav', 'lab_wav_pairs/008378.wav', 'lab_wav_pairs/008379.wav', 'lab_wav_pairs/008380.wav', 'lab_wav_pairs/008381.wav', 'lab_wav_pairs/008382.wav', 'lab_wav_pairs/008383.wav', 'lab_wav_pairs/008384.wav', 'lab_wav_pairs/008385.wav', 'lab_wav_pairs/008386.wav', 'lab_wav_pairs/008388.wav', 'lab_wav_pairs/008389.wav', 'lab_wav_pairs/008391.wav', 'lab_wav_pairs/008392.wav', 'lab_wav_pairs/008393.wav', 'lab_wav_pairs/008394.wav', 'lab_wav_pairs/008395.wav', 'lab_wav_pairs/008396.wav', 'lab_wav_pairs/008397.wav', 'lab_wav_pairs/008399.wav', 'lab_wav_pairs/008400.wav', 'lab_wav_pairs/008401.wav', 'lab_wav_pairs/008402.wav', 'lab_wav_pairs/008403.wav', 'lab_wav_pairs/008405.wav', 'lab_wav_pairs/008406.wav', 'lab_wav_pairs/008407.wav', 'lab_wav_pairs/008409.wav', 'lab_wav_pairs/008410.wav', 'lab_wav_pairs/008411.wav', 'lab_wav_pairs/008412.wav', 'lab_wav_pairs/008413.wav', 'lab_wav_pairs/008414.wav', 'lab_wav_pairs/008415.wav', 'lab_wav_pairs/008416.wav', 'lab_wav_pairs/008417.wav', 'lab_wav_pairs/008418.wav', 'lab_wav_pairs/008419.wav', 'lab_wav_pairs/008420.wav', 'lab_wav_pairs/008421.wav', 'lab_wav_pairs/008422.wav', 'lab_wav_pairs/008423.wav', 'lab_wav_pairs/008424.wav', 'lab_wav_pairs/008425.wav', 'lab_wav_pairs/008426.wav', 'lab_wav_pairs/008427.wav', 'lab_wav_pairs/008428.wav', 'lab_wav_pairs/008429.wav', 'lab_wav_pairs/008430.wav', 'lab_wav_pairs/008431.wav', 'lab_wav_pairs/008432.wav', 'lab_wav_pairs/008433.wav', 'lab_wav_pairs/008434.wav', 'lab_wav_pairs/008435.wav', 'lab_wav_pairs/008436.wav', 'lab_wav_pairs/008437.wav', 'lab_wav_pairs/008438.wav', 'lab_wav_pairs/008439.wav', 'lab_wav_pairs/008440.wav', 'lab_wav_pairs/008441.wav', 'lab_wav_pairs/008442.wav', 'lab_wav_pairs/008443.wav', 'lab_wav_pairs/008444.wav', 'lab_wav_pairs/008445.wav', 'lab_wav_pairs/008446.wav', 'lab_wav_pairs/008447.wav', 'lab_wav_pairs/008448.wav', 'lab_wav_pairs/008449.wav', 'lab_wav_pairs/008450.wav', 'lab_wav_pairs/008451.wav', 'lab_wav_pairs/008452.wav', 'lab_wav_pairs/008453.wav', 'lab_wav_pairs/008454.wav', 'lab_wav_pairs/008455.wav', 'lab_wav_pairs/008456.wav', 'lab_wav_pairs/008457.wav', 'lab_wav_pairs/008458.wav', 'lab_wav_pairs/008459.wav', 'lab_wav_pairs/008460.wav', 'lab_wav_pairs/008461.wav', 'lab_wav_pairs/008462.wav', 'lab_wav_pairs/008463.wav', 'lab_wav_pairs/008464.wav', 'lab_wav_pairs/008465.wav', 'lab_wav_pairs/008466.wav', 'lab_wav_pairs/008467.wav', 'lab_wav_pairs/008468.wav', 'lab_wav_pairs/008469.wav', 'lab_wav_pairs/008470.wav', 'lab_wav_pairs/008471.wav', 'lab_wav_pairs/008472.wav', 'lab_wav_pairs/008473.wav', 'lab_wav_pairs/008474.wav', 'lab_wav_pairs/008475.wav', 'lab_wav_pairs/008476.wav', 'lab_wav_pairs/008477.wav', 'lab_wav_pairs/008478.wav', 'lab_wav_pairs/008479.wav', 'lab_wav_pairs/008480.wav', 'lab_wav_pairs/008481.wav', 'lab_wav_pairs/008482.wav', 'lab_wav_pairs/008483.wav', 'lab_wav_pairs/008484.wav', 'lab_wav_pairs/008485.wav', 'lab_wav_pairs/008486.wav', 'lab_wav_pairs/008487.wav', 'lab_wav_pairs/008488.wav', 'lab_wav_pairs/008489.wav', 'lab_wav_pairs/008490.wav', 'lab_wav_pairs/008491.wav', 'lab_wav_pairs/008492.wav', 'lab_wav_pairs/008493.wav', 'lab_wav_pairs/008494.wav', 'lab_wav_pairs/008495.wav', 'lab_wav_pairs/008496.wav', 'lab_wav_pairs/008497.wav', 'lab_wav_pairs/008498.wav', 'lab_wav_pairs/008499.wav', 'lab_wav_pairs/008500.wav', 'lab_wav_pairs/008501.wav', 'lab_wav_pairs/008502.wav', 'lab_wav_pairs/008503.wav', 'lab_wav_pairs/008504.wav', 'lab_wav_pairs/008505.wav', 'lab_wav_pairs/008506.wav', 'lab_wav_pairs/008507.wav', 'lab_wav_pairs/008508.wav', 'lab_wav_pairs/008509.wav', 'lab_wav_pairs/008510.wav', 'lab_wav_pairs/008511.wav', 'lab_wav_pairs/008512.wav', 'lab_wav_pairs/008513.wav', 'lab_wav_pairs/008514.wav', 'lab_wav_pairs/008515.wav', 'lab_wav_pairs/008516.wav', 'lab_wav_pairs/008517.wav', 'lab_wav_pairs/008519.wav', 'lab_wav_pairs/008520.wav', 'lab_wav_pairs/008521.wav', 'lab_wav_pairs/008522.wav', 'lab_wav_pairs/008523.wav', 'lab_wav_pairs/008524.wav', 'lab_wav_pairs/008525.wav', 'lab_wav_pairs/008526.wav', 'lab_wav_pairs/008527.wav', 'lab_wav_pairs/008528.wav', 'lab_wav_pairs/008529.wav', 'lab_wav_pairs/008531.wav', 'lab_wav_pairs/008532.wav', 'lab_wav_pairs/008533.wav', 'lab_wav_pairs/008534.wav', 'lab_wav_pairs/008535.wav', 'lab_wav_pairs/008536.wav', 'lab_wav_pairs/008537.wav', 'lab_wav_pairs/008538.wav', 'lab_wav_pairs/008539.wav', 'lab_wav_pairs/008540.wav', 'lab_wav_pairs/008541.wav', 'lab_wav_pairs/008542.wav', 'lab_wav_pairs/008543.wav', 'lab_wav_pairs/008544.wav', 'lab_wav_pairs/008545.wav', 'lab_wav_pairs/008546.wav', 'lab_wav_pairs/008547.wav', 'lab_wav_pairs/008548.wav', 'lab_wav_pairs/008549.wav', 'lab_wav_pairs/008550.wav', 'lab_wav_pairs/008551.wav', 'lab_wav_pairs/008552.wav', 'lab_wav_pairs/008553.wav', 'lab_wav_pairs/008555.wav', 'lab_wav_pairs/008556.wav', 'lab_wav_pairs/008557.wav', 'lab_wav_pairs/008558.wav', 'lab_wav_pairs/008559.wav', 'lab_wav_pairs/008560.wav', 'lab_wav_pairs/008561.wav', 'lab_wav_pairs/008562.wav', 'lab_wav_pairs/008563.wav', 'lab_wav_pairs/008564.wav', 'lab_wav_pairs/008565.wav', 'lab_wav_pairs/008566.wav', 'lab_wav_pairs/008567.wav', 'lab_wav_pairs/008568.wav', 'lab_wav_pairs/008569.wav', 'lab_wav_pairs/008570.wav', 'lab_wav_pairs/008571.wav', 'lab_wav_pairs/008572.wav', 'lab_wav_pairs/008573.wav', 'lab_wav_pairs/008574.wav', 'lab_wav_pairs/008575.wav', 'lab_wav_pairs/008576.wav', 'lab_wav_pairs/008577.wav', 'lab_wav_pairs/008578.wav', 'lab_wav_pairs/008579.wav', 'lab_wav_pairs/008580.wav', 'lab_wav_pairs/008581.wav', 'lab_wav_pairs/008582.wav', 'lab_wav_pairs/008583.wav', 'lab_wav_pairs/008584.wav', 'lab_wav_pairs/008585.wav', 'lab_wav_pairs/008586.wav', 'lab_wav_pairs/008587.wav', 'lab_wav_pairs/008588.wav', 'lab_wav_pairs/008589.wav', 'lab_wav_pairs/008590.wav', 'lab_wav_pairs/008591.wav', 'lab_wav_pairs/008592.wav', 'lab_wav_pairs/008593.wav', 'lab_wav_pairs/008594.wav', 'lab_wav_pairs/008595.wav', 'lab_wav_pairs/008596.wav', 'lab_wav_pairs/008597.wav', 'lab_wav_pairs/008598.wav', 'lab_wav_pairs/008599.wav', 'lab_wav_pairs/008600.wav', 'lab_wav_pairs/008601.wav', 'lab_wav_pairs/008602.wav', 'lab_wav_pairs/008603.wav', 'lab_wav_pairs/008604.wav', 'lab_wav_pairs/008605.wav', 'lab_wav_pairs/008606.wav', 'lab_wav_pairs/008607.wav', 'lab_wav_pairs/008608.wav', 'lab_wav_pairs/008610.wav', 'lab_wav_pairs/008611.wav', 'lab_wav_pairs/008612.wav', 'lab_wav_pairs/008613.wav', 'lab_wav_pairs/008614.wav', 'lab_wav_pairs/008615.wav', 'lab_wav_pairs/008616.wav', 'lab_wav_pairs/008617.wav', 'lab_wav_pairs/008618.wav', 'lab_wav_pairs/008619.wav', 'lab_wav_pairs/008620.wav', 'lab_wav_pairs/008621.wav', 'lab_wav_pairs/008622.wav', 'lab_wav_pairs/008623.wav', 'lab_wav_pairs/008624.wav', 'lab_wav_pairs/008625.wav', 'lab_wav_pairs/008626.wav', 'lab_wav_pairs/008627.wav', 'lab_wav_pairs/008628.wav', 'lab_wav_pairs/008629.wav', 'lab_wav_pairs/008630.wav', 'lab_wav_pairs/008631.wav', 'lab_wav_pairs/008632.wav', 'lab_wav_pairs/008633.wav', 'lab_wav_pairs/008634.wav', 'lab_wav_pairs/008635.wav', 'lab_wav_pairs/008636.wav', 'lab_wav_pairs/008637.wav', 'lab_wav_pairs/008639.wav', 'lab_wav_pairs/008640.wav', 'lab_wav_pairs/008641.wav', 'lab_wav_pairs/008642.wav', 'lab_wav_pairs/008643.wav', 'lab_wav_pairs/008644.wav', 'lab_wav_pairs/008645.wav', 'lab_wav_pairs/008646.wav', 'lab_wav_pairs/008647.wav', 'lab_wav_pairs/008648.wav', 'lab_wav_pairs/008649.wav', 'lab_wav_pairs/008650.wav', 'lab_wav_pairs/008651.wav', 'lab_wav_pairs/008652.wav', 'lab_wav_pairs/008653.wav', 'lab_wav_pairs/008654.wav', 'lab_wav_pairs/008655.wav', 'lab_wav_pairs/008656.wav', 'lab_wav_pairs/008657.wav', 'lab_wav_pairs/008658.wav', 'lab_wav_pairs/008659.wav', 'lab_wav_pairs/008660.wav', 'lab_wav_pairs/008661.wav', 'lab_wav_pairs/008662.wav', 'lab_wav_pairs/008663.wav', 'lab_wav_pairs/008664.wav', 'lab_wav_pairs/008665.wav', 'lab_wav_pairs/008666.wav', 'lab_wav_pairs/008667.wav', 'lab_wav_pairs/008668.wav', 'lab_wav_pairs/008669.wav', 'lab_wav_pairs/008670.wav', 'lab_wav_pairs/008671.wav', 'lab_wav_pairs/008672.wav', 'lab_wav_pairs/008673.wav', 'lab_wav_pairs/008674.wav', 'lab_wav_pairs/008675.wav', 'lab_wav_pairs/008676.wav', 'lab_wav_pairs/008677.wav', 'lab_wav_pairs/008678.wav', 'lab_wav_pairs/008679.wav', 'lab_wav_pairs/008680.wav', 'lab_wav_pairs/008681.wav', 'lab_wav_pairs/008682.wav', 'lab_wav_pairs/008683.wav', 'lab_wav_pairs/008684.wav', 'lab_wav_pairs/008685.wav', 'lab_wav_pairs/008686.wav', 'lab_wav_pairs/008687.wav', 'lab_wav_pairs/008688.wav', 'lab_wav_pairs/008689.wav', 'lab_wav_pairs/008690.wav', 'lab_wav_pairs/008691.wav', 'lab_wav_pairs/008692.wav', 'lab_wav_pairs/008693.wav', 'lab_wav_pairs/008694.wav', 'lab_wav_pairs/008695.wav', 'lab_wav_pairs/008696.wav', 'lab_wav_pairs/008697.wav', 'lab_wav_pairs/008698.wav', 'lab_wav_pairs/008699.wav', 'lab_wav_pairs/008700.wav', 'lab_wav_pairs/008701.wav', 'lab_wav_pairs/008702.wav', 'lab_wav_pairs/008703.wav', 'lab_wav_pairs/008704.wav', 'lab_wav_pairs/008705.wav', 'lab_wav_pairs/008706.wav', 'lab_wav_pairs/008707.wav', 'lab_wav_pairs/008708.wav', 'lab_wav_pairs/008709.wav', 'lab_wav_pairs/008710.wav', 'lab_wav_pairs/008711.wav', 'lab_wav_pairs/008712.wav', 'lab_wav_pairs/008713.wav', 'lab_wav_pairs/008714.wav', 'lab_wav_pairs/008715.wav', 'lab_wav_pairs/008716.wav', 'lab_wav_pairs/008717.wav', 'lab_wav_pairs/008718.wav', 'lab_wav_pairs/008719.wav', 'lab_wav_pairs/008720.wav', 'lab_wav_pairs/008721.wav', 'lab_wav_pairs/008722.wav', 'lab_wav_pairs/008723.wav', 'lab_wav_pairs/008724.wav', 'lab_wav_pairs/008725.wav', 'lab_wav_pairs/008726.wav', 'lab_wav_pairs/008727.wav', 'lab_wav_pairs/008728.wav', 'lab_wav_pairs/008729.wav', 'lab_wav_pairs/008730.wav', 'lab_wav_pairs/008731.wav', 'lab_wav_pairs/008732.wav', 'lab_wav_pairs/008733.wav', 'lab_wav_pairs/008734.wav', 'lab_wav_pairs/008735.wav', 'lab_wav_pairs/008736.wav', 'lab_wav_pairs/008737.wav', 'lab_wav_pairs/008739.wav', 'lab_wav_pairs/008740.wav', 'lab_wav_pairs/008741.wav', 'lab_wav_pairs/008742.wav', 'lab_wav_pairs/008743.wav', 'lab_wav_pairs/008744.wav', 'lab_wav_pairs/008745.wav', 'lab_wav_pairs/008746.wav', 'lab_wav_pairs/008747.wav', 'lab_wav_pairs/008748.wav', 'lab_wav_pairs/008749.wav', 'lab_wav_pairs/008750.wav', 'lab_wav_pairs/008751.wav', 'lab_wav_pairs/008752.wav', 'lab_wav_pairs/008753.wav', 'lab_wav_pairs/008754.wav', 'lab_wav_pairs/008755.wav', 'lab_wav_pairs/008756.wav', 'lab_wav_pairs/008757.wav', 'lab_wav_pairs/008758.wav', 'lab_wav_pairs/008759.wav', 'lab_wav_pairs/008760.wav', 'lab_wav_pairs/008761.wav', 'lab_wav_pairs/008762.wav', 'lab_wav_pairs/008763.wav', 'lab_wav_pairs/008764.wav', 'lab_wav_pairs/008765.wav', 'lab_wav_pairs/008766.wav', 'lab_wav_pairs/008767.wav', 'lab_wav_pairs/008768.wav', 'lab_wav_pairs/008769.wav', 'lab_wav_pairs/008770.wav', 'lab_wav_pairs/008771.wav', 'lab_wav_pairs/008772.wav', 'lab_wav_pairs/008773.wav', 'lab_wav_pairs/008774.wav', 'lab_wav_pairs/008775.wav', 'lab_wav_pairs/008776.wav', 'lab_wav_pairs/008777.wav', 'lab_wav_pairs/008778.wav', 'lab_wav_pairs/008779.wav', 'lab_wav_pairs/008780.wav', 'lab_wav_pairs/008781.wav', 'lab_wav_pairs/008782.wav', 'lab_wav_pairs/008783.wav', 'lab_wav_pairs/008784.wav', 'lab_wav_pairs/008785.wav', 'lab_wav_pairs/008786.wav', 'lab_wav_pairs/008787.wav', 'lab_wav_pairs/008788.wav', 'lab_wav_pairs/008789.wav', 'lab_wav_pairs/008790.wav', 'lab_wav_pairs/008791.wav', 'lab_wav_pairs/008792.wav', 'lab_wav_pairs/008793.wav', 'lab_wav_pairs/008794.wav', 'lab_wav_pairs/008795.wav', 'lab_wav_pairs/008796.wav', 'lab_wav_pairs/008797.wav', 'lab_wav_pairs/008798.wav', 'lab_wav_pairs/008799.wav', 'lab_wav_pairs/008800.wav', 'lab_wav_pairs/008801.wav', 'lab_wav_pairs/008802.wav', 'lab_wav_pairs/008803.wav', 'lab_wav_pairs/008804.wav', 'lab_wav_pairs/008805.wav', 'lab_wav_pairs/008806.wav', 'lab_wav_pairs/008807.wav', 'lab_wav_pairs/008808.wav', 'lab_wav_pairs/008809.wav', 'lab_wav_pairs/008810.wav', 'lab_wav_pairs/008811.wav', 'lab_wav_pairs/008812.wav', 'lab_wav_pairs/008813.wav', 'lab_wav_pairs/008814.wav', 'lab_wav_pairs/008815.wav', 'lab_wav_pairs/008816.wav', 'lab_wav_pairs/008817.wav', 'lab_wav_pairs/008818.wav', 'lab_wav_pairs/008819.wav', 'lab_wav_pairs/008820.wav', 'lab_wav_pairs/008821.wav', 'lab_wav_pairs/008822.wav', 'lab_wav_pairs/008823.wav', 'lab_wav_pairs/008824.wav', 'lab_wav_pairs/008825.wav', 'lab_wav_pairs/008826.wav', 'lab_wav_pairs/008827.wav', 'lab_wav_pairs/008828.wav', 'lab_wav_pairs/008829.wav', 'lab_wav_pairs/008830.wav', 'lab_wav_pairs/008831.wav', 'lab_wav_pairs/008832.wav', 'lab_wav_pairs/008833.wav', 'lab_wav_pairs/008834.wav', 'lab_wav_pairs/008835.wav', 'lab_wav_pairs/008836.wav', 'lab_wav_pairs/008837.wav', 'lab_wav_pairs/008838.wav', 'lab_wav_pairs/008839.wav', 'lab_wav_pairs/008840.wav', 'lab_wav_pairs/008841.wav', 'lab_wav_pairs/008842.wav', 'lab_wav_pairs/008843.wav', 'lab_wav_pairs/008844.wav', 'lab_wav_pairs/008845.wav', 'lab_wav_pairs/008846.wav', 'lab_wav_pairs/008847.wav', 'lab_wav_pairs/008848.wav', 'lab_wav_pairs/008849.wav', 'lab_wav_pairs/008850.wav', 'lab_wav_pairs/008851.wav', 'lab_wav_pairs/008852.wav', 'lab_wav_pairs/008853.wav', 'lab_wav_pairs/008854.wav', 'lab_wav_pairs/008855.wav', 'lab_wav_pairs/008856.wav', 'lab_wav_pairs/008857.wav', 'lab_wav_pairs/008858.wav', 'lab_wav_pairs/008859.wav', 'lab_wav_pairs/008860.wav', 'lab_wav_pairs/008861.wav', 'lab_wav_pairs/008863.wav', 'lab_wav_pairs/008864.wav', 'lab_wav_pairs/008865.wav', 'lab_wav_pairs/008866.wav', 'lab_wav_pairs/008867.wav', 'lab_wav_pairs/008869.wav', 'lab_wav_pairs/008870.wav', 'lab_wav_pairs/008871.wav', 'lab_wav_pairs/008872.wav', 'lab_wav_pairs/008873.wav', 'lab_wav_pairs/008874.wav', 'lab_wav_pairs/008875.wav', 'lab_wav_pairs/008876.wav', 'lab_wav_pairs/008877.wav', 'lab_wav_pairs/008878.wav', 'lab_wav_pairs/008879.wav', 'lab_wav_pairs/008880.wav', 'lab_wav_pairs/008881.wav', 'lab_wav_pairs/008882.wav', 'lab_wav_pairs/008883.wav', 'lab_wav_pairs/008884.wav', 'lab_wav_pairs/008885.wav', 'lab_wav_pairs/008886.wav', 'lab_wav_pairs/008887.wav', 'lab_wav_pairs/008888.wav', 'lab_wav_pairs/008889.wav', 'lab_wav_pairs/008890.wav', 'lab_wav_pairs/008891.wav', 'lab_wav_pairs/008892.wav', 'lab_wav_pairs/008893.wav', 'lab_wav_pairs/008895.wav', 'lab_wav_pairs/008896.wav', 'lab_wav_pairs/008897.wav', 'lab_wav_pairs/008898.wav', 'lab_wav_pairs/008899.wav', 'lab_wav_pairs/008900.wav', 'lab_wav_pairs/008901.wav', 'lab_wav_pairs/008902.wav', 'lab_wav_pairs/008903.wav', 'lab_wav_pairs/008904.wav', 'lab_wav_pairs/008905.wav', 'lab_wav_pairs/008906.wav', 'lab_wav_pairs/008907.wav', 'lab_wav_pairs/008908.wav', 'lab_wav_pairs/008909.wav', 'lab_wav_pairs/008910.wav', 'lab_wav_pairs/008912.wav', 'lab_wav_pairs/008914.wav', 'lab_wav_pairs/008915.wav', 'lab_wav_pairs/008916.wav', 'lab_wav_pairs/008917.wav', 'lab_wav_pairs/008918.wav', 'lab_wav_pairs/008919.wav', 'lab_wav_pairs/008920.wav', 'lab_wav_pairs/008921.wav', 'lab_wav_pairs/008922.wav', 'lab_wav_pairs/008923.wav', 'lab_wav_pairs/008924.wav', 'lab_wav_pairs/008925.wav', 'lab_wav_pairs/008926.wav', 'lab_wav_pairs/008927.wav', 'lab_wav_pairs/008928.wav', 'lab_wav_pairs/008929.wav', 'lab_wav_pairs/008930.wav', 'lab_wav_pairs/008931.wav', 'lab_wav_pairs/008932.wav', 'lab_wav_pairs/008933.wav', 'lab_wav_pairs/008934.wav', 'lab_wav_pairs/008935.wav', 'lab_wav_pairs/008936.wav', 'lab_wav_pairs/008937.wav', 'lab_wav_pairs/008938.wav', 'lab_wav_pairs/008939.wav', 'lab_wav_pairs/008940.wav', 'lab_wav_pairs/008941.wav', 'lab_wav_pairs/008942.wav', 'lab_wav_pairs/008943.wav', 'lab_wav_pairs/008944.wav', 'lab_wav_pairs/008945.wav', 'lab_wav_pairs/008946.wav', 'lab_wav_pairs/008947.wav', 'lab_wav_pairs/008948.wav', 'lab_wav_pairs/008949.wav', 'lab_wav_pairs/008950.wav', 'lab_wav_pairs/008951.wav', 'lab_wav_pairs/008952.wav', 'lab_wav_pairs/008953.wav', 'lab_wav_pairs/008954.wav', 'lab_wav_pairs/008955.wav', 'lab_wav_pairs/008956.wav', 'lab_wav_pairs/008957.wav', 'lab_wav_pairs/008958.wav', 'lab_wav_pairs/008959.wav', 'lab_wav_pairs/008960.wav', 'lab_wav_pairs/008961.wav', 'lab_wav_pairs/008963.wav', 'lab_wav_pairs/008964.wav', 'lab_wav_pairs/008965.wav', 'lab_wav_pairs/008966.wav', 'lab_wav_pairs/008967.wav', 'lab_wav_pairs/008968.wav', 'lab_wav_pairs/008969.wav', 'lab_wav_pairs/008970.wav', 'lab_wav_pairs/008971.wav', 'lab_wav_pairs/008972.wav', 'lab_wav_pairs/008973.wav', 'lab_wav_pairs/008974.wav', 'lab_wav_pairs/008975.wav', 'lab_wav_pairs/008976.wav', 'lab_wav_pairs/008978.wav', 'lab_wav_pairs/008979.wav', 'lab_wav_pairs/008980.wav', 'lab_wav_pairs/008981.wav', 'lab_wav_pairs/008982.wav', 'lab_wav_pairs/008983.wav', 'lab_wav_pairs/008984.wav', 'lab_wav_pairs/008985.wav', 'lab_wav_pairs/008986.wav', 'lab_wav_pairs/008987.wav', 'lab_wav_pairs/008988.wav', 'lab_wav_pairs/008989.wav', 'lab_wav_pairs/008990.wav', 'lab_wav_pairs/008991.wav', 'lab_wav_pairs/008992.wav', 'lab_wav_pairs/008993.wav', 'lab_wav_pairs/008994.wav', 'lab_wav_pairs/008995.wav', 'lab_wav_pairs/008996.wav', 'lab_wav_pairs/008997.wav', 'lab_wav_pairs/008998.wav', 'lab_wav_pairs/008999.wav', 'lab_wav_pairs/009000.wav', 'lab_wav_pairs/009001.wav', 'lab_wav_pairs/009002.wav', 'lab_wav_pairs/009003.wav', 'lab_wav_pairs/009004.wav', 'lab_wav_pairs/009005.wav', 'lab_wav_pairs/009006.wav', 'lab_wav_pairs/009007.wav', 'lab_wav_pairs/009008.wav', 'lab_wav_pairs/009009.wav', 'lab_wav_pairs/009010.wav', 'lab_wav_pairs/009011.wav', 'lab_wav_pairs/009013.wav', 'lab_wav_pairs/009014.wav', 'lab_wav_pairs/009015.wav', 'lab_wav_pairs/009016.wav', 'lab_wav_pairs/009017.wav', 'lab_wav_pairs/009018.wav', 'lab_wav_pairs/009019.wav', 'lab_wav_pairs/009020.wav', 'lab_wav_pairs/009021.wav', 'lab_wav_pairs/009022.wav', 'lab_wav_pairs/009023.wav', 'lab_wav_pairs/009024.wav', 'lab_wav_pairs/009025.wav', 'lab_wav_pairs/009026.wav', 'lab_wav_pairs/009027.wav', 'lab_wav_pairs/009028.wav', 'lab_wav_pairs/009029.wav', 'lab_wav_pairs/009030.wav', 'lab_wav_pairs/009031.wav', 'lab_wav_pairs/009032.wav', 'lab_wav_pairs/009033.wav', 'lab_wav_pairs/009034.wav', 'lab_wav_pairs/009035.wav', 'lab_wav_pairs/009036.wav', 'lab_wav_pairs/009037.wav', 'lab_wav_pairs/009038.wav', 'lab_wav_pairs/009039.wav', 'lab_wav_pairs/009040.wav', 'lab_wav_pairs/009041.wav', 'lab_wav_pairs/009042.wav', 'lab_wav_pairs/009043.wav', 'lab_wav_pairs/009044.wav', 'lab_wav_pairs/009045.wav', 'lab_wav_pairs/009046.wav', 'lab_wav_pairs/009047.wav', 'lab_wav_pairs/009048.wav', 'lab_wav_pairs/009049.wav', 'lab_wav_pairs/009050.wav', 'lab_wav_pairs/009051.wav', 'lab_wav_pairs/009052.wav', 'lab_wav_pairs/009053.wav', 'lab_wav_pairs/009054.wav', 'lab_wav_pairs/009055.wav', 'lab_wav_pairs/009056.wav', 'lab_wav_pairs/009057.wav', 'lab_wav_pairs/009059.wav', 'lab_wav_pairs/009060.wav', 'lab_wav_pairs/009061.wav', 'lab_wav_pairs/009062.wav', 'lab_wav_pairs/009063.wav', 'lab_wav_pairs/009064.wav', 'lab_wav_pairs/009065.wav', 'lab_wav_pairs/009066.wav', 'lab_wav_pairs/009067.wav', 'lab_wav_pairs/009068.wav', 'lab_wav_pairs/009069.wav', 'lab_wav_pairs/009070.wav', 'lab_wav_pairs/009071.wav', 'lab_wav_pairs/009072.wav', 'lab_wav_pairs/009073.wav', 'lab_wav_pairs/009074.wav', 'lab_wav_pairs/009075.wav', 'lab_wav_pairs/009076.wav', 'lab_wav_pairs/009077.wav', 'lab_wav_pairs/009078.wav', 'lab_wav_pairs/009079.wav', 'lab_wav_pairs/009080.wav', 'lab_wav_pairs/009081.wav', 'lab_wav_pairs/009082.wav', 'lab_wav_pairs/009083.wav', 'lab_wav_pairs/009084.wav', 'lab_wav_pairs/009085.wav', 'lab_wav_pairs/009086.wav', 'lab_wav_pairs/009087.wav', 'lab_wav_pairs/009088.wav', 'lab_wav_pairs/009089.wav', 'lab_wav_pairs/009090.wav', 'lab_wav_pairs/009091.wav', 'lab_wav_pairs/009092.wav', 'lab_wav_pairs/009093.wav', 'lab_wav_pairs/009094.wav', 'lab_wav_pairs/009095.wav', 'lab_wav_pairs/009096.wav', 'lab_wav_pairs/009097.wav', 'lab_wav_pairs/009098.wav', 'lab_wav_pairs/009099.wav', 'lab_wav_pairs/009100.wav', 'lab_wav_pairs/009101.wav', 'lab_wav_pairs/009102.wav', 'lab_wav_pairs/009103.wav', 'lab_wav_pairs/009104.wav', 'lab_wav_pairs/009105.wav', 'lab_wav_pairs/009106.wav', 'lab_wav_pairs/009107.wav', 'lab_wav_pairs/009108.wav', 'lab_wav_pairs/009109.wav', 'lab_wav_pairs/009110.wav', 'lab_wav_pairs/009111.wav', 'lab_wav_pairs/009112.wav', 'lab_wav_pairs/009113.wav', 'lab_wav_pairs/009114.wav', 'lab_wav_pairs/009115.wav', 'lab_wav_pairs/009116.wav', 'lab_wav_pairs/009118.wav', 'lab_wav_pairs/009119.wav', 'lab_wav_pairs/009120.wav', 'lab_wav_pairs/009121.wav', 'lab_wav_pairs/009122.wav', 'lab_wav_pairs/009123.wav', 'lab_wav_pairs/009124.wav', 'lab_wav_pairs/009125.wav', 'lab_wav_pairs/009126.wav', 'lab_wav_pairs/009127.wav', 'lab_wav_pairs/009128.wav', 'lab_wav_pairs/009129.wav', 'lab_wav_pairs/009130.wav', 'lab_wav_pairs/009131.wav', 'lab_wav_pairs/009132.wav', 'lab_wav_pairs/009133.wav', 'lab_wav_pairs/009134.wav', 'lab_wav_pairs/009135.wav', 'lab_wav_pairs/009136.wav', 'lab_wav_pairs/009137.wav', 'lab_wav_pairs/009138.wav', 'lab_wav_pairs/009139.wav', 'lab_wav_pairs/009140.wav', 'lab_wav_pairs/009141.wav', 'lab_wav_pairs/009142.wav', 'lab_wav_pairs/009143.wav', 'lab_wav_pairs/009144.wav', 'lab_wav_pairs/009145.wav', 'lab_wav_pairs/009146.wav', 'lab_wav_pairs/009147.wav', 'lab_wav_pairs/009148.wav', 'lab_wav_pairs/009149.wav', 'lab_wav_pairs/009150.wav', 'lab_wav_pairs/009151.wav', 'lab_wav_pairs/009152.wav', 'lab_wav_pairs/009153.wav', 'lab_wav_pairs/009154.wav', 'lab_wav_pairs/009155.wav', 'lab_wav_pairs/009156.wav', 'lab_wav_pairs/009157.wav', 'lab_wav_pairs/009158.wav', 'lab_wav_pairs/009159.wav', 'lab_wav_pairs/009160.wav', 'lab_wav_pairs/009161.wav', 'lab_wav_pairs/009162.wav', 'lab_wav_pairs/009163.wav', 'lab_wav_pairs/009164.wav', 'lab_wav_pairs/009165.wav', 'lab_wav_pairs/009166.wav', 'lab_wav_pairs/009167.wav', 'lab_wav_pairs/009168.wav', 'lab_wav_pairs/009169.wav', 'lab_wav_pairs/009170.wav', 'lab_wav_pairs/009171.wav', 'lab_wav_pairs/009172.wav', 'lab_wav_pairs/009173.wav', 'lab_wav_pairs/009174.wav', 'lab_wav_pairs/009175.wav', 'lab_wav_pairs/009176.wav', 'lab_wav_pairs/009177.wav', 'lab_wav_pairs/009178.wav', 'lab_wav_pairs/009179.wav', 'lab_wav_pairs/009180.wav', 'lab_wav_pairs/009181.wav', 'lab_wav_pairs/009182.wav', 'lab_wav_pairs/009183.wav', 'lab_wav_pairs/009184.wav', 'lab_wav_pairs/009185.wav', 'lab_wav_pairs/009186.wav', 'lab_wav_pairs/009187.wav', 'lab_wav_pairs/009188.wav', 'lab_wav_pairs/009189.wav', 'lab_wav_pairs/009190.wav', 'lab_wav_pairs/009191.wav', 'lab_wav_pairs/009192.wav', 'lab_wav_pairs/009193.wav', 'lab_wav_pairs/009194.wav', 'lab_wav_pairs/009195.wav', 'lab_wav_pairs/009196.wav', 'lab_wav_pairs/009198.wav', 'lab_wav_pairs/009199.wav', 'lab_wav_pairs/009201.wav', 'lab_wav_pairs/009202.wav', 'lab_wav_pairs/009203.wav', 'lab_wav_pairs/009204.wav', 'lab_wav_pairs/009205.wav', 'lab_wav_pairs/009206.wav', 'lab_wav_pairs/009207.wav', 'lab_wav_pairs/009208.wav', 'lab_wav_pairs/009209.wav', 'lab_wav_pairs/009210.wav', 'lab_wav_pairs/009211.wav', 'lab_wav_pairs/009212.wav', 'lab_wav_pairs/009213.wav', 'lab_wav_pairs/009214.wav', 'lab_wav_pairs/009215.wav', 'lab_wav_pairs/009216.wav', 'lab_wav_pairs/009217.wav', 'lab_wav_pairs/009218.wav', 'lab_wav_pairs/009219.wav', 'lab_wav_pairs/009221.wav', 'lab_wav_pairs/009222.wav', 'lab_wav_pairs/009223.wav', 'lab_wav_pairs/009224.wav', 'lab_wav_pairs/009225.wav', 'lab_wav_pairs/009226.wav', 'lab_wav_pairs/009227.wav', 'lab_wav_pairs/009228.wav', 'lab_wav_pairs/009229.wav', 'lab_wav_pairs/009230.wav', 'lab_wav_pairs/009231.wav', 'lab_wav_pairs/009232.wav', 'lab_wav_pairs/009233.wav', 'lab_wav_pairs/009234.wav', 'lab_wav_pairs/009235.wav', 'lab_wav_pairs/009236.wav', 'lab_wav_pairs/009237.wav', 'lab_wav_pairs/009238.wav', 'lab_wav_pairs/009239.wav', 'lab_wav_pairs/009240.wav', 'lab_wav_pairs/009241.wav', 'lab_wav_pairs/009243.wav', 'lab_wav_pairs/009244.wav', 'lab_wav_pairs/009245.wav', 'lab_wav_pairs/009246.wav', 'lab_wav_pairs/009247.wav', 'lab_wav_pairs/009248.wav', 'lab_wav_pairs/009249.wav', 'lab_wav_pairs/009250.wav', 'lab_wav_pairs/009251.wav', 'lab_wav_pairs/009252.wav', 'lab_wav_pairs/009253.wav', 'lab_wav_pairs/009254.wav', 'lab_wav_pairs/009255.wav', 'lab_wav_pairs/009256.wav', 'lab_wav_pairs/009257.wav', 'lab_wav_pairs/009258.wav', 'lab_wav_pairs/009259.wav', 'lab_wav_pairs/009260.wav', 'lab_wav_pairs/009261.wav', 'lab_wav_pairs/009262.wav', 'lab_wav_pairs/009264.wav', 'lab_wav_pairs/009265.wav', 'lab_wav_pairs/009266.wav', 'lab_wav_pairs/009267.wav', 'lab_wav_pairs/009268.wav', 'lab_wav_pairs/009269.wav', 'lab_wav_pairs/009270.wav', 'lab_wav_pairs/009271.wav', 'lab_wav_pairs/009272.wav', 'lab_wav_pairs/009273.wav', 'lab_wav_pairs/009274.wav', 'lab_wav_pairs/009275.wav', 'lab_wav_pairs/009276.wav', 'lab_wav_pairs/009277.wav', 'lab_wav_pairs/009278.wav', 'lab_wav_pairs/009279.wav', 'lab_wav_pairs/009280.wav', 'lab_wav_pairs/009282.wav', 'lab_wav_pairs/009283.wav', 'lab_wav_pairs/009284.wav', 'lab_wav_pairs/009285.wav', 'lab_wav_pairs/009286.wav', 'lab_wav_pairs/009287.wav', 'lab_wav_pairs/009288.wav', 'lab_wav_pairs/009289.wav', 'lab_wav_pairs/009290.wav', 'lab_wav_pairs/009291.wav', 'lab_wav_pairs/009292.wav', 'lab_wav_pairs/009293.wav', 'lab_wav_pairs/009294.wav', 'lab_wav_pairs/009295.wav', 'lab_wav_pairs/009296.wav', 'lab_wav_pairs/009297.wav', 'lab_wav_pairs/009298.wav', 'lab_wav_pairs/009299.wav', 'lab_wav_pairs/009300.wav', 'lab_wav_pairs/009301.wav', 'lab_wav_pairs/009302.wav', 'lab_wav_pairs/009303.wav', 'lab_wav_pairs/009304.wav', 'lab_wav_pairs/009305.wav', 'lab_wav_pairs/009306.wav', 'lab_wav_pairs/009307.wav', 'lab_wav_pairs/009308.wav', 'lab_wav_pairs/009309.wav', 'lab_wav_pairs/009310.wav', 'lab_wav_pairs/009311.wav', 'lab_wav_pairs/009312.wav', 'lab_wav_pairs/009313.wav', 'lab_wav_pairs/009314.wav', 'lab_wav_pairs/009315.wav', 'lab_wav_pairs/009316.wav', 'lab_wav_pairs/009317.wav', 'lab_wav_pairs/009318.wav', 'lab_wav_pairs/009319.wav', 'lab_wav_pairs/009321.wav', 'lab_wav_pairs/009322.wav', 'lab_wav_pairs/009323.wav', 'lab_wav_pairs/009324.wav', 'lab_wav_pairs/009325.wav', 'lab_wav_pairs/009326.wav', 'lab_wav_pairs/009327.wav', 'lab_wav_pairs/009328.wav', 'lab_wav_pairs/009329.wav', 'lab_wav_pairs/009330.wav', 'lab_wav_pairs/009331.wav', 'lab_wav_pairs/009332.wav', 'lab_wav_pairs/009333.wav', 'lab_wav_pairs/009334.wav', 'lab_wav_pairs/009335.wav', 'lab_wav_pairs/009336.wav', 'lab_wav_pairs/009337.wav', 'lab_wav_pairs/009338.wav', 'lab_wav_pairs/009339.wav', 'lab_wav_pairs/009340.wav', 'lab_wav_pairs/009341.wav', 'lab_wav_pairs/009342.wav', 'lab_wav_pairs/009343.wav', 'lab_wav_pairs/009344.wav', 'lab_wav_pairs/009345.wav', 'lab_wav_pairs/009346.wav', 'lab_wav_pairs/009347.wav', 'lab_wav_pairs/009348.wav', 'lab_wav_pairs/009349.wav', 'lab_wav_pairs/009350.wav', 'lab_wav_pairs/009351.wav', 'lab_wav_pairs/009352.wav', 'lab_wav_pairs/009353.wav', 'lab_wav_pairs/009354.wav', 'lab_wav_pairs/009355.wav', 'lab_wav_pairs/009356.wav', 'lab_wav_pairs/009357.wav', 'lab_wav_pairs/009358.wav', 'lab_wav_pairs/009359.wav', 'lab_wav_pairs/009360.wav', 'lab_wav_pairs/009361.wav', 'lab_wav_pairs/009362.wav', 'lab_wav_pairs/009363.wav', 'lab_wav_pairs/009364.wav', 'lab_wav_pairs/009365.wav', 'lab_wav_pairs/009366.wav', 'lab_wav_pairs/009367.wav', 'lab_wav_pairs/009368.wav', 'lab_wav_pairs/009369.wav', 'lab_wav_pairs/009370.wav', 'lab_wav_pairs/009371.wav', 'lab_wav_pairs/009372.wav', 'lab_wav_pairs/009373.wav', 'lab_wav_pairs/009374.wav', 'lab_wav_pairs/009375.wav', 'lab_wav_pairs/009376.wav', 'lab_wav_pairs/009377.wav', 'lab_wav_pairs/009378.wav', 'lab_wav_pairs/009379.wav', 'lab_wav_pairs/009380.wav', 'lab_wav_pairs/009381.wav', 'lab_wav_pairs/009382.wav', 'lab_wav_pairs/009384.wav', 'lab_wav_pairs/009385.wav', 'lab_wav_pairs/009386.wav', 'lab_wav_pairs/009387.wav', 'lab_wav_pairs/009388.wav', 'lab_wav_pairs/009389.wav', 'lab_wav_pairs/009390.wav', 'lab_wav_pairs/009391.wav', 'lab_wav_pairs/009392.wav', 'lab_wav_pairs/009393.wav', 'lab_wav_pairs/009394.wav', 'lab_wav_pairs/009395.wav', 'lab_wav_pairs/009396.wav', 'lab_wav_pairs/009397.wav', 'lab_wav_pairs/009398.wav', 'lab_wav_pairs/009399.wav', 'lab_wav_pairs/009400.wav', 'lab_wav_pairs/009401.wav', 'lab_wav_pairs/009402.wav', 'lab_wav_pairs/009403.wav', 'lab_wav_pairs/009404.wav', 'lab_wav_pairs/009405.wav', 'lab_wav_pairs/009406.wav', 'lab_wav_pairs/009407.wav', 'lab_wav_pairs/009408.wav', 'lab_wav_pairs/009409.wav', 'lab_wav_pairs/009410.wav', 'lab_wav_pairs/009411.wav', 'lab_wav_pairs/009412.wav', 'lab_wav_pairs/009413.wav', 'lab_wav_pairs/009414.wav', 'lab_wav_pairs/009415.wav', 'lab_wav_pairs/009416.wav', 'lab_wav_pairs/009417.wav', 'lab_wav_pairs/009418.wav', 'lab_wav_pairs/009419.wav', 'lab_wav_pairs/009420.wav', 'lab_wav_pairs/009421.wav', 'lab_wav_pairs/009422.wav', 'lab_wav_pairs/009423.wav', 'lab_wav_pairs/009424.wav', 'lab_wav_pairs/009425.wav', 'lab_wav_pairs/009426.wav', 'lab_wav_pairs/009427.wav', 'lab_wav_pairs/009428.wav', 'lab_wav_pairs/009429.wav', 'lab_wav_pairs/009430.wav', 'lab_wav_pairs/009431.wav', 'lab_wav_pairs/009432.wav', 'lab_wav_pairs/009433.wav', 'lab_wav_pairs/009434.wav', 'lab_wav_pairs/009435.wav', 'lab_wav_pairs/009436.wav', 'lab_wav_pairs/009437.wav', 'lab_wav_pairs/009438.wav', 'lab_wav_pairs/009439.wav', 'lab_wav_pairs/009440.wav', 'lab_wav_pairs/009441.wav', 'lab_wav_pairs/009442.wav', 'lab_wav_pairs/009443.wav', 'lab_wav_pairs/009444.wav', 'lab_wav_pairs/009445.wav', 'lab_wav_pairs/009446.wav', 'lab_wav_pairs/009447.wav', 'lab_wav_pairs/009448.wav', 'lab_wav_pairs/009449.wav', 'lab_wav_pairs/009450.wav', 'lab_wav_pairs/009451.wav', 'lab_wav_pairs/009452.wav', 'lab_wav_pairs/009453.wav', 'lab_wav_pairs/009454.wav', 'lab_wav_pairs/009455.wav', 'lab_wav_pairs/009456.wav', 'lab_wav_pairs/009457.wav', 'lab_wav_pairs/009458.wav', 'lab_wav_pairs/009459.wav', 'lab_wav_pairs/009460.wav', 'lab_wav_pairs/009462.wav', 'lab_wav_pairs/009463.wav', 'lab_wav_pairs/009464.wav', 'lab_wav_pairs/009465.wav', 'lab_wav_pairs/009466.wav', 'lab_wav_pairs/009467.wav', 'lab_wav_pairs/009468.wav', 'lab_wav_pairs/009469.wav', 'lab_wav_pairs/009470.wav', 'lab_wav_pairs/009471.wav', 'lab_wav_pairs/009472.wav', 'lab_wav_pairs/009473.wav', 'lab_wav_pairs/009474.wav', 'lab_wav_pairs/009475.wav', 'lab_wav_pairs/009476.wav', 'lab_wav_pairs/009477.wav', 'lab_wav_pairs/009478.wav', 'lab_wav_pairs/009479.wav', 'lab_wav_pairs/009480.wav', 'lab_wav_pairs/009481.wav', 'lab_wav_pairs/009483.wav', 'lab_wav_pairs/009484.wav', 'lab_wav_pairs/009485.wav', 'lab_wav_pairs/009486.wav', 'lab_wav_pairs/009487.wav', 'lab_wav_pairs/009488.wav', 'lab_wav_pairs/009489.wav', 'lab_wav_pairs/009490.wav', 'lab_wav_pairs/009491.wav', 'lab_wav_pairs/009492.wav', 'lab_wav_pairs/009493.wav', 'lab_wav_pairs/009494.wav', 'lab_wav_pairs/009495.wav', 'lab_wav_pairs/009496.wav', 'lab_wav_pairs/009497.wav', 'lab_wav_pairs/009498.wav', 'lab_wav_pairs/009499.wav', 'lab_wav_pairs/009500.wav', 'lab_wav_pairs/009501.wav', 'lab_wav_pairs/009502.wav', 'lab_wav_pairs/009503.wav', 'lab_wav_pairs/009504.wav', 'lab_wav_pairs/009505.wav', 'lab_wav_pairs/009506.wav', 'lab_wav_pairs/009507.wav', 'lab_wav_pairs/009508.wav', 'lab_wav_pairs/009509.wav', 'lab_wav_pairs/009510.wav', 'lab_wav_pairs/009511.wav', 'lab_wav_pairs/009512.wav', 'lab_wav_pairs/009513.wav', 'lab_wav_pairs/009514.wav', 'lab_wav_pairs/009515.wav', 'lab_wav_pairs/009516.wav', 'lab_wav_pairs/009517.wav', 'lab_wav_pairs/009518.wav', 'lab_wav_pairs/009519.wav', 'lab_wav_pairs/009520.wav', 'lab_wav_pairs/009521.wav', 'lab_wav_pairs/009522.wav', 'lab_wav_pairs/009523.wav', 'lab_wav_pairs/009524.wav', 'lab_wav_pairs/009525.wav', 'lab_wav_pairs/009526.wav', 'lab_wav_pairs/009527.wav', 'lab_wav_pairs/009528.wav', 'lab_wav_pairs/009529.wav', 'lab_wav_pairs/009530.wav', 'lab_wav_pairs/009531.wav', 'lab_wav_pairs/009532.wav', 'lab_wav_pairs/009533.wav', 'lab_wav_pairs/009534.wav', 'lab_wav_pairs/009535.wav', 'lab_wav_pairs/009536.wav', 'lab_wav_pairs/009537.wav', 'lab_wav_pairs/009538.wav', 'lab_wav_pairs/009539.wav', 'lab_wav_pairs/009540.wav', 'lab_wav_pairs/009541.wav', 'lab_wav_pairs/009542.wav', 'lab_wav_pairs/009543.wav', 'lab_wav_pairs/009544.wav', 'lab_wav_pairs/009545.wav', 'lab_wav_pairs/009546.wav', 'lab_wav_pairs/009547.wav', 'lab_wav_pairs/009548.wav', 'lab_wav_pairs/009549.wav', 'lab_wav_pairs/009550.wav', 'lab_wav_pairs/009551.wav', 'lab_wav_pairs/009552.wav', 'lab_wav_pairs/009553.wav', 'lab_wav_pairs/009554.wav', 'lab_wav_pairs/009555.wav', 'lab_wav_pairs/009556.wav', 'lab_wav_pairs/009557.wav', 'lab_wav_pairs/009558.wav', 'lab_wav_pairs/009559.wav', 'lab_wav_pairs/009560.wav', 'lab_wav_pairs/009561.wav', 'lab_wav_pairs/009562.wav', 'lab_wav_pairs/009563.wav', 'lab_wav_pairs/009564.wav', 'lab_wav_pairs/009565.wav', 'lab_wav_pairs/009566.wav', 'lab_wav_pairs/009567.wav', 'lab_wav_pairs/009568.wav', 'lab_wav_pairs/009569.wav', 'lab_wav_pairs/009570.wav', 'lab_wav_pairs/009571.wav', 'lab_wav_pairs/009572.wav', 'lab_wav_pairs/009573.wav', 'lab_wav_pairs/009574.wav', 'lab_wav_pairs/009575.wav', 'lab_wav_pairs/009576.wav', 'lab_wav_pairs/009577.wav', 'lab_wav_pairs/009578.wav', 'lab_wav_pairs/009579.wav', 'lab_wav_pairs/009580.wav', 'lab_wav_pairs/009581.wav', 'lab_wav_pairs/009582.wav', 'lab_wav_pairs/009583.wav', 'lab_wav_pairs/009584.wav', 'lab_wav_pairs/009585.wav', 'lab_wav_pairs/009586.wav', 'lab_wav_pairs/009587.wav', 'lab_wav_pairs/009588.wav', 'lab_wav_pairs/009589.wav', 'lab_wav_pairs/009590.wav', 'lab_wav_pairs/009591.wav', 'lab_wav_pairs/009592.wav', 'lab_wav_pairs/009593.wav', 'lab_wav_pairs/009594.wav', 'lab_wav_pairs/009595.wav', 'lab_wav_pairs/009596.wav', 'lab_wav_pairs/009597.wav', 'lab_wav_pairs/009598.wav', 'lab_wav_pairs/009599.wav', 'lab_wav_pairs/009600.wav', 'lab_wav_pairs/009601.wav', 'lab_wav_pairs/009602.wav', 'lab_wav_pairs/009603.wav', 'lab_wav_pairs/009604.wav', 'lab_wav_pairs/009605.wav', 'lab_wav_pairs/009606.wav', 'lab_wav_pairs/009607.wav', 'lab_wav_pairs/009608.wav', 'lab_wav_pairs/009609.wav', 'lab_wav_pairs/009610.wav', 'lab_wav_pairs/009611.wav', 'lab_wav_pairs/009612.wav', 'lab_wav_pairs/009613.wav', 'lab_wav_pairs/009614.wav', 'lab_wav_pairs/009615.wav', 'lab_wav_pairs/009616.wav', 'lab_wav_pairs/009617.wav', 'lab_wav_pairs/009618.wav', 'lab_wav_pairs/009619.wav', 'lab_wav_pairs/009620.wav', 'lab_wav_pairs/009621.wav', 'lab_wav_pairs/009622.wav', 'lab_wav_pairs/009623.wav', 'lab_wav_pairs/009624.wav', 'lab_wav_pairs/009625.wav', 'lab_wav_pairs/009626.wav', 'lab_wav_pairs/009627.wav', 'lab_wav_pairs/009628.wav', 'lab_wav_pairs/009629.wav', 'lab_wav_pairs/009630.wav', 'lab_wav_pairs/009631.wav', 'lab_wav_pairs/009632.wav', 'lab_wav_pairs/009633.wav', 'lab_wav_pairs/009634.wav', 'lab_wav_pairs/009635.wav', 'lab_wav_pairs/009636.wav', 'lab_wav_pairs/009637.wav', 'lab_wav_pairs/009638.wav', 'lab_wav_pairs/009639.wav', 'lab_wav_pairs/009640.wav', 'lab_wav_pairs/009641.wav', 'lab_wav_pairs/009642.wav', 'lab_wav_pairs/009643.wav', 'lab_wav_pairs/009644.wav', 'lab_wav_pairs/009645.wav', 'lab_wav_pairs/009646.wav', 'lab_wav_pairs/009647.wav', 'lab_wav_pairs/009648.wav', 'lab_wav_pairs/009649.wav', 'lab_wav_pairs/009650.wav', 'lab_wav_pairs/009651.wav', 'lab_wav_pairs/009652.wav', 'lab_wav_pairs/009653.wav', 'lab_wav_pairs/009654.wav', 'lab_wav_pairs/009655.wav', 'lab_wav_pairs/009656.wav', 'lab_wav_pairs/009657.wav', 'lab_wav_pairs/009658.wav', 'lab_wav_pairs/009659.wav', 'lab_wav_pairs/009660.wav', 'lab_wav_pairs/009661.wav', 'lab_wav_pairs/009662.wav', 'lab_wav_pairs/009663.wav', 'lab_wav_pairs/009664.wav', 'lab_wav_pairs/009666.wav', 'lab_wav_pairs/009667.wav', 'lab_wav_pairs/009668.wav', 'lab_wav_pairs/009669.wav', 'lab_wav_pairs/009670.wav', 'lab_wav_pairs/009671.wav', 'lab_wav_pairs/009672.wav', 'lab_wav_pairs/009673.wav', 'lab_wav_pairs/009674.wav', 'lab_wav_pairs/009675.wav', 'lab_wav_pairs/009676.wav', 'lab_wav_pairs/009677.wav', 'lab_wav_pairs/009678.wav', 'lab_wav_pairs/009679.wav', 'lab_wav_pairs/009680.wav', 'lab_wav_pairs/009681.wav', 'lab_wav_pairs/009682.wav', 'lab_wav_pairs/009683.wav', 'lab_wav_pairs/009684.wav', 'lab_wav_pairs/009685.wav', 'lab_wav_pairs/009686.wav', 'lab_wav_pairs/009687.wav', 'lab_wav_pairs/009688.wav', 'lab_wav_pairs/009689.wav', 'lab_wav_pairs/009690.wav', 'lab_wav_pairs/009691.wav', 'lab_wav_pairs/009692.wav', 'lab_wav_pairs/009693.wav', 'lab_wav_pairs/009694.wav', 'lab_wav_pairs/009695.wav', 'lab_wav_pairs/009696.wav', 'lab_wav_pairs/009697.wav', 'lab_wav_pairs/009698.wav', 'lab_wav_pairs/009699.wav', 'lab_wav_pairs/009700.wav', 'lab_wav_pairs/009701.wav', 'lab_wav_pairs/009702.wav', 'lab_wav_pairs/009703.wav', 'lab_wav_pairs/009704.wav', 'lab_wav_pairs/009705.wav', 'lab_wav_pairs/009706.wav', 'lab_wav_pairs/009708.wav', 'lab_wav_pairs/009709.wav', 'lab_wav_pairs/009710.wav', 'lab_wav_pairs/009711.wav', 'lab_wav_pairs/009712.wav', 'lab_wav_pairs/009713.wav', 'lab_wav_pairs/009714.wav', 'lab_wav_pairs/009715.wav', 'lab_wav_pairs/009716.wav', 'lab_wav_pairs/009717.wav', 'lab_wav_pairs/009718.wav', 'lab_wav_pairs/009719.wav', 'lab_wav_pairs/009720.wav', 'lab_wav_pairs/009721.wav', 'lab_wav_pairs/009722.wav', 'lab_wav_pairs/009723.wav', 'lab_wav_pairs/009724.wav', 'lab_wav_pairs/009725.wav', 'lab_wav_pairs/009726.wav', 'lab_wav_pairs/009727.wav', 'lab_wav_pairs/009728.wav', 'lab_wav_pairs/009729.wav', 'lab_wav_pairs/009730.wav', 'lab_wav_pairs/009731.wav', 'lab_wav_pairs/009732.wav', 'lab_wav_pairs/009733.wav', 'lab_wav_pairs/009734.wav', 'lab_wav_pairs/009735.wav', 'lab_wav_pairs/009736.wav', 'lab_wav_pairs/009737.wav', 'lab_wav_pairs/009738.wav', 'lab_wav_pairs/009739.wav', 'lab_wav_pairs/009740.wav', 'lab_wav_pairs/009741.wav', 'lab_wav_pairs/009742.wav', 'lab_wav_pairs/009744.wav', 'lab_wav_pairs/009745.wav', 'lab_wav_pairs/009746.wav', 'lab_wav_pairs/009747.wav', 'lab_wav_pairs/009748.wav', 'lab_wav_pairs/009749.wav', 'lab_wav_pairs/009750.wav', 'lab_wav_pairs/009751.wav', 'lab_wav_pairs/009752.wav', 'lab_wav_pairs/009753.wav', 'lab_wav_pairs/009754.wav', 'lab_wav_pairs/009755.wav', 'lab_wav_pairs/009756.wav', 'lab_wav_pairs/009757.wav', 'lab_wav_pairs/009758.wav', 'lab_wav_pairs/009759.wav', 'lab_wav_pairs/009760.wav', 'lab_wav_pairs/009761.wav', 'lab_wav_pairs/009764.wav', 'lab_wav_pairs/009765.wav', 'lab_wav_pairs/009766.wav', 'lab_wav_pairs/009767.wav', 'lab_wav_pairs/009768.wav', 'lab_wav_pairs/009769.wav', 'lab_wav_pairs/009770.wav', 'lab_wav_pairs/009771.wav', 'lab_wav_pairs/009772.wav', 'lab_wav_pairs/009773.wav', 'lab_wav_pairs/009774.wav', 'lab_wav_pairs/009775.wav', 'lab_wav_pairs/009776.wav', 'lab_wav_pairs/009777.wav', 'lab_wav_pairs/009778.wav', 'lab_wav_pairs/009779.wav', 'lab_wav_pairs/009780.wav', 'lab_wav_pairs/009781.wav', 'lab_wav_pairs/009782.wav', 'lab_wav_pairs/009783.wav', 'lab_wav_pairs/009784.wav', 'lab_wav_pairs/009785.wav', 'lab_wav_pairs/009786.wav', 'lab_wav_pairs/009787.wav', 'lab_wav_pairs/009788.wav', 'lab_wav_pairs/009789.wav', 'lab_wav_pairs/009790.wav', 'lab_wav_pairs/009791.wav', 'lab_wav_pairs/009792.wav', 'lab_wav_pairs/009793.wav', 'lab_wav_pairs/009794.wav', 'lab_wav_pairs/009796.wav', 'lab_wav_pairs/009797.wav', 'lab_wav_pairs/009798.wav', 'lab_wav_pairs/009799.wav', 'lab_wav_pairs/009800.wav', 'lab_wav_pairs/009801.wav', 'lab_wav_pairs/009802.wav', 'lab_wav_pairs/009803.wav', 'lab_wav_pairs/009804.wav', 'lab_wav_pairs/009805.wav', 'lab_wav_pairs/009806.wav', 'lab_wav_pairs/009807.wav', 'lab_wav_pairs/009808.wav', 'lab_wav_pairs/009809.wav', 'lab_wav_pairs/009810.wav', 'lab_wav_pairs/009811.wav', 'lab_wav_pairs/009812.wav', 'lab_wav_pairs/009813.wav', 'lab_wav_pairs/009814.wav', 'lab_wav_pairs/009815.wav', 'lab_wav_pairs/009816.wav', 'lab_wav_pairs/009817.wav', 'lab_wav_pairs/009818.wav', 'lab_wav_pairs/009819.wav', 'lab_wav_pairs/009820.wav', 'lab_wav_pairs/009821.wav', 'lab_wav_pairs/009823.wav', 'lab_wav_pairs/009824.wav', 'lab_wav_pairs/009825.wav', 'lab_wav_pairs/009826.wav', 'lab_wav_pairs/009827.wav', 'lab_wav_pairs/009828.wav', 'lab_wav_pairs/009829.wav', 'lab_wav_pairs/009830.wav', 'lab_wav_pairs/009831.wav', 'lab_wav_pairs/009832.wav', 'lab_wav_pairs/009833.wav', 'lab_wav_pairs/009834.wav', 'lab_wav_pairs/009835.wav', 'lab_wav_pairs/009836.wav', 'lab_wav_pairs/009837.wav', 'lab_wav_pairs/009838.wav', 'lab_wav_pairs/009839.wav', 'lab_wav_pairs/009840.wav', 'lab_wav_pairs/009841.wav', 'lab_wav_pairs/009842.wav', 'lab_wav_pairs/009843.wav', 'lab_wav_pairs/009844.wav', 'lab_wav_pairs/009845.wav', 'lab_wav_pairs/009846.wav', 'lab_wav_pairs/009847.wav', 'lab_wav_pairs/009848.wav', 'lab_wav_pairs/009849.wav', 'lab_wav_pairs/009850.wav', 'lab_wav_pairs/009852.wav', 'lab_wav_pairs/009853.wav', 'lab_wav_pairs/009854.wav', 'lab_wav_pairs/009855.wav', 'lab_wav_pairs/009856.wav', 'lab_wav_pairs/009857.wav', 'lab_wav_pairs/009859.wav', 'lab_wav_pairs/009860.wav', 'lab_wav_pairs/009861.wav', 'lab_wav_pairs/009862.wav', 'lab_wav_pairs/009863.wav', 'lab_wav_pairs/009864.wav', 'lab_wav_pairs/009865.wav', 'lab_wav_pairs/009866.wav', 'lab_wav_pairs/009867.wav', 'lab_wav_pairs/009868.wav', 'lab_wav_pairs/009869.wav', 'lab_wav_pairs/009870.wav', 'lab_wav_pairs/009871.wav', 'lab_wav_pairs/009872.wav', 'lab_wav_pairs/009873.wav', 'lab_wav_pairs/009874.wav', 'lab_wav_pairs/009875.wav', 'lab_wav_pairs/009876.wav', 'lab_wav_pairs/009877.wav', 'lab_wav_pairs/009878.wav', 'lab_wav_pairs/009879.wav', 'lab_wav_pairs/009880.wav', 'lab_wav_pairs/009881.wav', 'lab_wav_pairs/009882.wav', 'lab_wav_pairs/009883.wav', 'lab_wav_pairs/009884.wav', 'lab_wav_pairs/009885.wav', 'lab_wav_pairs/009886.wav', 'lab_wav_pairs/009887.wav', 'lab_wav_pairs/009888.wav', 'lab_wav_pairs/009889.wav', 'lab_wav_pairs/009890.wav', 'lab_wav_pairs/009891.wav', 'lab_wav_pairs/009892.wav', 'lab_wav_pairs/009893.wav', 'lab_wav_pairs/009894.wav', 'lab_wav_pairs/009895.wav', 'lab_wav_pairs/009896.wav', 'lab_wav_pairs/009897.wav', 'lab_wav_pairs/009898.wav', 'lab_wav_pairs/009899.wav', 'lab_wav_pairs/009900.wav', 'lab_wav_pairs/009901.wav', 'lab_wav_pairs/009902.wav', 'lab_wav_pairs/009903.wav', 'lab_wav_pairs/009904.wav', 'lab_wav_pairs/009905.wav', 'lab_wav_pairs/009906.wav', 'lab_wav_pairs/009907.wav', 'lab_wav_pairs/009908.wav', 'lab_wav_pairs/009909.wav', 'lab_wav_pairs/009910.wav', 'lab_wav_pairs/009911.wav', 'lab_wav_pairs/009912.wav', 'lab_wav_pairs/009913.wav', 'lab_wav_pairs/009914.wav', 'lab_wav_pairs/009915.wav', 'lab_wav_pairs/009916.wav', 'lab_wav_pairs/009917.wav', 'lab_wav_pairs/009918.wav', 'lab_wav_pairs/009919.wav', 'lab_wav_pairs/009920.wav', 'lab_wav_pairs/009921.wav', 'lab_wav_pairs/009922.wav', 'lab_wav_pairs/009923.wav', 'lab_wav_pairs/009924.wav', 'lab_wav_pairs/009925.wav', 'lab_wav_pairs/009926.wav', 'lab_wav_pairs/009927.wav', 'lab_wav_pairs/009928.wav', 'lab_wav_pairs/009929.wav', 'lab_wav_pairs/009930.wav', 'lab_wav_pairs/009931.wav', 'lab_wav_pairs/009932.wav', 'lab_wav_pairs/009933.wav', 'lab_wav_pairs/009934.wav', 'lab_wav_pairs/009935.wav', 'lab_wav_pairs/009936.wav', 'lab_wav_pairs/009937.wav', 'lab_wav_pairs/009938.wav', 'lab_wav_pairs/009939.wav', 'lab_wav_pairs/009940.wav', 'lab_wav_pairs/009941.wav', 'lab_wav_pairs/009943.wav', 'lab_wav_pairs/009944.wav', 'lab_wav_pairs/009945.wav', 'lab_wav_pairs/009946.wav', 'lab_wav_pairs/009947.wav', 'lab_wav_pairs/009948.wav', 'lab_wav_pairs/009949.wav', 'lab_wav_pairs/009950.wav', 'lab_wav_pairs/009951.wav', 'lab_wav_pairs/009952.wav', 'lab_wav_pairs/009953.wav', 'lab_wav_pairs/009954.wav', 'lab_wav_pairs/009955.wav', 'lab_wav_pairs/009956.wav', 'lab_wav_pairs/009957.wav', 'lab_wav_pairs/009958.wav', 'lab_wav_pairs/009959.wav', 'lab_wav_pairs/009960.wav', 'lab_wav_pairs/009961.wav', 'lab_wav_pairs/009963.wav', 'lab_wav_pairs/009964.wav', 'lab_wav_pairs/009965.wav', 'lab_wav_pairs/009966.wav', 'lab_wav_pairs/009967.wav', 'lab_wav_pairs/009968.wav', 'lab_wav_pairs/009969.wav', 'lab_wav_pairs/009970.wav', 'lab_wav_pairs/009971.wav', 'lab_wav_pairs/009972.wav', 'lab_wav_pairs/009973.wav', 'lab_wav_pairs/009974.wav', 'lab_wav_pairs/009975.wav', 'lab_wav_pairs/009976.wav', 'lab_wav_pairs/009977.wav', 'lab_wav_pairs/009978.wav', 'lab_wav_pairs/009979.wav', 'lab_wav_pairs/009980.wav', 'lab_wav_pairs/009981.wav', 'lab_wav_pairs/009983.wav', 'lab_wav_pairs/009984.wav', 'lab_wav_pairs/009985.wav', 'lab_wav_pairs/009986.wav', 'lab_wav_pairs/009987.wav', 'lab_wav_pairs/009988.wav', 'lab_wav_pairs/009989.wav', 'lab_wav_pairs/009990.wav', 'lab_wav_pairs/009991.wav', 'lab_wav_pairs/009993.wav', 'lab_wav_pairs/009994.wav', 'lab_wav_pairs/009995.wav', 'lab_wav_pairs/009996.wav', 'lab_wav_pairs/009997.wav', 'lab_wav_pairs/009998.wav', 'lab_wav_pairs/009999.wav', 'lab_wav_pairs/010000.wav'])"
      ]
     },
     "execution_count": 23,
     "metadata": {},
     "output_type": "execute_result"
    }
   ],
   "source": [
    "audio_py_hetero_list = {}\n",
    "for m in metadata:\n",
    "    filename = 'lab_wav_pairs/' + m['file_name'] + '.wav'\n",
    "    m_hetero_py = []\n",
    "    for hp in m['hetero_py']:\n",
    "        pys = [p[:-1] for p in hp]\n",
    "        m_hetero_py.append(pys)\n",
    "    audio_py_hetero_list[filename] = {\n",
    "        'nm_hetero_py': m_hetero_py,\n",
    "        'm_hetero_py': m['hetero_py']\n",
    "    }\n",
    "audio_py_hetero_list.keys()"
   ]
  },
  {
   "cell_type": "code",
   "execution_count": 24,
   "metadata": {},
   "outputs": [
    {
     "data": {
      "text/plain": [
       "{'nm_hetero_py': [['xi'],\n",
       "  ['huan'],\n",
       "  ['ba', 'ba'],\n",
       "  ['li'],\n",
       "  ['ao'],\n",
       "  ['de', 'di', 'di'],\n",
       "  ['shu'],\n",
       "  ['cha'],\n",
       "  ['zai'],\n",
       "  ['niu'],\n",
       "  ['zi', 'zi', 'zai'],\n",
       "  ['ku'],\n",
       "  ['de', 'di', 'di'],\n",
       "  ['qian'],\n",
       "  ['mian']],\n",
       " 'm_hetero_py': [['xi3'],\n",
       "  ['huan1'],\n",
       "  ['ba3', 'ba4'],\n",
       "  ['li3'],\n",
       "  ['ao2'],\n",
       "  ['de5', 'di2', 'di4'],\n",
       "  ['shu1'],\n",
       "  ['cha1'],\n",
       "  ['zai4'],\n",
       "  ['niu2'],\n",
       "  ['zi1', 'zi3', 'zai3'],\n",
       "  ['ku4'],\n",
       "  ['de5', 'di2', 'di4'],\n",
       "  ['qian2'],\n",
       "  ['mian4']]}"
      ]
     },
     "execution_count": 24,
     "metadata": {},
     "output_type": "execute_result"
    }
   ],
   "source": [
    "audio_py_hetero_list['lab_wav_pairs/008002.wav']"
   ]
  },
  {
   "cell_type": "markdown",
   "metadata": {},
   "source": [
    "# TOP-1 Only"
   ]
  },
  {
   "cell_type": "code",
   "execution_count": null,
   "metadata": {},
   "outputs": [],
   "source": [
    "\n",
    "correct = 0\n",
    "total = 0\n",
    "err_list = []\n",
    "\n",
    "for file_path in tqdm(list(audio_py_pairs.keys())):\n",
    "    for index, ap in enumerate(audio_py_pairs[file_path]):\n",
    "        py, start, end = ap\n",
    "        try:\n",
    "            SPEECH_WAVEFORM, SAMPLE_RATE = torchaudio.load(file_path, int(start * 48000), int((end-start) * 48000))\n",
    "            SPEECH_WAVEFORM = torchaudio.functional.resample(SPEECH_WAVEFORM, SAMPLE_RATE, 16000)\n",
    "\n",
    "            SPEECH_WAVEFORM = F.pad(SPEECH_WAVEFORM, (0, 16000-SPEECH_WAVEFORM.shape[1]), mode='constant', value=0)\n",
    "\n",
    "            with torch.no_grad():\n",
    "                # features, _ = hubert_model.extract_features(SPEECH_WAVEFORM.cuda())\n",
    "                input_values = feature_extractor(SPEECH_WAVEFORM[0], return_tensors=\"pt\", sampling_rate=16000).input_values\n",
    "                outputs = hubert_model(input_values.cuda())\n",
    "                last_hidden_state = outputs.last_hidden_state\n",
    "            \n",
    "            # print(last_hidden_state.shape)\n",
    "            with torch.no_grad():\n",
    "                output = model(torch.unsqueeze(last_hidden_state, 0))\n",
    "            _, predicted = torch.topk(output, 1)\n",
    "            # print(predicted, label_to_pinyin[predicted[0][0].item()], py)\n",
    "            c_sum = sum([1 if label_to_pinyin[predicted[0][i].item()] == py[:-1] else 0 for i in range(len(predicted))])\n",
    "            correct += c_sum\n",
    "            if c_sum == 0:\n",
    "                for i in range(len(predicted)):\n",
    "                    if py[:-1] != label_to_pinyin[predicted[0][i].item()]:\n",
    "                        print(file_path, index, start, end, label_to_pinyin[predicted[0][i].item()], py[:-1])\n",
    "                        err_list.append((file_path, index, start, end, label_to_pinyin[predicted[0][i].item()], py[:-1]))\n",
    "            total += 1\n",
    "        except Exception as e:\n",
    "            print(file_path, ap, e)\n",
    "            continue\n",
    "\n",
    "print('Accuracy of the model: %.3f %%' %((100*correct)/(total)))\n"
   ]
  },
  {
   "cell_type": "code",
   "execution_count": 14,
   "metadata": {},
   "outputs": [
    {
     "name": "stdout",
     "output_type": "stream",
     "text": [
      "yuan yue\n",
      "lab_wav_pairs/009419.wav ['yue'] ['yue4']\n",
      "da dai\n",
      "lab_wav_pairs/008493.wav ['hui', 'kuai'] ['hui4', 'kuai4']\n",
      "jiang jia\n",
      "lab_wav_pairs/008763.wav ['jia', 'jia'] ['jia3', 'jia4']\n",
      "shang sheng\n",
      "lab_wav_pairs/009497.wav ['sheng'] ['sheng1']\n",
      "lie lian\n",
      "lab_wav_pairs/009668.wav ['lian'] ['lian2']\n",
      "shun chi\n",
      "lab_wav_pairs/008822.wav ['chi'] ['chi2']\n",
      "chan chai\n",
      "lab_wav_pairs/008336.wav ['chai', 'ca'] ['chai1', 'ca1']\n",
      "hu huo\n",
      "lab_wav_pairs/008336.wav ['huo'] ['huo4']\n",
      "zhuan zhuai\n",
      "lab_wav_pairs/009274.wav ['zhuai', 'zhuai', 'ye'] ['zhuai4', 'zhuai1', 'ye4']\n",
      "min ming\n",
      "lab_wav_pairs/008895.wav ['ming'] ['ming2']\n",
      "ban dan\n",
      "lab_wav_pairs/008895.wav ['dan'] ['dan3']\n",
      "ming min\n",
      "lab_wav_pairs/009302.wav ['min'] ['min3']\n",
      "jian jie\n",
      "lab_wav_pairs/009510.wav ['jie', 'jie', 'xie'] ['jie3', 'jie4', 'xie4']\n",
      "hu hun\n",
      "lab_wav_pairs/009856.wav ['hun'] ['hun2']\n",
      "dou bao\n",
      "lab_wav_pairs/008547.wav ['bao'] ['bao3']\n",
      "suo song\n",
      "lab_wav_pairs/008547.wav ['song'] ['song4']\n",
      "xing xin\n",
      "lab_wav_pairs/008661.wav ['xin', 'shen'] ['xin4', 'shen1']\n",
      "lun ne\n",
      "lab_wav_pairs/009976.wav ['ne'] ['ne4']\n",
      "de di\n",
      "lab_wav_pairs/008729.wav ['di', 'de'] ['di4', 'de5']\n",
      "!!!\n",
      "dai tai\n",
      "lab_wav_pairs/008618.wav ['tai'] ['tai4']\n",
      "de di\n",
      "lab_wav_pairs/008517.wav ['di', 'de'] ['di4', 'de5']\n",
      "!!!\n",
      "duo du\n",
      "lab_wav_pairs/009457.wav ['dou', 'du'] ['dou1', 'du1']\n",
      "jin ji\n",
      "lab_wav_pairs/009776.wav ['ji'] ['ji4']\n",
      "jian jie\n",
      "lab_wav_pairs/009723.wav ['jie'] ['jie2']\n",
      "jiang jia\n",
      "lab_wav_pairs/009705.wav ['jia'] ['jia1']\n",
      "men na\n",
      "lab_wav_pairs/009705.wav ['na'] ['na2']\n",
      "ni nei\n",
      "lab_wav_pairs/009398.wav ['na', 'nei', 'na', 'ne'] ['na3', 'nei3', 'na5', 'ne2']\n",
      "bei de\n",
      "lab_wav_pairs/009398.wav ['de', 'di', 'di'] ['de5', 'di2', 'di4']\n",
      "re ren\n",
      "lab_wav_pairs/008225.wav ['ren'] ['ren2']\n",
      "yu shuai\n",
      "lab_wav_pairs/008225.wav ['shuai', 'lv'] ['shuai4', 'lv4']\n",
      "ding di\n",
      "lab_wav_pairs/008610.wav ['di'] ['di4']\n",
      "de dui\n",
      "lab_wav_pairs/008610.wav ['dui'] ['dui4']\n",
      "wo wan\n",
      "lab_wav_pairs/009451.wav ['wan'] ['wan3']\n",
      "jue jun\n",
      "lab_wav_pairs/008543.wav ['jun'] ['jun1']\n",
      "yin ying\n",
      "lab_wav_pairs/008007.wav ['ying', 'ying'] ['ying1', 'ying4']\n",
      "er le\n",
      "lab_wav_pairs/009149.wav ['le', 'liao'] ['le5', 'liao3']\n",
      "xing xi\n",
      "lab_wav_pairs/008640.wav ['xi'] ['xi1']\n",
      "hou hong\n",
      "lab_wav_pairs/008640.wav ['hong', 'gong'] ['hong2', 'gong1']\n",
      "chan zha\n",
      "lab_wav_pairs/008360.wav ['cha', 'zha'] ['cha2', 'zha1']\n",
      "ta zha\n",
      "lab_wav_pairs/008360.wav ['cha', 'zha'] ['cha2', 'zha1']\n",
      "a ta\n",
      "lab_wav_pairs/008360.wav ['ta'] ['ta1']\n",
      "yuan yue\n",
      "lab_wav_pairs/008676.wav ['yue'] ['yue4']\n",
      "ti ting\n",
      "lab_wav_pairs/008676.wav ['ting'] ['ting3']\n",
      "ji jin\n",
      "lab_wav_pairs/008676.wav ['jin'] ['jin4']\n",
      "lou lu\n",
      "lab_wav_pairs/008124.wav ['lou', 'lu'] ['lou4', 'lu4']\n",
      "!!!\n",
      "heng hen\n",
      "lab_wav_pairs/008124.wav ['hen'] ['hen4']\n",
      "zhang chang\n",
      "lab_wav_pairs/009676.wav ['chang', 'zhang'] ['chang2', 'zhang3']\n",
      "!!!\n",
      "jiu jiong\n",
      "lab_wav_pairs/008565.wav ['jiong'] ['jiong3']\n",
      "ye yan\n",
      "lab_wav_pairs/008233.wav ['hang', 'xing', 'heng', 'hang'] ['hang2', 'xing2', 'heng2', 'hang4']\n",
      "quan que\n",
      "lab_wav_pairs/009093.wav ['que'] ['que4']\n",
      "jian jie\n",
      "lab_wav_pairs/008276.wav ['jie', 'jie'] ['jie2', 'jie1']\n",
      "tou tong\n",
      "lab_wav_pairs/008276.wav ['tong'] ['tong3']\n",
      "bai ban\n",
      "lab_wav_pairs/009077.wav ['ban'] ['ban4']\n",
      "la le\n",
      "lab_wav_pairs/009077.wav ['le', 'liao'] ['le5', 'liao3']\n",
      "qiao qiang\n",
      "lab_wav_pairs/009932.wav ['qiang', 'qiang', 'jiang'] ['qiang2', 'qiang3', 'jiang4']\n",
      "xing xin\n",
      "lab_wav_pairs/009975.wav ['xin', 'shen'] ['xin4', 'shen1']\n",
      "dui dun\n",
      "lab_wav_pairs/009060.wav ['dun', 'cun'] ['dun1', 'cun2']\n",
      "fur fa\n",
      "lab_wav_pairs/009771.wav ['fa'] ['fa3']\n",
      "ren re\n",
      "lab_wav_pairs/009595.wav ['re'] ['re4']\n",
      "dao dou\n",
      "lab_wav_pairs/009595.wav ['dou', 'du'] ['dou1', 'du1']\n",
      "wo wei\n",
      "lab_wav_pairs/009963.wav ['wei', 'wei'] ['wei2', 'wei4']\n",
      "de le\n",
      "lab_wav_pairs/009161.wav ['le', 'liao'] ['le5', 'liao3']\n",
      "bian bing\n",
      "lab_wav_pairs/009525.wav ['bing', 'bing'] ['bing4', 'bing1']\n",
      "an ai\n",
      "lab_wav_pairs/008599.wav ['ai', 'yi'] ['ai4', 'yi4']\n",
      "wen wei\n",
      "lab_wav_pairs/008599.wav ['wei'] ['wei1']\n",
      "di dian\n",
      "lab_wav_pairs/008718.wav ['dian'] ['dian4']\n",
      "dan dai\n",
      "lab_wav_pairs/009677.wav ['dai'] ['dai4']\n",
      "po pu\n",
      "lab_wav_pairs/009824.wav ['pu', 'pu'] ['pu1', 'pu4']\n",
      "li lin\n",
      "lab_wav_pairs/008708.wav ['lin'] ['lin2']\n",
      "kai kan\n",
      "lab_wav_pairs/009978.wav ['kan', 'kan'] ['kan4', 'kan1']\n",
      "lin ling\n",
      "lab_wav_pairs/008848.wav ['ling'] ['ling2']\n",
      "sun sui\n",
      "lab_wav_pairs/009330.wav ['sui'] ['sui2']\n",
      "qing qin\n",
      "lab_wav_pairs/008984.wav ['qin'] ['qin3']\n",
      "bie bian\n",
      "lab_wav_pairs/008464.wav ['bian', 'pian'] ['bian4', 'pian2']\n",
      "zang cang\n",
      "lab_wav_pairs/009071.wav ['cang', 'zang'] ['cang2', 'zang4']\n",
      "!!!\n",
      "ming min\n",
      "lab_wav_pairs/009071.wav ['min'] ['min2']\n",
      "ji jin\n",
      "lab_wav_pairs/009702.wav ['jin'] ['jin4']\n",
      "shou she\n",
      "lab_wav_pairs/009702.wav ['she', 'she'] ['she3', 'she4']\n",
      "zhu ru\n",
      "lab_wav_pairs/009702.wav ['ru'] ['ru4']\n",
      "qi xi\n",
      "lab_wav_pairs/008777.wav ['xi'] ['xi4']\n",
      "dian di\n",
      "lab_wav_pairs/009136.wav ['di'] ['di4']\n",
      "bing bin\n",
      "lab_wav_pairs/009442.wav ['bin'] ['bin1']\n",
      "jin ji\n",
      "lab_wav_pairs/009038.wav ['ji'] ['ji1']\n",
      "deng de\n",
      "lab_wav_pairs/009664.wav ['de', 'di', 'di'] ['de5', 'di2', 'di4']\n",
      "an zha\n",
      "lab_wav_pairs/009844.wav ['cha', 'zha'] ['cha2', 'zha1']\n",
      "cha zha\n",
      "lab_wav_pairs/009844.wav ['cha', 'zha'] ['cha2', 'zha1']\n",
      "!!!\n",
      "xuan xue\n",
      "lab_wav_pairs/008159.wav ['xue'] ['xue2']\n",
      "jing jin\n",
      "lab_wav_pairs/008104.wav ['jin'] ['jin3']\n",
      "pai ta\n",
      "lab_wav_pairs/009831.wav ['ta'] ['ta1']\n",
      "xin xi\n",
      "lab_wav_pairs/009184.wav ['xi', 'ji'] ['xi4', 'ji4']\n",
      "dao ba\n",
      "lab_wav_pairs/008291.wav ['ba', 'ba'] ['ba3', 'ba4']\n",
      "le la\n",
      "lab_wav_pairs/009703.wav ['la', 'luo', 'lao'] ['la4', 'luo4', 'lao4']\n",
      "da za\n",
      "lab_wav_pairs/008068.wav ['za'] ['za2']\n",
      "ge de\n",
      "lab_wav_pairs/008771.wav ['de'] ['de2']\n",
      "gou gong\n",
      "lab_wav_pairs/008771.wav ['gong', 'gong'] ['gong1', 'gong4']\n",
      "yan ye\n",
      "lab_wav_pairs/008798.wav ['ye'] ['ye2']\n",
      "jian jin\n",
      "lab_wav_pairs/009116.wav ['jin'] ['jin4']\n",
      "luo lun\n",
      "lab_wav_pairs/009116.wav ['lun', 'lun'] ['lun4', 'lun2']\n",
      "de di\n",
      "lab_wav_pairs/008750.wav ['di', 'de'] ['di4', 'de5']\n",
      "!!!\n",
      "xie xian\n",
      "lab_wav_pairs/009652.wav ['xian'] ['xian4']\n",
      "ze zen\n",
      "lab_wav_pairs/008809.wav ['zen'] ['zen3']\n",
      "men me\n",
      "lab_wav_pairs/008809.wav ['me', 'mo', 'ma', 'yao'] ['me5', 'mo2', 'ma5', 'yao1']\n",
      "ni ning\n",
      "lab_wav_pairs/009488.wav ['ning', 'ning', 'zhu'] ['ning2', 'ning4', 'zhu4']\n",
      "xing xi\n",
      "lab_wav_pairs/008486.wav ['xi'] ['xi1']\n",
      "xing xi\n",
      "lab_wav_pairs/008343.wav ['xi'] ['xi1']\n",
      "xuan xue\n",
      "lab_wav_pairs/008343.wav ['xue'] ['xue2']\n",
      "ng zeng\n",
      "lab_wav_pairs/008311.wav ['zeng', 'ceng'] ['zeng1', 'ceng2']\n",
      "xu xue\n",
      "lab_wav_pairs/008311.wav ['xue'] ['xue2']\n",
      "xiang xiao\n",
      "lab_wav_pairs/008311.wav ['xiao', 'jiao'] ['xiao4', 'jiao4']\n",
      "de ben\n",
      "lab_wav_pairs/008043.wav ['ben'] ['ben3']\n",
      "liang liao\n",
      "lab_wav_pairs/008612.wav ['liao'] ['liao4']\n",
      "huo hun\n",
      "lab_wav_pairs/008612.wav ['hun'] ['hun1']\n",
      "ang o\n",
      "lab_wav_pairs/008612.wav ['o', 'o', 'e'] ['o2', 'o4', 'e2']\n",
      "yangr di\n",
      "lab_wav_pairs/009125.wav ['di', 'de'] ['di4', 'de5']\n",
      "pan ta\n",
      "lab_wav_pairs/009125.wav ['ta'] ['ta1']\n",
      "ang zhao\n",
      "lab_wav_pairs/009913.wav ['zhao', 'chao'] ['zhao1', 'chao2']\n",
      "yan ye\n",
      "lab_wav_pairs/008727.wav ['ye'] ['ye3']\n",
      "tang teng\n",
      "lab_wav_pairs/008429.wav ['teng'] ['teng2']\n",
      "kou kong\n",
      "lab_wav_pairs/008208.wav ['kong'] ['kong3']\n",
      "xiang xiao\n",
      "lab_wav_pairs/009131.wav ['xiao', 'jiao'] ['xiao4', 'jiao4']\n",
      "jie jing\n",
      "lab_wav_pairs/008760.wav ['jing'] ['jing1']\n",
      "gai gan\n",
      "lab_wav_pairs/008020.wav ['gan'] ['gan3']\n",
      "nian nie\n",
      "lab_wav_pairs/009410.wav ['nie'] ['nie1']\n",
      "jin jue\n",
      "lab_wav_pairs/008804.wav ['jiao', 'jue'] ['jiao3', 'jue2']\n",
      "huo hu\n",
      "lab_wav_pairs/008804.wav ['hu'] ['hu4']\n",
      "men mei\n",
      "lab_wav_pairs/008168.wav ['mei', 'mo'] ['mei2', 'mo4']\n",
      "yong you\n",
      "lab_wav_pairs/008168.wav ['you', 'you'] ['you3', 'you4']\n",
      "yu lo\n",
      "lab_wav_pairs/008945.wav ['lo', 'ka', 'luo', 'ge'] ['lo5', 'ka3', 'luo4', 'ge1']\n",
      "e ge\n",
      "lab_wav_pairs/008945.wav ['lo', 'ka', 'luo', 'ge'] ['lo5', 'ka3', 'luo4', 'ge1']\n",
      "ben de\n",
      "lab_wav_pairs/008945.wav ['lo', 'ka', 'luo', 'ge'] ['lo5', 'ka3', 'luo4', 'ge1']\n",
      "duir di\n",
      "lab_wav_pairs/009697.wav ['di', 'de'] ['di4', 'de5']\n",
      "yin yun\n",
      "lab_wav_pairs/008526.wav ['yun'] ['yun4']\n",
      "cheng chou\n",
      "lab_wav_pairs/009773.wav ['chou'] ['chou3']\n",
      "qi qin\n",
      "lab_wav_pairs/008406.wav ['qin', 'qing'] ['qin1', 'qing4']\n",
      "ye yan\n",
      "lab_wav_pairs/008248.wav ['yan'] ['yan3']\n",
      "jian jin\n",
      "lab_wav_pairs/008248.wav ['jin'] ['jin4']\n",
      "tou tong\n",
      "lab_wav_pairs/008248.wav ['tong'] ['tong3']\n",
      "qi ji\n",
      "lab_wav_pairs/008501.wav ['ji'] ['ji3']\n",
      "shan shai\n",
      "lab_wav_pairs/009900.wav ['shai'] ['shai4']\n",
      "chuan chuang\n",
      "lab_wav_pairs/009954.wav ['chuang'] ['chuang3']\n",
      "shi chi\n",
      "lab_wav_pairs/008871.wav ['chi'] ['chi2']\n",
      "yan ye\n",
      "lab_wav_pairs/008260.wav ['ye'] ['ye3']\n",
      "mi ming\n",
      "lab_wav_pairs/008260.wav ['ming'] ['ming2']\n",
      "ping pin\n",
      "lab_wav_pairs/009157.wav ['pin'] ['pin2']\n",
      "men mei\n",
      "lab_wav_pairs/009458.wav ['mei', 'mo'] ['mei2', 'mo4']\n",
      "wen wo\n",
      "lab_wav_pairs/009458.wav ['wo'] ['wo3']\n",
      "lie lian\n",
      "lab_wav_pairs/009495.wav ['lian'] ['lian4']\n",
      "kuan kua\n",
      "lab_wav_pairs/009430.wav ['kua'] ['kua3']\n",
      "xi qi\n",
      "lab_wav_pairs/008794.wav ['qi'] ['qi4']\n",
      "zi zun\n",
      "lab_wav_pairs/008883.wav ['zun'] ['zun1']\n",
      "xian xie\n",
      "lab_wav_pairs/008956.wav ['xie'] ['xie3']\n",
      "pai tai\n",
      "lab_wav_pairs/008156.wav ['tai', 'tai'] ['tai2', 'tai1']\n",
      "du duo\n",
      "lab_wav_pairs/009620.wav ['duo'] ['duo3']\n",
      "yin ying\n",
      "lab_wav_pairs/009438.wav ['ying'] ['ying2']\n",
      "yuan ren\n",
      "lab_wav_pairs/008995.wav ['ren'] ['ren2']\n",
      "jian jin\n",
      "lab_wav_pairs/009143.wav ['jin'] ['jin4']\n",
      "yuan ren\n",
      "lab_wav_pairs/009753.wav ['ren', 'ren'] ['ren4', 'ren2']\n",
      "men neng\n",
      "lab_wav_pairs/009753.wav ['neng', 'nai'] ['neng2', 'nai4']\n",
      "zhi chi\n",
      "lab_wav_pairs/008053.wav ['chi'] ['chi2']\n",
      "tu tong\n",
      "lab_wav_pairs/008361.wav ['tong'] ['tong1']\n",
      "ye yue\n",
      "lab_wav_pairs/008361.wav ['yue', 'yao'] ['yue1', 'yao1']\n",
      "le lao\n",
      "lab_wav_pairs/008253.wav ['mu', 'lao'] ['mu3', 'lao3']\n",
      "shei shui\n",
      "lab_wav_pairs/009049.wav ['shui', 'shei'] ['shui2', 'shei2']\n",
      "!!!\n",
      "zhou zhong\n",
      "lab_wav_pairs/009635.wav ['zhong', 'zhong'] ['zhong1', 'zhong4']\n",
      "yin ye\n",
      "lab_wav_pairs/008670.wav ['ye', 'ye'] ['ye2', 'ye1']\n",
      "sun sui\n",
      "lab_wav_pairs/009470.wav ['sui'] ['sui4']\n",
      "ceng zeng\n",
      "lab_wav_pairs/008490.wav ['zeng', 'ceng'] ['zeng1', 'ceng2']\n",
      "!!!\n",
      "yue yuan\n",
      "lab_wav_pairs/008490.wav ['yuan'] ['yuan4']\n",
      "zhe zhi\n",
      "lab_wav_pairs/008428.wav ['zhi'] ['zhi4']\n",
      "jin ji\n",
      "lab_wav_pairs/008356.wav ['ji'] ['ji4']\n",
      "xiang xiao\n",
      "lab_wav_pairs/008356.wav ['xiao', 'jiao'] ['xiao4', 'jiao4']\n",
      "de di\n",
      "lab_wav_pairs/009926.wav ['di', 'de'] ['di4', 'de5']\n",
      "!!!\n",
      "ma me\n",
      "lab_wav_pairs/009299.wav ['me', 'mo', 'ma', 'yao'] ['me5', 'mo2', 'ma5', 'yao1']\n",
      "!!!\n",
      "zhan zhen\n",
      "lab_wav_pairs/009299.wav ['zhen'] ['zhen1']\n",
      "yan ye\n",
      "lab_wav_pairs/009194.wav ['ye'] ['ye4']\n",
      "yan ye\n",
      "lab_wav_pairs/009246.wav ['ye'] ['ye3']\n",
      "jiang jiao\n",
      "lab_wav_pairs/009246.wav ['jiao'] ['jiao4']\n",
      "you yong\n",
      "lab_wav_pairs/009246.wav ['yong'] ['yong3']\n",
      "pen peng\n",
      "lab_wav_pairs/009812.wav ['peng'] ['peng2']\n",
      "pan pai\n",
      "lab_wav_pairs/009812.wav ['pai'] ['pai4']\n",
      "suo su\n",
      "lab_wav_pairs/008395.wav ['su'] ['su4']\n",
      "bu fu\n",
      "lab_wav_pairs/009623.wav ['fu', 'fu'] ['fu4', 'fu3']\n",
      "dong dou\n",
      "lab_wav_pairs/008818.wav ['dou', 'dou'] ['dou3', 'dou4']\n",
      "na nan\n",
      "lab_wav_pairs/008818.wav ['nan'] ['nan2']\n",
      "ying yun\n",
      "lab_wav_pairs/009237.wav ['yun'] ['yun4']\n",
      "jian jie\n",
      "lab_wav_pairs/008622.wav ['jie', 'jie', 'xie'] ['jie3', 'jie4', 'xie4']\n",
      "xin xi\n",
      "lab_wav_pairs/008622.wav ['xi'] ['xi4']\n",
      "lu lou\n",
      "lab_wav_pairs/008287.wav ['lou', 'lu'] ['lou4', 'lu4']\n",
      "!!!\n",
      "qi qin\n",
      "lab_wav_pairs/008938.wav ['qin', 'qing'] ['qin1', 'qing4']\n",
      "ming mi\n",
      "lab_wav_pairs/008938.wav ['mi'] ['mi4']\n",
      "du lu\n",
      "lab_wav_pairs/008375.wav ['lu', 'liu'] ['lu4', 'liu4']\n",
      "tai ta\n",
      "lab_wav_pairs/009935.wav ['ta'] ['ta1']\n",
      "shan shang\n",
      "lab_wav_pairs/009935.wav ['shang', 'shang'] ['shang4', 'shang3']\n",
      "men de\n",
      "lab_wav_pairs/009935.wav ['de', 'di', 'di'] ['de5', 'di2', 'di4']\n",
      "yi ye\n",
      "lab_wav_pairs/008055.wav ['ye'] ['ye3']\n",
      "zhe jia\n",
      "lab_wav_pairs/008864.wav ['jia', 'jia', 'jie'] ['jia1', 'jia5', 'jie5']\n",
      "zu zuo\n",
      "lab_wav_pairs/009056.wav ['zuo'] ['zuo4']\n",
      "xian xin\n",
      "lab_wav_pairs/008292.wav ['xin'] ['xin1']\n",
      "hai han\n",
      "lab_wav_pairs/009938.wav ['han'] ['han2']\n",
      "yue yuan\n",
      "lab_wav_pairs/008827.wav ['yuan'] ['yuan4']\n",
      "jian jin\n",
      "lab_wav_pairs/009755.wav ['jin'] ['jin4']\n",
      "lu luo\n",
      "lab_wav_pairs/009945.wav ['luo'] ['luo4']\n",
      "shi shu\n",
      "lab_wav_pairs/009945.wav ['shu'] ['shu4']\n",
      "bing bin\n",
      "lab_wav_pairs/008967.wav ['bin'] ['bin1']\n",
      "zhuan zhuai\n",
      "lab_wav_pairs/008742.wav ['zhuai', 'zhuai', 'ye'] ['zhuai4', 'zhuai1', 'ye4']\n",
      "ling li\n",
      "lab_wav_pairs/008742.wav ['li'] ['li4']\n",
      "ji jin\n",
      "lab_wav_pairs/009162.wav ['jin'] ['jin1']\n",
      "yin yi\n",
      "lab_wav_pairs/009009.wav ['yi'] ['yi3']\n",
      "me ma\n",
      "lab_wav_pairs/009009.wav ['ma', 'ma', 'ma'] ['ma2', 'ma3', 'ma5']\n",
      "man men\n",
      "lab_wav_pairs/009431.wav ['men'] ['men2']\n",
      "ge gen\n",
      "lab_wav_pairs/008351.wav ['gen'] ['gen1']\n",
      "dan ban\n",
      "lab_wav_pairs/008487.wav ['ban'] ['ban4']\n",
      "ceng zeng\n",
      "lab_wav_pairs/008952.wav ['zeng', 'ceng'] ['zeng1', 'ceng2']\n",
      "!!!\n",
      "xiang xiao\n",
      "lab_wav_pairs/008221.wav ['xiao'] ['xiao3']\n",
      "lia liang\n",
      "lab_wav_pairs/009233.wav ['liang', 'lia'] ['liang3', 'lia3']\n",
      "!!!\n",
      "shao shang\n",
      "lab_wav_pairs/008497.wav ['shang', 'shang'] ['shang4', 'shang3']\n",
      "lao lou\n",
      "lab_wav_pairs/008497.wav ['lou', 'lou'] ['lou2', 'lou5']\n",
      "shang sheng\n",
      "lab_wav_pairs/009885.wav ['sheng'] ['sheng1']\n",
      "bo bu\n",
      "lab_wav_pairs/009885.wav ['bu', 'fou'] ['bu4', 'fou3']\n",
      "me neng\n",
      "lab_wav_pairs/009885.wav ['neng', 'nai'] ['neng2', 'nai4']\n",
      "quan que\n",
      "lab_wav_pairs/009770.wav ['que'] ['que4']\n",
      "shen she\n",
      "lab_wav_pairs/009574.wav ['she', 'she'] ['she3', 'she4']\n",
      "de di\n",
      "lab_wav_pairs/008736.wav ['di', 'de'] ['di4', 'de5']\n",
      "!!!\n",
      "tang tao\n",
      "lab_wav_pairs/008229.wav ['tao'] ['tao3']\n",
      "an wo\n",
      "lab_wav_pairs/009179.wav ['wo'] ['wo3']\n",
      "guo gong\n",
      "lab_wav_pairs/008424.wav ['gong'] ['gong1']\n",
      "wen an\n",
      "lab_wav_pairs/008424.wav ['an'] ['an1']\n",
      "ding di\n",
      "lab_wav_pairs/008081.wav ['di'] ['di4']\n",
      "yu rang\n",
      "lab_wav_pairs/009066.wav ['rang'] ['rang4']\n",
      "nei mei\n",
      "lab_wav_pairs/009042.wav ['mei', 'mo'] ['mei2', 'mo4']\n",
      "huo hun\n",
      "lab_wav_pairs/009147.wav ['hun'] ['hun1']\n",
      "zen ze\n",
      "lab_wav_pairs/008900.wav ['ze', 'zhai'] ['ze2', 'zhai4']\n",
      "you yong\n",
      "lab_wav_pairs/008258.wav ['yong'] ['yong4']\n",
      "ri yu\n",
      "lab_wav_pairs/008231.wav ['yu'] ['yu4']\n",
      "an en\n",
      "lab_wav_pairs/008231.wav ['en'] ['en1']\n",
      "ze zen\n",
      "lab_wav_pairs/008267.wav ['zen'] ['zen3']\n",
      "jin ji\n",
      "lab_wav_pairs/009072.wav ['ji'] ['ji1']\n",
      "yan nian\n",
      "lab_wav_pairs/008131.wav ['nian'] ['nian4']\n",
      "yan ye\n",
      "lab_wav_pairs/009903.wav ['ye'] ['ye3']\n",
      "diao tiao\n",
      "lab_wav_pairs/008265.wav ['tiao', 'diao', 'zhou'] ['tiao2', 'diao4', 'zhou1']\n",
      "!!!\n",
      "si zi\n",
      "lab_wav_pairs/008265.wav ['zi'] ['zi4']\n",
      "sheng shou\n",
      "lab_wav_pairs/009270.wav ['shou'] ['shou1']\n",
      "lu lou\n",
      "lab_wav_pairs/008926.wav ['lou', 'lu'] ['lou4', 'lu4']\n",
      "!!!\n",
      "da dan\n",
      "lab_wav_pairs/009775.wav ['dan'] ['dan4']\n",
      "hou huo\n",
      "lab_wav_pairs/009603.wav ['huo'] ['huo3']\n",
      "en hen\n",
      "lab_wav_pairs/009603.wav ['hen'] ['hen3']\n",
      "fei fen\n",
      "lab_wav_pairs/008636.wav ['fen', 'fen'] ['fen1', 'fen4']\n",
      "bai mai\n",
      "lab_wav_pairs/008483.wav ['mai'] ['mai4']\n",
      "wei wen\n",
      "lab_wav_pairs/008587.wav ['wen'] ['wen4']\n",
      "dai dan\n",
      "lab_wav_pairs/009547.wav ['dan'] ['dan4']\n",
      "ji qi\n",
      "lab_wav_pairs/008338.wav ['qi', 'ji'] ['qi2', 'ji1']\n",
      "!!!\n",
      "yan nian\n",
      "lab_wav_pairs/008560.wav ['nian'] ['nian2']\n",
      "shui shi\n",
      "lab_wav_pairs/008560.wav ['shi'] ['shi4']\n",
      "yan ye\n",
      "lab_wav_pairs/009936.wav ['ye'] ['ye4']\n",
      "lia liang\n",
      "lab_wav_pairs/008319.wav ['liang', 'lia'] ['liang3', 'lia3']\n",
      "!!!\n",
      "lv li\n",
      "lab_wav_pairs/009373.wav ['li'] ['li4']\n",
      "zhe zheng\n",
      "lab_wav_pairs/008495.wav ['zheng'] ['zheng3']\n",
      "re ren\n",
      "lab_wav_pairs/009869.wav ['ren'] ['ren2']\n",
      "gai gan\n",
      "lab_wav_pairs/008918.wav ['gan'] ['gan3']\n",
      "zi ze\n",
      "lab_wav_pairs/008793.wav ['ze'] ['ze4']\n",
      "xiang xiao\n",
      "lab_wav_pairs/009787.wav ['xiao'] ['xiao3']\n",
      "zhang chang\n",
      "lab_wav_pairs/009787.wav ['chang', 'zhang'] ['chang2', 'zhang3']\n",
      "!!!\n",
      "me meng\n",
      "lab_wav_pairs/008890.wav ['meng'] ['meng2']\n",
      "lia liang\n",
      "lab_wav_pairs/009539.wav ['liang', 'lia'] ['liang3', 'lia3']\n",
      "!!!\n",
      "na nan\n",
      "lab_wav_pairs/009630.wav ['nan'] ['nan2']\n",
      "dang dao\n",
      "lab_wav_pairs/008239.wav ['dao', 'dao'] ['dao3', 'dao4']\n",
      "men me\n",
      "lab_wav_pairs/008365.wav ['me', 'mo', 'ma', 'yao'] ['me5', 'mo2', 'ma5', 'yao1']\n",
      "qing qi\n",
      "lab_wav_pairs/008999.wav ['qi', 'ji'] ['qi2', 'ji1']\n",
      "se ci\n",
      "lab_wav_pairs/008999.wav ['ci'] ['ci4']\n",
      "jiar jue\n",
      "lab_wav_pairs/009546.wav ['jue', 'jiao'] ['jue2', 'jiao4']\n",
      "yin ying\n",
      "lab_wav_pairs/009532.wav ['ying', 'ying'] ['ying1', 'ying4']\n",
      "an niu\n",
      "lab_wav_pairs/009772.wav ['ao', 'ao', 'niu'] ['ao3', 'ao4', 'niu4']\n",
      "bing bin\n",
      "lab_wav_pairs/009772.wav ['bin'] ['bin1']\n",
      "shou shao\n",
      "lab_wav_pairs/008504.wav ['shao', 'shao'] ['shao3', 'shao4']\n",
      "san suan\n",
      "lab_wav_pairs/009463.wav ['suan'] ['suan4']\n",
      "yan ye\n",
      "lab_wav_pairs/009463.wav ['ye'] ['ye3']\n",
      "zhan zhai\n",
      "lab_wav_pairs/008570.wav ['zhai'] ['zhai2']\n",
      "dan nei\n",
      "lab_wav_pairs/009094.wav ['nei', 'na'] ['nei4', 'na4']\n",
      "si su\n",
      "lab_wav_pairs/009111.wav ['su'] ['su4']\n",
      "ji jin\n",
      "lab_wav_pairs/008442.wav ['jin'] ['jin1']\n",
      "yi yin\n",
      "lab_wav_pairs/008442.wav ['yin'] ['yin1']\n",
      "jie jian\n",
      "lab_wav_pairs/009617.wav ['jian'] ['jian4']\n",
      "ren ye\n",
      "lab_wav_pairs/009617.wav ['ye'] ['ye4']\n",
      "shang sha\n",
      "lab_wav_pairs/008770.wav ['suo', 'sha'] ['suo1', 'sha1']\n",
      "me ma\n",
      "lab_wav_pairs/009426.wav ['ma', 'ma', 'ma'] ['ma2', 'ma3', 'ma5']\n",
      "gai gan\n",
      "lab_wav_pairs/009896.wav ['gan'] ['gan3']\n",
      "de di\n",
      "lab_wav_pairs/009663.wav ['di', 'de'] ['di4', 'de5']\n",
      "!!!\n",
      "yue yuan\n",
      "lab_wav_pairs/009212.wav ['yuan'] ['yuan4']\n",
      "hui hun\n",
      "lab_wav_pairs/009021.wav ['hun'] ['hun2']\n",
      "yang yao\n",
      "lab_wav_pairs/009494.wav ['yao'] ['yao2']\n",
      "ng ge\n",
      "lab_wav_pairs/008246.wav ['ge', 'ge'] ['ge4', 'ge3']\n",
      "qing qi\n",
      "lab_wav_pairs/008193.wav ['qi'] ['qi3']\n",
      "lia liang\n",
      "lab_wav_pairs/009329.wav ['liang', 'lia'] ['liang3', 'lia3']\n",
      "!!!\n",
      "nin ni\n",
      "lab_wav_pairs/009866.wav ['ni'] ['ni3']\n",
      "qing qian\n",
      "lab_wav_pairs/008391.wav ['qian'] ['qian2']\n",
      "pi pin\n",
      "lab_wav_pairs/009355.wav ['pin'] ['pin3']\n",
      "ji jin\n",
      "lab_wav_pairs/009765.wav ['jin'] ['jin3']\n",
      "you yo\n",
      "lab_wav_pairs/008508.wav ['yo', 'yo'] ['yo1', 'yo5']\n",
      "you yo\n",
      "lab_wav_pairs/008508.wav ['yo', 'yo'] ['yo1', 'yo5']\n",
      "mian nei\n",
      "lab_wav_pairs/008757.wav ['nei', 'na'] ['nei4', 'na4']\n",
      "de deng\n",
      "lab_wav_pairs/008878.wav ['deng'] ['deng1']\n",
      "bei dui\n",
      "lab_wav_pairs/008634.wav ['dui'] ['dui4']\n",
      "geng gao\n",
      "lab_wav_pairs/008133.wav ['gao'] ['gao1']\n",
      "de di\n",
      "lab_wav_pairs/009653.wav ['di', 'de'] ['di4', 'de5']\n",
      "!!!\n",
      "chan chen\n",
      "lab_wav_pairs/009022.wav ['chen'] ['chen2']\n",
      "jian jie\n",
      "lab_wav_pairs/008037.wav ['jie'] ['jie1']\n",
      "dao dang\n",
      "lab_wav_pairs/009522.wav ['dang', 'dang'] ['dang1', 'dang4']\n",
      "bin bi\n",
      "lab_wav_pairs/009522.wav ['bi'] ['bi4']\n",
      "de dao\n",
      "lab_wav_pairs/009027.wav ['dao'] ['dao4']\n",
      "yi ni\n",
      "lab_wav_pairs/009680.wav ['ni'] ['ni3']\n",
      "me men\n",
      "lab_wav_pairs/009680.wav ['men'] ['men2']\n",
      "dan de\n",
      "lab_wav_pairs/009680.wav ['de', 'di', 'di'] ['de5', 'di2', 'di4']\n",
      "lian lie\n",
      "lab_wav_pairs/008468.wav ['lie'] ['lie4']\n",
      "hun hui\n",
      "lab_wav_pairs/009017.wav ['hui', 'kuai'] ['hui4', 'kuai4']\n",
      "bie bian\n",
      "lab_wav_pairs/008434.wav ['bian'] ['bian4']\n",
      "zi ci\n",
      "lab_wav_pairs/008479.wav ['ci'] ['ci4']\n",
      "yang rang\n",
      "lab_wav_pairs/008479.wav ['rang'] ['rang4']\n",
      "can cang\n",
      "lab_wav_pairs/009559.wav ['cang', 'zang'] ['cang2', 'zang4']\n",
      "pin ping\n",
      "lab_wav_pairs/009559.wav ['ping'] ['ping2']\n",
      "ao wa\n",
      "lab_wav_pairs/009559.wav ['ao', 'wa'] ['ao1', 'wa1']\n",
      "!!!\n",
      "zei zen\n",
      "lab_wav_pairs/009593.wav ['zen'] ['zen3']\n",
      "shen zhen\n",
      "lab_wav_pairs/008370.wav ['zhen'] ['zhen3']\n",
      "bo bu\n",
      "lab_wav_pairs/009953.wav ['bu', 'fou'] ['bu4', 'fou3']\n",
      "hang heng\n",
      "lab_wav_pairs/008939.wav ['heng', 'heng'] ['heng2', 'heng4']\n",
      "pi pie\n",
      "lab_wav_pairs/008939.wav ['pie', 'pie'] ['pie1', 'pie3']\n",
      "de di\n",
      "lab_wav_pairs/008939.wav ['di', 'de'] ['di4', 'de5']\n",
      "!!!\n",
      "ji jin\n",
      "lab_wav_pairs/008939.wav ['jin'] ['jin4']\n",
      "yu ying\n",
      "lab_wav_pairs/009725.wav ['ying'] ['ying2']\n",
      "dong tong\n",
      "lab_wav_pairs/008010.wav ['tong', 'dong'] ['tong2', 'dong4']\n",
      "!!!\n",
      "chang cheng\n",
      "lab_wav_pairs/008667.wav ['cheng'] ['cheng2']\n",
      "nen nei\n",
      "lab_wav_pairs/009997.wav ['na', 'nei', 'na', 'ne'] ['na3', 'nei3', 'na5', 'ne2']\n",
      "jia zhan\n",
      "lab_wav_pairs/009699.wav ['zhan'] ['zhan3']\n",
      "zi zui\n",
      "lab_wav_pairs/009601.wav ['zui'] ['zui4']\n",
      "nang nao\n",
      "lab_wav_pairs/009245.wav ['nao'] ['nao4']\n",
      "tai pai\n",
      "lab_wav_pairs/009578.wav ['pai'] ['pai2']\n",
      "dang dao\n",
      "lab_wav_pairs/008257.wav ['dao'] ['dao4']\n",
      "san fan\n",
      "lab_wav_pairs/008257.wav ['fan'] ['fan1']\n",
      "bian dian\n",
      "lab_wav_pairs/009368.wav ['dian'] ['dian1']\n",
      "le la\n",
      "lab_wav_pairs/009368.wav ['la', 'la'] ['la1', 'la5']\n",
      "si su\n",
      "lab_wav_pairs/009368.wav ['su'] ['su4']\n",
      "jiu xiu\n",
      "lab_wav_pairs/009909.wav ['xiu', 'xu'] ['xiu1', 'xu3']\n",
      "zhi zhe\n",
      "lab_wav_pairs/009909.wav ['zhe', 'zhuo', 'zhao', 'zhao'] ['zhe5', 'zhuo2', 'zhao2', 'zhao1']\n",
      "lai lan\n",
      "lab_wav_pairs/008601.wav ['lan'] ['lan3']\n",
      "shuang shuan\n",
      "lab_wav_pairs/009402.wav ['shuan'] ['shuan4']\n",
      "xun xuan\n",
      "lab_wav_pairs/008259.wav ['xuan'] ['xuan1']\n",
      "kan kai\n",
      "lab_wav_pairs/008154.wav ['kai'] ['kai1']\n",
      "yi ya\n",
      "lab_wav_pairs/008199.wav ['ya', 'ya'] ['ya1', 'ya5']\n",
      "zhe zheng\n",
      "lab_wav_pairs/009789.wav ['zheng'] ['zheng4']\n",
      "bing bian\n",
      "lab_wav_pairs/008317.wav ['bian'] ['bian1']\n",
      "suo zuo\n",
      "lab_wav_pairs/008317.wav ['zuo'] ['zuo4']\n",
      "zhai zhan\n",
      "lab_wav_pairs/009474.wav ['zhan'] ['zhan3']\n",
      "pi pin\n",
      "lab_wav_pairs/009474.wav ['pin'] ['pin3']\n",
      "yao you\n",
      "lab_wav_pairs/009124.wav ['you'] ['you3']\n",
      "man men\n",
      "lab_wav_pairs/009124.wav ['men'] ['men2']\n",
      "ge de\n",
      "lab_wav_pairs/009172.wav ['de', 'dei', 'de'] ['de2', 'dei3', 'de5']\n",
      "yun yu\n",
      "lab_wav_pairs/009375.wav ['yu'] ['yu4']\n",
      "huan huai\n",
      "lab_wav_pairs/009444.wav ['huai', 'pei', 'pi', 'pei'] ['huai4', 'pei1', 'pi1', 'pei2']\n",
      "jie jian\n",
      "lab_wav_pairs/008910.wav ['jian'] ['jian3']\n",
      "jian jie\n",
      "lab_wav_pairs/009284.wav ['jie', 'jie', 'xie'] ['jie3', 'jie4', 'xie4']\n",
      "zhe zhao\n",
      "lab_wav_pairs/008128.wav ['zhe', 'zhuo', 'zhao', 'zhao'] ['zhe5', 'zhuo2', 'zhao2', 'zhao1']\n",
      "!!!\n",
      "geng deng\n",
      "lab_wav_pairs/009090.wav ['deng'] ['deng3']\n",
      "chong cheng\n",
      "lab_wav_pairs/009090.wav ['cheng', 'deng'] ['cheng2', 'deng4']\n",
      "mie mian\n",
      "lab_wav_pairs/008542.wav ['mian'] ['mian4']\n",
      "qing qi\n",
      "lab_wav_pairs/009102.wav ['qi', 'ji', 'zi', 'zhai'] ['qi2', 'ji4', 'zi1', 'zhai1']\n",
      "tan tai\n",
      "lab_wav_pairs/009102.wav ['tai'] ['tai4']\n",
      "jian jie\n",
      "lab_wav_pairs/008093.wav ['jie', 'jie'] ['jie2', 'jie1']\n",
      "ping pin\n",
      "lab_wav_pairs/008093.wav ['pin'] ['pin4']\n",
      "men me\n",
      "lab_wav_pairs/008806.wav ['me', 'mo', 'ma', 'yao'] ['me5', 'mo2', 'ma5', 'yao1']\n",
      "dao dang\n",
      "lab_wav_pairs/008165.wav ['dang', 'dang'] ['dang1', 'dang4']\n",
      "shu shuo\n",
      "lab_wav_pairs/008592.wav ['shuo', 'shui', 'yue'] ['shuo1', 'shui4', 'yue4']\n",
      "fang wang\n",
      "lab_wav_pairs/009062.wav ['wang'] ['wang3']\n",
      "men me\n",
      "lab_wav_pairs/009572.wav ['me', 'mo', 'ma', 'yao'] ['me5', 'mo2', 'ma5', 'yao1']\n",
      "xian xin\n",
      "lab_wav_pairs/008759.wav ['xin', 'shen'] ['xin4', 'shen1']\n",
      "bo mou\n",
      "lab_wav_pairs/008759.wav ['mou'] ['mou3']\n",
      "zhe re\n",
      "lab_wav_pairs/008557.wav ['re'] ['re4']\n",
      "zhang chang\n",
      "lab_wav_pairs/008251.wav ['chang', 'zhang'] ['chang2', 'zhang3']\n",
      "!!!\n",
      "zai sai\n",
      "lab_wav_pairs/009089.wav ['sai'] ['sai4']\n",
      "song sou\n",
      "lab_wav_pairs/009828.wav ['sou'] ['sou1']\n",
      "dian die\n",
      "lab_wav_pairs/009828.wav ['die'] ['die1']\n",
      "shi zhi\n",
      "lab_wav_pairs/009828.wav ['zhi'] ['zhi4']\n",
      "zhe zhi\n",
      "lab_wav_pairs/009828.wav ['zhi'] ['zhi1']\n",
      "wan wai\n",
      "lab_wav_pairs/009189.wav ['wai'] ['wai4']\n",
      "ba bai\n",
      "lab_wav_pairs/009507.wav ['bai'] ['bai3']\n",
      "que quan\n",
      "lab_wav_pairs/008302.wav ['quan'] ['quan2']\n",
      "you yong\n",
      "lab_wav_pairs/009820.wav ['yong'] ['yong4']\n",
      "shui rui\n",
      "lab_wav_pairs/008445.wav ['rui'] ['rui3']\n",
      "ye yue\n",
      "lab_wav_pairs/008445.wav ['yue'] ['yue4']\n",
      "huo hu\n",
      "lab_wav_pairs/008445.wav ['hu'] ['hu4']\n",
      "yu ri\n",
      "lab_wav_pairs/008714.wav ['ri'] ['ri4']\n",
      "ji jin\n",
      "lab_wav_pairs/009164.wav ['jin', 'jin'] ['jin3', 'jin4']\n",
      "yuan yue\n",
      "lab_wav_pairs/009379.wav ['yue'] ['yue4']\n",
      "ta tan\n",
      "lab_wav_pairs/009379.wav ['tan'] ['tan2']\n",
      "zhou zhong\n",
      "lab_wav_pairs/009728.wav ['zhong', 'chong'] ['zhong4', 'chong2']\n",
      "yan ye\n",
      "lab_wav_pairs/008780.wav ['ye'] ['ye3']\n",
      "gu guo\n",
      "lab_wav_pairs/008250.wav ['guo'] ['guo2']\n",
      "shou sheng\n",
      "lab_wav_pairs/008250.wav ['sheng'] ['sheng1']\n",
      "pian ping\n",
      "lab_wav_pairs/008813.wav ['ping'] ['ping2']\n",
      "zhu zhong\n",
      "lab_wav_pairs/008888.wav ['zhong', 'chong'] ['zhong4', 'chong2']\n",
      "zhe zhi\n",
      "lab_wav_pairs/008816.wav ['zhi'] ['zhi1']\n",
      "shi shui\n",
      "lab_wav_pairs/009152.wav ['shui'] ['shui4']\n",
      "pin ping\n",
      "lab_wav_pairs/009576.wav ['ping'] ['ping2']\n",
      "lian ling\n",
      "lab_wav_pairs/008569.wav ['ling'] ['ling2']\n",
      "lian ling\n",
      "lab_wav_pairs/008569.wav ['ling'] ['ling2']\n",
      "gou gong\n",
      "lab_wav_pairs/008569.wav ['gong', 'gong'] ['gong1', 'gong4']\n",
      "jin ji\n",
      "lab_wav_pairs/009890.wav ['ji'] ['ji4']\n",
      "chui chun\n",
      "lab_wav_pairs/009503.wav ['chun'] ['chun3']\n",
      "dian gei\n",
      "lab_wav_pairs/008921.wav ['gei', 'ji'] ['gei3', 'ji3']\n",
      "dei de\n",
      "lab_wav_pairs/008921.wav ['de', 'dei', 'de'] ['de2', 'dei3', 'de5']\n",
      "!!!\n",
      "bo bu\n",
      "lab_wav_pairs/008921.wav ['bu', 'fou'] ['bu4', 'fou3']\n",
      "zhe zheng\n",
      "lab_wav_pairs/008520.wav ['zheng', 'zheng'] ['zheng4', 'zheng1']\n",
      "xi xin\n",
      "lab_wav_pairs/008594.wav ['xin'] ['xin1']\n",
      "yi ye\n",
      "lab_wav_pairs/008594.wav ['ye'] ['ye3']\n",
      "quan qun\n",
      "lab_wav_pairs/008211.wav ['qun'] ['qun2']\n",
      "dei de\n",
      "lab_wav_pairs/009099.wav ['de', 'dei', 'de'] ['de2', 'dei3', 'de5']\n",
      "!!!\n",
      "xin xi\n",
      "lab_wav_pairs/009099.wav ['xi'] ['xi1']\n",
      "wu bu\n",
      "lab_wav_pairs/009173.wav ['bu', 'fou'] ['bu4', 'fou3']\n",
      "ji jin\n",
      "lab_wav_pairs/009218.wav ['jin'] ['jin1']\n",
      "jing jin\n",
      "lab_wav_pairs/009469.wav ['jin', 'jin'] ['jin4', 'jin3']\n",
      "tan tai\n",
      "lab_wav_pairs/009469.wav ['tai'] ['tai4']\n",
      "gu guo\n",
      "lab_wav_pairs/008786.wav ['guo'] ['guo2']\n",
      "yue yuan\n",
      "lab_wav_pairs/008786.wav ['yuan'] ['yuan4']\n",
      "gan gai\n",
      "lab_wav_pairs/008786.wav ['gai'] ['gai3']\n",
      "dao dang\n",
      "lab_wav_pairs/008505.wav ['dang'] ['dang3']\n",
      "xue xie\n",
      "lab_wav_pairs/008840.wav ['xie', 'xue'] ['xie3', 'xue4']\n",
      "!!!\n",
      "pin ping\n",
      "lab_wav_pairs/008840.wav ['ping'] ['ping2']\n",
      "qin qing\n",
      "lab_wav_pairs/008855.wav ['qing'] ['qing2']\n",
      "bing bian\n",
      "lab_wav_pairs/008855.wav ['bian'] ['bian1']\n",
      "de di\n",
      "lab_wav_pairs/008993.wav ['di', 'de'] ['di4', 'de5']\n",
      "!!!\n",
      "de dao\n",
      "lab_wav_pairs/008272.wav ['dao'] ['dao4']\n",
      "jin ji\n",
      "lab_wav_pairs/008452.wav ['ji'] ['ji4']\n",
      "zhei zhe\n",
      "lab_wav_pairs/008452.wav ['zhe', 'zhei'] ['zhe4', 'zhei4']\n",
      "!!!\n",
      "yao yang\n",
      "lab_wav_pairs/008452.wav ['yang'] ['yang4']\n",
      "ji jing\n",
      "lab_wav_pairs/009439.wav ['jing'] ['jing3']\n",
      "lv li\n",
      "lab_wav_pairs/009439.wav ['li'] ['li4']\n",
      "ruan run\n",
      "lab_wav_pairs/009766.wav ['run'] ['run4']\n",
      "yi yin\n",
      "lab_wav_pairs/009128.wav ['yin', 'yin'] ['yin3', 'yin4']\n",
      "ting ti\n",
      "lab_wav_pairs/009961.wav ['ti'] ['ti1']\n",
      "qian qie\n",
      "lab_wav_pairs/008756.wav ['qie', 'jia'] ['qie2', 'jia1']\n",
      "guan guang\n",
      "lab_wav_pairs/009794.wav ['guang', 'an'] ['guang3', 'an1']\n",
      "lian lie\n",
      "lab_wav_pairs/009794.wav ['lie'] ['lie4']\n",
      "liang liao\n",
      "lab_wav_pairs/008904.wav ['liao'] ['liao2']\n",
      "xun xu\n",
      "lab_wav_pairs/008134.wav ['xu'] ['xu1']\n",
      "qing qin\n",
      "lab_wav_pairs/008987.wav ['qin'] ['qin1']\n",
      "gan gang\n",
      "lab_wav_pairs/009228.wav ['gang', 'jiang'] ['gang3', 'jiang3']\n",
      "xi xue\n",
      "lab_wav_pairs/009228.wav ['xie', 'xue'] ['xie3', 'xue4']\n",
      "de dui\n",
      "lab_wav_pairs/008625.wav ['dui'] ['dui4']\n",
      "men me\n",
      "lab_wav_pairs/009010.wav ['me', 'mo', 'ma', 'yao'] ['me5', 'mo2', 'ma5', 'yao1']\n",
      "ye yan\n",
      "lab_wav_pairs/009010.wav ['yan'] ['yan4']\n",
      "bu de\n",
      "lab_wav_pairs/008731.wav ['de', 'di', 'di'] ['de5', 'di2', 'di4']\n",
      "mou me\n",
      "lab_wav_pairs/008731.wav ['me', 'mo', 'ma', 'yao'] ['me5', 'mo2', 'ma5', 'yao1']\n",
      "xian xie\n",
      "lab_wav_pairs/009176.wav ['xie', 'suo'] ['xie1', 'suo4']\n",
      "zhei zhe\n",
      "lab_wav_pairs/009035.wav ['zhe', 'zhuo', 'zhao', 'zhao'] ['zhe5', 'zhuo2', 'zhao2', 'zhao1']\n",
      "shang chang\n",
      "lab_wav_pairs/009035.wav ['chang', 'shang'] ['chang2', 'shang5']\n",
      "!!!\n",
      "ming min\n",
      "lab_wav_pairs/009041.wav ['min'] ['min2']\n",
      "yu zi\n",
      "lab_wav_pairs/009041.wav ['zhi', 'zi'] ['zhi1', 'zi1']\n",
      "yu zi\n",
      "lab_wav_pairs/009041.wav ['zhi', 'zi'] ['zhi1', 'zi1']\n",
      "yan ye\n",
      "lab_wav_pairs/009535.wav ['ye'] ['ye3']\n",
      "xin xi\n",
      "lab_wav_pairs/009862.wav ['xi'] ['xi1']\n",
      "le lang\n",
      "lab_wav_pairs/008541.wav ['lang'] ['lang4']\n",
      "de di\n",
      "lab_wav_pairs/008541.wav ['di', 'de'] ['di4', 'de5']\n",
      "!!!\n",
      "dong duo\n",
      "lab_wav_pairs/009526.wav ['duo'] ['duo1']\n",
      "bian bie\n",
      "lab_wav_pairs/009526.wav ['bie'] ['bie1']\n",
      "gang gao\n",
      "lab_wav_pairs/009591.wav ['gao'] ['gao1']\n",
      "jie jian\n",
      "lab_wav_pairs/008823.wav ['jian'] ['jian4']\n",
      "ju jun\n",
      "lab_wav_pairs/008051.wav ['jun'] ['jun1']\n",
      "mao mang\n",
      "lab_wav_pairs/009669.wav ['meng', 'mang'] ['meng2', 'mang2']\n",
      "xing xin\n",
      "lab_wav_pairs/008908.wav ['xin'] ['xin1']\n",
      "yao re\n",
      "lab_wav_pairs/008908.wav ['re'] ['re4']\n",
      "shang rang\n",
      "lab_wav_pairs/008013.wav ['rang'] ['rang4']\n",
      "chao zhao\n",
      "lab_wav_pairs/008683.wav ['zhao', 'chao'] ['zhao1', 'chao2']\n",
      "!!!\n",
      "jian jin\n",
      "lab_wav_pairs/008052.wav ['jin'] ['jin1']\n",
      "yin ying\n",
      "lab_wav_pairs/008455.wav ['ying'] ['ying2']\n",
      "jian jie\n",
      "lab_wav_pairs/009063.wav ['jie', 'jie', 'xie'] ['jie3', 'jie4', 'xie4']\n",
      "fan fen\n",
      "lab_wav_pairs/009063.wav ['fen'] ['fen4']\n",
      "pi ping\n",
      "lab_wav_pairs/009018.wav ['ping'] ['ping2']\n",
      "men de\n",
      "lab_wav_pairs/009018.wav ['de', 'di', 'di'] ['de5', 'di2', 'di4']\n",
      "er hang\n",
      "lab_wav_pairs/009018.wav ['hang', 'xing', 'heng', 'hang'] ['hang2', 'xing2', 'heng2', 'hang4']\n",
      "bo bu\n",
      "lab_wav_pairs/008418.wav ['bu', 'fou'] ['bu4', 'fou3']\n",
      "xiang xiao\n",
      "lab_wav_pairs/008537.wav ['xiao', 'jiao'] ['xiao4', 'jiao4']\n",
      "yao liao\n",
      "lab_wav_pairs/009811.wav ['liao'] ['liao2']\n",
      "de me\n",
      "lab_wav_pairs/008386.wav ['me', 'mo', 'ma', 'yao'] ['me5', 'mo2', 'ma5', 'yao1']\n",
      "yangr di\n",
      "lab_wav_pairs/008905.wav ['di', 'de'] ['di4', 'de5']\n",
      "zi zui\n",
      "lab_wav_pairs/009213.wav ['zui'] ['zui4']\n",
      "tan ta\n",
      "lab_wav_pairs/008656.wav ['ta'] ['ta4']\n",
      "dou deng\n",
      "lab_wav_pairs/009724.wav ['deng'] ['deng3']\n",
      "xia xiang\n",
      "lab_wav_pairs/009891.wav ['xiang'] ['xiang4']\n",
      "ng wa\n",
      "lab_wav_pairs/009500.wav ['ao', 'wa'] ['ao1', 'wa1']\n",
      "ceng zeng\n",
      "lab_wav_pairs/009500.wav ['zeng', 'ceng'] ['zeng1', 'ceng2']\n",
      "!!!\n",
      "fen he\n",
      "lab_wav_pairs/009205.wav ['he', 'he', 'huo', 'huo', 'hu'] ['he2', 'he4', 'huo2', 'huo4', 'hu2']\n",
      "jing jin\n",
      "lab_wav_pairs/009205.wav ['jin'] ['jin1']\n",
      "fu fo\n",
      "lab_wav_pairs/008268.wav ['fo', 'fu', 'bi', 'bo'] ['fo2', 'fu2', 'bi4', 'bo2']\n",
      "!!!\n",
      "men neng\n",
      "lab_wav_pairs/009731.wav ['neng', 'nai'] ['neng2', 'nai4']\n",
      "ye yin\n",
      "lab_wav_pairs/009731.wav ['yin'] ['yin3']\n",
      "men me\n",
      "lab_wav_pairs/008902.wav ['me', 'mo', 'ma', 'yao'] ['me5', 'mo2', 'ma5', 'yao1']\n",
      "shen shan\n",
      "lab_wav_pairs/009618.wav ['shan'] ['shan1']\n",
      "ci zi\n",
      "lab_wav_pairs/009750.wav ['zi', 'ci'] ['zi1', 'ci1']\n",
      "!!!\n",
      "ming mi\n",
      "lab_wav_pairs/009989.wav ['mi'] ['mi2']\n",
      "zhi zhe\n",
      "lab_wav_pairs/009989.wav ['zhe', 'zhuo', 'zhao', 'zhao'] ['zhe5', 'zhuo2', 'zhao2', 'zhao1']\n",
      "chan chai\n",
      "lab_wav_pairs/009600.wav ['chai', 'ca'] ['chai1', 'ca1']\n",
      "ji jin\n",
      "lab_wav_pairs/009420.wav ['jin'] ['jin4']\n",
      "tu tuo\n",
      "lab_wav_pairs/008315.wav ['tuo', 'ta', 'zhi'] ['tuo4', 'ta4', 'zhi2']\n",
      "bei de\n",
      "lab_wav_pairs/009835.wav ['de', 'dei', 'de'] ['de2', 'dei3', 'de5']\n",
      "bian bie\n",
      "lab_wav_pairs/009835.wav ['bie', 'bie'] ['bie2', 'bie4']\n",
      "ni nv\n",
      "lab_wav_pairs/009835.wav ['nv', 'ru'] ['nv3', 'ru3']\n",
      "shua shuai\n",
      "lab_wav_pairs/008596.wav ['shuai'] ['shuai3']\n",
      "qian qi\n",
      "lab_wav_pairs/008596.wav ['qi'] ['qi3']\n",
      "rou reng\n",
      "lab_wav_pairs/008561.wav ['reng'] ['reng2']\n",
      "de di\n",
      "lab_wav_pairs/008561.wav ['di', 'de'] ['di4', 'de5']\n",
      "!!!\n",
      "de deng\n",
      "lab_wav_pairs/008943.wav ['deng'] ['deng3']\n",
      "xi xin\n",
      "lab_wav_pairs/008943.wav ['xin'] ['xin1']\n",
      "yi ri\n",
      "lab_wav_pairs/008961.wav ['ri'] ['ri4']\n",
      "zhe zhou\n",
      "lab_wav_pairs/008961.wav ['zhou'] ['zhou1']\n",
      "dian die\n",
      "lab_wav_pairs/008961.wav ['die'] ['die1']\n",
      "tan dan\n",
      "lab_wav_pairs/008961.wav ['dan', 'tan'] ['dan4', 'tan2']\n",
      "!!!\n",
      "xing xin\n",
      "lab_wav_pairs/008407.wav ['xin'] ['xin1']\n",
      "ban nan\n",
      "lab_wav_pairs/008407.wav ['nan', 'nan', 'nuo'] ['nan2', 'nan4', 'nuo2']\n",
      "da dai\n",
      "lab_wav_pairs/008407.wav ['dai'] ['dai4']\n",
      "chong chou\n",
      "lab_wav_pairs/009533.wav ['chou'] ['chou3']\n",
      "jing jin\n",
      "lab_wav_pairs/008743.wav ['jin'] ['jin4']\n",
      "han hai\n",
      "lab_wav_pairs/008743.wav ['hai', 'huan'] ['hai2', 'huan2']\n",
      "ao ang\n",
      "lab_wav_pairs/009627.wav ['ang'] ['ang4']\n",
      "mi ming\n",
      "lab_wav_pairs/009627.wav ['ming'] ['ming4']\n",
      "luo la\n",
      "lab_wav_pairs/009834.wav ['la', 'luo', 'lao'] ['la4', 'luo4', 'lao4']\n",
      "!!!\n",
      "yuan yue\n",
      "lab_wav_pairs/008466.wav ['yue'] ['yue4']\n",
      "e la\n",
      "lab_wav_pairs/008401.wav ['la', 'luo', 'lao'] ['la4', 'luo4', 'lao4']\n",
      "yuan yue\n",
      "lab_wav_pairs/009671.wav ['le', 'yue', 'yao', 'lao'] ['le4', 'yue4', 'yao4', 'lao4']\n",
      "jun ju\n",
      "lab_wav_pairs/008597.wav ['ju'] ['ju1']\n",
      "xie xin\n",
      "lab_wav_pairs/008597.wav ['xin', 'shen'] ['xin4', 'shen1']\n",
      "ji jin\n",
      "lab_wav_pairs/009541.wav ['jin'] ['jin1']\n",
      "dui dun\n",
      "lab_wav_pairs/008427.wav ['dun', 'du'] ['dun4', 'du2']\n",
      "pian pie\n",
      "lab_wav_pairs/008279.wav ['pie'] ['pie1']\n",
      "zhe zhen\n",
      "lab_wav_pairs/008279.wav ['zhen'] ['zhen1']\n",
      "pi pin\n",
      "lab_wav_pairs/008279.wav ['pin'] ['pin3']\n",
      "dou dong\n",
      "lab_wav_pairs/008184.wav ['dong'] ['dong4']\n",
      "ren yuan\n",
      "lab_wav_pairs/008184.wav ['yuan', 'yun', 'yun'] ['yuan2', 'yun2', 'yun4']\n",
      "zhang zhao\n",
      "lab_wav_pairs/008184.wav ['zhao'] ['zhao3']\n",
      "xiang xiao\n",
      "lab_wav_pairs/009296.wav ['xiao'] ['xiao1']\n",
      "ning nin\n",
      "lab_wav_pairs/009324.wav ['nin'] ['nin2']\n",
      "shu shi\n",
      "lab_wav_pairs/009324.wav ['shi'] ['shi4']\n",
      "jian jin\n",
      "lab_wav_pairs/009513.wav ['jin', 'jin'] ['jin3', 'jin4']\n",
      "zan zai\n",
      "lab_wav_pairs/009840.wav ['zai'] ['zai4']\n",
      "de di\n",
      "lab_wav_pairs/008130.wav ['di', 'de'] ['di4', 'de5']\n",
      "!!!\n",
      "er ng\n",
      "lab_wav_pairs/008130.wav ['ng', 'ng', 'ng', 'n', 'n', 'n'] ['ng4', 'ng2', 'ng3', 'n4', 'n2', 'n3']\n",
      "xi xin\n",
      "lab_wav_pairs/008807.wav ['xin'] ['xin1']\n",
      "ng nei\n",
      "lab_wav_pairs/008807.wav ['na', 'nei', 'na', 'ne'] ['na3', 'nei3', 'na5', 'ne2']\n",
      "de di\n",
      "lab_wav_pairs/008227.wav ['di', 'de'] ['di4', 'de5']\n",
      "!!!\n",
      "gang gao\n",
      "lab_wav_pairs/008227.wav ['gao'] ['gao4']\n",
      "de di\n",
      "lab_wav_pairs/008011.wav ['di', 'de'] ['di4', 'de5']\n",
      "!!!\n",
      "yu yun\n",
      "lab_wav_pairs/008713.wav ['yun', 'yun'] ['yun4', 'yun1']\n",
      "qi xi\n",
      "lab_wav_pairs/008753.wav ['xi'] ['xi4']\n",
      "jie jian\n",
      "lab_wav_pairs/009307.wav ['jian', 'xian'] ['jian4', 'xian4']\n",
      "bao bang\n",
      "lab_wav_pairs/008808.wav ['bang', 'pang'] ['bang4', 'pang2']\n",
      "xie xi\n",
      "lab_wav_pairs/009923.wav ['xi'] ['xi1']\n",
      "shu shuo\n",
      "lab_wav_pairs/009923.wav ['shuo', 'shui', 'yue'] ['shuo1', 'shui4', 'yue4']\n",
      "hou hao\n",
      "lab_wav_pairs/009002.wav ['hao', 'hao'] ['hao4', 'hao2']\n",
      "xian xie\n",
      "lab_wav_pairs/009473.wav ['xie'] ['xie4']\n",
      "jun ju\n",
      "lab_wav_pairs/008192.wav ['ju', 'gou'] ['ju4', 'gou1']\n",
      "she shui\n",
      "lab_wav_pairs/009283.wav ['shui'] ['shui3']\n",
      "wen wei\n",
      "lab_wav_pairs/008525.wav ['wei', 'wei'] ['wei2', 'wei4']\n",
      "lia liang\n",
      "lab_wav_pairs/008525.wav ['liang', 'lia'] ['liang3', 'lia3']\n",
      "!!!\n",
      "kuo ku\n",
      "lab_wav_pairs/008689.wav ['ku'] ['ku3']\n",
      "xi xing\n",
      "lab_wav_pairs/008277.wav ['xing', 'xing'] ['xing1', 'xing4']\n",
      "dun lun\n",
      "lab_wav_pairs/009814.wav ['lun', 'lun'] ['lun4', 'lun2']\n",
      "jin ji\n",
      "lab_wav_pairs/008761.wav ['ji', 'ji'] ['ji4', 'ji3']\n",
      "me men\n",
      "lab_wav_pairs/009483.wav ['men'] ['men2']\n",
      "yi yu\n",
      "lab_wav_pairs/009894.wav ['yu'] ['yu4']\n",
      "de di\n",
      "lab_wav_pairs/008305.wav ['di', 'de'] ['di4', 'de5']\n",
      "!!!\n",
      "lia liang\n",
      "lab_wav_pairs/008414.wav ['liang', 'lia'] ['liang3', 'lia3']\n",
      "!!!\n",
      "jian jie\n",
      "lab_wav_pairs/008831.wav ['jie'] ['jie4']\n",
      "zi ci\n",
      "lab_wav_pairs/008185.wav ['ci'] ['ci4']\n",
      "dan dai\n",
      "lab_wav_pairs/008185.wav ['dai'] ['dai4']\n",
      "shi shen\n",
      "lab_wav_pairs/008185.wav ['shen'] ['shen1']\n",
      "xing xi\n",
      "lab_wav_pairs/009343.wav ['xi'] ['xi3']\n",
      "lao lou\n",
      "lab_wav_pairs/008724.wav ['lou', 'lou'] ['lou2', 'lou5']\n",
      "de duan\n",
      "lab_wav_pairs/009825.wav ['duan'] ['duan4']\n",
      "de dou\n",
      "lab_wav_pairs/009518.wav ['dou', 'du'] ['dou1', 'du1']\n",
      "er hang\n",
      "lab_wav_pairs/009518.wav ['hang', 'xing', 'heng', 'hang'] ['hang2', 'xing2', 'heng2', 'hang4']\n",
      "fan san\n",
      "lab_wav_pairs/008645.wav ['san', 'san'] ['san4', 'san3']\n",
      "can cen\n",
      "lab_wav_pairs/008270.wav ['cen'] ['cen2']\n",
      "bi li\n",
      "lab_wav_pairs/008270.wav ['li'] ['li4']\n",
      "guan guang\n",
      "lab_wav_pairs/008003.wav ['guang', 'an'] ['guang3', 'an1']\n",
      "chuan chuai\n",
      "lab_wav_pairs/009854.wav ['chuai', 'chuai', 'chuai', 'tuan', 'zhui'] ['chuai3', 'chuai4', 'chuai1', 'tuan2', 'zhui1']\n",
      "pu po\n",
      "lab_wav_pairs/009854.wav ['po'] ['po1']\n",
      "zhong zhou\n",
      "lab_wav_pairs/009854.wav ['zhou'] ['zhou1']\n",
      "ren ran\n",
      "lab_wav_pairs/009034.wav ['ran'] ['ran2']\n",
      "guo gu\n",
      "lab_wav_pairs/008079.wav ['gu'] ['gu1']\n",
      "men me\n",
      "lab_wav_pairs/008079.wav ['me', 'mo', 'ma', 'yao'] ['me5', 'mo2', 'ma5', 'yao1']\n",
      "men nen\n",
      "lab_wav_pairs/009654.wav ['nen'] ['nen4']\n",
      "wen wan\n",
      "lab_wav_pairs/009756.wav ['wan'] ['wan1']\n",
      "lia liang\n",
      "lab_wav_pairs/008973.wav ['liang', 'lia'] ['liang3', 'lia3']\n",
      "!!!\n",
      "xia xiang\n",
      "lab_wav_pairs/008973.wav ['xiang'] ['xiang3']\n",
      "yan ye\n",
      "lab_wav_pairs/009596.wav ['ye'] ['ye4']\n",
      "xu xun\n",
      "lab_wav_pairs/009506.wav ['xun'] ['xun2']\n",
      "da dan\n",
      "lab_wav_pairs/009506.wav ['dan', 'tan'] ['dan4', 'tan2']\n",
      "nen nei\n",
      "lab_wav_pairs/009506.wav ['na', 'nei', 'na', 'ne'] ['na3', 'nei3', 'na5', 'ne2']\n",
      "jin jian\n",
      "lab_wav_pairs/008275.wav ['jian'] ['jian4']\n",
      "bie bing\n",
      "lab_wav_pairs/008533.wav ['bing'] ['bing3']\n",
      "ni ning\n",
      "lab_wav_pairs/008775.wav ['ning', 'ning', 'zhu'] ['ning2', 'ning4', 'zhu4']\n",
      "yue yuan\n",
      "lab_wav_pairs/008775.wav ['yuan'] ['yuan4']\n",
      "ji jin\n",
      "lab_wav_pairs/008664.wav ['jin'] ['jin4']\n",
      "nian nin\n",
      "lab_wav_pairs/008664.wav ['nin'] ['nin2']\n",
      "qian qie\n",
      "lab_wav_pairs/009304.wav ['qie', 'ju'] ['qie3', 'ju1']\n",
      "da dai\n",
      "lab_wav_pairs/009304.wav ['dai'] ['dai4']\n",
      "dong dou\n",
      "lab_wav_pairs/009048.wav ['dou', 'du'] ['dou1', 'du1']\n",
      "wen an\n",
      "lab_wav_pairs/008028.wav ['an'] ['an1']\n",
      "tong tou\n",
      "lab_wav_pairs/009916.wav ['tou', 'tou'] ['tou2', 'tou5']\n",
      "san suan\n",
      "lab_wav_pairs/009198.wav ['suan'] ['suan4']\n",
      "xie xi\n",
      "lab_wav_pairs/009536.wav ['xi'] ['xi1']\n",
      "dou dong\n",
      "lab_wav_pairs/008758.wav ['dong'] ['dong4']\n",
      "pin ping\n",
      "lab_wav_pairs/009817.wav ['ping'] ['ping2']\n",
      "xiang xiao\n",
      "lab_wav_pairs/008842.wav ['xiao'] ['xiao4']\n",
      "yan ye\n",
      "lab_wav_pairs/008465.wav ['ye'] ['ye3']\n",
      "dei de\n",
      "lab_wav_pairs/008465.wav ['de', 'dei', 'de'] ['de2', 'dei3', 'de5']\n",
      "!!!\n",
      "na nei\n",
      "lab_wav_pairs/008465.wav ['na', 'nei', 'na', 'ne'] ['na3', 'nei3', 'na5', 'ne2']\n",
      "!!!\n",
      "gu guo\n",
      "lab_wav_pairs/008312.wav ['guo'] ['guo2']\n",
      "jin ji\n",
      "lab_wav_pairs/008312.wav ['ji'] ['ji4']\n",
      "shui shi\n",
      "lab_wav_pairs/008312.wav ['shi'] ['shi4']\n",
      "ni nv\n",
      "lab_wav_pairs/009434.wav ['nv', 'ru'] ['nv3', 'ru3']\n",
      "jin jian\n",
      "lab_wav_pairs/008325.wav ['jian', 'jian'] ['jian4', 'jian1']\n",
      "ta pai\n",
      "lab_wav_pairs/008173.wav ['pai'] ['pai1']\n",
      "hou hong\n",
      "lab_wav_pairs/008413.wav ['hong', 'gong'] ['hong2', 'gong1']\n",
      "que quan\n",
      "lab_wav_pairs/008527.wav ['quan', 'juan', 'juan'] ['quan1', 'juan4', 'juan1']\n",
      "me men\n",
      "lab_wav_pairs/008322.wav ['men'] ['men2']\n",
      "de le\n",
      "lab_wav_pairs/009384.wav ['le', 'yue', 'yao', 'lao'] ['le4', 'yue4', 'yao4', 'lao4']\n",
      "wai wan\n",
      "lab_wav_pairs/008879.wav ['wan'] ['wan2']\n",
      "ke he\n",
      "lab_wav_pairs/008632.wav ['he', 'ge'] ['he2', 'ge3']\n",
      "ye yan\n",
      "lab_wav_pairs/008721.wav ['yan'] ['yan2']\n",
      "de deng\n",
      "lab_wav_pairs/008923.wav ['deng'] ['deng3']\n",
      "ben de\n",
      "lab_wav_pairs/008071.wav ['de', 'di', 'di'] ['de5', 'di2', 'di4']\n",
      "gu guo\n",
      "lab_wav_pairs/009337.wav ['guo', 'guo', 'guo'] ['guo4', 'guo5', 'guo1']\n",
      "jie ji\n",
      "lab_wav_pairs/009720.wav ['ji'] ['ji4']\n",
      "qing jin\n",
      "lab_wav_pairs/009389.wav ['jin', 'jin'] ['jin3', 'jin4']\n",
      "yue yuan\n",
      "lab_wav_pairs/008382.wav ['yuan'] ['yuan1']\n",
      "yan ren\n",
      "lab_wav_pairs/008524.wav ['ren'] ['ren2']\n",
      "jian jin\n",
      "lab_wav_pairs/009479.wav ['jin'] ['jin3']\n",
      "zhi zhun\n",
      "lab_wav_pairs/008263.wav ['zhun'] ['zhun3']\n",
      "you hang\n",
      "lab_wav_pairs/008263.wav ['hang', 'xing', 'heng', 'hang'] ['hang2', 'xing2', 'heng2', 'hang4']\n",
      "yun yu\n",
      "lab_wav_pairs/008263.wav ['yu'] ['yu4']\n",
      "bo bu\n",
      "lab_wav_pairs/008899.wav ['bu', 'fou'] ['bu4', 'fou3']\n",
      "yao yang\n",
      "lab_wav_pairs/008972.wav ['yang'] ['yang3']\n",
      "wu wo\n",
      "lab_wav_pairs/008321.wav ['wo'] ['wo4']\n",
      "lian lie\n",
      "lab_wav_pairs/008054.wav ['lie', 'lie', 'lie', 'lie'] ['lie3', 'lie1', 'lie2', 'lie5']\n",
      "xian xing\n",
      "lab_wav_pairs/009895.wav ['xing'] ['xing4']\n",
      "lin ling\n",
      "lab_wav_pairs/009321.wav ['ling'] ['ling3']\n",
      "men me\n",
      "lab_wav_pairs/008678.wav ['me', 'mo', 'ma', 'yao'] ['me5', 'mo2', 'ma5', 'yao1']\n",
      "gai gan\n",
      "lab_wav_pairs/008678.wav ['gan', 'gan'] ['gan1', 'gan4']\n",
      "ce cuan\n",
      "lab_wav_pairs/009174.wav ['cuan'] ['cuan1']\n",
      "jin ji\n",
      "lab_wav_pairs/009174.wav ['ji'] ['ji1']\n",
      "dan dai\n",
      "lab_wav_pairs/008650.wav ['dai'] ['dai4']\n",
      "yi yu\n",
      "lab_wav_pairs/009001.wav ['yu'] ['yu2']\n",
      "ji jin\n",
      "lab_wav_pairs/008975.wav ['jin'] ['jin1']\n",
      "ye ri\n",
      "lab_wav_pairs/008975.wav ['ri'] ['ri4']\n",
      "xing xin\n",
      "lab_wav_pairs/008975.wav ['xin'] ['xin1']\n",
      "xie xin\n",
      "lab_wav_pairs/008975.wav ['xin'] ['xin1']\n",
      "que qun\n",
      "lab_wav_pairs/008157.wav ['qun'] ['qun2']\n",
      "ling lin\n",
      "lab_wav_pairs/008333.wav ['lin', 'lin'] ['lin2', 'lin4']\n",
      "yue yuan\n",
      "lab_wav_pairs/009078.wav ['yuan'] ['yuan4']\n",
      "you ru\n",
      "lab_wav_pairs/009396.wav ['ru'] ['ru4']\n",
      "de di\n",
      "lab_wav_pairs/009287.wav ['di', 'de'] ['di4', 'de5']\n",
      "!!!\n",
      "shu shuo\n",
      "lab_wav_pairs/008767.wav ['shuo', 'shi'] ['shuo4', 'shi2']\n",
      "zhu zhong\n",
      "lab_wav_pairs/008767.wav ['zhong', 'zhong'] ['zhong1', 'zhong4']\n",
      "ji jie\n",
      "lab_wav_pairs/009792.wav ['jie'] ['jie4']\n",
      "bei fen\n",
      "lab_wav_pairs/009994.wav ['fen', 'bin'] ['fen4', 'bin1']\n",
      "xiao xiang\n",
      "lab_wav_pairs/008209.wav ['xiang'] ['xiang4']\n",
      "qian qie\n",
      "lab_wav_pairs/009608.wav ['qie', 'qie'] ['qie1', 'qie4']\n",
      "xi xing\n",
      "lab_wav_pairs/009095.wav ['hang', 'xing', 'heng', 'hang'] ['hang2', 'xing2', 'heng2', 'hang4']\n",
      "yong ru\n",
      "lab_wav_pairs/009095.wav ['ru'] ['ru4']\n",
      "fan fa\n",
      "lab_wav_pairs/009556.wav ['fa', 'fa'] ['fa1', 'fa4']\n",
      "ran zhan\n",
      "lab_wav_pairs/009556.wav ['zhan'] ['zhan3']\n",
      "bie bian\n",
      "lab_wav_pairs/009556.wav ['bian', 'pian'] ['bian4', 'pian2']\n",
      "de di\n",
      "lab_wav_pairs/008098.wav ['di', 'de'] ['di4', 'de5']\n",
      "!!!\n",
      "guan gua\n",
      "lab_wav_pairs/008087.wav ['gua'] ['gua4']\n",
      "ding dian\n",
      "lab_wav_pairs/008087.wav ['dian'] ['dian4']\n",
      "hou hong\n",
      "lab_wav_pairs/008397.wav ['hong', 'gong'] ['hong2', 'gong1']\n",
      "lia liang\n",
      "lab_wav_pairs/009933.wav ['liang', 'lia'] ['liang3', 'lia3']\n",
      "!!!\n",
      "lian lie\n",
      "lab_wav_pairs/009264.wav ['lie', 'lie', 'lie', 'lie'] ['lie3', 'lie1', 'lie2', 'lie5']\n",
      "fei fen\n",
      "lab_wav_pairs/008431.wav ['fen', 'bin'] ['fen4', 'bin1']\n",
      "yuan yun\n",
      "lab_wav_pairs/009325.wav ['yun'] ['yun2']\n",
      "lin ling\n",
      "lab_wav_pairs/009325.wav ['ling'] ['ling2']\n",
      "wen le\n",
      "lab_wav_pairs/008262.wav ['le', 'liao'] ['le5', 'liao3']\n",
      "jue ju\n",
      "lab_wav_pairs/008150.wav ['ju', 'gou'] ['ju4', 'gou1']\n",
      "lia liang\n",
      "lab_wav_pairs/008327.wav ['liang', 'lia'] ['liang3', 'lia3']\n",
      "!!!\n",
      "sa fa\n",
      "lab_wav_pairs/009044.wav ['fa', 'fa'] ['fa1', 'fa4']\n",
      "rang ren\n",
      "lab_wav_pairs/009044.wav ['ren'] ['ren2']\n",
      "mao meng\n",
      "lab_wav_pairs/008949.wav ['meng'] ['meng2']\n",
      "du dou\n",
      "lab_wav_pairs/009947.wav ['dou', 'du'] ['dou1', 'du1']\n",
      "!!!\n",
      "ting tian\n",
      "lab_wav_pairs/008202.wav ['tian'] ['tian1']\n",
      "ren ri\n",
      "lab_wav_pairs/008981.wav ['ri'] ['ri4']\n",
      "ze zen\n",
      "lab_wav_pairs/008981.wav ['zen'] ['zen3']\n",
      "qi qin\n",
      "lab_wav_pairs/009904.wav ['qin', 'qing'] ['qin1', 'qing4']\n",
      "reng rou\n",
      "lab_wav_pairs/008151.wav ['rou'] ['rou2']\n",
      "can cai\n",
      "lab_wav_pairs/008151.wav ['cai'] ['cai1']\n",
      "de di\n",
      "lab_wav_pairs/009385.wav ['di', 'de'] ['di4', 'de5']\n",
      "!!!\n",
      "yue yuan\n",
      "lab_wav_pairs/008103.wav ['yuan'] ['yuan2']\n",
      "qian qie\n",
      "lab_wav_pairs/008103.wav ['qie', 'qie'] ['qie1', 'qie4']\n",
      "se sa\n",
      "lab_wav_pairs/008866.wav ['sa'] ['sa4']\n",
      "ge ke\n",
      "lab_wav_pairs/008866.wav ['ke'] ['ke4']\n",
      "ji jin\n",
      "lab_wav_pairs/008866.wav ['jin'] ['jin4']\n",
      "pai tai\n",
      "lab_wav_pairs/008866.wav ['tai'] ['tai4']\n",
      "chang zhang\n",
      "lab_wav_pairs/008218.wav ['chang', 'zhang'] ['chang2', 'zhang3']\n",
      "!!!\n",
      "yuan yue\n",
      "lab_wav_pairs/008218.wav ['yue'] ['yue4']\n",
      "men le\n",
      "lab_wav_pairs/008637.wav ['le', 'liao'] ['le5', 'liao3']\n",
      "di dian\n",
      "lab_wav_pairs/008853.wav ['dian'] ['dian4']\n",
      "yi ying\n",
      "lab_wav_pairs/008853.wav ['ying'] ['ying3']\n",
      "hua kua\n",
      "lab_wav_pairs/008853.wav ['kua'] ['kua3']\n",
      "chou chao\n",
      "lab_wav_pairs/009016.wav ['chao'] ['chao1']\n",
      "de di\n",
      "lab_wav_pairs/009016.wav ['di', 'de'] ['di4', 'de5']\n",
      "!!!\n",
      "yuan yue\n",
      "lab_wav_pairs/008226.wav ['yue'] ['yue4']\n",
      "zhi zhe\n",
      "lab_wav_pairs/008627.wav ['zhe', 'zhuo', 'zhao', 'zhao'] ['zhe5', 'zhuo2', 'zhao2', 'zhao1']\n",
      "cheng chao\n",
      "lab_wav_pairs/008499.wav ['chao', 'chao'] ['chao3', 'chao1']\n",
      "zhe zhui\n",
      "lab_wav_pairs/008499.wav ['zhui'] ['zhui4']\n",
      "men me\n",
      "lab_wav_pairs/009734.wav ['me', 'mo', 'ma', 'yao'] ['me5', 'mo2', 'ma5', 'yao1']\n",
      "yin ying\n",
      "lab_wav_pairs/009490.wav ['ying'] ['ying4']\n",
      "ji jin\n",
      "lab_wav_pairs/009490.wav ['jin', 'jing'] ['jin4', 'jing4']\n",
      "de di\n",
      "lab_wav_pairs/009490.wav ['di', 'de'] ['di4', 'de5']\n",
      "!!!\n",
      "geng gou\n",
      "lab_wav_pairs/008378.wav ['gou'] ['gou3']\n",
      "men mei\n",
      "lab_wav_pairs/008378.wav ['mei', 'mo'] ['mei2', 'mo4']\n",
      "tuo tu\n",
      "lab_wav_pairs/008228.wav ['tu'] ['tu2']\n",
      "qu qun\n",
      "lab_wav_pairs/008228.wav ['qun'] ['qun2']\n",
      "de di\n",
      "lab_wav_pairs/009014.wav ['di', 'de'] ['di4', 'de5']\n",
      "!!!\n",
      "jie ji\n",
      "lab_wav_pairs/009846.wav ['ji'] ['ji4']\n",
      "ta pa\n",
      "lab_wav_pairs/008089.wav ['pa'] ['pa1']\n",
      "chang cheng\n",
      "lab_wav_pairs/009256.wav ['cheng'] ['cheng2']\n",
      "ying yu\n",
      "lab_wav_pairs/009354.wav ['yu', 'yu', 'yu'] ['yu3', 'yu4', 'yu2']\n",
      "le lei\n",
      "lab_wav_pairs/009354.wav ['lei'] ['lei3']\n",
      "yi yu\n",
      "lab_wav_pairs/009015.wav ['yu', 'yu', 'yu'] ['yu3', 'yu4', 'yu2']\n",
      "san sen\n",
      "lab_wav_pairs/009447.wav ['sen'] ['sen1']\n",
      "guo gong\n",
      "lab_wav_pairs/009447.wav ['gong'] ['gong1']\n",
      "lang lao\n",
      "lab_wav_pairs/008928.wav ['lao'] ['lao3']\n",
      "ze zi\n",
      "lab_wav_pairs/008928.wav ['zi'] ['zi3']\n",
      "huo huang\n",
      "lab_wav_pairs/008928.wav ['huang', 'huang'] ['huang3', 'huang4']\n",
      "si su\n",
      "lab_wav_pairs/008030.wav ['su'] ['su4']\n",
      "de dan\n",
      "lab_wav_pairs/008030.wav ['dan'] ['dan4']\n",
      "tuo tu\n",
      "lab_wav_pairs/009486.wav ['tu'] ['tu1']\n",
      "yao you\n",
      "lab_wav_pairs/009486.wav ['you'] ['you2']\n",
      "guan guai\n",
      "lab_wav_pairs/008941.wav ['guai'] ['guai1']\n",
      "gen geng\n",
      "lab_wav_pairs/008567.wav ['geng', 'geng'] ['geng1', 'geng4']\n",
      "kai kan\n",
      "lab_wav_pairs/008573.wav ['kan'] ['kan1']\n",
      "chu chuo\n",
      "lab_wav_pairs/008573.wav ['chuo'] ['chuo4']\n",
      "ni nv\n",
      "lab_wav_pairs/008261.wav ['nv', 'ru'] ['nv3', 'ru3']\n",
      "xin xu\n",
      "lab_wav_pairs/008271.wav ['xu', 'hu'] ['xu3', 'hu3']\n",
      "jie jin\n",
      "lab_wav_pairs/008271.wav ['jin'] ['jin4']\n",
      "an nian\n",
      "lab_wav_pairs/009459.wav ['nian', 'zhan'] ['nian2', 'zhan1']\n",
      "yin ying\n",
      "lab_wav_pairs/008819.wav ['ying'] ['ying3']\n",
      "pai pan\n",
      "lab_wav_pairs/009808.wav ['pan'] ['pan1']\n",
      "jin jun\n",
      "lab_wav_pairs/009832.wav ['jun'] ['jun1']\n",
      "zhe zhen\n",
      "lab_wav_pairs/008801.wav ['zhen'] ['zhen4']\n",
      "de di\n",
      "lab_wav_pairs/009742.wav ['di', 'de'] ['di4', 'de5']\n",
      "!!!\n",
      "zhang chang\n",
      "lab_wav_pairs/009883.wav ['chang', 'zhang'] ['chang2', 'zhang3']\n",
      "!!!\n",
      "yin ni\n",
      "lab_wav_pairs/008647.wav ['ni'] ['ni3']\n",
      "a er\n",
      "lab_wav_pairs/009491.wav ['er'] ['er4']\n",
      "tou tong\n",
      "lab_wav_pairs/008930.wav ['tong', 'tong'] ['tong2', 'tong4']\n",
      "dai tai\n",
      "lab_wav_pairs/008877.wav ['tai'] ['tai1']\n",
      "dao dang\n",
      "lab_wav_pairs/008877.wav ['dang', 'dang'] ['dang1', 'dang4']\n",
      "tou tong\n",
      "lab_wav_pairs/008579.wav ['tong'] ['tong3']\n",
      "ang zhao\n",
      "lab_wav_pairs/009790.wav ['zhao', 'chao'] ['zhao1', 'chao2']\n",
      "ni ning\n",
      "lab_wav_pairs/008255.wav ['ning', 'ning', 'ning'] ['ning2', 'ning3', 'ning4']\n",
      "min ming\n",
      "lab_wav_pairs/008255.wav ['ming'] ['ming4']\n",
      "hu hui\n",
      "lab_wav_pairs/008826.wav ['hui', 'kuai'] ['hui4', 'kuai4']\n",
      "you yong\n",
      "lab_wav_pairs/008826.wav ['yong'] ['yong4']\n",
      "ze zi\n",
      "lab_wav_pairs/008826.wav ['zi'] ['zi3']\n",
      "ceng zeng\n",
      "lab_wav_pairs/008586.wav ['zeng', 'ceng'] ['zeng1', 'ceng2']\n",
      "!!!\n",
      "xian xing\n",
      "lab_wav_pairs/009268.wav ['xing'] ['xing1']\n",
      "ying you\n",
      "lab_wav_pairs/009268.wav ['you'] ['you4']\n",
      "de da\n",
      "lab_wav_pairs/008514.wav ['da', 'dai', 'tai'] ['da4', 'dai4', 'tai4']\n",
      "nan nai\n",
      "lab_wav_pairs/008514.wav ['nai'] ['nai3']\n",
      "yu yi\n",
      "lab_wav_pairs/009980.wav ['yi'] ['yi1']\n",
      "dao dang\n",
      "lab_wav_pairs/008440.wav ['dang', 'dang'] ['dang1', 'dang4']\n",
      "bai ban\n",
      "lab_wav_pairs/008540.wav ['ban'] ['ban1']\n",
      "yu yun\n",
      "lab_wav_pairs/008540.wav ['yun'] ['yun4']\n",
      "zou zong\n",
      "lab_wav_pairs/009768.wav ['zong'] ['zong3']\n",
      "de le\n",
      "lab_wav_pairs/008288.wav ['le', 'liao'] ['le5', 'liao3']\n",
      "jing jin\n",
      "lab_wav_pairs/009204.wav ['jin'] ['jin1']\n",
      "dang dao\n",
      "lab_wav_pairs/009331.wav ['dao'] ['dao4']\n",
      "me men\n",
      "lab_wav_pairs/009331.wav ['men'] ['men2']\n",
      "ju jun\n",
      "lab_wav_pairs/008457.wav ['jun'] ['jun1']\n",
      "ji jue\n",
      "lab_wav_pairs/008127.wav ['jiao', 'jue'] ['jiao3', 'jue2']\n",
      "de di\n",
      "lab_wav_pairs/009738.wav ['di', 'de'] ['di4', 'de5']\n",
      "!!!\n",
      "ran ren\n",
      "lab_wav_pairs/008049.wav ['ren'] ['ren2']\n",
      "shui shun\n",
      "lab_wav_pairs/009899.wav ['shun'] ['shun4']\n",
      "de di\n",
      "lab_wav_pairs/009899.wav ['di', 'de'] ['di4', 'de5']\n",
      "!!!\n",
      "hua huang\n",
      "lab_wav_pairs/008236.wav ['huang'] ['huang2']\n",
      "wen wan\n",
      "lab_wav_pairs/009802.wav ['wan', 'mo'] ['wan4', 'mo4']\n",
      "xiao jiao\n",
      "lab_wav_pairs/008932.wav ['jiao', 'jue'] ['jiao3', 'jue2']\n",
      "le luo\n",
      "lab_wav_pairs/008646.wav ['luo'] ['luo2']\n",
      "ying yi\n",
      "lab_wav_pairs/008649.wav ['yi'] ['yi4']\n",
      "bai pai\n",
      "lab_wav_pairs/008308.wav ['pai'] ['pai1']\n",
      "bing bi\n",
      "lab_wav_pairs/008409.wav ['bi'] ['bi4']\n",
      "zhu zhuo\n",
      "lab_wav_pairs/008409.wav ['zhuo'] ['zhuo1']\n",
      "xiang xia\n",
      "lab_wav_pairs/008409.wav ['xia'] ['xia4']\n",
      "de di\n",
      "lab_wav_pairs/009634.wav ['di', 'de'] ['di4', 'de5']\n",
      "!!!\n",
      "cu cuo\n",
      "lab_wav_pairs/009217.wav ['cuo'] ['cuo1']\n",
      "yuan yue\n",
      "lab_wav_pairs/008606.wav ['yue', 'yao'] ['yue1', 'yao1']\n",
      "xing xin\n",
      "lab_wav_pairs/008606.wav ['xin'] ['xin1']\n",
      "mi min\n",
      "lab_wav_pairs/008117.wav ['min'] ['min2']\n",
      "su song\n",
      "lab_wav_pairs/009203.wav ['song'] ['song4']\n",
      "cun ceng\n",
      "lab_wav_pairs/008230.wav ['ceng'] ['ceng2']\n",
      "dou dong\n",
      "lab_wav_pairs/008536.wav ['dong'] ['dong4']\n",
      "wen wei\n",
      "lab_wav_pairs/008084.wav ['wei', 'wei'] ['wei2', 'wei4']\n",
      "de di\n",
      "lab_wav_pairs/008548.wav ['di', 'de'] ['di4', 'de5']\n",
      "!!!\n",
      "de bu\n",
      "lab_wav_pairs/008186.wav ['bu', 'fou'] ['bu4', 'fou3']\n",
      "min ming\n",
      "lab_wav_pairs/008341.wav ['ming'] ['ming4']\n",
      "zhong zheng\n",
      "lab_wav_pairs/009530.wav ['zheng'] ['zheng4']\n",
      "gen ge\n",
      "lab_wav_pairs/009153.wav ['ge', 'ge'] ['ge4', 'ge3']\n",
      "lun ne\n",
      "lab_wav_pairs/008884.wav ['ne'] ['ne4']\n",
      "pai tai\n",
      "lab_wav_pairs/008884.wav ['tai'] ['tai4']\n",
      "lei li\n",
      "lab_wav_pairs/008044.wav ['li'] ['li3']\n",
      "shun shuan\n",
      "lab_wav_pairs/008045.wav ['shuan'] ['shuan1']\n",
      "ban bai\n",
      "lab_wav_pairs/009920.wav ['bai'] ['bai2']\n",
      "xia xiao\n",
      "lab_wav_pairs/009920.wav ['xiao'] ['xiao3']\n",
      "di li\n",
      "lab_wav_pairs/008411.wav ['li'] ['li4']\n",
      "gai gan\n",
      "lab_wav_pairs/008588.wav ['gan', 'gan'] ['gan1', 'gan4']\n",
      "du duo\n",
      "lab_wav_pairs/008588.wav ['duo'] ['duo1']\n",
      "nuan luan\n",
      "lab_wav_pairs/008551.wav ['luan'] ['luan4']\n",
      "sa fan\n",
      "lab_wav_pairs/009575.wav ['fan'] ['fan3']\n",
      "nie nian\n",
      "lab_wav_pairs/008088.wav ['nian'] ['nian2']\n",
      "xing xin\n",
      "lab_wav_pairs/008088.wav ['xin'] ['xin1']\n",
      "zhuang zhua\n",
      "lab_wav_pairs/008313.wav ['zhua'] ['zhua1']\n",
      "jiu jing\n",
      "lab_wav_pairs/009839.wav ['jing'] ['jing3']\n",
      "nan nai\n",
      "lab_wav_pairs/008332.wav ['nai'] ['nai3']\n",
      "ji jin\n",
      "lab_wav_pairs/009360.wav ['jin'] ['jin4']\n",
      "wo wen\n",
      "lab_wav_pairs/008140.wav ['wen'] ['wen2']\n",
      "men de\n",
      "lab_wav_pairs/008025.wav ['de', 'di', 'di'] ['de5', 'di2', 'di4']\n",
      "cheng che\n",
      "lab_wav_pairs/008957.wav ['che'] ['che3']\n",
      "pu piao\n",
      "lab_wav_pairs/009202.wav ['pu', 'po', 'po', 'piao'] ['pu3', 'po4', 'po1', 'piao2']\n",
      "!!!\n",
      "qing qin\n",
      "lab_wav_pairs/009202.wav ['qin'] ['qin2']\n",
      "po pu\n",
      "lab_wav_pairs/008929.wav ['pu'] ['pu2']\n",
      "ceng zeng\n",
      "lab_wav_pairs/008158.wav ['zeng', 'ceng'] ['zeng1', 'ceng2']\n",
      "!!!\n",
      "mao mang\n",
      "lab_wav_pairs/008158.wav ['mang'] ['mang2']\n",
      "guo gong\n",
      "lab_wav_pairs/009169.wav ['gong'] ['gong1']\n",
      "de deng\n",
      "lab_wav_pairs/008297.wav ['deng'] ['deng1']\n",
      "pou peng\n",
      "lab_wav_pairs/008396.wav ['peng'] ['peng2']\n",
      "qian jian\n",
      "lab_wav_pairs/008963.wav ['jian'] ['jian3']\n",
      "de ben\n",
      "lab_wav_pairs/008963.wav ['ben'] ['ben3']\n",
      "de di\n",
      "lab_wav_pairs/009585.wav ['di', 'de'] ['di4', 'de5']\n",
      "!!!\n",
      "qi qiang\n",
      "lab_wav_pairs/009585.wav ['qiang', 'qiang', 'cheng'] ['qiang1', 'qiang3', 'cheng1']\n",
      "jing jin\n",
      "lab_wav_pairs/009003.wav ['jin'] ['jin1']\n",
      "ji jing\n",
      "lab_wav_pairs/009553.wav ['jing'] ['jing1']\n",
      "tian tie\n",
      "lab_wav_pairs/008152.wav ['tie'] ['tie1']\n",
      "nian ni\n",
      "lab_wav_pairs/009796.wav ['ni'] ['ni3']\n",
      "chang chan\n",
      "lab_wav_pairs/010000.wav ['chan'] ['chan4']\n",
      "duo dou\n",
      "lab_wav_pairs/008435.wav ['dou', 'dou'] ['dou3', 'dou4']\n",
      "xi xie\n",
      "lab_wav_pairs/009109.wav ['xie', 'suo'] ['xie1', 'suo4']\n",
      "jun jue\n",
      "lab_wav_pairs/009888.wav ['jue'] ['jue2']\n",
      "zhe zhi\n",
      "lab_wav_pairs/008544.wav ['zhi'] ['zhi4']\n",
      "dou dong\n",
      "lab_wav_pairs/008602.wav ['dong'] ['dong4']\n",
      "bei ben\n",
      "lab_wav_pairs/008467.wav ['ben'] ['ben3']\n",
      "ji zhi\n",
      "lab_wav_pairs/008467.wav ['zhi'] ['zhi1']\n",
      "dou duo\n",
      "lab_wav_pairs/008326.wav ['duo'] ['duo1']\n",
      "xuan xue\n",
      "lab_wav_pairs/008191.wav ['xue'] ['xue2']\n",
      "zai zan\n",
      "lab_wav_pairs/009156.wav ['zan', 'cuan'] ['zan3', 'cuan2']\n",
      "qian qi\n",
      "lab_wav_pairs/009156.wav ['qi'] ['qi3']\n",
      "ceng zeng\n",
      "lab_wav_pairs/008927.wav ['zeng', 'ceng'] ['zeng1', 'ceng2']\n",
      "!!!\n",
      "sa fan\n",
      "lab_wav_pairs/008379.wav ['fan'] ['fan3']\n",
      "zhai zhan\n",
      "lab_wav_pairs/009998.wav ['zhan'] ['zhan3']\n",
      "de deng\n",
      "lab_wav_pairs/009863.wav ['deng'] ['deng3']\n",
      "lian lie\n",
      "lab_wav_pairs/008976.wav ['lie', 'lie', 'lie', 'lie'] ['lie3', 'lie1', 'lie2', 'lie5']\n",
      "lian lie\n",
      "lab_wav_pairs/008976.wav ['lie', 'lie', 'lie', 'lie'] ['lie3', 'lie1', 'lie2', 'lie5']\n",
      "de di\n",
      "lab_wav_pairs/008976.wav ['di', 'de'] ['di4', 'de5']\n",
      "!!!\n",
      "dou dong\n",
      "lab_wav_pairs/008619.wav ['dong'] ['dong4']\n",
      "yan ye\n",
      "lab_wav_pairs/008619.wav ['ye'] ['ye4']\n",
      "guo gou\n",
      "lab_wav_pairs/008989.wav ['gou'] ['gou4']\n",
      "yue yun\n",
      "lab_wav_pairs/008477.wav ['yun'] ['yun4']\n",
      "mo mou\n",
      "lab_wav_pairs/008590.wav ['mou'] ['mou3']\n",
      "quan que\n",
      "lab_wav_pairs/008620.wav ['que'] ['que4']\n",
      "de di\n",
      "lab_wav_pairs/008620.wav ['di', 'de'] ['di4', 'de5']\n",
      "!!!\n",
      "xie xi\n",
      "lab_wav_pairs/008019.wav ['xi'] ['xi4']\n",
      "si se\n",
      "lab_wav_pairs/008572.wav ['se', 'shai'] ['se4', 'shai3']\n",
      "lian lie\n",
      "lab_wav_pairs/008572.wav ['lie'] ['lie4']\n",
      "de di\n",
      "lab_wav_pairs/009347.wav ['di', 'de'] ['di4', 'de5']\n",
      "!!!\n",
      "jing jiu\n",
      "lab_wav_pairs/009741.wav ['jiu'] ['jiu4']\n",
      "dian bie\n",
      "lab_wav_pairs/009867.wav ['bie', 'bie'] ['bie2', 'bie4']\n",
      "jiu jiong\n",
      "lab_wav_pairs/008633.wav ['jiong'] ['jiong3']\n",
      "xian xie\n",
      "lab_wav_pairs/008633.wav ['xie'] ['xie2']\n",
      "xie xi\n",
      "lab_wav_pairs/008613.wav ['xi', 'ji'] ['xi4', 'ji4']\n",
      "xian xie\n",
      "lab_wav_pairs/008613.wav ['xie', 'suo'] ['xie1', 'suo4']\n",
      "ji jin\n",
      "lab_wav_pairs/008463.wav ['jin'] ['jin3']\n",
      "ba bang\n",
      "lab_wav_pairs/009625.wav ['bang'] ['bang3']\n",
      "ran ren\n",
      "lab_wav_pairs/009223.wav ['ren'] ['ren2']\n",
      "de dao\n",
      "lab_wav_pairs/008954.wav ['dao'] ['dao4']\n",
      "qu qun\n",
      "lab_wav_pairs/008954.wav ['qun'] ['qun2']\n",
      "lou lu\n",
      "lab_wav_pairs/008954.wav ['lou', 'lu'] ['lou4', 'lu4']\n",
      "!!!\n",
      "shang shao\n",
      "lab_wav_pairs/008324.wav ['shao', 'shao'] ['shao3', 'shao4']\n",
      "zhi zhe\n",
      "lab_wav_pairs/008425.wav ['zhe', 'zhuo', 'zhao', 'zhao'] ['zhe5', 'zhuo2', 'zhao2', 'zhao1']\n",
      "que qu\n",
      "lab_wav_pairs/008425.wav ['qu'] ['qu4']\n",
      "yan ye\n",
      "lab_wav_pairs/008768.wav ['ye'] ['ye4']\n",
      "xin xi\n",
      "lab_wav_pairs/008768.wav ['xi'] ['xi1']\n",
      "tuo tu\n",
      "lab_wav_pairs/009007.wav ['tu'] ['tu1']\n",
      "dou duo\n",
      "lab_wav_pairs/008403.wav ['duo'] ['duo1']\n",
      "shi shen\n",
      "lab_wav_pairs/009362.wav ['shen'] ['shen1']\n",
      "shang shan\n",
      "lab_wav_pairs/009967.wav ['shan'] ['shan4']\n",
      "zhuo zhe\n",
      "lab_wav_pairs/008475.wav ['zhe', 'zhuo', 'zhao', 'zhao'] ['zhe5', 'zhuo2', 'zhao2', 'zhao1']\n",
      "!!!\n",
      "ben deng\n",
      "lab_wav_pairs/008915.wav ['deng'] ['deng3']\n",
      "qi qing\n",
      "lab_wav_pairs/009120.wav ['qing'] ['qing3']\n",
      "yan ye\n",
      "lab_wav_pairs/008979.wav ['ye'] ['ye4']\n",
      "weng long\n",
      "lab_wav_pairs/008472.wav ['long'] ['long2']\n",
      "zi ci\n",
      "lab_wav_pairs/008381.wav ['ci'] ['ci4']\n",
      "ci ce\n",
      "lab_wav_pairs/008381.wav ['ce'] ['ce4']\n",
      "yin ying\n",
      "lab_wav_pairs/008712.wav ['ying'] ['ying2']\n",
      "yan ren\n",
      "lab_wav_pairs/009505.wav ['ren'] ['ren2']\n",
      "jun ju\n",
      "lab_wav_pairs/008285.wav ['ju'] ['ju1']\n",
      "zhang chang\n",
      "lab_wav_pairs/009257.wav ['chang', 'zhang'] ['chang2', 'zhang3']\n",
      "!!!\n",
      "xia xiang\n",
      "lab_wav_pairs/008805.wav ['xiang'] ['xiang3']\n",
      "jing ji\n",
      "lab_wav_pairs/008223.wav ['ji'] ['ji4']\n",
      "jie jing\n",
      "lab_wav_pairs/008223.wav ['jing'] ['jing1']\n",
      "zhang chang\n",
      "lab_wav_pairs/009195.wav ['chang', 'zhang'] ['chang2', 'zhang3']\n",
      "!!!\n",
      "sha cha\n",
      "lab_wav_pairs/008502.wav ['cha', 'sha'] ['cha4', 'sha1']\n",
      "!!!\n",
      "kan kai\n",
      "lab_wav_pairs/008502.wav ['kai'] ['kai1']\n",
      "hui hun\n",
      "lab_wav_pairs/009145.wav ['hun'] ['hun1']\n",
      "xing xin\n",
      "lab_wav_pairs/009145.wav ['xin', 'shen'] ['xin4', 'shen1']\n",
      "qi qin\n",
      "lab_wav_pairs/008092.wav ['qin'] ['qin2']\n",
      "dei de\n",
      "lab_wav_pairs/008092.wav ['de', 'dei', 'de'] ['de2', 'dei3', 'de5']\n",
      "!!!\n",
      "jiang jiao\n",
      "lab_wav_pairs/008289.wav ['jiao'] ['jiao4']\n",
      "men me\n",
      "lab_wav_pairs/008005.wav ['me', 'mo', 'ma', 'yao'] ['me5', 'mo2', 'ma5', 'yao1']\n",
      "di dian\n",
      "lab_wav_pairs/009323.wav ['dian'] ['dian3']\n",
      "dui dun\n",
      "lab_wav_pairs/008172.wav ['dun', 'du'] ['dun4', 'du2']\n",
      "ze zen\n",
      "lab_wav_pairs/008172.wav ['zen'] ['zen3']\n",
      "qu que\n",
      "lab_wav_pairs/008751.wav ['que', 'qiao', 'qiao'] ['que4', 'qiao1', 'qiao3']\n",
      "jiang jia\n",
      "lab_wav_pairs/008280.wav ['jia'] ['jia1']\n",
      "xun qu\n",
      "lab_wav_pairs/008280.wav ['qu'] ['qu4']\n",
      "er hang\n",
      "lab_wav_pairs/008296.wav ['hang', 'xing', 'heng', 'hang'] ['hang2', 'xing2', 'heng2', 'hang4']\n",
      "ci su\n",
      "lab_wav_pairs/009206.wav ['su'] ['su4']\n",
      "nan men\n",
      "lab_wav_pairs/009206.wav ['men'] ['men2']\n",
      "ge gen\n",
      "lab_wav_pairs/009206.wav ['gen'] ['gen1']\n",
      "xing xin\n",
      "lab_wav_pairs/009361.wav ['xin'] ['xin1']\n",
      "dei lei\n",
      "lab_wav_pairs/008810.wav ['lei'] ['lei2']\n",
      "wen wei\n",
      "lab_wav_pairs/008050.wav ['wei', 'wei'] ['wei2', 'wei4']\n",
      "jie jian\n",
      "lab_wav_pairs/009779.wav ['jian', 'xian'] ['jian4', 'xian4']\n",
      "me men\n",
      "lab_wav_pairs/008048.wav ['men'] ['men2']\n",
      "lan nan\n",
      "lab_wav_pairs/008838.wav ['nan', 'na'] ['nan2', 'na1']\n",
      "qie xie\n",
      "lab_wav_pairs/008286.wav ['xie', 'suo'] ['xie1', 'suo4']\n",
      "ya zha\n",
      "lab_wav_pairs/008558.wav ['za', 'zha', 'zha'] ['za1', 'zha1', 'zha2']\n",
      "wu ni\n",
      "lab_wav_pairs/009322.wav ['ni'] ['ni3']\n",
      "bie bi\n",
      "lab_wav_pairs/009275.wav ['bi'] ['bi3']\n",
      "xi xin\n",
      "lab_wav_pairs/008986.wav ['xin'] ['xin1']\n",
      "jian jin\n",
      "lab_wav_pairs/009429.wav ['jin'] ['jin4']\n",
      "jin jie\n",
      "lab_wav_pairs/009951.wav ['jie', 'jie'] ['jie2', 'jie1']\n",
      "de di\n",
      "lab_wav_pairs/008293.wav ['di', 'de'] ['di4', 'de5']\n",
      "!!!\n",
      "dong duo\n",
      "lab_wav_pairs/008293.wav ['duo'] ['duo1']\n",
      "bo bu\n",
      "lab_wav_pairs/009660.wav ['bu', 'fou'] ['bu4', 'fou3']\n",
      "dao da\n",
      "lab_wav_pairs/008882.wav ['da', 'dai', 'tai'] ['da4', 'dai4', 'tai4']\n",
      "dian di\n",
      "lab_wav_pairs/008882.wav ['di'] ['di4']\n",
      "jin jing\n",
      "lab_wav_pairs/009359.wav ['jing'] ['jing1']\n",
      "lan lai\n",
      "lab_wav_pairs/008162.wav ['lai'] ['lai2']\n",
      "tou tong\n",
      "lab_wav_pairs/008120.wav ['tong'] ['tong3']\n",
      "xie xin\n",
      "lab_wav_pairs/009685.wav ['xin'] ['xin1']\n",
      "le lan\n",
      "lab_wav_pairs/009087.wav ['lan'] ['lan4']\n",
      "min mi\n",
      "lab_wav_pairs/008655.wav ['mi'] ['mi4']\n",
      "de di\n",
      "lab_wav_pairs/008655.wav ['di', 'de'] ['di4', 'de5']\n",
      "!!!\n",
      "chuai chuan\n",
      "lab_wav_pairs/008655.wav ['chuan'] ['chuan4']\n",
      "fen fan\n",
      "lab_wav_pairs/008430.wav ['fan'] ['fan1']\n",
      "zai zan\n",
      "lab_wav_pairs/008562.wav ['zan', 'cuan'] ['zan3', 'cuan2']\n",
      "yun yu\n",
      "lab_wav_pairs/008562.wav ['yu'] ['yu2']\n",
      "yuan ren\n",
      "lab_wav_pairs/009910.wav ['ren'] ['ren2']\n",
      "pai tai\n",
      "lab_wav_pairs/009852.wav ['tai', 'tai'] ['tai2', 'tai1']\n",
      "ceng zeng\n",
      "lab_wav_pairs/009852.wav ['zeng', 'ceng'] ['zeng1', 'ceng2']\n",
      "!!!\n",
      "li lie\n",
      "lab_wav_pairs/009378.wav ['lie', 'lie', 'lie', 'lie'] ['lie3', 'lie1', 'lie2', 'lie5']\n",
      "ji jin\n",
      "lab_wav_pairs/009181.wav ['jin'] ['jin4']\n",
      "dir jiao\n",
      "lab_wav_pairs/009922.wav ['jiao'] ['jiao1']\n",
      "da dai\n",
      "lab_wav_pairs/009889.wav ['dai'] ['dai4']\n",
      "cai can\n",
      "lab_wav_pairs/009580.wav ['can', 'shen', 'cen', 'san'] ['can1', 'shen1', 'cen1', 'san1']\n",
      "qian qie\n",
      "lab_wav_pairs/008559.wav ['qie', 'ju'] ['qie3', 'ju1']\n",
      "qing qin\n",
      "lab_wav_pairs/008489.wav ['qin', 'qing'] ['qin1', 'qing4']\n",
      "!!!\n",
      "shen shou\n",
      "lab_wav_pairs/009996.wav ['shou'] ['shou3']\n",
      "ling li\n",
      "lab_wav_pairs/009996.wav ['li'] ['li3']\n",
      "shuo shou\n",
      "lab_wav_pairs/008869.wav ['shou'] ['shou4']\n",
      "me ne\n",
      "lab_wav_pairs/008080.wav ['ne', 'ni'] ['ne5', 'ni2']\n",
      "me ma\n",
      "lab_wav_pairs/009057.wav ['ma', 'ma', 'ma'] ['ma2', 'ma3', 'ma5']\n",
      "men man\n",
      "lab_wav_pairs/009798.wav ['man'] ['man4']\n",
      "shang shao\n",
      "lab_wav_pairs/009449.wav ['shao', 'shao'] ['shao3', 'shao4']\n",
      "xue xun\n",
      "lab_wav_pairs/009449.wav ['xun'] ['xun4']\n",
      "que qu\n",
      "lab_wav_pairs/008510.wav ['qu'] ['qu4']\n",
      "ken ke\n",
      "lab_wav_pairs/009968.wav ['ke', 'ke'] ['ke3', 'ke4']\n",
      "xu xun\n",
      "lab_wav_pairs/008832.wav ['xun'] ['xun2']\n",
      "wei wen\n",
      "lab_wav_pairs/008832.wav ['wen'] ['wen4']\n",
      "yuan yun\n",
      "lab_wav_pairs/009911.wav ['yun'] ['yun1']\n",
      "ceng zeng\n",
      "lab_wav_pairs/009694.wav ['zeng', 'ceng'] ['zeng1', 'ceng2']\n",
      "!!!\n",
      "shen shi\n",
      "lab_wav_pairs/009340.wav ['shi', 'shen'] ['shi2', 'shen2']\n",
      "!!!\n",
      "xian xin\n",
      "lab_wav_pairs/009857.wav ['xin'] ['xin1']\n",
      "jian jie\n",
      "lab_wav_pairs/009857.wav ['jie'] ['jie4']\n",
      "li lin\n",
      "lab_wav_pairs/008224.wav ['lin'] ['lin2']\n",
      "li lin\n",
      "lab_wav_pairs/008224.wav ['lin'] ['lin2']\n",
      "tun tui\n",
      "lab_wav_pairs/008224.wav ['tui'] ['tui3']\n",
      "de ben\n",
      "lab_wav_pairs/008036.wav ['ben'] ['ben3']\n",
      "lin ling\n",
      "lab_wav_pairs/008036.wav ['ling'] ['ling2']\n",
      "de lv\n",
      "lab_wav_pairs/009864.wav ['shuai', 'lv'] ['shuai4', 'lv4']\n",
      "you ying\n",
      "lab_wav_pairs/009864.wav ['ying', 'ying'] ['ying1', 'ying4']\n",
      "yun yu\n",
      "lab_wav_pairs/008473.wav ['yu'] ['yu4']\n",
      "fen wen\n",
      "lab_wav_pairs/008687.wav ['wen'] ['wen4']\n",
      "cun cuo\n",
      "lab_wav_pairs/008643.wav ['cuo', 'zuo'] ['cuo1', 'zuo3']\n",
      "guo gong\n",
      "lab_wav_pairs/009166.wav ['gong', 'gong'] ['gong4', 'gong1']\n",
      "hua huang\n",
      "lab_wav_pairs/009193.wav ['huang', 'huang'] ['huang3', 'huang4']\n",
      "shen sheng\n",
      "lab_wav_pairs/009588.wav ['sheng', 'xing'] ['sheng3', 'xing3']\n",
      "xin xing\n",
      "lab_wav_pairs/009588.wav ['hang', 'xing', 'heng', 'hang'] ['hang2', 'xing2', 'heng2', 'hang4']\n",
      "wang weng\n",
      "lab_wav_pairs/009744.wav ['weng'] ['weng1']\n",
      "sai san\n",
      "lab_wav_pairs/009132.wav ['san'] ['san1']\n",
      "ju qu\n",
      "lab_wav_pairs/009649.wav ['qu'] ['qu4']\n",
      "er mu\n",
      "lab_wav_pairs/009649.wav ['mu', 'lao'] ['mu3', 'lao3']\n",
      "lia liang\n",
      "lab_wav_pairs/008035.wav ['liang', 'lia'] ['liang3', 'lia3']\n",
      "!!!\n",
      "bin bing\n",
      "lab_wav_pairs/009687.wav ['bing', 'bing'] ['bing4', 'bing1']\n",
      "jian jie\n",
      "lab_wav_pairs/009418.wav ['jie'] ['jie4']\n",
      "yi ying\n",
      "lab_wav_pairs/008447.wav ['ying'] ['ying2']\n",
      "shuan shuai\n",
      "lab_wav_pairs/008982.wav ['shuai', 'cui'] ['shuai1', 'cui1']\n",
      "shi zhi\n",
      "lab_wav_pairs/008982.wav ['zhi'] ['zhi1']\n",
      "jin jing\n",
      "lab_wav_pairs/008982.wav ['jing'] ['jing1']\n",
      "jin ji\n",
      "lab_wav_pairs/008982.wav ['ji', 'ji'] ['ji4', 'ji3']\n",
      "yuan yue\n",
      "lab_wav_pairs/009515.wav ['yue'] ['yue4']\n",
      "na nei\n",
      "lab_wav_pairs/009709.wav ['na', 'nei', 'na', 'ne'] ['na3', 'nei3', 'na5', 'ne2']\n",
      "!!!\n",
      "xian xie\n",
      "lab_wav_pairs/009709.wav ['xie', 'suo'] ['xie1', 'suo4']\n",
      "ze zi\n",
      "lab_wav_pairs/009517.wav ['zi'] ['zi3']\n",
      "shi shen\n",
      "lab_wav_pairs/008496.wav ['shi', 'shen'] ['shi2', 'shen2']\n",
      "!!!\n",
      "men me\n",
      "lab_wav_pairs/008496.wav ['me', 'mo', 'ma', 'yao'] ['me5', 'mo2', 'ma5', 'yao1']\n",
      "dai da\n",
      "lab_wav_pairs/009029.wav ['da', 'da'] ['da3', 'da2']\n",
      "na nan\n",
      "lab_wav_pairs/009029.wav ['nan'] ['nan2']\n",
      "yuan yun\n",
      "lab_wav_pairs/008014.wav ['yun'] ['yun2']\n",
      "xun xu\n",
      "lab_wav_pairs/008488.wav ['xu', 'hu'] ['xu3', 'hu3']\n",
      "men neng\n",
      "lab_wav_pairs/008115.wav ['neng', 'nai'] ['neng2', 'nai4']\n",
      "de di\n",
      "lab_wav_pairs/009313.wav ['di', 'de'] ['di4', 'de5']\n",
      "!!!\n",
      "gong dong\n",
      "lab_wav_pairs/009455.wav ['dong'] ['dong1']\n",
      "ca hang\n",
      "lab_wav_pairs/008797.wav ['hang', 'xing', 'heng', 'hang'] ['hang2', 'xing2', 'heng2', 'hang4']\n",
      "ju jun\n",
      "lab_wav_pairs/009026.wav ['jun'] ['jun1']\n",
      "hu huo\n",
      "lab_wav_pairs/009026.wav ['huo'] ['huo4']\n",
      "me men\n",
      "lab_wav_pairs/009460.wav ['men'] ['men2']\n",
      "lian liang\n",
      "lab_wav_pairs/009460.wav ['liang', 'lia'] ['liang3', 'lia3']\n",
      "xian xie\n",
      "lab_wav_pairs/009881.wav ['xie'] ['xie4']\n",
      "qie qian\n",
      "lab_wav_pairs/009880.wav ['qian'] ['qian2']\n",
      "xiu xiong\n",
      "lab_wav_pairs/009700.wav ['xiong'] ['xiong2']\n",
      "xian qian\n",
      "lab_wav_pairs/009417.wav ['qian'] ['qian2']\n",
      "gou gu\n",
      "lab_wav_pairs/008102.wav ['gu'] ['gu3']\n",
      "jie jian\n",
      "lab_wav_pairs/008635.wav ['jian', 'xian'] ['jian4', 'xian4']\n",
      "cui cun\n",
      "lab_wav_pairs/008136.wav ['cun'] ['cun4']\n",
      "xie xian\n",
      "lab_wav_pairs/008532.wav ['xian'] ['xian4']\n",
      "ce zeng\n",
      "lab_wav_pairs/009288.wav ['zeng', 'ceng'] ['zeng1', 'ceng2']\n",
      "run ri\n",
      "lab_wav_pairs/009842.wav ['ri'] ['ri4']\n",
      "yu yue\n",
      "lab_wav_pairs/009842.wav ['yue'] ['yue4']\n",
      "ta ka\n",
      "lab_wav_pairs/009955.wav ['ka', 'qia'] ['ka3', 'qia3']\n",
      "me ma\n",
      "lab_wav_pairs/009064.wav ['ma', 'ma', 'ma'] ['ma2', 'ma3', 'ma5']\n",
      "qu qun\n",
      "lab_wav_pairs/008568.wav ['qun'] ['qun2']\n",
      "gu guo\n",
      "lab_wav_pairs/008792.wav ['guo'] ['guo2']\n",
      "men de\n",
      "lab_wav_pairs/009280.wav ['de', 'di', 'di'] ['de5', 'di2', 'di4']\n",
      "xin xing\n",
      "lab_wav_pairs/009848.wav ['xing'] ['xing2']\n",
      "yan ye\n",
      "lab_wav_pairs/009345.wav ['ye'] ['ye4']\n",
      "ji jin\n",
      "lab_wav_pairs/009345.wav ['jin'] ['jin1']\n",
      "qi qin\n",
      "lab_wav_pairs/008167.wav ['qin', 'qing'] ['qin1', 'qing4']\n",
      "er la\n",
      "lab_wav_pairs/009352.wav ['la', 'luo', 'lao'] ['la4', 'luo4', 'lao4']\n",
      "tong peng\n",
      "lab_wav_pairs/008492.wav ['peng'] ['peng4']\n",
      "bao dao\n",
      "lab_wav_pairs/008492.wav ['dao'] ['dao3']\n",
      "yang yao\n",
      "lab_wav_pairs/009569.wav ['yao', 'yao'] ['yao4', 'yao1']\n",
      "quan que\n",
      "lab_wav_pairs/008684.wav ['que'] ['que1']\n",
      "duo dun\n",
      "lab_wav_pairs/009791.wav ['dun', 'du'] ['dun4', 'du2']\n",
      "xin xi\n",
      "lab_wav_pairs/008232.wav ['xi', 'ji'] ['xi4', 'ji4']\n",
      "zhong zhu\n",
      "lab_wav_pairs/008187.wav ['zhu'] ['zhu4']\n",
      "an wan\n",
      "lab_wav_pairs/008187.wav ['wan', 'mo'] ['wan4', 'mo4']\n",
      "you yong\n",
      "lab_wav_pairs/008352.wav ['yong'] ['yong3']\n",
      "jin ji\n",
      "lab_wav_pairs/008352.wav ['ji'] ['ji4']\n",
      "bai ban\n",
      "lab_wav_pairs/008352.wav ['ban'] ['ban3']\n",
      "xing xin\n",
      "lab_wav_pairs/009096.wav ['xin', 'shen'] ['xin4', 'shen1']\n",
      "jin ji\n",
      "lab_wav_pairs/009096.wav ['ji'] ['ji2']\n",
      "bang beng\n",
      "lab_wav_pairs/009229.wav ['beng'] ['beng1']\n",
      "ji jin\n",
      "lab_wav_pairs/009445.wav ['jin', 'jin'] ['jin3', 'jin4']\n",
      "jian jie\n",
      "lab_wav_pairs/008380.wav ['jie'] ['jie1']\n",
      "bian bie\n",
      "lab_wav_pairs/008380.wav ['bie'] ['bie1']\n",
      "me mei\n",
      "lab_wav_pairs/008980.wav ['mei'] ['mei3']\n",
      "jue juan\n",
      "lab_wav_pairs/008980.wav ['juan'] ['juan1']\n",
      "yan ye\n",
      "lab_wav_pairs/008679.wav ['ye'] ['ye2']\n",
      "min ming\n",
      "lab_wav_pairs/009901.wav ['ming'] ['ming2']\n",
      "yue yuan\n",
      "lab_wav_pairs/008669.wav ['yuan', 'yuan'] ['yuan3', 'yuan4']\n",
      "jin ji\n",
      "lab_wav_pairs/008669.wav ['ji'] ['ji4']\n",
      "xian xie\n",
      "lab_wav_pairs/008669.wav ['xie'] ['xie4']\n",
      "e ne\n",
      "lab_wav_pairs/008278.wav ['na', 'nei', 'na', 'ne'] ['na3', 'nei3', 'na5', 'ne2']\n",
      "zi zun\n",
      "lab_wav_pairs/009414.wav ['zun'] ['zun1']\n",
      "chao chang\n",
      "lab_wav_pairs/008094.wav ['chang', 'zhang'] ['chang2', 'zhang3']\n",
      "lin li\n",
      "lab_wav_pairs/008094.wav ['li'] ['li2']\n",
      "min mi\n",
      "lab_wav_pairs/008094.wav ['mi'] ['mi3']\n",
      "xue jue\n",
      "lab_wav_pairs/009937.wav ['jue'] ['jue2']\n",
      "yi you\n",
      "lab_wav_pairs/008774.wav ['you'] ['you4']\n",
      "wu o\n",
      "lab_wav_pairs/008746.wav ['o', 'wo'] ['o1', 'wo1']\n",
      "xi xing\n",
      "lab_wav_pairs/009633.wav ['xing'] ['xing3']\n",
      "suan fan\n",
      "lab_wav_pairs/008420.wav ['fan'] ['fan3']\n",
      "bu bo\n",
      "lab_wav_pairs/008576.wav ['bu', 'bo'] ['bu3', 'bo5']\n",
      "!!!\n",
      "mei nei\n",
      "lab_wav_pairs/008576.wav ['nei', 'na'] ['nei4', 'na4']\n",
      "si su\n",
      "lab_wav_pairs/009317.wav ['su'] ['su4']\n",
      "yuan ye\n",
      "lab_wav_pairs/009966.wav ['ye'] ['ye3']\n",
      "cai can\n",
      "lab_wav_pairs/009966.wav ['can', 'shen', 'cen', 'san'] ['can1', 'shen1', 'cen1', 'san1']\n",
      "zhou zheng\n",
      "lab_wav_pairs/008281.wav ['zheng', 'zheng'] ['zheng4', 'zheng1']\n",
      "ceng zeng\n",
      "lab_wav_pairs/008281.wav ['zeng', 'ceng'] ['zeng1', 'ceng2']\n",
      "!!!\n",
      "ceng zeng\n",
      "lab_wav_pairs/008004.wav ['zeng', 'ceng'] ['zeng1', 'ceng2']\n",
      "!!!\n",
      "wo wang\n",
      "lab_wav_pairs/009759.wav ['wang'] ['wang4']\n",
      "qi qing\n",
      "lab_wav_pairs/008112.wav ['qing'] ['qing2']\n",
      "jin ji\n",
      "lab_wav_pairs/009023.wav ['ji'] ['ji4']\n",
      "de di\n",
      "lab_wav_pairs/009023.wav ['di', 'de'] ['di4', 'de5']\n",
      "!!!\n",
      "men neng\n",
      "lab_wav_pairs/008680.wav ['neng', 'nai'] ['neng2', 'nai4']\n",
      "ye yan\n",
      "lab_wav_pairs/008639.wav ['yan'] ['yan4']\n",
      "da dai\n",
      "lab_wav_pairs/008639.wav ['dai'] ['dai4']\n",
      "de di\n",
      "lab_wav_pairs/008659.wav ['di', 'de'] ['di4', 'de5']\n",
      "!!!\n",
      "xian xie\n",
      "lab_wav_pairs/009821.wav ['xie'] ['xie3']\n",
      "shi chi\n",
      "lab_wav_pairs/008748.wav ['chi'] ['chi2']\n",
      "lv luo\n",
      "lab_wav_pairs/008648.wav ['luo', 'lv'] ['luo1', 'lv3']\n",
      "!!!\n",
      "de le\n",
      "lab_wav_pairs/008648.wav ['le', 'liao'] ['le5', 'liao3']\n",
      "lv luo\n",
      "lab_wav_pairs/008648.wav ['luo', 'lv'] ['luo1', 'lv3']\n",
      "!!!\n",
      "ge gen\n",
      "lab_wav_pairs/009377.wav ['gen'] ['gen1']\n",
      "ri zhi\n",
      "lab_wav_pairs/009691.wav ['zhi'] ['zhi4']\n",
      "men neng\n",
      "lab_wav_pairs/009123.wav ['neng', 'nai'] ['neng2', 'nai4']\n",
      "qin qing\n",
      "lab_wav_pairs/009502.wav ['qing'] ['qing1']\n",
      "jian jin\n",
      "lab_wav_pairs/009315.wav ['jin'] ['jin3']\n",
      "xi xu\n",
      "lab_wav_pairs/009437.wav ['xu'] ['xu4']\n",
      "mie mi\n",
      "lab_wav_pairs/008369.wav ['mi'] ['mi3']\n",
      "wei wen\n",
      "lab_wav_pairs/008696.wav ['wen'] ['wen4']\n",
      "wei wen\n",
      "lab_wav_pairs/008696.wav ['wen'] ['wen4']\n",
      "xiao jiao\n",
      "lab_wav_pairs/008114.wav ['jiao', 'jue'] ['jiao3', 'jue2']\n",
      "ha han\n",
      "lab_wav_pairs/008114.wav ['han'] ['han2']\n",
      "yin yi\n",
      "lab_wav_pairs/008891.wav ['yi'] ['yi1']\n",
      "she shi\n",
      "lab_wav_pairs/009000.wav ['shi'] ['shi4']\n",
      "ji jin\n",
      "lab_wav_pairs/008469.wav ['jin'] ['jin4']\n",
      "guan guai\n",
      "lab_wav_pairs/009816.wav ['guai'] ['guai1']\n",
      "tian tie\n",
      "lab_wav_pairs/009816.wav ['tie'] ['tie1']\n",
      "miao mian\n",
      "lab_wav_pairs/009816.wav ['mian'] ['mian2']\n",
      "mi min\n",
      "lab_wav_pairs/008682.wav ['min'] ['min2']\n",
      "xi ji\n",
      "lab_wav_pairs/008682.wav ['ji', 'ji'] ['ji1', 'ji3']\n",
      "jie ji\n",
      "lab_wav_pairs/008937.wav ['ji'] ['ji4']\n",
      "si se\n",
      "lab_wav_pairs/009036.wav ['se', 'shai'] ['se4', 'shai3']\n",
      "hao hang\n",
      "lab_wav_pairs/009602.wav ['hang', 'xing', 'heng', 'hang'] ['hang2', 'xing2', 'heng2', 'hang4']\n",
      "yue yun\n",
      "lab_wav_pairs/008784.wav ['yun'] ['yun4']\n",
      "xiang xiao\n",
      "lab_wav_pairs/009619.wav ['xiao'] ['xiao3']\n",
      "de di\n",
      "lab_wav_pairs/009782.wav ['di', 'de'] ['di4', 'de5']\n",
      "!!!\n",
      "hua huan\n",
      "lab_wav_pairs/009363.wav ['huan'] ['huan4']\n",
      "jin jing\n",
      "lab_wav_pairs/009369.wav ['jing'] ['jing4']\n",
      "me men\n",
      "lab_wav_pairs/009369.wav ['men'] ['men2']\n",
      "xing xi\n",
      "lab_wav_pairs/008935.wav ['xi', 'ji'] ['xi4', 'ji4']\n",
      "dou dong\n",
      "lab_wav_pairs/008212.wav ['dong'] ['dong3']\n",
      "yu yi\n",
      "lab_wav_pairs/008194.wav ['yi'] ['yi1']\n",
      "she shui\n",
      "lab_wav_pairs/009952.wav ['shui'] ['shui4']\n",
      "qiang qiao\n",
      "lab_wav_pairs/008195.wav ['qiao'] ['qiao3']\n",
      "hu huo\n",
      "lab_wav_pairs/008169.wav ['huo'] ['huo4']\n",
      "du duo\n",
      "lab_wav_pairs/008169.wav ['duo'] ['duo1']\n",
      "xing xi\n",
      "lab_wav_pairs/009855.wav ['xi'] ['xi3']\n",
      "kan kai\n",
      "lab_wav_pairs/009855.wav ['kai'] ['kai1']\n",
      "bie bi\n",
      "lab_wav_pairs/009855.wav ['bi'] ['bi3']\n",
      "jiu ju\n",
      "lab_wav_pairs/009855.wav ['ju'] ['ju3']\n",
      "ge gang\n",
      "lab_wav_pairs/009097.wav ['gang'] ['gang1']\n",
      "me ma\n",
      "lab_wav_pairs/008145.wav ['ma', 'ma', 'ma'] ['ma2', 'ma3', 'ma5']\n",
      "bie bian\n",
      "lab_wav_pairs/009456.wav ['bian'] ['bian1']\n",
      "ji jin\n",
      "lab_wav_pairs/009456.wav ['jin'] ['jin4']\n",
      "dai da\n",
      "lab_wav_pairs/009235.wav ['da', 'dai', 'tai'] ['da4', 'dai4', 'tai4']\n",
      "!!!\n",
      "me men\n",
      "lab_wav_pairs/009098.wav ['men'] ['men2']\n",
      "qing qian\n",
      "lab_wav_pairs/008417.wav ['qian'] ['qian1']\n",
      "xi xing\n",
      "lab_wav_pairs/009370.wav ['xing'] ['xing2']\n",
      "me mu\n",
      "lab_wav_pairs/008773.wav ['mu'] ['mu4']\n",
      "de dan\n",
      "lab_wav_pairs/008282.wav ['dan'] ['dan4']\n",
      "jin ji\n",
      "lab_wav_pairs/008282.wav ['ji'] ['ji4']\n",
      "xu xue\n",
      "lab_wav_pairs/008266.wav ['xie', 'xue'] ['xie3', 'xue4']\n",
      "sun sui\n",
      "lab_wav_pairs/008616.wav ['sui'] ['sui1']\n",
      "run re\n",
      "lab_wav_pairs/009186.wav ['re'] ['re3']\n",
      "bu bo\n",
      "lab_wav_pairs/008631.wav ['bo'] ['bo1']\n",
      "xiang xia\n",
      "lab_wav_pairs/008631.wav ['xia'] ['xia4']\n",
      "sheng zheng\n",
      "lab_wav_pairs/009594.wav ['zheng'] ['zheng4']\n",
      "jin jing\n",
      "lab_wav_pairs/009594.wav ['jing'] ['jing4']\n",
      "zao zang\n",
      "lab_wav_pairs/009555.wav ['cang', 'zang'] ['cang2', 'zang4']\n",
      "la lang\n",
      "lab_wav_pairs/009573.wav ['lang'] ['lang4']\n",
      "tuo tu\n",
      "lab_wav_pairs/009573.wav ['tu'] ['tu1']\n",
      "jian jin\n",
      "lab_wav_pairs/009135.wav ['jin'] ['jin3']\n",
      "ga jia\n",
      "lab_wav_pairs/009240.wav ['jia'] ['jia2']\n",
      "xia xiang\n",
      "lab_wav_pairs/009059.wav ['xiang'] ['xiang4']\n"
     ]
    }
   ],
   "source": [
    "\n",
    "detected_err_list = []\n",
    "\n",
    "for err in err_list:\n",
    "    filename, index, start, end, predicted, gt = err\n",
    "    print(predicted, gt)\n",
    "    print(filename, audio_py_hetero_list[filename]['nm_hetero_py'][index], audio_py_hetero_list[filename]['m_hetero_py'][index])\n",
    "    nm_hetero_py_i = audio_py_hetero_list[filename]['nm_hetero_py'][index]\n",
    "    m_hetero_py_i = audio_py_hetero_list[filename]['m_hetero_py'][index]\n",
    "    if predicted in nm_hetero_py_i:\n",
    "        hetero_index = nm_hetero_py_i.index(predicted)\n",
    "        print('!!!')\n",
    "        audio_py_pairs[filename][index] = (m_hetero_py_i[hetero_index], audio_py_pairs[filename][index][1], audio_py_pairs[filename][index][2])\n",
    "        detected_err_list.append(err)\n",
    "    "
   ]
  },
  {
   "cell_type": "code",
   "execution_count": 15,
   "metadata": {},
   "outputs": [
    {
     "name": "stdout",
     "output_type": "stream",
     "text": [
      "009419 guai4 bu4 de2 gu3 ren2 chang2 shuo1 jin4 zhu1 zhe3 chi4 wo3 xian4 zai4 que4 shi2 yue4 lai2 yue4 xiang4 zhu3 ren2 le5\n",
      "008493 shi4 shi2 shang4 gao1 li2 hun1 yi3 jing1 gei3 ke4 luo2 di4 ya4 de5 she4 hui4 dai4 lai2 le5 hen3 da4 de5 ying2 xiang3\n",
      "009112 yuan2 lai2 ta1 duo3 qi3 lai2 wan2 wei1 bo2 yu3 you3 ren2 da4 tan2 xing1 zuo4\n",
      "009334 bei4 cheng1 zan4 le5 zhen1 kai1 xin1 ya1\n",
      "008763 hei1 zuo4 fang1 nei4 zheng4 zai4 fen1 zhuang1 jia3 mao4 shui3 ni2\n",
      "009497 shu4 ren2 xiong1 ke3 xi1 wan3 sheng1 le5 yi4 bai3 nian2 huo4 zhe3 zao3 sheng1 le5 yi4 bai3 nian2\n",
      "009668 wu2 yi2 tang2 jun4 de5 shuai2 shou3 zou3 ren2 dui4 lian2 you2 wang3 luo4 lai2 shuo1 shi4 xue3 shang4 jia1 shuang1\n",
      "009872 cao2 hong2 liang4 shuo1 hai2 you3 ji3 ge4 kong1 zhe5 mei2 guan1 xi4 rang4 wo3 chao1 chao1\n",
      "008073 ge4 ti3 gong1 shang1 hu4 gen1 ju4 jing1 ying2 xu1 yao4 ke2 yi3 pin4 qing3 ruo4 gan1 bang1 shou3 huo4 zhe3 xue2 tu2\n",
      "008822 shuang1 fang1 shang1 ding4 ji4 xu4 jiu4 ci3 wen4 ti2 bao3 chi2 cuo1 shang1\n",
      "008846 ping2 shi2 wei1 feng1 lin2 lin3 de5 mi1 mi1 bei4 che3 xia4 le5 xu3 duo1 mao2 shen1 shang4 ye3 bei4 zhua1 shang1 le5\n",
      "008336 hang2 zhou1 shi4 cheng2 nuo4 jiang1 zai4 er4 ling2 san1 wu3 nian2 hou4 chai1 chu2 huo4 jiang4 ceng2\n",
      "009713 ling2 shi2 shi2 jiu3 fen1 xu3 hai3 xun2 san1 yao1 er4 wu3 qi1 hao4 di3 da2 shi4 fa1 shui3 yu4\n",
      "009274 leng3 mo4 guo4 he2 chai1 qiao2 xin1 wen2 cong2 hui2 yi4 li3 zhuai4 chu1 zhe4 xie1 zi4 yan3\n",
      "008895 shi4 nan2 san1 zhong1 pang2 guang1 ming2 mu4 zhang1 dan3 de5 dian4 nao3 fang2 jiu4 you3 wu3 jia1 wai4 jia1 shang4 xue2 xi2 zhong1 xin1\n",
      "009302 suo2 yi3 hen3 min2 gan3 hen3 fu4 za2\n",
      "009510 qian2 hua1 de2 zhi2 lao3 bai3 xing4 ye3 yuan4 yi4 jie3 nang2\n",
      "009856 you2 yu2 luo4 shui3 hou4 lian2 qiang1 le5 ji1 kou3 shui3 shang4 an4 hou4 de5 po2 po2 jing1 hun2 wei4 ding4 lian3 se4 cang1 bai2\n",
      "008547 gai1 bao3 an1 wei2 ji4 zhe3 da3 kai1 dian4 ti1 hu4 song4 ji4 zhe3 xia4 lou2\n",
      "009227 long2 hu2 wang3 ji4 zhe3 jiang1 ji4 xu4 guan1 zhu4\n",
      "008300 qu4 nian2 zhang3 xin1 da4 chao2 xi2 juan3 zhong1 guo2\n",
      "008707 qiao2 xiao3 sun1 gan1 de5 hao3 shi4\n",
      "009453 yi4 xie1 guan1 yuan2 ting1 wan2 hou4 jue2 de5 huo4 yi4 fei2 qian3\n",
      "008661 na4 tou2 yi1 ju4 bu4 xin4 suan4 le5 bian4 gua4 le5\n",
      "008482 xiang4 yu3 ping2 jie4 zhe5 gai4 shi4 wu2 shuang1 de5 wu3 yi4 hai2 qi3 tu2 chong2 zheng3 qi2 gu3 juan3 tu3 chong2 lai2\n",
      "009976 zhe4 yi1 qie4 dou1 ling4 ren2 huan1 xin1 gu2 wu3 a1 ne4 xi1 mei2 li3 you2 bu4 jian1 chi2 dao4 zui4 hou4\n",
      "008673 xian4 zai4 shi4 lian2 wo3 ben3 ren2 ye3 mo3 diao4 le5\n",
      "008729 wo3 chi1 jing1 de5 an4 zi4 si1 cun3\n",
      "008618 san1 shi4 yao4 jia1 kuai4 sheng1 tai4 han2 yang3 fa1 zhan3 qu1 jian4 she4\n",
      "009104 shi2 nian2 shi4 yi1 chuan4 chuan4 jiao3 yin4 shi2 nian2 shi4 yi2 ge4 zhang1 jie2\n",
      "008517 jie2 guo3 zhi3 shi4 ni3 da4 fang1 de5 qing3 da2 ren2 shua2 shua3\n",
      "008553 gao1 di4 jia4 xiang4 mu4 de5 lei2 lei3 fu4 zhai4 dui4 qi3 ye4 de5 ying2 shou1 xing2 cheng2 zhong4 ya1\n",
      "009592 liang3 ge4 dou1 shi4 da4 mei2 nv3 hao3 nan2 xuan3 ze2 ya1\n",
      "009457 kang4 yi4 shi4 wei1 zhe3 sheng1 cheng1 jiang1 jie3 fang4 shou3 du1 di4 li2 bo1 li3\n",
      "009776 chen2 ji4 ming2 ren4 wei2 dui4 fang1 qiao2 bu4 qi3 ta1 liang3 ren2 fa1 sheng1 zhua1 che3\n",
      "009723 jie2 shu4 tai4 guo2 you2 hou4 zhou1 jie2 lun2 lou3 zhe5 ma1 ma5 bu4 chu1 tao2 yuan2 ji1 chang3\n",
      "009705 di4 ba1 li4 que4 zhen3 bing4 li4 wei2 yi1 qi1 sui4 nv3 tong2 jia1 na2 da4 ji2 hua2 ren2\n",
      "009398 nei3 ge4 nv3 hai2 zi5 ru2 shang4 hai3 de5 xue3 ye3 suan4 ta1 wan2 le5\n",
      "009350 deng4 li4 de5 xin1 sui4 le5 tian1 tian1 yi3 lei4 xi3 mian4\n",
      "008454 du2 chang3 ke3 wei2 zheng4 fu3 dai4 lai2 gao1 e2 shui4 shou1\n",
      "008701 wo3 mei3 tian1 dou1 yao4 chen2 pao3 ne5\n",
      "009670 shao1 wei1 hui4 yi4 dian3 dan4 wo3 hui4 de5 bu4 duo1\n",
      "008225 shang4 yi1 jiao1 yi4 ri4 ren2 min2 bi4 dui4 mei3 yuan2 hui4 shuai4 wei2 liu4 dian3 san1 qi1 jiu3 qi1 yuan2\n",
      "008243 sui1 ran2 wo3 wu2 er2 wu2 nv3 dan4 xiang3 dang3 he2 zheng4 fu3 de5 fu2 wo3 de5 wan3 nian2 guo4 de2 hen3 an1 yi4\n",
      "008170 zhi1 dao4 ya1 ni3 shi4 wo3 de5 zhu3 ren2 shi4 yi2 ge4 yang2 guang1 kai1 lang3 re4 ai4 sheng1 huo2 de5 ren2\n",
      "009115 geng1 ji2 shou3 de5 shi4 niu1 niu5 de5 fu4 qiang1 gan2 ran3 yan2 zhong4\n",
      "008610 cong2 mu4 qian2 qing2 kuang4 kan4 ning2 bo1 shi4 di4 er4 yi1 yuan4 de5 ying4 dui4 cuo4 shi1 shi4 ji2 shi2 tuo3 dang4 de5\n",
      "008605 shi2 er4 yue4 er4 shi2 jiu3 ri4 chen2 chang2 hai3 bei4 er4 shi2 qi1 qu1 jian3 cha2 yuan4 pi1 zhun3 dai4 bu3\n",
      "009451 jin1 wan3 deng3 zhe5 ni3 xi2 fu4 he2 ni3 pin1 ming4 ba1\n",
      "008163 er2 qie3 ta1 men5 de5 fang2 wu1 dou1 bi3 jiao4 ai3 ge2 zhen4 ji4 shu4 ke2 yi3 zuo4 de2 jian3 yi4 xie1\n",
      "009684 ta1 xiang3 kang2 zhe5 que4 yi3 li4 bu4 cong2 xin1\n",
      "008451 zhe4 ge4 tiao2 kuan3 wu2 yi2 shi4 fei1 chang2 huang1 miu4 de5\n",
      "009589 zuo4 wei2 cong2 ye4 ren2 yuan2 wo3 yi3 jing1 sang4 shi1 le5 kan4 dian4 shi4 ju4 de5 le4 qu4\n",
      "008337 ta1 zhe4 ge4 nv3 ren2 zui3 ba5 ting3 tian2 de5 bu2 guo4 ye3 ting3 hao3 de5 o2\n",
      "008543 zi4 cong2 shi3 yong4 ruan3 jian4 hou4 zhao4 mou3 jiu4 cheng2 le5 chang2 sheng4 jiang1 jun1\n",
      "008007 yi2 ge4 li2 xiang3 de5 yi1 liao2 bao2 xian3 ti3 xi4 ying1 gai1 shi4 zen3 yang4 de5\n",
      "009476 dan4 zai4 si4 nve4 de5 sha1 chen2 sha1 bao4 mian4 qian2 ji4 hua4 bian4 cheng2 tan2 hua1 yi1 meng4\n",
      "009149 zhe4 zhong3 dan1 jing1 shou4 pa4 de5 ri4 zi5 he2 shi2 le5\n",
      "009638 ru2 guo3 shi4 zhuan1 jia1 dou1 de2 wang3 ping2 gu1 bao4 gao4 shang4 qian1 zi4\n",
      "009809 huo3 cong2 san1 jiao3 xing2 de5 ku1 long5 kai1 shi3 ran2 shao1\n",
      "008640 guo2 min2 heng2 cai4 xi1 hong2 shi4 chao3 ji1 dan4\n",
      "009793 su4 ya1 hu2 hu2 bian1 de5 mai4 di4 li3 bei4 du2 si3 de5 ye3 ji1 he2 xi3 que4 sui2 chu4 ke3 jian4\n",
      "008190 wu3 shi4 ke4 guan1 ren4 shi2 bi2 ci3 neng2 li4 he2 ze2 ren4\n",
      "009247 wo3 shuo1 wo3 qu4 ce4 suo3 leng3 jing4 leng3 jing4\n",
      "008360 zhen1 ying1 gai1 hao2 hao3 zha1 zha1 ta1 men5\n",
      "008676 wu3 yue4 qi1 ri4 zhang1 wu3 yi1 zuo4 zai4 qian2 ting3 jia4 shi3 cang1 jin4 xing2 ce4 shi4\n",
      "008124 cheng2 ying1 ma3 shang4 dui4 na4 shi2 pin3 lou4 chu1 xiang1 jian4 hen4 wan3 de5 lian3 se4\n",
      "009676 pi4 ru2 shuo1 mei2 gui1 zong3 shi4 zhang3 bu4 hao3\n",
      "008565 zhang1 liang4 xin1 li5 hui2 da2 zheng4 shi4 lao3 zi5 zui3 shang4 jiong3 xiao4 shuo1 shi4 ma2\n",
      "008119 dui4 ci3 wei4 hou4 kai3 gei3 chu1 le5 jian3 shui4 he2 ti2 jia4 liang3 fu4 yao4 ji4\n",
      "008563 shang4 bai3 ming2 chuan1 lan2 mian2 ao3 dai4 lei2 feng1 mao4 de5 da4 xue2 sheng1 chu1 xian4 zai4 yan4 piao4 kou3 qian2\n",
      "008233 dan1 shuang1 hao4 xian4 yan3 lian4 zhen1 zheng4 de5 kao3 yan4 jiang1 zai4 xia4 zhou1 yi1\n",
      "009093 zai4 gan1 la1 ji1 tong3 nei4 que4 fang4 zhe5 ji1 dan4 ke2\n",
      "008276 dang1 nian2 bei4 tuan2 jie2 qi3 lai2 de5 xiao3 ni2 qiu1 yi3 jing1 bei4 xi1 ji4 yi4 tong3 jiang1 hu2 de5 e4 yu2 xian2 qi4\n",
      "009077 rao2 rang3 ban4 nian2 zui4 zhong1 bei4 pan4 fa2 kuan3 le5 shi4\n",
      "008017 dan4 ye4 nei4 fen1 xi1 shi1 ye3 dui4 zheng4 ce4 xiao1 xi5 dui4 zi1 ben3 shi4 chang3 de5 ci4 ji1 chi2 jin3 shen4 tai4 du4\n",
      "008039 cong2 wei4 qiao3 qu3 hao2 duo2 wei4 shang1 tian1 hai4 li3\n",
      "008371 bu4 hao3 yi4 si1 wo3 hai2 mei2 you3 wan2 guo4\n",
      "008603 qing1 shao4 nian2 bian4 yu2 hong3 pian4 jiao4 suo1 ye3 shi4 bu4 fa3 zhi1 tu2 shou2 xuan3 de5 yuan2 yin1 zhi1 yi1\n",
      "009932 zhe4 yao1 qiu2 zhong1 guo2 bi4 xu1 you3 yi2 ge4 jian1 qiang2 de5 zheng4 dang3 ling2 dao3\n",
      "009516 ta1 tie1 zhe5 yi2 ge4 tu1 tou2 nan2 ren2 na4 cai2 shi4 tie1 zhe5 kan4 lai2 shang4 di4 ye3 you3 lou4 zhan3 de5 shi2 hou5\n",
      "009975 suan4 ming4 qi2 shi2 zhi3 shi4 ren2 men5 de5 yi4 zhong3 zi4 wo3 an1 wei4 he2 zi4 wo3 an4 shi4 er2 yi3 wo3 men5 hai2 shi4 yao4 xiang1 xin4 ke1 xue2 cai2 hao3\n",
      "009584 mian4 dui4 jiao3 hua2 de5 xian2 yi2 ren2 min2 jing3 bai3 chu1 zhong2 zhong3 zheng4 ju4 yi4 yi1 fan3 bo2\n",
      "009060 bie2 ju3 sang4 huo2 chu1 jing1 cai3 cai2 shi4 dui4 feng3 ci4 zui4 hao3 de5 huan2 ji1 dun1 xia4 lai2 gei3 zi4 ji3 yi2 ge4 yong1 bao4\n",
      "008704 shui2 yao4 bu4 ren4 shi2 ni3\n",
      "009771 ta1 jiang1 bei4 kong4 fei1 fa3 chuang3 ru4 yi3 ji2 miao3 shi4 fa3 ting2 liang3 zong1 zui4\n",
      "008509 ni3 yao4 shi4 an1 quan2 de5 hua4 jiu4 miao1 yi4 sheng1 da4 jia1 jiu4 fang4 xin1 le5\n",
      "009595 wo3 you3 yi4 ke1 re4 ai4 sheng1 huo2 de5 xin1 zhe4 bi3 shen2 me5 dou1 zhong4 yao4\n",
      "009963 lu4 shang4 guan1 qia3 hen3 duo1 wei4 le5 fang1 bian4 che4 li2 zhi2 hao3 qing1 zhuang1 qian2 jin4\n",
      "009161 chan2 shi1 na2 chu1 le5 yi2 ge4 cha1 zi3 shen2 me5 ye3 bu4 shuo1 nian2 qing1 ren2 huang3 ran2 da4 wu4\n",
      "009139 cu4 bu4 ji2 fang2 de5 ta1 ji2 tui4 liang3 bu4\n",
      "009525 wei2 xiu1 bu4 men2 bao3 liu2 xiao1 shou4 deng3 qi2 ta1 ye4 wu4 he2 bing4 zai4 yi4 qi3\n",
      "008599 ai4 wei1 er2 zao1 yu4 zhong1 guo2 chang2 cheng2 ai4 wei1 er2 de5 zhong1 guo2 zhi1 lv3 ke3 wei4 shou1 huo4 duo1 duo1\n",
      "008718 hao3 de5 dian4 hua4 jie1 tong1 zhong1\n",
      "009677 gei3 nv2 you3 ge4 jing1 xi3 dai4 nv2 you3 qu4 fu4 jin4 de5 di4 fang1 wan2\n",
      "008143 zai4 chuo1 chuan1 zhi1 hui4 yan2 mian4 diu1 shi1 bu4 dai4 biao3 wo3 mei2 you3 zhun3 bei4\n",
      "008970 zhe4 wei4 zai4 zhan4 chang3 shang4 chi2 cheng3 sha1 chang3 de5 shi4 bing1 que4 wu2 fa3 ren3 shou4 pin2 min2 sheng1 huo2\n",
      "008237 wo3 men5 jiu4 juan2 qi3 pu1 gai4 na2 zhe5 ya2 shua1 shen2 me5 de5 qu4 xi3 shu4\n",
      "009824 dian4 pu4 nei4 bo1 li2 sui4 bian4 di4\n",
      "008708 wo3 jue2 de5 hong2 shu4 lin2 bu2 cuo4\n",
      "008060 qin1 shen1 ti3 yan4 hou4 weng1 xi2 sheng1 zai4 ci4 fa1 wen4\n",
      "009978 jin4 liang2 shao3 wan2 dian4 nao3 shao3 kan4 dian4 shi4 shao3 da3 you2 xi4\n",
      "008600 e4 le5 ren3 zhe5 dian3 ma2 bu4 ran2 zhen1 de5 hui4 pang4 hen3 duo1\n",
      "008848 qing3 zhi1 qing2 zhe3 yu3 kuai4 bao4 re4 xian4 ba1 wu3 yao1 ling2 ling2 ling2 ling2 ling2 lian2 xi4\n",
      "009330 chu2 fei1 you3 tong1 tian1 de5 neng2 li4 dan4 tian1 hui4 sui2 shi2 sui2 di4 bang1 ni3 jiang4 yu3 mie4 huo3 ma2\n",
      "009632 huang2 chang2 yong3 gei3 chu1 le5 zi4 ji3 de5 da2 an4\n",
      "008984 ta1 de5 ban4 gong1 zhuo1 shang4 zong3 shi4 dui1 man3 le5 xue2 sheng5 zuo4 ye4 shi4 juan4 jing1 chang2 fei4 qin3 wang4 shi2\n",
      "008464 li2 zi5 dui4 chang2 yan2 jia3 zhuang4 xian4 zhong3 da4 bian4 mi4 yan4 shi2 xiao1 hua4 bu4 liang2 deng3 ji2 bing4 you3 yi2 ding4 liao2 xiao4\n",
      "009624 jian1 kong4 pai1 she4 dao4 gai1 nan2 zi3 zou3 lu4 shi2 you3 xie1 bo2 jiao3 chang2 fa4 pian1 shou4\n",
      "008123 hai2 yin1 wei4 mei2 qian2 zhong4 gu3 ming2 xiang1 cong2 lai2 bu4 mai3 wa4 zi5 ye3 bu4 chuan1\n",
      "009155 zhe4 jiu4 yi4 wei4 zhe5 jin1 hou4 gong1 min2 ke2 yi3 bu4 can1 jia1 jia4 xiao4 pei2 xun4 er2 zhi2 jie1 luo2 kao3 jia4 zhao4\n",
      "009332 yu2 shi4 ta1 bian4 da3 dian4 hua4 xun2 wen4 jia1 zhong1 shi4 fou3 you3 shi4\n",
      "009859 yin1 wei4 pan2 chan2 ji1 hu1 hao4 jin4 san1 ren2 zhi1 neng2 kao4 lin2 ju1 he2 bao3 an1 de5 jie1 ji4 mian2 qiang3 du4 ri4\n",
      "009311 tou2 zi1 shi2 bi4 xu1 tong2 shi2 you3 yuan3 jian4 zhuo2 shi2 he2 shi2 zai4 de5 shu4 ju4 zhi1 cheng1\n",
      "009071 zhe4 shi4 zang4 min2 de5 ding2 li3\n",
      "008331 zhe4 ge4 zuan1 kong3 ke3 yu3 liu4 qi1 ba1 jiu3 hao4 gong1 zuo4 mian4 xiang1 lian2\n",
      "009702 ji1 fen1 yi3 fen1 wei2 dan1 wei4 mei3 ci4 jin4 ru4 zhang4 hu4 shi2 an4 si4 she3 wu3 ru4 gui1 ze2 qu2 zheng3 ji4 suan4\n",
      "009478 mian4 dui4 tong2 yang4 jue2 jiang4 de5 fu4 qin1 wei1 zi3 wu2 ke3 nai4 he2 zhi3 de5 bai3 yi1 bai3 shun4\n",
      "008122 ci3 qian2 ou1 yang1 hang2 he2 yin4 du4 yang1 hang2 yi3 jing1 xuan1 bu4 jiang4 di1 li4 lv4\n",
      "008116 shi1 ti3 lei3 cheng2 yi4 dui1 you3 ming2 xian3 zao1 ren2 sao3 she4 zhi4 si3 ji4 xiang4\n",
      "008777 ta1 na2 zhe5 zhao4 pian1 zi3 xi4 duan1 xiang2 cai1 ce4 le5 duo1 ci4 cai2 ren4 chu1 zhao4 pian1 zhong1 de5 wei4 qiu1 yue4\n",
      "008235 zhong1 guo2 hai3 yang2 diao4 cha2 chuan2 ke1 xue2 san1 hao4 er4 shi2 san1 ri4 jia1 ru4\n",
      "009136 si1 li4 yao2 gao4 su4 ji4 zhe3 dian4 dong4 san1 lun2 che1 zai4 kuai4 di4 shi4 chang3 de5 sheng1 ming4 li4 fei1 chang2 wang4 sheng4\n",
      "008244 dan4 ying2 jie1 ta1 de5 bu2 shi4 tong2 qing2 he2 bang1 zhu4 er2 shi4 yi1 lang4 you4 yi1 lang4 de5 qian3 ze2\n",
      "008183 bu2 guo4 dui4 yu2 da4 duo1 shu4 pin3 pai2 er2 yan2 zhe4 reng2 ran2 shi4 zui4 wen2 tuo3 de5 zuo4 fa3\n",
      "009442 quan2 qiu2 di4 yi1 zuo4 ping1 pang1 qiu2 pai1 zao4 xing2 de5 ti3 yu4 bin1 guan3 xiao4 guo3 tu2\n",
      "009679 an1 ma3 xian4 zai4 wo3 dou1 bu2 lian4 le5 lian4 bu4 chu1 lai2 he1 he1\n",
      "008141 wo3 mei2 you3 di4 di4 dan4 wo3 you3 yi4 qun2 ai4 wo3 de5 ji1 qi4 ren2 hao3 peng2 you5\n",
      "009038 luan2 zi3 shi4 cong2 ji1 yin1 ku4 tiao1 xuan3 de5 lai2 zi4 yi2 ge4 ni4 ming2 de5 nv2 zi3\n",
      "009664 bai2 pang4 gao1 bai2 er2 liang4 de5 lian3 dai4 ti4 le5 deng1 de5 gong1 neng2\n",
      "008521 huang2 shang4 nin2 jin1 tian1 zen3 me5 you3 kong4 dao4 wo3 zhe4 lai2 la1\n",
      "009338 ni3 ye2 hao3 fan2 ya1\n",
      "009092 wu2 qi2 long2 cheng1 dang1 zhi4 zuo4 ren2 chi1 li4 bu4 tao2 hao3\n",
      "008075 hai2 you3 ren2 ba3 wen4 ti2 che3 dao4 le5 gong1 che1 shang4\n",
      "009844 dang1 ran2 shang4 wang3 ye3 bu4 guang1 shi4 kan4 qi2 ye3 liao2 liao2 tian1 zha1 cha2 you2 jian4 shen2 me5 de5\n",
      "008159 si1 ji1 shi1 fu5 yi1 leng4 you1 shang1 de5 shuo1 ni3 shu4 xue2 lao3 shi1 si3 de5 zao3 a1\n",
      "009144 zui4 hou4 han2 zhe5 lei4 wen4 le5 ju4 shui2 jia1 de5 xiong2 hai2 zi5 jiao4 xi1 zao3 bu2 da4 san1 ge4 tu3\n",
      "008104 jian4 zhuang4 min2 jing3 gan2 jin3 da3 kai1 chuang1 hu5 jiang1 nan2 zi3 zhuai4 hui2 fang2 nei4\n",
      "009440 wo3 yi1 bao4 gao4 ni3 tao2 ye4 jiu4 de2 chu3 fen4 mei2 gao4 ni3 ting3 hao3 le5 kan4 yi4 feng1 xin4 you3 shen2 me5 liao3 bu4 qi3 le5\n",
      "009831 zhi4 yu2 dang1 chu1 bao4 kao3 nan2 ke1 da4 ta1 ye3 zhi3 shi4 xiang3 tao2 bi4 gao1 kao3 sui2 bian4 kao3 zhe5 wan2 wan2\n",
      "008113 zai4 ou1 yuan2 xian4 ru4 wei1 ji1 zhi1 shi2 ou1 zhou1 kai1 shi3 xiang4 zhong1 guo2 qiu2 zhu4\n",
      "009184 wo3 men5 lian2 xi4 hao3 le5 la1 sa4 na4 bian1 you3 liang3 ge4 lv2 you3 hui4 zuo4 hao3 jie1 ying4\n",
      "008291 zhe4 me5 duo1 xiang3 ba3 wo3 lei2 si3 ma2\n",
      "009703 zhe4 shi2 lou2 fang2 huang3 de2 geng4 jia1 li4 hai5 bo1 li2 chuang1 hua1 hua1 de5 za2 la4 xia4 lai2\n",
      "008068 xian2 yi2 ren2 zhan4 zai4 gao1 chu4 shou2 ju3 yi4 gen1 bang4 chui2 yong4 li4 hui1 wu3 za2 xiang4 min2 jing3 wang2 jun1\n",
      "009736 pan1 bing1 shi4 yi1 wei4 po1 you3 te4 dian3 he2 ge4 xing4 de5 xuan2 shou3\n",
      "008672 sha1 he2 shi4 da1 lian5 cun1 xiang4 mu4 xian4 chang3\n",
      "008771 de2 te4 le4 fu1 dui4 zhi3 kong4 gong4 ren4 bu2 hui4\n",
      "008798 da4 ye2 te4 bie2 xi3 huan5 zai4 shen1 zhen4 de5 sheng1 huo2\n",
      "009116 wo3 zui4 jin4 zhu4 yi4 dao4 wang3 shang4 dui4 fa1 gai2 wei3 yi4 lun4 po1 duo1\n",
      "009484 ke3 chou2 lai2 de5 na4 dian3 qian2 mei4 mei5 zuo4 ji3 ci4 tou4 xi1 jiu4 dou1 hua1 guang1 le5\n",
      "009804 ta1 men5 dan1 xin1 ye3 xiang4 ban1 jia1 hou4 ke3 neng2 chong2 fan3\n",
      "009915 ye3 jiu4 shi4 shuo1 jin1 wan3 cheng2 du1 shi4 min2 ji2 you3 ke3 neng2 zai4 ci4 kan4 dao4 piao1 xue3\n",
      "008833 wo3 shi4 qiu3 bai3 mei4 zi5 a1 bu4 neng2 gei3 zu3 zhi1 diu1 lian3\n",
      "008750 ke3 zhe4 wei4 lao3 tai4 tai5 bu2 dan4 mei2 biao3 shi4 gan3 xie4 fan3 er2 hai2 bu4 ting2 de5 hong1 sun1 zi5\n",
      "009652 ling4 wai4 yao1 ling2 ba1 guo2 dao4 yang2 xian4 duan4 ye3 chu1 xian4 le5 lei4 si4 de5 qing2 kuang4\n",
      "008852 wo3 cai2 bu2 yao4 bei4 bie2 ren2 cao1 zong4 ne5\n",
      "008809 ta1 shuo1 wo3 jue2 de5 nin2 zen3 me5 kan4 zen3 me5 xiang4 wo3 san1 da4 ye2 kao3 guan1 hun1 si3\n",
      "009542 mu4 qian2 chen2 mou3 yin1 she4 xian2 gu4 yi4 sun2 hui3 gong1 si1 cai2 wu4 bei4 jing3 fang1 xing2 ju1\n",
      "009488 wo3 ning4 yuan4 gei3 gou3 chi1 ye3 bu4 gei3 ta1 liu2\n",
      "008486 dan1 shen1 nv3 xing4 zui4 jiu3 hou4 ying1 you3 shu2 xi1 de5 nan2 xing4 pei2 song4 hui2 jia1\n",
      "009085 lin2 jin4 nian2 di3 ge4 zhong3 bu3 tie1 fen1 zhi4 ta4 lai2\n",
      "008061 chen2 shui2 bian3 yao4 xiang3 jiao1 bao3 hai2 xu1 deng3 dai4\n",
      "008343 xiao1 xi5 fa1 chu1 hou4 tong2 xue2 men2 qun2 qing2 ji1 ang2 quan2 dou1 bao4 le5 ming2\n",
      "008311 ta1 xi3 ai4 da3 wang3 qiu2 you2 yong3 zeng1 bei4 xuan3 wei2 xue2 xiao4 ma3 shu4 bu4 de5 zhu3 jiang4\n",
      "008043 ru2 guo3 dang3 de5 ji1 ben3 lu4 xian4 cuo4 le5 wo3 men5 de5 shi4 ye4 jiu4 zao1 shou4 cuo4 zhe2 he2 shi1 bai4\n",
      "009146 an3 men5 san1 nian2 da4 xue2 jing4 suan4 shu4 xue2 ti2 le5\n",
      "008148 wo3 kan4 guo4 ni3 he2 wu2 zhuo2 xi1 de5 xue2 jing3 san1 hen3 xi3 huan5\n",
      "009292 you3 ren2 shen4 zhi4 kang2 lai2 lou2 ti1 da1 zai4 wei2 qiang2 shang4 si4 chu3 zhang1 wang4\n",
      "008083 chen2 ming2 liang4 zai4 ting2 shen3 zhong1 ye3 cheng2 ren4 ta1 ben3 ren2 ou2 er3 ye3 xi1 shi2 du2 pin3\n",
      "008612 gen1 ju4 gu3 dai4 mu4 zhi4 deng3 zi1 liao4 zong3 jie2 gu3 dai4 nv2 zi3 zai4 shi2 wu3 dao4 shi2 jiu3 sui4 jie2 hun1 wei2 duo1 o2\n",
      "009125 bu4 kua1 zhang1 di4 shuo1 ta1 jiang1 guan1 xi4 yi1 gai3 de5 cheng2 bai4\n",
      "008988 da4 pi1 ji4 zhe3 liu2 shou3 ze2 kao1 ma1 yu4 suo3 lou2 xia4 xi1 wang4 neng2 cai2 fang3 dao4 di4 yi4 shou3 zi1 xun4\n",
      "009913 cheng2 chang2 geng1 sheng1 zai4 qing1 wang2 zhao1 jia1 qing4 nian2 jian1 an1 hui1 de5 qian2 shan1 xiao3 xian4\n",
      "009764 yu3 xiang2 lian2 dou3 de5 yong3 qi4 ye3 mei2 you3 zhi2 you3 zai4 bei4 di4 li3 ma4 de5 ben3 shi4\n",
      "008101 mei2 you3 gong1 ji3 jing4 zheng1 xu1 qiu2 jing4 zheng1 jia4 qian2 ken3 ding4 jiu4 wang3 shang4 pao3\n",
      "009290 yin1 wei4 jia1 ting2 bu4 ke3 neng2 ge1 she3 shi4 ye4 ke2 yi3 deng3 dai4 xia4 yi4 bo1\n",
      "008727 guo2 qi3 li4 run4 ye3 zai4 xia4 jiang4\n",
      "008429 wo3 du2 dao4 yi2 ban4 jiu4 xin1 teng2 le5 shi4 nao4 na3 yang4\n",
      "008208 ling4 wai4 di4 mian4 shang4 hai2 you3 yi2 ge4 zuan1 kong3 yi3 da3 tong1\n",
      "009758 ka3 mei2 lun2 biao3 shi4 gan3 xie4 bing4 qing3 zhuan3 da2 dui4 wen1 jia1 bao3 zong2 li3 de5 wen4 hou4\n",
      "009521 ge2 xiao3 jie5 de5 ma1 ma5 wang2 nv3 shi4 zhi4 jin1 reng2 ran2 yi3 lei4 xi3 mian4\n",
      "009333 fen1 mian3 chi2 xiang4 ge4 da4 yu4 gang1 you3 zuo4 dian4 jiao3 dian4 liang3 ce4 hai2 you3 ba2 shou3\n",
      "009995 li3 dong1 weng3 biao3 shi4 zi4 ji3 dang1 shi2 zai4 fa3 ting2 shang4 fa1 biao3 le5 yi1 ci4 du2 te4 de5 gong1 su4 yi4 jian4\n",
      "009131 you3 wang2 you3 wen4 neng2 bu4 neng2 hui2 yi4 ji1 jian4 liu2 yang2 zai4 xue2 xiao4 li3 de5 qu4 shi4 huo4 qiu3 shi4\n",
      "009511 de2 guo2 li4 shi3 you1 jiu3 wen2 hua4 cui3 can4 su4 you3 shi1 ren2 he2 zhe2 xue2 jia1 guo2 du4 de5 mei3 yu4\n",
      "008009 you3 yi1 ju4 hua4 jiao4 yuan2 heng1 li4 zhen1 shi4 yi4 jing1 shang4 de5 yi2 ge4 gua4\n",
      "008835 shang4 zhou1 wu3 wei2 liu4 dian3 san1 ba1 si4 ling2\n",
      "008367 yuan2 yin1 shi4 gong1 zi1 di1 zhu4 fang2 zhai3\n",
      "008991 nan2 zi3 hao3 xiang4 bing4 bu4 jie3 qi4 you4 yao4 lin1 zhe5 la1 ji1 tong3 zai4 za2 bei4 ren2 zu2 zhi3\n",
      "009076 mai3 ping2 yin3 liao4 ping2 gai4 shang4 xie3 de5 zai4 lai2 yi4 ping2\n",
      "009946 ling4 wai4 jie2 ke4 xun4 you3 wen2 chun2 xian4 yan3 xian4 mei2 mao5 de5 dong4 zuo4\n",
      "009918 yu4 dao4 dian1 bo3 shi2 ying1 ting1 cong2 cheng2 wu4 yuan2 de5 an1 quan2 zhi3 ling4 hui2 zuo4 wei4 zuo4 hao3\n",
      "009407 xiang1 gang3 hui2 gui1 yi4 zhou1 nian2 de5 ji4 nian4 ri4 ji2 jiang1 lai2 lin2\n",
      "008760 jing1 yi1 yuan4 jian3 cha2 xiao3 ling2 wei2 ruan3 zu3 zhi1 cuo4 shang1\n",
      "008107 zai4 di4 qu1 ceng2 mian4 ling2 dao2 zhe3 xu1 yao4 que4 ding4 xia4 yi2 ge4 zeng1 zhang3 qian2 yan2\n",
      "008020 guo2 xue2 re4 zheng4 zai4 gan2 ran3 zhe5 geng1 duo1 tiao2 jian4 cen1 ci1 bu4 qi2 de5 you4 er2 yuan2\n",
      "008705 yin1 wei4 chuo1 dao4 tong4 chu4 le5\n",
      "008450 gu2 sui3 juan1 xian4 guo4 cheng2 zhong1 de5 fan4 hao2 jie2\n",
      "009410 ni3 shou3 xian1 yao4 zhao3 ji3 ge4 jing1 bu5 qi3 nie1 de5 ruan3 shi4 zi5\n",
      "009847 shi2 xia4 ni3 bei4 jie3 gu4 le5 zai4 mei3 guo2 shen4 wei2 liu2 xing2 cheng2 le5 yi1 ju4 shi2 mao2 yu3\n",
      "008531 ke2 yi3 chi1 wan3 ji1 tang1 hun2 tun2 zai4 chi1 yi2 ge4 shui2 zhu3 ji1 dan4 ying2 yang3 you4 jian4 kang1\n",
      "008374 zhe4 dui4 suan1 yu3 zhi4 li3 hen3 bu2 li4\n",
      "008804 zai4 ci3 guo4 cheng2 zhong1 li2 yu3 ye4 wu4 yuan2 fa1 sheng1 kou3 jue2 sui2 hou4 xiang1 hu4 la1 che3 tui1 sang3\n",
      "009887 wu1 ya1 de5 si3 shi4 zi4 ji3 zao4 cheng2 de5 yuan2 yin1 zhi1 zai4 yu2 ta1 mei2 you3 zuo4 diao4 cha2 shi4 tan4 huo2 dong4\n",
      "009348 wo3 shen1 shang4 zhong1 yu2 you3 yi4 dian3 zhu3 ren2 de5 qi4 zhi4 le5\n",
      "008168 wo3 jun1 shi2 xian4 hou4 qin2 xian4 dai4 hua4 you3 mei2 you3 shi2 jian1 biao3\n",
      "008078 zhe4 ge4 wen4 ti2 kan4 kan4 wo3 jiu4 zhi1 dao4 le5 ya1\n",
      "009704 pan1 shi2 yi4 chu1 le5 yi2 ge4 jia4 qian2 wo3 men5 zong1 he2 kao3 lv4 ke2 yi3 jiu4 mai4 lou2\n",
      "008945 hai2 zi5 zai4 wo3 shen1 shang4 pa2 zhe5 wan2 tu1 ran2 ting1 dao4 lo5 ge1 ge1 de5 qiao1 men2 sheng1\n",
      "009697 chuang1 wai4 wan3 feng1 chui1 fu2 shu4 ye4 you3 le5 huo2 li4 hua1 la1 la1 di4 xiang3 xiang4 zai4 su4 shuo1 zhe5 shen2 me5\n",
      "009140 ru2 guo3 bu4 neng2 cong2 zhe4 yi1 jian4 kan4 dao4 lie4 ren2 de5 yong2 wu3 na4 zhe4 tou2 shi1 zi5 jiu4 ben4 dan4 dao4 jia1 le5\n",
      "008526 zhe4 shi4 yi4 zhuang1 fei1 xing2 yun4 dong4 shou3 ci4 deng1 lu4 zhong1 guo2\n",
      "008126 xian4 zai4 zhou1 wei2 ju1 min2 dui4 ni3 men5 jia1 you3 mei2 you3 te4 bie2 de5 gan3 jue2\n",
      "009773 chou3 wen2 ming2 xing1 zou3 bu4 liao3 chang2 xian4\n",
      "009046 er2 dao4 xia4 ji4 hou4 niao3 bei3 fei1 you4 ke3 neng2 zai4 ya4 zhou1 bei3 bu4 dai4 lai2 yi4 qing2\n",
      "008406 ku4 ni2 si1 shen1 shou3 ba3 ku4 che4 de5 tou2 lou3 jin4 huai2 li3 shen4 zhi4 dang1 zhong4 jie1 wen3 xiang1 dang1 qin1 mi4\n",
      "008545 ben3 lai2 li3 kun1 yao4 ke3 na2 chu1 xu3 duo1 li3 you2 wei2 zi4 ji3 kai1 tuo1\n",
      "008256 da4 duo1 shu4 ren2 dou1 fang4 qi4 yang3 zhu1 gai3 zuo4 bie2 de5 hang2 dang1\n",
      "008660 yi2 jia1 can1 ting1 yi4 ming2 a1 yi2 zai4 he1 ka1 fei1\n",
      "008330 hai2 you3 si4 fen1 zhi1 yi1 de5 ren2 shen4 zhi4 mei2 you3 an4 chu3 fang1 zhua1 yao4 zhi4 bing4\n",
      "009382 zhe4 du3 si3 wang2 qiang2 shang4 dan4 kong3 lei2 lei3 zhe4 li3 shi4 na4 cui4 chu3 jue2 fan4 ren2 de5 di4 fang1\n",
      "009949 cong2 yun4 xing2 gui3 ji4 shang4 lai2 shuo1 ta1 ye3 bu4 ke3 neng2 shi4 xing1 xing5\n",
      "008248 yan3 xi2 guo4 cheng2 zhong1 jiang1 dong4 yong4 fu2 he2 bei3 yue1 biao1 zhun3 de5 xian1 jin4 ji4 suan4 ji1 xi4 tong3\n",
      "009754 zhong1 guo2 zheng4 fu3 hen3 zhou1 quan2 wu2 ke3 tiao1 ti4\n",
      "008501 mao2 tai2 ji2 tuan2 zuo2 tian1 fa1 biao3 sheng1 ming2 zai4 ci4 pie1 qing1 le5 zi4 ji3 yu3 she1 chi2 pin3 de5 guan1 xi4\n",
      "009900 mei3 tian1 ba3 lao2 sao1 na2 chu1 lai2 shai4 shai4 tai4 yang2 xin1 qing2 jiu4 bu2 hui4 que1 gai4\n",
      "009954 mei2 liao4 dao4 chuang3 xia4 da4 tou2 fo2 de5 a1 wei3 hai2 bu4 zhi1 hui2 gai3\n",
      "008529 xi3 huan5 se4 cai3 he2 tu2 hua4 de5 ren2 da4 duo1 xi3 huan5 jian3 dan1 er2 an1 jing4 de5 sheng1 huo2 shuo1 de5 shi4 ni3 ma2\n",
      "009514 jiu4 shi4 bi3 jiao4 xi3 huan5 xie3 dian3 dong1 xi1 ma2\n",
      "008871 chi2 gu3 de5 mei4 li4 jiu1 jing4 zai4 na3\n",
      "009408 teng2 tong4 nan2 ren3 de5 wang2 dan1 dan1 sui2 ji2 ye3 tang2 dao3 zai4 di4\n",
      "009397 er2 tong2 que1 dian3 hui4 dao3 zhi4 zhi4 li4 di1 xia4 shen1 cai2 ai2 xiao3\n",
      "008260 ye3 nan2 guai4 zhong1 guo2 you3 ming2 yan2 qun2 zhong4 de5 yan3 jing5 shi4 xue3 liang4 de5\n",
      "009157 dang1 ran2 zhe4 bu4 neng2 quan2 guai4 zhang1 yi4 mou2 zhi1 guai4 zi4 ji3 zhi1 shi2 tai4 pin2 fa2\n",
      "008653 wo3 pa4 ta1 men5 hu4 xiang1 chao2 xing3 dui4 fang1\n",
      "008969 zhi3 ding4 de5 ri4 qi1 dao4 le5 suo2 you3 de5 niao3 dou1 yi4 qi2 lai2 dao4 zhou4 si1 mian4 qian2\n",
      "009326 zui4 jin4 gan3 jue2 ta1 xiao1 ting2 yi4 xie1 le5 wo3 ye3 jue2 de5 wo3 ke2 yi3 chu1 lai2 le5\n",
      "009458 you3 mei2 you3 fa1 xian4 wo3 xi3 huan5 bei4 ying3 zhao4 bu2 guo4 wo3 xiang1 xin4 ni3 xin1 li5 yi3 jing1 you3 wo3 de5 lun2 kuo4 le5\n",
      "008175 fei1 zhou1 ren2 you3 fei1 chang2 qiang2 da4 de5 fu2 zhou4 neng2 gou4 zai4 zha2 yan3 jian1 hui3 diao4 yi2 ge4 ren2\n",
      "009495 jiao4 shi4 li3 yi2 you3 ji3 ge4 ren2 shu3 jia4 de5 lian4 bi3 zuo4 wen2 gang1 fa1 xia4 lai5\n",
      "009430 ta1 chuan1 le5 yi1 jian4 song1 kua3 kua3 de5 hong2 se4 chen4 shan1\n",
      "008717 nan2 you3 yi4 liang3 ge4 yue4 bu4 zhu3 dong4 lian2 xi4 wo3 shi4 ji3 ge4 yi4 si1\n",
      "008298 bing4 you3 men2 shuo1 ta1 men5 chu1 qu4 shua3 le5\n",
      "009113 ran2 hou4 ta1 chuan1 shang4 yi1 jian4 quan2 shen1 bai2 se4 de5 sang1 fu2\n",
      "008794 ji1 qi4 ren2 yao4 shi4 lei2 le5 hui4 guan1 ji1 chong2 qi3\n",
      "008139 ta1 jin4 lai2 hou4 da4 sheng1 wen4 hao3 yao4 wo3 men5 bang1 ta1 zhun3 bei4 yi4 xie1 pu3 tong1 dian3 xin5 da3 bao1 dai4 zou3\n",
      "008198 ni3 jian4 guo4 na3 zhi1 mu3 ji1 da3 jia4 yong4 ji1 dan4 de5\n",
      "008345 wo3 yao4 xue2 xi2 yi1 xia4 xiang1 guan1 zhi1 shi2\n",
      "008883 zun1 ming4 wo3 ke2 yi3 pei2 ni3 yi4 qi3 qu4\n",
      "009803 jing1 qu1 zheng4 fu3 yu3 duo1 fang1 xie2 tiao2 chong2 xin1 shang4 lu4\n",
      "008772 er2 zhe4 xie1 huan2 jie2 dui4 yu2 cheng2 ben3 geng4 wei2 min2 gan3\n",
      "008956 shang4 mian4 xie3 you3 ming2 zi5 chu1 sheng1 nian2 yue4 deng3 xin4 xi1 dan4 xian4 zai4 dou1 gao3 diu1 le5\n",
      "008156 chu2 le5 que2 tui3 nan2 zai4 shen1 shang4 tao1 chu1 de5 yi1 bu4 wai4 chu2 fang2 chuang1 tai2 shang4 hai2 you3 yi1 bu4\n",
      "009620 zi4 you4 shi2 ji4 shi4 qi3 da4 ren2 men5 yi1 shuo1 qi3 ta1 dou1 duo2 duo2 shan2 shan3 hui4 mo4 ru2 shen1\n",
      "008012 er2 dao4 er4 ling2 jiu3 ling2 nian2 zhe4 yi1 ke3 neng2 xing4 ze2 jiang1 gao1 da2 bai3 fen1 zhi1 jiu3 shi2\n",
      "009893 ju4 xi1 zhe4 ge4 liu2 dong4 de5 luo4 tuo5 zhao4 xiang4 tan1 bing4 wei4 ban4 li3 ren4 he2 shou3 xu4\n",
      "009438 kan4 dao4 zhe4 ge4 heng2 fu2 xu3 duo1 ren2 re4 lei4 ying2 kuang4\n",
      "008995 ge2 lao3 tai4 hen3 gan3 ji1 yao4 ba3 qin2 cai4 song4 gei3 hao3 xin1 ren2 dan4 bei4 ren2 men5 wan3 ju4\n",
      "009143 ban4 fa3 gui1 ding4 le5 nong2 chan2 pin3 zeng1 zhi2 shui4 jin4 xiang4 shui4 e2 he2 ding4 fang1 fa3\n",
      "009294 you3 er2 you3 nv3 le5 hen3 man3 zu2 le5\n",
      "009753 guo1 jin1 long2 ping2 jia4 lu2 yong3 shi4 ye4 xin1 ze2 ren4 gan3 jiao4 qiang2 zu3 zhi1 xie2 tiao2 neng2 li4 qiang2\n",
      "008584 zi4 zhi4 qu1 fu4 zhu3 xi2 jin4 nuo4 kan4 wang4 cai3 ta4 shi4 gu4 shou4 shang1 xue2 sheng5\n",
      "009248 zhu3 yao4 yong4 zuo4 piao3 bai2 ji4 fang2 fu3 ji4\n",
      "008027 wu2 pei4 yu4 shuo1 you3 ren2 wen4 wu2 meng4 chao1 shen1 ti3 na4 me5 hao3 shi4 bu2 shi4 chi1 shen2 me5 bu2 pin3 a1\n",
      "008053 xu1 yao4 piao2 xi3 de5 guo1 wan3 tai4 duo1 chi2 zi5 li3 shui3 mian4 shang4 de5 pao4 mo4 yue4 lai2 yue4 duo1\n",
      "008361 dao4 san1 yao1 jiu3 guo2 dao4 du3 che1 zao4 cheng2 jiao1 tong1 shou4 zu3 yue1 yi1 xiao3 shi2\n",
      "009622 wo3 hai2 mei2 kai1 fa1 chu1 zhe4 ge4 gong1 neng2 ye2\n",
      "009158 zhe4 jue2 dui4 shi4 shou4 dao4 le5 ta1 pai1 she4 de5 jing1 song3 pian4 zi3 zhai2 de5 ying2 xiang3\n",
      "009543 ni3 shi4 fou3 xiang3 guo4 ni3 de5 ge4 ren2 xin4 xi1 ye2 xu3 yi3 bei4 zhuan2 shou3 shu4 ci4\n",
      "008032 mei3 zhong1 chu2 li3 fen1 qi2 de5 fang1 shi4 jiong3 yi4\n",
      "008253 ji2 shi3 zai4 wei4 jia1 zheng4 lao2 lao3 qu4 shi4 shi2 dou1 mei2 gan3 shuo1\n",
      "009819 ren2 men5 shou3 peng3 xian1 hua1 zai4 lin2 shi2 she4 zhi4 de5 deng3 hou4 qu1 li3 huan2 huan3 qian2 xing2\n",
      "009049 sheng1 hai2 zi5 ye3 hen3 lei2 a1 bu2 yao4 zai4 yi4 shi4 shei2 de5 le5 hao3 ma2\n",
      "008076 yu2 qi1 reng2 bu4 deng1 ji4 de5 shou1 rong2 quan3 zhi1\n",
      "009635 zhong1 wu3 shi2 fen1 jun1 dou1 shan1 hua2 xue3 chang2\n",
      "008670 ye1 lu4 sa1 leng3 shi4 you2 tai4 jiao4 ji1 du1 jiao4 he2 yi1 si1 lan2 jiao4 gong4 tong2 de5 sheng4 di4\n",
      "009884 qian2 wei3 chang2 dui4 yin3 shi2 cong2 bu4 tiao1 ti4 ji4 bu4 chou1 yan1 ye3 bu4 he1 jiu3 yin3 cha2 ye3 bu4 jiang3 jiu5\n",
      "008836 zui4 hou4 chu1 lu4 bao4 shang4 de5 bian1 pai2 shi4 zhe4 yang4 de5 san1 pian1 san3 wen2 yi1 bu4 xiao3 shuo1 yi4 shou3 shi1\n",
      "009470 zheng1 zhi2 zhong1 zhao4 mou3 sui4 yong4 shuang1 shou3 qia1 zhu4 guan1 mou3 de5 bo2 zi5 zhi4 qi2 si3 wang2\n",
      "008490 ceng2 you3 tui1 xiao1 yuan2 zhe4 me5 shuo1 wo3 mei3 jie1 chu4 shi2 ge4 ren2 cai2 you3 yi2 ge4 ren2 yuan4 yi4 gou4 mai3 wo3 de5 huo4 wu4\n",
      "008428 zhe4 bei4 kan4 zuo4 shi4 fei1 meng2 yu3 lian2 he2 guo2 wo4 xuan2 gai1 guo2 zheng4 zhi4 jiang1 ju2 de5 yi1 da4 cheng2 guo3\n",
      "009441 liang3 guo2 yuan2 shou3 gao1 zhan1 yuan2 zhu3 kai1 chuang4 le5 zhong1 mei3 guan1 xi4 de5 xin1 ju2 mian4\n",
      "008356 ta1 hou4 lai2 bei4 song4 wang3 rui4 shi4 bo2 er3 ni2 de5 guo2 ji4 xue2 xiao4 liu2 xue2\n",
      "009836 you3 le5 ke1 xue2 zhi2 yin3 zhi2 xing2 sou1 jiu4 ren4 wu4 de5 guan1 bing1 dun4 shi2 dou4 zhi4 bei4 zeng1\n",
      "009357 jia1 li3 mai3 le5 bu4 shao2 zhong3 you2 cha2 de5 shu1 ke3 guang1 kan4 shu1 ku1 zao4 bu4 shuo1 hai2 bu4 hao3 dong3\n",
      "009926 bu4 guan3 ha1 da4 ye2 qu4 na3 ta1 dou1 yi1 bu4 bu4 li2 de5 gen1 zhe5\n",
      "009342 shi4 ba1 jie4 sheng2 wei3 wei3 yuan2\n",
      "009299 bu2 cuo4 ma5 hai2 zai4 zhen1 hao3\n",
      "009194 jie4 shi2 nan2 jing1 jiang1 cheng2 wei2 quan2 guo2 zui4 da4 de5 bei2 dou3 chan3 ye4 ying4 yong4 fa1 zhan3 ji1 di4\n",
      "009648 ke4 tang2 shang4 ting1 bu4 dong3 xia4 ke4 jiu4 xiang4 ge1 ge5 jie3 jie5 wen4\n",
      "009246 ye2 xu3 shi4 jue2 de5 na4 ge4 gu1 niang5 bi3 jiao4 ai2 xiao3 li3 yong3 yan4 reng2 mei2 you3 hui2 xin4\n",
      "008421 duan2 duan3 yi4 fen1 zhong1 wang4 de5 bu4 zhou4 jie2 shu4 le5\n",
      "009812 duo2 mu4 cui3 can4 de5 deng1 guang1 jiao1 zhi1 zhe5 ji1 qing2 peng2 pai4 de5 yin1 yue4\n",
      "008395 zhu3 zhi4 yi1 sheng1 gao4 su4 liu2 yuan2 yi4 jia1 ren2 fu4 qin1 de5 bing4 zhi4 yu4 de5 xi1 wang4 miao3 mang2\n",
      "009623 ji2 shi3 ta1 fan4 le5 cuo4 fu4 mu3 qin1 ye3 bu2 hui4 jiao4 xun5 ta1\n",
      "009126 qu4 ba1 qu4 ba1 ming2 tian1 ji4 de5 zai4 lai2 zhao3 wo3 bao4 dao4\n",
      "008909 wo3 bu2 shi4 tian1 tian1 dou1 tu2 fen2 di3\n",
      "009341 chi1 ge4 zhong3 jing1 shen2 shi2 liang2\n",
      "008818 jin1 tian1 zhong1 wu3 chi1 fan4 pang2 bian1 you3 liang3 xiao3 hai2 zai4 dou4 zui3 nan2 hai2 wen4 ni3 bu4 xi3 huan5 wo3 le5 ma2\n",
      "008458 zui4 ke3 wu4 de5 shi4 dao4 hou4 lai2 na4 tou2 de5 ren2 dou1 wen4 wo3 ni3 shi4 bu2 shi4 de2 zui4 shui2 le5\n",
      "008294 dan1 wei4 de5 cai2 wu4 jian1 guan3 li4 du4 ru2 he2\n",
      "009237 wei4 he2 mei2 you3 yi4 jia1 zhong1 guo2 qi3 ye4 zuo4 wei2 ben3 jie4 ya4 yun4 hui4 de5 zan4 zhu4 shang1 ne5\n",
      "008622 he1 he1 kan4 lai2 ni3 ting3 liao2 jie3 de5 na4 ni3 gei3 wo3 xiang2 xi4 shuo1 shuo1 bei5\n",
      "008287 jie2 an4 zhi1 ji4 jiang1 tao1 fu4 qin1 xiang4 fa3 guan1 liu2 lu4 chu1 le5 chan4 hui3 zhi1 qing2\n",
      "008938 ta1 xiang3 gao3 ming2 bai5 qin1 mi4 guan1 xi4 de5 fan4 wei2 dao4 di3 you3 duo1 da4\n",
      "008375 wo3 dou2 dan3 cai1 ce4 ji2 tuan2 gei3 lu4 zhao4 xi3 wu4 liu2 gei3 shao4 xiao3 feng1\n",
      "009655 ju4 e2 kui1 kong1 hou4 jiang3 gong1 kai1 qian2 tao2\n",
      "009935 mi1 mi1 tian3 zhe5 hai2 zi5 ba3 ta1 shen1 shang4 de5 mao2 tian3 gan1 jing4\n",
      "008055 suo2 yi3 zai4 zhe4 ge4 bu4 fen4 wa4 zi5 que4 shi2 yi4 yu2 guan2 li3 tong2 shi2 ta1 ye3 yi4 yu2 wu4 liu2\n",
      "008410 ta1 fan1 le5 wo3 de5 duan3 xin4 xian4 zai4 ta1 bu4 jin3 zhi1 dao4 wo3 you3 wai4 yu4 hai2 jian1 xin4 wo3 shi4 ge4 ji1 lao3\n",
      "008353 zhe4 ba3 qiu2 yuan2 men2 ji1 dong4 huai4 le5\n",
      "008585 jin4 yi1 ge4 yue4 li3 wo3 mei2 peng4 dao4 chuan2 yan2 zhong1 man2 heng4 qi1 ba4 de5 zai1 min2\n",
      "008720 zhe4 ge4 yao1 qiu2 mei2 you3 bei4 yun2 xu3\n",
      "008864 xia4 le5 yi2 ge4 xing1 qi1 de5 yu3 le5 mei3 tian1 dai4 jia1 li3 na3 ye3 qu4 bu4 liao3\n",
      "009056 han2 jia3 zuo4 ye4 bian4 le5 wei4 dou1 shi4 gong1 li4 shi2 yong4 zhu3 yi4 re3 de5 huo4\n",
      "009974 qi2 jian1 lian2 po4 liu4 dian3 liu4 liu4 dian3 wu3 liu4 dian3 si4 liu4 dian3 san1 wu3 deng3 duo1 ge5 zhong4 yao4 guan1 kou3\n",
      "008292 ta1 hen3 jing1 ya4 fu4 qin1 zai4 xin1 hai4 ge2 ming4 zhi1 zhong1 gei3 le5 ta1 yi2 ge4 jue2 se4\n",
      "009938 you2 ci3 ke2 yi3 kan4 chu1 han2 gang1 de5 jing1 ji4 xiao4 yi4 lai2 zi4 he2 chu3\n",
      "008827 zhe4 xian3 ran2 ye3 bu2 shi4 ha1 ma3 si1 suo3 yuan4 yi4 mian4 dui4 de5\n",
      "009755 ke2 yi3 qu4 jiu4 jin4 de5 zhu2 guan3 shui4 wu4 ju2 shen1 bao4 ru2 guo3 you3 jiao1 yi4 ping2 zheng4 ke2 yi3 xie2 dai4\n",
      "009945 xian3 ran2 luo4 yang2 xing4 nu2 an4 bu4 ju4 bei4 shang4 shu4 liang3 ge4 qian2 ti2\n",
      "008967 bei3 jing1 jing1 xi1 bin1 guan3 hua2 deng1 cui3 can4 yang2 yi4 zhe5 huan1 qing4 xiang2 he2 de5 qi4 fen1\n",
      "008742 lin2 zou3 shi2 yuan2 bao3 hong2 zhuai4 xia4 le5 liang2 li4 li4 de5 xiang4 lian4\n",
      "009162 jin1 wan3 ni3 zai4 zhe4 yang4 shui4 sha1 fa1 qu4\n",
      "009009 nv3 ming2 xing1 ye3 shi4 ping2 fan2 ren2 ni3 yi3 wei2 zai4 yu2 le4 quan1 pai1 xi4 gan3 tong1 gao4 hen3 rong2 yi4 ma2\n",
      "009431 ran2 hou4 jiu4 chu1 men2 le5 liu2 xia4 cuo4 e4 de5 lao3 po2\n",
      "008694 wo3 men5 ke3 mei2 you3 dai4 mian4 ju4 yo1\n",
      "008351 bu2 yao4 gen1 wo3 liao2 zhe4 xie1 wo3 bu4 dong3\n",
      "009224 ta1 zhi1 cheng1 tai4 tai5 yi4 hen3 xin4 ren4 ta1\n",
      "009404 er4 hao4 qin3 shi4 li3 san1 ge4 ren2 dou1 tang3 zai4 chuang2 shang4 wen1 shu1\n",
      "008487 he2 lao3 po2 ling3 zheng4 qi1 nian2 le5 ban4 zhun3 sheng1 zheng4 shi2 ju1 ran2 shuo1 wang3 shang4 cha2 bu2 dao4 wo3 men5 de5 jie2 hun1 zheng4\n",
      "009934 ming2 dai4 wa3 la4 da2 da2 ru4 qin1 ming2 jing4 ye3 shi4 tong1 guo4 ci3 di4\n",
      "008290 zhe4 wei4 cong1 ming5 de5 bao2 bao3 jiao4 chen2 jun4\n",
      "008952 na4 duan4 shi2 jian1 wei4 le5 an1 fu3 mu3 qin1 zhao4 can4 ceng2 hui2 dao4 lao3 jia1 shen1 ze2 xian4\n",
      "008221 xiao3 mei4 zui4 hou4 hai2 shi4 yong1 you3 le5 ban4 ge5 ya3 dian3 na4 de5 zhi4 hui4 jue2 yi4 he2 luo2 tian1 cheng2 fen1 shou3\n",
      "009233 xiong1 mei4 lia3 shou1 shi2 hao3 pu1 gai4 yong4 jia4 zi5 che1 la1 zhe5 fu4 qin1 qu4 shang4 xue2\n",
      "008881 xu1 ke4 fang1 shi4 niu1 niu5 de5 fu4 qin1\n",
      "008118 wo3 men5 zai4 zhe4 li3 hai2 fa1 xian4 le5 shan1 dong1 sheng3 zeng4 song4 de5 tao2 ci2\n",
      "008803 yu3 duan4 yi4 hong2 de5 dui4 hua4 yue4 shen1 ru4 yue4 neng2 gan3 shou4 dao4 ta1 de5 zheng4 yi4 lin3 ran2 de5 qi4 chang2\n",
      "008497 deng3 wo3 yu4 dao4 xin1 shang4 ren2 de5 shi2 hou5 jiu4 yao4 jie2 hun1 lou2\n",
      "008125 xu3 duo1 zhu4 hu4 zai4 men2 kou3 zhu4 qi3 sha1 dai4 ri4 ye4 yao2 shui3 pai2 lao4\n",
      "009885 yi3 hou4 wo3 sheng1 ri4 jiu4 bu4 neng2 ling3 li3 wu4 le5 he1 he1 ke3 neng2 ta1 shi4 wei4 le5 sheng3 li3 wu4 ba1\n",
      "009788 ni2 ke4 song1 dui4 ci3 zan4 bu4 jue2 kou3 yi4 lian2 chi1 le5 liu4 zhi1 hun2 tun2\n",
      "009446 wo3 yi1 qie4 dou1 hao3 nin2 da4 ke3 bu2 bi4 cao1 xin1\n",
      "008402 chi4 feng1 you2 ci3 er2 cheng2 wei2 zhong1 hua2 long2 de5 gu4 xiang1 he2 long2 wen2 hua4 de5 fa1 xiang2 di4\n",
      "009770 wai4 biao3 han1 hou5 que4 gong1 yu2 xin1 ji4\n",
      "009574 beng1 yi1 xia4 he2 tao2 wan2 hao3 de5 zai4 di4 shang4 da2 gun3 su4 she4 men2 que4 diao4 le5 xia4 lai5\n",
      "008736 yin1 wei4 he2 shui3 wen1 du4 di1 nan2 zi3 bu4 ting2 de5 duo1 suo5 zhe5\n",
      "009519 wen2 xun4 hou4 lv3 zong1 yin1 li4 ji2 tiao4 xia4 che1 zhen1 cheng2 bei1 qie4 de5 su4 shuo1 da3 dong4 le5 zhi4 yuan4 zhe3 men2\n",
      "008229 yi3 jun1 zong3 can1 mou2 zhang3 ha1 lu3 ci2 jiang1 jun1 ling2 chen2 zhao4 kai1 jin3 ji2 hui4 yi4 tao3 lun4 dui4 ce4\n",
      "009179 wang2 you3 xiao3 tao3 yan4 zhou1 shuo1 hai2 hao3 wo3 men5 de5 mei3 ci4 jia4 qi1 hui2 lai5 dou1 hui4 chai1 xia4 lai2 xi3 o2\n",
      "008424 zhui1 tao2 min2 jing3 di3 da2 hou4 lai2 bu4 ji2 tian1 zhi4 mian2 ao3 jiu4 zhi2 ben4 dang1 di4 gong1 an1 ji1 guan1\n",
      "008081 zai4 hu2 run4 bang3 dan1 zhong1 wei4 lie4 zhong1 guo2 si1 you3 jing1 ji4 ti3 di4 yi4 ming2\n",
      "009114 xiao3 zheng4 biao2 jie3 jiu4 zai4 zhong1 qiu1 jie2 zhao3 dao4 po2 jia5 de5\n",
      "009066 wo3 gui1 nv3 rang4 wo3 gei3 ta1 mai3 hao3 chi1 de5 ne5\n",
      "008082 gan2 jin3 bi4 shang4 yan3 jing1 xiu1 xi1 ba1\n",
      "009626 mei2 you3 ren2 fa1 lao2 sao1 er2 shi4 mao3 zu2 jin4 zhuo2 shou3 zheng2 gai3\n",
      "009042 jie2 guo3 yin1 ci3 mei2 chou3 jian4 qian2 mian4 de5 dian4 xian4 gan1 zi3 yi4 tou2 zai1 shang4 le5\n",
      "009133 lao3 zi5 chu1 qi4 er2 zi5 xie4 qi4 ling2 shan1 shuo1 wo3 fan3 zheng4 bu4 yong4 gong1 wo3 bu2 nian4 le5\n",
      "009147 xian4 zai4 lian2 ji1 qi4 ren2 ye3 yao4 bei4 cui1 hun1 le5 ma2\n",
      "009267 zhe4 ge4 fen1 xi1 ji1 ben3 gong1 yun3 zhong1 li4\n",
      "008900 wang2 jun1 yong3 yu2 fu4 ze2 de5 jing1 shen2 shen1 shen1 gan3 dong4 le5 zhu1 xin1 wen2\n",
      "008258 chan3 ye4 hua4 dui4 nong2 mu4 min2 zeng1 shou1 de5 dai4 dong4 zuo4 yong4 ming2 xian3\n",
      "008231 shuo1 ma3 hong2 shi4 zhu1 rong2 ji1 de5 en1 shi1 dui4 zhu1 rong2 ji1 you3 zhi1 yu4 zhi1 en1 yi4 dian3 ye3 bu2 guo4 fen1\n",
      "009549 qi1 zi3 de5 jiao3 que2 ze2 shi4 yi4 chang3 yi1 liao2 shi4 gu4 de5 hou4 yi2 zheng4\n",
      "008851 shi4 bu2 shi4 jiao1 bu2 shang4 fang2 zu1 wo3 men5 jiu4 yao4 wu2 jia1 ke3 gui1 le5 zhu3 ren2\n",
      "008604 zai4 kan1 shou2 suo3 ta1 bei4 qu3 le5 hua4 ming2 jiao4 wu2 liang2 ling2 jiu3 yao1 zhuan1 an4 zu3 de5\n",
      "009336 ni3 xiang3 wan2 dian3 shen2 me5\n",
      "008267 you3 hao3 peng2 you5 de5 guan1 xin1 wo3 de5 ya2 zen2 gan3 bu4 kuai4 dian3 hao3 ne5\n",
      "009072 zai4 shuo1 le5 wo3 ba3 shou3 ji1 huan2 gei3 ni3 wo3 bu4 jiu4 shi4 zi4 tou2 luo2 wang3 wo3 sha3 ya1\n",
      "008131 shou3 xian1 wo3 xiang3 tan2 tan2 zhong1 hua2 wen2 hua4 yu3 ao4 yun4 jing1 shen2 zai4 nei4 zai4 li3 nian4 shang4 de5 gong4 tong1 zhi1 chu3\n",
      "009170 na4 tian1 shi4 yi4 nian2 yi1 du4 de5 gao1 kao3 shang4 wu3 kao3 wan2 hou4 xiao3 ming2 shuo1 kao3 de5 fei1 chang2 lan4\n",
      "008821 wu2 liao2 lai2 he2 wo3 liao2 liao2 tian1 ba1\n",
      "009903 ta1 jian4 wo3 yi1 jin4 men2 jiu4 ma4 chi1 fan4 shi2 ye3 ma4 ma4 de2 wo3 tai2 bu4 qi3 tou2\n",
      "008265 ju4 diao4 cha2 ge2 wu1 ran3 yuan2 lai2 zi4 chang2 sha1 xiang1 he2 hua4 gong1 chang3\n",
      "009270 di4 er4 tian1 shou1 shang4 zuo4 ye4 lao3 shi1 ding1 zhe5 ta1 de5 zuo4 wen2 jiu2 jiu3 bu4 neng2 yan2 yu3\n",
      "009211 ke3 jian4 hao2 hao3 xue2 sheng5 ye3 bu4 neng2 yao4\n",
      "008926 guan1 cai5 wei4 zhi5 mu4 zhu3 ren2 de5 shi1 gu3 ye3 jian4 jian4 xian3 lu4 chu1 lai2 xia4 e4 bao3 liu2 zhe5 ya2 chi3\n",
      "009775 bu2 yao4 lang4 fei4 shi2 jian1 che3 dan4 la1\n",
      "009603 huo3 hen3 da4 kan4 bu4 qing1 yan1 ye3 hen3 da4\n",
      "009760 sheng3 wei4 sheng1 ting1 zhuan1 jia1 wei2 zai1 qu1 qun2 zhong4 jiang2 jie3 yu4 fang2 ji2 bing4 zhi1 shi2\n",
      "008636 dui4 ci3 fan3 dui4 dang3 gong1 dang3 bu4 fen4 yi4 yuan2 tong4 pi1 zhe4 gen1 ben3 shi4 ge4 nu2 li4 ji4 hua4\n",
      "009871 bu2 hui4 ya1 zhu3 ren2 ma4 ren2 shi4 bu4 dui4 de5\n",
      "009583 ta1 zhe4 ge4 jiu4 shi4 lao3 bai3 xing4 shuo1 de5 bie1 yu4 mi3 jiu4 shi4 qu4 le5 pi2 li3 tou5 mei2 you3 liang2 shi2 le5\n",
      "009849 di4 er4 tian1 you3 er4 bai3 ling2 san1 jia1 chang3 fang2 he2 ba1 bai3 ling2 wu3 jia1 shang1 pu4 bei4 ding4 gou4\n",
      "008892 zuo2 ri4 xiao1 fang2 yuan2 cha2 kan4 huo2 chang3\n",
      "008399 na4 wo3 jiu4 gei3 ni3 liang4 dian3 zhen1 ben3 shi4 ba1\n",
      "008765 hou4 mian4 de5 si1 jia1 che1 sui2 ji2 la3 ba5 da4 xiang3\n",
      "008959 deng3 wo3 zhang3 da4 le5 ke2 yi3 wei2 yi2 ge4 xin1 sheng1 ming4 fu4 ze2 shi2 zai4 yang3 le5\n",
      "008483 zhe4 shi4 chen2 shui2 bian3 chi4 luo2 luo3 gu3 chui1 tai2 du2 zai4 tai2 du2 fen1 lie4 dao4 lu4 shang4 you4 mai4 chu1 de5 wei1 xian3 yi1 bu4\n",
      "008710 shui2 hui4 lai2 jie1 wo3 de5 nv3 er2\n",
      "008301 zhe4 shi4 dang3 wei3 zheng4 fu3 de5 zhong4 yao4 zhi2 ze2\n",
      "009747 she2 de5 qi2 ta1 bu4 fen4 shuo1 ni3 mei2 you3 yan3 jing5 bi2 zi5 zen3 me5 neng2 zhi2 yin3 wo3 men5 xiang4 qian2 zou3\n",
      "009401 yi1 sheng1 dui4 xiao3 qin2 qiang3 jiu4 shi2 fa1 xian4 xiao3 qin2 yi3 jing1 si3 wang2\n",
      "009987 wo3 xi1 wang4 ge4 ren2 dou1 neng2 gou4 zun1 zhong4 wo3 men5 de5 yin3 si1\n",
      "009695 qi2 ci4 de5 bang4 bang4 shi4 wei2 ren2 huo2 luo4 guan1 xi4 duo1 ye4 wu4 dou1 shi4 shu2 ren2 jie4 shao4 de5\n",
      "008274 yu2 shi4 ta1 shang4 lou2 ba2 diao4 dian4 yuan2 er2 biao3 di4 ye3 xiang3 shang4 ce4 suo3\n",
      "009850 ni3 zhe4 po4 fen1 shu4 jiu4 shi4 xiao3 shi2 hou5 luan4 qi1 ba1 zao1 shu1 kan4 tai4 duo1 de5 yuan2 yin1\n",
      "009690 mu4 qian2 quan2 guo2 nai3 ye4 zheng2 ti3 di1 mi2 zhu3 yao4 shi4 xiao1 fei4 zhe3 dui4 ru2 pin3 zhi4 liang4 xin4 xin1 bu4 zu2\n",
      "009897 zhe4 he2 gao1 ceng2 guan2 li2 zhe3 jing1 shen2 ya1 li4 da4 ying4 chou2 duo1 you3 hen3 da4 guan1 xi4\n",
      "008587 ao4 ba1 ma3 fang3 wen4 ya4 tai4 di4 qu1 de5 shi2 hou5 kai1 shi3 ming2 bai5 zhe4 yi4 dian3\n",
      "009298 da4 mian4 ji1 gan1 luo3 de5 he2 dao4\n",
      "009312 bu4 xi3 huan5 jiao4 yu4 dan4 si1 xiang3 jue2 wu4 hai2 mei2 dao4 tui1 fan1 xian4 xing2 jiao4 yu4 ti3 zhi4 de5 gao1 du4\n",
      "009388 zuo4 shang4 dian4 ti1 hou4 ta1 dou2 dou3 tu1 ran2 diao4 xia4 lai2 le5 mei2 you3 ren4 he2 xian1 zhao4\n",
      "009547 dan4 li3 jia1 ding3 yu3 shi1 ming2 jun1 fou3 ren4\n",
      "008338 ji1 shi2 wo3 xiang3 shuo1 de5 shi4 gan1 ma1\n",
      "008560 wo3 hai2 you3 ji1 shi2 nian2 ne5 fan3 zheng4 zong3 shi4 cha4 ta1 ban4 cun4 jiu4 zhui1 dao4 ta1 le5\n",
      "009061 zuo2 ri4 bei3 jing1 ao4 yun4 hui4 kai1 mu4 shi4 dao2 yan3 zhi1 yi1 de5 wang2 chao2 ge1 tou4 lu4 le5 zhe4 yi1 xiao1 xi5\n",
      "009936 shi4 fou3 zhe4 ci4 de5 guo2 biao1 xiu1 ding4 bei4 da4 qi3 ye4 bang3 jia4 le5\n",
      "009879 zou3 cha4 bu4 duo1 ji1 fen1 zhong1\n",
      "008046 wo3 xiang3 na4 xie1 ying1 gai1 shi4 cao3 mei2 de5 zhong3 zi5 ba1\n",
      "009045 mei3 tian1 da4 bu4 fen4 shi2 jian1 ta1 dou1 dai1 zai4 xiu4 jia4 qian2 mai2 tou2 xiu4 hua1\n",
      "009956 zhe4 ge4 hai2 zi5 de5 sheng1 ming4 yi2 ban4 lai2 yuan2 yu2 ling4 yi1 wei4 nv3 shi4 juan1 zeng4 de5 leng3 dong4 luan2 zi3\n",
      "008129 dui4 yu2 shi2 xia4 zi4 ji3 mian3 fei4 shun4 feng1 che1 de5 hong2 huo3 ju2 mian4 mao2 yuan2 bei4 jia1 zhen1 xi1\n",
      "009448 dou1 kuai4 cheng2 nian2 le5 hai2 bu4 zhi1 dao4 huan2 shou3 a1\n",
      "008453 wo3 de5 lian3 mei3 tian1 dou1 xi3 de5 hen3 gan1 jing4 o2\n",
      "009659 zai4 li4 shan1 lu4 yi4 jia1 chao1 shi4 yi1 wei4 xiao1 fei4 zhe3 zheng4 zi3 xi4 duan1 xiang2 cheng2 fen1 biao3\n",
      "009118 ru2 guo3 zai4 xin4 xi1 hen3 nan2 chuan2 da2 dao4 de5 shan1 qu1 ne5\n",
      "009238 gai2 zu3 gui1 mo2 yu4 ji4 jin3 xian4 shu4 ren2\n",
      "009925 ji4 zhe3 suo3 zai4 de5 shi4 shou4 hai4 ren2 jia1 shu3 suo3 zai4 de5 you4 qu1\n",
      "008319 lia3 ren2 he2 mou2 yong4 xiao4 fu2 jiang1 hai2 zi5 men4 si3 hou4 you4 qi4 shi1 he2 zhong1\n",
      "008006 hai2 you3 bu4 fen4 dan1 bao3 gong1 si1 she4 ji2 chao2 gu3 pei4 zi1 ye4 wu4\n",
      "008556 min2 jing3 xi1 wang4 deng4 jin1 chao1 ji2 shi2 lian2 xi4 ben3 bao4 re4 xian4 jiu3 liu4 er4 yao1 yao1\n",
      "008204 zhao4 chao1 su1 lian2 de5 mo2 shi4 nan2 dao4 bu2 shi4 cuo4 wu4\n",
      "009403 wo3 xun4 su4 xia4 lai5 le5 jie2 guo3 bei4 ma1 ma5 da3 le5 yi1 dun4\n",
      "008719 wei4 shen2 me5 yao4 zhe4 yang4 hei1 zi4 ji3\n",
      "009121 si4 nian2 zhi1 hou4 ta1 men5 de5 ju4 xing1 di4 wei4 yi1 jiu4 wen3 gu4\n",
      "008459 jin1 mao4 da4 sha4 ba1 shi2 ba1 ceng2 guan1 guang1 ting1 wo3 ceng2 jing1 lai2 guo4\n",
      "009373 zhe4 shi4 fo2 ding2 gu3 she4 li4 chong2 guang1 hou4 shou3 ci4 zai4 zhong1 guo2 nei4 di4 yi3 wai4 di4 qu1 gong4 feng4\n",
      "008495 zheng3 tiao2 gong1 lu4 duo1 chu3 sun2 hui3 yan2 zhong4 xian3 xiang4 huan2 sheng1\n",
      "008886 zhao4 shi4 che1 che1 tou2 ye3 sun2 hui3 yan2 zhong4\n",
      "009869 ren2 men5 zhi1 hui4 pei4 fu2 na4 xie1 you3 chuang4 zao4 xing4 gong4 xian4 de5 ren2\n",
      "009306 gong1 si1 fu4 ze2 ren2 de5 nian2 du4 xin1 chou2 zeng1 zhang3 lv4 ying1 di1 yu2 gong1 si1 xin1 chou2 zeng1 zhang3 lv4\n",
      "008918 you3 de5 liu2 lang4 gou3 chi1 wan2 dong1 xi1 hou4 hai2 hui4 tian3 tian3 wei4 shi2 ren2 de5 shou3 yi3 biao3 shi4 gan3 xie4\n",
      "008793 jiao1 cha1 zuo4 ye4 you4 shi3 xia2 xiao3 de5 kong1 jian1 xian3 de5 geng4 wei2 bi1 ze4\n",
      "009787 xiao3 ming2 zhang3 de5 xiang4 bing1 gun4 zai4 shui2 li3 you2 yong3 you2 zhe5 you2 zhe5 mei2 le5\n",
      "009492 zuo2 ri4 ji4 zhe3 yu3 da3 chu1 guang3 gao4 shou1 gou4 luan2 zi3 de5 zhong1 jie4 jian4 mian4\n",
      "009387 ba4 ba5 duan1 xiang2 yi1 hui4 shuo1 wo3 fa1 shi4 zhe4 shi4 wo3 jian4 guo4 de5 zui4 shuai4 de5 guang1 tou2\n",
      "008890 yi1 ge4 yue4 hou4 di3 zhi4 lian2 meng2 wa2 jie3\n",
      "009539 fu1 fu4 lia3 mei3 nian2 de5 xiu1 jia4 quan2 yong4 zai4 le5 chang2 tu2 ba2 she4 qu4 lao3 jia1 kan4 hai2 zi5 shang4\n",
      "009630 min2 jing3 jie3 kai1 sheng2 zi5 jiu4 le5 nan2 hai2\n",
      "008820 qian2 men2 di4 qu1 hai2 shi4 lao3 bei3 jing1 shi4 jing3 feng1 mao4 shi3 ji4 wen2 wu4 bao3 cun2 zui4 wan2 zheng3 de5 di4 qu1 zhi1 yi1\n",
      "008239 dan4 ta1 men5 xiang4 guang2 yu3 gong1 si1 da3 qian4 tiao2 jie4 qian2 dao3 shi4 zhen1 de5\n",
      "008365 he2 ni3 yi4 qi3 kan4 yue4 liang5 zen3 me5 yang4\n",
      "009761 lai2 zheng4 zhou1 shi2 ji1 nian2 liu2 kui2 yuan2 dou1 mei2 neng2 dai4 lao3 ban4 chu1 qu4 wan2 wan2\n",
      "009421 hai2 you3 ta1 zai4 si1 xia4 qi2 shi2 bi3 jiao4 la1 ta1 xiang4 xi1 li4 ge1 yi1 yang4\n",
      "008999 guang3 zhou1 nv3 xing4 zhi4 chuang1 huan4 bing4 lv4 ju1 shou3 qi2 ci4 shun4 wei4 pai2 xu4 shi4 bei3 jing1 shang4 hai3 shen1 zhen4\n",
      "009462 xuan1 shi4 jie2 shu4 guo2 qi2 huan2 huan3 tui4 chu1 hui4 chang3\n",
      "008815 jin4 yi2 bu4 zheng3 he2 jing1 ban4 guan2 li3 zi1 yuan2 ti2 gao1 yun4 xing2 xiao4 lv4\n",
      "009466 qi2 ta1 de5 lai2 zi4 yu2 jing1 shen2 bing4 zhen2 suo3 huo4 yi1 yuan4\n",
      "009629 wo3 de5 ji4 yi4 zhi2 you3 qi1 miao3 pian4 ni3 da1\n",
      "009957 chu1 xian4 zhe4 zhong3 ni2 qiu1 nei4 ge2 de5 ju2 mian4 ji4 shi4 ye3 tian2 you3 yi4 wei2 zhi1 ye3 shi2 shu3 wu2 nai4\n",
      "009546 hao2 hao3 shui4 yi4 jue2 ming2 tian1 you4 shi4 zhan3 xin1 de5 yi4 tian1\n",
      "009783 di4 er4 zhan4 shi4 er4 yue4 de5 nong2 xin1 bei1\n",
      "009561 shi4 fou3 xue1 ruo4 le5 dui4 nong2 ye4 de5 tou2 ru4\n",
      "009244 jiu4 shi4 gu4 yi4 bai3 nong4 shi4 gu4 yi4 yuan1 wang5\n",
      "008693 ta1 men5 hai2 zai4 yu4 men4 ne5\n",
      "009715 jin1 tian1 ben3 bao4 jiang1 wei2 nin2 feng4 xian4 zui4 xiang2 xi4 de5 zhong1 zhuan3 jie1 xu4 fang1 an4\n",
      "009532 ta1 men5 jing1 guo4 qian1 tiao1 wan4 xuan3 zheng3 ti3 su4 zhi4 hen3 hao3 ying1 gai1 de2 dao4 gao1 yi4 xie1 de5 dai4 yu4\n",
      "009412 dian4 yuan2 cong2 lai2 mei2 zhuang1 guo4 du2 pin3 xiao1 de5 shen2 me5 du2\n",
      "009772 zui4 hou4 shi2 zai4 niu4 bu2 guo4 ta1 ting2 ting2 he2 hai3 zou3 jin4 le5 bin1 guan3\n",
      "008504 wei4 lai2 ji3 nian2 lv4 cheng2 zui4 zhong4 yao4 de5 jiu4 shi4 duo1 mai4 fang2 shao2 mai3 di4\n",
      "008144 da2 an4 zong3 rang4 ren2 ju3 sang4\n",
      "008539 bu2 yong4 shuo1 shou2 li3 de5 lou4 dong4 ye3 shi4 duo1 de5 ke2 yi3 pi1 fa1 le5\n",
      "009463 jiu4 suan4 wu2 yu3 wo3 ye3 hui4 yi4 zhi2 pei2 zhe5 zhu3 ren2 de5 o2\n",
      "009160 yin1 wei4 hong2 fan1 qie2 wai4 mian4 shi4 hong2 de5 ran2 hou4 qi2 shi2 fan1 qie2 li3 mian4 ye3 shi4 hong2 de5\n",
      "008480 mei4 zi5 tu1 ran2 lai2 le5 ju4 ni3 bu2 hui4 zhao3 ge4 yong4 dao4 shou3 de5 dian4 ying3 a1\n",
      "008570 lu2 qi3 yuan2 dui4 hui1 fu4 lu2 zhai2 mian4 mao4 shen4 zhi4 dao4 le5 ji1 hu1 zhi2 niu4 de5 di4 bu4\n",
      "009207 wang1 yang2 qiang2 diao4 yao4 zai4 dui4 wu3 bao3 zhang4 shang4 gong1 guan1\n",
      "008863 ying1 cai3 er2 ken3 ding4 hui4 shou1 shi2 ta1 de5\n",
      "009094 dan4 shi4 si4 yue4 fu2 lei2 zai4 ci4 dang1 xuan3 zong2 tong3 bing4 yin3 fa1 le5 guo2 nei4 de5 bao4 li4 chong1 tu1 shi4 jian4\n",
      "009111 fang4 pi4 ni3 gao4 su4 lao3 niang2 na2 li3 pi2 qi5 bao4 le5\n",
      "009801 peng4 shang4 zhe4 yang4 de5 xiang3 he2 ying3 jiu4 hui4 fei1 chang2 kun4 nan2\n",
      "008442 dang1 jin1 li2 xiang3 de5 hun1 yin1 mo2 shi4 shi4 shen2 me5\n",
      "009617 qi2 zhong1 bao1 kuo4 lao3 pai2 ru2 pin3 qi3 ye4 hang2 zhou1 mei3 li4 jian4 ru3 ye4 you3 xian4 gong1 si1\n",
      "008770 ma3 sha1 la1 di4 jin3 che1 tou2 you2 xiao2 chu3 ao1 xian4\n",
      "009273 wo3 bu2 shi4 hen3 shang4 xiang1 bu2 guo4 wo3 zui4 man3 yi4 wo3 de5 yan3 jing5 la1 ni3 ne5\n",
      "009426 ni3 de5 tou2 ding3 dou1 tu1 cheng2 shen2 me5 yang4 zi5 le5 gen1 wo3 shang1 liang2 guo4 ma2\n",
      "008295 ta1 wei4 lai2 fa1 zhan3 qu1 xiang4 you4 jiang1 ru2 he2\n",
      "008593 ji4 zhe3 kan4 dao4 mang2 guo3 shu4 lan2 yao1 zhe2 duan4 duan4 kou3 cen1 ci1 bu4 qi2\n",
      "009269 chuan2 shuo1 shi4 wen2 shu1 pu2 sa4 de5 bian4 shen1\n",
      "008219 jiang1 an4 qu1 xiao1 fang2 zhong1 dui4 gan3 lai2 jiang1 lao3 ren2 cong2 yu1 ni2 zhong1 bao4 qi3\n",
      "009646 jie2 guo3 yue4 shi4 zhe4 yang4 de2 zui4 ren2 yue4 duo1\n",
      "009896 neng2 bei4 xuan3 zuo4 ji1 xin1 ge2 zi1 liao4 de5 shou1 cang2 zhe3 ye1 lu3 shen1 gan3 rong2 xing4\n",
      "009663 lao3 fu4 qin1 mei3 nian2 dou1 yao4 di1 sheng1 xia4 qi4 de5 qu4 cui1 kuan3 ke3 zong3 shi4 peng4 bi4\n",
      "008790 ci3 wai4 ji4 wei3 que4 ren4 cai4 bin1 de5 er2 zi5 yi3 jia1 ru4 ao4 zhou1 guo2 ji2\n",
      "009212 jing3 cha2 jiang1 jin2 xi3 song4 hui2 jia1 dan4 jue2 jiang4 de5 wu2 hai3 nan2 bu4 yuan4 yi4 kai1 men2\n",
      "009021 jing1 hun2 yi1 ke4 guo4 hou4 ta1 hui2 xiang2 qi3 shi4 deng1 shan1 zhang4 mei2 ning2 jin3\n",
      "009494 da4 shu1 xia4 chang3 shi2 pai1 le5 pai1 yao2 ming2 de5 jian1 yi1 qie4 jin4 zai4 bu4 yan2 zhong1\n",
      "008246 zou3 chu1 zhang4 peng5 de5 shi2 hou5 wo3 wen4 pang2 bian1 de5 tong2 shi4 zhe4 ge4 wa2 wa5 you3 mei2 you3 liang3 sui4\n",
      "008193 dang4 wan3 xiao3 jie2 tou1 tou1 liu1 zou3 wan2 qi3 le5 shi1 zong1\n",
      "009329 xin1 hun1 ye4 na4 tian1 wan3 shang5 ta1 he1 de2 ming3 ding3 da4 zui4 wo2 lia3 ji1 hu1 shi4 he2 yi1 er2 mian2\n",
      "009866 cong2 qian2 you3 ge4 da4 hui1 lang2 ni3 cai1 da4 hui1 lang2 shi4 shui2\n",
      "009610 ta1 ye3 yong4 zi4 ji3 de5 ai4 xin1 dian3 zhui4 le5 zi4 ji3 de5 sheng1 ming4\n",
      "009254 zhe4 ke3 shi4 kai1 tian1 pi4 di4 tou2 yi4 hui2\n",
      "008391 yi1 ci4 ou3 ran2 de5 ji1 hui4 yi4 zhang1 li4 ta3 hong2 zai4 nang2 bing3 tan1 qian2 de5 zhao4 pian1 bao4 hong2 wang3 luo4\n",
      "008674 qing4 xing4 mei2 xiang4 wo3 ba4 wo3 ba4 da4 fang1 lian3\n",
      "008583 yang2 lei3 de5 di4 di4 yang2 kun1 zai4 fa3 ting2 shang4 fu4 he4 le5 shang4 shu4 shuo1 fa3\n",
      "008462 ban4 ye4 jia3 da3 le5 yi2 ge4 da4 pen1 ti4 yi3 zheng3 ge4 lian3 shang4 dou1 shi4 jia3 de5 jie2 jing1\n",
      "009255 huan4 zhe3 shu4 hou4 shang4 shi2 tian1 reng2 zai4 liu2 xie3 ying1 gai1 shi4 qi2 zhi4 chuang1 suo3 zhi4\n",
      "008623 zai4 nei4 cheng2 zhi1 nei4 de5 nan2 ban4 bu4 he2 xin1 chu3 song3 li4 zhe5 qin2 shi3 huang2 ling2 de5 gao1 da4 feng1 tu3\n",
      "009355 sui2 shou3 pai1 zhang1 luo5 nv3 shi4 hai3 tao2 de5 wu4 pin3 dou1 shi4 dang1 xia4 zui4 re4 men2 de5 you4 er2 bao3 jian4 pin3\n",
      "008047 zi4 ci3 fang2 nu2 zai4 zhong1 guo2 cheng2 wei2 yi2 ge4 te4 you3 ming2 ci2\n",
      "009043 ce4 jing3 ji4 shu4 dui4 shi2 you2 kan1 tan4 de5 xiao4 lv4 he2 zhi4 liang4 zhi4 guan1 zhong4 yao4\n",
      "009765 jin2 li3 hen3 hao3 wan2 ke2 yi3 chi1 dao4 ge4 zhong3 cheng2 du1 te4 se4 xiao3 chi1 ya1\n",
      "008182 ci3 wai4 she4 ji2 zhu4 fang2 xin4 xi1 de5 zhong2 zhong3 li4 yi4 wen4 ti2 you3 dai4 wen2 tuo3 chu2 li3\n",
      "008508 cheng2 ben3 hua1 de2 you2 dian3 gao1 yo1 kong3 pa4 shi4 kai1 che1 de5 shi2 hou5 zou3 shen2 le5 yo1\n",
      "009028 yi3 qian2 suo3 ban4 de5 zhan2 lan3 deng3 bu4 shu3 yu2 gu4 gong1 guan2 li3\n",
      "008757 zui4 jing1 cai3 de5 huan2 jie2 dang1 shu3 chang2 nei4 hu4 dong4\n",
      "008878 xiang1 guan1 ke1 xue2 bao4 gao4 kan1 deng1 zai4 zui4 xin1 yi4 qi1 zi4 ran2 tong1 xun4 shang4\n",
      "009523 da4 xue2 li3 you3 yi1 da4 pi1 zhui1 qiu2 miao2 tiao2 he2 gu2 gan3 de5 nv3 hai2\n",
      "009696 ji4 zhe3 fa1 xian4 ming2 nian2 fang4 jia4 an1 pai2 zai4 zong2 ti3 shang4 bu2 hui4 chu1 xian4 zui4 zhe1 teng2 chang2 jia4\n",
      "008634 dui4 ci3 ri4 ben3 ping1 xie2 biao3 da2 le5 qian4 yi4\n",
      "009400 nv3 hai2 zi5 de5 nian2 ling2 zen3 me5 neng2 qing1 yi4 gao4 su4 ni3 ne5\n",
      "008582 ke3 shi4 sui2 zhe5 shi2 jian1 yue4 lai2 yue4 wan3 liang3 ren2 de5 yao1 qiu2 ye3 yue4 lai2 yue4 di1\n",
      "009310 nan2 jing1 xian4 zai4 ji2 hou2 hou3 yao4 chai1 bao4 ting2 cheng2 shi4 guan2 li2 zhe3 de5 shui3 ping2 rang4 ren2 bu4 gan3 gong1 wei5\n",
      "009413 shang1 ren2 hen3 shi2 zai4 dang1 ran2 zhi1 dao4 wen2 hua4 ke2 yi3 sheng1 cai2\n",
      "008022 wo3 bai2 fei4 le5 li4 qi5 hai2 ai1 le5 ba4 ba5 de5 pi1 ping2\n",
      "009818 yi1 sheng1 jian3 cha2 fa1 xian4 die1 die5 zhi2 chang2 chuan1 kong3 li4 ji2 wei2 ta1 shi2 shi1 le5 shou3 shu4\n",
      "008133 yu2 shi4 ta1 shang4 shan1 zhao3 gao1 seng1 gei3 suan4 le5 suan4 gao1 seng1 suan4 wan2 shuo1 ni3 hui2 qu5 deng3 zhe5 ba1\n",
      "009249 bu4 tuo3 dang4 chu3 ge4 wei4 peng2 you3 hai3 han2\n",
      "008074 ta1 men5 ken3 ding4 shi1 qu4 le5 qi2 you1 shi4 di4 wei4\n",
      "009465 shui2 neng2 chu1 ren4 e2 luo2 si1 dui4 xin1 de5 zhu3 jiao4 lian4\n",
      "009653 liu2 xian1 sheng1 gan1 ga4 de5 xiao4 le5 xiao4 jiang1 yan1 shou1 le5 hui2 qu5\n",
      "009022 xi1 shui3 xi1 chen2 qu4 wu1 ge2 yin1 bao3 hu4 zhu3 ji1 tan3 deng3 gong1 neng2\n",
      "009943 wo3 nu4 hou3 yi4 sheng1 chong1 shang4 qu4 ju2 qi3 zhuan1 tou2 za2 le5 guo4 qu4\n",
      "008037 an3 ren4 shi2 de5 you3 ren2 zhi2 jie1 la1 gei3 ni3\n",
      "009226 zhi2 dao4 wo3 zou3 dao4 le5 ta1 men5 kai1 shi3 ke2 sou4 de5 di4 fang1 wo3 ye3 ke2 sou4 le5\n",
      "009838 dao4 le5 hu2 tou2 liang3 ge4 xiao3 hai2 fa1 jue2 bu2 dui4 jin4 xiang4 ta1 rang1 rang1 yao4 hui2 jia1\n",
      "009522 er2 qie3 dang1 ran2 ye3 shi4 gua3 tou2 he2 qian2 du2 cai2 zhe3 de5 bi4 nan4 suo3\n",
      "009027 dan4 ta1 men5 hen3 zhi1 chi2 yun2 xu3 wo3 ba3 zhe4 ju4 hua4 fang4 dao4 wang3 zhan4 shang4\n",
      "008180 zhe4 ge4 cheng2 shi4 zhong1 yu2 an1 jing4 le5 ke3 shi4 xin1 li5 de5 hui2 yi4 hao3 chao3 you3 mei2 you3\n",
      "009680 zai4 ni3 tou2 zi1 zhi1 qian2 xi1 wang4 ni3 neng2 wan2 wan2 wo3 men5 de5 you2 xi4\n",
      "009905 zhe4 zhong3 che1 piao4 he2 bao3 xian3 dan1 kun2 bang3 chu1 shou4 shu3 yu2 chong2 fu4 xing4 gou4 mai3\n",
      "008135 ren2 men5 fu2 yao4 shang4 diao4 huo4 zhe3 ge1 wan4 zi4 sha1 dan4 shi4 bu2 hui4 ge1 po4 zi4 ji3 de5 hou2 long2\n",
      "008468 gai1 nan2 zi3 shou4 dao4 qiang2 lie4 ji3 ya1 hun2 shen1 dou1 shi4 xie3 zui2 li3 hai2 zai4 du1 nang5 zhe5\n",
      "009017 wei4 le5 rang4 zhang4 fu1 qing1 qing1 shuang2 shuang3 chang2 nv3 hai2 xue2 hui4 le5 li3 fa4\n",
      "008434 yun2 nan2 meng4 lian2 he2 gui4 zhou1 weng4 an1 de5 bian4 hua4 shi4 zhe4 zhong3 jing3 min2 guan1 xi4 de5 zui4 hao3 jian4 zheng4\n",
      "008861 dan1 ba1 xian4 lin2 ye4 ju2 de5 tong2 zhi4 gan3 tan4 zhe4 li3 zhen1 shi5 tai4 qiong2 le5\n",
      "008479 zhang1 mo4 shu4 ci4 chuang3 huo4 dou1 shi4 rang4 fu4 qin1 zhang1 guo2 li4 jiao1 tou2 lan4 e2\n",
      "009559 ci3 wai4 zheng3 ge4 guan3 zhong1 hai2 shou1 cang2 zhe5 jia3 ping2 ao1 de5 yi4 xie1 cang2 pin3 he2 shu1 hua4 zuo4 pin3\n",
      "009593 zai4 xue2 xi2 zen3 yang4 rang4 zi4 ji3 bian4 de5 geng1 cong1 ming5\n",
      "008201 dui4 yang1 hang2 zuo2 ri4 chu1 tai2 de5 zheng4 ce4 zen3 me5 kan4\n",
      "008433 mei3 ci4 ti2 chu1 yi4 jian4 ye3 zong3 shi4 xian1 shuo1 wo3 zhi3 shi4 shuo1 shuo1 ting1 bu4 ting1 you2 ni3 men5 jue2 ding4\n",
      "009381 e1 nuo2 de5 ti3 tai4 rang4 ren2 si1 hao2 kan4 bu5 chu1 ta1 ji3 ge4 yue4 qian2 gang1 gang5 sheng1 wan2 bao2 bao3\n",
      "009183 wo3 men5 lao3 ban1 mei2 na4 me5 yan2 hai2 te4 bie2 hao3 ta1 hui4 bang1 ni3 xia4 yi4 xie1 fu4 you3 jiao4 yu4 yi4 yi4 de5 dian4 ying3\n",
      "009647 zhe4 shi4 wo3 ying1 gai1 zuo4 de5 bu2 yong4 ke4 qi5\n",
      "009297 nan2 dao4 ni3 yao4 pao1 qi4 wo3 le5 ma2\n",
      "008370 ji4 zhe3 gan3 dao4 yao1 yao1 qi1 yi1 yuan4 ji1 chang2 lu4 fen1 yuan4 ji2 zhen3 qiang1 jiu4 shi4\n",
      "009554 liu4 yue4 er4 shi2 qi1 ri4 jiao1 long2 hao4 shua1 xin1 ji4 lu4 xia4 qian2 zhi4 qi1 qian1 ling2 liu4 shi2 er4 mi3\n",
      "008106 tai2 wan1 wen4 ti2 min2 zhu3 zi4 you2 dou1 cheng2 wei2 wai4 mei2 ji4 zhe3 chang2 ti2 de5 wen4 ti2\n",
      "009069 gong1 nei4 zheng3 jie2 li4 suo5 lang2 zhu4 men2 chuang1 yan2 se4 xian1 yan4 ji1 ming2 dian4 gong1 zheng4 zai4 wei2 xiu1 xian4 lu4\n",
      "008215 yi3 shi4 shen1 qiu1 de5 gu3 du1 luo2 ma3 que4 hao2 wu2 han2 yi4\n",
      "009953 lao3 da4 ye2 shuo1 xiao2 zi3 ni3 dang3 wo3 cai2 lu4 le5 zhi1 dao4 bu4\n",
      "009985 wu3 tai2 xia4 de5 ni3 hui4 dui4 wu3 tai2 shang4 de5 ni3 shuo1 shen2 me5\n",
      "008939 yi4 heng2 yi1 shu4 yi4 dian3 yi4 pie1 suo2 you3 tong2 xue2 dou1 shi2 fen1 gong1 zheng3 de5 jin4 xing2 zhe5 xie3 zi4 lian4 xi2\n",
      "009008 tong2 shi2 mu4 min2 jiu4 ye4 qu2 dao4 zhai3 shou1 ru4 zeng1 zhang3 huan3 man4\n",
      "009725 hao2 wu2 yi2 wen4 ke4 nu3 te4 shi4 shi4 jie4 shang4 zui4 shou4 huan1 ying2 de5 dong4 wu4\n",
      "008010 zhe4 shi4 di4 zhen4 zhong1 kai1 lie4 de5 da4 mei2 gou1 mei2 kuang4 feng1 dong4\n",
      "008667 cheng2 shi4 ren2 sheng1 huo2 jie2 zou4 gai3 bian4 le5 hui4 zi4 ji3 an1 pai2 shi2 jian1\n",
      "009997 jin1 tian1 kuai4 di4 yuan2 na2 zhe5 yi2 ge4 kuai4 di4 zai4 ban4 gong1 shi4 han3 qin2 wang2 shi4 nei3 ge4 you3 ta1 kuai4 di4\n",
      "008419 shang4 hai3 guang3 zhou1 ye3 you3 gou3 zi1 dan4 shi4 hai2 mei2 cheng2 qi4 hou4\n",
      "009699 tang2 hong2 jian4 xi3 huan5 yong4 dao4 lu4 qu1 zhe2 lai2 miao2 shu4 zhong1 guo2 he2 dian4 gong1 ye4 de5 fa1 zhan3 li4 cheng2\n",
      "009411 san1 ren2 xia4 ban1 hou4 dou1 yu3 mai4 ke4 bu4 lai4 de2 tong1 duan3 xin4\n",
      "009601 zai4 zui4 leng3 de5 ji3 tian1 zhan4 shi4 lu4 su4 hu4 wai4 teng2 chu1 zhang4 peng5 an1 zhi4 qun2 zhong4\n",
      "008755 er2 qia4 qiao3 de5 shi4 zhou1 hong2 yi1 ye3 shi4 hu2 bei3 ren2\n",
      "009245 bing1 mian4 shang4 ye3 zhu2 jian4 re4 nao5 qi3 lai5\n",
      "008506 ju4 xi1 shi4 di1 xue4 tang2 dao3 zhi4 le5 kai3 xi1 ci3 ci4 tu1 ran2 yun1 dao3\n",
      "009578 zhi2 dao4 zuo2 tian1 zhong1 guo2 dui4 yi3 jing1 yi3 jiu3 kuai4 jin1 pai2 ru4 zhang4 zan4 ju1 ao4 yun4 hui4 jin1 pai2 bang3 de5 bang2 shou3\n",
      "008257 ta1 qiao3 sheng1 zuo4 dao4 na4 ge4 fan1 shu1 ru2 fei1 de5 nan2 sheng1 pang2\n",
      "009368 ji1 zhang3 hai2 shuo1 zhong1 guo2 ren2 tai4 rong2 yi4 gao3 dian1 la1 gao4 su4 ta1 shi4 mian3 fei4 de5 ji2 ke3\n",
      "008405 ru4 ye4 guang3 zhou1 shi4 bai2 yun2 qu1 jing3 tai4 jie1 hua2 deng1 cui3 can4 che1 shui3 ma3 long2 hao3 bu4 re4 nao5\n",
      "009909 dan4 shi4 yin1 wei4 hai2 mei2 dao4 tui4 xiu1 nian2 ling2 zhi3 neng2 bai1 zhe5 zhi3 tou5 ai2 ri4 zi5\n",
      "008368 yi1 pian4 re4 nao5 li3 mei2 ren2 zhu4 yi4\n",
      "008601 tu2 pian4 chan2 pin3 jie4 shao4 ba3 zheng3 ge4 zhan2 lan3 da4 ting1 zhuang1 dian3 cheng2 yi2 ge4 bin1 fen1 de5 shi4 jie4\n",
      "009402 zuo2 ri4 jiang1 xia4 de5 sun1 xian1 sheng1 jiu4 shuan4 le5 hui2 pian4 zi5\n",
      "008259 yao1 ning2 hai2 fa1 biao3 le5 chang2 da2 qi1 fen1 zhong1 de5 da3 hei1 xuan1 yan2\n",
      "009344 xiang1 gang3 du4 fu1 ren2 la4 xiang4 guan3 wo3 qiang2 li4 tui1 jian4 o2\n",
      "009805 nv3 fang1 da2 ni3 song4 lao3 niang2 de5 ye3 zhe4 me5 da4\n",
      "008214 ta1 da3 suan4 nu3 li4 gong1 zuo4 zan3 qian2 san1 nian2 hou4 kai1 zhe5 che1 qu4 zi4 jia4 you2\n",
      "008528 yu4 yan2 li3 de5 lu2 wei3 duo3 guo4 le5 zhe2 duan4 de5 ming4 yun4 dan4 zhe4 bing4 bu4 dai4 biao3 ta1 bi3 xiang4 shu4 geng1 you3 li4 liang4\n",
      "008154 qi2 qin2 mai4 kai1 da4 bu4 shuai2 shou3 ji2 zou3 jian4 kang1 zhuang4 tai4 liang2 hao3 jing1 shen2 yi4 yi4\n",
      "009464 ren2 lei4 ru2 he2 cai2 neng2 bai3 tuo1 hui3 mie4 de5 ming4 yun4\n",
      "008460 chen2 qie4 zuo4 bu2 dao4 a1\n",
      "008188 di4 yi1 ci4 zao4 cheng2 dan4 dan4 qing1 wei1 shang1 di4 er4 ci4 shuang1 fang1 ge4 you3 yi4 ming2 qing1 wei1 shang1\n",
      "008443 zuo4 hao3 cheng2 shi4 nei4 lao4 qiang2 xian3 ying4 ji2 gong1 zuo4\n",
      "008199 ni3 ya1 yan2 ran2 shi4 lao3 zi5 xun4 er2 zi5 de5 kou3 qi4\n",
      "008575 ta1 zhou1 ri4 zai4 wang3 shang4 fa1 xin4 xi1 hu1 yu4 pi1 ping2 zhe3 rang4 ha1 li3 chuan3 chuan3 qi4\n",
      "009789 jiang3 wan2 gu4 shi4 bao3 zheng4 ni3 kai1 xin1\n",
      "008317 yi1 shang4 che1 xiao2 gou3 jiu4 zheng4 kai1 wo3 zhi2 jie1 beng4 dao4 pang2 bian1 de5 zuo4 wei4 shang4\n",
      "008785 ju4 zhu3 ban4 fang1 tong3 ji4 mu4 qian2 bao4 ming2 yuan2 gong1 yi3 jie1 jin4 bai3 ren2\n",
      "009130 san1 shi4 gao2 hao3 zhai2 ji1 di4 tui4 chu1 de5 zi1 jin1 chou2 cuo4\n",
      "009781 yi2 ge4 you3 leng2 jiao3 de5 shu1 sheng1 mu2 yang4\n",
      "009372 ji2 jiang1 dao4 lai2 de5 xin1 sheng1 ming4 ye3 rang4 ke3 er2 kan4 qi3 lai2 geng4 jia1 wu3 mei4 geng4 jia1 xing4 gan3\n",
      "009474 gai3 kuo4 jian4 guo2 bo2 bu2 hui4 shi4 wei4 le5 zhan3 shi4 zhe4 xie1 she1 chi2 pin3 wen2 hua4 ba1\n",
      "008314 ta1 men5 bu4 gan1 xin1 you4 xiang3 mai3 tong1 bian1 jian3 can1 mou2 cha2 qi2 de5 qi1 zi3\n",
      "009258 hen2 ai3 de5 dai4 zhe5 yi2 ge4 xiao3 hai2 zi5\n",
      "008069 wo3 de5 nao3 dai5 yi3 jing1 bei4 jie2 xi1 de5 qu3 dai4\n",
      "008874 zhe4 ge4 bao2 bao3 zhen1 de5 hen3 piao1 liang4\n",
      "009124 sui2 hou4 chuan1 shang4 wa4 zi5 he2 xie2 he2 peng2 you5 chu1 men2 le5\n",
      "009416 er2 liu2 mou3 zheng4 cong2 dong1 xiang4 xi1 dao4 che1 zhi2 jie1 jiang1 lao3 tai4 gua3 dao3 zai4 di4\n",
      "009172 yu3 ci3 tong2 shi2 xiao1 shou4 hui2 nuan3 shi3 fang2 qi3 de5 zi1 jin1 ya1 li4 de2 dao4 ji2 da4 huan2 jie3\n",
      "009375 yu4 mi3 xiang1 jing1 bi3 tian2 mi4 su4 geng1 li4 hai5\n",
      "009498 dang1 shi2 zheng1 lun4 de5 wen4 ti2 jin2 jin3 shi4 gai1 bu4 gai1 zai4 hu2 di3 pu1 mo2\n",
      "009444 ta1 bu2 dan4 da4 sheng1 chao2 rang3 hai2 da3 huai4 le5 dian4 nei4 hen3 duo1 wu4 pin3\n",
      "008438 zhe4 xiang1 dang1 yu2 mei3 tian1 pao3 liang3 ci4 ma3 la1 song1\n",
      "009537 zhi4 shao3 zai4 hua4 zhuang1 fang1 mian4 wo3 ke2 yi3 bi3 bie2 ren2 shao3 yong4 ban4 xiao3 shi2 yin1 wei4 bu2 yong4 hua4 mei2 mao5\n",
      "008176 ke3 shi4 wo3 zai4 ye3 bu4 neng2 cong2 tu2 rang3 li3 fa1 ya2 kai1 hua1\n",
      "008811 xiang1 gang3 da4 gong1 bao4 pi1 ping2 zhe4 shi4 pian1 shi1 cao1 shou3 de5 bao4 dao4\n",
      "008910 you2 qi2 ling3 xian2 bian1 zuan3 de5 zhong1 guo2 jian3 bo2 shu1 fa3 da4 zi4 dian3 ye3 yu2 jin1 tian1 zheng4 shi4 qi3 dong4\n",
      "009902 qian2 wei3 chang2 xiang3 dao4 shang4 hai3 lai2 ban4 xue2 xiao4 shi4 jing1 guo4 shen1 si1 shu2 lv4 de5\n",
      "009639 ta1 hua1 qi3 qian2 lai2 da4 shou3 da4 jiao3 nei4 xin1 yi4 chang2 leng3 ku4\n",
      "009284 ji4 zhe3 liao2 jie3 dao4 jiu2 bai3 ba1 shi2 jiu3 hao4 qi3 ye4 wei2 gui4 zhou1 mao2 tai2\n",
      "009529 yi3 shang4 kuan3 wu4 zhe2 he2 ren2 min2 bi4 si4 shi2 si4 dian3 si4 liu4 si4 san1 wan4 yuan2\n",
      "009784 tu2 wei2 chen2 guang1 biao1 shou3 peng3 xian4 jin1\n",
      "008128 yi3 qian2 wo3 suo3 jian4 de5 bei3 jing1 bu2 gou4 lv4 shi2 zai4 shi4 yang2 guang1 bu2 gou4 tong1 tou4 lv4 ye3 meng1 zhe5 hui1 se4\n",
      "009090 qian2 xie1 nian2 chu1 xian4 le5 xi2 zao3 xie4 tou4 qi4 xie4 deng3 ge4 lei4 da3 zhe5 yang2 cheng2 hu2 zhao1 pai5 de5 hu2 xie4\n",
      "008542 lao3 ren2 mian4 mu4 quan2 fei1 shou2 li3 jin2 jin3 zuan4 zhe5 yi4 ba3 gou3 mao2\n",
      "009102 zai4 qi2 qi2 ha1 er3 liang2 hao3 de5 sheng1 tai4 huan2 jing4 rang4 dan1 ding3 he4 lai2 zhe4 li3 xiu1 yang3 sheng1 xi1\n",
      "009134 ta4 ru4 hua1 tan2 zhe3 fa2 kuan3 san1 yuan2\n",
      "008093 zhe4 ye3 shi4 chun1 jie2 hou4 hu2 bei2 sheng3 gui1 mo2 zui4 da4 de5 yi1 ci4 zhao1 pin4 hui4\n",
      "008806 ji4 zhe3 pao3 lai2 di4 yi1 ge4 wen4 ta1 ni3 men5 dui4 shu3 jia4 de5 xun4 lian4 you3 shen2 me5 kan4 fa3\n",
      "008165 dang1 ran2 shi4 he2 ni3 liao2 tian1 gei3 ni3 fang4 fang4 yin1 yue4 la1\n",
      "009019 ju4 liao2 jie3 yu2 yuan2 gong1 guan3 shi4 min2 guo2 ming2 yi1 liu2 jian4 xun1 de5 jiu4 ju1\n",
      "009845 nuan3 nuan3 gui4 xia5 le5 wo3 zai4 ye3 bu4 fan4 cuo4 wu4 le5 ma1 ma5 ni3 gan2 jin3 qu4 yi1 yuan4 ba1\n",
      "009371 jiu4 xiang4 lan2 qiu2 chong1 man3 qi4 jiu4 peng1 peng1 you3 li4 ru2 guo3 bie1 le5 ye3 jiu4 da3 bu4 qi3 lai5\n",
      "009964 yuan2 lai2 bi3 er3 gai4 ci2 jiu4 shi4 mei3 guo2 wei1 ruan3 gong1 si1 lian2 he2 chuang4 shi3 ren2 ya1\n",
      "008592 jin1 tian1 wo3 lai2 jiu4 shi4 tong2 da4 jia1 tan2 tan2 xin1 shuo1 shuo1 xin1 li3 hua4\n",
      "009062 ru2 jiang1 fu4 yu4 de5 dian4 li4 mai4 gei3 guo2 jia1 dian4 wang3 bi3 zhong4 di4 de5 xiao4 yi4 yao4 ti2 gao1 hao3 duo1 bei4\n",
      "009572 you3 shen2 me5 xin1 shi4 ma2 ke2 yi3 he2 wo3 fen1 xiang3 yi1 xia4 ya1\n",
      "008759 kan4 dao4 duan3 xin4 hou4 gao1 mou3 dong4 le5 wai1 nao3 jin1\n",
      "009875 ma1 si1 qing2 shu1 ne5\n",
      "009748 qi2 shi2 wo3 bu2 shi4 te4 bie2 xi3 huan5 zhao4 xiang4 lao2 ji4 wo3 zai4 ni3 xin1 li5 de5 yang4 zi5 jiu4 hao3 le5\n",
      "008347 na2 li3 hai2 tan2 de2 shang4 can1 yu4 ne5\n",
      "008557 sheng1 huo2 shi4 kai1 shui3 bu2 lun4 leng3 re4 zhi3 yao4 you3 shi4 de5 wen1 du4 jiu4 hao3\n",
      "008251 luo2 zhi4 hai3 shuo1 hou2 long2 li3 hao3 xiang4 zhang3 le5 kuai4 dong1 xi1 ran2 hou4 yi4 zhi2 kai1 shi3 tu3\n",
      "009940 lou2 xia4 de5 bao3 an1 gao4 su4 ji4 zhe3 zhe4 li3 bu4 zu1 ye3 bu4 mai4\n",
      "009089 yi4 zhi1 can1 sai4 gong1 ji1 zhua2 zi3 shang4 zhuang1 zhe5 xiao3 dao1\n",
      "009719 wang2 qi2 gu1 shen1 yi4 ren2 wu2 er2 wu2 nv3 kao4 zheng4 fu3 bu3 zhu4 he2 shi2 huang1 du4 ri4\n",
      "008845 zhen1 shi5 hao3 xin1 zhuan4 le5 lv2 gan1 fei4\n",
      "008595 ta1 gao1 xing4 de5 shi2 hou5 xi3 huan5 liao2 tian1 you3 shi2 bu4 gao1 xing4 hai2 hui4 jue1 zhe5 zui3\n",
      "008024 ta1 zhu4 shi4 xiao3 mei4 gan3 dao4 ta1 yi1 fu4 yu4 zui4 de5 yang4 zi5 dan3 geng1 da4 le5 ce4 shen1 ba3 tou2 tan4 guo4 qu4\n",
      "009187 zuo2 zao3 shang4 liu2 zhi4 min3 bian4 xian4 shen1 ling2 tang2 da2 dian3 er2 zi5 yu3 xi2 fu4 ye3 dao4 chang3\n",
      "009828 sou1 hu2 ze2 cong2 qi1 shi2 san1 die1 zhi4 wu3 shi2 san1 die1 fu2 bai3 fen1 zhi1 er4 shi2 qi1\n",
      "009405 ji3 tian1 hou4 ta1 jiu4 ying2 lai2 le5 geng4 jia1 hui1 huang2 de5 sheng4 li4\n",
      "009189 zhu4 ming2 de5 ping1 tan2 lao3 jiang4 zhuang1 ze2 dong4 shi4 dang1 nian2 ping1 pang1 wai4 jiao1 de5 gong1 chen2\n",
      "009084 wo3 xi3 huan5 yun4 dong4 dan4 shi4 hen2 shao3 da3 lan2 qiu2 ne5\n",
      "009075 zhang1 ying3 qing1 chuang4 li4 de5 xue2 ke1 shou4 gao1 du4 ping2 jia4\n",
      "009507 zui4 hou4 xun2 huan2 li4 xi1 xiang1 jia1 de2 chu1 yi4 bai3 er4 shi2 dian3 ling2 ling2 wu3 wu3 yuan2\n",
      "008302 xuan2 mei3 zai4 wei3 nei4 rui4 la1 shi4 quan2 min2 re4 zhong1 de5 sheng4 shi4\n",
      "009820 yong4 ren2 dan1 wei4 bu4 de2 ju4 jue2 zu3 nao2\n",
      "008445 ye3 jiu4 shi4 shuo1 xiao2 rui2 rui3 fan1 yue4 hu4 lan2 qu4 shang4 xue2 shi2 tian1 hai2 wei4 wan2 quan2 liang4\n",
      "008916 dang1 xiang1 guan1 zheng4 ju4 bai3 zai4 wu2 miao2 mian4 qian2 ta1 xian1 shi4 yi1 leng4 ji4 er2 mian4 hong2 er3 chi4\n",
      "008824 yi4 tou2 de5 chang2 fa4 pu1 xia4 lai2 kuai4 gai4 zhu4 le5 bei1 bao1\n",
      "008714 ri4 qian2 chen2 meng3 yi3 bei4 yi2 song4 si1 fa3 ji1 guan1 yi1 fa3 cha2 chu3\n",
      "009164 bu4 fa1 biao3 yi4 jian4 jin3 biao3 shi4 zhi1 chi2\n",
      "008907 shang1 pin3 jing1 ji4 de5 nian2 dai4 duo1 shao3 ren2 wu2 li4 er2 bu4 wang3\n",
      "009972 nuo4 man4 zhan4 zai4 hua2 ban3 che1 shang4 ge4 jiu4 ge4 wei4 zhun3 bei4 chu1 fa1 la1\n",
      "009032 fa1 xian4 gong1 zuo4 ren2 yuan2 tai4 du4 man2 heng4 de5 yao4 yan2 jia1 cheng2 chu3\n",
      "009379 nan2 tou2 xian4 ri4 yue4 tan2 lan3 che1 quan2 bu4 zan4 ting2 mu4 qian2 zheng4 zai4 shu1 san4 you2 ke4\n",
      "009728 hou4 de2 zhi1 ta1 huan4 you3 yan2 zhong4 zhi4 chuang1 ying2 xiang3 zou3 lu4\n",
      "008780 zhan1 wan2 zuo4 yi4 tian1 dou1 ti2 bu4 qi3 jing1 shen2 xue2 xi2 ye3 mei2 xiao4 lv4\n",
      "009607 fou3 ze2 shi1 qu4 yong1 dun3 de5 ping2 guo3 jiang1 hui4 si3 de2 hen2 can3\n",
      "008213 zhe4 jian3 zhi2 shi4 chi4 luo2 luo3 de5 xing4 bie2 qi2 shi4\n",
      "008437 ta1 shi4 bei4 po4 hai2 shi4 you3 shen2 me5 nan2 yan2 zhi1 yin3\n",
      "009328 tiao2 qi3 zhuan1 hou4 bian3 dan4 jiu4 shen1 xian4 zai4 zhe4 dao4 hen2 ji4 li3 hou4 bei4 shang4 ze2 dui1 qi3 yi1 dao4 rou4\n",
      "009658 ta1 men5 ben3 xiao3 li4 wei1 zui4 nan2 jing1 shou4 shi4 chang3 de5 zhen4 dang4\n",
      "008250 gao1 you2 jia4 jiang1 dui4 guo2 ji4 guan1 xi4 de5 hu4 dong4 chan3 sheng1 mou2 zhong3 wei1 miao4 huo4 dai4 you3 wu4 shi2 qing1 xiang4 de5 ying2 xiang3\n",
      "008621 lao3 ba4 shuo1 shi4 a1 bu4 neng2 pian1 xin1 ni3 ge1 zai4 gan4 ma2\n",
      "008946 jian4 yi4 ni3 xian1 zhao3 ge4 tu3 hao2 zuo4 peng2 you5\n",
      "008416 tong2 shi2 liu2 yu4 biao1 ye3 cheng2 ren4 dui4 ci3 shi4 xue2 xiao4 you3 xiang1 ying4 de5 ze2 ren4\n",
      "008813 ping2 ri4 li3 ta1 chang2 chang2 jue2 de5 zi4 ji3 huo2 de2 ting3 wo1 nang1 de5\n",
      "008888 er2 jiang1 chi2 ka3 ren2 duo1 xiang4 zhong4 yao4 xin4 xi1 chi4 luo2 luo3 bao4 guang1 de5 nong2 hang2 shang4 shu3 shou3 jia1\n",
      "008816 zhou1 ye4 mian4 fang3 wen4 liang4 wei2 wu2 dian3 jiu3 ling2 san1 yi4 huan2 bi3 xia4 hua2 bai3 fen1 zhi1 er4 dian3 si4\n",
      "009152 ta1 shui4 li3 bian5 de5 wu1 wo3 shui4 wai4 bian5 de5 sha1 fa1\n",
      "009576 zhe4 ge4 kan4 si4 ping2 dan4 de5 xiao1 xi5 shi2 ze2 yi4 yi4 zhong4 da4\n",
      "008581 mai4 ke4 lei2 wen2 shi4 de2 ke4 sa4 si1 zhou1 ren2 chu1 shen1 yu2 jun1 ren2 jia1 ting2\n",
      "009912 teng2 cun1 ci3 fan1 fa1 yan2 ke3 neng2 shi4 wei4 le5 tu1 xian3 ye3 tian2 de5 ling2 dao3 neng2 li4\n",
      "008569 ling2 ling2 biao2 jie3 wei2 ji4 zhe3 ti2 gong1 le5 yi1 fen4 ta1 he2 ling2 ling2 tong2 xue2 xiao2 wei3 de5 liao2 tian1 ji4 lu4\n",
      "008942 wo3 men5 cheng2 nuo4 jin4 quan2 li4 que4 bao3 xin4 xi1 tong1 chang4\n",
      "008549 you3 ji4 zai3 cheng1 gong2 shou3 li3 zai4 wo3 guo2 yi2 you3 liang3 qian1 nian2 li4 shi3\n",
      "009890 zhe4 lei4 wen2 zi4 de5 tu2 mo3 gong1 ju4 bu2 zai4 shi4 ji4 hao5 bi3 er2 shi4 lei4 si4 mei2 hui1 de5 wu4 zhi4\n",
      "009908 ta1 men5 qi2 zhe5 mo2 tuo1 hui2 jia1 zheng4 hao3 wei2 nong2 mang2 shi2 de5 fu4 mu3 bang1 mang2\n",
      "009423 an4 jian4 pan4 jue2 hou4 she4 hui4 xiao4 guo3 hao3\n",
      "009503 deng3 che1 guo4 cheng2 zhong1 ji4 zhe3 fa1 xian4 bu4 shao3 hei1 che1 bian4 chun3 chun3 yu4 dong4\n",
      "009735 dan4 ta1 de5 luan3 chao2 deng3 sheng1 zhi2 qi4 guan1 fa1 yu4 zheng4 chang2\n",
      "008921 wo3 shuo1 wo3 jia4 gei3 ni3 jia4 gei3 ni3 yi3 hou4 ni3 dei3 ting1 wo3 de5 ni3 zuo4 de2 dao4 bu4\n",
      "009427 sui2 hou4 gou3 zhu3 ren2 lian2 xu4 chu1 zhao1 shuai3 er3 guang1 yong4 jiao3 chuai4 zhuai4 tou2 fa4 ou1 da3 nv3 dian4 zhang3 xie4 fen4\n",
      "008520 wo3 xian4 zai4 zheng4 zai4 he2 ni3 xiang1 hu4 ji1 fa1 ka3 ka3\n",
      "008594 xie4 han4 hua2 shuo1 dang1 shi2 ta1 you4 jing1 you4 xi3 xin1 li5 ye3 you3 le5 huai2 yi2\n",
      "009898 zan2 men5 mu4 min2 qun2 zhong4 te4 bie2 re4 xin1 te4 bie2 hao4 ke4 fei1 chang2 shan4 liang2\n",
      "008349 zen3 me5 la1 ni3 hai2 bu4 kun4 ma2\n",
      "009391 kai3 mu3 bo2 yi1 zi4 ji3 zai4 ken3 ni2 ya4 ye3 shi4 yi4 ming2 jing3 cha2\n",
      "008211 gong1 ye4 yuan2 qu1 shi4 cheng2 jie1 chan3 ye4 zhuan3 yi2 jia1 su4 chan3 ye4 ji2 ju4 pei2 yu4 chan3 ye4 ji2 qun2 de5 zhu3 yao4 zai4 ti3\n",
      "009083 da4 mo2 shou3 xi2 jing1 ji4 xue2 jia1 wang2 qing4 ze2 ren4 wei2 mu4 qian2 de5 qian2 zai4 chong1 ji1 shi4 ke2 yi3 kong4 zhi4 de5\n",
      "009099 ci3 wai4 chi1 fan4 hai2 dei3 hua1 qian2 zan2 he2 bei3 ren2 jiu4 tu3 dou4 qie2 zi5 xi1 hong2 shi4 chi1 cai4 lao3 san1 yang4\n",
      "009173 zhuan3 nian4 xiang3 zhe4 zhong3 xiang2 fa3 bu4 mian3 pian1 ji1 shang4 hai3 de5 jiao4 yu4 bu4 dai4 biao3 zhong1 guo2 de5\n",
      "008788 jian4 zhuang4 li2 mou3 ma3 shang4 cong2 wo4 shi4 chong1 chu1 xiang3 chu1 men2 tao2 sheng1\n",
      "008722 wu2 xiu4 bo1 dao4 di3 shi4 shui2\n",
      "009939 lin2 da2 shuo1 shi4 yu2 jia1 gai3 bian4 le5 ta1 he2 ma3 er2 de5 sheng1 huo2\n",
      "009218 you2 xing2 zi4 yi4 jiu3 er4 si4 nian2 ju3 ban4 yi3 lai2 jin1 nian2 yi3 shi4 di4 ba1 shi2 liu4 jie4\n",
      "009469 jin1 nian2 jiu4 you3 lv2 you3 jian4 yi4 jin3 kuai4 li4 fa3 jiang1 lv3 you2 ri4 jia4 qi1 chang2 tai4 hua4\n",
      "008786 zhe4 shi4 ji4 zhe3 jin1 tian1 cong2 guo2 wu4 yuan4 yi1 gai3 ban4 gong1 shi4 huo4 xi1 de5\n",
      "009810 ji4 zhe3 zhao3 dao4 le5 qin3 shi4 bu4 zhi4 zhe3 xiao2 ma3\n",
      "008197 hen3 an1 quan2 shi4 ni3 men5 bu4 xiang3 wo3 an1 quan2 ha1 ha1\n",
      "008776 ran2 er2 wei4 ji4 wei3 xi4 tong3 ji2 qi2 yong1 dun3 que4 zai4 quan2 guo2 liang3 hui4 hou4 tu1 ran2 fa1 dong4 le5 ni4 xi2\n",
      "008505 yi4 jiu3 jiu3 wu3 nian2 cheng2 wei2 bao3 jia1 li4 ya4 she4 hui4 dang3 wai4 shi4 bu4 de5 cheng2 yuan2\n",
      "008503 dang1 da4 yin2 mu4 shang4 tu1 ran2 chu1 xian4 yi2 ge4 nv3 hai2 de5 lian2 kong3 quan2 chang3 yi1 pian4 e4 ran2\n",
      "008840 qi2 hou4 bing4 ren2 zai4 fu4 zhen3 shi2 bei4 fa1 xian4 xue4 jia3 shui3 ping2 pian1 di1\n",
      "008855 fa4 lang2 dian4 zhu3 qing2 ji2 zhi1 xia4 duo3 ru4 pang2 bian1 hua1 dian4 ye3 wei4 shou4 shang1\n",
      "008993 dan4 jin4 duan4 shi2 jian1 tian1 qi4 zhen1 de5 hen3 qing1 tou4 shuang2 lang3 ke2 yi3 fang4 xin1 de5 shai4 yi1 wu4\n",
      "008272 she4 qu1 lao3 ju1 min2 qiao1 luo2 da2 gu3 ye4 zhu3 dai4 biao3 na2 dao4 yao4 shi5 hou4 xiao4 de2 he2 bu4 long2 zui3\n",
      "009545 bu2 shi4 yao4 pai1 zhao4 ma2 da4 jia1 pai2 hao3 dui4 ma2 li5 dian3\n",
      "008652 xu3 xian1 sheng1 bie1 zhe5 yi4 kou3 qi4 yi1 lu4 kai1 che1 jin3 zhui1\n",
      "008452 cao2 cheng2 gei3 ji4 zhe3 suan4 le5 zhei4 yang4 yi4 bi3 zhang4\n",
      "009399 hao3 wan2 qu4 kan4 su1 zhou1 yuan2 lin2 ya1 gan3 shou4 xiao3 qiao2 liu2 shui3\n",
      "008254 yi4 bai3 ge4 xiao4 hua5 wo3 jiang3 wan2 hui4 bu2 hui4 xi4 tong3 beng1 kui4 ya1\n",
      "009439 ling4 wai4 ren2 gong1 du2 dian3 jiang1 jia1 pai4 jing3 li4 shu1 tong1\n",
      "008142 zhe4 li3 shi4 quan2 hai3 nan2 jun1 jia4 zui4 gui4 de5 lou2 pan2 feng4 huang2 dao3\n",
      "009766 chuang4 zao4 geng1 duo1 de5 shang1 ye4 li4 run4\n",
      "009128 zhe4 li3 bi3 jiao4 yin3 bi4 you4 chou4 hen2 shao3 ren2 lai2 zhe4 li3\n",
      "008354 zhe4 yi1 shu4 zi4 chuang4 ba1 fei1 te4 ci2 shan4 wu3 can1 li4 shi3 zui4 gao1 jia4 wei4\n",
      "009961 fa1 sheng1 shi4 gu4 de5 lou2 ti1 guai2 jiao2 chu3 reng2 ke3 kan4 dao4 xue4 ji4\n",
      "009520 di4 fang1 zheng4 fu3 dui4 ben3 di4 qu1 ru2 pin3 zhi4 liang4 an1 quan2 fu4 zong3 ze2\n",
      "008919 suo2 yi3 zi4 ji3 ye3 lai2 chang2 chang2 xian1\n",
      "008756 dang4 wan3 ta1 he2 qi1 zi3 ru4 zhu4 fan1 qie2 jiu3 dian4\n",
      "009794 chun1 yun4 qi1 jian1 guang3 tie3 ji2 tuan2 ri4 kai1 xing2 dong4 che1 zu3 lie4 che1 er4 bai3 wu3 shi2 liu4 dui4\n",
      "008690 ta1 zen3 me5 bu4 pei2 wo3 wan2 le5\n",
      "008904 duo1 liao2 liao2 ni3 bei5 wo3 zai4 kao3 lv4 bao4 zhao4\n",
      "008134 ru2 jin1 fu1 qi1 er4 ren2 jun1 xu1 zhu4 yuan4 guai1 guai1 cheng2 le5 ji2 xu1 hao3 xin1 ren2 shou1 yang3 de5 gu1 er2\n",
      "009692 ri4 ben3 de5 yin3 shi2 si1 xiang3 yin3 shi2 wen2 hua4 shi2 wu4 peng1 ren4 suo3 shou4 dao4 de5 zui4 da4 ying2 xiang3 shi4 zhong1 guo2\n",
      "008987 wen2 zhang1 mei2 you3 ren4 he2 shi4 shi2 yi1 ju4 sui2 yi4 bian2 sun3 zi4 ji3 ming2 yu4 qin1 fan4 zi4 ji3 ming2 yu4 quan2\n",
      "008779 er2 san1 yi1 zhong4 gong1 de5 beng4 che1 ze2 shi4 zai4 ben3 yue4 er4 shi2 er4 ri4 qi3 yun4\n",
      "009435 ba1 ling2 hou4 de5 yue4 guang1 zu2 ying1 gai1 ru2 he2 li3 cai2 ne5\n",
      "009228 wang2 fei1 dao4 xiang1 gang3 da4 chu1 xue4 zai4 ming2 dian4 kuang2 sao3 liang3 da4 dai4 zhan4 li4 pin3\n",
      "008625 shuo1 zhe4 ge4 de5 ni3 hui4 dui4 wo3 fu4 ze2 me5\n",
      "009778 lang1 ge4 zhe4 zhong3 yu3 qi4 shuo1 hua4 ma2\n",
      "008873 ta1 shuo1 tong4 wo3 ye3 lan3 de5 zhi1 sheng1\n",
      "008571 cong2 ci3 ta1 kai1 shi3 du2 shen1 yi4 ren2 chuang3 hai3 nan2\n",
      "009990 gai1 che1 jiang1 san1 ren2 zhuang4 dao3 hou4 zai4 da4 wu4 zhong1 tao2 cuan4\n",
      "009010 xu3 duo1 dao4 li5 ren2 men5 yi3 jing1 zheng4 ming2 guo4 qian1 bian4 wan4 bian4 wei4 shen2 me5 hai2 yao4 dai4 zhe5 jiao3 xing4 de5 xin1 li3 zai4 qu4 shi4 yan4 yi4 hui2 ne5\n",
      "008731 ji4 ran2 yi4 di4 chao1 sheng1 you3 bei4 chong2 fu4 zheng1 shou1 de5 feng1 xian3 na4 me5 fu4 jing4 wai4 sheng1 zi3 ne5\n",
      "009501 mu4 qian2 xiao1 fang2 dui4 yuan2 zhi3 neng2 tan4 shen1 shui3 ni2 guan3 yi4 dian2 dian3 pao2 jue2\n",
      "008304 dan4 you2 yu2 guo2 nei4 lie4 tou2 fa1 zhan3 de5 cen1 ci1 bu4 qi2 reng2 ran2 you3 lao3 hua4 chong2 ti2 de5 bi4 yao4\n",
      "009176 mian4 dui4 yu4 mi3 de5 re4 qing2 si4 hu1 you3 xie1 pi2 bei4 de5 li3 yu3 chun1 biao3 qing2 yi4 zhi2 you3 xie1 mu4 ne4\n",
      "009726 shou4 shang1 cun1 min2 yi3 song4 dao4 dang1 di4 yi1 yuan4 jie1 shou4 zhi4 liao2\n",
      "009035 kuai4 zou3 dao4 di4 bian1 shi2 yuan2 yuan3 kan4 dao4 di4 leng2 hou4 ge1 zhe5 yi1 jian4 hua1 yi1 shang5\n",
      "009567 zhou1 zhuang1 chuan2 fu1 de5 sheng1 yi4 ji2 jia1 mei3 ge4 ren2 dou1 hen4 bu4 de2 jiao3 ye3 neng2 hua2 jiang3 hao3 duo1 la1 xie1 sheng1 yi4\n",
      "009041 yi1 wei4 shi4 min2 shuo1 jing1 xing3 hou4 ting1 jian4 le5 fang2 wu1 bei4 yao2 dong4 de5 zi1 zi1 sheng1\n",
      "009535 gai1 guan3 li3 yuan2 li4 ji2 ba3 zi4 ji3 suo3 zai4 long2 zi5 li3 yi2 mian3 qi2 ta1 de5 xing1 xing5 ye3 tao2 pao3\n",
      "008147 zhe4 zhong3 qing2 kuang4 xia4 nan2 guai4 zhao4 ben3 shan1 shuo1 bu4 cha4 qian2\n",
      "009295 zou3 ba1 dai4 shang4 wo3 pa2 shan1 qu4\n",
      "008309 ji2 bian4 wa1 dao4 le5 shen2 me5 ye3 bu4 neng2 ken3 ding4 yu3 qi1 san1 yao1 bu4 dui4 guan1 lian2\n",
      "008377 tong2 yang4 de5 luo2 ji2 ye3 shi4 yong4 yu2 ai2 zheng4\n",
      "009862 ping2 xing4 de5 you3 shan1 yao5 bai2 luo2 bo5 gan1 shu3 ma3 ling2 shu3 nan2 gua1 xi1 hong2 shi4 mo2 gu5 deng3\n",
      "009729 yi4 xie1 zhu4 wo1 peng2 de5 cun1 min2 yin4 zheng4 le5 zhe4 yi1 shuo1 fa3\n",
      "008541 ju4 da4 de5 lei2 ming2 sheng1 yi1 lang4 lang4 de5 gun3 lai2 da4 di4 qing1 chan4\n",
      "009526 zai4 er4 bai3 wu3 shi2 duo1 wan4 ming2 kao3 sheng1 zhong1 bie1 le5 er4 shi2 duo1 tian1 de5 qi4 yi1 xia4 zi5 bao4 fa1 chu1 lai2 le5\n",
      "009591 dan4 gao1 neng2 quan2 de5 kou1 shi4 yuan3 jin4 chu1 le5 ming2 de5\n",
      "009239 da2 sao3 wu1 zi5 shi4 dui4 zi4 ji3 fu4 ze2 ru2 guo3 you2 shou3 wo3 yi2 ding4 lai2 bang1 ni3\n",
      "008137 ta1 gang1 zheng4 bu4 e1 de5 jing1 shen2 gan3 dong4 le5 qun2 zhong4 geng1 ying2 de5 qun2 zhong4 de5 xin4 ren4 he2 zun1 zhong4\n",
      "009070 deng1 shang4 mo2 tian1 lun2 you2 ke4 men2 neng2 fu3 kan4 zi4 you2 nv3 shen2 xiang4 tiao4 wang4 man4 ha1 dun4 tian1 ji4 xian4\n",
      "008823 er2 qie3 zi4 ji3 zuo4 de5 dong1 xi1 ji4 jian4 kang1 you4 shi2 zai4\n",
      "008577 you3 hua4 jiu4 shuo1 you3 pi4 jiu4 fang4 po2 po2 ma1 ma1 de5 na3 xiang4 ge4 ye2 men5\n",
      "008051 jie2 zhi4 mu4 qian2 mei3 jun1 yi3 xiang4 yi1 an1 quan2 bu4 dui4 yi2 jiao1 le5 jiu3 ge4 sheng3 de5 fang2 wu4\n",
      "009669 wang3 min2 men2 shi4 fou3 pu3 bian4 shou4 dao4 guo4 liu2 mang2 ruan3 jian4 de5 sao1 rao3 ne5\n",
      "008782 bang2 fei3 men2 jian4 zhuang4 ma3 shang4 guan1 diao4 dong4 li3 de5 zhao4 ming2 she4 bei4\n",
      "008908 qing1 hai3 xin1 wen2 wang3 shang4 man3 shi4 wang2 you3 men2 de5 chi4 re4 gan3 yan2\n",
      "008814 ling4 ju4 zheng4 shi2 de2 hong2 mao4 yi4 shi2 wei2 jia1 zhao4 ye4 qi2 xia4 gong1 si1\n",
      "008534 ju4 zhi1 ting2 feng1 bu4 xiang3 jia1 cao2 wu1 bi4 yu2 shi4 guai1 guai1 jiu4 fan4\n",
      "008013 yu3 xiang2 ku3 xiao4 shuo1 ni3 xie3 de5 gan4 ma2 rang4 wo3 kan4\n",
      "008683 er2 shi4 zhang1 chao2 yang2 de5 chi2 ru3\n",
      "008034 shen2 me5 ji4 fu4 yue4 fu4 wo3 shi4 ta1 qin1 die1\n",
      "009886 qi1 ge4 ren2 mian4 mian4 xiang1 qu4 ran2 hou4 shuo1 ni3 zou3 cuo4 di4 fang1 le5 wo3 men5 shi4 hu2 lu2 wa2\n",
      "008723 hui4 bu2 hui4 you3 feng1 xian3 a1\n",
      "008052 lai2 wang3 de5 gong1 ren2 men2 kang2 zhe5 gong1 ju4 tou2 ding3 gai4 zhe5 kuai4 shi1 mao2 jin1 lai2 zhe1 yang2\n",
      "008455 wo3 chao2 gu3 hao3 duo1 nian2 le5 yi2 ding4 neng2 ying2 li4\n",
      "008461 xiao3 shi2 hou5 te4 bie2 xiang3 ma1 ma5 duo3 qi3 lai2 ku1 hu2 wei3 shi4 yi2 ge4 cong2 xiao3 que1 fa2 mu3 ai4 de5 ren2\n",
      "009063 ting1 dao4 ci3 hua4 jie2 mou3 he2 han2 mou3 hen3 qi4 fen4\n",
      "009018 zhi1 zhi1 dao4 ping2 lun4 chun1 guang1 de5 ren2 chun1 guang1 bu2 hui4 yu3 ta1 tong2 hang2\n",
      "008418 bu2 lun4 zuo4 ren4 he2 shi4 ta1 dou1 bu4 ke3 neng2 diu1 diao4 zi4 wo3\n",
      "008642 gang1 kan4 jian4 ge4 da2 ti2 ka3 wo3 ye3 shuo1 ge4\n",
      "009033 na4 xie1 xi3 huan5 tiao1 dian3 mao2 bing4 shuo1 dian3 xian2 hua4 de5 ren2 ye3 hua4 bu4 duo1\n",
      "009040 er4 yang3 hua4 liu2 tian1 jia1 zai4 shi2 pin3 zhong1 zhu3 yao4 qi3 piao3 bai2 he2 fang2 fu3 zuo4 yong4\n",
      "009394 zhu1 yan4 lai2 zhong1 guo2 qian2 ren4 zong2 li3 zhu1 rong2 ji1 de5 nv3 er2\n",
      "009907 guan1 da4 shi4 mou2 da4 ju2 chu1 da4 ce4 shi3 zhong1 shi4 gai1 yuan4 de5 ban4 yuan4 fang1 zhen1\n",
      "008537 ka2 ta2 er3 xue2 xiao4 li3 you3 hen3 duo1 ka2 ta2 er3 dang1 di4 de5 xue2 sheng5\n",
      "008781 feng4 huang2 dong4 hen3 ke3 neng2 shi4 shang1 zu2 ren2 yong4 lai2 ji4 si4 de5 chang2 suo3\n",
      "009991 zhe4 ren2 yi1 duo1 suo5 fang1 xiang4 pan2 ye3 ba3 bu4 wen3 le5 cha4 dian3 zhuang4 shang4 le5 gao1 su4 bian1 dao4 hu4 lan2\n",
      "009252 shang4 hai3 de5 hu2 po1 da4 duo1 zhan1 ran3 le5 shang4 hai3 ren2 de5 xiao3 qi4 he2 xia2 ai4\n",
      "009811 gang1 ren4 shi2 jiu4 yao4 mei4 zi5 zao4 pian4 zai4 liao2 shi2 kuai4 qian2 de5 ba1\n",
      "008386 wo3 dang1 shi2 hai2 nao3 can2 de5 shuo1 zen3 me5 shi4 ruan3 de5\n",
      "009777 ji4 zhe3 shu4 le5 yi1 xia4 biao1 qian1 shang4 de5 shu4 zi4 zui4 gao1 wei2 liu4 shi2 yi1\n",
      "008905 xiao3 yuan2 peng1 di4 guan1 shang4 fang2 men2 yi3 shi4 kang4 yi4\n",
      "009213 zai4 lian2 pu3 suo2 you3 yuan2 gong1 zhong1 gong1 cheng2 shi1 huo4 de2 de5 hui2 bao4 zui4 wei2 feng1 hou4\n",
      "008426 ta1 shuo1 zi4 ji3 you3 qian2 bu4 xiang3 dang1 lao3 bie1 yi1\n",
      "008799 ta1 xiang3 le5 xiang3 hou4 qing1 qing1 de5 en4 le5 yi4 sheng1\n",
      "008656 qi2 yi4 shen1 la1 ta1 de5 yi1 fu2 kao4 jian3 ping2 zi5 mai3 nian2 piao4 guan1 kan4 bei3 jing1 guo2 an1 de5 bi3 sai4\n",
      "008196 wo3 men5 wei2 chi2 dui4 sheng4 da4 gu3 piao4 de5 chi2 you3 ping2 ji2\n",
      "008893 liu2 lao3 shi1 di4 yi1 shi2 jian1 jiu4 fa1 xian4 fan3 song4 you3 wen4 ti2 li4 ji2 zhai1 diao4\n",
      "008889 liu2 qiu2 cong2 ci3 bei4 ri4 ben3 tun1 bing4\n",
      "009724 yi4 ming2 nv3 shi4 ku1 hao2 zhe5 bei4 xiao3 yue4 deng3 ren2 chan1 fu2 zhe5 li2 kai1\n",
      "009891 nan2 you3 shi4 zhe4 yang4 wo3 ji4 de5 wo3 shi4 zai4 yi2 ge4 yue4 se4 meng2 long2 de5 wan3 shang5 xiang4 ni3 qiu2 de5 hun1\n",
      "008096 hai2 you3 yi4 xie1 gai3 jin4 xi4 jie2 ye3 bei4 min2 gan3 de5 xue2 zhe3 bu3 zhuo1 dao4\n",
      "009500 wang2 meng2 jia3 ping2 wa1 feng2 ji4 cai2 deng3 zhu4 ming2 zuo4 jia1 ceng2 li4 ren4 hui4 zhang3\n",
      "009205 jing1 jin1 gao1 su4 zui4 tu1 chu1 de5 you1 shi4 he2 liang4 dian3 zai4 yu2 zhi2 tong1 tian1 jin1 gang3 ji2 zhuang1 xiang1 ma3 tou2\n",
      "008268 xiao3 peng2 you3 kan4 dao4 fu2 lai2 ming2 ju4 tu4 da4 xiong2 dou1 hao3 jing1 xi3\n",
      "009106 yan3 chu1 jie2 shu4 hou4 zhu1 rong2 ji1 jie1 jian4 quan2 ti3 yan3 zhi2 yuan2\n",
      "009877 yu2 mei2 jue2 ding4 pou1 fu4 chan3\n",
      "009731 zhe4 yang4 cai2 neng2 zhu4 hao3 chao2 cai2 neng2 yin3 lai2 hao3 feng4 huang2\n",
      "008902 shen2 me5 yang4 de5 nei4 rong2 cai2 neng2 zhen1 zheng4 xi1 yin3 ren2 men5 shang4 wang3 ne5\n",
      "009618 jiao1 xian1 sheng1 shuo1 qian2 tian1 ta1 he2 qi1 zi3 chen2 nv3 shi4 xiang1 yue1 pa2 shan1 shang2 jing3\n",
      "009272 tong2 shi2 hai2 ke2 yi3 guan1 kan4 xin1 ban3 de5 dian4 ying3 lu2 shan1 lian4 er4 ling2 yi1 ling2\n",
      "009540 xu2 li4 chang4 de5 hen3 tou2 ru4 guan1 zhong4 gen1 zhe5 chang4 de5 ye3 hen3 tou2 ru4 xian4 chang3 hai1 cheng2 yi1 pian4\n",
      "009614 di4 san1 dian3 shi4 yun4 ying2 chu1 qi1 zhe4 li3 tou2 xue2 wen4 jiu4 bi3 jiao4 da4 hen3 you3 xuan2 ji1\n",
      "009750 bi3 sai4 zhong1 ji1 hu1 mei3 yi4 ming2 xuan2 shou3 dou1 shi4 ci1 ya2 lie2 zui3 tong4 ku3 bu4 kan1 de5 biao3 qing2\n",
      "009364 bu4 neng2 jiang1 zheng4 fu3 ying1 dang1 cheng2 dan1 de5 bu3 tie1 zuo4 wei2 cai2 zheng4 bao1 fu5 shuai3 gei3 lao3 bai3 xing4\n",
      "009107 ao4 ba1 ma3 zong2 tong3 bo2 chi4 zhe4 yi1 shuo1 fa3 shi2 shu3 huang1 tang2\n",
      "009108 po4 shi3 lin2 cui4 lu4 chang2 geng2 zu3 de5 fang2 wu1 yi3 bei4 chai1 chu2\n",
      "009989 wan3 shang5 jia1 wan2 ban1 kai1 che1 hui2 jia1 tai4 lei2 le5 mi2 mi2 hu1 hu1 kai1 zhe5 che1 zou3 yi2 ban4 de5 shi2 hou5 dang1 yi4 sheng1\n",
      "008171 ru2 he2 cai2 neng2 rang4 hong2 tou2 wen2 jian4 bu2 zai4 man3 tian1 fei1 zhi2 xing2 qi3 lai5 bu4 zou3 yang4\n",
      "009214 wo3 men5 shi4 lin1 shui3 dao4 zhe4 lai2 xi2 zao3\n",
      "009468 zhi3 yao4 mei2 you3 tai4 duo1 de5 za2 nian4 jiu4 neng2 ti3 hui4 dao4 zhen1 zheng4 de5 kuai4 le4 la1\n",
      "008373 zhi3 shi4 pao3 bu4 ke2 yi3 qia1 miao2 biao3 er2 yu2 le4 quan1 que4 mei2 you3 ding4 lun4\n",
      "009230 wo3 men5 chu1 lai2 kan4 ta1 hai2 hou3 wo3 men5\n",
      "008839 yuan2 lai2 chuang1 kou3 he2 piao4 fan4 zi5 lang2 bei4 wei2 jian1 duo1 de5 de5 qian2 ping2 fen1\n",
      "009807 sui2 hou4 xian4 chang3 zhong4 ren2 yi4 tong2 qi3 hong4 bi1 hun1\n",
      "008692 che1 nei4 an1 quan2 qi4 nang2 da3 kai1\n",
      "009682 wo3 shi1 lian4 le5 wo3 lan2 shou4 a1 wo3 xiang1 gu1\n",
      "009600 lao3 gong1 ren2 wen2 hua4 gong1 ji2 yi3 nan2 pian4 qu1 de5 di1 ai3 jian4 zhu4 jiang1 quan2 bu4 chai1 chu2\n",
      "009420 jing1 zhen3 duan4 hao4 hao4 bei4 que4 zhen3 wei2 xiao4 chuan3 bing4 zai4 zhi1 hou4 shu4 zhou1 nei4 duo1 ci4 jin4 xing2 zhen3 zhi4\n",
      "009628 chong2 sheng4 si4 san1 ta3 wo3 qiang2 li4 tui1 jian4\n",
      "008105 cang1 ying5 hong2 hong3 jiao4 chuang2 shang4 guo1 tai2 shang4 dou1 shi4 duo1 de5 xiang4 tou2 mao2\n",
      "008315 kuo4 da4 duan3 qi1 xian3 ye4 wu4 zhi1 chi2 zhong1 xiao3 qi3 ye4 kai1 tuo4 guo2 ji4 shi4 chang3\n",
      "008522 cun1 min2 dai4 lai2 de5 luo4 di4 he2 tao2 guo3 he2 ku1 zhi1\n",
      "009835 mei2 ren5 gao4 su4 ta1 di4 yi1 ci4 jian4 mian4 de2 qian1 xu1 xie1 bie2 rang4 nv3 hai2 nan2 kan1\n",
      "009196 ju4 min2 jing3 jie4 shao4 qi2 huo3 di4 dian3 wei2 lan2 kao3 ren2 yuan2 li4 hai5 jia1\n",
      "009250 zhe4 me5 jian3 dan1 you3 shen2 me5 bu2 hui4 de5\n",
      "008596 yang3 zhi2 chang3 de5 gong1 zuo4 ren2 yuan2 shuo1 zhu1 wei3 ba1 shuai3 qi3 lai5 jiu4 shuo1 ming2 zhu1 gao1 xing4\n",
      "008561 zuo2 tian1 de5 mi2 wu4 he2 reng2 ran2 tuan1 ji2 bu2 guo4 che1 liang4 yi3 jing1 neng2 gou4 fei1 kuai4 de5 tong1 guo4\n",
      "008943 duo1 yi3 ge1 wu3 seng1 lv3 qi2 fu2 deng3 fang1 shi4 lai2 qing4 zhu4 dai3 li4 xin1 nian2\n",
      "008070 zhe4 ye3 zheng4 shi4 se4 lang2 chun3 chun3 yu4 dong4 zhi1 shi2\n",
      "008961 zuo2 ri4 zao3 pan2 ou1 zhou1 gu3 shi4 yan2 xu4 ben3 zhou1 er4 de5 sheng1 shi4 zhi3 die1 fan3 tan2\n",
      "009681 zhe4 me5 duo1 xiao4 hua5 yi4 tian1 jiang3 bu4 wan2 ya1\n",
      "009716 yu4 shu4 dang1 di4 seng1 lv3 zheng4 zai4 ji1 ji2 jiu4 yuan2 bei4 kun4 fei4 xu1 de5 min2 zhong4\n",
      "008407 kai1 xin1 xia2 wo3 cong2 bu4 nan2 guo4 mei3 tian1 dou1 wei2 zhu3 ren2 dai4 lai2 zheng4 neng2 liang4\n",
      "009533 jiu4 zuo2 tian1 zhe4 chou2 nv3 you4 shen2 jing1 de5 kai1 shi3 da4 ma4 nv3 shen2 zui4 hou4 nv3 shen2 qi4 huai4 le5\n",
      "008359 bu2 guo4 zai4 jia4 qian2 shang4 you3 xie1 you2 yu4\n",
      "008743 ta1 cou4 jin4 guan1 cha2 hou4 jing4 fa1 xian4 nu2 bi3 hai2 huo2 zhe5\n",
      "009627 zhe4 shi4 yi2 ge4 sheng1 yi4 ang4 ran2 de5 chun1 ri4 sheng1 ming4 de5 qi2 ji4 bu2 duan4 bei4 chuang4 zao4\n",
      "008077 fei4 huo2 liang4 shui3 ping2 chu1 xian4 shang4 sheng1 guai2 dian3\n",
      "009834 yi2 ge4 ren2 ku1 zuo4 zai4 yin1 an4 de5 jiao3 luo4 li3 jiu1 zhe5 da4 tui3 wen4 zi4 ji3 zen3 me5 ban4\n",
      "008466 ge4 bu4 men2 de5 yi4 xie1 kuang4 kuang4 gui1 ding4 yue4 lai2 yue4 duo1 nian2 jian3 shen3 pi1 yue4 lai2 yue4 yan2 ge2\n",
      "008401 la4 zai4 shen1 shang4 yi4 mo3 jiu4 shi4 yi1 pian4 hei1\n",
      "009671 shen2 me5 yue4 qi4 ya1\n",
      "009266 yan2 jin4 ji3 zhan4 nuo2 yong4 jiao4 shi1 bian1 zhi4\n",
      "008597 yu2 ci4 ju1 min2 ze2 sheng1 cheng1 shi4 shang4 wang3 huo4 ting1 xin4 lin2 ju1 yao1 he1 ji2 peng2 you5 dian4 hua4\n",
      "008766 hua4 zhuang1 he2 cai2 zhi4 wei2 huang2 jin1 fa4 lang2 zuan4 shi2\n",
      "009541 ci3 wai4 jin1 nian2 qi3 yong4 le5 yi4 pi1 xin1 shi4 sao2 xue3 she4 bei4 ti4 dai4 rong2 xue3 ji4 de5 shi3 yong4 liang4\n",
      "009216 chun1 lei3 heng1 yi4 sheng1 shuo1 cai2 fu4 de5\n",
      "008021 zhi1 hou4 dan1 zheng4 zhu3 jue2 dan4 ye3 zi4 ci3 yu3 du2 jie2 yuan2\n",
      "008485 xiang3 dao4 yi1 ci4 ci4 bei4 xiao3 shan1 ju4 jue2 de5 shi4 wu2 tian1 hen3 shi4 nao2 huo3\n",
      "009051 zhong1 xian4 you3 liang3 qian1 san1 bai3 nian2 li4 shi3 shi4 ba1 wen2 hua4 fa1 xiang2 di4\n",
      "008427 zai4 dong1 fang1 man4 ha1 dun4 xiao3 qu1 fu4 jin4 de5 ling4 wai4 yi4 jia1 zhong1 jie4 che1 wei4 de5 kai1 jia4 geng1 gao1\n",
      "008870 hen3 nan2 suan4 chu1 zhun3 que4 shi2 jian1 de5\n",
      "008936 zai4 tian1 jin1 shi4 min2 ye3 wen2 de2 dao4 kong1 qi4 zhong1 qiang1 ren2 de5 wei4 dao5\n",
      "008279 pie1 kai1 ai4 guo2 bu4 ai4 guo2 lai2 shuo1 zhen1 yao4 zhua1 nai2 fen3 de5 zhi4 liang4 jiu4 ba3 da4 pin3 pai2 yin3 jin4 lai2\n",
      "008008 tong2 shi2 dui4 yue4 juan4 dian3 shi2 xing2 quan2 cheng2 duo1 jiao3 du4 jian1 kong4\n",
      "009392 jin1 hua1 xiang1 yin2 hua1 xiang1 guan1 jian4 zhan1 le5 ke1 ji4 de5 guang1\n",
      "009376 xian4 zai4 zhe4 zhong3 tui2 shi4 ye3 zheng4 zai4 chan3 ye4 lian4 de5 ge4 ge4 huan2 jie2 zhong1 you2 suo3 ti3 xian4\n",
      "008184 gong1 gong5 po2 po2 ye3 shen1 ming2 da4 yi4 dong4 yuan2 qin1 qi1 peng2 you3 ti4 ta1 xun2 zhao3 jia1 ren2\n",
      "008132 wei4 shen2 me5 hui4 tao3 yan4 wo3 ne5 shi4 wo3 shuo1 cuo4 shen2 me5 le5 ma2\n",
      "009296 gai1 xiao1 xi5 yi4 chu1 cheng2 tou2 zhai4 shi4 chang3 sui2 ji2 jin4 ru4 guai2 dian3\n",
      "009324 yi1 sheng1 qing3 nin2 zai4 cha2 yi1 ni3 shi4 yi1 sheng1 hai2 shi4 wo3 shi4 yi1 sheng1\n",
      "009513 bu4 jin2 jin3 su4 du4 kuai4 er2 qie3 zhi4 liang4 gao1\n",
      "009840 liang3 nian2 qian2 xiong2 jie2 zai4 nan2 jing1 san1 pai2 lou5 fu4 jin4 kai1 le5 yi4 jia1 zu2 liao2 dian4\n",
      "009504 yi1 fa3 bei4 xian4 zhi4 ren2 shen1 zi4 you2 huo4 bo1 duo2 zheng4 zhi4 quan2 li4 de5 chu2 wai4\n",
      "009678 zhe4 shi4 liang3 liang4 mian4 bao1 che1 dou1 tie1 zhe5 huan2 wei4 jian1 cha2 zi4 yang4 che1 ding3 an1 zhuang1 zhe5 la3 ba5\n",
      "009577 suo2 li3 de5 ren2 zi4 bei1 wu3 gong1 bu4 ji2 fo2 shan1 fei1 hong2 bang1 da4 bu4 liao3 guan1 ji3 tian1 jiu4 fang4 le5 chu1 qu4\n",
      "008130 xiang4 lai2 gao3 xiao4 de5 xiang1 qu3 tiao2 pi2 de5 cheng1 ng4 ming2 nian2 you3 da4 xing2 de5 qing4 zhu4 huo2 dong4 jiu4 hao3 le5\n",
      "008807 gai1 zhong1 xin1 mei2 you3 tou4 lu4 pei1 tai1 gan4 xi4 bao1 ju4 ti3 lai2 zi4 nei3 xie1 san1 jia3 yi1 yuan4\n",
      "008227 lao3 shi1 mei3 tian1 chong2 fu4 de5 gao4 su4 ta1 men5 zen3 yang4 bo1 zhong3 ou4 fei2 zhong4 zhi2 dao4 cai3 shou1\n",
      "008740 pei2 rui4 zi1 cheng1 ci3 ke4 tai2 wan1 di4 qu1 min2 zhong4 qing2 xu4 gao1 ang2 qing2 shi4 gao1 du4 jin3 zhang1\n",
      "008011 ta1 men5 zhi3 bu2 guo4 shi4 zai4 zhuo1 lie4 de5 hua4 hu2 lu2 ba4 le5\n",
      "009527 zai4 zhu2 guang1 de5 ying4 zhao4 xia4 lao3 ren2 yan2 jiao3 de5 lei4 hua1 shan3 shan3 fa1 liang4\n",
      "008713 meng4 shu1 yun2 dang1 chang3 yun1 dao3\n",
      "008753 jing1 guo4 zi3 xi4 kao3 cha2 wo3 jue2 ding4 zhong3 nan2 gua1\n",
      "009993 xiao3 ming2 yao2 yao2 tou2 shuo1 bu2 shi4 wo3 zhi3 shi4 mei2 nv3 kan4 duo1 le5 xiang3 huan4 ge4 kou3 wei4 er2 yi3\n",
      "008217 huang2 mou3 bin1 cheng1 shi4 fa1 shi2 cai3 sha1 che1 sha1 che1 mei2 fan3 ying4 zao4 cheng2 yu3 qian2 fang1 xiao4 che1 zhui1 wei3\n",
      "008334 nan2 jing1 jing3 fang1 you3 liang3 ge4 ban2 ben3\n",
      "009307 ta1 mei2 xia4 che1 you4 kan4 jian4 wai4 guo2 ren2 chao2 lu4 ren2 rang1 rang1\n",
      "008441 ran2 er2 ci3 shi2 de5 zou1 de2 bao3 yi3 jing1 tao2 pao3\n",
      "009037 ru2 jin1 ge2 qi3 yi4 de5 zhuang1 shi4 gong1 si1 zou3 ru4 le5 zheng4 gui3 sheng1 ji4 wu2 you1\n",
      "009878 wo3 bu4 chi1 ni3 na4 tao4\n",
      "008808 er2 zhe4 kuan3 zhong4 bang4 chan2 pin3 mian4 shi4 hou4 li4 ke4 de2 dao4 le5 da4 zhong4 de5 zhui1 peng3\n",
      "009923 hui4 you3 hen3 feng1 fu4 de5 dong1 xi1 liu2 xia4 lai2 shuo1 dou1 shuo1 bu4 wan2\n",
      "008691 zhe4 ge4 wai4 mian4 dai1 bu4 de2 le5\n",
      "009833 ta1 jian4 zhe4 hao3 wan2 zheng4 chou2 xi2 jiao2 shui3 mei2 chu3 dao3 shun4 da4 shi4 dao3 le5 xia4 qu4\n",
      "009291 ta1 shuo1 wai4 di4 ru2 qi3 ke2 yi3 dao4 shuang1 cheng2 jing1 ying2 can1 yu4 jing4 zheng1\n",
      "009002 zhe4 yang4 zuo4 de5 yi1 ju4 jiu4 shi4 su1 ren2 tong1 er4 san1 qi1 hao4 wen2 jian4\n",
      "008498 la1 che3 qi1 jian1 liang3 wei4 min2 jing3 shou2 zhi3 shou4 shang1 liu2 xie3\n",
      "009473 xie4 xian1 sheng1 tong1 zhi1 le5 hua2 xue3 chang2 gong1 zuo4 ren2 yuan2 bing4 song4 er2 zi5 qu4 le5 yi1 yuan4\n",
      "008448 you1 ku4 ci2 ju3 ke4 guan1 cong1 ming5\n",
      "008192 ta1 de5 zhe4 ju4 hua4 you3 xin1 suan1 you3 wu2 nai4 you3 an1 wei4\n",
      "008216 zhe4 shi4 yu4 fang2 zui4 zao1 jie2 guo3 de5 bao2 xian3 xing4 zheng4 ce4\n",
      "008733 jing2 quan3 jin4 dong1 guan3 she4 qu1\n",
      "009283 bei4 zhi3 bai3 pai1 de5 tiao1 shui3 lao3 ren2 gui4 qiu2 zheng4 fu3 xiu1 lu4 hua4 mian4\n",
      "008525 wei4 le5 yang3 huo5 xiao3 yan4 fu1 fu4 lia3 bei4 le5 bu4 shao3 zhai4\n",
      "009276 yuan2 li3 you2 ren2 xi1 shao3 zui4 da4 de5 can1 guan1 tuan2 jiu4 shi4 zhang1 hua2 san1 ren2\n",
      "008689 yao4 zhi1 dao4 xian1 ku3 hou4 tian2 a1\n",
      "009395 xiao2 xue3 wen4 lao3 ba4 ba4 you3 mei2 you3 bi3 jiao4 kong3 bu4 de5 shu1\n",
      "009138 liu4 shi4 chuang4 xin1 si1 wei2 tui1 chu1 chang2 gui1 de5 jie2 shi4 huo2 dong4 zeng1 qiang2 ti3 yu4 sai4 shi4 de5 chuang4 yi4 he2 she4 ji4\n",
      "008355 bie2 tao3 yan4 ma2 wo3 men5 zhe4 me5 hao3\n",
      "009271 mei2 xiang3 dao4 nan2 fang1 de5 zhe4 ju4 hua4 yi1 xia4 zi5 re3 nu4 le5 nv3 fang1\n",
      "009409 ming2 zui3 yu3 yang1 shi4 de5 qi2 lu4 chi2 zao3 hui4 bao4 lu4 chu1 lai2\n",
      "008795 ta1 yao4 shi4 wo3 de5 peng2 you5 wo3 jiu4 quan4 ta1 ren4 le5\n",
      "009509 you3 ni3 zai4 shen1 bian1 pei2 ban4 de5 ri4 zi5 gan3 jue2 mei3 tian1 dou1 xiang4 du4 jia4 yi1 yang4 kai1 xin1 ne5\n",
      "009141 zhe4 yang4 de5 tiao2 zheng3 fang1 shi4 bi3 jiao4 wen2 tuo3\n",
      "008277 gen1 ju4 jian3 ce4 jie2 guo3 nan2 jing1 shi4 you3 guan1 bu4 men2 li4 ji2 ze2 ling4 xing1 wang4 tu2 zai2 chang3 ting2 ye4\n",
      "008662 mu4 qian2 zheng4 shi4 ta1 men5 cong2 hai2 kou3 su4 chang2 jiang1 er2 shang4 chan2 luan3 fan2 zhi2 de5 gao1 feng1 qi1\n",
      "009450 na4 yang4 de5 ri4 zi5 jian3 zhi2 bu4 gan3 xiang3 xiang4 na4\n",
      "008422 shu3 xia2 gu3 xing2 zi4 ran2 feng1 jing3 lv3 you2 jing3 qu1\n",
      "008617 gou4 fang2 he2 tong2 bai3 zai4 zhuo1 shang4 mai3 jia1 hu2 bing1 chi2 yi2 pian4 ke4 yao3 le5 yao3 zui3 chun2 qian1 ming2 cheng2 jiao1\n",
      "009814 ma3 de2 bao3 de5 li3 lun4 ke4 shang4 de2 ren2 xin1 huan4 san4 liang3 ge4 li3 bai4 li3 tui4 she4 de5 ren2 shu4 dao4 le5 shi2 wu3 ge4\n",
      "008761 ji4 nian4 gong1 qian2 guang2 chang3 ju4 ji2 da4 pi1 min2 zhong4\n",
      "009483 jie4 zhu4 zhe4 zhong3 zeng1 zhang3 dong4 neng2 wo3 men5 jiang1 neng2 bao3 chi2 shi4 chang3 ling3 xian1 di4 wei4\n",
      "009894 tong2 shi2 yu4 suan4 an4 de5 dian4 zi2 ban3 ye3 jiang1 shang4 wang3 ren4 he2 ren2 dou1 ke2 yi3 cha2 yue4\n",
      "009004 wei4 shen2 me5 ji1 feng1 wu1 gao4 xin4 jiu4 you3 na4 me5 da4 de5 po4 huai4 li4\n",
      "009454 zai4 shuo1 zan2 zhe4 li3 yi1 yang4 mei2 you3 shui3 da2 sao3 qi3 lai5 geng1 hua1 gong1 fu1\n",
      "008944 sang1 ta3 na4 jin2 yao3 bu4 fang4 che1 su4 zhi2 zhi4 yi4 bai3 er4 yi4 bai3 san1 shi2 ma3\n",
      "008362 ri4 ben3 nv3 xing1 ze2 kao1 ying1 long2 hua2\n",
      "008305 rang4 qi2 bu2 duan4 de5 sheng1 yu4 bu4 jiu4 wan4 shi4 da4 ji2 le5\n",
      "008164 shi2 duo1 tian1 xia4 lai5 san1 ren2 kai1 shi3 liu2 bi2 xie3 lian2 rang1 rang1 shou4 bu4 liao3 le5\n",
      "009489 you3 shen2 me5 bu2 hui4 de5 jin2 guan3 wen4 wo3 ba1\n",
      "008414 ta1 men5 lia3 xi3 chu1 wang4 wai4 ke3 zhe4 ge4 shi2 hou5 zhao1 sheng1 lao3 shi1 wu2 jiang1 que4 ren2 jian1 zheng1 fa1 le5\n",
      "009714 pao3 che1 che1 shen1 ye3 zheng3 ge4 ao1 xian4 xia4 qu4 che1 tou2 he2 che1 shen1 bu4 wei4 wan2 hao3\n",
      "009485 han4 zi5 shen1 hou4 de5 tu3 qiang2 shang4 ding1 zhe5 yi4 zhang1 ying4 bai2 zhi3 pian4 sha1 shi4 re2 yan3\n",
      "008831 sui2 hou4 liang3 ren2 ju2 qi3 mu4 chui2 jiang1 hun1 jie4 za2 sui4\n",
      "008031 zai4 jiang1 xi1 jiu3 jiang1 lao3 shi1 jiang1 yi4 ming2 xue2 sheng5 de5 er3 duo5 gei3 ning2 duan4 xia4 dai1 quan2 ban1 hai2 zi5\n",
      "009746 er2 qie3 ta1 ke2 yi3 zheng4 chang2 xing2 zou3 jiu4 shi4 you2 dian3 bo3\n",
      "009480 dang4 tian1 mei3 yuan2 dui4 ri4 yuan2 ye3 shang4 zhang3 yi4 dian3 ling2 san1 bao4 qi1 shi2 ba1 dian3 liu4 qi1\n",
      "009977 zhi2 zhi4 gong1 yuan2 qian2 yi1 wan4 yi4 qian1 nian2 ta1 you4 zai4 ci4 chu1 xian4\n",
      "009148 gang1 nong4 le5 ge4 fei1 chang2 hao3 chi1 de5 rou4 bao1 zi3\n",
      "008185 ci3 ci4 fang3 hua2 dai4 bei4 ke4 yu3 zhong1 guo2 fa1 gai2 wei3 jin4 xing2 le5 shen1 ru4 gou1 tong1\n",
      "009582 wei4 shen2 me5 yi2 xiang4 gei3 ren2 qin2 jian3 yin4 xiang4 de5 de2 guo2 ren2 bian4 de5 bu2 hui4 guo4 ri4 zi5 le5\n",
      "009343 wo3 zhi1 xi3 huan5 kan4 xiao3 shuo1\n",
      "008724 fu1 mian4 mo2 lou2\n",
      "009236 piao2 zi1 jiu4 shi4 shou4 hui4 shu4 e2 da4 xiao3\n",
      "008392 zai4 tai4 kong1 zhong1 fei1 chuan2 neng2 yi1 kao4 de5 zhi2 you3 tai4 yang2 neng2 yu3 he2 neng2\n",
      "009825 bu4 hao3 pan4 duan4 ju4 ti3 shi2 jian1\n",
      "009518 dao4 zui4 hou4 qian1 ding4 xie2 yi4 shi2 ta1 shuo1 ta1 ba3 dong3 shi4 zhang3 dang1 shang4 qi2 ta1 ni3 za2 gao3 dou1 hang2\n",
      "009988 man4 tian1 de5 hong2 xia2 shi3 jin4 gei3 liang3 ren2 zeng1 tian1 qi4 fen1\n",
      "008955 geng1 he2 kuang4 hai2 zi5 de5 cheng2 zhang3 huan2 jing4 zhong1 ruan3 tiao2 bao4 li4 ye3 cong2 wei4 duan4 jue2\n",
      "008645 zhi1 hou4 yin1 wei4 yi4 kun3 tie3 si1 ta1 bei4 zhua1 qi1 zi3 zou3 le5 jia1 san4 le5\n",
      "008394 er2 jia4 shi3 yuan2 zhi2 dao4 jiang4 luo4 cai2 zhi1 dao4 fei1 ji1 shang4 da1 cheng2 le5 yi4 tiao2 mang3 she2\n",
      "008270 wu2 shi4 cheng2 hen3 pei4 fu2 cen2 gong3 xian4 fa1 tu3 di4 cai2 de5 neng2 li4\n",
      "008003 zha4 yan3 yi1 kan4 xiang2 qi3 de5 shi4 guang3 zhou1 de5 qu1 hao4 ling2 er4 ling2\n",
      "009854 xi4 xi4 chuai3 mo2 si4 hu1 ye3 po1 wei2 fu2 he2 zheng4 zhou1 huang2 he2 gong1 lu4 da4 qiao2 de5 qian2 shi4 jin1 sheng1\n",
      "008607 guo2 jia1 tong3 ji4 ju2 er4 ling2 yi4 ling2 nian2 de5 shu4 ju4 wei2 ling2 dian3 si4 ba1 yi1\n",
      "009586 er4 shi2 liu4 nian2 qian2 wang2 xin4 chen2 dang1 bing1 lai2 dao4 le5 nan2 hai3 jian4 dui4 mou3 shui3 jing3 qu1\n",
      "008550 xun2 chang2 bai3 xing4 de5 xiao1 shu3 yin2 pin3 jiu4 ci3 cheng2 wei2 she1 chi2 pin3\n",
      "009074 zhi3 shi4 san1 yi4 fang1 mian4 ku3 yu2 mei2 you3 que4 zao2 zheng4 ju4\n",
      "009034 you2 yu2 huo2 chang3 shang4 feng1 li4 bu2 duan4 jia1 da4 you4 jia1 su4 le5 ke3 ran2 wu4 ran2 shao1\n",
      "009979 cong2 wu3 dao4 qi1 qian2 hou4 ye3 jiu4 shi4 liu4 ge4 yue4 de5 shi2 jian1\n",
      "008109 zhang1 da4 zhong1 shen1 shang4 wu2 yi2 ye3 yi2 chuan2 le5 mu3 qin1 zhe4 yi1 jue2 jiang4 de5 xing4 ge2\n",
      "008138 tu1 ran2 che1 zi5 dian1 bo3 le5 yi1 xia4 hong1 yi4 sheng1 hong2 juan1 bei4 shuai3 chu1 che1 wai4 shuai1 dao3 zai4 di4\n",
      "008099 xian4 zai4 de5 ren2 gong1 zhen1 zhu1 ye3 zheng4 shi4 li4 yong4 ge2 bang4 de5 zhe4 yi1 xi2 xing4 lai2 jin4 xing2 pei2 yu4 de5\n",
      "009906 dai4 pei4 ni1 de5 nan2 you3 xi1 mi3 lu4 jie1 chang4 qing2 ge1 rang4 ta1 fei1 chang2 kai1 xin1\n",
      "008357 bao4 dao4 wei4 ti2 mao1 mi1 de5 xia4 chang3\n",
      "009861 zhe4 wei4 lao3 bo2 chi2 lao3 ren2 mian3 fei4 zheng4 shang4 che1 cai2 qu3 ge4 zhong3 ban4 fa3 xing4 sao1 rao3 nv3 cheng2 ke4\n",
      "008041 ni3 zhi1 qian2 qiang2 lie4 fan3 dui4 zao4 cheng2 yun4 dong4\n",
      "008079 gu1 gu5 ni3 de5 xiong1 wei4 shen2 me5 zhe4 me5 xiao3\n",
      "009654 yi3 jun1 you4 kai1 pi4 le5 li2 ba1 nen4 zhan4 chang3\n",
      "009666 beng4 fang2 xia4 bu4 zhu2 ti3 jie2 gou4 yi3 wan2 cheng2\n",
      "009941 xi2 jin4 ping2 shuo1 zhong1 si1 liang3 guo2 ren2 min2 chuan2 tong3 you3 yi4 shen1 hou4\n",
      "009346 zhe4 nian2 tou5 ji1 qi4 ren2 bu2 hui4 shang4 wang3 hai2 zen3 me5 chu1 lai2 hun4 ne5\n",
      "009209 ba1 shi2 ren2 de5 wei1 feng1 luo2 gu3 biao2 yan3 zhan3 shi4 le5 cao3 yuan2 ren2 min2 de5 feng1 cai3\n",
      "009756 tai2 wan1 si1 fa3 ji1 gou4 jin4 lai2 chou3 wen2 bu2 duan4\n",
      "008358 fei1 lai2 heng4 huo4 can2 bu4 ren3 du3\n",
      "008681 wang3 shang4 guo1 mei2 mei3 xuan4 fu4 zhao4\n",
      "008973 jie2 hun1 duo1 nian2 hou4 fu1 fu4 lia3 xiang3 yao4 yi2 ge4 hai2 zi5 dan4 yi4 zhi2 wei4 neng2 ru2 yuan4 huai2 shang4\n",
      "009596 bing1 dao3 geng4 shi4 zhou4 ye4 nan2 bian4 fang3 fu2 jin4 ru4 he2 dong1 tian1\n",
      "009031 bing1 xue3 shang4 wei4 rong2 hua4 chong2 jian4 dian4 wang3 de5 bu4 fa2 yi3 kai1 qi3\n",
      "009506 zhe4 zhong3 chang2 cheng2 xun2 yi4 fei1 dan4 de5 mu4 biao1 shi4 dui4 zhun3 nei3 ge4 guo2 jia1\n",
      "008275 er4 shi4 zhong1 guo2 te4 se4 ji1 ben3 yi1 liao2 wei4 sheng1 zhi4 du4 kuang4 jia4 chu1 bu4 jian4 li4\n",
      "008206 bu2 guo4 ya2 hu3 dong3 shi4 hui4 kan4 lai2 shi4 shou4 gou4 le5\n",
      "008533 ji4 zhe3 kan4 dao4 cui1 bing2 wu3 dang1 shi2 jing1 ying2 de5 you2 xi4 shi4 yi3 jing1 bian4 cheng2 le5 fu2 zhuang1 dian4\n",
      "008775 wen2 zhang1 zhi3 chu1 chen2 shui2 bian3 bu2 hui4 xiang4 you3 li3 nian4 de5 zheng4 zhi4 fan4 ning4 yuan4 e4 si3 ye3 bu4 qu1 fu2\n",
      "008651 mu4 qian2 huan4 gu3 shi4 yi4 zhong3 ke3 xing2 de5 cao1 zuo4 ce4 lve4\n",
      "008664 jin4 xing2 sheng1 ji2 gei3 nin2 dai4 lai2 bu2 bian4 qing3 liang4 jie3 xiang2 xun2 jiu2 wu3 wu3 liu4 liu4\n",
      "009304 ta1 bu4 jin3 zi4 ji3 xi1 du2 er2 qie3 ba3 er2 zi5 ye3 dai4 le5 jin4 lai2\n",
      "008867 qiang2 hua4 fang2 wu1 zu1 lin4 deng1 ji4 bei4 an4\n",
      "008629 chou3 xiao3 ya1 sui1 ran2 zai4 xiang1 xia5 que4 you3 zhe5 yuan3 da4 de5 zhi4 xiang4 yi4 zhi2 zai4 mo4 mo4 nu3 li4\n",
      "009048 dan4 shi4 xian4 shi2 zhong1 zui4 zhong1 yi4 ban1 dou1 nan2 yi3 huo4 de2 kuan1 yu4 de5 pei2 chang2\n",
      "008028 gong1 an1 ji1 guan1 chu1 bu4 cha2 ming2 an4 jian4 shi4 you2 bai2 jia1 mao3 mei2 kuang4 kuang4 quan2 jiu1 fen1 yin3 fa1 de5\n",
      "009745 bu2 yao4 fen4 nu4 ye3 bu2 yao4 shi4 tu2 gai3 bian4 you2 xi4 gui1 ze2\n",
      "008086 ji2 jiu4 ren2 yuan2 jiang1 nan2 tong2 song4 dao4 ya3 bao3 lu4 fu4 jin4 de5 shou3 du1 er2 yan2 suo3\n",
      "008085 wei4 le5 mi2 bu3 ju4 e2 kui1 kong1 deng4 sheng4 tang2 qu1 jin3 ming2 kai1 shi3 shi2 shi1 zha4 pian4\n",
      "008920 ji2 shi3 wo3 men5 zu3 shang4 zhi1 dao4 zu3 zong1 shi4 cao2 cao1 ye3 bu2 hui4 gong1 kai1 dui4 wo3 men5 shuo1\n",
      "008906 shi4 zhang3 de5 xiang4 xiang1 jiao1 yi1 yang4 de5 na4 qun2 hen3 meng2 de5 dong4 hua4 ren2 wu4\n",
      "008335 yu2 xiong2 tuo1 xia4 yi1 fu2 ji3 chu1 yi1 di4 de5 han4 shuo1 xi2 zao3 qu4 ba1\n",
      "008630 huang2 yan2 jiu3 feng1 gong1 yuan2 de5 mi3 shai1 jing3 geng4 shi4 ren2 man3 wei2 huan4 shang4 qian1 ren2 pai2 dui4 da3 shui3\n",
      "008762 wo3 men5 he2 kai1 fa1 shang1 qian1 yi1 fen4 wei3 tuo1 xie2 yi4 pao3 shou3 xu4 gai4 fang2 zi3 dou1 you2 ta1 men5 qu4 zuo4\n",
      "009916 sui2 zhe5 tian1 qi4 zhuan3 re4 ge4 di4 de5 you2 yong3 chang2 suo3 kai1 shi3 ren2 tou2 cuan2 dong4\n",
      "009198 zhe4 yi4 wei4 zhe5 jiu4 suan4 guo2 mei3 dian4 qi4 zeng1 fa1 huo4 de2 tong2 yi4 huang2 jia1 ye3 you3 qian2 kang2 guo4 qu4\n",
      "008960 dan4 ao4 di2 che1 li3 de5 ren2 tai4 du4 bi3 jiao4 man2 heng4 shuang1 fang1 jiang1 chi2 bu2 xia4\n",
      "009282 mo4 ming2 bei4 ci4 shang1 dao3 mei2 de5 xu3 kui2 zhen1 zheng4 shi4 tang3 zhe5 ye3 ai1 dao1\n",
      "009611 huo4 che1 de5 wei3 bu4 yi3 jing1 ao1 xian4 bian4 xing2\n",
      "009262 qi2 zhong1 zui4 kuai4 xing2 dong4 de5 dang1 shu3 tian1 mao1 de5 lao3 yuan1 jia1 jing1 dong1 shang1 cheng2\n",
      "008700 bie2 dong4 wo3 hai2 mei2 kan4 wan2 ne5\n",
      "009180 zhe4 ci4 ao4 yun4 gong1 cheng2 jian4 she4 ke2 yi3 shuo1 shi4 wo3 men5 ge4 xiang4 huan2 bao3 xin1 ji4 shu4 ying4 yong4 de5 da4 quan2\n",
      "008730 di1 xia4 er2 ping2 yong1 de5 chan2 pin3 ken3 ding4 bu4 neng2 cheng2 wei2 ming2 pai2\n",
      "008834 fu4 cha2 zhi1 hou4 cai2 fa1 xian4 zhi4 chuang1 zhi1 ge1 le5 yi2 ban4\n",
      "009536 tui1 er2 yan2 zhi1 gu3 xi1 la4 zhe2 xue2 shi4 jing4 guan1 de5 ta1 fan3 ying4 le5 chao1 yue4 xian4 shi2 de5 li2 xiang3\n",
      "009927 da4 jia1 tai2 tou2 wang4 qu4 yi4 zhi1 lao2 shu3 zheng4 pa1 zai4 diao4 ding3 shang4\n",
      "008758 ma1 ma5 ca1 shi4 di4 ban3 gan3 dong4 le5 hen3 duo1 ren2\n",
      "009477 zhe4 gu3 xuan4 feng1 xiang4 ta1 de5 dui4 mian4 kuai4 su4 yi2 dong4 cai3 gang1 ban3 ye3 gen1 zhe5 pao3\n",
      "008181 qian2 rong2 bu2 xie4 dao4 wo3 zhi4 shao3 du2 guo4 yi1 wan4 ben3 shu1 wo3 qu4 zuo4 zhe4 zhong3 shi4 juan4 tai4 lang4 fei4 wo3 de5 cai2 qi4\n",
      "009817 qin1 shu3 men2 si1 hao2 mei2 you3 huai2 yi2 jiang1 ping2 ri4 ji1 zan3 de5 cun2 kuan3 jiao1 dao4 le5 ta1 de5 shou3 shang4\n",
      "008842 zhe4 neng2 bu4 bei4 shi4 ren2 xiao4 hua5 ma2\n",
      "008465 ji2 bian4 shi4 wei2 fa3 jian4 zhu4 ni3 ye3 dei3 gao4 su4 wo3 na3 ge4 di4 fang1 wei2 fa3 za3 wei2 fa3 le5\n",
      "008849 wo3 men5 yuan2 zhu4 de5 jie2 guo3 shi4 shen2 me5\n",
      "008312 bian1 zuan3 chu1 ban3 yuan3 dong1 guo2 ji4 jun1 shi4 fa3 ting2 ting2 shen3 ji4 lu4 yi4 yi4 shen1 yuan3\n",
      "009434 nv3 wo3 kan4 dao4 yi1 liang4 bao2 ma3 cai2 bu2 dao4 liang3 bai3 wan4\n",
      "008802 lin2 zhou1 shi4 di4 wu3 ren2 min2 yi1 yuan4 shi4 shou4 ci3 ci4 ting2 zhi3 gong4 nuan3 ying2 xiang3 de5 yi4 jia1 yi1 yuan4\n",
      "009020 hou4 mian4 de5 hua4 ta1 yi3 jing1 ting1 bu2 dao4 le5 bu4 jian3 fei2 ning4 ke3 si3\n",
      "008325 xiao2 lei3 zuo4 zhe5 zui4 hou4 de5 zheng1 zha2 dan4 deng1 chuai4 de5 shuang1 jiao3 zhu2 jian4 wu2 li4 duan4 le5 qi4\n",
      "008173 lin2 qu4 qian2 pai1 pai1 xiong1 shuo1 wo3 qu4 jian4 shi2 yi1 xia4 ta1\n",
      "009260 zhen1 shi5 de5 fei1 yao4 wo3 fang4 xia4 shen1 duan4\n",
      "008413 feng2 nian2 guo4 jie2 shi2 ni2 hong2 mei2 ye3 hui4 duo1 bao1 xie1 hun2 tun2 he2 bao1 zi5 song4 gei3 liu2 jie3\n",
      "008527 ni3 shuo1 de5 shi4 na4 ge4 yu2 le4 quan1 de5 ji4 jian2 wei3 ma2\n",
      "009560 dui4 yu2 fan3 dui4 pai4 wo3 yi4 zhi2 jue2 de5 ta1 men5 hen3 ang1 zang1\n",
      "009590 zhe4 ci4 bu3 ke4 ye3 yi1 yang4 mei2 ren2 yao4 ting1 ta1 de5 ke4\n",
      "008624 ta1 bu2 hui4 xie3 zi4 yu2 shi4 jiu4 en4 le5 shou3 yin4\n",
      "009055 bai3 ming2 jiang1 jun1 zhi2 shu4 yi3 cheng2 wei2 yi4 wu4 zhi2 shu4 huo2 dong4 de5 dian3 fan4\n",
      "008825 wang3 shang4 guan1 yu2 mi4 mi4 ju1 bu3 de5 shuo1 fa3 song3 ren2 ting1 wen2\n",
      "008322 tong2 shi2 yao4 niu2 zhuan3 ren2 men5 de5 cuo4 wu4 ren4 shi2 zhuan3 bian4 guan1 nian4\n",
      "009467 tong2 shi2 jie1 dao4 jing1 duo1 fang1 zou2 fang3 qiu2 zheng4 zui4 zhong1 que4 ren4 le5 jiu4 ren2 zhe3 jiu4 shi4 feng2 shi4 gen4\n",
      "009384 jiu4 hong1 zhe5 le4 le4 le4 le4 ye3 an1 jing4 xia4 lai2 le5 bing4 mei2 you3 chu1 xian4 ren4 he2 zheng4 zhuang4\n",
      "008749 wang2 mou3 leng3 bu4 fang2 bei4 da3 de2 yi2 ge4 lie4 qie4 bu4 de2 bu4 fu2 zhu4 lou2 ti1\n",
      "008879 wo3 mei2 you3 bu4 kai1 xin1 jiu4 wan2 wan2 yi1 xia4\n",
      "008632 lian3 bu4 shang1 shi4 zui4 wei2 yan2 zhong4 you3 hao3 ji1 chu3 yi3 bei4 feng2 he2 de5 shang1 kou3 can2 bu4 ren3 du3\n",
      "008721 wo3 hen3 zhu4 yi4 yan2 mian4 da1\n",
      "009650 wo3 men5 jiu4 ke2 yi3 rong2 ren3 ru2 ci3 can2 bu4 ren3 du3 de5 ju2 mian4\n",
      "008923 zai4 deng3 jia1 ren2 jie1 ji1 shi2 ai4 wei1 er2 suo3 xing4 zuo4 zai4 di4 shang4 li3 xiu4 fa1 bu4 ju1 xiao3 jie2\n",
      "008796 bie2 lan2 wo3 wo3 zai4 xia4 mian4 da3 de2 shun4 shou3 xie1\n",
      "008591 xiao3 nan2 hai2 e2 tou2 shang4 han4 cen2 cen2 de5 mo1 shang4 qu4 que4 mei2 you3 fa1 tang4\n",
      "008071 yi4 qu3 feng1 feng1 huo2 huo3 chuang3 jiu3 zhou1 chang4 bi4 ta1 you4 huan4 shang4 yi4 yu4 feng1 qing2 de5 xin1 jiang1 ge1 wu3\n",
      "009661 ni2 dian3 ni2 dian3 ni2 dian3 er4 hun4 zi3\n",
      "008665 zhe4 shi4 jia1 fu1 qi1 dian4 dian4 zhu3 ye3 xi1 wang4 duo1 ge5 bang1 shou3 jiu4 shou1 liu2 le5 ta1\n",
      "009337 ni3 kan4 guo4 wo3 jia1 bao3 xian3 gui4\n",
      "008885 sui2 hou4 jin4 ru4 er2 hai3 shi1 di4 gong1 yuan2\n",
      "009769 zhe4 ci4 zhu3 ren2 ba3 wo3 nan2 dao4 le5\n",
      "009720 ji4 zhe3 men2 yi4 ban1 dou1 shi4 zai4 da2 wen4 huan2 jie2 cai2 tu1 ran2 jing1 shen2 dou2 sou3\n",
      "008698 zhe4 shen2 me5 ge1 ya1\n",
      "009389 bu2 liao4 liu4 ci4 cai3 guang1 jin3 zuo4 le5 san1 ci4 ta1 de5 lian3 shang4 jiu4 qi2 man3 ge1 da1\n",
      "008382 ta1 bu4 gan3 zai4 shuo1 xia4 qu4 pa4 qian2 rong2 you4 duo3 zai4 wai4 wen2 li3 ma4 ta1 he2 xie4 jing3 yuan1 shuo1 hua4 ni3 zai4 kan4 shen2 me5 shu1\n",
      "009222 huo4 zhe3 dian4 dong4 che1 ye3 ke2 yi3 rao4 xing2\n",
      "008524 yi4 zhi2 yi3 lai2 ren2 min2 bi4 dui4 mei3 yuan2 sheng1 duo1 bian2 shao3\n",
      "008207 cang1 wei4 pu3 bian4 pian1 di1 de5 ji1 jin1 dong4 xiang4 ru2 he2\n",
      "009921 ta1 ben3 xiang3 shuo1 jiao4 yu4 ju2 guan3 zhe4 ge4 ta1 men5 shi4 yi1 lu4 de5 zhe4 yang4 yi4 guan3 qi3 bu2 shi4 ji4 nv3 qi3 piao2 ke4\n",
      "009479 wo3 gan2 jin3 fan1 qian2 bao1 wan2 le5 jiu4 sheng4 wu3 mao2 le5 bao4 jing3 ba1 shou3 ji1 ne5\n",
      "008263 ni3 ren4 zhun3 wo3 jiu4 hang2 le5 wo3 shi4 gong1 an1 ju2 de5 jiao4 yang2 yu4 zhang1\n",
      "009005 gang1 mai3 de5 ku4 zi5 bu2 dao4 shi2 fen1 zhong1 ni3 jiu4 nong4 po4 le5\n",
      "008899 ji2 bian4 bu4 ai4 kan4 chao1 ji2 wan3 de5 ren2 ye3 hui4 zai4 zhe4 ge4 shi2 hou5 lai2 shu4 xing1 xing5\n",
      "009265 gai1 che1 si1 ji1 shi4 xi1 an1 ren2 lv2 mou3\n",
      "008972 ta1 ren4 wei2 shi4 yang3 fu4 mu3 zai4 qin1 qi1 de5 song2 yong3 xia4 he2 zi4 ji3 duan4 le5 shou1 yang3 guan1 xi4\n",
      "009528 lin2 ju1 fan3 ying4 dang1 shi2 wu1 nei4 ming2 huo3 bu4 da4 dan4 shi4 nong2 yan1 qiang1 ren2\n",
      "008321 cai4 rou4 zuo4 liao5 bi3 li4 xin1 shou3 zhang3 wo4 bu4 liao3\n",
      "008494 su1 lian2 jie2 ti3 hou4 su1 lian2 de5 tan3 ke4 yan2 fa1 li4 liang4 ye3 sui2 zhi1 fen1 shu3 e2 wu1 liang3 ge4 guo2 jia1\n",
      "009656 liu4 ge4 nan2 hai2 wan2 dao4 xing1 qi3 shuo1 qi3 le5 huang2 se4 xiao4 hua4\n",
      "009221 qiang3 jie2 de5 zhu3 yi5 shi4 dong3 mou3 chu1 de5\n",
      "008769 xu2 qiang2 shang4 qian2 la1 kai1 liang3 ren2 jin3 jie1 zhe5 ta1 he2 wang2 hua2 che3 da3 qi3 lai5\n",
      "008958 yu2 shi4 zhang1 mou3 tao1 chu1 le5 shen1 shang4 dai4 zhe5 de5 dian4 xian4 jiang1 huang2 lao3 tai4 lei1 si3\n",
      "008850 dan4 feng4 huang2 xian4 que4 shi4 gan1 ga4 de5\n",
      "009730 wu3 shi4 xiong2 hou4 de5 cai2 li4 zhi1 chi2 qi2 chi2 xu4 ling3 xian1\n",
      "008054 chai1 xian4 de5 shi2 hou5 mei2 you3 yong4 ma2 yao4 xiao3 zeng1 teng2 de2 yao3 ya2 lie2 zui3 mei2 you3 zhi1 sheng1\n",
      "009895 qi3 chu1 he2 cheng1 ming2 lou3 zhe5 yi1 wei4 nv3 xing4 you3 ren2 de5 ge1 bo2 bian1 zou3 bian1 liao2\n",
      "008519 ge4 ren2 yi4 shi2 cong2 xing4 ming2 shang4 ye3 hui4 biao3 xian4 chu1 lai2\n",
      "008344 shi4 bu2 shi4 shen1 ti3 bu4 shu1 fu2 ya1\n",
      "009321 xiao3 dui4 wan2 cheng2 bu4 liao3 ren4 wu4 ling2 dao2 zhe3 ye3 yao4 fu4 chu1 dai4 jia4\n",
      "008678 ping2 shen2 me5 ruo4 gan1 nian2 hou4 fen1 shou3 de5 shuang1 fang1 yi2 ding4 hui4 zai4 ni2 hong2 shan3 shuo4 de5 jie1 tou2 chong2 feng2\n",
      "008121 ying1 cai3 er2 yang2 yan2 yi2 dan4 you3 xiao3 hai2 de5 hua4 zi4 ji3 jiu4 hui4 wan2 shi1 zong1\n",
      "009174 yang2 mi4 dang1 zhi1 wu2 kui4 de5 ren2 qi4 nv3 xing1 cuan1 hong2 su4 du4 he2 da3 ji1 mian4 nan2 yi3 qi3 ji2\n",
      "009609 ci3 ci4 sui1 ran2 zi1 jin1 bu4 duo1 dan4 dui4 yu2 zai4 jian4 xiang4 mu4 reng2 ran2 hen3 jie2 ke3\n",
      "008650 si1 xiang3 de5 fei1 yue4 gei3 xin1 hui4 dai4 lai2 bo2 bo2 sheng1 ji1\n",
      "009001 wo3 men5 cheng2 shi4 de5 fu4 su1 you3 lai4 yu2 ta1 qiang2 you3 li4 de5 zheng4 ce4\n",
      "008975 dian3 xin5 jin1 ri4 hai2 tui1 chu1 dian3 xin5 tong1 xun4 lu4 dian3 xin5 he2 tong2 bu4 deng3 xin1 gong1 neng2\n",
      "009557 ju4 xi1 zai4 fan3 qin1 yan4 shang4 zhan3 shi4 nv3 fang1 jia4 zhuang5 shi4 jin4 jiang1 yi1 dai4 te4 you3 de5 xi2 su2\n",
      "009786 ni3 shi4 fou3 you3 xing4 qu4 yu3 ta1 de5 ju4 long2 feng1 zheng1 yi4 qi3 fei1 tian1 ne5\n",
      "008715 cuo1 zhe5 cuo1 zhe5 wo3 de5 shou3 bei4 shang4 jiu4 cuo1 chu1 ni2 lai2 le5\n",
      "009481 sun1 xing1 ken2 qing3 gong1 zhong4 ba3 xin4 ren4 chong2 xin1 jiao1 hui2 dao4 zi4 ji3 de5 shou3 shang4\n",
      "009278 xie4 mou3 he2 yuan2 mou3 jing1 xing3 meng3 de5 zhan4 qi3 lai5 guo4 lai2 qiang1 ping2 zi5\n",
      "008157 ge2 zi5 jian1 dang1 zhong1 zhi1 lan2 zhe5 di1 ai3 de5 qiang2 ban3 mei2 you3 ren2 shi4 zhen1 zheng4 li2 qun2 de5\n",
      "009642 jin1 zao3 fa1 xian4 zi4 ji3 bei4 la1 hei1 le5\n",
      "008189 zhe4 dui4 yu2 bao3 hu4 quan2 li4 jie2 yue1 she4 hui4 cheng2 ben3 deng3 dou1 shi4 you3 hao3 chu4 de5\n",
      "009178 you2 yu2 wu2 fa3 jin4 ru4 zhi3 hui1 bu4 ta1 men5 shen4 zhi4 he2 zha4 lan2 dui4 mian4 de5 bao3 an1 ding2 qi3 le5 niu2\n",
      "008333 shi4 hen3 hao3 chi1 de5 bing1 qi2 lin2 a1\n",
      "009079 ta1 shen1 cai2 ai2 xiao3 quan2 gu3 tu1 chu1 liu2 zhe5 xiao3 hu2 zi3 shuo1 hua4 yi4 kou3 nong2 zhong4 de5 fu2 jian4 kou3 yin1\n",
      "009078 wo3 de5 sun1 nv3 shuo1 ta1 xian4 zai4 bu4 yuan4 yi4 qu4 shang4 xue2\n",
      "009396 chen2 shui2 bian3 yi3 san1 gui4 jiu3 kou4 de5 fang1 shi4 jin4 ru4 ling2 tang2\n",
      "009613 bu2 guo4 tu3 jiao1 zuo1 fang1 bing4 wei4 cong2 ci3 zai4 shan1 dong1 jue2 ji4\n",
      "009287 jian4 jian4 de5 li3 qiang2 de5 ping2 jia4 bian4 cheng2 le5 bu4 kai1 qiao4 wo1 nang1 fei4\n",
      "008767 xiao3 gu4 yu3 fang1 shuo4 shi4 shi4 gao1 zhong1 tong2 xue2 gao1 zhong1 bi4 ye4 hou4 wei4 ceng2 lian2 xi4\n",
      "008364 jiu4 deng3 yu2 he2 zu1 lin4 cha4 bu4 duo1\n",
      "009792 suo2 yi3 gu3 ge1 zhe4 ci4 ren2 shi4 bian4 dong4 shou4 dao4 wai4 jie4 pu3 bian4 guan1 zhu4\n",
      "009693 zhe4 xie1 wai4 biao3 guang1 xian1 de5 ren2 zuo4 chu1 le5 wo4 chuo4 ang1 zang1 de5 chou3 shi4 ji4 zhu5 ta1 men5 de5 ming2 zi5\n",
      "008800 yin1 wei4 di4 xia4 zao2 dong4 zhen4 dong4 shui3 lou4 mei2 le5\n",
      "008897 bi3 ru2 jiu4 you3 wang2 you3 na2 ta1 yi1 kai1 kou3 wo3 jiu4 geng3 ye4 le5 de5 kou3 tou2 chan2 kai1 shuan4\n",
      "008346 fen3 shua1 yi3 qian2 hai2 bi3 na4 li4 hai5\n",
      "009472 tu2 zhong1 you3 yi4 chu3 ming2 xian3 cuo4 wu4 ji2 mei2 you3 ba3 tai2 wan1 hua2 wei2 zhong1 guo2 de5 ling2 tu3\n",
      "009994 jie1 xia4 lai2 hong2 niang2 yao1 qiu2 ji4 zhe3 jiao1 fei4 ji4 zhe3 biao3 shi4 bu4 zhi1 biao2 jie3 shen1 fen4 zheng4 hao4 ma3\n",
      "008209 piao2 xi3 qi3 ye4 jiu4 xiang4 yi4 tou2 ben4 zhong4 de5 shou4 lei4 xiang3 yao4 zhuan3 shen1 kun4 nan2 chong2 chong2\n",
      "008657 si3 huo2 bu4 zou3 de2 rang4 ni3 nuo2 kai1 xie1\n",
      "009608 min2 jing3 you4 sheng1 yi1 ji4 qie1 duan4 zhe4 ming2 lao3 shi1 jia1 de5 dian4 yuan2\n",
      "009095 zhan2 lan3 jiang1 dui4 quan2 ti3 guan1 zhong4 shi2 xing2 mian3 fei4 ru4 chang2 ti2 gong1 yi4 wu4 jiang2 jie3\n",
      "008880 hou2 pei4 cen2 ye3 gen1 zhe5 hong2 le5 yan3 kuang4\n",
      "009556 guo4 qu4 ji1 shi2 nian2 yan2 hai3 zhi1 suo2 yi3 fa1 zhan3 xun4 su4 jiu4 shi4 yin1 wei4 jin4 xiang5 wu4 liu2 bian4 li4\n",
      "009316 shi2 er4 ri4 ou1 yuan2 dui4 mei3 yuan2 de5 bi3 jia4 shi4 yi4 bi3 yi4 dian3 san1 wu3 jiu3 san1\n",
      "008098 wu1 ding3 de5 diao4 deng1 ye3 zai4 bu4 ting2 de5 huang3\n",
      "009425 ci3 tie4 li4 ji2 zai4 wang3 shang4 yin2 qi3 re4 chao3\n",
      "008087 wei2 bu4 ying2 xiang3 zheng4 zai4 yi1 xian4 jiu4 ren2 de5 yin2 ga3 ji4 zhe3 gua4 duan4 le5 dian4 hua4\n",
      "008397 yang2 hong2 wei4 hai2 you3 yi2 ge4 xi2 guan4 shi4 jing1 chang2 zong4 qing2 yin2 jiu3 he1 de2 ming3 ding3 da4 zui4\n",
      "009933 zai4 shuo1 guan1 yu2 li4 yi4 shang4 de5 shi4 an3 lia3 dou1 bu4 hao3 kai1 kou3\n",
      "009264 mu3 he2 ma3 zai4 shui3 zhong1 lie3 zhe5 da4 zui3 hao3 xiang4 zai4 xiao3 you2 ke4 men2 pao2 xiao4\n",
      "008968 you3 yi4 xie1 bu4 neng2 wan2 quan2 gui1 na4 wei2 gan1 rao3 zu3 ai4 you3 yi4 xie1 shi4 ren4 shi2 bu4 yi2 zhi4\n",
      "008752 dang1 shi2 ma1 ma5 ba3 wo3 jin2 jin3 lou3 zai4 huai2 li3\n",
      "008726 geng3 xiao3 hua2 xiang4 gong1 yu3 hui4 bao4\n",
      "008431 zheng4 hang2 shuo1 yi3 pu3 tong1 gong1 min2 shen1 fen4 qi3 su4 jiu4 shi4 wei2 pie1 qing1 lan4 yong4 gong1 quan2 li4 zhi1 xian2\n",
      "009325 ma3 yun2 you3 yi4 ling2 er4 nian2 de5 ji4 hua4 wo3 you3 san1 ling2 nian2 de5 ji4 hua4\n",
      "009874 wo3 shuo1 yan1 bu2 xia4 zhe4 kou3 qi4\n",
      "008262 rao2 fu4 gui4 shuo1 ci3 hou4 yuan2 rao2 ye3 bei4 zhao3 qu4 zuo4 le5 ji4 lu4\n",
      "008150 ta1 shen4 zhi4 you2 dian3 chuan3 qi4 kun4 nan2 shuo1 ju4 lian2 guan4 de5 hua4 dou1 xian3 de5 yi4 chang2 jian1 nan2\n",
      "008327 fu1 qi1 lia3 yu2 shi4 zheng1 chao3 qi3 lai5\n",
      "009044 you3 ren2 fa1 chu1 zhe4 yang4 de5 yi2 wen4 fan4 du2 zhi4 zao4 jia3 yao4 mei2 you3 ren2 guan3 ma2\n",
      "008949 wo3 shi4 meng2 meng2 da1 ni3 shi4 dai1 dai1 da1\n",
      "009241 da4 ren2 men5 bu4 dong3 wo3 men5 de5 shi4 jie4\n",
      "009947 zuo2 wan3 hua2 xi1 du1 shi4 bao4 ji4 zhe3 dian4 hua4 cai2 fang3 le5 yin3 qi2\n",
      "008202 ta1 kan4 zhe5 luo2 tian1 cheng2 he2 ta1 xiao3 mei4 jiu4 yan3 hong2\n",
      "008745 xu2 xiao3 xia2 ma3 shang4 jiao4 ren2 zhao3 che1 ba3 lao3 ren2 song4 dao4 le5 xiang1 zhen4 wei4 sheng1 yuan4\n",
      "009737 wo3 tian1 tian1 chao3 cai4 zuo4 fan4 gei3 ta1 wei4 de5 bao2 bao3 de5\n",
      "009047 bi1 ze4 de5 hang4 dao4 liang3 pang2 lin2 li4 zhe5 xiao2 shou3 gong1 zuo4 fang1 de5 zhao1 pai5\n",
      "008901 cheng2 hui4 lin2 shi4 chao2 xian3 dang1 shi2 zui4 xing4 gan3 de5 dian4 ying3 ming2 xing1\n",
      "009562 jin1 se4 de5 kua1 zhang1 mao3 ding1 shou3 zhuo2 he2 shan2 shan3 liang4 de5 jin1 se4 bao1 bao1 hu1 ying4 de2 gang1 gang5 hao3\n",
      "009154 dao4 hun2 chun1 shou3 xian1 gan3 shou4 dao4 de5 shi4 hun2 chun1 ren2 de5 na4 fen4 zi4 hao2 gan3 shi3 ming4 gan3\n",
      "009356 zhi2 dao4 dong1 chuang1 shi4 fa1 cai2 zhi1 dao4 song2 yong3 ta1 mai4 yin2 de5 wang2 yuan4 zhang3 jing4 shi4 zi4 ji3 de5 zhang4 fu1\n",
      "009100 ke1 pu3 huo2 dong4 jie2 shu4 hou4 jing1 xuan3 chu1 ban3 le5 ren2 wen2 zhi1 chuang1 yi4 shu1 shou4 dao4 guang3 da4 du2 zhe3 de5 huan1 ying2\n",
      "008981 xi1 ri4 de5 wang3 tan2 nv3 huang2 zen3 me5 bei4 bie2 ren2 gao4 shang4 le5 fa3 ting2 ne5\n",
      "009050 zheng4 shi4 zhe4 zhu4 ming2 de5 feng1 zheng1 shi2 yan4 cheng2 jiu4 le5 ta1 dian4 xue2 zhi1 fu4 de5 di4 wei4\n",
      "009904 li3 shu4 de2 zai4 li2 kai1 zhi1 qian2 zhi1 shuo1 le5 yi1 ju4 zhu4 tuo2 sha1 fu4 qin1 le5\n",
      "008444 ke3 na4 xie1 ji1 tou2 shi4 mai4 yin2 piao2 chang1 de5 zu3 zhi1 zhe3 shi4 hou4 tai2 lao2 ban3 shi4 zui4 da4 de5 ying2 li4 zhe3\n",
      "008151 tu1 ran2 you3 yi2 ge4 nv3 de5 wu3 zhu4 wo3 de5 yan3 bing4 yong4 ju4 wen1 rou2 de5 sheng1 yin1 shuo1 cai1 cai1 wo3 shi4 shui2\n",
      "009385 zhi3 yao4 xiang4 yi3 qian2 yi1 yang4 ta1 ta1 shi2 shi2 de5 gan1 yi2 ding4 neng2 hui1 fu4 guo4 lai2\n",
      "008103 ji3 tian1 hou4 yuan2 nv3 shi4 zai4 yi1 yuan4 zuo4 le5 fu4 qiang1 jing4 xia4 luan3 chao2 you4 fu4 jian4 qie1 chu2 shu4\n",
      "008866 ha1 sa4 ke4 si1 tan3 zong2 tong3 yi3 xuan1 bu4 gai1 zhen4 jin4 ru4 jin3 ji2 zhuang4 tai4\n",
      "008218 you2 yu2 lie4 che1 chang2 shi2 jian1 ting2 kao4 che1 xiang1 nei4 de5 kong1 qi4 yue4 lai2 yue4 men4\n",
      "008065 bu4 qing1 guo2 bu4 qing1 cheng2 qing1 jia1 dang4 chan3\n",
      "009052 you3 shi2 zhuo1 zi5 shang4 shu1 hong2 le5 yan3 yu2 le4 cheng2 le5 ou4 qi4 ye3 bu4 hao3\n",
      "008637 qiang1 an4 fa1 sheng1 hou4 jing3 fang1 feng1 suo3 le5 man4 ha1 dun4 duo1 tiao2 jie1 dao4\n",
      "008853 dian4 ying3 kua3 le5 wo3 ke2 yi3 bu4 xin1 teng2\n",
      "009016 wei4 le5 duo1 zheng4 ji3 ge4 fa3 lang2 ta1 mei3 zhou1 chao1 fu4 he4 de5 gong1 zuo4\n",
      "008226 xian4 zai4 zuo4 zhe4 ge4 de5 ren2 ye3 yue4 lai2 yue4 shao3 le5 wo3 duo1 zuo4 yi1 jian4 jiu4 duo1 liu2 yi1 jian4 bei5\n",
      "008627 dai4 zhe5 ni3 de5 ai4 wo3 hui4 shui4 de5 hen3 xiang1 tian2\n",
      "008914 dao2 yan3 gen1 heng1 ren4 wei2 nian2 qing1 ren2 de5 pang2 huang2 he2 zheng1 zha2 wang2 wang3 shi4 ta1 men5 cheng2 zhang3 de5 guo4 cheng2\n",
      "008499 liang3 ren2 qi3 chu1 chao3 chao3 nao4 nao4 hou4 lai2 zhui4 ru4 ai4 he2\n",
      "009734 ni3 nian2 fang1 shi2 ba1 yi4 zhi1 hua1 nian2 fang1 er4 ba1 hui4 cheng2 jia1 nian2 fang1 san1 ba1 you3 qian2 hua1 zen3 me5 yang4 zhun3 ma2\n",
      "008439 dui4 yuan2 men2 zhi1 dao4 ta1 men5 shen1 shang4 you3 jia1 huo5\n",
      "008628 ni3 chi1 guo4 tiao4 shui3 huang2 hou4 zuo4 de5 fan4 ma2\n",
      "008161 jia1 qiang2 qing1 nian2 ti3 yu4 fang1 mian4 de5 jiao1 liu2 yu3 he2 zuo4\n",
      "009636 sui2 hou4 you4 yu3 yi1 qian2 lai2 zu3 lan2 de5 cun1 min2 niu2 da3 qi3 lai5\n",
      "009490 ying4 lang3 de5 che1 shen1 yao1 xian4 cong2 che1 qian2 da4 deng1 chu2 qi3 yi4 zhi2 gang1 jin4 you3 li4 de5 yan2 shen1 xiang4 hou4\n",
      "009393 ge2 wei3 sheng4 ba3 che1 zi5 ting2 zai4 li2 ce4 suo3 jin4 de5 di4 fang1\n",
      "009558 jin4 ru4 qi4 che1 shi2 dai4 yi3 lai2 ren2 men5 si4 hu1 yi1 ke4 ye3 li2 bu4 kai1 gun2 gun3 de5 che1 lun2\n",
      "009308 xian4 zai4 yi3 jing1 jian4 ge2 wu3 shi2 jiu3 nian2 ming2 xian3 chao1 qi1 le5\n",
      "008303 wo3 men5 dang3 dai4 ling3 ren2 min2 pu2 xie3 le5 zhong1 hua2 min2 zu2 zi4 qiang2 bu4 xi1 wan2 qiang2 fen4 jin4 de5 zhuang4 li4 shi3 shi1\n",
      "008378 hao3 tian1 qi4 jiu4 shi4 yao4 chu1 lai2 guang4 you3 gou3 de5 liu4 gou3 you3 wa2 de5 bao4 wa2 dou1 mei2 you3 de5 ni3 bao4 wo3 ba1\n",
      "009673 wo3 na2 dao1 jiu4 kan3 le5 zhao4 zuo4 hai3 yi4 dao1\n",
      "008228 ling4 yi1 zao4 xing2 shi4 yi3 ping2 guo3 zuo4 dian3 zhui4 yi4 shen1 xian1 hua1 tu2 an4 chang2 qun2 de5 nv3 xing1 zhuang1 ban4\n",
      "009581 pan1 mou3 zhuan3 shen1 he2 he2 mou3 dui4 da3 bing4 shi4 tu2 qiang1 guo4 he2 mou3 de5 cheng4 tuo2\n",
      "009014 mei3 jun1 wei4 he2 hai2 po4 bu4 ji2 dai4 de5 yao4 dong4 yong4 di4 si4 bu4 bing1 shi1\n",
      "009662 bei4 shao1 cheng2 kong1 jia4 de5 dian4 pu4 zhao1 pai5 yi3 kan4 bu2 jian4 le5\n",
      "008951 zhe4 jian1 zhong1 yu2 you3 le5 fan3 kui4 ta1 zuo3 pu1 fang4 xia4 shu1 shuo1 ling2 qiao2 zhen4 zhong1 xue2\n",
      "008552 liu4 shi4 hei1 e4 shi4 li4 dui4 dang3 zheng4 gan1 bu4 de5 la1 long3 fu3 shi2 ri4 yi4 yan2 zhong4\n",
      "009846 yan2 qiu1 ling2 shuo1 zi4 shi4 yong4 hei1 se4 ji4 hao5 bi3 xie3 de5 bu2 shi4 yong4 dao1 zi5 ke4 de5\n",
      "008089 shou4 shang1 de5 hai2 zi5 pa1 zai4 di4 shang4 yi1 dong4 bu2 dong4 hou4 bei4 yi2 ma1 fa1 xian4\n",
      "008471 tong2 shi2 hua1 qian2 da2 dian3 jing3 fang1 ren2 yuan2 shi4 yin1 wei2 shi4 guan1 zi4 ji3 de5 di4 di4 wang2 dong1 ming2\n",
      "008787 xiao3 qing1 yi3 jing1 cheng2 wei2 li3 qin4 de5 yi2 ge4 zhen1 zheng4 de5 gui1 zhong1 zhi1 ji3\n",
      "009390 xi3 huan5 mei3 yi2 ge4 ai4 sheng1 huo2 de5 ren2 ne5\n",
      "009256 dan4 yuan4 ta1 de5 chan4 hui3 shi4 zhen1 cheng2 de5\n",
      "009354 zhi4 ci3 yu3 zhong1 guo2 ji1 jian4 he2 zuo4 de5 fo2 shan1 ba1 lei3 yu3 xiang4 mu4 shou3 chuang4 zhi4 ye4 wan2 quan2 tui4 chu1\n",
      "008252 huai2 le5 yun4 de5 qi1 zi3 wen4 zhang4 fu1 ni3 jue2 de5 wo3 men5 de5 hai2 zi5 xiang4 shui2 geng1 hao3\n",
      "009550 shuo1 bu2 ding4 ta1 hui4 bi3 yue1 han4 hai2 yao4 zao3 de5 dong1 shan1 zai4 qi3 ne5\n",
      "009015 er2 yi2 min2 yu3 guan1 qia3 ju2 yi3 zhan3 kai1 diao4 cha2 zhang3 wo4 liang3 ren2 de5 zui4 zheng4\n",
      "008538 zui4 hou4 mai3 yi1 fu2 yao4 dong3 de5 kan4 chi3 cun4 mian4 liao4 he2 cai2 zhi4\n",
      "009011 zuo2 tian1 ta1 xiang4 cheng2 du1 shang1 bao4 ji4 zhe3 wei3 wei3 dao4 lai2\n",
      "008555 shi4 pin2 jie2 tu2 dang1 shi4 yi1 sheng1 li3 he2 chun2 de5 jian1 bang3 bei4 tie3 gun4 chuo1 shang1\n",
      "008990 qian2 rong2 tu1 ran2 pao3 dao4 ta1 mian4 qian2 shuo1 gao4 su4 ni3 yi2 ge4 xiao1 xi5 wo3 yao4 qu4 zhui1 yao2 shu1 qin2\n",
      "008876 sui2 xing2 zhe3 wu2 bu4 lei4 shui3 pang1 tuo2\n",
      "008677 ye2 xu3 wo3 men5 dou1 gai1 zao2 dian3 hui2 dao4 jia1 xiang1 na4 li3 you3 wo3 men5 de5 gen1\n",
      "009447 sen1 lin2 gong1 an1 gan3 dao4 hou4 jiang1 niao2 wang3 chai1 chu2\n",
      "009813 lao3 ba4 fei1 shen1 yi4 jiao3 shuo1 ni3 ge1 zai4 tan2 zheng4 shi4 ni3 gan4 ma5\n",
      "008928 zhuan3 tou2 yi1 kan4 yi1 lao3 nai3 nai5 chong1 wo3 xiao4 xi1 xi1 de5 shuo1 xiao3 huo3 zi5 zhua1 zhe5 ni3 dian3 che1 huang3\n",
      "008030 bu4 sui4 zhong1 jia1 za2 zhe5 su4 liao4 dai4 fei4 zhi3 pian4 deng3 bu2 dan4 ang1 zang1 hai2 san4 fa4 ci4 bi2 yi4 wei4\n",
      "009486 shang4 che1 de5 shi2 hou5 gua4 yi1 dang4 qi3 bu4 kao3 guan1 tu1 ran2 lai2 le5 yi1 ju4 jia1 you2\n",
      "008941 dang1 shi2 na4 ge4 nv3 sheng1 chuan1 zhe5 niu2 zai3 ku4 shu4 zhe5 pi2 dai4 jiu4 guai1 guai1 ba3 ta1 jie3 kai1 le5\n",
      "009142 shuo1 ying1 yu3 hao3 nan2 o2 wo3 zheng4 zai4 xue2 xi2 zhong1\n",
      "008284 zhen2 suo3 yi4 fang1 ze2 ren4 wei2 mei2 you3 ze2 ren4\n",
      "009612 chu3 fa2 kan4 qing2 mian4 da2 dian3 you3 shen2 gong1\n",
      "009544 yi4 zheng4 fa1 zuo4 shi2 you3 de5 hai2 zi5 zi4 shu4 tou2 yun1 huo4 chu1 xian4 chou1 chu4\n",
      "008110 ni3 kan4 kan4 ren2 jia1 dui4 lao3 po2 duo1 wen1 rou2 ren2 jia1 wen3 de5 duo1 you3 ji4 qiao3\n",
      "008666 chu2 le5 qing1 jiao1 yi4 xie1 ye4 cai4 ru2 shang4 hai3 qing1 huang2 gua1 deng3 jia4 ge2 ye3 jiao4 gao1\n",
      "009259 gai1 che1 qian2 hou4 che1 pai2 yi3 bei4 zhai1 diao4 jiao1 jing3 zheng4 jian3 cha2 che1 liang4 qing2 kuang4\n",
      "009422 dang1 shi2 yi3 shi4 shi4 ren2 da4 dai4 biao3 de5 xiao1 you4 mei3 tie1 chu1 jing4 xuan3 hai3 bao4 yi3 she4 qu1 ju1 min2 shen1 fen4 can1 xuan3\n",
      "009924 zhe4 ju4 hua4 xiang4 cong2 tian1 er2 jiang4 xia4 de2 si4 zhou1 yi1 pian4 ji4 jing4\n",
      "009327 ta1 you4 zhua1 zhu4 shou4 piao4 yuan2 de5 bao1 bao1 dan4 shou4 piao4 yuan2 bai1 kai1 ta1 de5 shou2 zhi3 pin1 ming4 pao3 xia4 che1\n",
      "008567 ba1 yue4 de5 ao4 yun4 zhan4 chang3 bi4 ding4 hui4 yin1 duo1 chang2 qiang2 qiang2 dui4 hua4 de5 shang4 yan3 er2 geng4 jia1 jing1 cai3 ji1 lie4\n",
      "008153 yao4 bu2 duan4 hang1 shi2 nong2 ye4 ji1 chu3\n",
      "008573 zui4 zhong1 xiao3 li4 yin1 bu4 kan1 ren3 shou4 chuo4 xue2 li2 jia1 chu1 zou3\n",
      "009374 xiao3 pei2 ni3 du4 guo4 zhe4 man4 chang2 de5 hei1 ye4\n",
      "008516 yi1 lang3 yu3 xi1 fang1 guo2 jia1 de5 guan1 xi4 jin4 yi2 bu4 e4 hua4\n",
      "008644 wo3 he2 ni3 die1 shang1 liang2 gei3 ni3 qing3 yi2 ge4 jia1 jiao4 hao2 hao3 gei3 ni3 bu3 ke4\n",
      "008997 ru2 guo3 shuai4 shi4 yi4 zhong3 zui4 na4 jin1 tian1 zhu3 ren2 ni3 yi3 jing1 zui4 e4 tao1 tian1 le5\n",
      "008261 kan4 dao4 sun1 nv3 de2 jiu4 nv3 tong2 de5 nai3 nai5 po4 ti2 wei2 xiao4\n",
      "008271 jin4 ri4 xu3 jin4 heng1 zai4 ai4 chao2 jia1 jian4 ying1 er2 fang2 ri4 nei4 jiang1 hui4 da4 si4 zhuang1 xiu1\n",
      "008177 yin1 wei4 you3 hen3 duo1 yun4 song4 yan2 de5 lun2 chuan2 fan1 le5 suo2 yi3 hai2 shui3 cai2 hui4 zhe4 me5 xian2 zhe4 shi4 wo3 luan4 shuo1 de5\n",
      "009459 yang2 guo2 sheng4 bei4 shao1 de2 xiang4 ge4 hei1 ren2 yi1 fu2 gen1 pi2 fu1 nian2 zai4 yi4 qi3\n",
      "008948 yi4 shen3 hou4 chen2 xing1 luan2 ti2 qi3 shang4 su4\n",
      "009708 wo3 ling2 dao3 le5 ta1 wu3 shi2 qi1 nian2 ye3 bu4 ke3 bi4 mian3 fan4 le5 yi4 xie1 cuo4\n",
      "009829 shen2 me5 shi2 hou5 gei3 wo3 huan4 ge4 cai3 ping2 shou3 ji1\n",
      "009339 ni3 de5 di4 yi1 xuan3 ze2 shi4 shui2\n",
      "009767 shang4 le5 li3 yi4 ba1 ni3 jiu4 dong3 le5\n",
      "008819 chen2 zhi4 zhong1 shuo1 qiu1 yi4 yi1 lu4 shan2 duo3 bu4 fu4 ze2 de5 biao3 xian4 zhi3 neng2 duo3 zai4 she4 ying3 peng2 nei4 shuo1\n",
      "009808 ta1 shuo1 zhe4 zhong3 pan1 yan2 shi4 zui4 chun2 jing4 de5 yun4 dong4\n",
      "009832 yu2 shi4 lei2 jun1 cong2 zi4 ji3 de5 ren2 sheng1 he2 li2 xiang3 jiang3 qi3\n",
      "009415 zhe4 shi4 yi4 tian1 nei4 di4 er4 qi3 er2 tong2 bai3 nong4 qiang1 zhi1 zhi4 ren2 sang4 sheng1 shi4 jian4\n",
      "008801 zhou1 ga3 jian4 gan3 jue2 shi4 tai4 yan2 zhong4 sui4 li4 ji2 xiang4 ku2 shui3 zhen4 pai4 chu1 suo3 qiu2 zhu4\n",
      "008668 an4 zhong1 yi4 ming2 nan2 zi3 qin4 qian2 hou4 wang4 ji4 ti2 qu3 zhe2 fan3 hou4 fa1 xian4 jin1 qian2 yi3 bu2 yi4 er2 fei1\n",
      "009742 zhe4 me5 ji2 qie4 de5 hu1 huan4 wo3 shi4 bu2 shi4 xiang3 wo3 le5\n",
      "009876 ying1 gai1 shi4 bi3 mo4 zhi3 yan4 ba1\n",
      "009883 shi2 ren4 shen1 zhen4 shi4 si1 fa3 ju2 fu4 ju2 zhang3 de5 xu2 jian4 shou4 ming4 she4 ji4 yi1 tao4 zheng4 gai3 fang1 an4\n",
      "009615 wo3 de5 shu4 xue2 lao3 shi1 hai2 mei2 jiao4 guo4 wo3\n",
      "009471 dao3 shang4 you3 han2 fang1 jian4 zao4 de5 deng1 ta3 hai3 an4 shao4 suo3 he2 ma3 tou2 deng3 she4 shi1\n",
      "008697 lan2 mou3 de2 zhi1 hou4 sha2 yan3 le5\n",
      "008841 wo3 gang1 gang5 guo4 wan2 shi2 ba1 sui4 sheng1 ri4\n",
      "009597 da4 dao4 li3 mian4 bu4 yun2 xu3 xiao3 de5 pu4 wei4\n",
      "009971 da2 sao3 wan2 ni3 hui4 hen3 you3 cheng2 jiu4 gan3 de5 shi4 yi1 shi4 ni3 jiu4 xin4 le5\n",
      "008647 ni3 liang3 sui4 le5 ma1 ma5 que4 zhi1 wei2 ni3 guo4 le5 yi1 ci4 sheng1 ri4\n",
      "009491 er4 er4 shi2 yi1 yi4 shi2 wu3 hao4 mu4 qian2 shi4 mou3 jiao1 liu2 xie2 hui4 ban4 gong1 di4 dian3\n",
      "008930 dang1 ran2 hai2 shi4 wo3 men5 tong2 ren2 tang2 de5 dong1 xi1 zhi2 de5 xin4 lai4 la1\n",
      "008877 fan3 dui4 zhe3 ren4 wei2 ti2 qu3 pei1 tai1 gan4 xi4 bao1 xiang1 dang1 yu2 e4 sha1 sheng1 ming4\n",
      "008579 yong4 dian4 shang1 dian1 fu4 chuan2 tong3 hang2 ye4 zhan4 ling3 chui2 zhi2 de5 fu2 zhuang1 shi4 chang2\n",
      "008063 lai2 gao3 yi1 lv4 bu4 tui4 qing3 zi4 liu2 di2 gao3\n",
      "009790 zhang1 nv3 shi4 ye3 shun4 shou3 na2 qi3 fang4 zai4 zhen3 bian1 de5 mu4 gun4 zhao1 na4 ming2 nan2 zi3 tou2 shang4 lun1 qu4\n",
      "008222 ta1 shuo1 fei1 ji1 zai4 dian1 bo3 di4 yi1 ci4 shi1 zhong4 hou4 guang3 bo1 cai2 shuo1 fei1 ji1 yu4 dao4 qiang2 qi4 liu2\n",
      "008255 wo3 gao3 bu2 guo4 ge1 bo2 ning3 bu2 guo4 da4 tui3 wo3 ren4 ming4 le5\n",
      "008826 bai4 tuo1 mei2 you3 zhi3 jia5 ni3 hui4 bu2 hui4 yong4 nao3 zi5\n",
      "008363 jia1 li3 you3 quan2 zi4 dong4 xi3 yi1 ji1 ya1\n",
      "008992 wo3 xiang1 xin4 xiao3 hai2 zi5 ye3 bu4 xi1 wang4 ma1 ma5 mei3 tian1 dou1 zai4 jia1 dui4 ta1 luo1 suo5 ba1\n",
      "008663 yi4 zhi1 mao1 pao3 dao4 zhe4 ke1 shu4 de5 shu4 gan4 shang4 zhao3 dao4 yi2 ge4 shu4 dong4 zai4 na4 li3 sheng1 xia4 xiao3 mao1\n",
      "008586 ci3 qian2 sha1 yi4 ceng2 biao3 shi4 jie2 hun1 hou4 ken3 ding4 hui4 ma3 shang4 yao4 bao2 bao3\n",
      "008415 dan4 bian4 fang1 zhi3 chu1 zhe4 ba3 dao1 tai4 da4 bu4 fu2 he2 yu4 hai4 zhe3 hou2 long2 shang4 zhi4 ming4 shang1 de5 xing2 zhuang4\n",
      "009524 dan4 shi4 wei4 lai2 ji3 nian2 nei4 da4 xue2 sheng1 jiu4 ye4 xing2 shi4 yi1 ran2 yan2 jun4\n",
      "009959 zhao4 ling2 fei1 de5 hua4 fan3 ying4 le5 shen3 yang2 sai4 qu1 suo2 you3 ao4 yun4 zhi4 yuan4 zhe3 de5 gong4 tong2 xin1 sheng1\n",
      "009268 wo3 men5 shi4 xing1 xing5 you4 er2 yuan2 de5 xiao3 peng2 you3\n",
      "008514 yi4 shou3 ba3 wo3 dai4 da4 de5 nai3 nai5 zuo2 tian1 qu4 shi4 le5\n",
      "009980 yi1 jin4 ka1 fei1 dian4 ta1 jiu4 yu4 jian4 yi4 zhang1 shu2 xi1 de5 lian3\n",
      "008481 tong2 che1 de5 xu3 gen4 fu4 zai4 shi4 gu4 zhong1 you4 tui3 gu3 zhe2 xiong1 kou3 shou4 shang1\n",
      "008440 zhe4 ge4 yan2 se4 jiao4 lao3 lv4 xiang1 dang1 yu2 cui4 lv4\n",
      "009319 bi4 ta3 ta2 wa3 ju4 xi1 you3 te4 shu1 de5 ti3 se4 biao1 ji4 he2 xing4 qi4 guan1\n",
      "008828 ying1 cai3 er2 ting1 le5 ji4 zhe3 de5 zhuan3 shu4 hou4 po1 wei2 jing1 e4\n",
      "008540 cao1 zong4 jian4 pan2 de5 shou3 yong4 lai2 ban1 yun4 sha1 dai4 shi4 fou3 jue2 de5 kui1\n",
      "009768 ling2 wo3 zhi4 jin1 nan2 wang4 de5 hai2 you3 zhou1 zong2 li3 na4 shuang2 lang3 de5 xiao4 sheng1\n",
      "008288 na2 qi3 juan3 zi5 jiu4 gan3 dao4 le5 wen1 nuan3\n",
      "009204 yao4 hui2 da2 zhe4 ge4 wen4 ti2 shou3 xian1 bi4 xu1 nong4 qing1 chu3 ping2 zhun3 ji1 jin1 ru4 shi4 gan1 yu4 de5 mu4 di4\n",
      "008316 jia1 kai3 cheng2 ji2 tuan2 gu3 fen4 you3 xian4 gong1 si1 qu4 nian2 guo4 de2 hen3 han2 chen3\n",
      "009331 yi2 ge4 yuan3 zai4 zu3 guo2 xi1 bei2 jiao3 de5 ye4 yu2 zuo4 zhe3 de5 zuo4 pin3 he2 yi3 de2 dao4 ni3 men5 de5 qing1 lai4\n",
      "009303 qian2 tian1 na4 na4 yin1 tiao4 lou2 hou4 shang1 shi4 guo4 zhong4 yi3 bu2 zhi4 shen1 wang2\n",
      "009192 dan4 wo3 men5 zong3 bu4 neng2 lv3 you2 de5 shi2 hou5 ye3 chuai3 ge4 hu4 kou3 bu4 ba1 tai4 ma2 fan5 le5\n",
      "008097 ju4 cheng1 liang3 ren2 dang1 shi2 dou1 you3 cu1 kou3\n",
      "008457 chen1 hang2 dao3 you3 yi1 pian4 zhu4 ming2 de5 jiang1 jun1 lin2\n",
      "008127 nan2 zi3 bu4 ting1 shuang1 fang1 bao4 fa1 kou3 jue2 bing4 tui1 tui1 sang1 sang1\n",
      "009738 dui4 you3 men2 feng1 feng1 guang1 guang1 de5 lun2 fan1 chu1 qu4 bi3 sai4\n",
      "008264 ta1 tong2 shi2 cheng1 dan4 nong2 min2 wei4 kou3 tai4 da4 bu4 hao3 jie3 jue2\n",
      "008049 dan4 yan3 qian2 de5 za1 dao4 shang4 gong1 ren2 men2 hai2 zai4 mang2 zhe5 an1 zhuang1 dao4 lu4 fang1 xiang4 biao1\n",
      "009899 mei3 yi2 ge4 huo3 jian4 guan1 dou1 shun4 li4 de5 sheng1 shang4 qu4 le5 ran2 ran3 ruo4 xing1 guang1\n",
      "009366 ju2 huang2 de5 deng1 guang1 ying4 zhe5 jie1 jing3 yu3 xiang2 xin1 li5 fu2 qi3 yi4 zhong3 shen1 zai4 yi4 xiang1 de5 leng3 qing1\n",
      "008236 yu3 shi4 you3 liao2 tian1 tao3 lun4 lin2 xi1 shi4 fou3 zhen1 de5 ai4 mu4 huang2 yao4 ming2\n",
      "009802 wan4 yi1 shui4 zhao2 shi2 wu1 zi5 jiu4 bei4 fang4 huo3 shao1 le5 ne5\n",
      "008932 yin4 du4 yang2 shang4 zheng4 zai4 chu1 xian4 zhong1 guo2 jiang1 bei4 kun2 zhu4 shou3 jiao3 de5 ge2 ju2\n",
      "008608 zhang1 zhi4 guo2 de5 fu4 qin1 ye3 bu4 ting2 mo3 yan2 jiao3 shi2 zai4 ren3 bu5 zhu4 shi2 zhi2 hao3 yi4 sheng1 chang2 tan4\n",
      "009780 zhu4 zai4 xiang1 xia5 de5 shang1 bu4 qi3 ya1\n",
      "008646 lai2 lai2 lai2 wo3 shi4 yi2 ge4 bo1 luo2 luo2 luo2 luo2 luo2 luo2 luo2\n",
      "009711 qu4 nian2 he2 lan2 wu3 qi4 de5 zui4 da4 mai3 jia1 shi4 dan1 mai4 mei3 guo2 he2 an1 man4\n",
      "009672 bing4 qie3 pao1 shou4 pu3 bian4 zai4 er4 san1 tao4\n",
      "009806 guan1 zhong4 zong3 hui4 you3 xin1 chong3 bu4 fu4 nian4 jiu4 ren2\n",
      "008649 er4 ling2 yi1 er4 nian2 shuang1 bian1 mao4 yi4 e2 wei2 si4 dian3 si4 jiu2 wu3 ba1 yi4 mei3 yuan2\n",
      "008308 yu2 xiong2 pai1 pai1 ta1 de5 jian1 shuo1 xiang3 kai1 yi4 dian3 guo4 liang3 tian1 jiu4 mei2 shi4 le5 hong2 yan2 huo4 shui3\n",
      "009717 peng2 zhong4 xin1 dai4 de5 ji3 ge4 ren2 you2 yu2 gua3 bu4 di2 zhong4 ze2 si4 chu4 tao2 ming4\n",
      "008179 fu2 shou3 huo4 hu4 lan2 gan1 ying1 wu2 ji1 hui1 bian4 xing2 po4 sun3 ban1 hen2 tuo1 luo4\n",
      "008409 ta1 jian4 yi4 can1 guan3 bi4 xu1 zai4 mei3 zhang1 can1 zhuo1 xia4 fang4 yi2 ge4 zhi2 lou3 rang4 shi4 min2 reng1 zhi3 jin1\n",
      "009634 qi2 shi2 you4 you3 shui2 hui4 wu2 yuan2 wu2 gu4 de5 zhao3 ta1 de5 ma2 fan5 ne5\n",
      "009217 er2 qiu1 yi2 ke3 chen2 qi3 deng3 lao3 zhu3 li4 geng4 shi4 xian3 de5 cuo1 tuo2 le5 xu3 duo1\n",
      "008606 chen2 yu3 hui1 de5 fu4 mu3 dang4 tian1 zai4 niu3 yue1 man4 ha1 dun4 chu1 xi2 xin1 wen2 fa1 bu4 hui4\n",
      "008015 guo1 bin1 yi1 kan4 ye4 bu4 mian2 de5 zhao1 pai5 jue2 de5 hao3 xiang4 jian4 dao4 guo4 xiang2 qi3 shi2 ba3 zi4 ji3 xia4 yi1 tiao4\n",
      "008117 dui4 pu3 tong1 shi4 min2 lai2 shuo1 san3 zhuang1 yue4 bing3 ji4 chu1 guo2 ye3 hen3 nan2\n",
      "009203 fa1 song4 wan2 bi4 hou4 zi3 xi4 du2 le5 yi1 bian4 gan3 jue2 ming2 nian2 wo3 ke3 neng2 you4 yao4 yi2 ge4 ren2 guo4 qing2 ren2 jie2 le5\n",
      "008230 da4 jia1 ba3 xin1 yuan4 xie3 hao3 dian3 shang4 deng1 deng1 fei1 le5 da4 gai4 liang3 ceng2 lou2 gao1 de5 shi2 hou5\n",
      "008675 guang3 xi1 ben3 di4 yi2 you3 san1 si4 jia1 qi3 ye4 ju4 bei4 pi1 liang4 sheng1 chan3 mang3 cao3 suan1 de5 neng2 li4\n",
      "008536 gei3 ren2 gan3 jue2 zheng4 xiang4 shi4 shi2 cao3 dong4 wu4 nian1 de2 mei2 pi2 qi5\n",
      "008865 yin1 ci3 zhe4 zhong3 ren2 lei4 pei1 tai1 gan4 xi4 bao1 hai2 bu4 ju4 bei4 shi2 yong4 xing4\n",
      "008339 ji4 shi2 hui4 tiao1 xuan3 yu2 di4 ye3 da4\n",
      "009657 xian4 zai4 hai2 gan3 jue2 tou2 yun1 shou3 bi4 teng2\n",
      "008299 bu2 yao4 ba3 yuan4 qi4 sa1 dao4 lv4 shi1 tou2 shang4\n",
      "008478 ru2 jin1 ma3 yue4 ling2 cheng1 sheng1 chi1 huo2 ni2 qiu1 shi4 zhi4 liao2 jian4 dong4 ren2 zheng4 de5 fa2 bao3\n",
      "008084 wei4 le5 ti2 shen2 hai2 pei4 bei4 bo4 he5 tang2 guang3 zhou1 jun1 qu1 zhuan1 men2 pei4 le5 da4 suan4 tou2\n",
      "008548 shou4 ci3 zhong4 ji1 lin2 hui1 huang4 huang3 you1 you1 de5 dao3 zai4 le5 di4 shang4\n",
      "008515 zhang1 wei4 jian4 xiao4 yan2 zi4 ji3 hen3 xi3 huan5 zhe4 ge4 jue2 se4\n",
      "008186 bing4 quan4 ta1 hai2 shi4 an1 xin1 du2 shu1 bu2 yao4 wei2 xiao3 shuo1 de5 shi4 qing5 guo4 yu2 fen1 xin1\n",
      "009640 ta1 tou4 lu4 ju3 bao4 ren2 wei4 xiang4 ta1 suo2 qu3 ren4 he2 bao4 chou5\n",
      "009727 jiu1 jing4 hao3 lai2 wu1 he2 di2 si1 ni2 de5 mei4 li4 he2 zai4\n",
      "009830 wo3 de5 pu3 tong1 hua4 hai2 shi4 ting3 biao1 zhun3 de5 ba1\n",
      "008446 bu2 guo4 mian3 shi4 gong1 du2 yan2 jiu1 sheng1 de5 ta1 zao3 yi3 jing1 bu4 jin2 jin3 man3 zu2 yu2 kan4 ao4 yun4 le5\n",
      "008341 wang2 fei1 na4 shi4 lao3 niang2 de5 ming4 na4\n",
      "008872 dan4 shi4 ye3 bu2 hui4 tian1 tian1 you3 huo2 de5\n",
      "009530 ru2 ci3 bian4 neng2 rao4 kai1 zheng4 fu3 zhu3 guan3 bu4 men2 rong3 chang2 de5 shen3 pi1\n",
      "008688 en1 jia1 you2 ba1 yi4 qi3\n",
      "009153 zheng4 hao3 qu1 wei3 li3 de5 yi2 ge4 nei4 bu4 kan1 wu4 yao4 ren2 lin2 fu4 rong2 sheng1 bian1 ji2 bian4 ju3 jia1 ban1 qian1\n",
      "009799 yu2 xiong2 shi4 ge4 shao3 yan2 de5 ren2 yi4 xin1 yi2 yi4 zai4 chi1 mian4\n",
      "008857 ni3 na2 le5 wo3 de5 nao3 dai5 wo3 jiu4 pa4\n",
      "009931 tu2 men2 jiang1 xia4 you2 di4 qu1 kai1 fa1 kai1 fang4 de5 jin4 zhan3 ru2 he2\n",
      "008725 jiao4 ni3 jie3 wo3 gan4 ma2\n",
      "009733 chuan1 shang4 xi4 zhuang1 shi4 yan3 yuan2 tuo1 xia4 xi4 zhuang1 shi4 nong2 min2\n",
      "009167 zhao4 pian1 zhong1 li3 hong2 ji1 he2 zhang1 gen1 shuo4 liang3 ren2 zhan4 zai4 zhong1 jian1 zuo4 ke3 ai4 lie2 zui3 zhuang4\n",
      "008884 zai4 wai4 ren2 kan4 lai2 ta1 ne4 yu2 yan2 ci2 bu2 hui4 jiang3 hua4 han1 tai4 ke3 ju1\n",
      "008706 ni3 zhe4 shi4 bu4 ai4 wo3 le5\n",
      "008044 zui4 chang2 jian4 de5 cai4 shi4 ga1 li2 shi4 cong2 lin2 guo2 yin4 du4 si1 li3 lan2 ka3 chuan2 ru4 de5\n",
      "009827 geng3 nv3 shi4 gan2 jin3 bao4 le5 jing3\n",
      "008045 gao1 ceng2 jian4 zhu4 de5 shi4 nei4 xiao1 huo3 shuan1 xiang1 nei4 jiang1 she4 zhi4 xiao1 fang2 ruan2 guan3 juan4 pan2\n",
      "009920 bang4 wan3 qi1 ge4 xiao3 ren2 hui2 lai5 le5 bai2 xue3 gong1 zhu3 shuo1 ni3 men5 jiu4 shi4 wo3 ming4 zhong4 de5 qi1 ge4 xiao3 ai3 ren2 ba1\n",
      "008934 ze2 kao1 ying1 long2 hua2 zi4 bai2 yan3 yi4 jing1 li4 he2 yu3 zhang4 fu1 li2 hun1 de5 zhong2 zhong3\n",
      "008702 wo3 bu4 neng2 xi2 zao3 o2\n",
      "009452 wo3 dang1 shi2 leng4 zai4 na4 ban4 tian1 bu4 zhi1 za3 ban4\n",
      "008411 dang1 shui3 wei4 xia4 jiang4 dun3 chuan2 ze2 ke2 yi3 xiang4 jiang1 zhong1 yi2 dong4 jin4 zui4 da4 nu3 li4 bao3 zheng4 qu2 shui3\n",
      "008588 wo3 zai4 gan1 yi4 nian2 duo1 shi2 jian1 zhe4 yi4 nian2 duo1 de5 shi2 jian1 wo3 neng2 bao3 zheng4\n",
      "008551 hua4 fei2 liu2 tong1 zhi4 xu4 hun4 luan4 luan4 tai2 jia4 ge2 de5 wen4 ti2 reng2 ran2 cun2 zai4\n",
      "008474 zhi4 yu2 sang1 li3 ju3 xing2 de5 xi4 jie2 ta1 zhi3 yao4 wen4 xu3 guan1 wu3 yin1 shi4 ta1 quan2 li4 da2 dian3\n",
      "009575 mian4 dui4 yi1 xi4 lie4 de5 da3 ji1 tian2 zheng4 yang2 mei2 you3 qi4 nei3 fan3 er2 geng4 jia1 jian1 qiang2\n",
      "008088 nian2 hui4 de5 zhu3 ti2 wei2 zhong1 guo2 he2 ya4 tai4 shang1 ye4 fang2 di4 chan3 de5 xin1 si1 wei2\n",
      "009631 bu2 liao4 zhe4 yi1 ju4 hua4 re2 nao3 le5 li3 ao2\n",
      "008546 chi1 chi1 jiu4 zhi1 dao4 chi1 zhuan4 duo1 shao3 qian2 gou4 ni3 chi1 de5\n",
      "009351 liu2 jin1 yao4 jiao4 shou4 zai4 wei2 cheng2 cheng2 jin4 xing2 jian3 cha2\n",
      "008313 yi4 ming2 jing3 yuan2 zai4 zhua1 bu3 guo4 cheng2 zhong1 zuo3 ce4 zhou3 guan1 jie2 zhong4 dan4 shou4 shang1\n",
      "009839 tong2 shi2 jiang1 jia1 da4 sa3 shui3 che1 song4 shui3 li4 du4 gu3 li4 ju1 min2 shui2 jing3 qu2 shui3\n",
      "009073 dui4 yu2 shang4 shu4 tou2 zi1 tian1 lai4 si4 de5 seng1 ren2 men5 biao3 shi4 yi4 wu2 suo3 zhi1\n",
      "008038 ta1 shi4 zhi1 wa4 che1 jian1 de5 yi1 wei4 zhu3 ban1 zhang3\n",
      "009433 gong1 cheng2 xian4 chang3 you3 gong1 ren2 zai4 lie4 ri4 xia4 da3 hang1\n",
      "008332 ju4 shuo1 she4 ji4 zhe3 nai3 shi4 zhe4 xiao3 zhen4 ding3 ding3 you3 ming2 de5 da4 jia1\n",
      "009360 sui2 hou4 you2 liang3 ming2 shen1 cai2 lve4 wei2 ai2 xiao3 de5 xiao1 fang2 guan1 bing1 jin4 ru4 jia4 shi3 shi4 jin4 xing2 ying2 jiu4\n",
      "008389 you3 shi2 yi1 tang4 hang2 ban1 jin3 san1 bai3 duo1 ming2 lv3 ke4\n",
      "008476 mu4 qian2 fan4 zui4 xian2 yi2 ren2 ma3 mou2 mou3 zhou1 mou3 la2 mou3 bei4 yi1 fa3 xing2 shi4 ju1 liu2\n",
      "008140 ta1 shuo1 bu5 chu1 hua4 yao2 shu1 qin2 zhui1 ji1 shuo1 lin2 da4 wen2 hao2 ni3 xia4 yi2 ge4 zhun3 bei4 yao4 ma4 shui2\n",
      "008016 bu2 guo4 zhe4 lao2 liang2 kou3 ping2 shi2 hen3 ai4 tao1 er2 duo3 lao3 liang2 you3 kong4 hai2 xi3 huan5 qu4 xiao3 li3 fa4 dian4\n",
      "009496 ci3 shi2 yi4 ming2 jing3 cha2 dan1 shou3 bie2 zai4 shen1 hou4 shou3 zhong1 wo4 you3 yi1 chui2 zi5\n",
      "008025 zhe4 zhong3 kong4 zhi4 yu3 li4 yong4 you3 qi2 te4 ding4 de5 nei4 han2\n",
      "008056 zhe4 xie1 qi2 wen2 yi4 shi4 zi4 ran2 shi4 lin2 da4 ge1 qin1 kou3 gao4 su4 de5 zhen1 jia3 nan2 bian4\n",
      "008957 duo1 ming2 min2 yi4 dai4 biao3 la1 che3 cheng2 yi4 tuan2\n",
      "009202 wang2 chao2 zhu4 chun2 pu3 de2 jin4 hu5 mu4 ne4 qin2 fen4 de2 zu2 bu4 chu1 hu4\n",
      "008929 zhu3 yao4 ti2 cai2 you3 shi4 jia1 xiang4 mi2 le4 xiang4 shi4 jia1 duo1 bao3 xiang4 guan1 yin1 xiang4 shuang1 pu2 sa4 xiang4 deng3\n",
      "009318 zai4 shi4 fa1 de5 yao1 si4 ling2 er4 shi4 men2 kou3 hai2 you3 da4 tan1 de5 xue4 ji4\n",
      "008158 zhu1 zi3 rao2 xiao3 shi2 ceng2 dang1 nv3 tong2 jun1 dan4 xian4 zai4 tai4 mang2 mei2 you3 can1 yu4\n",
      "009219 o2 zhe4 ke3 shi4 ge4 nan2 ao2 de5 ri4 zi5\n",
      "009169 yu3 wu2 lun2 ci4 shuo1 chu1 xiao3 li4 can2 si3 xiao1 xi5 sui2 ji2 xiang4 song1 tao2 xian4 gong1 an1 ju2 bao4 jing3\n",
      "009986 dan4 kao3 sheng1 pu3 bian4 ren4 wei2 shi4 ti2 de5 guai4 duo1 guo4 nan2\n",
      "008297 zhe4 shi4 tai4 yuan2 shi4 fen2 he2 jing3 guan1 dai4 guan1 deng1 qian2 he2 guan1 deng1 hou4 de5 dui4 bi3\n",
      "008396 jin1 tian1 mai4 jia1 gei3 peng2 you5 fan3 xian4 le5 shi2 yuan2 jiao4 shi4 you3 ba3 tu2 pian4 gei3 shan1 le5\n",
      "008754 ran2 hou4 yin3 lai2 zhou1 wei2 de5 ren2 zai4 che1 shang4 ju4 can1\n",
      "009749 ta1 shuo1 sui1 ran2 ta1 de5 gou3 dui4 ren2 hen3 you2 hao3 dan4 mei3 ci4 liu4 gou3 dou1 yong4 sheng2 zi5 shuan1 zhe5\n",
      "008963 dan4 shi4 tou1 gong1 jian3 liao4 de5 guang3 gao4 pai2 gen1 ben3 kang2 bu2 zhu4 tai2 feng1\n",
      "009585 tu2 wei2 shou3 gang1 zhi2 gong1 zuo2 ri4 zai4 liao4 chang2 jin3 zhang1 de5 qiang1 xie4 dong4 mei2\n",
      "008090 lin2 fu4 cai2 liu2 zhi1 shi2 qi2 yi1 bu4 shi2 qi2 er4 ba3 lao2 she3 si4 shi4 tong2 tang2 li3 de5 shu3 cuo4 fang4 le5 guo4 qu4\n",
      "009512 gao1 xin4 zhan3 shi4 gong3 li4 de5 gu3 li4 duan3 xin4\n",
      "009003 zhe4 jiang1 hui4 hen3 da4 cheng2 du4 de5 huan2 jie3 yang3 lao3 jin1 de5 que1 kou3\n",
      "009314 ta1 yi1 ran2 ji4 de5 meng4 lu4 dang1 shi2 gei3 ta1 yi2 ge4 nuan3 nuan3 de5 yong1 bao4\n",
      "009553 liang3 guo2 jing1 mao4 he2 zuo4 de5 bu2 duan4 kuo4 da4 shi3 mei3 zhong1 shuang1 fang1 huo4 yi4\n",
      "008152 ru2 ci3 tie1 di4 qi4 bu2 dan4 si1 hao2 wu2 sun3 ta1 de5 xing2 xiang4 fan3 dao4 ying2 de5 geng1 duo1 yong1 dun3\n",
      "009796 dian4 hua4 na4 tou2 ruo4 ruo4 de5 shuo1 wo3 jiu4 zai4 ni3 hou4 mian4 wo3 jiu4 shi4 na4 ge4 er4 bi1\n",
      "008066 zhi1 hou4 an1 li3 hui4 ju3 xing2 bi4 men2 cuo1 shang1\n",
      "008614 qiang2 ruo4 bu4 yi3 zhen1 zheng4 de5 shi2 li4 lai2 jie4 ding4 er2 shi4 yi3 yong1 you3 de5 zi1 yuan2 duo1 shao3 lai2 jie4 ding4\n",
      "009973 ta3 he2 de5 han2 ye4 qi4 wen1 jiang4 dao4 le5 ling2 xia4 san1 shi2 duo1 she4 shi4 du4\n",
      "009616 jia4 gei3 zhe4 me5 ge4 ren2 wo3 zhe4 bei4 zi3 ye3 suan4 mei2 zhi3 wang4 le5\n",
      "010000 zai4 yu4 zhong1 zhang1 ming2 bao3 hui3 hen4 jiao1 jia1 xie3 le5 yi1 fen4 chan4 hui3 shu1\n",
      "009191 chong1 tu1 zhong1 qi2 zhong1 yi4 fang1 de5 bang1 shou3 wu4 jiang1 yi4 ming2 kan4 re4 nao5 de5 shi4 min2 da3 shang1\n",
      "009182 ni3 zhe4 ge4 yue4 gong1 zi1 dou1 mei2 shang4 jiao1 ni3 shi4 bu2 shi4 yang3 xiao3 san1 le5\n",
      "008985 wo3 gan2 jin3 deng1 lu4 dao4 de5 tao2 bao3 bei1 ju4 a1 shou1 huo4 di4 zhi3 ju1 ran2 mo4 ren4 de5 shi4 ta1\n",
      "008435 da3 dou4 dang1 zhong1 zhu1 mou3 bei4 shi1 shou3 ci4 si3\n",
      "009109 yi4 xie1 yan1 cong1 bei4 xiao1 diao4 le5 geng1 duo1 yan1 cong1 li4 qi3 lai5\n",
      "009888 jie2 zhi4 mu4 qian2 wa1 jue2 gong1 zuo4 yi3 jing1 jie2 shu4 mu4 qian2 ya1 lu4 ji1 zheng4 zai4 hang1 shi2 di4 ji1\n",
      "008544 tong2 shi2 da4 xuan3 de5 hun4 luan4 ye3 jin4 yi2 bu4 zheng4 ming2 le5 hai3 di4 zheng4 zhi4 ti3 xi4 yi3 wan2 quan2 wa2 jie3\n",
      "009774 zhe4 fu2 he2 guang3 da4 fa1 zhan3 zhong1 guo2 jia1 de5 li4 yi4 ye3 you3 li4 yu2 tui1 jin4 qi4 hou4 bian4 hua4 guo2 ji4 he2 zuo4\n",
      "008602 sha1 tan1 teng2 qiu2 rong2 he2 le5 pai2 qiu2 zu2 qiu2 yu3 mao2 qiu2 deng3 yun4 dong4 de5 te4 dian3\n",
      "008023 ru2 ci3 can2 ren3 de5 xing2 wei2 rang4 ren2 cheng1 mu4 jie2 she2\n",
      "008467 dao3 shi4 xiao3 bing1 zhang1 ga1 he2 wang2 xiao3 er4 de5 shi4 ji4 zai4 ke4 ben3 li3 zhan4 you3 yi4 xi2 zhi1 di4\n",
      "008326 yi1 shi4 ta1 jie3 jue2 le5 jing1 chang2 xing4 juan1 zeng4 cun2 zai4 de5 hen3 duo1 wen4 ti2\n",
      "008108 na4 shi3 zhong1 gua4 zai4 lian3 shang4 de5 mo4 ran2 wei1 xiao4 ling4 ren2 mao2 gu3 song3 ran2\n",
      "008859 nv2 you3 wei2 ta1 de5 nan2 you3 zuo4 le5 jian4 mao2 yi1 hen3 piao1 liang4 shui2 jian4 shui2 kua1\n",
      "008191 zhe4 jiu4 shi4 cao2 gui4 lin2 zuo4 bu4 xing3 de5 wen2 xue2 meng4\n",
      "008149 jing3 cha2 yu2 shi4 dai4 bu3 ta1 ye3 qu3 hui2 bei4 qiang1 de5 zang1 kuan3\n",
      "009156 ta1 she3 bu4 de2 hua1 yi4 fen1 qian2 dou1 ba3 qian2 zan3 qi3 lai5 gei3 mu3 qin1 zhi4 bing4\n",
      "008310 shi4 shi2 shang4 tai2 dang1 ju2 shi4 shi2 hou5 gai1 ting1 ting1 min2 zhong4 de5 hu1 sheng1 le5\n",
      "009300 ceng2 jing1 ye3 you3 shao3 liang4 de5 fan1 qie2\n",
      "008927 zhe4 shi4 ji2 mi3 de5 di4 er4 ci4 mo2 tuo1 zhi1 lv3 ci3 qian2 ta1 ceng2 qi2 mo2 tuo1 che1 huan2 you2 guo4 yin4 du4\n",
      "009644 nu2 er3 bi3 ye2 de5 mu3 qin1 shi4 yi1 wei4 jiao4 shi1\n",
      "008996 wo3 jia1 de5 mu2 lao2 hu3 cai2 ke3 pa4 ne5\n",
      "008342 dan4 zai4 chen2 ji4 yi1 duan4 shi2 jian1 hou4 shan1 tie3 gong1 si1 juan3 tu3 chong2 lai2\n",
      "008379 qi1 zi3 bu2 dan4 bu2 pa4 fan3 er2 rou2 qing2 de5 shuo1 mao1 ge1 bie2 jiao4 le5 wo3 lao3 gong1 hai2 mei2 chu1 chai1 ne5\n",
      "009998 zhe4 chang2 kang4 yi4 huo2 dong4 jiu1 jing4 shi4 ru2 he2 fa1 zhan3 yan3 bian4 de5 you4 jiu1 jing4 shi4 shui2 shang1 hai4 le5 shui2\n",
      "009175 di2 fu4 shuan1 dang1 ji2 jiu4 zhao3 dao4 le5 tong2 cun1 de5 guang1 gun4 han4 feng2 mou3 feng2 mou3 biao3 shi4 tong2 yi4\n",
      "009863 zhe4 feng1 kuang2 de5 yi2 mu4 ye2 xu3 zhi2 you3 deng3 dao4 da4 chao2 tui4 qu4 luo2 yong3 zhe3 cai2 hui4 fu2 chu1 shui3 mian4\n",
      "008976 kan4 dao4 shu2 xi1 de5 hu4 shi5 jie3 jie5 hai2 zi5 hui4 lie2 lie2 zui3 wu2 sheng1 de5 xiao4 qi3 lai5\n",
      "008896 wo3 de2 guo4 gan1 yan2 zhu4 le5 yuan4 bian4 xiu1 le5 yi2 ge4 xue2 qi1 de5 xue2\n",
      "008057 bi3 ru2 dui4 mei3 yuan2 chi2 xu4 bian3 zhi2 de5 yu4 qi1\n",
      "008619 ying1 ji2 li4 juan2 qi3 qie4 ting1 feng1 bao4 dong4 yao2 le5 mo4 duo1 ke4 fu4 zi3 zai4 ying1 guo2 de5 shang1 ye4 gen1 ji1\n",
      "008741 shi4 e4 yi4 ma4 nv3 hai2 zi5 de5 la1 ni3 ke3 bu2 yao4 xue2 huai4 o2\n",
      "008989 hai2 guan1 zong3 shu3 ji1 ji2 tuo4 zhan3 he2 you1 hua4 jia1 gong1 mao4 yi4 de5 chan3 ye4 jie2 gou4 tiao2 zheng3 deng2 deng3\n",
      "009710 lao3 bei4 mei3 ci4 liang4 xiang4 qian2 dou1 yao4 xi4 xin1 de5 tu2 zhi1 mo2 fen3 yi4 fan1 ne5\n",
      "008366 guang3 ben3 guan3 li3 ren2 yuan2 ru2 shi4 shuo1\n",
      "008318 ji4 zhe3 pai1 zhao4 yao1 er2 xian4 shen1 man3 bu2 zai4 hu1 lu4 ren2 qi4 fen4 qian3 ze2\n",
      "009606 ban4 nian2 zou3 yi4 zhuan3 shi2 chuan2 jiu3 da3 lan4\n",
      "008477 ding1 zi3 gao1 hai2 zi4 bao4 biao2 jie3 song4 le5 liang3 zhi1 bu4 tong2 pai2 zi5 de5 yan4 yun4 bang4 gei3 ta1\n",
      "008590 sui2 hou4 jin4 mou3 you4 qia1 zhu4 gao1 mou3 de5 bo2 zi5 jiang1 qi2 an4 zai4 di4 shang4\n",
      "008111 ta1 zuo2 tian1 tou4 lu4 zi4 ji3 he2 tai4 tai5 you3 le5 yi2 ge4 hun1 yin1 he2 yue1\n",
      "008620 dang1 shi2 fa1 xian4 de5 hua4 shi2 geng1 zhun3 que4 de5 shuo1 shi4 pei1 tai1 hua4 shi2\n",
      "009667 zhe4 zuo4 tu3 qiu1 yi3 jing1 bei4 zha4 chu1 yi2 ge4 shen1 shen1 de5 huo1 kou3\n",
      "009757 ju4 ti3 kai1 ting2 shen2 li3 shi2 jian1 dan1 xian4 fa3 yuan4 zai4 tong1 bao4 zhong1 wei4 ti2 ji2\n",
      "009163 she4 zai4 he2 dao4 zhong1 yang1 de5 shai1 xi3 dian3\n",
      "008019 ji4 zhe3 zi3 xi4 cha2 ting1 le5 liang3 ge4 hao4 ma3 de5 zi4 dong4 yu3 yin1 fu2 wu4 fa1 xian4 di2 que4 you3 suo3 bu4 tong2\n",
      "008572 yi3 se4 lie4 jun1 dui4 cong2 ru4 qin1 de5 li2 cun1 zhuang1 che4 chu1\n",
      "008654 wo3 ming2 bai5 le5 yuan2 lai2 ni3 de5 xiong1 jiu4 shi4 na4 shi2 hou5 ceng4 mei2 de5 duo1 me5 tong4 de5 ling3 wu4\n",
      "009347 wo3 yi3 qian2 jiu4 zuo4 guo4 fan1 yi4 zhe4 ci4 shi4 chong2 cao1 jiu4 ye4 yu2 shi4 tong4 kuai4 de5 da1 ying4 le5\n",
      "009741 bu4 ran2 jiu4 hui4 zao4 cheng2 ji2 da4 de5 wu4 chuan2 he2 cai1 ce4\n",
      "009867 shou1 fei4 nian2 xian4 fen1 bie2 chi2 xu4 zhi4 er4 ling2 san1 er4 nian2 ji2 er4 ling2 si4 ling2 nian2\n",
      "009286 a1 jie2 rang4 a1 yue4 kan4 xia4 sheng4 xia4 de5 he2 fan4 he2 bu4 he2 ta1 de5 wei4 kou3\n",
      "008739 ca1 zui3 ba5 na2 lai2 ca1 zui3 ba5 de5\n",
      "009571 xiao3 nv3 hai2 ting3 guai1 de5 mei2 you3 ku1 nao4\n",
      "009301 li4 wei2 fou3 ren4 le5 zhe4 yi1 bao4 dao4\n",
      "009643 qi2 huo3 dian3 wei4 yu2 he2 bian1\n",
      "008241 ni3 rang4 nong2 min2 ba3 dui1 ji1 ru2 shan1 de5 jie1 gan3 na2 qu4 gan4 shen2 me5\n",
      "008633 ling4 wai4 ta1 na4 jiong3 jiong3 you3 shen2 de5 yan3 guang1 he2 wei1 xie2 ta1 ren2 de5 biao3 qing2 ye3 fei1 chang2 dai4 jin4\n",
      "008613 dui4 da4 sai4 tui1 chu1 de5 xi4 lie4 chi3 cun4 biao1 zhun3 zhou1 cen2 cen2 ren4 wei2 you3 xie1 nan2 yi3 jie1 shou4\n",
      "008463 li3 jin3 man4 de5 jia1 fu4 mu3 yi4 zha2 yan3 dou1 bu4 zai4 le5\n",
      "009137 ci3 wai4 da1 shou4 bei4 jiao4 ting2 li4 yong4 li2 cai2 chan3 pin3 gao1 xi1 lan2 chu3 de5 xian4 xiang4 ye3 jiang1 bei4 e4 zhi4\n",
      "008626 you3 zhe5 jin1 shu3 lan2 gan1 de5 da4 men2 xu1 yan3 zhe5\n",
      "009625 hu4 ji2 yi1 jiu4 kun2 bang3 le5 hu4 ji2 ren2 kou3 de5 te4 xu3 quan2\n",
      "008200 ren2 men5 song3 jian1 suo1 tou2 bi4 zhe5 zui3 bu4 shuo1 hua4\n",
      "008735 wo3 jiu4 shi4 zhe4 yang4 xiang3 shou4 men4\n",
      "009563 zai4 zuo4 wan2 jian3 cha2 fan3 hui2 bing4 fang2 tu2 zhong1 lin2 lin2 tang3 zai4 bing4 chuang2 shang4 bai3 nong4 shou3 ji1\n",
      "009223 wo3 ye3 shi4 yi2 ge4 wu2 chi3 de5 tai2 wan1 ren2 na4\n",
      "008954 shuo1 dao4 hai1 shi2 zhou1 wei2 yi4 qun2 nian2 qing1 bai2 ling3 fen1 fen1 lou4 chu1 shi2 hua4 biao3 qing2\n",
      "009860 hong2 guang1 lu4 shang4 de5 qin2 pang2 gong1 jing3 qu1 yi2 du4 rang4 ren2 men5 ren4 wei2 zhe4 li3 jiu4 shi4 pang2 gong1\n",
      "008029 yi3 qian2 ta1 jiu4 you3 guo4 ji3 ci4 bei4 he2 nan2 sheng3 dui4 tui4 hui2 de5 jing1 li4 li3 you2 ye3 shi4 tai4 ai3\n",
      "008324 wo3 shi4 ni3 de5 yu3 yin1 zhu4 li3 ya1 ren2 gong1 zhi4 neng2 mei2 shao2 nv3 wo3\n",
      "008716 zhi1 dao4 cuo4 le5 jiu4 hao3\n",
      "008425 jiu4 zhe4 yang4 shou3 lian4 ye3 gen1 zhe5 shuai3 chu1 qu4 le5\n",
      "009645 kuai4 ren2 kuai4 yu3 shi4 li3 yong3 bo1 de5 ge4 xing4\n",
      "008040 bu4 hao3 ba1 jie2 shi2 jian3 fei2 hen3 tong4 ku3\n",
      "008768 nong2 ye4 ke1 ji4 zai4 guang3 da4 xi1 bu4 nong2 cun1 de5 pu3 ji2 hua4 cheng2 du4 hen3 gao1\n",
      "009007 liang3 ren2 cuo4 che1 zhi1 ji4 mao2 die1 die5 tu1 ran2 shuai1 dao3 shou4 shang1\n",
      "008403 yan3 yuan2 de2 duo1 gao1 xin1 li3 su4 zhi4 he2 liu2 lei4 ji4 qiao3 cai2 neng2 da2 dao4 yao1 qiu2 wa1\n",
      "008388 bao4 yu3 tian1 zai4 lu4 shang4 bei4 lin2 cheng2 le5 luo4 tang1 ji1\n",
      "009362 zhe4 ji1 ju4 hua4 ru2 kong3 bu4 pian4 li3 de5 kong3 bu4 yin1 yue4 jia1 shen1 le5 yu3 xiang2 de5 ju2 cu4 bu4 an1\n",
      "008971 er2 an4 zhao4 nong2 cun1 feng1 su2 wang2 wang3 shi4 jie2 hun1 shi2 nan2 fang1 chu1 fang2 zi5 nv3 fang1 chu1 jia4 zhuang5\n",
      "008924 zai4 luan2 cheng2 xian4 hong2 ri4 yong3 he2 dou4 jiang1 dian4 ji4 zhe3 kan4 dao4 le5 yi1 kuai4 cheng2 xin4 jian1 guan3 pai2\n",
      "009432 su1 jing4 mei2 you3 dian3 di1 de5 xing1 fen4 dao3 shi4 su1 mu3 wei2 kong3 tian1 xia4 bu4 zhi1 si4 chu4 da3 dian4 hua4 tong1 zhi1\n",
      "008578 wei4 ci3 ying1 guo2 lu4 hua2 gong1 si1 jiang1 zhong1 guo2 shang1 ping2 wei3 qi3 su4 zhi4 fa3 yuan4\n",
      "008002 xi3 huan5 ba3 li3 ao2 de5 shu1 cha1 zai4 niu2 zai3 ku4 de5 qian2 mian4\n",
      "009967 shi4 shi2 shang4 shi4 cong2 lai2 mei2 you3 yi2 ge4 qi1 shan4 pa4 e4 de5 ren2 neng2 zuo4 chu1 guo4 shao1 da4 yi4 dian3 de5 cheng2 jiu4\n",
      "008475 bu4 fen4 min2 zhong4 zhuo2 gao3 guai4 fu2 zhuang1 zhan4 zai4 kuang2 feng1 bao4 yu3 zhong1 zhao4 xiang4 fan1 jin1 dou3\n",
      "008737 zhe4 ge4 jiang2 fa3 wo3 ren4 wei2 shi4 bu4 fu2 he2 shi2 ji4 qing2 kuang4\n",
      "008915 he2 fan1 hai2 tang3 zai4 chuang2 shang4 deng3 ta1 ba4 pai4 che1 lai2 jie1 jian4 qiu1 zhi4 jie2 zai4 fa1 dai1 shuo1 ni3 zai4 xiang3 shui2\n",
      "009865 wei4 le5 neng2 pao3 qi3 lai5 fang1 bian4 ta1 men5 zhi1 bei1 zhe5 jian3 dan1 de5 gong1 ju4 hu4 xiang1 zhao4 ying4 zhe5 neng2 pao3 jiu4 pao3\n",
      "008598 qian2 zhe4 zhong3 dong1 xi1 dui4 ji1 qi4 ren2 lai2 shuo1 yong2 yuan3 mei2 you3 zhi1 shi2 he2 nu3 li4 zhong4 yao4\n",
      "009120 qing3 kao3 lv4 zai4 zhong1 qing2 ju2 de5 quan2 qiu2 ren4 zhi2 ji1 hui4\n",
      "008979 chu2 le5 shang4 zi4 ji3 zhuan1 ye4 kai1 de5 ke4 mu4 peng2 hai2 xi3 huan5 dao4 bie2 de5 zhuan1 ye4 ceng4 ke4\n",
      "008470 shou4 zhu4 qun2 zhong4 wu2 bu4 jiao1 kou3 cheng1 zan4 dang1 nian2 de5 lao3 ba1 lu4 zuo4 feng1 you4 hui2 lai5 le5\n",
      "009868 ru2 guo3 chi1 qi3 lai5 fei1 chang2 xi4 ni4 ze2 shuo1 ming2 yu4 mi2 fen3 jia1 de2 bu4 duo1\n",
      "008523 zai4 mou3 zhong3 yi4 yi4 shang4 ye2 xu3 zhe4 bing4 fei1 wei1 yan2 song3 ting1\n",
      "008245 xiao3 zhen4 shang4 de5 ren2 dou1 cheng1 zhi1 wei2 cai2 zi3\n",
      "008472 gong1 ren2 men2 xian1 ban1 kai1 ku1 long5 zhou1 wei2 de5 jie1 zhuan1 zai4 yong4 dian4 zuan4 zao2 kai1 shui3 ni2 ban3\n",
      "008699 duo1 xie4 peng2 chang3 he1 he1\n",
      "009970 ju4 xi1 ao4 ba1 ma3 yi4 jia1 ren2 dui4 zhe4 zuo4 dong1 ji4 bai2 gong1 ji2 wei2 man3 yi4\n",
      "008381 jiu4 hao3 xiang4 zui4 hou4 yi1 ci4 ce4 shi4 wo3 zhong1 yu2 beng4 guo4 qu4 ji2 ge2 le5\n",
      "009443 lao3 shi1 zai4 xiang3 yi4 xiang3 jing1 chang2 na2 yi4 ba3 jian3 dao1 zai4 hua1 cong2 bian1 liu1 da2 de5 shi4 shen2 me5 ren2\n",
      "009091 nv3 ren2 ti3 yan4 zhe5 tong4 ku3 er2 xing4 fu2 de5 shi2 ke4\n",
      "008242 chen1 zhou1 shi4 jian3 cha2 yuan4 ye3 yi3 jie4 ru4 diao4 cha2\n",
      "008712 huan1 ying2 lai2 gen1 wo3 men5 shuo1 shuo1\n",
      "009065 qi4 jin1 wei2 zhi3 ta1 reng2 ran2 bi3 geng1 bu2 chuo4\n",
      "009604 san1 sui4 na4 nian2 he2 hen3 duo1 xiao3 peng2 you3 yi1 yang4 xiao3 qi2 xi3 huan5 shang4 le5 yao3 shou2 zhi3\n",
      "009505 huo4 de2 yi2 ding4 fen1 shu4 de5 wai4 ji2 ren2 shi4 jiang1 bei4 shi4 wei2 gao1 ji2 ren2 cai2\n",
      "008273 gong1 dian4 fu2 wu4 re4 xian4 jiu2 wu3 wu3 jiu3 ba1 bao3 chi2 er4 shi2 si4 xiao3 shi2 chang4 tong1\n",
      "009999 yin1 hua4 guo2 feng1 xiao1 ji1 mu4 di4 she4 ji4 gen1 ju4 qi2 shu3 xiang4 she4 ji4\n",
      "009122 xin1 yi4 lun2 tou2 zi1 sheng4 yan4 xi1 xi1 rang2 rang3 jie1 wei2 li4 lai2\n",
      "008285 shi4 cheng2 hou4 lin2 ju1 hui4 gei3 bao4 chou5\n",
      "009674 bu4 guan3 xia4 fang4 yu4 bei4 dui4 de5 shi4 shen2 me5 ren2 dou1 ke2 yi3 hui2 dao4 dui4 wu3 zhong1 lai2\n",
      "008234 hen3 duo1 wang2 you3 dui4 guang3 zhou1 lv3 ke4 lu2 mang3 de5 xing2 wei2 biao3 shi4 qian3 ze2\n",
      "009969 mei3 fang1 dui4 jin4 qi1 dong1 hai3 ju2 shi4 biao3 shi4 guan1 qie4\n",
      "009698 min2 jing3 yi1 lu4 cong2 yong3 xing1 xian4 dao4 chen1 zhou1 shi4 qu1 di4 duan4 ji1 shi2 gong1 li3 pai2 cha2 suo2 you3 yi1 yuan4\n",
      "009892 jing3 fang1 cha2 xun2 le5 wu4 liao4 ling2 qu3 dan1 ju4 ri4 qi1 yu3 an1 zhuang1 shi2 jian1 xiang1 fu2\n",
      "009917 geng1 rang4 xu2 xian1 sheng1 na4 men4 de5 shi4 fang2 ke4 de5 shou3 ji1 ye3 da3 bu4 tong1 le5\n",
      "009257 ni3 zhang3 ge4 yan3 jing5 shi4 chu1 qi4 de5 ma2\n",
      "008805 sui1 ran2 te4 bie2 xiang3 yao3 na4 kuai4 rou4 dan4 hai2 shi4 xian1 ren3 zhu4 ba3 zhou1 wei2 de5 pi2 chi1 wan2\n",
      "008350 ta1 shuo1 zi4 ji3 kuai4 bie1 huai4 le5\n",
      "008223 si4 shi4 qi3 ye4 guo2 ji4 hua4 jing1 ying2 neng2 li4 jiao4 ruo4\n",
      "009944 wo3 xian4 zai4 hai2 bu2 hui4 zhe4 jiu4 hui2 qu5 wen4 wen4 fa1 ming2 wo3 de5 ren2\n",
      "009195 ta1 bing4 bu4 zhi1 dao4 yi3 jing1 huai2 yun4 yi4 zhi2 yi3 wei2 shi4 zhang3 pang4 le5\n",
      "008502 zai4 xing2 shi3 guo4 cheng2 zhong1 pin2 pin2 dian3 sha1 gu4 yi4 rang4 che1 kai1 de2 dian1 bo3 ba3 cheng2 ke4 huang3 shui4\n",
      "009225 hou4 lai2 nv3 qing1 nian2 bei4 min2 jing3 la1 shang4 jing3 che1 dai4 wang3 pai4 chu1 suo3 xing2 jiu3\n",
      "009145 dui4 yu2 yu3 ying1 cai3 er2 de5 hun1 yin1 ta1 hen3 you3 zi4 xin4 de5 shuo1 jie2 hun1 jiu4 shi4 yi1 bei4 zi5 de5 shi4\n",
      "008092 wu2 nai4 zhi2 qin2 min2 jing3 zhi3 dei3 liu2 yi4 ming2 fu2 jing3 liu2 shou3\n",
      "008348 he2 xiao3 jie5 jia1 yang3 de5 huang2 jin1 mang3\n",
      "009293 di4 si4 jiu4 shi4 xuan3 ze2 tui2 fei4\n",
      "008383 shou3 xian1 yao4 you3 ge4 hao3 shen1 ti3 qi2 ci4 hai2 yao4 fu4 chu1 nu3 li4\n",
      "008289 zhe4 gu4 shi4 jiao4 yi2 ge4 wen2 mang2 de5 bei1 ai1\n",
      "008005 bu2 tai4 ming2 bai5 shen2 me5 yi4 si1\n",
      "009706 qiao2 de5 ling4 yi4 duan1 wei2 fang2 zhi3 ren2 shang4 qiao2 te4 yi4 qi4 qi3 le5 yi4 du3 ai3 qiang2\n",
      "009960 yin1 wei4 wo3 men5 suo3 fa1 chu1 de5 li4 liang4 bi4 hui4 yin1 nan2 du4 jia1 da4 er2 jian3 ruo4\n",
      "008922 ren2 men5 yi2 dan4 zhua1 zhu4 wo3 yong4 dui4 fu5 ni3 de5 fang1 fa3 jiang1 hui4 yao4 wo3 de5 ming4\n",
      "008574 zui4 zhong1 jie2 guo3 shi4 xie4 hong2 qiang2 ying2 le5 ling4 yi4 jia1 tao3 zhai4 gong1 si1 bei4 nian2 zou3\n",
      "008778 hu4 shi5 pa4 ren2 xiao4 hua5 bian4 ba3 zi4 ji3 de5 niao4 yang4 na2 qu4 hua4 yan4\n",
      "008376 suo2 you3 seng1 ren2 dou1 pao3 le5 chu1 lai2\n",
      "009323 dang1 nian2 zong3 shou1 ru4 wei2 ren2 min2 bi4 qi1 shi2 yi4 dian3 wu3 si4 wu3 yi4 yuan2\n",
      "008172 wo3 dun4 shi2 yi1 jin3 zhang1 zhe4 bu2 shi4 lao3 duan4 zi5 ma2 wo3 zen3 me5 hui4 yi4 zhi2 xiu1 dian4 nao3\n",
      "008328 er4 shi4 ren3 ru3 fu4 zhong4 he2 nan2 ren2\n",
      "008751 yue4 lan3 shi4 li3 ren2 tou2 cuan2 dong4 dan4 ya1 que4 wu2 sheng1\n",
      "009641 dan4 you3 yu2 min2 ren4 wei2 jin4 qi1 shui3 hu2 lu2 de5 ying2 xiang3 yi3 bu2 da4\n",
      "008280 zai4 ta1 jia1 meng2 zhi1 chu1 lian2 pu3 hai2 zhi3 shi4 kan4 shang5 qu5 hen3 mei3 zi1 jin1 zhuang4 kuang4 you3 jin4 wu2 chu1\n",
      "008095 zhe4 ji3 tian1 shou1 kan4 xin1 wen2 le5 ma2\n",
      "008764 jiu4 zai4 zhe4 shi2 ta1 bei4 peng2 you5 po1 le5 leng2 shui3\n",
      "009406 cong2 ci3 ge1 dong3 de5 le5 yi2 ge4 dao4 li5 zuo4 ren2 yao4 cheng2 shi2\n",
      "008296 wen1 zong2 li3 ci3 hang2 an1 pai2 shi2 fen1 jin3 cou4\n",
      "008747 wei2 yang3 er2 fang2 lao3 wang2 nv3 shi4 qi3 su4 qian2 fu1 yu4 tao3 hui2 nv3 er2 de5 fu3 yang3 quan2\n",
      "009206 wo3 neng2 gao4 su4 ni3 men5 zao3 chen2 wo3 ba4 chu1 men2 gen1 wo3 shuo1 rang4 wo3 zhong1 wu3 zi4 ji3 chi1 pao4 mian4 ma2\n",
      "009564 bu2 guo4 wang2 you3 dou1 fen1 fen1 zhi1 chi2 ying1 cai3 er2 zhe4 yi1 ba4 qi4 xing2 wei2\n",
      "008384 cheng2 du1 niao3 yu3 lin2 yuan2 lai2 zhun3 bei4 kai1 zhan3 de5 you2 ke4 qi2 tuo2 niao3 xiang4 mu4 ye3 bu4 gao3 le5\n",
      "009361 bu4 shao3 ren2 yin1 ci3 ren4 shi2 le5 guang3 zhou1 ji4 zhu5 le5 hai3 xin1 sha1 xiang4 wang3 zhu1 jiang1 bian1 de5 cui3 can4\n",
      "008810 guo2 nei4 zhao4 ming2 hang2 ye4 de5 ling3 tou2 yang2 lei2 shi4 zhao4 ming2 jue2 ding4 shuai4 xian1 chu1 ji1 jin4 xing2 zi4 zhu3 yan2 fa1\n",
      "008837 qiang2 du4 di1 yong4 shou3 kou1 ke3 tuo1 luo4\n",
      "009251 qu3 diao4 shi4 xian4 cheng2 de5 dong1 bei3 ren2 dou1 neng2 heng1 heng1 ji1 ju4 de5 er4 ren2 zhuan4\n",
      "008050 yi2 xiang4 yi4 fen1 qian2 dou1 yao4 bai1 cheng2 liang3 ban4 hua1 de5 fu4 qin1 wei4 le5 er2 zi5 da4 bai3 yan4 xi2\n",
      "009779 si1 di3 xia4 ye3 bu4 ceng2 jian4 mian4 guo4\n",
      "009929 zui4 zhong1 zhong1 guo2 nan2 zi3 ping1 pang1 qiu2 dui4 huo4 de2 ci3 jiang3 xiang4\n",
      "008789 shuo1 hao3 he2 wo3 bai2 tou2 xie2 lao3 de5 ni3 ran3 fa4 shi4 ji3 ge4 yi4 si1\n",
      "008912 cen2 huang2 liang3 ren2 ge4 fen1 de2 liang3 wan4 duo1 yuan2\n",
      "008048 zheng4 wei3 rui4 shuang1 lin2 gao4 su4 ji4 zhe3 zai4 zhe4 li3 wo3 men5 yi1 ju2 shou3 yi1 tou2 zu2 dou1 guan1 hu1 wo3 jun1 de5 xing2 xiang4\n",
      "009080 qi2 shi2 tian2 xing1 jiu4 shi4 zhi4 zhang4 zhe3 lv3 tian1 xi3\n",
      "009208 nao4 le5 ban4 tian1 nin2 gan3 qing2 shi4 ye4 cha1\n",
      "009110 mei2 ban4 fa3 zhi3 neng2 xuan3 ze2 chu1 xing2 duo2 duo3 feng1 tou5\n",
      "008838 shi4 fa1 zao3 ying2 nan2 li3 liu4 hao4 lou2 qi1 ling2 liu4 shi4 de5 yi2 ge4 xiao3 wo4 shi4\n",
      "008286 zheng4 yin1 ru2 ci3 ta1 men5 zai4 xuan3 ze2 gong1 zuo4 shi2 hui4 xiang1 dui4 tiao1 ti4 yi4 xie1\n",
      "009013 dui4 yu2 wu2 li4 ke3 tu2 de5 ke4 hu4 qu2 dao4 ye3 ba3 ta1 men5 qia1 duan4 le5\n",
      "008558 shuang1 shou3 bei4 xi4 tie3 si1 kun3 zha1 lian3 se4 tie3 qing1 chu3 yu2 hun1 mi2 zhuang4 tai4\n",
      "009984 cong2 xiao3 dao4 da4 ge2 qi3 yi4 mei2 you3 shou1 dao4 guo4 ya1 sui4 qian2\n",
      "009322 lao3 gong1 hen3 mei2 qing2 diao4 de5 wen4 lao3 po2 shuo1 ma2 ni3 xiang3 yao4 sha2\n",
      "009054 ju4 xi1 lao3 tai4 tai5 du2 zi4 yi4 ren2 ju1 zhu4 shen1 bian1 wu2 ren2 zhao4 gu5\n",
      "009275 you3 wei1 xian3 de5 di4 fang1 bu2 yao4 rang4 xue2 sheng5 qing1 sao3 bi3 ru2 ca1 chuang1 hu5\n",
      "008986 xin4 ji4 chu1 hou4 wang2 xiao1 jue2 de5 shi4 jie4 mang2 ran2 yi1 pian4 xin1 ma2 mu4 de2 ting2 zhi3 le5 tiao4 dong4\n",
      "009067 chao1 shi4 li3 que4 chao2 mi2 fen3 mai4 de2 bu2 cuo4\n",
      "009429 gai1 an4 mu4 qian2 yi3 jin4 ru4 yi2 jiao1 fa3 yuan4 qi3 su4 jie1 duan4\n",
      "009951 zeng1 bao3 yi2 zai4 jie2 mu4 lu4 zhi4 xian4 chang3 da4 bao4 guan1 zhong4 qiu3 shi4\n",
      "009566 xiang3 zhe5 xiang3 zhe5 zi4 ji3 bei4 zi4 ji3 dou4 le4 dui4 zhe5 jun1 huo3 ku4 zao4 xing2 de5 yu2 guo3 tang2 kai1 huai2 da4 xiao4\n",
      "009261 gui3 shi3 shen2 chai1 zhe4 ci4 a1 bing1 na2 chu1 le5 zhen1 shi2 shen1 fen4 zheng4 yong4 yu2 deng1 ji4\n",
      "009579 qian2 ji3 nian2 huo3 che1 ti2 su4 dan4 na4 li3 de5 hai2 zi5 que4 bu4 neng2 ti2 su4\n",
      "008500 ye4 nei4 ren2 shi4 biao3 shi4 xian4 zai4 wo2 sheng3 xiao1 fei4 zhe3 yi3 shou3 ci4 gou4 che1 wei2 zhu3\n",
      "008293 wo3 hai2 xiang3 zi4 you2 zi4 zai4 de5 duo1 wan2 ji3 nian2 suo2 yi3 xian4 zai4 hai2 shi4 dan1 shen1 ne5\n",
      "009660 wo3 neng2 hen3 xin1 da3 duan4 ni3 bu4\n",
      "008882 dan4 shi4 sheng4 da4 wang3 luo4 de5 jing4 li4 run4 zai4 di4 er4 ji4 du4 que4 bao4 die1\n",
      "008436 wei4 liao4 yi4 tian1 qing1 chen2 wo3 hai2 zai4 bei4 wo1 li3 hu1 ting1 yi1 zhen4 xi1 xi1 de5 zhua2 zi3 nao2 men2 sheng1\n",
      "009129 xue2 dao4 cheng2 chu2 fa3 shi2 jiu4 hui4 bei4 jiu3 jiu3 cheng2 fa3 biao3\n",
      "009359 gai1 dian4 shi4 ming2 ma3 shi2 jia4 ye3 ti2 gong1 bu4 tong2 you1 hui4 jing1 ming2 de5 xiao1 fei4 zhe3 dong3 de5 xuan3 ze2\n",
      "009199 chu2 le5 zhang4 peng5 xiao3 ban3 deng4 yu2 san3 mian2 shou3 tao4 yi3 ji2 mian2 mao4 deng3 ye3 dou1 fen1 fen1 shang4 zhen4\n",
      "008162 ni3 de5 shen1 ying3 zong3 shi4 zai4 wo3 xin1 li5 huang3 lai2 huang3 qu4\n",
      "008120 san1 shi4 quan2 guo2 tie3 lu4 ke4 fu2 dian4 hua4 tong3 yi1 wei2 yao1 er4 san1 ling2 liu4\n",
      "009685 dang1 shi2 xin1 li5 zhi1 xiang2 shao3 re3 ma2 fan5\n",
      "009551 ta1 ti2 xing3 tou2 zi1 zhe3 jing3 ti4 hui4 fou3 chu1 xian4 zhi4 zhang4 xian4 xiang4\n",
      "009087 bei4 bu4 de5 ju4 zhi4 yin1 ci3 bei4 ceng4 lan4 hao3 duo1 hui2\n",
      "009712 za2 jiao1 shui3 dao4 ying4 yong4 ze2 shi4 ti2 gao1 shui3 dao4 chan3 liang4 de5 zui4 jia1 xuan3 ze2\n",
      "008695 shui2 jiu4 yi4 xiao3 ming2 xing1 shui2\n",
      "008953 de2 fa3 fei1 chang2 nao2 huo3 ying1 guo2 de5 li4 chang3 rang4 de2 fa3 deng3 guo2 fei1 chang2 nao2 huo3\n",
      "008858 ke3 shi4 ru2 guo3 cong2 li3 yi2 wen2 hua4 ben3 shen1 lai2 shuo1 xiang4 zhang3 bei4 gong2 shou3 shi4 bu4 he2 shi4 de5\n",
      "009689 zhe4 ye3 shi4 zuo4 wei2 wang3 luo4 xie2 shou3 zui4 tong4 ku3 de5 shi4\n",
      "008655 yi3 qiu1 fu4 jin4 mi4 mi5 ma2 ma2 de5 ju4 ji2 le5 da4 xiao3 hong2 huo2 yi3 yi3 ji2 yi1 chuan4 chuan4 de5 yi3 luan3\n",
      "008844 jian4 yi4 zai4 zhen1 zhuo2 tuo3 dang4 xiu1 gai3\n",
      "009358 zuo2 ri4 jin1 feng1 biao3 shi4 zai4 jie2 mu4 zhong1 de5 yan2 lun4 wei4 jing1 guo4 yan4 zheng4 you3 shi1 yan2 jin3 he2 tuo3 dang4\n",
      "009568 ta1 he2 yi4 bang1 shuo1 hua4 du1 du1 nang1 nang1 cheng2 tian1 tiao4 wu3 de5 ren2 sheng1 huo2 zai4 yi4 qi3\n",
      "008744 ta1 men5 bei4 suo3 lian4 shuan1 zai4 chuang2 shang4 jie1 shou4 ji2 duan1 zhu3 yi4 guan1 dian3 de5 jiao4 yu4\n",
      "008686 ta1 hen3 chan2 wo3 he2 lao3 gong1\n",
      "008430 he1 zui4 le5 de5 li2 kan3 bei4 ti1 xing3 hou4 fan1 shen1 zhan4 qi3 yu3 zhe4 ming2 min2 jing3 si1 che3 qi3 lai5\n",
      "008042 zhe4 jiu4 xiang1 dang1 yu2 jiang1 duo4 tai1 he2 fa3 hua4\n",
      "008562 ling4 wai4 wo3 men5 hai2 neng2 zan3 dian3 qian2 zuo4 dian3 xiao3 tou2 zi1 sheng1 huo2 ya1 li4 ye3 bu2 zhi4 yu2 tai4 da4\n",
      "009177 mu4 qian2 zhou1 bian1 ge4 sheng3 shi4 de5 chang2 tu2 che1 zhan4 yi3 shi2 xing2 shi2 ming2 gou4 piao4 jin4 zhan4 an1 jian3\n",
      "009675 zhe4 qi2 zhong1 yi3 ou1 meng2 de5 guan1 qia3 zui4 wei2 guan1 jian4 he2 jian1 nan2\n",
      "009232 ai4 fu2 long2 de5 er2 zi5 shuo1 ta1 de5 mu3 qin1 yin1 fei4 yan2 bing4 shi4 zai4 man4 ha1 dun4\n",
      "008685 yi1 sheng1 yi1 kan4 jing1 dai1 le5\n",
      "009605 gao2 hao3 da4 xue2 sheng1 qin3 shi4 guan1 xi4 zi4 ran2 ye3 yi4 yi4 zhong4 da4\n",
      "008671 tu2 wei2 yi4 zhi1 xi3 que4 zai4 xue3 tian1 mi4 shi2\n",
      "009910 zhe4 ji3 tian1 yu2 shui3 bu2 duan4 ren2 men5 hen4 bu4 de2 dai4 zai4 jia1 li3 bu4 chu1 men2\n",
      "009487 ci3 wai4 huan4 zhe3 ke2 you3 fan2 ke3 chu1 han4 liu2 xian2 si4 zhi1 ji1 rou4 jing4 luan2 hu1 xi1 kun4 nan2 deng3 zheng4 zhuang4\n",
      "008830 mian4 dui4 xiang1 e4 qing2 de5 tui2 shi4 ji1 gou4 jian4 sheng1 tui4 yi4\n",
      "009353 zhe4 xie1 nian2 ru2 guo3 bu2 shi4 wo3 zai4 zhong1 jian1 de5 hua4 chen2 ming2 liang4 zao3 jiu4 bei4 zhong1 ai3 er2 chu2 diao4 le5\n",
      "008269 kong1 tou2 cheng2 gong1 le5 bei4 kun4 de5 wu3 qian1 duo1 qun2 zhong4 you3 jiu4 le5\n",
      "009852 zai4 chen2 shui2 bian3 dan1 ren4 tai2 bei3 shi4 yi4 yuan2 shi2 su1 huan4 zhi4 ceng2 dan1 ren4 bian3 zhu4 li3\n",
      "008978 ru2 he2 gou1 tong1 zen3 me5 gou1 tong1 jian4 jian4 cheng2 wei2 wo3 men5 ri4 si1 ye4 xiang3 de5 zhu3 ti2\n",
      "009378 nv3 jia4 shi3 yuan2 bu2 le4 yi4 le5 zui2 li3 kai1 shi3 ma4 ma4 lie1 lie1 de5\n",
      "009181 shi4 hou4 zhang1 jian4 bei4 zhen3 duan4 you4 gu2 gu2 jing3 chu3 gu3 zhe2 zai4 yi1 yuan4 jin4 xing2 le5 shou3 shu4 zhi4 liao2\n",
      "009701 zai4 ci4 jiao1 yi4 shi2 jie4 shao4 ren2 jian4 mou3 he2 ta1 de5 peng2 you5 yang2 mou3 da2 qi3 le5 qi2 ta1 suan4 pan2\n",
      "009922 yi4 zhong3 biao3 shi4 shang1 pin3 suo3 you3 quan2 de5 cai2 wu4 zheng4 quan4 ye3 cheng1 shang1 pin3 zheng4 quan4 ru2 ti2 huo4 dan1 jiao1 huo4 dan1\n",
      "008732 zhe4 yi1 jia3 she4 bing4 bu4 kua1 zhang1\n",
      "009889 gai1 ren2 shi4 ti2 xing3 bu2 yao4 sui2 yi4 yi2 qi4 quan3 zhi1 gei3 shi4 min2 chu1 xing2 dai4 lai2 an1 quan2 yin3 huan4\n",
      "008238 xu2 hu3 du2 shu1 shi2 yi4 zhi2 dou1 kao4 xue2 xiao4 fa1 gei3 de5 zhu4 xue2 jin1\n",
      "008965 wo3 he2 bi4 rou2 shi4 yan1 jing1 da4 xue2 de5 tong2 ban1 tong2 xue2 ta1 bi3 wo3 xiao3 qi1 ge4 yue4\n",
      "009580 er2 ci3 ci4 can1 jia1 ren2 shu4 zhong4 duo1 ye3 rang4 mai4 xiang4 ding2 dian3 de5 nan2 du4 zeng1 jia1\n",
      "008783 da3 wan2 gong1 hou4 hai2 shi4 hui2 cun1 li3 lai2 gai4 xin1 fang2 gao3 chan3 ye4\n",
      "008559 bing4 qie3 mei3 ci4 ba3 ping2 sai1 la1 chu1 lai2 de5 shi2 hou5 dou1 yao4 da4 jiao4 yi4 sheng1\n",
      "009598 xue2 xiao4 de5 zou3 du2 sheng1 zai4 fang4 xue2 hou4 shi4 bu4 yun2 xu3 zai4 xue2 xiao4 dou4 liu2 de5\n",
      "008489 xiao3 yao2 zai4 hai3 bin1 mu3 qing4 de5 pei2 tong2 xia4 zai4 ci4 duo4 tai1\n",
      "009718 jin1 tian1 de5 jiu3 quan2 wei4 xing1 fa1 she4 zhong1 xin1 qiu1 gao1 qi4 shuang3 yang2 guang1 can4 lan4\n",
      "009996 ling4 yi1 nan2 zi3 pu1 le5 shang4 lai2 shou2 li3 na2 zhe5 ming2 huang2 huang3 de5 chang2 dao1 xiang4 ta1 xiong1 kou3 zhi2 ci4\n",
      "008869 wang3 shang4 de5 dian4 jia1 cheng1 ta1 men5 xiao1 shou4 de5 nai2 fen3 shi4 gang2 ban3 dai4 gou4\n",
      "008080 hai2 yao4 jiao4 ta1 qi3 chuang2 ne5 zen3 me5 hui4 bu4 zao2 qi3\n",
      "008062 chen2 li3 dong1 zhi4 dian4 dian4 cheng2 zhen4 bin4 gai3 dui4\n",
      "009637 yang2 guang1 zhi1 xia4 kuai4 pao3 zhe3 wei4 bi4 xian1 da2 li4 zhan4 zhe3 wei4 bi4 neng2 sheng4\n",
      "009057 you3 ci4 peng2 you5 yi4 qi3 da3 ma2 jiang4 san1 que1 yi1 you3 ge4 peng2 you5 dai4 ge4 bu4 ren4 shi2 de5 peng2 you5 lai2 wo3 men5 wen4 ta1 hui4 wan2 ma2\n",
      "009570 ta1 de5 dao4 lai2 shi4 yi1 jian4 hao3 shi4 wo3 hen3 huan1 ying2 ta1 bu4 guan3 shi4 dai4 biao3 ge4 ren2 hai2 shi4 dai4 biao3 ju4 le4 bu4\n",
      "009798 gan1 die1 die5 cheng1 qi3 yu2 san3 man4 man4 zou3 le5 guo4 qu4\n",
      "009449 bi3 ru2 qian2 shao4 nai2 nai3 zhou1 xun4 he2 zhang1 yu3 qi3\n",
      "008510 rang4 ren2 huai2 yi2 shi4 ci3 jun1 ke4 wan2 hou4 tiao4 xia4 qu4 le5\n",
      "009968 wo3 hui4 da3 kai1 you2 jian4 ni3 ke2 yi3 cong2 na4 li3 ji4 xu4\n",
      "008832 shu4 ci4 xun2 wen4 yi1 sheng1 lu2 mou3 que4 hui2 fu4 mei2 you3 da4 ai4\n",
      "009688 hai3 deng1 dui4 zou1 jia1 hua2 de5 lai2 fang3 biao3 shi4 huan1 ying2\n",
      "009305 li4 ru2 fen4 nu4 de5 xiao2 niao3 jiu4 shi4 ni3 hua4 wo3 cai1 de5 mu2 ban3\n",
      "009911 mei2 xiang3 dao4 xu2 yun1 zhang1 hai3 xiang2 liang3 ren2 jiu4 ci3 wan2 qi3 le5 ren2 jian1 zheng1 fa1\n",
      "009694 ta1 ceng2 xiang3 guo4 fang4 qi4 jin2 guan3 ru2 jin1 ta1 yi3 shi4 yan2 hai3 mou3 shi4 de5 qing1 shao4 nian2 san4 da3 guan4 jun1\n",
      "008512 ting3 hao3 de5 chang2 tou2 fa4 gan4 ma2 jian3 de2 zhe4 me5 duan3\n",
      "009253 gui4 zu2 chao2 ting2 ming4 guan1 de5 si3 xing2 chu2 fa3 ze2 duo1 shi4 ci4 si3 mian3 xing2\n",
      "008983 fu2 cong2 bin1 yuan4 shi4 zheng4 shi4 zai4 ci3 ling3 yu4 qu3 de5 le5 ling4 ren2 zhu3 mu4 de5 cheng2 jiu4\n",
      "009340 ni3 xi3 huan5 wan2 shen2 me5 you2 xi4\n",
      "008058 ta1 men5 jiu4 xiang4 shi4 bei4 chong3 huai4 de5 hai2 zi5\n",
      "009857 xin1 hua2 she4 ji4 zhe3 zu1 jie4 yi4 sou1 dang1 di4 yu2 chuan2 kao4 jin4 le5 zai4 qian2 hai3 zhong1 de5 zhong1 guo2 yu2 chuan2\n",
      "008224 hui2 dao4 jia1 lin2 ma1 bu2 zhu4 cui1 wen4 ta1 shuo1 hai2 ke2 yi3 lin2 mu3 pai1 tui3 er2 qi3 ni3 shuo1 ke2 yi3 jiu4 shi4 bu4 hao3\n",
      "008036 ben2 wang3 dian4 hua4 ba1 ling2 ba1 ba1 jiu3 yao1 ba1 er4\n",
      "009053 wo3 hai2 mei2 yang3 guo4 chong3 wu4 ne5 bu2 guo4 dao3 shi4 hen3 xiang3 chang2 shi4 yi1 xia4\n",
      "009864 yi3 hou4 bi4 cheng2 tong2 zhi4 lv4 bu4 can1 jia1 le5 liang3 ci4 lian2 shui3 bao3 wei4 zhan4 ce4 ying4 le5 su4 bei3 da4 zhan4 de5 sheng4 li4\n",
      "008283 yi1 yuan4 mian4 shi4 gong1 si1 deng3 pai1 she4 chang3 di4 ye3 shi4 ta1 yi4 yi1 zhang1 luo5 de5\n",
      "008473 yuan2 ben3 zhi3 shi4 xiang3 xia4 hu3 xia4 hu3 ke3 shi4 zai4 kun2 bang3 xiao3 hao4 shi2 zao1 yu4 le5 fan3 kang4\n",
      "008687 na4 tian1 hai2 hao4 qi2 de5 wen4 ba4 ma1 le5 ke3 hai2 shi4 bu4 dong3\n",
      "008580 zhe4 nan2 dao4 jiu4 shi4 da4 ming2 ding2 ding3 de5 zhong1 guo2 qi1 wang2 huang2 xing1 guo2 ma2\n",
      "009785 bi2 ci2 bi2 ci3 ban4 jin1 ba1 liang3\n",
      "008643 lao2 ban3 gei3 le5 ta1 ba1 ba1 yi4 xiao3 cuo1 zi3 dan4 shang4 tang2 miao2 zhun3 er2 zi5 de5 tui3 peng1\n",
      "009166 hen3 kuai4 a1 cheng2 gong1 gong4 an1 quan2 zhuan1 jia1 ju2 hui4 ning2 pai4 chu1 suo3 min2 jing3 jiu4 gan3 dao4 le5\n",
      "009193 zhao4 pian1 zhong1 ling2 dao3 zhan4 zai4 shi2 tou5 yin1 ying3 xia4 dan4 lian3 shang4 guang1 xian4 reng2 ming2 huang2 huang3 de5\n",
      "009588 xin1 gui1 shi2 shi1 di4 er4 tian1 wo2 sheng3 yi4 xie1 di4 fang1 de5 mei2 kuang4 zhi2 xing2 qing2 kuang4 dao4 di3 ru2 he2\n",
      "008615 ji4 zhe3 zhun3 bei4 zai4 ci4 piao2 xi3 pang2 bian1 de5 xi3 wan3 gong1 cui1 cu4 zhe5 ke2 yi3 la1 ke2 yi3 la1\n",
      "008847 xiang1 xin4 da4 jia1 yi2 ding4 shou4 yi4 fei2 qian3\n",
      "009744 weng1 mei3 ling2 zi4 sha1 de5 zui4 zhu3 yao4 yuan2 yin1 shi4 gong1 zuo4 ya1 li4\n",
      "009732 qiao2 bu4 si1 zai4 wu3 shi2 liu4 sui4 shi2 yin1 yi2 xian4 ai2 bing4 shi4\n",
      "009151 dang1 ran2 shi4 mang2 zhe5 xue2 xi2 bian4 de5 geng1 bang4 lou2\n",
      "008100 jin4 ri4 shang4 rao2 shi4 zhong1 yuan4 zuo4 chu1 cai2 ding4 bo2 hui2 shang4 su4 wei2 chi2 yuan2 pan4\n",
      "009132 zi1 liao4 xian3 shi4 jing1 hu4 gao1 tie3 lang2 fang2 duan4 quan2 chang2 san1 shi2 dian3 san1 si4 er4 gong1 li3\n",
      "009185 ta1 deng4 da4 yan3 jing5 pao2 xiao4 zhe5 fa1 chu1 wu1 wu1 sheng1 yong4 zhua2 zi3 bao3 hu4 shi2 wu4\n",
      "009649 wo3 ba4 hai2 qu4 mu3 jia1 nao4\n",
      "009565 ta1 shuo1 dang1 shi2 zai4 pian4 chang2 huo4 bo2 ji1 hu1 gen1 suo3 you3 ren2 gan1 guo4 jia4\n",
      "008035 jie3 mei4 lia3 yi4 bian1 shang2 jing3 yi4 bian1 shuo1 xiao4\n",
      "009687 ta1 men5 neng2 zai4 jiang1 shui3 he2 hai2 shui3 zhong1 sheng1 cun2 bing4 qie3 cheng2 shu2 hou4 hui2 you2 dao4 chan2 luan3 di4 chan2 luan3\n",
      "008940 qi2 jian1 hai2 zi5 da3 le5 yi2 ge4 ge2 dan4 yi1 sheng1 kan4 wan2 hou4 shuo1 shi4 hai2 zi5 shui4 jiao4 da3 hu1 lu1\n",
      "008925 wang2 dan1 jia1 jin3 shou3 bao1 pai2 zai4 le5 ren2 qun2 zhong1 tie3 zha4 lan2 ba3 she2 xing2 dui4 wu3 fen1 ge2 cheng2 si4 zhi1\n",
      "009930 fang2 xun4 kang4 han4 liang3 shou3 zhua1 kang4 han4 xiang1 dui4 zhua1 de5 bu2 gou4\n",
      "008166 kan4 lai2 liang3 ren2 shi4 bi4 yao4 wei4 ci3 dui4 pu1 gong1 tang2 le5\n",
      "009277 chen2 hong2 zhi2 hao3 qing3 le5 liang3 ge4 bang4 bang4 ba3 mu3 qin1 tai2 hui2 le5 jia1\n",
      "008456 zhu3 guai3 nan2 zi3 xia4 shui3 tuo1 qi3 luo4 shui3 nv3\n",
      "009841 yi2 ge4 ju4 da4 de5 pi2 zang4 wan2 zheng3 tuo1 chu1 bo1 li2 jie2 za1 bing4 cheng2 gong1 qie1 chu2\n",
      "009418 guo1 hong2 ding4 jie4 shao4 qi2 zhong1 de5 yi1 san1 wu3 zhu3 yao4 jiu4 shi4 zhi3 gong1 zu1 fang2\n",
      "009499 yin1 wei4 zhi1 dao4 zi4 ji3 de5 shi1 bai4 yu3 wu2 neng2 yu2 shi4 xiang3 ban4 fa3 qu4 ke4 fu2\n",
      "008447 chang2 qi1 de5 ying2 yang3 bu4 zu2 dao3 zhi4 xu3 duo1 hai2 zi5 pu3 bian4 ai2 xiao3 you3 de5 hai2 huan4 shang4 wei4 bing4\n",
      "009683 shen2 me5 dou1 bu2 yong4 ni3 gan1 jiu4 zhe4 yang4 gei3 wo3 gui4 dao4 tian1 liang4\n",
      "008829 zhe4 bu4 fu2 he2 zheng4 ce4 gui1 ding4 ying1 yu2 cha2 chu3 jiu1 zheng4\n",
      "009365 zhan3 xin1 de5 lou2 fang2 gao1 gao1 song3 li4 ran2 er2 yi1 wang4 ke3 zhi1 xu3 duo1 fang2 zi5 reng2 zai4 kong1 zhi4\n",
      "009873 zhao4 gu1 niang2 bei1 zhe5 ge4 shuang1 jian1 bao1 zuo4 xia5 shi2 shun4 shi4 fang4 zai4 yi4 bian1\n",
      "009285 you3 bao4 dao3 shuo1 tuo1 de2 hai2 shi4 ken3 ta3 ji1 zhou1 de5 yi4 ming2 tong1 ji2 fan4\n",
      "008982 ou1 zhou1 he2 ri4 ben3 zai4 shuai1 tui4 bian1 yuan2 zheng1 zha2 zhi1 shi2 zhi1 cheng1 qi3 quan2 qiu2 jing1 ji4 de5 zeng1 zhang3\n",
      "009515 wu3 nian2 lai2 zai4 ji2 yue4 shang1 yong4 qing1 chun1 he2 re4 xue4 shu1 xie3 le5 biao1 bing3 shi3 ce4 de5 zhuang4 li4 pian1 zhang1\n",
      "009279 qing3 xie3 xia4 nin2 de5 xing4 ming2 xiang2 xi4 tong1 xun4 di4 zhi3 you2 zheng4 bian1 ma3\n",
      "009709 tiao2 li4 dui4 wu1 ran3 yuan2 pu3 cha2 de5 zu3 zhi1 shi2 shi1 zuo4 le5 na3 xie1 gui1 ding4\n",
      "009517 qing1 song1 ji1 kua3 ta3 li4 ban1 zhi1 hou4 mei3 jun1 mian4 dui4 de5 shi4 yi4 pan2 san3 sha1 shi4 de5 wu3 zhuang1 fen4 zi3\n",
      "009335 nan2 tong2 zai4 che1 hou4 wan2 shua3\n",
      "008496 ta1 de5 xun1 zhang1 you3 san1 chou1 ti5 dan4 shi4 mei2 shi2 me5 qian2\n",
      "009029 dan4 shi4 jia1 bao4 wa1 ta1 ye3 you3 nv3 de5 da3 nan2 de5 de5 shi2 hou5\n",
      "008014 liu2 ben3 yun2 shuo1 lai2 ta1 jia1 li3 de5 shi2 hou5 zhao4 xiao3 qi2 chuan1 zhe5 bu3 ding1 ku4 zi5\n",
      "009740 bi3 ru2 da4 zha2 xie4 shang4 shi4 le5 jiu4 fa1 pang2 xie4 quan4\n",
      "009983 tong3 le5 ta1 yi3 hou4 mo2 hu2 ji4 de5 ta1 mei2 za3 dong4 le5\n",
      "008307 ji4 ru2 ci3 he2 bu4 qu4 tuan2 jie2 yi1 qie4 neng2 gou4 tuan2 jie2 de5 ren2 ying2 zao4 zui4 da4 de5 li4 yi4 ne5\n",
      "009599 zhang1 guo2 li4 yu3 luo2 zhi4 xiang2 zhang1 shao2 han2\n",
      "009919 ta1 zai4 hou4 mian4 dai1 guan4 le5 pa4 zi4 ji3 yi4 cha1 shen1 hou4 de5 ren2 hui4 bu4 man3 bu4 gan3 pai2 jin4 qu4\n",
      "008412 wo3 zan4 shi2 hai2 bu2 hui4 o2\n",
      "008641 gen1 ju4 dian4 ci2 xue2 de5 ji1 ben3 yuan2 li3 bi4 he2 de5 dian4 lu4 zai4 ci2 chang3 zhong1 yun4 dong4 ke2 yi3 chan3 sheng1 dian4 neng2\n",
      "009380 yin1 wei4 gong1 zuo4 yuan2 yin1 jing1 chang2 de2 zui4 ren2 ta1 ye3 jing1 chang2 shou4 dao4 ru3 ma4 he2 wei2 gong1\n",
      "008488 jing4 xuan3 shi2 xu3 nuo4 de5 zheng4 ce4 ke3 neng2 shi2 xian4 ji2 xu3\n",
      "009475 ben3 lai2 qu4 tiao2 jie3 jiu1 fen1 de5 peng4 qiao3 ba3 zhe4 ming2 tao2 fan4 jiu1 chu1 lai2 le5\n",
      "008611 qian2 rong2 bai3 kai1 chao1 de5 jia4 shi5 dao4 yi2 ge4 si1 li4 zhong1 xue2 ha1 zhe4 yang4 zi5 de5 shi4 juan4 ye3 yao4 wo3 lai2 zuo4\n",
      "008903 wu2 miao3 hou4 zhang4 fu1 kan4 dao4 dui4 mian4 de5 ge2 lin2 tai4 tai5 zai4 gei3 ta1 de5 chong3 wu4 xi2 zao3\n",
      "008115 ta1 men5 de5 ti3 li4 hai2 neng2 jing1 de5 qi3 duo1 shao3 ci4 zhe1 teng2 ne5\n",
      "009928 wo3 jue2 ding4 guo4 nian2 jiu4 ci2 zhi2 jie1 shou3 wo3 ba4 de5 fei4 pin3 zhan4\n",
      "009103 xian4 cheng2 li3 ye3 mei2 you3 chu1 xian4 qiang3 gou4 shi2 pin3 deng3 xian4 xiang4\n",
      "009088 wo3 ting3 zai4 hu5 fen3 si1 de5 ou2 er3 ye3 hui4 fa1 ge4 tie4\n",
      "008950 xin1 hua2 she4 she4 zhang3 li3 cong2 jun1 zhi4 ci2\n",
      "008018 mu4 qian2 zhao4 shi4 che1 reng2 heng2 gen4 yu2 lu4 zhong1 jian1 shi4 fa1 lu4 duan4 reng2 zhi3 neng2 wei2 chi2 ban4 fu2 jiao1 tong1\n",
      "009313 you3 shi2 hou5 shi4 hen3 ji1 zhi4 de5 zhuang1 song3\n",
      "009455 dong1 hu2 cheng2 guan3 dui4 yuan2 zai4 sao2 xue3\n",
      "008797 wo3 qiu2 hun1 de5 shi2 hou5 ni3 bie2 da1 ying4 jiu4 hang2\n",
      "009958 ji4 qing1 gao1 su4 ji3 nan2 hua4 shan1 zhang1 qiu1 zou1 ping2 zhou1 cun1 zi1 bo2 lin2 zi1 zhan4\n",
      "009026 you3 xie1 jia1 ru4 le5 bang4 bang4 jun1 jian1 tiao1 zhu2 gan1 cong2 shi4 huo4 wu4 yun4 song4\n",
      "009460 na4 shi2 hou5 wo3 men5 liang3 zhen1 shi5 pin2 jian4 bu4 neng2 yi2 a1\n",
      "008856 hui4 shuo1 san1 guo2 yu3 yan2 de5 jia1 li4 zai4 jue2 sai4 ji2 xing4 wen4 da2 huan2 jie2 biao3 xian4 you2 qi2 chu1 se4\n",
      "009881 liang3 ren2 yi4 chang3 e4 dou4 sheng4 fu4 nan2 fen1 zhi2 hao3 ba3 mao2 tou2 dui4 zhun3 zai4 du2 ying1 yu3 de5 xie4 jing3 yuan1 dao4 ni3 ne5\n",
      "009101 zai4 wei4 lai2 wu3 tian1 li3 dou1 you3 jiang4 yu3 wai4 chu1 ji4 de5 dai4 hao3 yu3 ju4\n",
      "009880 dao4 shui3 de5 xue2 sheng5 zhi1 ting1 dao4 qian2 ban4 ju4 zun1 qi2 ming4 zai4 qing1 qi2 yu2 shui3 bian1 dao3 bian1 jiao4 qu4 ni3 de5\n",
      "008843 ken2 qing3 da4 jia1 ping2 jia4 ci3 shi4 jian4\n",
      "009700 xiong2 wei3 de5 ren2 min2 da4 hui4 tang2 qi4 fen1 long2 zhong4 re4 lie4 wan4 ren2 da4 li3 tang2 li3 deng1 guang1 cui3 can4\n",
      "009417 yu2 mou3 shang4 qian2 hu4 fu1 bei4 nan2 mou3 lan2 zhu4 qu4 lu4 liang3 ren2 niu2 da3 qi3 lai5\n",
      "009686 di4 er4 nian2 sheng1 le5 ge4 da4 pang4 xiao2 zi3\n",
      "008966 sui1 ze2 ru2 ci3 ye3 yao4 jia1 yi3 gui1 fan4 bu4 neng2 ren4 you2 fan4 lan4 miu4 zhong3 liu2 chuan2\n",
      "008102 mei2 gu3 ying2 li4 da2 dao4 san1 dian3 wu3 qi1 yi1 gang3 yuan2 tong2 bi3 shang4 sheng1 bai3 fen1 zhi1 yi4 bai3 jiu3 shi2 jiu3 dian3 san1\n",
      "009508 bi3 ru2 shuo1 ti2 chang4 jian1 ku3 fen4 dou4 zhe4 bing4 bu4 yi4 wei4 zhe5 wo3 men5 yao4 chuan1 da3 bu3 ding1 de5 yi1 fu2\n",
      "008400 ci3 wai4 duo1 shu4 qi3 er2 bing4 fei1 bei4 guai3 de5\n",
      "008635 lu4 guo4 ci3 di4 de5 hu2 li5 kan4 jian4 hou4 kou3 shui3 zhi2 liu2 hen3 xiang3 ba3 rou4 nong4 dao4 shou3\n",
      "009231 jiao3 shang4 shi4 mian2 bu4 wa4 zi5 he2 pi2 xie2\n",
      "009853 gang1 kai1 shi3 ta1 hai2 lian4 xi2 gu3 zheng1 yin1 wei4 tan2 qin2 shou2 zhi3 dou1 mo2 po4 le5 ta1 ye3 bu4 han3 ku3\n",
      "008566 zai4 jin4 bai2 mi3 de5 xuan2 ya2 xia4 yi4 tiao2 xi4 xi4 de5 lie4 feng4 heng2 gen4 zai4 xuan2 shou3 yan3 qian2\n",
      "009428 yi4 shen3 fa3 yuan4 xian3 ran2 hun4 xiao2 le5 zhe4 san1 ge4 guan1 xi4\n",
      "008136 li4 ru2 zai4 tiao2 zheng3 shi4 pin2 bo1 fang4 chi3 cun4 shi2 yong4 hu4 ke2 yi3 dian3 ji1 bu4 tong2 chi3 cun4 de5 tu2 biao1\n",
      "009030 qi1 jian1 niu1 niu5 yi4 zhi2 da4 ku1 dan4 dan1 mou3 mei2 you3 ting2 shou3\n",
      "009086 tong2 yang4 de5 hou4 xuan2 chi3 cun4 ye3 jin4 xing2 le5 suo1 duan3\n",
      "008532 gen1 ju4 xian4 suo3 xian3 shi4 zheng4 mou3 ji4 you3 ke3 neng2 yi3 jing1 gai3 ming2 huan4 xing4 piao3 bai2 shen1 fen4\n",
      "009288 zhu1 rong2 ji1 can1 jia1 qing1 hua2 da4 xue2 bai3 nian2 xiao4 qing4 shi2 zeng1 xiang4 guang3 da4 tong2 xue2 tui1 jian4 guo4 ci3 shu1\n",
      "008709 ba3 hu2 luo2 bo5 jiao1 chu1 lai2\n",
      "009842 zhong1 ri4 guan1 xi4 yue4 lai2 yue4 mi4 qie4 xue2 xi2 han4 yu3 de5 ri4 ben3 ren2 yi4 bu2 ji4 qi2 shu4\n",
      "009955 ka3 zha1 fei1 bu4 luo4 shi4 tong3 zhi4 yi3 zao1 yu4 bu4 luo4 nei4 hong4\n",
      "009721 duo1 mi3 ni2 jia1 ren2 hen3 xiang3 liao2 jie3 zhong1 guo2 cai4 he2 dian3 xin5 zen3 me5 zuo4\n",
      "008711 zhi4 yuan4 zhe3 yi4 shou4 yi4 fei2 qian3\n",
      "008535 wu1 ya1 shuo1 wo3 zhen1 bu2 xing4 dan4 shi2 ji4 shang4 ta1 shi4 yin1 wei2 yun4 qi5 ma2\n",
      "008511 tu2 wei2 zuo2 ri4 yi4 ming2 nv3 hai2 zai4 pin3 chang2 lian3 qiao3 fan4\n",
      "009981 hao3 zai4 zhong4 di4 xiong1 kan4 dao4 le5 ba3 ta1 zhui1 le5 hui2 lai5\n",
      "008854 wo3 shi4 ni3 yi4 shi3 yi1 niao4 dai4 da4 de5 ya1\n",
      "009552 ta1 jian4 shi4 yu2 xiong2 mang2 pao3 guo4 qu4 yu2 xiong2 shuo1 pai2 wo3 qian2 mian4\n",
      "009064 ren2 men5 he1 wo3 men5 hai2 neng2 zai4 kai1 da4 long2 tou2 rang4 qing1 ling2 ling2 de5 zi4 lai2 shui3 zhou4 ye4 chang2 liu2 ma2\n",
      "008812 hai2 shu1 zhe4 me5 duo1 yu2 shi4 yi2 ge4 guo2 jia1 jiu4 bei4 an3 ji4 zhu5 le5\n",
      "008491 tu2 rang3 li3 de5 hua4 xue2 wu4 zhi4 jin4 ru4 shi2 wu4 lian4 hou4 zui4 zhong1 reng2 shi4 bei4 ren2 lei4 zi4 ji3 chi1 diao4\n",
      "008964 ban4 shi4 chu4 ling2 dao3 de2 zhi1 ci3 shi4 hou4 yao1 qiu2 shan1 xi1 da4 sha4 yan2 su4 chu2 li3\n",
      "009367 ru2 guo3 zhen1 shi5 chen2 le5 jiu4 chai1 xiu1 le5 you4 chen2 zhe4 tie3 lu4 neng2 bu4 neng2 bao3 zheng4 an1 quan2 ya1\n",
      "008568 jin1 yong1 xiao3 shuo1 li3 zong2 you3 yi2 ge4 feng1 du4 pian1 pian1 qi4 zhi4 jun4 lang3 wu3 gong1 chao1 qun2 de5 biao3 ge1\n",
      "008792 ta1 men5 jiu4 shi4 liu2 wang2 mei3 guo2 de5 shi4 jie4 ge4 guo2 de5 qian2 huang2 zu2\n",
      "009280 pin3 guan3 bu4 dui4 sheng1 chan3 bu4 men2 de5 chan2 pin3 ju4 you3 yi1 piao4 fou3 jue2 quan2\n",
      "008703 ni3 kuai4 le4 suo2 yi3 wo3 kuai4 le4\n",
      "009848 xing2 man3 shi4 fang4 hou4 de5 gao1 yi4 qiang2 bu4 si1 hui2 gai3 bing4 ran3 shang4 du3 bo2 de5 e4 xi2\n",
      "009345 di4 liu4 qi1 ba1 jiu3 xiang4 ren4 wu4 shu3 yu2 jia1 qiang2 wan2 shan4 qi3 ye4 jin1 rong2 zhi1 chi2\n",
      "009201 er2 qie3 bao4 ming2 dong4 zuo4 yao4 kuai4 yi4 dian3 de5 zhe4 ge4 ban1 hen3 duo1 ren2 bao4 de5\n",
      "008167 qin1 shu3 men2 mang2 zhe5 gei3 ta1 qia1 ren2 zhong1 lu1 shou2 zhi3\n",
      "009352 bu2 guo4 ci3 fan1 xiao3 tou1 hao3 xiang4 zou3 de2 cong1 mang2 hai2 ba3 yi4 ba3 tie3 ban1 shou3 la4 zai4 le5 dian4 li3\n",
      "009159 zai4 fu4 shi4 kang1 yi4 tian1 kai1 hui4 gong1 zhang3 wen4 ta1 wei4 shen2 me5 zong3 shi4 xiao4 mi1 mi1 de5\n",
      "008492 zao3 shang4 zai4 lou2 xia4 tang1 fen3 dian4 chi1 zao3 can1 peng4 jian4 wo3 men5 ling2 dao3 bing4 re4 qing2 de5 da3 zhao1 hu1\n",
      "009569 qu4 shen1 zhen4 da3 gong1 zhi1 qian2 di4 di4 mei4 mei5 jiu4 rang1 rang1 zhe5 yao4 mai3 bu4 dian4 nao3\n",
      "008684 ni3 zui4 jin4 que1 qian2 la1\n",
      "009791 ta1 zuo4 de5 cai4 te4 bie2 hao3 chi1 tong2 shi4 xi3 huan5 lai2 ceng4 dun4 fan4 chi1\n",
      "009025 cheng2 qi1 si4 yi1 lu4 gan3 huo3 che1 de5 cheng2 ke4 zui4 hao3 ti2 zao3 chu1 fa1\n",
      "008974 shi4 shi2 shang4 ban4 sui2 zhe5 shang4 hai3 tui4 xiu1 zhe3 yue4 lai2 yue4 duo1 kui1 kong1 ye3 hui4 yue4 lai2 yue4 da4\n",
      "008232 lian2 bang1 jing3 cha2 yi3 zhen1 dui4 zhe4 yi1 xi4 lie4 shi4 jian4 zhan3 kai1 diao4 cha2\n",
      "008187 lin2 xing2 qian2 lao2 lao3 lan2 zhu4 ma1 ma5 ding1 zhu3 dao4 qian1 wan4 bie2 ti2 xiao3 yin2 zi5\n",
      "008352 pang2 guan1 zhe3 de5 xing4 ming2 yong2 yuan3 pa2 bu2 dao4 bi3 sai4 de5 ji4 fen1 ban3 shang4\n",
      "009096 hui4 hou4 lv4 se4 li4 wei3 biao3 shi4 xiang1 xin4 zong2 tong3 he2 hu1 luo2 ji2 de5 shuo1 fa3\n",
      "009229 ni2 bo2 er3 fa1 sheng1 xue3 beng1 de5 di4 dian3\n",
      "009215 jue2 jiang4 de5 fu4 qin1 yi1 ran2 zai4 lu4 shang4\n",
      "008817 zhong1 guo2 zhu4 tan3 sang1 ni2 ya4 da4 shi2 guan3 zheng4 zai4 xie2 zhu4 tan3 jing3 fang1 diao4 cha2 ci3 an4\n",
      "008947 zi3 gong4 shu2 mai3 le5 yi2 ge4 nu2 li4 dan4 ta1 fa1 yang2 feng1 ge2 ju4 jue2 le5 bu3 chang2\n",
      "009445 you3 mei2 ti3 zhi2 yan2 zhe4 yang4 lu4 gu3 de5 jiao4 yu4 bu4 jin3 wu2 yong4 er2 qie3 you3 hai4\n",
      "008205 kan4 lai2 guang3 zhou1 ta3 hai2 xiang3 cuan4 de2 geng1 gao1 li5\n",
      "008898 si4 shi2 san1 nian2 qian2 shi2 jian4 feng1 jiu4 zai4 zhe4 chu3 po4 wa3 fang2 zhong1 gu1 gu1 zhui4 di4\n",
      "008380 che1 xing2 zhi4 zao3 lin2 qian2 jie1 shi2 ma3 shi1 fu5 ba3 che1 ting2 xia4 zi4 cheng1 bie1 bu5 zhu4 le5 yao4 qu4 sa1 niao4\n",
      "009843 guan1 yin1 jian4 yi4 bu4 ru2 rang4 liang3 hou2 xuan3 ze2 zui4 ai4 de5 shui2 guo3 zhong4 sheng1 jie1 mi2 mang2\n",
      "008323 quan3 zhu3 dai4 quan3 chu1 jie1 shi2 quan3 zhi1 bi4 xu1 pei4 dai4 quan3 pai2 quan2 zhu3 xie2 dai4 quan3 zheng4\n",
      "009493 zai4 dang1 di4 cun1 min2 yan2 li3 mao2 xian4 mi2 shi4 yi2 ge4 you3 xie1 zhi2 niu4 de5 ren2\n",
      "008980 he2 xiao3 shun4 tou4 lu4 mei3 er2 de5 fu4 mu3 hai2 juan1 zeng4 chu1 ta1 de5 jiao3 mo2 he2 shen4 zang4\n",
      "009548 zuo2 tian1 ge2 ye4 zi1 jin1 die1 po4 bai3 fen1 zhi1 san1 zhi4 bai3 fen1 zhi1 er4 dian3 jiu3 liu4 qi1 yi1\n",
      "009965 zhi1 hou4 ta1 men5 yi4 jia1 san1 kou3 jiang1 yu3 shuang1 fang1 fu4 mu3 wang3 ke4 li3 dao3 lv3 you2\n",
      "008679 ju3 shi4 guan1 zhu4 de5 ba1 guo2 ji2 tuan2 shou3 nao3 hui4 yi4 jiu3 ri4 zai4 ri4 ben3 dong4 ye2 hu2 bi4 mu4\n",
      "009024 you3 shi2 mang2 qi3 lai5 le5 mei2 ling2 qian2 yi4 lian2 ji1 tian1 dou1 bu4 shou1 wo3 qian2\n",
      "009901 zuo2 ri4 zhe4 ming2 shang1 zhe3 yu3 yi1 sheng1 quan2 bu4 bei4 jing3 fang1 yi1 fa3 xing2 shi4 ju1 liu2\n",
      "009534 bu2 guo4 ta1 xian4 chang3 de5 you1 mo4 yu3 yan2 que4 dou4 de2 guan1 zhong4 he2 zhong4 wei4 jia1 bin1 he2 bu4 long2 zui3\n",
      "009837 ta1 chuan1 shang4 qian2 shui3 yi1 shen1 shang4 shuan1 le5 gen1 sheng2 zi5 yi1 hen3 xin1 tiao4 le5 xia4 qu4\n",
      "009751 dui4 yu2 bi3 sai4 zhong1 de5 cu1 ye3 chang3 mian4 bu4 lun2 dan1 ren4 wei2 bi3 sai4 ji1 lie4 ke2 yi3 li2 jie3\n",
      "008033 xian4 zai4 ta1 bu4 neng2 pao1 qi4 ke4 qin1 zu2\n",
      "008669 li4 shi3 jiang1 yong2 yuan3 ji4 zhu5 tong2 zhi4 men2 de5 jie2 chu1 chuang4 zao4 he2 feng4 xian4 dang3 he2 ren2 min2 gan3 xie4 ni3 men5\n",
      "008278 wei4 lai2 ban4 ge5 yue4 li3 ban4 sui2 dian4 yin1 de5 ne2 zha1 san1 tai4 zi3 dou1 jiang1 ji4 xu4 zai4 jie1 nei4 biao2 yan3\n",
      "009914 nan2 hai3 hai3 yu4 zong1 he2 bu2 ji3 ji1 di4 ma3 tou2 xiang4 mu4 zheng4 zai4 lun4 zheng4 zhong1\n",
      "009414 li4 shi3 kao4 zun1 hua4 ren2 de5 re4 xue4 he2 han4 shui3 xie3 jiu4\n",
      "008094 liu2 chang2 yu3 shuo1 zhe4 shi4 zuo2 ri4 shang4 wu3 cha2 shou1 de5 hai2 cha2 chu1 le5 liang2 ba3 shi2 yu2 li2 mi3 chang2 de5 dao1 ju4\n",
      "008432 ba1 guo2 cheng2 shi2 shang4 nv2 zi3 zai4 tou1 nai2 fen3\n",
      "009937 pan4 jue2 hou4 yao2 mou3 qi1 zi3 hu2 mou3 bu4 fu2 ti2 qi3 shang4 su4\n",
      "008774 yi4 xie1 wu3 zhuang1 fen4 zi3 ze2 qi2 zhe5 mo2 tuo1 che1 ban4 sui2 zuo3 you4 bing4 bu4 shi2 gao1 han3 fan2 yi3 kou3 hao4\n",
      "008746 ben3 ren2 dai4 xie3 xiao3 xue2 sheng1 zhong1 xue2 sheng1 shu3 jia3 zuo4 ye4 jia4 ge2 mian4 yi4 bao1 you2 o1\n",
      "009815 hua1 yuan2 kou3 yu3 jiang1 jun1 ba4 dao4 zheng4 zhou1 kan4 huang2 he2 bi4 ran2 xian1 dao4 hua1 yuan2 kou3\n",
      "009081 yu3 yi4 xing4 jie1 chu4 de5 ji1 hui4 duo1 chi1 cu4 le5 mei2\n",
      "008791 da4 pian4 de5 cui4 lv4 zhong1 dian3 zhui4 zhe5 zi3 hong2 you3 yi4 zhong3 yao1 yi4 de5 mei3\n",
      "009633 ta1 zai4 pa1 xia4 zhi1 hou4 jiu4 mei2 xing3 le5\n",
      "008420 zuo4 wei2 tai4 tai5 fan3 er2 bu4 xin1 shang3 bu4 ti3 liang4\n",
      "008576 ci4 ri4 shang4 wu3 you4 jiang1 gai1 shou3 ji1 mai2 ru4 su1 jia1 lou2 xia4 de5 luo2 bu3 keng1 nei4\n",
      "009317 chun1 jiang1 shui3 nuan2 ya3 xian1 zhi1 wo3 ke2 yi3 gao4 su4 ni3 ming2 tian1 chuan1 shen2 me5\n",
      "008220 dan4 ru2 guo3 an4 che1 dui4 gui1 mo2 yi1 hai1 shu4 qian1 liang4 che1 de5 liang2 ji2 jue2 dui4 suan4 bu2 shang4 zui4 da4\n",
      "008887 te4 lang2 pu3 dang4 tian1 chu1 xi2 le5 wan3 yan4\n",
      "009966 xie4 xie5 zong2 li3 ye3 gan3 xie4 guang3 da4 wang2 you3 de5 can1 yu4 wo3 men5 ming2 nian2 zai4 jian4\n",
      "008281 you2 ta1 zhi4 zuo4 de5 dian4 shi4 ju4 yong1 zheng4 wang2 chao2 ceng2 huo4 zhong1 guo2 dian4 shi4 ju4 zui4 gao1 san1 da4 jiang3 xiang4\n",
      "008004 ci3 qian2 qing1 hua2 zi3 guang1 jiu4 ceng2 zao1 yu4 guo4 tong2 yang4 de5 wei1 ji1\n",
      "009538 qiao3 jia1 guan1 fang1 de5 zhe4 fen4 hui2 ying4 hen3 kuai4 bei4 wai4 jie4 shi4 zuo4 ji2 yu2 pie1 qing1 chai1 qian1 mao2 dun4\n",
      "009759 dan4 ying1 cai3 er2 hou4 lai2 fa1 xian4 na4 ci4 fen1 ming2 shi4 ta1 you4 wang4 le5 mai3 li3 wu4\n",
      "009168 bu4 shao3 wei2 guan1 zhe3 hao3 yan2 xiang1 quan4 xiao2 huo3 bu2 dan4 bu4 ting1 zui2 li3 hai2 ma4 ma4 lie1 lie1\n",
      "008112 qing2 wen2 sao3 shi4 shen1 shang4 gua4 de5 ji1 jian4 yi1 fu2 shuo1 yi4 dian3 bu4 leng3\n",
      "009023 bei4 she4 sha1 dong1 bei2 hu3 de5 lao3 gong1 ji4 mo4 de5 pa1 zai4 tie3 long2 nei4\n",
      "008728 wu2 liao2 de5 shi2 hou5 xiang2 xiang3 wo3\n",
      "009882 zhou1 bian1 ju1 min2 shi2 chang2 hui4 kan4 dao4 you3 yan1 qi4 cong2 lv2 chang3 lin2 li4 de5 da4 yan1 cong1 zhong1 pai2 chu1\n",
      "008064 qian2 zai4 wo3 yan3 zhong1 shi4 hen3 miao2 xiao3 de5 dong1 xi1\n",
      "008680 zai4 yi1 ce4 tie2 gui3 xia4 dao4 zha3 shang4 reng2 neng2 kan4 jian4 xue4 ji4\n",
      "008639 hai1 yan4 li4 ni3 zen3 me5 bu4 ba3 ruo4 nan2 dai4 lai2 ne5\n",
      "008659 you4 yi1 tang4 che1 an1 quan2 de5 kai1 dao4 mu4 di4 di4\n",
      "008385 dang1 ran2 zhe4 me5 shuo1 ma1 bu4 tai4 he2 shi4 wo3 ma1 you2 dian3 leng4 zhe4 yi2 mian4 wo3 xiang4 wo3 ma1\n",
      "009821 ping2 shi2 wo3 ye3 bu4 ai4 chu1 men2 zai4 jia1 kan4 kan4 bao4 zhi3 xie2 xie3 bi3 ji4 sha2 de5\n",
      "008178 liu4 wu3 er4 lu4 jiao4 qian2 ji1 ri4 quan2 tian1 ji4 hua4 fa1 che1 zeng1 jia1 shi2 er4 che1 ci4\n",
      "009190 nin2 hai2 ji4 de5 na4 xie1 bei4 tian2 chuan1 cheng1 wei2 qin1 xiong1 di4 de5 fang2 bao4 dui4 yuan2 ma2\n",
      "009587 yi4 xie1 dao4 sai1 han3 ba4 de5 you2 ke4 quan2 fu4 wu3 zhuang1 xiang3 shou4 tian1 han2 di4 dong4 de5 ling4 lei4 kuai4 le4\n",
      "008748 tian1 zhou4 ran2 liang2 xia4 chi2 le5 liang3 ge4 yue4 de5 qiu1 yu3 zhong1 yu2 pu3 jiang4 da4 di4\n",
      "008648 ta1 lv3 le5 lv3 hu2 xu1 shuo1 yin1 wei4 ling2 chen2 yi4 dian3 zhi4 san1 dian3 shi4 chou3 shi2 a1\n",
      "009377 jin4 huo4 shi2 gong1 chang3 gen1 wo3 shuo1 shi4 chun2 mian2 de5 wo3 mo1 qi3 lai5 ye3 bu4 xiang4\n",
      "009691 dan1 xin1 zhang1 mou3 bao4 jing3 liang3 ren2 yong4 zhen3 jin1 wu3 zhu4 le5 zhang1 mou3 de5 zui3 zhi2 zhi4 ta1 bu2 zai4 dong4 tan2\n",
      "009123 jie1 fang1 men2 fen1 fen1 cai1 ce4 jing3 fang1 ke3 neng2 yao4 qiang2 gong1\n",
      "009309 zhe4 yi1 huan2 jie2 de5 shui4 shou1 za2 fei4 he2 fan2 rong3 de5 shou3 xu4 rang4 bu4 shao3 dai4 gou4 zhe3 ting2 er2 zou3 xian3\n",
      "008734 zhang1 hong2 song1 da4 han3 qi3 lai5\n",
      "008931 ci3 wai4 tou2 zi1 ren2 reng2 cun2 gu4 lv4\n",
      "009823 zhe4 yi1 ci4 bao3 diao4 chuan2 zhi1 bei4 si4 sou1 ri4 ben3 chuan2 ji2 zhi2 sheng1 ji1 bao1 wei2 dong4 tan5 bu5 de2\n",
      "009502 nan2 hai2 dai1 zuo4 zai4 di4 bu4 shi2 bao4 qi3 jiao3 zhi3 tou5 qing1 qing1 yao3 yi4 kou3\n",
      "009150 zui4 hou4 hai2 yao4 jing1 guo4 shua1 xi3 cai2 neng2 peng1 ren4\n",
      "008589 xiao3 gu1 niang2 shuo1 ta1 jue2 de5 wu2 bin1 shu1 shu5 te4 bie2 hao3 te4 bie2 hao3\n",
      "009950 mu4 qian2 kan4 ru2 guo3 ji4 xu4 jia1 xi1 ye3 cun2 zai4 liang3 nan2 wen4 ti2\n",
      "008249 hao3 zai4 nao4 xin1 fang2 de5 xi3 qing4 he2 re4 lie4 mi2 bu3 le5 hun1 li3 de5 zhong1 sheng1 yi2 han4\n",
      "009948 nie4 la1 ji4 ke1 wei4 tou4 lu4 zhe4 xie1 hang2 kong1 gong1 si1 de5 ming2 cheng1\n",
      "009315 wei4 le5 zhuang4 dan3 gan2 jin3 na2 chu1 sui2 shen1 xie2 dai4 de5 bian1 pao4 ran2 fang4\n",
      "009651 fu4 gui4 zhou1 juan1 kuan3 shai4 diao4 liang3 ceng2 pi2\n",
      "009105 shuang1 yang2 shui3 de5 yong4 tu2 shi4 gei3 niu2 ti2 niu2 er3 duo5 piao3 bai2\n",
      "009437 chi1 ku3 nai4 lao2 lian2 xu4 zuo4 zhan4 de5 zuo4 feng1 za3 yang4\n",
      "009243 zhe4 li3 zi1 yuan2 fu4 rao2 jing3 se4 yi2 ren2\n",
      "008369 hao3 zai4 ta1 chu1 yan3 le5 mi3 er3 ke4\n",
      "008696 wen4 zhe4 wen4 ti2 de5 ren2 zui4\n",
      "008114 wo3 ca1 qu4 zui2 jiao3 de5 xue4 shui3 han2 lei4 dao4 zhe4 bu4 ni3 de5 ma2\n",
      "009722 tu3 di4 you3 mei2 you3 fu4 ken3 hao3 he2 bu4 he2 ge2 quan2 kao4 yan4 shou1 lai2 ba3 guan1\n",
      "009165 ta1 gang1 cai2 hai2 xing4 zai1 le4 huo4 xian4 zai4 zi4 ji3 ye3 zao1 dao4 tong2 yang4 bu2 xing4 de5 ming4 yun4 le5\n",
      "008891 yi1 bang3 zhu4 gui1 hua4 kun2 bang3 zhe5 mai4\n",
      "009000 shi4 liang2 tuo1 hai2 shi4 dai4 gen1 de5\n",
      "008469 zhe4 shi4 gong2 bei3 hai3 guan1 jin4 nian2 lai2 cha2 huo4 de5 zui4 da4 yi4 qi3 zou3 si1 wen2 wu4 chu1 jing4 an4\n",
      "009816 zai4 lin2 nv3 shi4 xin1 zhong1 xiao3 rong2 cong2 xiao3 guai1 qiao3 dong3 shi4 jiu4 xiang4 ta1 de5 tie1 xin1 xiao3 mian2 ao3\n",
      "008682 cun1 min2 mai3 de5 zui4 duo1 de5 shi4 la4 zhu2 yi1 ci4 mai2 hao3 ji1 kun3\n",
      "009386 jie1 shang4 kong1 liu2 xia4 le5 shen2 se4 cong1 cong1 de5 xing2 ren2\n",
      "008937 zai4 ji4 zhe3 ren2 shu4 bing4 mei2 jian2 shao3 xia4 rong3 yuan2 zi4 ran2 chan3 sheng1\n",
      "009036 fei4 qi4 zhu1 rou4 zai4 tu3 guo1 li3 ao2 lian4 hei1 se4 de5 zhu1 you2 liu2 dao4 tong3 li3\n",
      "009602 yin1 li4 jun1 shuo1 qi2 jing2 hai3 de5 fu4 mu3 dou1 shi4 nong2 min2 di4 xiong1 wu3 ge4 pai2 hang2 lao3 da4\n",
      "009127 wo3 bu2 yao4 fen3 si1 le5 zhi1 chi2 wo3 jiu4 duo1 zhuan3 fa1 ci3 tie4\n",
      "008784 yi4 ming2 zhi4 yuan4 zhe3 zai4 gei3 yun4 shu1 xiao2 gou3 de5 ka3 che1 sa2 shui3 jiang4 wen1\n",
      "009619 xiao3 ning2 mei2 you3 duo1 xiang3 jiu4 shang4 le5 che1\n",
      "009039 dan4 ru2 guo3 que1 fa2 zi1 jin1 que4 hen3 nan2 xi1 yin3 you1 xiu4 de5 ruan3 jian4 ren2 cai2\n",
      "009782 ti2 dao4 shang3 qiu1 bu4 ying1 gai1 zhi1 rang4 ren2 jian3 dan1 de5 xiang3 dao4 hong2 se4\n",
      "008160 dai3 tu2 jian4 nan2 yi3 tao2 tuo1 reng1 xia4 pi2 bao1 ji4 xu4 tao2 cuan4\n",
      "008484 zai4 jiang1 mou3 chen2 mou3 er4 ren2 de5 jiao4 suo1 song2 yong3 xia4 lao3 xiang1 zhi1 jian1 hu4 xiang1 la1 long3 jie4 shao4\n",
      "009363 ke2 yi3 zuo4 dao4 bu4 shua1 ya2 bu4 zheng2 li3 tou2 fa4 ye3 bu4 chuan1 xie2 zi5 shen4 zhi4 bu4 huan4 wa4 zi5\n",
      "009210 wo3 lve4 dong3 dan4 shi4 hai2 bu2 tai4 hui4\n",
      "009369 ji3 nian2 zhi1 hou4 na4 ge4 men2 kan3 jing4 ran2 bei4 wo3 men5 di4 xiong1 liang3 ge4 ta4 ao1 xia4 qu4 yi1 kuai4\n",
      "008935 sui1 ran2 zuo4 pin3 mei2 you3 da4 mai4 you2 dian3 yi2 han4 dan4 mei2 guan1 xi4 la1\n",
      "008212 na4 yi1 ke4 wo3 cai2 zhen1 zheng4 de5 dong3 ni3 jiu4 xiang4 dong3 wo3 xian4 zai4 de5 zi4 ji3\n",
      "009006 yin1 ci3 zhi3 neng2 yi3 zui4 ben4 de5 fang1 shi4 bu2 duan4 yi3 luan3 ji1 shi2\n",
      "008917 mou3 ren2 de5 qi1 zi3 pi2 qi5 fei1 chang2 guai4 pi3 ta1 yu3 jia1 li3 de5 suo3 you3 ren2 dou1 nan2 yi3 xiang1 chu3\n",
      "008564 neng2 you3 da2 an4 jiu4 bu2 shi4 ren2 sheng1 ba1\n",
      "008194 wo3 ning2 shi4 jing1 tan4 yan3 jian4 dao4 yi4 zhong3 yi4 chang2 de5 mei3\n",
      "008933 liu2 nv3 shi4 shuai3 diao4 er2 zi5 shou3 shang4 de5 xiao3 ha2 ma2 shen2 qing2 you3 xie1 jin3 zhang1\n",
      "009952 dan4 ren4 ping2 zhou1 mou3 zen3 me5 jiao4 nan2 zi3 reng2 han1 shui4 bu4 xing3\n",
      "008449 shi4 ge4 hen3 you3 qian2 de5 jia1 huo5 ya1\n",
      "008203 zan2 men5 hai2 shi4 tao3 lun4 yi1 xia4 shi4 jie4 he2 ping2 ba1\n",
      "009739 sun1 da3 dian4 hua4 gei3 wang2 lin2 yao4 ta1 jiao4 xun5 chen2 mou3 liang4\n",
      "008195 ru2 jin1 zhe4 zhong3 jiong3 jing4 bei4 qiao3 miao4 rao4 guo4 le5\n",
      "008146 ji2 shi3 ya1 li4 zai4 da4 zai4 bu4 gao1 xing4 ye3 yao4 gan1 xia4 qu4\n",
      "008513 zhi2 you3 yi2 ge4 que1 dian3 jiu4 shi4 pi2 qi5 you3 yi4 dian2 dian3 bao4\n",
      "009797 ni3 na3 na4 me5 duo1 fei4 hua4 gei3 lao3 niang2 gui4 hao3\n",
      "008169 wei2 shang1 xin1 tian1 gong1 bu2 zuo4 mei3 ying1 xiong2 huo4 xu3 yao4 cheng2 shou4 duo1 mo2 nan4\n",
      "009068 zhu1 rong2 ji1 tong2 zhi4 gan3 dao4 you3 hen3 da4 ya1 li4\n",
      "009855 ta1 xi3 huan5 kai1 wan2 xiao4 bi3 ru2 wo3 ju3 qiang1 ju3 le5 shi2 fen1 zhong1 ta1 jiu4 zou3 guo4 lai2 shuo1 lei2 ba1\n",
      "008875 xian4 chang3 mi2 man4 zhe5 yi4 gu3 jiao1 chou4 wei4\n",
      "009097 jiu4 gang1 gang5 qu4 chao1 shi4 mai3 yan1 mu4 ce4 you3 yi2 ge4 zheng4 tai4 si4 wu3 sui4 de5 yang4 zi5\n",
      "009870 jiao1 gong1 liang2 wo3 ba3 zui4 hao3 de5 xiao3 mai4 yu4 mi3 song4 dao4 liang2 guan2 suo3\n",
      "008423 si2 zhe3 zai4 dang4 wan3 yi3 jing1 song4 dao4 le5 bin4 yi2 guan3\n",
      "009621 yi3 xia4 shi4 ji4 zhe3 yu3 he2 chao1 yun2 de5 fang3 wen4\n",
      "008210 tang3 zai4 ji2 jiu4 dan1 jia4 shang4 de5 nan2 zi3 shuang1 mu4 jin3 bi4 tou2 fa4 san4 fa1 chu1 yi4 gu3 shao1 jiao1 de5 wei4 dao5\n",
      "008145 ruo4 wo3 fang4 qi4 le5 shou3 zhong1 xian4 cheng2 de5 shi2 wu4 zai4 qu4 zhui1 qiu2 kan4 bu2 jian4 de5 dong1 xi1 na4 wo3 qi3 bu4 cheng2 sha3 gua1 le5 ma2\n",
      "009188 zai4 xin1 nian2 de5 di4 yi4 chang2 gao1 kao3 jiao4 liang4 zhong1 kao3 sheng1 jiang1 ying2 lai2 yi4 chang3 han1 zhan4\n",
      "009456 pang2 bian1 yi1 wei4 zhong1 nian2 nan2 zi3 jian4 zhuang4 lun1 qi3 dang4 kou3 fu4 jin4 de5 deng4 zi5 jiang1 fan4 mou3 da3 pao3\n",
      "009235 shen1 zhen4 shi4 ren2 dai4 dai4 biao3 weng1 xiao3 bo1 ze2 biao3 da2 le5 bu4 tong2 de5 guan1 dian3\n",
      "008329 qi1 shi2 san1 sui4 de5 chen2 a1 po2 cong2 shui2 ta3 li3 bei4 jie3 jiu4 chu1 lai2\n",
      "009098 chu1 shi4 hou4 gai1 za3 guan2 li3 nong2 cun1 san2 yang3 de5 quan3 zhi1 wo3 men5 ye3 hen3 tou2 teng2\n",
      "008417 ju4 jin1 yue1 si4 qian1 wu2 bai3 nian2 shi4 ba1 ren2 fa1 xiang2 di4 yi2 zhi3\n",
      "009752 miao3 miao3 qiang3 xian1 dian3 le5 gan1 guo3 pan2 shui3 guo3 pan2 ge4 yi2 ge4 pi2 jiu3 hong2 jiu3 ruo4 gan1\n",
      "009370 fang2 jia4 de5 gao1 ba4 zheng4 zai4 cong2 da4 hu4 xing2 kai1 shi3 wa2 jie3 bing4 xiang4 zhong1 xiao3 hu4 xing2 man4 yan2\n",
      "009826 kao2 gu3 zhuan1 jia1 gan3 dao4 nao2 tou2\n",
      "008773 jie1 xia4 lai2 de5 shi2 jian1 li3 wang2 pan1 xiang4 hua1 mu4 lan2 hui2 dao4 lao3 jia1 shu1 zhuang1 da3 ban4 bu4 ting2\n",
      "009171 bu4 guan3 xian4 shi2 duo1 me5 fan2 fu4 he2 rong3 men4 ta1 dou1 yao4 shi2 chang2 qu4 wang3 ling4 yi2 ge4 shi4 jie4\n",
      "008282 zhe4 shi4 wo3 de5 gong1 zuo4 shi4 qing5 chu1 lai2 hou4 ping2 jia4 zong3 hui4 you3 hao3 you3 huai4 dan4 wo3 bu2 hui4 ji4 jiao4\n",
      "008994 xiong2 mao1 you3 zhua2 zi3 wo3 zong3 shi4 gao4 su4 wo3 de5 fen3 si1 yao4 xiu4 chu1 ta1 men5 de5 zhua2 zi3\n",
      "008266 dan4 shi4 yi4 xie1 ji4 xiang4 xian3 shi4 xue4 an4 you2 nei4 bu4 ren2 tiao2 qi3\n",
      "009349 zhe4 bing4 bu2 shi4 pai1 nao3 dai5 zuo4 chu1 de5 jue2 ding4\n",
      "008507 ni3 shi4 bu2 shi4 zhao3 cuo4 ren2 la1 wo3 shi4 wo3 bu2 shi4 ben4 niu1\n",
      "008616 si1 yi2 sui1 you3 fa1 xian4 zhu1 ge3 zi3 qi2 bu4 tuo3 dan4 huo2 dong4 bing4 wei4 yin1 ci3 zhong1 duan4 huo4 gai3 dong4\n",
      "009800 zhi2 you3 li2 le5 hun1 wo3 cai2 neng2 xue2 zhe5 geng1 jian1 qiang2 ya1\n",
      "009186 you3 wan2 mei2 wan2 kai1 zhe5 che1 ne5 bie2 re3 wo3 yao4 chu1 le5 shi4 gu4 zen3 me5 ban4\n",
      "008631 dui4 ta1 qi1 wang4 guo4 gao1 bo1 xia4 long2 zhong3 shou1 huo4 tiao4 zao3 jiang1 hen3 ke3 neng2 cheng2 wei2 xian4 shi2\n",
      "008860 yu3 qi2 rang4 lao3 de5 shen1 zhe5 bo2 zi5 ai2 da3 bu4 ru2 rang4 xin1 ren2 ting3 zhe5 xiong1 tang2 qu4 pin1 sha1\n",
      "009594 ke3 shi4 xian4 ji2 zheng4 fu3 jing4 zheng1 cai2 pan4 shi4 shui2\n",
      "009119 ci3 shi2 min2 jing3 guo1 geng1 jun1 de5 ku4 zi5 you3 le5 gua3 ceng4\n",
      "008306 min2 jing3 jie1 dao4 bao4 jing3 hou4 gan3 dao4 xian4 chang3 chu1 zu1 che1 si1 ji1 zheng4 yu3 ji3 ge4 zui4 gui3 li3 lun4\n",
      "009289 guo2 qiang2 cai2 neng2 guo2 ning2 zei2 cai2 bu4 gan3 dian4 ji4\n",
      "009555 ci3 hou4 zai4 xi1 zang4 hui1 fu4 jiu4 you3 de5 feng1 jian4 nong2 nu2 zhi4 du4 ye3 cheng2 wei2 yong2 yuan3 bu4 ke3 neng2\n",
      "009573 ju1 min2 shuo1 zhe4 xie1 liu2 lang4 er2 si4 hu1 tu1 ran2 xiao1 shi1 le5 bu4 zhi1 qian2 wang3 he2 chu3\n",
      "009135 di4 san1 tian1 xiao3 dong1 fa1 re4 ke2 sou4 ma1 ma5 gan2 jin3 dai4 ta1 qu4 dang1 di4 de5 zhen4 yi1 yuan4 jiu4 zhen3\n",
      "009082 hen3 kuai4 zhang1 mou3 er2 zi5 de5 gong1 zuo4 an1 pai2 tuo3 dang4\n",
      "008658 dang1 shi2 li2 xue2 xiao4 bu2 guo4 ji1 shi2 mi3 yuan3\n",
      "009234 bu2 shi4 lei2 le5 bu2 shi4 gou4 le5 shi4 zhi1 dao4 fu4 mu3 you3 duo1 bu4 rong2 yi4 le5\n",
      "009436 ta1 shuo1 jing1 ju4 jiang3 jiu5 de5 shi4 qin2 shi1 si1 gu3\n",
      "008247 lao2 ban3 you1 you1 de5 hui2 da2 kan4 ni3 hui4 bu2 hui4 yang3 le5 yang3 de5 hao3 le5 ta1 song4 ni3 zou3\n",
      "008393 yu2 xiong2 you4 tui1 kai1 lai2 shi4 ping2 de5 shou3 shuo1 tian1 tai4 re4 le5 da4 jia1 fen1 kai1 dian3\n",
      "008998 wo3 men5 cong2 huang2 hai3 zhi1 bin1 xiang4 qing1 zang4 gao1 yuan2 xiang4 shi4 jie4 wu1 ji3 fa1 qu4 wo3 men5 zui4 hao3 de5 zhu4 yuan4\n",
      "009531 yi3 hou4 ni3 zai4 zhe4 me5 da4 sheng1 shuo1 wo3 wo3 jiu4 gei3 ni3 dian3 yan2 se4 kan4 kan4\n",
      "009424 ta1 zhe4 cai2 lun1 qi3 dao1 zi5 zhe4 shu3 yu2 ji1 qing2 fan4 zui4 bing4 mei2 you3 zhu3 guan1 e4 yi4\n",
      "009240 gong3 li4 zhang1 guo2 rong2 jia2 na4 jiu4 zhao4\n",
      "009059 zi4 ji3 kan4 kan4 ni3 zhe4 du3 zi5 na3 xiang4 er4 shi2 ji1 sui4 si4 wu3 shi2 sui4 dou1 bu4 zhi3 ba1\n"
     ]
    }
   ],
   "source": [
    "g2pa_pairs = {}\n",
    "\n",
    "for ap in audio_py_pairs:\n",
    "    file_name = ap.split('/').pop().split('.')[0]\n",
    "    py_list = ' '.join([a[0] for a in audio_py_pairs[ap]])\n",
    "    print(file_name, py_list)\n",
    "    g2pa_pairs[file_name] = py_list\n",
    "    "
   ]
  },
  {
   "cell_type": "code",
   "execution_count": 16,
   "metadata": {},
   "outputs": [],
   "source": [
    "\n",
    "json_object = json.dumps(g2pa_pairs, indent=4)\n",
    "\n",
    "with open(\"g2pa_pairs.json\", \"w\") as outfile:\n",
    "    outfile.wrsite(json_object)"
   ]
  },
  {
   "cell_type": "markdown",
   "metadata": {},
   "source": [
    "# Compare Top-K"
   ]
  },
  {
   "cell_type": "code",
   "execution_count": 26,
   "metadata": {},
   "outputs": [
    {
     "name": "stderr",
     "output_type": "stream",
     "text": [
      "  0%|          | 1/1944 [00:00<14:50,  2.18it/s]"
     ]
    },
    {
     "name": "stdout",
     "output_type": "stream",
     "text": [
      "lab_wav_pairs/009419.wav 16 4.44 4.56 yuan yue\n"
     ]
    },
    {
     "name": "stderr",
     "output_type": "stream",
     "text": [
      "  0%|          | 2/1944 [00:00<13:01,  2.49it/s]"
     ]
    },
    {
     "name": "stdout",
     "output_type": "stream",
     "text": [
      "lab_wav_pairs/008493.wav 16 3.76 3.89 da dai\n"
     ]
    },
    {
     "name": "stderr",
     "output_type": "stream",
     "text": [
      "  0%|          | 5/1944 [00:01<07:54,  4.09it/s]"
     ]
    },
    {
     "name": "stdout",
     "output_type": "stream",
     "text": [
      "lab_wav_pairs/008763.wav 8 1.92 2.15 jiang jia\n"
     ]
    },
    {
     "name": "stderr",
     "output_type": "stream",
     "text": [
      "  0%|          | 6/1944 [00:01<08:16,  3.91it/s]"
     ]
    },
    {
     "name": "stdout",
     "output_type": "stream",
     "text": [
      "lab_wav_pairs/009497.wav 14 3.37 3.58 shang sheng\n"
     ]
    },
    {
     "name": "stderr",
     "output_type": "stream",
     "text": [
      "  0%|          | 7/1944 [00:02<08:27,  3.81it/s]"
     ]
    },
    {
     "name": "stdout",
     "output_type": "stream",
     "text": [
      "lab_wav_pairs/009668.wav 10 2.71 2.89 lie lian\n"
     ]
    },
    {
     "name": "stderr",
     "output_type": "stream",
     "text": [
      "  1%|          | 10/1944 [00:02<07:14,  4.45it/s]"
     ]
    },
    {
     "name": "stdout",
     "output_type": "stream",
     "text": [
      "lab_wav_pairs/008822.wav 11 2.61 2.77 shun chi\n"
     ]
    },
    {
     "name": "stderr",
     "output_type": "stream",
     "text": [
      "  1%|          | 12/1944 [00:03<07:23,  4.36it/s]"
     ]
    },
    {
     "name": "stdout",
     "output_type": "stream",
     "text": [
      "lab_wav_pairs/008336.wav 13 3.19 3.42 chan chai\n",
      "lab_wav_pairs/008336.wav 15 3.68 3.84 hu huo\n"
     ]
    },
    {
     "name": "stderr",
     "output_type": "stream",
     "text": [
      "  1%|          | 14/1944 [00:03<07:46,  4.14it/s]"
     ]
    },
    {
     "name": "stdout",
     "output_type": "stream",
     "text": [
      "lab_wav_pairs/009274.wav 12 3.86 4.03 zhuan zhuai\n",
      "lab_wav_pairs/008895.wav 6 1.8 1.99 min ming\n",
      "lab_wav_pairs/008895.wav 9 2.39 2.56 ban dan\n"
     ]
    },
    {
     "name": "stderr",
     "output_type": "stream",
     "text": [
      "  1%|          | 17/1944 [00:04<06:56,  4.63it/s]"
     ]
    },
    {
     "name": "stdout",
     "output_type": "stream",
     "text": [
      "lab_wav_pairs/009302.wav 3 0.93 1.2 ming min\n",
      "lab_wav_pairs/009510.wav 10 2.72 2.91 jian jie\n"
     ]
    },
    {
     "name": "stderr",
     "output_type": "stream",
     "text": [
      "  1%|          | 18/1944 [00:04<07:43,  4.15it/s]"
     ]
    },
    {
     "name": "stdout",
     "output_type": "stream",
     "text": [
      "lab_wav_pairs/009856.wav 18 4.21 4.37 hu hun\n",
      "lab_wav_pairs/008547.wav 1 0.49 0.65 dou bao\n"
     ]
    },
    {
     "name": "stderr",
     "output_type": "stream",
     "text": [
      "  1%|          | 20/1944 [00:04<06:14,  5.14it/s]"
     ]
    },
    {
     "name": "stdout",
     "output_type": "stream",
     "text": [
      "lab_wav_pairs/008547.wav 11 2.53 2.7 suo song\n"
     ]
    },
    {
     "name": "stderr",
     "output_type": "stream",
     "text": [
      "  1%|          | 24/1944 [00:05<04:31,  7.07it/s]"
     ]
    },
    {
     "name": "stdout",
     "output_type": "stream",
     "text": [
      "lab_wav_pairs/008661.wav 5 1.33 1.5 xing xin\n"
     ]
    },
    {
     "name": "stderr",
     "output_type": "stream",
     "text": [
      "  1%|▏         | 26/1944 [00:06<07:12,  4.43it/s]"
     ]
    },
    {
     "name": "stdout",
     "output_type": "stream",
     "text": [
      "lab_wav_pairs/009976.wav 11 2.62 2.8 lun ne\n"
     ]
    },
    {
     "name": "stderr",
     "output_type": "stream",
     "text": [
      "  1%|▏         | 28/1944 [00:06<06:21,  5.02it/s]"
     ]
    },
    {
     "name": "stdout",
     "output_type": "stream",
     "text": [
      "lab_wav_pairs/008729.wav 3 0.96 1.04 de di\n",
      "lab_wav_pairs/008618.wav 6 1.74 1.88 dai tai\n"
     ]
    },
    {
     "name": "stderr",
     "output_type": "stream",
     "text": [
      "  2%|▏         | 31/1944 [00:06<05:38,  5.64it/s]"
     ]
    },
    {
     "name": "stdout",
     "output_type": "stream",
     "text": [
      "lab_wav_pairs/008517.wav 7 1.76 1.85 de di\n"
     ]
    },
    {
     "name": "stderr",
     "output_type": "stream",
     "text": [
      "  2%|▏         | 34/1944 [00:07<05:49,  5.47it/s]"
     ]
    },
    {
     "name": "stdout",
     "output_type": "stream",
     "text": [
      "lab_wav_pairs/009457.wav 11 2.8 3.02 duo du\n",
      "lab_wav_pairs/009776.wav 1 0.46 0.64 jin ji\n"
     ]
    },
    {
     "name": "stderr",
     "output_type": "stream",
     "text": [
      "  2%|▏         | 36/1944 [00:07<06:32,  4.86it/s]"
     ]
    },
    {
     "name": "stdout",
     "output_type": "stream",
     "text": [
      "lab_wav_pairs/009723.wav 7 1.93 2.09 jian jie\n"
     ]
    },
    {
     "name": "stderr",
     "output_type": "stream",
     "text": [
      "  2%|▏         | 37/1944 [00:08<07:19,  4.34it/s]"
     ]
    },
    {
     "name": "stdout",
     "output_type": "stream",
     "text": [
      "lab_wav_pairs/009705.wav 13 3.4 3.58 jiang jia\n",
      "lab_wav_pairs/009705.wav 14 3.58 3.68 men na\n",
      "lab_wav_pairs/009398.wav 0 0.25 0.35 ni nei\n"
     ]
    },
    {
     "name": "stderr",
     "output_type": "stream",
     "text": [
      "  2%|▏         | 38/1944 [00:08<08:04,  3.94it/s]"
     ]
    },
    {
     "name": "stdout",
     "output_type": "stream",
     "text": [
      "lab_wav_pairs/009398.wav 8 1.96 2.08 bei de\n"
     ]
    },
    {
     "name": "stderr",
     "output_type": "stream",
     "text": [
      "  2%|▏         | 43/1944 [00:09<05:39,  5.60it/s]"
     ]
    },
    {
     "name": "stdout",
     "output_type": "stream",
     "text": [
      "lab_wav_pairs/008225.wav 5 1.56 1.71 re ren\n",
      "lab_wav_pairs/008225.wav 12 3.03 3.07 yu shuai\n"
     ]
    },
    {
     "name": "stderr",
     "output_type": "stream",
     "text": [
      "  2%|▏         | 47/1944 [00:10<07:24,  4.26it/s]"
     ]
    },
    {
     "name": "stdout",
     "output_type": "stream",
     "text": [
      "lab_wav_pairs/008610.wav 9 2.45 2.59 ding di\n",
      "lab_wav_pairs/008610.wav 15 3.28 3.41 de dui\n"
     ]
    },
    {
     "name": "stderr",
     "output_type": "stream",
     "text": [
      "  3%|▎         | 49/1944 [00:10<06:45,  4.68it/s]"
     ]
    },
    {
     "name": "stdout",
     "output_type": "stream",
     "text": [
      "lab_wav_pairs/009451.wav 1 0.45 0.61 wo wan\n"
     ]
    },
    {
     "name": "stderr",
     "output_type": "stream",
     "text": [
      "  3%|▎         | 55/1944 [00:12<08:53,  3.54it/s]"
     ]
    },
    {
     "name": "stdout",
     "output_type": "stream",
     "text": [
      "lab_wav_pairs/008543.wav 15 3.6 3.79 jue jun\n",
      "lab_wav_pairs/008007.wav 11 2.37 2.6 yin ying\n"
     ]
    },
    {
     "name": "stderr",
     "output_type": "stream",
     "text": [
      "  3%|▎         | 58/1944 [00:12<06:43,  4.67it/s]"
     ]
    },
    {
     "name": "stdout",
     "output_type": "stream",
     "text": [
      "lab_wav_pairs/009149.wav 11 2.93 2.97 er le\n"
     ]
    },
    {
     "name": "stderr",
     "output_type": "stream",
     "text": [
      "  3%|▎         | 61/1944 [00:13<05:45,  5.45it/s]"
     ]
    },
    {
     "name": "stdout",
     "output_type": "stream",
     "text": [
      "lab_wav_pairs/008640.wav 4 1.37 1.54 xing xi\n",
      "lab_wav_pairs/008640.wav 5 1.54 1.69 hou hong\n"
     ]
    },
    {
     "name": "stderr",
     "output_type": "stream",
     "text": [
      "  3%|▎         | 65/1944 [00:14<05:23,  5.81it/s]"
     ]
    },
    {
     "name": "stdout",
     "output_type": "stream",
     "text": [
      "lab_wav_pairs/008360.wav 5 1.62 1.75 chan zha\n",
      "lab_wav_pairs/008360.wav 6 1.75 1.85 ta zha\n",
      "lab_wav_pairs/008360.wav 7 1.85 1.94 a ta\n",
      "lab_wav_pairs/008676.wav 1 0.45 0.58 yuan yue\n"
     ]
    },
    {
     "name": "stderr",
     "output_type": "stream",
     "text": [
      "  3%|▎         | 66/1944 [00:14<06:35,  4.75it/s]"
     ]
    },
    {
     "name": "stdout",
     "output_type": "stream",
     "text": [
      "lab_wav_pairs/008676.wav 10 2.53 2.72 ti ting\n",
      "lab_wav_pairs/008676.wav 14 3.26 3.45 ji jin\n"
     ]
    },
    {
     "name": "stderr",
     "output_type": "stream",
     "text": [
      "  3%|▎         | 67/1944 [00:14<06:55,  4.52it/s]"
     ]
    },
    {
     "name": "stdout",
     "output_type": "stream",
     "text": [
      "lab_wav_pairs/008124.wav 8 2.05 2.38 lou lu\n",
      "lab_wav_pairs/008124.wav 12 2.97 3.17 heng hen\n"
     ]
    },
    {
     "name": "stderr",
     "output_type": "stream",
     "text": [
      "  3%|▎         | 68/1944 [00:14<06:02,  5.18it/s]"
     ]
    },
    {
     "name": "stdout",
     "output_type": "stream",
     "text": [
      "lab_wav_pairs/009676.wav 7 1.97 2.19 zhang chang\n"
     ]
    },
    {
     "name": "stderr",
     "output_type": "stream",
     "text": [
      "  4%|▎         | 69/1944 [00:15<06:29,  4.81it/s]"
     ]
    },
    {
     "name": "stdout",
     "output_type": "stream",
     "text": [
      "lab_wav_pairs/008565.wav 12 2.95 3.13 jiu jiong\n"
     ]
    },
    {
     "name": "stderr",
     "output_type": "stream",
     "text": [
      "  4%|▎         | 72/1944 [00:15<07:46,  4.02it/s]"
     ]
    },
    {
     "name": "stdout",
     "output_type": "stream",
     "text": [
      "lab_wav_pairs/008233.wav 4 1.18 1.45 ye yan\n"
     ]
    },
    {
     "name": "stderr",
     "output_type": "stream",
     "text": [
      "  4%|▍         | 73/1944 [00:16<06:46,  4.60it/s]"
     ]
    },
    {
     "name": "stdout",
     "output_type": "stream",
     "text": [
      "lab_wav_pairs/009093.wav 6 1.73 1.9 quan que\n",
      "lab_wav_pairs/008276.wav 4 1.16 1.31 jian jie\n"
     ]
    },
    {
     "name": "stderr",
     "output_type": "stream",
     "text": [
      "  4%|▍         | 74/1944 [00:16<08:28,  3.68it/s]"
     ]
    },
    {
     "name": "stdout",
     "output_type": "stream",
     "text": [
      "lab_wav_pairs/008276.wav 17 3.79 4.0 tou tong\n",
      "lab_wav_pairs/009077.wav 2 0.64 0.83 bai ban\n"
     ]
    },
    {
     "name": "stderr",
     "output_type": "stream",
     "text": [
      "  4%|▍         | 75/1944 [00:16<07:28,  4.17it/s]"
     ]
    },
    {
     "name": "stdout",
     "output_type": "stream",
     "text": [
      "lab_wav_pairs/009077.wav 10 2.65 2.71 la le\n"
     ]
    },
    {
     "name": "stderr",
     "output_type": "stream",
     "text": [
      "  4%|▍         | 80/1944 [00:17<07:36,  4.09it/s]"
     ]
    },
    {
     "name": "stdout",
     "output_type": "stream",
     "text": [
      "lab_wav_pairs/009932.wav 11 2.52 2.75 qiao qiang\n"
     ]
    },
    {
     "name": "stderr",
     "output_type": "stream",
     "text": [
      "  4%|▍         | 82/1944 [00:18<10:18,  3.01it/s]"
     ]
    },
    {
     "name": "stdout",
     "output_type": "stream",
     "text": [
      "lab_wav_pairs/009975.wav 28 5.81 6.0 xing xin\n"
     ]
    },
    {
     "name": "stderr",
     "output_type": "stream",
     "text": [
      "  4%|▍         | 84/1944 [00:19<09:45,  3.18it/s]"
     ]
    },
    {
     "name": "stdout",
     "output_type": "stream",
     "text": [
      "lab_wav_pairs/009060.wav 17 4.33 4.49 dui dun\n"
     ]
    },
    {
     "name": "stderr",
     "output_type": "stream",
     "text": [
      "  4%|▍         | 86/1944 [00:19<07:08,  4.34it/s]"
     ]
    },
    {
     "name": "stdout",
     "output_type": "stream",
     "text": [
      "lab_wav_pairs/009771.wav 5 1.31 1.4 fur fa\n"
     ]
    },
    {
     "name": "stderr",
     "output_type": "stream",
     "text": [
      "  5%|▍         | 88/1944 [00:19<06:37,  4.67it/s]"
     ]
    },
    {
     "name": "stdout",
     "output_type": "stream",
     "text": [
      "lab_wav_pairs/009595.wav 4 0.95 1.1 ren re\n",
      "lab_wav_pairs/009595.wav 14 2.85 3.03 dao dou\n"
     ]
    },
    {
     "name": "stderr",
     "output_type": "stream",
     "text": [
      "  5%|▍         | 89/1944 [00:20<07:12,  4.29it/s]"
     ]
    },
    {
     "name": "stdout",
     "output_type": "stream",
     "text": [
      "lab_wav_pairs/009963.wav 6 1.79 1.91 wo wei\n",
      "lab_wav_pairs/009161.wav 4 1.23 1.31 de le\n"
     ]
    },
    {
     "name": "stderr",
     "output_type": "stream",
     "text": [
      "  5%|▍         | 92/1944 [00:20<07:02,  4.38it/s]"
     ]
    },
    {
     "name": "stdout",
     "output_type": "stream",
     "text": [
      "lab_wav_pairs/009525.wav 14 3.38 3.6 bian bing\n",
      "lab_wav_pairs/008599.wav 9 2.53 2.61 an ai\n"
     ]
    },
    {
     "name": "stderr",
     "output_type": "stream",
     "text": [
      "  5%|▍         | 93/1944 [00:21<08:03,  3.83it/s]"
     ]
    },
    {
     "name": "stdout",
     "output_type": "stream",
     "text": [
      "lab_wav_pairs/008599.wav 10 2.61 2.75 wen wei\n",
      "lab_wav_pairs/008718.wav 2 0.91 1.04 di dian\n",
      "lab_wav_pairs/009677.wav 6 1.72 1.87 dan dai\n"
     ]
    },
    {
     "name": "stderr",
     "output_type": "stream",
     "text": [
      "  5%|▌         | 100/1944 [00:22<05:48,  5.28it/s]"
     ]
    },
    {
     "name": "stdout",
     "output_type": "stream",
     "text": [
      "lab_wav_pairs/009824.wav 1 0.44 0.7 po pu\n",
      "lab_wav_pairs/008708.wav 5 1.18 1.34 li lin\n"
     ]
    },
    {
     "name": "stderr",
     "output_type": "stream",
     "text": [
      "  5%|▌         | 102/1944 [00:22<05:11,  5.91it/s]"
     ]
    },
    {
     "name": "stdout",
     "output_type": "stream",
     "text": [
      "lab_wav_pairs/009978.wav 7 1.89 2.06 kai kan\n"
     ]
    },
    {
     "name": "stderr",
     "output_type": "stream",
     "text": [
      "  5%|▌         | 104/1944 [00:23<06:18,  4.86it/s]"
     ]
    },
    {
     "name": "stdout",
     "output_type": "stream",
     "text": [
      "lab_wav_pairs/008848.wav 12 3.18 3.35 lin ling\n"
     ]
    },
    {
     "name": "stderr",
     "output_type": "stream",
     "text": [
      "  5%|▌         | 105/1944 [00:23<06:50,  4.48it/s]"
     ]
    },
    {
     "name": "stdout",
     "output_type": "stream",
     "text": [
      "lab_wav_pairs/009330.wav 11 3.04 3.21 sun sui\n"
     ]
    },
    {
     "name": "stderr",
     "output_type": "stream",
     "text": [
      "  6%|▌         | 107/1944 [00:24<07:06,  4.31it/s]"
     ]
    },
    {
     "name": "stdout",
     "output_type": "stream",
     "text": [
      "lab_wav_pairs/008984.wav 20 4.4 4.56 qing qin\n",
      "lab_wav_pairs/008464.wav 10 3.25 3.43 bie bian\n"
     ]
    },
    {
     "name": "stderr",
     "output_type": "stream",
     "text": [
      "  6%|▌         | 114/1944 [00:26<07:39,  3.99it/s]"
     ]
    },
    {
     "name": "stdout",
     "output_type": "stream",
     "text": [
      "lab_wav_pairs/009071.wav 2 0.67 0.88 zang cang\n",
      "lab_wav_pairs/009071.wav 3 0.88 1.08 ming min\n"
     ]
    },
    {
     "name": "stderr",
     "output_type": "stream",
     "text": [
      "  6%|▌         | 117/1944 [00:26<06:52,  4.43it/s]"
     ]
    },
    {
     "name": "stdout",
     "output_type": "stream",
     "text": [
      "lab_wav_pairs/009702.wav 9 2.5 2.63 ji jin\n",
      "lab_wav_pairs/009702.wav 16 3.99 4.15 shou she\n",
      "lab_wav_pairs/009702.wav 18 4.36 4.56 zhu ru\n"
     ]
    },
    {
     "name": "stderr",
     "output_type": "stream",
     "text": [
      "  6%|▌         | 120/1944 [00:27<07:20,  4.14it/s]"
     ]
    },
    {
     "name": "stdout",
     "output_type": "stream",
     "text": [
      "lab_wav_pairs/008777.wav 6 1.45 1.6 qi xi\n"
     ]
    },
    {
     "name": "stderr",
     "output_type": "stream",
     "text": [
      "  6%|▋         | 123/1944 [00:28<08:32,  3.55it/s]"
     ]
    },
    {
     "name": "stdout",
     "output_type": "stream",
     "text": [
      "lab_wav_pairs/009136.wav 14 3.64 3.8 dian di\n"
     ]
    },
    {
     "name": "stderr",
     "output_type": "stream",
     "text": [
      "  6%|▋         | 126/1944 [00:29<08:29,  3.57it/s]"
     ]
    },
    {
     "name": "stdout",
     "output_type": "stream",
     "text": [
      "lab_wav_pairs/009442.wav 14 3.06 3.25 bing bin\n"
     ]
    },
    {
     "name": "stderr",
     "output_type": "stream",
     "text": [
      "  7%|▋         | 129/1944 [00:29<07:38,  3.96it/s]"
     ]
    },
    {
     "name": "stdout",
     "output_type": "stream",
     "text": [
      "lab_wav_pairs/009038.wav 4 1.13 1.3 jin ji\n"
     ]
    },
    {
     "name": "stderr",
     "output_type": "stream",
     "text": [
      "  7%|▋         | 131/1944 [00:30<06:24,  4.71it/s]"
     ]
    },
    {
     "name": "stdout",
     "output_type": "stream",
     "text": [
      "lab_wav_pairs/009664.wav 12 2.99 3.11 deng de\n"
     ]
    },
    {
     "name": "stderr",
     "output_type": "stream",
     "text": [
      "  7%|▋         | 135/1944 [00:30<05:32,  5.44it/s]"
     ]
    },
    {
     "name": "stdout",
     "output_type": "stream",
     "text": [
      "lab_wav_pairs/009844.wav 14 3.95 4.03 an zha\n",
      "lab_wav_pairs/009844.wav 15 4.03 4.2 cha zha\n"
     ]
    },
    {
     "name": "stderr",
     "output_type": "stream",
     "text": [
      "  7%|▋         | 136/1944 [00:31<06:22,  4.73it/s]"
     ]
    },
    {
     "name": "stdout",
     "output_type": "stream",
     "text": [
      "lab_wav_pairs/008159.wav 12 3.12 3.28 xuan xue\n"
     ]
    },
    {
     "name": "stderr",
     "output_type": "stream",
     "text": [
      "  7%|▋         | 138/1944 [00:31<06:53,  4.37it/s]"
     ]
    },
    {
     "name": "stdout",
     "output_type": "stream",
     "text": [
      "lab_wav_pairs/008104.wav 5 1.72 1.88 jing jin\n"
     ]
    },
    {
     "name": "stderr",
     "output_type": "stream",
     "text": [
      "  7%|▋         | 140/1944 [00:32<08:08,  3.69it/s]"
     ]
    },
    {
     "name": "stdout",
     "output_type": "stream",
     "text": [
      "lab_wav_pairs/009831.wav 9 2.41 2.54 pai ta\n"
     ]
    },
    {
     "name": "stderr",
     "output_type": "stream",
     "text": [
      "  7%|▋         | 141/1944 [00:32<07:33,  3.98it/s]"
     ]
    },
    {
     "name": "stdout",
     "output_type": "stream",
     "text": [
      "lab_wav_pairs/009184.wav 3 0.68 0.85 xin xi\n"
     ]
    },
    {
     "name": "stderr",
     "output_type": "stream",
     "text": [
      "  7%|▋         | 143/1944 [00:32<06:53,  4.36it/s]"
     ]
    },
    {
     "name": "stdout",
     "output_type": "stream",
     "text": [
      "lab_wav_pairs/008291.wav 4 1.13 1.27 dao ba\n"
     ]
    },
    {
     "name": "stderr",
     "output_type": "stream",
     "text": [
      "  7%|▋         | 144/1944 [00:33<07:14,  4.14it/s]"
     ]
    },
    {
     "name": "stdout",
     "output_type": "stream",
     "text": [
      "lab_wav_pairs/009703.wav 17 4.43 4.5 le la\n"
     ]
    },
    {
     "name": "stderr",
     "output_type": "stream",
     "text": [
      "  7%|▋         | 145/1944 [00:33<07:36,  3.94it/s]"
     ]
    },
    {
     "name": "stdout",
     "output_type": "stream",
     "text": [
      "lab_wav_pairs/008068.wav 17 4.58 4.73 da za\n"
     ]
    },
    {
     "name": "stderr",
     "output_type": "stream",
     "text": [
      "  8%|▊         | 148/1944 [00:34<05:44,  5.22it/s]"
     ]
    },
    {
     "name": "stdout",
     "output_type": "stream",
     "text": [
      "lab_wav_pairs/008771.wav 0 0.31 0.46 ge de\n",
      "lab_wav_pairs/008771.wav 7 1.66 1.83 gou gong\n",
      "lab_wav_pairs/008798.wav 1 0.53 0.75 yan ye\n"
     ]
    },
    {
     "name": "stderr",
     "output_type": "stream",
     "text": [
      "  8%|▊         | 150/1944 [00:34<05:21,  5.58it/s]"
     ]
    },
    {
     "name": "stdout",
     "output_type": "stream",
     "text": [
      "lab_wav_pairs/009116.wav 2 0.58 0.76 jian jin\n",
      "lab_wav_pairs/009116.wav 13 3.05 3.21 luo lun\n"
     ]
    },
    {
     "name": "stderr",
     "output_type": "stream",
     "text": [
      "  8%|▊         | 155/1944 [00:35<06:47,  4.40it/s]"
     ]
    },
    {
     "name": "stdout",
     "output_type": "stream",
     "text": [
      "lab_wav_pairs/008750.wav 18 3.93 4.0 de di\n"
     ]
    },
    {
     "name": "stderr",
     "output_type": "stream",
     "text": [
      "  8%|▊         | 156/1944 [00:35<07:09,  4.16it/s]"
     ]
    },
    {
     "name": "stdout",
     "output_type": "stream",
     "text": [
      "lab_wav_pairs/009652.wav 12 3.15 3.31 xie xian\n"
     ]
    },
    {
     "name": "stderr",
     "output_type": "stream",
     "text": [
      "  8%|▊         | 158/1944 [00:36<07:12,  4.13it/s]"
     ]
    },
    {
     "name": "stdout",
     "output_type": "stream",
     "text": [
      "lab_wav_pairs/008809.wav 9 2.34 2.54 ze zen\n",
      "lab_wav_pairs/008809.wav 10 2.54 2.64 men me\n"
     ]
    },
    {
     "name": "stderr",
     "output_type": "stream",
     "text": [
      "  8%|▊         | 160/1944 [00:36<06:10,  4.82it/s]"
     ]
    },
    {
     "name": "stdout",
     "output_type": "stream",
     "text": [
      "lab_wav_pairs/009488.wav 1 0.4 0.55 ni ning\n"
     ]
    },
    {
     "name": "stderr",
     "output_type": "stream",
     "text": [
      "  8%|▊         | 161/1944 [00:36<06:09,  4.82it/s]"
     ]
    },
    {
     "name": "stdout",
     "output_type": "stream",
     "text": [
      "lab_wav_pairs/008486.wav 10 2.51 2.65 xing xi\n"
     ]
    },
    {
     "name": "stderr",
     "output_type": "stream",
     "text": [
      "  8%|▊         | 164/1944 [00:37<05:32,  5.36it/s]"
     ]
    },
    {
     "name": "stdout",
     "output_type": "stream",
     "text": [
      "lab_wav_pairs/008343.wav 1 0.58 0.73 xing xi\n",
      "lab_wav_pairs/008343.wav 6 1.73 1.91 xuan xue\n",
      "lab_wav_pairs/008311.wav 8 2.53 2.61 ng zeng\n",
      "lab_wav_pairs/008311.wav 12 3.14 3.3 xu xue\n",
      "lab_wav_pairs/008311.wav 13 3.3 3.47 xiang xiao\n"
     ]
    },
    {
     "name": "stderr",
     "output_type": "stream",
     "text": [
      "  8%|▊         | 165/1944 [00:37<07:03,  4.20it/s]"
     ]
    },
    {
     "name": "stdout",
     "output_type": "stream",
     "text": [
      "lab_wav_pairs/008043.wav 5 1.26 1.4 de ben\n"
     ]
    },
    {
     "name": "stderr",
     "output_type": "stream",
     "text": [
      "  9%|▊         | 170/1944 [00:38<06:19,  4.67it/s]"
     ]
    },
    {
     "name": "stdout",
     "output_type": "stream",
     "text": [
      "lab_wav_pairs/008612.wav 8 1.85 1.99 liang liao\n"
     ]
    },
    {
     "name": "stderr",
     "output_type": "stream",
     "text": [
      "  9%|▉         | 171/1944 [00:39<07:40,  3.85it/s]"
     ]
    },
    {
     "name": "stdout",
     "output_type": "stream",
     "text": [
      "lab_wav_pairs/008612.wav 23 5.35 5.53 huo hun\n",
      "lab_wav_pairs/008612.wav 26 6.04 6.14 ang o\n",
      "lab_wav_pairs/009125.wav 3 0.87 0.92 yangr di\n",
      "lab_wav_pairs/009125.wav 5 1.51 1.65 pan ta\n"
     ]
    },
    {
     "name": "stderr",
     "output_type": "stream",
     "text": [
      "  9%|▉         | 173/1944 [00:39<08:49,  3.34it/s]"
     ]
    },
    {
     "name": "stdout",
     "output_type": "stream",
     "text": [
      "lab_wav_pairs/009913.wav 7 2.23 2.33 ang zhao\n"
     ]
    },
    {
     "name": "stderr",
     "output_type": "stream",
     "text": [
      "  9%|▉         | 177/1944 [00:41<09:32,  3.08it/s]"
     ]
    },
    {
     "name": "stdout",
     "output_type": "stream",
     "text": [
      "lab_wav_pairs/008727.wav 4 1.02 1.24 yan ye\n",
      "lab_wav_pairs/008429.wav 7 1.53 1.72 tang teng\n"
     ]
    },
    {
     "name": "stderr",
     "output_type": "stream",
     "text": [
      "  9%|▉         | 180/1944 [00:41<06:47,  4.33it/s]"
     ]
    },
    {
     "name": "stdout",
     "output_type": "stream",
     "text": [
      "lab_wav_pairs/008208.wav 10 2.24 2.48 kou kong\n"
     ]
    },
    {
     "name": "stderr",
     "output_type": "stream",
     "text": [
      " 10%|▉         | 185/1944 [00:42<07:54,  3.71it/s]"
     ]
    },
    {
     "name": "stdout",
     "output_type": "stream",
     "text": [
      "lab_wav_pairs/009131.wav 15 3.49 3.65 xiang xiao\n"
     ]
    },
    {
     "name": "stderr",
     "output_type": "stream",
     "text": [
      " 10%|█         | 195/1944 [00:44<05:19,  5.48it/s]"
     ]
    },
    {
     "name": "stdout",
     "output_type": "stream",
     "text": [
      "lab_wav_pairs/008760.wav 0 0.34 0.53 jie jing\n"
     ]
    },
    {
     "name": "stderr",
     "output_type": "stream",
     "text": [
      " 10%|█         | 197/1944 [00:45<05:55,  4.91it/s]"
     ]
    },
    {
     "name": "stdout",
     "output_type": "stream",
     "text": [
      "lab_wav_pairs/008020.wav 5 1.48 1.67 gai gan\n"
     ]
    },
    {
     "name": "stderr",
     "output_type": "stream",
     "text": [
      " 10%|█         | 200/1944 [00:45<04:41,  6.19it/s]"
     ]
    },
    {
     "name": "stdout",
     "output_type": "stream",
     "text": [
      "lab_wav_pairs/009410.wav 10 2.2 2.44 nian nie\n"
     ]
    },
    {
     "name": "stderr",
     "output_type": "stream",
     "text": [
      " 10%|█         | 204/1944 [00:46<05:38,  5.14it/s]"
     ]
    },
    {
     "name": "stdout",
     "output_type": "stream",
     "text": [
      "lab_wav_pairs/008804.wav 13 3.24 3.36 jin jue\n",
      "lab_wav_pairs/008804.wav 17 4.37 4.53 huo hu\n"
     ]
    },
    {
     "name": "stderr",
     "output_type": "stream",
     "text": [
      " 11%|█         | 208/1944 [00:47<05:23,  5.37it/s]"
     ]
    },
    {
     "name": "stdout",
     "output_type": "stream",
     "text": [
      "lab_wav_pairs/008168.wav 10 2.42 2.52 men mei\n",
      "lab_wav_pairs/008168.wav 11 2.52 2.64 yong you\n"
     ]
    },
    {
     "name": "stderr",
     "output_type": "stream",
     "text": [
      " 11%|█         | 210/1944 [00:47<06:27,  4.47it/s]"
     ]
    },
    {
     "name": "stdout",
     "output_type": "stream",
     "text": [
      "lab_wav_pairs/008945.wav 13 3.54 3.58 yu lo\n",
      "lab_wav_pairs/008945.wav 14 3.58 3.75 e ge\n",
      "lab_wav_pairs/008945.wav 16 5.01 5.13 ben de\n"
     ]
    },
    {
     "name": "stderr",
     "output_type": "stream",
     "text": [
      " 11%|█         | 211/1944 [00:48<07:20,  3.94it/s]"
     ]
    },
    {
     "name": "stdout",
     "output_type": "stream",
     "text": [
      "lab_wav_pairs/009697.wav 15 3.82 3.89 duir di\n"
     ]
    },
    {
     "name": "stderr",
     "output_type": "stream",
     "text": [
      " 11%|█         | 213/1944 [00:48<07:08,  4.04it/s]"
     ]
    },
    {
     "name": "stdout",
     "output_type": "stream",
     "text": [
      "lab_wav_pairs/008526.wav 6 1.62 1.82 yin yun\n"
     ]
    },
    {
     "name": "stderr",
     "output_type": "stream",
     "text": [
      " 11%|█         | 215/1944 [00:49<05:52,  4.90it/s]"
     ]
    },
    {
     "name": "stdout",
     "output_type": "stream",
     "text": [
      "lab_wav_pairs/009773.wav 0 0.3 0.46 cheng chou\n"
     ]
    },
    {
     "name": "stderr",
     "output_type": "stream",
     "text": [
      " 11%|█         | 217/1944 [00:49<07:07,  4.04it/s]"
     ]
    },
    {
     "name": "stdout",
     "output_type": "stream",
     "text": [
      "lab_wav_pairs/008406.wav 22 5.27 5.45 qi qin\n"
     ]
    },
    {
     "name": "stderr",
     "output_type": "stream",
     "text": [
      " 11%|█▏        | 223/1944 [00:50<06:14,  4.59it/s]"
     ]
    },
    {
     "name": "stdout",
     "output_type": "stream",
     "text": [
      "lab_wav_pairs/008248.wav 0 0.38 0.52 ye yan\n",
      "lab_wav_pairs/008248.wav 16 3.57 3.74 jian jin\n"
     ]
    },
    {
     "name": "stderr",
     "output_type": "stream",
     "text": [
      " 12%|█▏        | 225/1944 [00:51<05:39,  5.07it/s]"
     ]
    },
    {
     "name": "stdout",
     "output_type": "stream",
     "text": [
      "lab_wav_pairs/008248.wav 21 4.38 4.72 tou tong\n"
     ]
    },
    {
     "name": "stderr",
     "output_type": "stream",
     "text": [
      " 12%|█▏        | 226/1944 [00:51<06:35,  4.35it/s]"
     ]
    },
    {
     "name": "stdout",
     "output_type": "stream",
     "text": [
      "lab_wav_pairs/008501.wav 16 3.49 3.63 qi ji\n"
     ]
    },
    {
     "name": "stderr",
     "output_type": "stream",
     "text": [
      " 12%|█▏        | 227/1944 [00:51<06:41,  4.28it/s]"
     ]
    },
    {
     "name": "stdout",
     "output_type": "stream",
     "text": [
      "lab_wav_pairs/009900.wav 9 2.07 2.22 shan shai\n",
      "lab_wav_pairs/009954.wav 3 1.11 1.33 chuan chuang\n"
     ]
    },
    {
     "name": "stderr",
     "output_type": "stream",
     "text": [
      " 12%|█▏        | 231/1944 [00:52<05:46,  4.94it/s]"
     ]
    },
    {
     "name": "stdout",
     "output_type": "stream",
     "text": [
      "lab_wav_pairs/008871.wav 0 0.32 0.54 shi chi\n"
     ]
    },
    {
     "name": "stderr",
     "output_type": "stream",
     "text": [
      " 12%|█▏        | 233/1944 [00:53<05:28,  5.20it/s]"
     ]
    },
    {
     "name": "stdout",
     "output_type": "stream",
     "text": [
      "lab_wav_pairs/008260.wav 0 0.37 0.52 yan ye\n",
      "lab_wav_pairs/008260.wav 6 1.63 1.78 mi ming\n"
     ]
    },
    {
     "name": "stderr",
     "output_type": "stream",
     "text": [
      " 12%|█▏        | 236/1944 [00:53<05:12,  5.46it/s]"
     ]
    },
    {
     "name": "stdout",
     "output_type": "stream",
     "text": [
      "lab_wav_pairs/009157.wav 17 3.96 4.23 ping pin\n"
     ]
    },
    {
     "name": "stderr",
     "output_type": "stream",
     "text": [
      " 12%|█▏        | 238/1944 [00:54<06:19,  4.50it/s]"
     ]
    },
    {
     "name": "stdout",
     "output_type": "stream",
     "text": [
      "lab_wav_pairs/009458.wav 1 0.42 0.52 men mei\n",
      "lab_wav_pairs/009458.wav 5 1.28 1.46 wen wo\n"
     ]
    },
    {
     "name": "stderr",
     "output_type": "stream",
     "text": [
      " 12%|█▏        | 241/1944 [00:54<07:15,  3.91it/s]"
     ]
    },
    {
     "name": "stdout",
     "output_type": "stream",
     "text": [
      "lab_wav_pairs/009495.wav 11 2.69 2.87 lie lian\n",
      "lab_wav_pairs/009430.wav 7 1.95 2.19 kuan kua\n"
     ]
    },
    {
     "name": "stderr",
     "output_type": "stream",
     "text": [
      " 13%|█▎        | 246/1944 [00:55<05:13,  5.42it/s]"
     ]
    },
    {
     "name": "stdout",
     "output_type": "stream",
     "text": [
      "lab_wav_pairs/008794.wav 1 0.51 0.68 xi qi\n"
     ]
    },
    {
     "name": "stderr",
     "output_type": "stream",
     "text": [
      " 13%|█▎        | 250/1944 [00:56<04:48,  5.88it/s]"
     ]
    },
    {
     "name": "stdout",
     "output_type": "stream",
     "text": [
      "lab_wav_pairs/008883.wav 0 0.32 0.49 zi zun\n"
     ]
    },
    {
     "name": "stderr",
     "output_type": "stream",
     "text": [
      " 13%|█▎        | 252/1944 [00:56<04:32,  6.21it/s]"
     ]
    },
    {
     "name": "stdout",
     "output_type": "stream",
     "text": [
      "lab_wav_pairs/008956.wav 2 0.8 0.98 xian xie\n"
     ]
    },
    {
     "name": "stderr",
     "output_type": "stream",
     "text": [
      " 13%|█▎        | 254/1944 [00:57<06:19,  4.46it/s]"
     ]
    },
    {
     "name": "stdout",
     "output_type": "stream",
     "text": [
      "lab_wav_pairs/008156.wav 17 4.01 4.24 pai tai\n"
     ]
    },
    {
     "name": "stderr",
     "output_type": "stream",
     "text": [
      " 13%|█▎        | 255/1944 [00:57<06:51,  4.10it/s]"
     ]
    },
    {
     "name": "stdout",
     "output_type": "stream",
     "text": [
      "lab_wav_pairs/009620.wav 15 3.82 3.99 du duo\n"
     ]
    },
    {
     "name": "stderr",
     "output_type": "stream",
     "text": [
      " 13%|█▎        | 258/1944 [00:58<06:18,  4.46it/s]"
     ]
    },
    {
     "name": "stdout",
     "output_type": "stream",
     "text": [
      "lab_wav_pairs/009438.wav 11 2.47 2.69 yin ying\n"
     ]
    },
    {
     "name": "stderr",
     "output_type": "stream",
     "text": [
      " 13%|█▎        | 259/1944 [00:58<06:46,  4.14it/s]"
     ]
    },
    {
     "name": "stdout",
     "output_type": "stream",
     "text": [
      "lab_wav_pairs/008995.wav 17 4.01 4.12 yuan ren\n",
      "lab_wav_pairs/009143.wav 11 2.66 2.9 jian jin\n"
     ]
    },
    {
     "name": "stderr",
     "output_type": "stream",
     "text": [
      " 13%|█▎        | 262/1944 [00:59<06:09,  4.55it/s]"
     ]
    },
    {
     "name": "stdout",
     "output_type": "stream",
     "text": [
      "lab_wav_pairs/009753.wav 11 2.79 2.93 yuan ren\n",
      "lab_wav_pairs/009753.wav 19 4.56 4.68 men neng\n"
     ]
    },
    {
     "name": "stderr",
     "output_type": "stream",
     "text": [
      " 14%|█▎        | 266/1944 [01:00<06:57,  4.02it/s]"
     ]
    },
    {
     "name": "stdout",
     "output_type": "stream",
     "text": [
      "lab_wav_pairs/008053.wav 9 2.52 2.69 zhi chi\n"
     ]
    },
    {
     "name": "stderr",
     "output_type": "stream",
     "text": [
      " 14%|█▎        | 267/1944 [01:00<06:35,  4.24it/s]"
     ]
    },
    {
     "name": "stdout",
     "output_type": "stream",
     "text": [
      "lab_wav_pairs/008361.wav 11 2.82 3.02 tu tong\n",
      "lab_wav_pairs/008361.wav 14 3.46 3.65 ye yue\n"
     ]
    },
    {
     "name": "stderr",
     "output_type": "stream",
     "text": [
      " 14%|█▍        | 272/1944 [01:01<05:25,  5.14it/s]"
     ]
    },
    {
     "name": "stdout",
     "output_type": "stream",
     "text": [
      "lab_wav_pairs/008253.wav 7 1.64 1.76 le lao\n"
     ]
    },
    {
     "name": "stderr",
     "output_type": "stream",
     "text": [
      " 14%|█▍        | 274/1944 [01:01<06:15,  4.45it/s]"
     ]
    },
    {
     "name": "stdout",
     "output_type": "stream",
     "text": [
      "lab_wav_pairs/009049.wav 12 2.7 2.9 shei shui\n"
     ]
    },
    {
     "name": "stderr",
     "output_type": "stream",
     "text": [
      " 14%|█▍        | 276/1944 [01:02<05:05,  5.45it/s]"
     ]
    },
    {
     "name": "stdout",
     "output_type": "stream",
     "text": [
      "lab_wav_pairs/009635.wav 0 0.29 0.44 zhou zhong\n",
      "lab_wav_pairs/008670.wav 0 0.36 0.47 yin ye\n"
     ]
    },
    {
     "name": "stderr",
     "output_type": "stream",
     "text": [
      " 14%|█▍        | 279/1944 [01:03<07:25,  3.73it/s]"
     ]
    },
    {
     "name": "stdout",
     "output_type": "stream",
     "text": [
      "lab_wav_pairs/009470.wav 5 1.62 1.83 sun sui\n"
     ]
    },
    {
     "name": "stderr",
     "output_type": "stream",
     "text": [
      " 14%|█▍        | 280/1944 [01:03<08:01,  3.46it/s]"
     ]
    },
    {
     "name": "stdout",
     "output_type": "stream",
     "text": [
      "lab_wav_pairs/008490.wav 0 0.36 0.56 ceng zeng\n"
     ]
    },
    {
     "name": "stderr",
     "output_type": "stream",
     "text": [
      " 14%|█▍        | 281/1944 [01:03<09:49,  2.82it/s]"
     ]
    },
    {
     "name": "stdout",
     "output_type": "stream",
     "text": [
      "lab_wav_pairs/008490.wav 20 4.51 4.73 yue yuan\n"
     ]
    },
    {
     "name": "stderr",
     "output_type": "stream",
     "text": [
      " 15%|█▍        | 282/1944 [01:04<10:09,  2.73it/s]"
     ]
    },
    {
     "name": "stdout",
     "output_type": "stream",
     "text": [
      "lab_wav_pairs/008428.wav 16 3.51 3.63 zhe zhi\n"
     ]
    },
    {
     "name": "stderr",
     "output_type": "stream",
     "text": [
      " 15%|█▍        | 284/1944 [01:04<08:21,  3.31it/s]"
     ]
    },
    {
     "name": "stdout",
     "output_type": "stream",
     "text": [
      "lab_wav_pairs/008356.wav 13 2.79 2.94 jin ji\n",
      "lab_wav_pairs/008356.wav 15 3.08 3.24 xiang xiao\n"
     ]
    },
    {
     "name": "stderr",
     "output_type": "stream",
     "text": [
      " 15%|█▍        | 288/1944 [01:05<05:58,  4.63it/s]"
     ]
    },
    {
     "name": "stdout",
     "output_type": "stream",
     "text": [
      "lab_wav_pairs/009926.wav 13 2.97 3.08 de di\n",
      "lab_wav_pairs/009299.wav 2 0.68 0.94 ma me\n",
      "lab_wav_pairs/009299.wav 5 1.75 1.91 zhan zhen\n",
      "lab_wav_pairs/009194.wav 15 3.6 3.74 yan ye\n"
     ]
    },
    {
     "name": "stderr",
     "output_type": "stream",
     "text": [
      " 15%|█▍        | 291/1944 [01:06<05:13,  5.27it/s]"
     ]
    },
    {
     "name": "stdout",
     "output_type": "stream",
     "text": [
      "lab_wav_pairs/009246.wav 0 0.28 0.47 yan ye\n",
      "lab_wav_pairs/009246.wav 10 2.23 2.39 jiang jiao\n",
      "lab_wav_pairs/009246.wav 14 3.31 3.51 you yong\n"
     ]
    },
    {
     "name": "stderr",
     "output_type": "stream",
     "text": [
      " 15%|█▌        | 294/1944 [01:06<05:21,  5.14it/s]"
     ]
    },
    {
     "name": "stdout",
     "output_type": "stream",
     "text": [
      "lab_wav_pairs/009812.wav 12 2.9 3.07 pen peng\n",
      "lab_wav_pairs/009812.wav 13 3.07 3.33 pan pai\n",
      "lab_wav_pairs/008395.wav 5 1.23 1.38 suo su\n"
     ]
    },
    {
     "name": "stderr",
     "output_type": "stream",
     "text": [
      " 15%|█▌        | 296/1944 [01:07<05:45,  4.76it/s]"
     ]
    },
    {
     "name": "stdout",
     "output_type": "stream",
     "text": [
      "lab_wav_pairs/009623.wav 6 1.82 1.95 bu fu\n"
     ]
    },
    {
     "name": "stderr",
     "output_type": "stream",
     "text": [
      " 15%|█▌        | 300/1944 [01:08<05:07,  5.35it/s]"
     ]
    },
    {
     "name": "stdout",
     "output_type": "stream",
     "text": [
      "lab_wav_pairs/008818.wav 13 2.86 3.04 dong dou\n",
      "lab_wav_pairs/008818.wav 15 3.72 3.88 na nan\n"
     ]
    },
    {
     "name": "stderr",
     "output_type": "stream",
     "text": [
      " 16%|█▌        | 303/1944 [01:08<06:01,  4.53it/s]"
     ]
    },
    {
     "name": "stdout",
     "output_type": "stream",
     "text": [
      "lab_wav_pairs/009237.wav 15 3.02 3.11 ying yun\n",
      "lab_wav_pairs/008622.wav 7 2.0 2.2 jian jie\n"
     ]
    },
    {
     "name": "stderr",
     "output_type": "stream",
     "text": [
      " 16%|█▌        | 304/1944 [01:08<06:06,  4.47it/s]"
     ]
    },
    {
     "name": "stdout",
     "output_type": "stream",
     "text": [
      "lab_wav_pairs/008622.wav 14 3.45 3.62 xin xi\n",
      "lab_wav_pairs/008287.wav 12 3.09 3.23 lu lou\n"
     ]
    },
    {
     "name": "stderr",
     "output_type": "stream",
     "text": [
      " 16%|█▌        | 306/1944 [01:09<06:02,  4.52it/s]"
     ]
    },
    {
     "name": "stdout",
     "output_type": "stream",
     "text": [
      "lab_wav_pairs/008938.wav 5 1.31 1.5 qi qin\n",
      "lab_wav_pairs/008938.wav 6 1.5 1.67 ming mi\n"
     ]
    },
    {
     "name": "stderr",
     "output_type": "stream",
     "text": [
      " 16%|█▌        | 307/1944 [01:09<05:49,  4.68it/s]"
     ]
    },
    {
     "name": "stdout",
     "output_type": "stream",
     "text": [
      "lab_wav_pairs/008375.wav 8 2.39 2.56 du lu\n"
     ]
    },
    {
     "name": "stderr",
     "output_type": "stream",
     "text": [
      " 16%|█▌        | 309/1944 [01:09<04:58,  5.47it/s]"
     ]
    },
    {
     "name": "stdout",
     "output_type": "stream",
     "text": [
      "lab_wav_pairs/009935.wav 7 1.92 2.07 tai ta\n",
      "lab_wav_pairs/009935.wav 9 2.26 2.41 shan shang\n",
      "lab_wav_pairs/009935.wav 10 2.41 2.5 men de\n"
     ]
    },
    {
     "name": "stderr",
     "output_type": "stream",
     "text": [
      " 16%|█▌        | 310/1944 [01:10<05:50,  4.66it/s]"
     ]
    },
    {
     "name": "stdout",
     "output_type": "stream",
     "text": [
      "lab_wav_pairs/008055.wav 18 4.38 4.48 yi ye\n"
     ]
    },
    {
     "name": "stderr",
     "output_type": "stream",
     "text": [
      " 16%|█▌        | 315/1944 [01:11<05:11,  5.23it/s]"
     ]
    },
    {
     "name": "stdout",
     "output_type": "stream",
     "text": [
      "lab_wav_pairs/008864.wav 12 2.57 2.66 zhe jia\n",
      "lab_wav_pairs/009056.wav 2 0.66 0.84 zu zuo\n"
     ]
    },
    {
     "name": "stderr",
     "output_type": "stream",
     "text": [
      " 16%|█▋        | 318/1944 [01:11<06:10,  4.39it/s]"
     ]
    },
    {
     "name": "stdout",
     "output_type": "stream",
     "text": [
      "lab_wav_pairs/008292.wav 7 1.98 2.16 xian xin\n"
     ]
    },
    {
     "name": "stderr",
     "output_type": "stream",
     "text": [
      " 16%|█▋        | 319/1944 [01:12<06:06,  4.43it/s]"
     ]
    },
    {
     "name": "stdout",
     "output_type": "stream",
     "text": [
      "lab_wav_pairs/009938.wav 6 1.64 1.81 hai han\n"
     ]
    },
    {
     "name": "stderr",
     "output_type": "stream",
     "text": [
      " 16%|█▋        | 320/1944 [01:12<05:43,  4.72it/s]"
     ]
    },
    {
     "name": "stdout",
     "output_type": "stream",
     "text": [
      "lab_wav_pairs/008827.wav 10 2.24 2.38 yue yuan\n",
      "lab_wav_pairs/009755.wav 4 1.03 1.24 jian jin\n"
     ]
    },
    {
     "name": "stderr",
     "output_type": "stream",
     "text": [
      " 17%|█▋        | 322/1944 [01:12<06:01,  4.49it/s]"
     ]
    },
    {
     "name": "stdout",
     "output_type": "stream",
     "text": [
      "lab_wav_pairs/009945.wav 2 1.05 1.23 lu luo\n",
      "lab_wav_pairs/009945.wav 11 2.88 3.02 shi shu\n"
     ]
    },
    {
     "name": "stderr",
     "output_type": "stream",
     "text": [
      " 17%|█▋        | 323/1944 [01:13<06:11,  4.36it/s]"
     ]
    },
    {
     "name": "stdout",
     "output_type": "stream",
     "text": [
      "lab_wav_pairs/008967.wav 4 1.08 1.28 bing bin\n"
     ]
    },
    {
     "name": "stderr",
     "output_type": "stream",
     "text": [
      " 17%|█▋        | 324/1944 [01:13<06:04,  4.45it/s]"
     ]
    },
    {
     "name": "stdout",
     "output_type": "stream",
     "text": [
      "lab_wav_pairs/008742.wav 6 1.92 2.14 zhuan zhuai\n",
      "lab_wav_pairs/008742.wav 10 2.61 2.76 ling li\n",
      "lab_wav_pairs/009162.wav 0 0.29 0.45 ji jin\n"
     ]
    },
    {
     "name": "stderr",
     "output_type": "stream",
     "text": [
      " 17%|█▋        | 326/1944 [01:13<05:51,  4.60it/s]"
     ]
    },
    {
     "name": "stdout",
     "output_type": "stream",
     "text": [
      "lab_wav_pairs/009009.wav 9 2.51 2.62 yin yi\n",
      "lab_wav_pairs/009009.wav 23 5.49 5.58 me ma\n"
     ]
    },
    {
     "name": "stderr",
     "output_type": "stream",
     "text": [
      " 17%|█▋        | 327/1944 [01:13<05:31,  4.88it/s]"
     ]
    },
    {
     "name": "stdout",
     "output_type": "stream",
     "text": [
      "lab_wav_pairs/009431.wav 4 1.1 1.27 man men\n"
     ]
    },
    {
     "name": "stderr",
     "output_type": "stream",
     "text": [
      " 17%|█▋        | 329/1944 [01:14<04:28,  6.00it/s]"
     ]
    },
    {
     "name": "stdout",
     "output_type": "stream",
     "text": [
      "lab_wav_pairs/008351.wav 2 0.61 0.76 ge gen\n"
     ]
    },
    {
     "name": "stderr",
     "output_type": "stream",
     "text": [
      " 17%|█▋        | 331/1944 [01:14<04:10,  6.43it/s]"
     ]
    },
    {
     "name": "stdout",
     "output_type": "stream",
     "text": [
      "lab_wav_pairs/008487.wav 8 2.33 2.48 dan ban\n"
     ]
    },
    {
     "name": "stderr",
     "output_type": "stream",
     "text": [
      " 17%|█▋        | 335/1944 [01:15<05:38,  4.75it/s]"
     ]
    },
    {
     "name": "stdout",
     "output_type": "stream",
     "text": [
      "lab_wav_pairs/008952.wav 12 3.07 3.34 ceng zeng\n",
      "lab_wav_pairs/008221.wav 0 0.36 0.6 xiang xiao\n"
     ]
    },
    {
     "name": "stderr",
     "output_type": "stream",
     "text": [
      " 17%|█▋        | 336/1944 [01:15<06:26,  4.16it/s]"
     ]
    },
    {
     "name": "stdout",
     "output_type": "stream",
     "text": [
      "lab_wav_pairs/009233.wav 2 0.7 0.94 lia liang\n"
     ]
    },
    {
     "name": "stderr",
     "output_type": "stream",
     "text": [
      " 18%|█▊        | 341/1944 [01:16<06:18,  4.23it/s]"
     ]
    },
    {
     "name": "stdout",
     "output_type": "stream",
     "text": [
      "lab_wav_pairs/008497.wav 5 1.1 1.27 shao shang\n",
      "lab_wav_pairs/008497.wav 14 2.69 2.94 lao lou\n"
     ]
    },
    {
     "name": "stderr",
     "output_type": "stream",
     "text": [
      " 18%|█▊        | 342/1944 [01:16<06:01,  4.43it/s]"
     ]
    },
    {
     "name": "stdout",
     "output_type": "stream",
     "text": [
      "lab_wav_pairs/009885.wav 3 0.83 1.03 shang sheng\n",
      "lab_wav_pairs/009885.wav 6 1.45 1.62 bo bu\n",
      "lab_wav_pairs/009885.wav 7 1.62 1.76 me neng\n"
     ]
    },
    {
     "name": "stderr",
     "output_type": "stream",
     "text": [
      " 18%|█▊        | 346/1944 [01:17<06:42,  3.97it/s]"
     ]
    },
    {
     "name": "stdout",
     "output_type": "stream",
     "text": [
      "lab_wav_pairs/009770.wav 4 1.25 1.46 quan que\n"
     ]
    },
    {
     "name": "stderr",
     "output_type": "stream",
     "text": [
      " 18%|█▊        | 348/1944 [01:18<06:05,  4.37it/s]"
     ]
    },
    {
     "name": "stdout",
     "output_type": "stream",
     "text": [
      "lab_wav_pairs/009574.wav 14 3.9 4.06 shen she\n"
     ]
    },
    {
     "name": "stderr",
     "output_type": "stream",
     "text": [
      " 18%|█▊        | 349/1944 [01:18<06:10,  4.30it/s]"
     ]
    },
    {
     "name": "stdout",
     "output_type": "stream",
     "text": [
      "lab_wav_pairs/008736.wav 11 2.77 2.85 de di\n"
     ]
    },
    {
     "name": "stderr",
     "output_type": "stream",
     "text": [
      " 18%|█▊        | 351/1944 [01:19<07:07,  3.72it/s]"
     ]
    },
    {
     "name": "stdout",
     "output_type": "stream",
     "text": [
      "lab_wav_pairs/008229.wav 19 4.54 4.76 tang tao\n",
      "lab_wav_pairs/009179.wav 9 2.78 2.83 an wo\n"
     ]
    },
    {
     "name": "stderr",
     "output_type": "stream",
     "text": [
      " 18%|█▊        | 353/1944 [01:19<07:29,  3.54it/s]"
     ]
    },
    {
     "name": "stdout",
     "output_type": "stream",
     "text": [
      "lab_wav_pairs/008424.wav 19 4.13 4.27 guo gong\n",
      "lab_wav_pairs/008424.wav 20 4.27 4.39 wen an\n"
     ]
    },
    {
     "name": "stderr",
     "output_type": "stream",
     "text": [
      " 18%|█▊        | 354/1944 [01:20<07:05,  3.74it/s]"
     ]
    },
    {
     "name": "stdout",
     "output_type": "stream",
     "text": [
      "lab_wav_pairs/008081.wav 15 3.5 3.6 ding di\n"
     ]
    },
    {
     "name": "stderr",
     "output_type": "stream",
     "text": [
      " 18%|█▊        | 356/1944 [01:20<06:26,  4.10it/s]"
     ]
    },
    {
     "name": "stdout",
     "output_type": "stream",
     "text": [
      "lab_wav_pairs/009066.wav 3 0.88 0.92 yu rang\n"
     ]
    },
    {
     "name": "stderr",
     "output_type": "stream",
     "text": [
      " 18%|█▊        | 358/1944 [01:20<05:20,  4.95it/s]"
     ]
    },
    {
     "name": "stdout",
     "output_type": "stream",
     "text": [
      "lab_wav_pairs/009042.wav 4 1.35 1.61 nei mei\n"
     ]
    },
    {
     "name": "stderr",
     "output_type": "stream",
     "text": [
      " 19%|█▊        | 362/1944 [01:21<05:02,  5.23it/s]"
     ]
    },
    {
     "name": "stdout",
     "output_type": "stream",
     "text": [
      "lab_wav_pairs/009147.wav 10 2.44 2.59 huo hun\n"
     ]
    },
    {
     "name": "stderr",
     "output_type": "stream",
     "text": [
      " 19%|█▊        | 363/1944 [01:21<05:37,  4.68it/s]"
     ]
    },
    {
     "name": "stdout",
     "output_type": "stream",
     "text": [
      "lab_wav_pairs/008900.wav 5 1.36 1.5 zen ze\n"
     ]
    },
    {
     "name": "stderr",
     "output_type": "stream",
     "text": [
      " 19%|█▊        | 364/1944 [01:22<05:50,  4.51it/s]"
     ]
    },
    {
     "name": "stdout",
     "output_type": "stream",
     "text": [
      "lab_wav_pairs/008258.wav 13 2.73 2.85 you yong\n"
     ]
    },
    {
     "name": "stderr",
     "output_type": "stream",
     "text": [
      " 19%|█▉        | 365/1944 [01:22<07:53,  3.34it/s]"
     ]
    },
    {
     "name": "stdout",
     "output_type": "stream",
     "text": [
      "lab_wav_pairs/008231.wav 16 3.92 4.09 ri yu\n",
      "lab_wav_pairs/008231.wav 18 4.31 4.43 an en\n"
     ]
    },
    {
     "name": "stderr",
     "output_type": "stream",
     "text": [
      " 19%|█▉        | 370/1944 [01:23<05:40,  4.62it/s]"
     ]
    },
    {
     "name": "stdout",
     "output_type": "stream",
     "text": [
      "lab_wav_pairs/008267.wav 10 2.38 2.53 ze zen\n",
      "lab_wav_pairs/009072.wav 6 1.62 1.77 jin ji\n"
     ]
    },
    {
     "name": "stderr",
     "output_type": "stream",
     "text": [
      " 19%|█▉        | 372/1944 [01:24<06:40,  3.93it/s]"
     ]
    },
    {
     "name": "stdout",
     "output_type": "stream",
     "text": [
      "lab_wav_pairs/008131.wav 19 4.52 4.72 yan nian\n"
     ]
    },
    {
     "name": "stderr",
     "output_type": "stream",
     "text": [
      " 19%|█▉        | 375/1944 [01:24<06:06,  4.28it/s]"
     ]
    },
    {
     "name": "stdout",
     "output_type": "stream",
     "text": [
      "lab_wav_pairs/009903.wav 11 2.53 2.65 yan ye\n",
      "lab_wav_pairs/008265.wav 1 0.5 0.68 diao tiao\n"
     ]
    },
    {
     "name": "stderr",
     "output_type": "stream",
     "text": [
      " 19%|█▉        | 376/1944 [01:25<05:43,  4.57it/s]"
     ]
    },
    {
     "name": "stdout",
     "output_type": "stream",
     "text": [
      "lab_wav_pairs/008265.wav 8 2.23 2.42 si zi\n",
      "lab_wav_pairs/009270.wav 3 0.81 0.99 sheng shou\n"
     ]
    },
    {
     "name": "stderr",
     "output_type": "stream",
     "text": [
      " 19%|█▉        | 379/1944 [01:25<05:51,  4.45it/s]"
     ]
    },
    {
     "name": "stdout",
     "output_type": "stream",
     "text": [
      "lab_wav_pairs/008926.wav 14 3.28 3.46 lu lou\n"
     ]
    },
    {
     "name": "stderr",
     "output_type": "stream",
     "text": [
      " 20%|█▉        | 381/1944 [01:26<04:24,  5.90it/s]"
     ]
    },
    {
     "name": "stdout",
     "output_type": "stream",
     "text": [
      "lab_wav_pairs/009775.wav 7 1.47 1.65 da dan\n",
      "lab_wav_pairs/009603.wav 0 0.24 0.39 hou huo\n",
      "lab_wav_pairs/009603.wav 1 0.51 0.61 en hen\n"
     ]
    },
    {
     "name": "stderr",
     "output_type": "stream",
     "text": [
      " 20%|█▉        | 382/1944 [01:26<04:47,  5.44it/s]"
     ]
    },
    {
     "name": "stdout",
     "output_type": "stream",
     "text": [
      "lab_wav_pairs/008636.wav 8 2.21 2.35 fei fen\n"
     ]
    },
    {
     "name": "stderr",
     "output_type": "stream",
     "text": [
      " 20%|██        | 391/1944 [01:28<07:34,  3.41it/s]"
     ]
    },
    {
     "name": "stdout",
     "output_type": "stream",
     "text": [
      "lab_wav_pairs/008483.wav 21 5.1 5.26 bai mai\n"
     ]
    },
    {
     "name": "stderr",
     "output_type": "stream",
     "text": [
      " 21%|██        | 401/1944 [01:31<07:00,  3.67it/s]"
     ]
    },
    {
     "name": "stdout",
     "output_type": "stream",
     "text": [
      "lab_wav_pairs/008587.wav 4 1.03 1.18 wei wen\n"
     ]
    },
    {
     "name": "stderr",
     "output_type": "stream",
     "text": [
      " 21%|██        | 407/1944 [01:32<04:30,  5.67it/s]"
     ]
    },
    {
     "name": "stdout",
     "output_type": "stream",
     "text": [
      "lab_wav_pairs/009547.wav 0 0.27 0.43 dai dan\n",
      "lab_wav_pairs/008338.wav 0 0.37 0.53 ji qi\n"
     ]
    },
    {
     "name": "stderr",
     "output_type": "stream",
     "text": [
      " 21%|██        | 408/1944 [01:32<04:57,  5.17it/s]"
     ]
    },
    {
     "name": "stdout",
     "output_type": "stream",
     "text": [
      "lab_wav_pairs/008560.wav 5 1.19 1.33 yan nian\n",
      "lab_wav_pairs/008560.wav 10 2.42 2.58 shui shi\n"
     ]
    },
    {
     "name": "stderr",
     "output_type": "stream",
     "text": [
      " 21%|██        | 410/1944 [01:32<05:33,  4.60it/s]"
     ]
    },
    {
     "name": "stdout",
     "output_type": "stream",
     "text": [
      "lab_wav_pairs/009936.wav 12 2.78 2.91 yan ye\n"
     ]
    },
    {
     "name": "stderr",
     "output_type": "stream",
     "text": [
      " 22%|██▏       | 421/1944 [01:35<04:36,  5.50it/s]"
     ]
    },
    {
     "name": "stdout",
     "output_type": "stream",
     "text": [
      "lab_wav_pairs/008319.wav 0 0.35 0.57 lia liang\n"
     ]
    },
    {
     "name": "stderr",
     "output_type": "stream",
     "text": [
      " 22%|██▏       | 430/1944 [01:36<05:17,  4.77it/s]"
     ]
    },
    {
     "name": "stdout",
     "output_type": "stream",
     "text": [
      "lab_wav_pairs/009373.wav 6 1.65 1.82 lv li\n"
     ]
    },
    {
     "name": "stderr",
     "output_type": "stream",
     "text": [
      " 22%|██▏       | 431/1944 [01:37<04:52,  5.17it/s]"
     ]
    },
    {
     "name": "stdout",
     "output_type": "stream",
     "text": [
      "lab_wav_pairs/008495.wav 0 0.36 0.5 zhe zheng\n"
     ]
    },
    {
     "name": "stderr",
     "output_type": "stream",
     "text": [
      " 22%|██▏       | 433/1944 [01:37<04:24,  5.72it/s]"
     ]
    },
    {
     "name": "stdout",
     "output_type": "stream",
     "text": [
      "lab_wav_pairs/009869.wav 0 0.27 0.4 re ren\n"
     ]
    },
    {
     "name": "stderr",
     "output_type": "stream",
     "text": [
      " 22%|██▏       | 435/1944 [01:37<06:24,  3.93it/s]"
     ]
    },
    {
     "name": "stdout",
     "output_type": "stream",
     "text": [
      "lab_wav_pairs/008918.wav 22 4.68 4.87 gai gan\n"
     ]
    },
    {
     "name": "stderr",
     "output_type": "stream",
     "text": [
      " 22%|██▏       | 436/1944 [01:38<07:06,  3.54it/s]"
     ]
    },
    {
     "name": "stdout",
     "output_type": "stream",
     "text": [
      "lab_wav_pairs/008793.wav 16 3.71 4.0 zi ze\n",
      "lab_wav_pairs/009787.wav 0 0.27 0.53 xiang xiao\n",
      "lab_wav_pairs/009787.wav 2 0.81 1.02 zhang chang\n"
     ]
    },
    {
     "name": "stderr",
     "output_type": "stream",
     "text": [
      " 23%|██▎       | 440/1944 [01:39<06:14,  4.02it/s]"
     ]
    },
    {
     "name": "stdout",
     "output_type": "stream",
     "text": [
      "lab_wav_pairs/008890.wav 7 1.59 1.73 me meng\n",
      "lab_wav_pairs/009539.wav 2 0.62 0.88 lia liang\n"
     ]
    },
    {
     "name": "stderr",
     "output_type": "stream",
     "text": [
      " 23%|██▎       | 442/1944 [01:39<05:32,  4.52it/s]"
     ]
    },
    {
     "name": "stdout",
     "output_type": "stream",
     "text": [
      "lab_wav_pairs/009630.wav 8 1.86 2.08 na nan\n"
     ]
    },
    {
     "name": "stderr",
     "output_type": "stream",
     "text": [
      " 23%|██▎       | 445/1944 [01:40<05:26,  4.59it/s]"
     ]
    },
    {
     "name": "stdout",
     "output_type": "stream",
     "text": [
      "lab_wav_pairs/008239.wav 13 3.13 3.25 dang dao\n",
      "lab_wav_pairs/008365.wav 8 1.6 1.69 men me\n"
     ]
    },
    {
     "name": "stderr",
     "output_type": "stream",
     "text": [
      " 23%|██▎       | 448/1944 [01:41<05:50,  4.26it/s]"
     ]
    },
    {
     "name": "stdout",
     "output_type": "stream",
     "text": [
      "lab_wav_pairs/008999.wav 11 3.09 3.25 qing qi\n",
      "lab_wav_pairs/008999.wav 12 3.25 3.41 se ci\n"
     ]
    },
    {
     "name": "stderr",
     "output_type": "stream",
     "text": [
      " 23%|██▎       | 454/1944 [01:42<06:38,  3.74it/s]"
     ]
    },
    {
     "name": "stdout",
     "output_type": "stream",
     "text": [
      "lab_wav_pairs/009546.wav 4 1.07 1.16 jiar jue\n"
     ]
    },
    {
     "name": "stderr",
     "output_type": "stream",
     "text": [
      " 24%|██▎       | 460/1944 [01:43<05:53,  4.20it/s]"
     ]
    },
    {
     "name": "stdout",
     "output_type": "stream",
     "text": [
      "lab_wav_pairs/009532.wav 14 3.56 3.72 yin ying\n"
     ]
    },
    {
     "name": "stderr",
     "output_type": "stream",
     "text": [
      " 24%|██▎       | 461/1944 [01:43<05:35,  4.42it/s]"
     ]
    },
    {
     "name": "stdout",
     "output_type": "stream",
     "text": [
      "lab_wav_pairs/009772.wav 4 1.28 1.34 an niu\n"
     ]
    },
    {
     "name": "stderr",
     "output_type": "stream",
     "text": [
      " 24%|██▍       | 462/1944 [01:44<06:01,  4.11it/s]"
     ]
    },
    {
     "name": "stdout",
     "output_type": "stream",
     "text": [
      "lab_wav_pairs/009772.wav 15 3.68 3.88 bing bin\n"
     ]
    },
    {
     "name": "stderr",
     "output_type": "stream",
     "text": [
      " 24%|██▍       | 463/1944 [01:44<05:58,  4.13it/s]"
     ]
    },
    {
     "name": "stdout",
     "output_type": "stream",
     "text": [
      "lab_wav_pairs/008504.wav 15 3.56 3.77 shou shao\n"
     ]
    },
    {
     "name": "stderr",
     "output_type": "stream",
     "text": [
      " 24%|██▍       | 466/1944 [01:44<05:08,  4.79it/s]"
     ]
    },
    {
     "name": "stdout",
     "output_type": "stream",
     "text": [
      "lab_wav_pairs/009463.wav 1 0.46 0.66 san suan\n",
      "lab_wav_pairs/009463.wav 5 1.52 1.67 yan ye\n"
     ]
    },
    {
     "name": "stderr",
     "output_type": "stream",
     "text": [
      " 24%|██▍       | 468/1944 [01:45<05:53,  4.18it/s]"
     ]
    },
    {
     "name": "stdout",
     "output_type": "stream",
     "text": [
      "lab_wav_pairs/008570.wav 7 1.63 1.81 zhan zhai\n"
     ]
    },
    {
     "name": "stderr",
     "output_type": "stream",
     "text": [
      " 24%|██▍       | 472/1944 [01:46<06:08,  3.99it/s]"
     ]
    },
    {
     "name": "stdout",
     "output_type": "stream",
     "text": [
      "lab_wav_pairs/009094.wav 17 4.36 4.54 dan nei\n",
      "lab_wav_pairs/009111.wav 4 1.44 1.58 si su\n"
     ]
    },
    {
     "name": "stderr",
     "output_type": "stream",
     "text": [
      " 24%|██▍       | 475/1944 [01:46<04:27,  5.48it/s]"
     ]
    },
    {
     "name": "stdout",
     "output_type": "stream",
     "text": [
      "lab_wav_pairs/008442.wav 1 0.52 0.7 ji jin\n",
      "lab_wav_pairs/008442.wav 6 1.5 1.64 yi yin\n"
     ]
    },
    {
     "name": "stderr",
     "output_type": "stream",
     "text": [
      " 24%|██▍       | 476/1944 [01:47<04:53,  5.01it/s]"
     ]
    },
    {
     "name": "stdout",
     "output_type": "stream",
     "text": [
      "lab_wav_pairs/009617.wav 14 3.79 3.99 jie jian\n",
      "lab_wav_pairs/009617.wav 16 4.16 4.3 ren ye\n",
      "lab_wav_pairs/008770.wav 1 0.49 0.63 shang sha\n"
     ]
    },
    {
     "name": "stderr",
     "output_type": "stream",
     "text": [
      " 25%|██▍       | 480/1944 [01:48<05:10,  4.72it/s]"
     ]
    },
    {
     "name": "stdout",
     "output_type": "stream",
     "text": [
      "lab_wav_pairs/009426.wav 17 3.68 3.81 me ma\n"
     ]
    },
    {
     "name": "stderr",
     "output_type": "stream",
     "text": [
      " 25%|██▍       | 485/1944 [01:49<05:24,  4.50it/s]"
     ]
    },
    {
     "name": "stdout",
     "output_type": "stream",
     "text": [
      "lab_wav_pairs/009896.wav 16 3.64 3.79 gai gan\n",
      "lab_wav_pairs/009663.wav 11 2.53 2.59 de di\n"
     ]
    },
    {
     "name": "stderr",
     "output_type": "stream",
     "text": [
      " 25%|██▌       | 488/1944 [01:50<06:47,  3.57it/s]"
     ]
    },
    {
     "name": "stdout",
     "output_type": "stream",
     "text": [
      "lab_wav_pairs/009212.wav 16 4.06 4.21 yue yuan\n",
      "lab_wav_pairs/009021.wav 1 0.48 0.68 hui hun\n"
     ]
    },
    {
     "name": "stderr",
     "output_type": "stream",
     "text": [
      " 25%|██▌       | 490/1944 [01:50<06:13,  3.90it/s]"
     ]
    },
    {
     "name": "stdout",
     "output_type": "stream",
     "text": [
      "lab_wav_pairs/009494.wav 8 2.12 2.33 yang yao\n"
     ]
    },
    {
     "name": "stderr",
     "output_type": "stream",
     "text": [
      " 25%|██▌       | 491/1944 [01:50<06:41,  3.62it/s]"
     ]
    },
    {
     "name": "stdout",
     "output_type": "stream",
     "text": [
      "lab_wav_pairs/008246.wav 15 3.53 3.62 ng ge\n"
     ]
    },
    {
     "name": "stderr",
     "output_type": "stream",
     "text": [
      " 25%|██▌       | 492/1944 [01:51<05:59,  4.03it/s]"
     ]
    },
    {
     "name": "stdout",
     "output_type": "stream",
     "text": [
      "lab_wav_pairs/008193.wav 9 2.61 2.77 qing qi\n"
     ]
    },
    {
     "name": "stderr",
     "output_type": "stream",
     "text": [
      " 25%|██▌       | 493/1944 [01:51<07:56,  3.04it/s]"
     ]
    },
    {
     "name": "stdout",
     "output_type": "stream",
     "text": [
      "lab_wav_pairs/009329.wav 15 3.86 4.04 lia liang\n"
     ]
    },
    {
     "name": "stderr",
     "output_type": "stream",
     "text": [
      " 25%|██▌       | 494/1944 [01:51<07:17,  3.31it/s]"
     ]
    },
    {
     "name": "stdout",
     "output_type": "stream",
     "text": [
      "lab_wav_pairs/009866.wav 7 2.06 2.21 nin ni\n"
     ]
    },
    {
     "name": "stderr",
     "output_type": "stream",
     "text": [
      " 26%|██▌       | 497/1944 [01:52<06:20,  3.80it/s]"
     ]
    },
    {
     "name": "stdout",
     "output_type": "stream",
     "text": [
      "lab_wav_pairs/008391.wav 16 3.67 3.82 qing qian\n"
     ]
    },
    {
     "name": "stderr",
     "output_type": "stream",
     "text": [
      " 26%|██▌       | 504/1944 [01:54<05:53,  4.07it/s]"
     ]
    },
    {
     "name": "stdout",
     "output_type": "stream",
     "text": [
      "lab_wav_pairs/009355.wav 24 5.05 5.33 pi pin\n"
     ]
    },
    {
     "name": "stderr",
     "output_type": "stream",
     "text": [
      " 26%|██▌       | 505/1944 [01:54<05:46,  4.15it/s]"
     ]
    },
    {
     "name": "stdout",
     "output_type": "stream",
     "text": [
      "lab_wav_pairs/009765.wav 0 0.29 0.45 ji jin\n"
     ]
    },
    {
     "name": "stderr",
     "output_type": "stream",
     "text": [
      " 26%|██▌       | 507/1944 [01:54<06:11,  3.87it/s]"
     ]
    },
    {
     "name": "stdout",
     "output_type": "stream",
     "text": [
      "lab_wav_pairs/008508.wav 7 1.69 1.92 you yo\n"
     ]
    },
    {
     "name": "stderr",
     "output_type": "stream",
     "text": [
      " 26%|██▌       | 508/1944 [01:55<06:35,  3.63it/s]"
     ]
    },
    {
     "name": "stdout",
     "output_type": "stream",
     "text": [
      "lab_wav_pairs/008508.wav 19 4.29 4.5 you yo\n"
     ]
    },
    {
     "name": "stderr",
     "output_type": "stream",
     "text": [
      " 26%|██▌       | 510/1944 [01:55<05:24,  4.42it/s]"
     ]
    },
    {
     "name": "stdout",
     "output_type": "stream",
     "text": [
      "lab_wav_pairs/008757.wav 9 2.06 2.22 mian nei\n",
      "lab_wav_pairs/008878.wav 7 1.89 2.09 de deng\n"
     ]
    },
    {
     "name": "stderr",
     "output_type": "stream",
     "text": [
      " 26%|██▋       | 514/1944 [01:56<05:23,  4.41it/s]"
     ]
    },
    {
     "name": "stdout",
     "output_type": "stream",
     "text": [
      "lab_wav_pairs/008634.wav 0 0.32 0.46 bei dui\n"
     ]
    },
    {
     "name": "stderr",
     "output_type": "stream",
     "text": [
      " 27%|██▋       | 521/1944 [01:58<06:13,  3.81it/s]"
     ]
    },
    {
     "name": "stdout",
     "output_type": "stream",
     "text": [
      "lab_wav_pairs/008133.wav 12 3.33 3.44 geng gao\n"
     ]
    },
    {
     "name": "stderr",
     "output_type": "stream",
     "text": [
      " 27%|██▋       | 525/1944 [01:59<04:28,  5.29it/s]"
     ]
    },
    {
     "name": "stdout",
     "output_type": "stream",
     "text": [
      "lab_wav_pairs/009653.wav 5 1.29 1.39 de di\n",
      "lab_wav_pairs/009022.wav 3 1.3 1.61 chan chen\n"
     ]
    },
    {
     "name": "stderr",
     "output_type": "stream",
     "text": [
      " 27%|██▋       | 528/1944 [01:59<04:01,  5.86it/s]"
     ]
    },
    {
     "name": "stdout",
     "output_type": "stream",
     "text": [
      "lab_wav_pairs/008037.wav 7 1.7 1.86 jian jie\n"
     ]
    },
    {
     "name": "stderr",
     "output_type": "stream",
     "text": [
      " 27%|██▋       | 531/1944 [02:00<04:45,  4.94it/s]"
     ]
    },
    {
     "name": "stdout",
     "output_type": "stream",
     "text": [
      "lab_wav_pairs/009522.wav 2 1.02 1.17 dao dang\n",
      "lab_wav_pairs/009522.wav 14 3.42 3.61 bin bi\n"
     ]
    },
    {
     "name": "stderr",
     "output_type": "stream",
     "text": [
      " 27%|██▋       | 532/1944 [02:00<05:06,  4.60it/s]"
     ]
    },
    {
     "name": "stdout",
     "output_type": "stream",
     "text": [
      "lab_wav_pairs/009027.wav 14 3.12 3.22 de dao\n"
     ]
    },
    {
     "name": "stderr",
     "output_type": "stream",
     "text": [
      " 27%|██▋       | 534/1944 [02:01<05:32,  4.24it/s]"
     ]
    },
    {
     "name": "stdout",
     "output_type": "stream",
     "text": [
      "lab_wav_pairs/009680.wav 1 0.46 0.6 yi ni\n",
      "lab_wav_pairs/009680.wav 13 3.0 3.12 me men\n",
      "lab_wav_pairs/009680.wav 14 3.12 3.28 dan de\n"
     ]
    },
    {
     "name": "stderr",
     "output_type": "stream",
     "text": [
      " 28%|██▊       | 536/1944 [02:01<06:02,  3.89it/s]"
     ]
    },
    {
     "name": "stdout",
     "output_type": "stream",
     "text": [
      "lab_wav_pairs/008468.wav 6 1.48 1.65 lian lie\n"
     ]
    },
    {
     "name": "stderr",
     "output_type": "stream",
     "text": [
      " 28%|██▊       | 538/1944 [02:02<06:12,  3.77it/s]"
     ]
    },
    {
     "name": "stdout",
     "output_type": "stream",
     "text": [
      "lab_wav_pairs/009017.wav 13 3.13 3.29 hun hui\n"
     ]
    },
    {
     "name": "stderr",
     "output_type": "stream",
     "text": [
      " 28%|██▊       | 539/1944 [02:02<06:37,  3.54it/s]"
     ]
    },
    {
     "name": "stdout",
     "output_type": "stream",
     "text": [
      "lab_wav_pairs/008434.wav 10 2.14 2.33 bie bian\n"
     ]
    },
    {
     "name": "stderr",
     "output_type": "stream",
     "text": [
      " 28%|██▊       | 541/1944 [02:02<06:00,  3.90it/s]"
     ]
    },
    {
     "name": "stdout",
     "output_type": "stream",
     "text": [
      "lab_wav_pairs/008479.wav 3 1.02 1.16 zi ci\n",
      "lab_wav_pairs/008479.wav 8 2.17 2.33 yang rang\n"
     ]
    },
    {
     "name": "stderr",
     "output_type": "stream",
     "text": [
      " 28%|██▊       | 542/1944 [02:03<06:05,  3.84it/s]"
     ]
    },
    {
     "name": "stdout",
     "output_type": "stream",
     "text": [
      "lab_wav_pairs/009559.wav 8 2.27 2.49 can cang\n",
      "lab_wav_pairs/009559.wav 11 2.91 3.11 pin ping\n",
      "lab_wav_pairs/009559.wav 12 3.14 3.29 ao wa\n"
     ]
    },
    {
     "name": "stderr",
     "output_type": "stream",
     "text": [
      " 28%|██▊       | 543/1944 [02:03<05:18,  4.39it/s]"
     ]
    },
    {
     "name": "stdout",
     "output_type": "stream",
     "text": [
      "lab_wav_pairs/009593.wav 3 0.91 1.16 zei zen\n"
     ]
    },
    {
     "name": "stderr",
     "output_type": "stream",
     "text": [
      " 28%|██▊       | 550/1944 [02:05<05:27,  4.25it/s]"
     ]
    },
    {
     "name": "stdout",
     "output_type": "stream",
     "text": [
      "lab_wav_pairs/008370.wav 15 3.39 3.54 shen zhen\n"
     ]
    },
    {
     "name": "stderr",
     "output_type": "stream",
     "text": [
      " 29%|██▊       | 555/1944 [02:06<05:30,  4.20it/s]"
     ]
    },
    {
     "name": "stdout",
     "output_type": "stream",
     "text": [
      "lab_wav_pairs/009953.wav 14 3.46 3.68 bo bu\n"
     ]
    },
    {
     "name": "stderr",
     "output_type": "stream",
     "text": [
      " 29%|██▊       | 556/1944 [02:06<05:23,  4.29it/s]"
     ]
    },
    {
     "name": "stdout",
     "output_type": "stream",
     "text": [
      "lab_wav_pairs/008939.wav 1 0.51 0.79 hang heng\n",
      "lab_wav_pairs/008939.wav 7 2.14 2.32 pi pie\n",
      "lab_wav_pairs/008939.wav 17 4.43 4.52 de di\n"
     ]
    },
    {
     "name": "stderr",
     "output_type": "stream",
     "text": [
      " 29%|██▊       | 557/1944 [02:07<06:22,  3.63it/s]"
     ]
    },
    {
     "name": "stdout",
     "output_type": "stream",
     "text": [
      "lab_wav_pairs/008939.wav 18 4.68 4.82 ji jin\n"
     ]
    },
    {
     "name": "stderr",
     "output_type": "stream",
     "text": [
      " 29%|██▉       | 559/1944 [02:07<05:46,  4.00it/s]"
     ]
    },
    {
     "name": "stdout",
     "output_type": "stream",
     "text": [
      "lab_wav_pairs/009725.wav 14 3.27 3.39 yu ying\n"
     ]
    },
    {
     "name": "stderr",
     "output_type": "stream",
     "text": [
      " 29%|██▉       | 560/1944 [02:07<05:29,  4.20it/s]"
     ]
    },
    {
     "name": "stdout",
     "output_type": "stream",
     "text": [
      "lab_wav_pairs/008010.wav 14 3.53 3.78 dong tong\n",
      "lab_wav_pairs/008667.wav 0 0.34 0.55 chang cheng\n"
     ]
    },
    {
     "name": "stderr",
     "output_type": "stream",
     "text": [
      " 29%|██▉       | 562/1944 [02:08<07:27,  3.09it/s]"
     ]
    },
    {
     "name": "stdout",
     "output_type": "stream",
     "text": [
      "lab_wav_pairs/009997.wav 19 4.6 4.67 nen nei\n"
     ]
    },
    {
     "name": "stderr",
     "output_type": "stream",
     "text": [
      " 29%|██▉       | 564/1944 [02:09<07:01,  3.27it/s]"
     ]
    },
    {
     "name": "stdout",
     "output_type": "stream",
     "text": [
      "lab_wav_pairs/009699.wav 21 4.68 4.82 jia zhan\n"
     ]
    },
    {
     "name": "stderr",
     "output_type": "stream",
     "text": [
      " 29%|██▉       | 565/1944 [02:09<06:12,  3.70it/s]"
     ]
    },
    {
     "name": "stdout",
     "output_type": "stream",
     "text": [
      "lab_wav_pairs/009601.wav 1 0.54 0.73 zi zui\n"
     ]
    },
    {
     "name": "stderr",
     "output_type": "stream",
     "text": [
      " 29%|██▉       | 568/1944 [02:09<04:57,  4.62it/s]"
     ]
    },
    {
     "name": "stdout",
     "output_type": "stream",
     "text": [
      "lab_wav_pairs/009245.wav 7 1.67 1.85 nang nao\n"
     ]
    },
    {
     "name": "stderr",
     "output_type": "stream",
     "text": [
      " 29%|██▉       | 570/1944 [02:10<06:11,  3.70it/s]"
     ]
    },
    {
     "name": "stdout",
     "output_type": "stream",
     "text": [
      "lab_wav_pairs/009578.wav 13 3.15 3.33 tai pai\n"
     ]
    },
    {
     "name": "stderr",
     "output_type": "stream",
     "text": [
      " 29%|██▉       | 571/1944 [02:10<05:43,  4.00it/s]"
     ]
    },
    {
     "name": "stdout",
     "output_type": "stream",
     "text": [
      "lab_wav_pairs/008257.wav 4 1.22 1.38 dang dao\n",
      "lab_wav_pairs/008257.wav 7 1.8 2.04 san fan\n"
     ]
    },
    {
     "name": "stderr",
     "output_type": "stream",
     "text": [
      " 29%|██▉       | 572/1944 [02:11<05:59,  3.82it/s]"
     ]
    },
    {
     "name": "stdout",
     "output_type": "stream",
     "text": [
      "lab_wav_pairs/009368.wav 11 2.71 2.88 bian dian\n",
      "lab_wav_pairs/009368.wav 12 2.88 3.11 le la\n",
      "lab_wav_pairs/009368.wav 14 3.65 3.77 si su\n"
     ]
    },
    {
     "name": "stderr",
     "output_type": "stream",
     "text": [
      " 30%|██▉       | 574/1944 [02:11<05:58,  3.82it/s]"
     ]
    },
    {
     "name": "stdout",
     "output_type": "stream",
     "text": [
      "lab_wav_pairs/009909.wav 8 1.76 1.89 jiu xiu\n",
      "lab_wav_pairs/009909.wav 14 3.22 3.34 zhi zhe\n"
     ]
    },
    {
     "name": "stderr",
     "output_type": "stream",
     "text": [
      " 30%|██▉       | 575/1944 [02:11<05:46,  3.95it/s]"
     ]
    },
    {
     "name": "stdout",
     "output_type": "stream",
     "text": [
      "lab_wav_pairs/008601.wav 10 2.6 2.75 lai lan\n"
     ]
    },
    {
     "name": "stderr",
     "output_type": "stream",
     "text": [
      " 30%|██▉       | 577/1944 [02:12<07:21,  3.10it/s]"
     ]
    },
    {
     "name": "stdout",
     "output_type": "stream",
     "text": [
      "lab_wav_pairs/009402.wav 9 2.51 2.71 shuang shuan\n"
     ]
    },
    {
     "name": "stderr",
     "output_type": "stream",
     "text": [
      " 30%|██▉       | 578/1944 [02:12<07:29,  3.04it/s]"
     ]
    },
    {
     "name": "stdout",
     "output_type": "stream",
     "text": [
      "lab_wav_pairs/008259.wav 14 3.11 3.29 xun xuan\n"
     ]
    },
    {
     "name": "stderr",
     "output_type": "stream",
     "text": [
      " 30%|██▉       | 583/1944 [02:14<06:56,  3.27it/s]"
     ]
    },
    {
     "name": "stdout",
     "output_type": "stream",
     "text": [
      "lab_wav_pairs/008154.wav 3 1.1 1.28 kan kai\n"
     ]
    },
    {
     "name": "stderr",
     "output_type": "stream",
     "text": [
      " 30%|███       | 588/1944 [02:15<04:47,  4.72it/s]"
     ]
    },
    {
     "name": "stdout",
     "output_type": "stream",
     "text": [
      "lab_wav_pairs/008199.wav 1 0.64 0.78 yi ya\n"
     ]
    },
    {
     "name": "stderr",
     "output_type": "stream",
     "text": [
      " 30%|███       | 590/1944 [02:15<04:39,  4.85it/s]"
     ]
    },
    {
     "name": "stdout",
     "output_type": "stream",
     "text": [
      "lab_wav_pairs/009789.wav 5 1.38 1.54 zhe zheng\n"
     ]
    },
    {
     "name": "stderr",
     "output_type": "stream",
     "text": [
      " 30%|███       | 591/1944 [02:16<05:09,  4.38it/s]"
     ]
    },
    {
     "name": "stdout",
     "output_type": "stream",
     "text": [
      "lab_wav_pairs/008317.wav 14 3.5 3.67 bing bian\n",
      "lab_wav_pairs/008317.wav 16 3.78 3.97 suo zuo\n"
     ]
    },
    {
     "name": "stderr",
     "output_type": "stream",
     "text": [
      " 31%|███       | 596/1944 [02:17<06:17,  3.57it/s]"
     ]
    },
    {
     "name": "stdout",
     "output_type": "stream",
     "text": [
      "lab_wav_pairs/009474.wav 10 2.42 2.61 zhai zhan\n",
      "lab_wav_pairs/009474.wav 16 3.49 3.67 pi pin\n"
     ]
    },
    {
     "name": "stderr",
     "output_type": "stream",
     "text": [
      " 31%|███       | 601/1944 [02:18<04:15,  5.26it/s]"
     ]
    },
    {
     "name": "stdout",
     "output_type": "stream",
     "text": [
      "lab_wav_pairs/009124.wav 10 2.72 2.85 yao you\n",
      "lab_wav_pairs/009124.wav 12 3.07 3.23 man men\n"
     ]
    },
    {
     "name": "stderr",
     "output_type": "stream",
     "text": [
      " 31%|███       | 603/1944 [02:18<05:24,  4.14it/s]"
     ]
    },
    {
     "name": "stdout",
     "output_type": "stream",
     "text": [
      "lab_wav_pairs/009172.wav 16 4.07 4.21 ge de\n",
      "lab_wav_pairs/009375.wav 0 0.27 0.43 yun yu\n"
     ]
    },
    {
     "name": "stderr",
     "output_type": "stream",
     "text": [
      " 31%|███       | 606/1944 [02:19<05:11,  4.29it/s]"
     ]
    },
    {
     "name": "stdout",
     "output_type": "stream",
     "text": [
      "lab_wav_pairs/009444.wav 9 2.37 2.54 huan huai\n"
     ]
    },
    {
     "name": "stderr",
     "output_type": "stream",
     "text": [
      " 31%|███▏      | 611/1944 [02:20<05:41,  3.91it/s]"
     ]
    },
    {
     "name": "stdout",
     "output_type": "stream",
     "text": [
      "lab_wav_pairs/008910.wav 9 2.54 2.78 jie jian\n"
     ]
    },
    {
     "name": "stderr",
     "output_type": "stream",
     "text": [
      " 32%|███▏      | 614/1944 [02:21<04:56,  4.48it/s]"
     ]
    },
    {
     "name": "stdout",
     "output_type": "stream",
     "text": [
      "lab_wav_pairs/009284.wav 3 0.82 1.0 jian jie\n"
     ]
    },
    {
     "name": "stderr",
     "output_type": "stream",
     "text": [
      " 32%|███▏      | 617/1944 [02:22<05:19,  4.15it/s]"
     ]
    },
    {
     "name": "stdout",
     "output_type": "stream",
     "text": [
      "lab_wav_pairs/008128.wav 23 5.53 5.69 zhe zhao\n",
      "lab_wav_pairs/009090.wav 12 3.11 3.27 geng deng\n"
     ]
    },
    {
     "name": "stderr",
     "output_type": "stream",
     "text": [
      " 32%|███▏      | 618/1944 [02:22<05:46,  3.83it/s]"
     ]
    },
    {
     "name": "stdout",
     "output_type": "stream",
     "text": [
      "lab_wav_pairs/009090.wav 18 4.25 4.45 chong cheng\n",
      "lab_wav_pairs/008542.wav 2 0.7 0.92 mie mian\n"
     ]
    },
    {
     "name": "stderr",
     "output_type": "stream",
     "text": [
      " 32%|███▏      | 619/1944 [02:22<05:37,  3.93it/s]"
     ]
    },
    {
     "name": "stdout",
     "output_type": "stream",
     "text": [
      "lab_wav_pairs/009102.wav 2 0.68 0.81 qing qi\n",
      "lab_wav_pairs/009102.wav 9 2.16 2.34 tan tai\n"
     ]
    },
    {
     "name": "stderr",
     "output_type": "stream",
     "text": [
      " 32%|███▏      | 621/1944 [02:23<04:54,  4.50it/s]"
     ]
    },
    {
     "name": "stdout",
     "output_type": "stream",
     "text": [
      "lab_wav_pairs/008093.wav 4 1.13 1.32 jian jie\n",
      "lab_wav_pairs/008093.wav 17 3.45 3.62 ping pin\n"
     ]
    },
    {
     "name": "stderr",
     "output_type": "stream",
     "text": [
      " 32%|███▏      | 623/1944 [02:23<06:16,  3.51it/s]"
     ]
    },
    {
     "name": "stdout",
     "output_type": "stream",
     "text": [
      "lab_wav_pairs/008806.wav 19 3.87 3.96 men me\n",
      "lab_wav_pairs/008165.wav 0 0.35 0.49 dao dang\n"
     ]
    },
    {
     "name": "stderr",
     "output_type": "stream",
     "text": [
      " 32%|███▏      | 629/1944 [02:25<05:35,  3.93it/s]"
     ]
    },
    {
     "name": "stdout",
     "output_type": "stream",
     "text": [
      "lab_wav_pairs/008592.wav 13 2.83 2.96 shu shuo\n",
      "lab_wav_pairs/009062.wav 12 2.54 2.87 fang wang\n"
     ]
    },
    {
     "name": "stderr",
     "output_type": "stream",
     "text": [
      " 32%|███▏      | 630/1944 [02:25<06:22,  3.44it/s]"
     ]
    },
    {
     "name": "stdout",
     "output_type": "stream",
     "text": [
      "lab_wav_pairs/009572.wav 2 0.61 0.74 men me\n"
     ]
    },
    {
     "name": "stderr",
     "output_type": "stream",
     "text": [
      " 33%|███▎      | 632/1944 [02:26<05:50,  3.75it/s]"
     ]
    },
    {
     "name": "stdout",
     "output_type": "stream",
     "text": [
      "lab_wav_pairs/008759.wav 3 0.8 1.0 xian xin\n",
      "lab_wav_pairs/008759.wav 6 1.66 1.87 bo mou\n"
     ]
    },
    {
     "name": "stderr",
     "output_type": "stream",
     "text": [
      " 33%|███▎      | 636/1944 [02:27<04:51,  4.49it/s]"
     ]
    },
    {
     "name": "stdout",
     "output_type": "stream",
     "text": [
      "lab_wav_pairs/008557.wav 8 2.21 2.52 zhe re\n"
     ]
    },
    {
     "name": "stderr",
     "output_type": "stream",
     "text": [
      " 33%|███▎      | 637/1944 [02:27<05:07,  4.24it/s]"
     ]
    },
    {
     "name": "stdout",
     "output_type": "stream",
     "text": [
      "lab_wav_pairs/008251.wav 9 2.2 2.35 zhang chang\n"
     ]
    },
    {
     "name": "stderr",
     "output_type": "stream",
     "text": [
      " 33%|███▎      | 639/1944 [02:27<04:28,  4.86it/s]"
     ]
    },
    {
     "name": "stdout",
     "output_type": "stream",
     "text": [
      "lab_wav_pairs/009089.wav 3 0.84 1.01 zai sai\n"
     ]
    },
    {
     "name": "stderr",
     "output_type": "stream",
     "text": [
      " 33%|███▎      | 644/1944 [02:28<05:11,  4.17it/s]"
     ]
    },
    {
     "name": "stdout",
     "output_type": "stream",
     "text": [
      "lab_wav_pairs/009828.wav 0 0.28 0.52 song sou\n",
      "lab_wav_pairs/009828.wav 7 1.87 2.13 dian die\n",
      "lab_wav_pairs/009828.wav 8 2.13 2.26 shi zhi\n"
     ]
    },
    {
     "name": "stderr",
     "output_type": "stream",
     "text": [
      " 33%|███▎      | 645/1944 [02:29<05:20,  4.06it/s]"
     ]
    },
    {
     "name": "stdout",
     "output_type": "stream",
     "text": [
      "lab_wav_pairs/009828.wav 16 3.93 4.04 zhe zhi\n"
     ]
    },
    {
     "name": "stderr",
     "output_type": "stream",
     "text": [
      " 33%|███▎      | 647/1944 [02:29<04:57,  4.36it/s]"
     ]
    },
    {
     "name": "stdout",
     "output_type": "stream",
     "text": [
      "lab_wav_pairs/009189.wav 15 3.48 3.69 wan wai\n"
     ]
    },
    {
     "name": "stderr",
     "output_type": "stream",
     "text": [
      " 33%|███▎      | 650/1944 [02:30<04:59,  4.32it/s]"
     ]
    },
    {
     "name": "stdout",
     "output_type": "stream",
     "text": [
      "lab_wav_pairs/009507.wav 11 2.87 3.03 ba bai\n"
     ]
    },
    {
     "name": "stderr",
     "output_type": "stream",
     "text": [
      " 33%|███▎      | 651/1944 [02:30<05:33,  3.88it/s]"
     ]
    },
    {
     "name": "stdout",
     "output_type": "stream",
     "text": [
      "lab_wav_pairs/008302.wav 8 2.14 2.35 que quan\n",
      "lab_wav_pairs/009820.wav 0 0.26 0.44 you yong\n"
     ]
    },
    {
     "name": "stderr",
     "output_type": "stream",
     "text": [
      " 34%|███▎      | 653/1944 [02:30<05:02,  4.27it/s]"
     ]
    },
    {
     "name": "stdout",
     "output_type": "stream",
     "text": [
      "lab_wav_pairs/008445.wav 6 1.66 1.94 shui rui\n",
      "lab_wav_pairs/008445.wav 8 2.14 2.26 ye yue\n",
      "lab_wav_pairs/008445.wav 9 2.26 2.48 huo hu\n"
     ]
    },
    {
     "name": "stderr",
     "output_type": "stream",
     "text": [
      " 34%|███▎      | 655/1944 [02:31<05:07,  4.20it/s]"
     ]
    },
    {
     "name": "stdout",
     "output_type": "stream",
     "text": [
      "lab_wav_pairs/008714.wav 0 0.33 0.49 yu ri\n"
     ]
    },
    {
     "name": "stderr",
     "output_type": "stream",
     "text": [
      " 34%|███▍      | 657/1944 [02:31<04:12,  5.10it/s]"
     ]
    },
    {
     "name": "stdout",
     "output_type": "stream",
     "text": [
      "lab_wav_pairs/009164.wav 5 1.49 1.65 ji jin\n"
     ]
    },
    {
     "name": "stderr",
     "output_type": "stream",
     "text": [
      " 34%|███▍      | 661/1944 [02:32<04:24,  4.85it/s]"
     ]
    },
    {
     "name": "stdout",
     "output_type": "stream",
     "text": [
      "lab_wav_pairs/009379.wav 4 1.09 1.25 yuan yue\n",
      "lab_wav_pairs/009379.wav 5 1.25 1.45 ta tan\n"
     ]
    },
    {
     "name": "stderr",
     "output_type": "stream",
     "text": [
      " 34%|███▍      | 662/1944 [02:32<04:07,  5.17it/s]"
     ]
    },
    {
     "name": "stdout",
     "output_type": "stream",
     "text": [
      "lab_wav_pairs/009728.wav 7 1.86 2.08 zhou zhong\n"
     ]
    },
    {
     "name": "stderr",
     "output_type": "stream",
     "text": [
      " 34%|███▍      | 663/1944 [02:32<04:15,  5.01it/s]"
     ]
    },
    {
     "name": "stdout",
     "output_type": "stream",
     "text": [
      "lab_wav_pairs/008780.wav 13 3.18 3.3 yan ye\n"
     ]
    },
    {
     "name": "stderr",
     "output_type": "stream",
     "text": [
      " 34%|███▍      | 668/1944 [02:33<04:32,  4.68it/s]"
     ]
    },
    {
     "name": "stdout",
     "output_type": "stream",
     "text": [
      "lab_wav_pairs/008250.wav 5 1.35 1.53 gu guo\n",
      "lab_wav_pairs/008250.wav 13 2.95 3.11 shou sheng\n"
     ]
    },
    {
     "name": "stderr",
     "output_type": "stream",
     "text": [
      " 35%|███▍      | 673/1944 [02:35<04:25,  4.79it/s]"
     ]
    },
    {
     "name": "stdout",
     "output_type": "stream",
     "text": [
      "lab_wav_pairs/008813.wav 0 0.35 0.53 pian ping\n"
     ]
    },
    {
     "name": "stderr",
     "output_type": "stream",
     "text": [
      " 35%|███▍      | 674/1944 [02:35<05:06,  4.14it/s]"
     ]
    },
    {
     "name": "stdout",
     "output_type": "stream",
     "text": [
      "lab_wav_pairs/008888.wav 7 1.69 1.83 zhu zhong\n"
     ]
    },
    {
     "name": "stderr",
     "output_type": "stream",
     "text": [
      " 35%|███▍      | 676/1944 [02:35<04:42,  4.48it/s]"
     ]
    },
    {
     "name": "stdout",
     "output_type": "stream",
     "text": [
      "lab_wav_pairs/008816.wav 19 4.83 4.94 zhe zhi\n",
      "lab_wav_pairs/009152.wav 7 1.83 1.99 shi shui\n"
     ]
    },
    {
     "name": "stderr",
     "output_type": "stream",
     "text": [
      " 35%|███▍      | 677/1944 [02:35<04:35,  4.60it/s]"
     ]
    },
    {
     "name": "stdout",
     "output_type": "stream",
     "text": [
      "lab_wav_pairs/009576.wav 4 1.08 1.27 pin ping\n"
     ]
    },
    {
     "name": "stderr",
     "output_type": "stream",
     "text": [
      " 35%|███▍      | 679/1944 [02:36<04:57,  4.25it/s]"
     ]
    },
    {
     "name": "stdout",
     "output_type": "stream",
     "text": [
      "lab_wav_pairs/008569.wav 0 0.33 0.53 lian ling\n",
      "lab_wav_pairs/008569.wav 1 0.53 0.69 lian ling\n",
      "lab_wav_pairs/008569.wav 8 2.0 2.14 gou gong\n"
     ]
    },
    {
     "name": "stderr",
     "output_type": "stream",
     "text": [
      " 35%|███▌      | 683/1944 [02:37<06:13,  3.38it/s]"
     ]
    },
    {
     "name": "stdout",
     "output_type": "stream",
     "text": [
      "lab_wav_pairs/009890.wav 12 2.45 2.61 jin ji\n"
     ]
    },
    {
     "name": "stderr",
     "output_type": "stream",
     "text": [
      " 35%|███▌      | 687/1944 [02:38<05:23,  3.89it/s]"
     ]
    },
    {
     "name": "stdout",
     "output_type": "stream",
     "text": [
      "lab_wav_pairs/009503.wav 15 3.62 3.87 chui chun\n",
      "lab_wav_pairs/008921.wav 7 2.02 2.14 dian gei\n",
      "lab_wav_pairs/008921.wav 12 2.96 3.1 dei de\n"
     ]
    },
    {
     "name": "stderr",
     "output_type": "stream",
     "text": [
      " 35%|███▌      | 688/1944 [02:39<06:16,  3.33it/s]"
     ]
    },
    {
     "name": "stdout",
     "output_type": "stream",
     "text": [
      "lab_wav_pairs/008921.wav 20 4.62 4.84 bo bu\n"
     ]
    },
    {
     "name": "stderr",
     "output_type": "stream",
     "text": [
      " 35%|███▌      | 690/1944 [02:39<06:37,  3.15it/s]"
     ]
    },
    {
     "name": "stdout",
     "output_type": "stream",
     "text": [
      "lab_wav_pairs/008520.wav 3 0.92 1.08 zhe zheng\n"
     ]
    },
    {
     "name": "stderr",
     "output_type": "stream",
     "text": [
      " 36%|███▌      | 691/1944 [02:40<06:12,  3.37it/s]"
     ]
    },
    {
     "name": "stdout",
     "output_type": "stream",
     "text": [
      "lab_wav_pairs/008594.wav 11 3.13 3.35 xi xin\n",
      "lab_wav_pairs/008594.wav 13 3.56 3.79 yi ye\n"
     ]
    },
    {
     "name": "stderr",
     "output_type": "stream",
     "text": [
      " 36%|███▌      | 695/1944 [02:41<06:02,  3.45it/s]"
     ]
    },
    {
     "name": "stdout",
     "output_type": "stream",
     "text": [
      "lab_wav_pairs/008211.wav 22 5.64 5.86 quan qun\n"
     ]
    },
    {
     "name": "stderr",
     "output_type": "stream",
     "text": [
      " 36%|███▌      | 696/1944 [02:41<06:21,  3.27it/s]"
     ]
    },
    {
     "name": "stdout",
     "output_type": "stream",
     "text": [
      "lab_wav_pairs/009099.wav 5 1.63 1.77 dei de\n"
     ]
    },
    {
     "name": "stderr",
     "output_type": "stream",
     "text": [
      " 36%|███▌      | 697/1944 [02:41<06:38,  3.13it/s]"
     ]
    },
    {
     "name": "stdout",
     "output_type": "stream",
     "text": [
      "lab_wav_pairs/009099.wav 17 5.29 5.46 xin xi\n"
     ]
    },
    {
     "name": "stderr",
     "output_type": "stream",
     "text": [
      " 36%|███▌      | 698/1944 [02:42<06:32,  3.18it/s]"
     ]
    },
    {
     "name": "stdout",
     "output_type": "stream",
     "text": [
      "lab_wav_pairs/009173.wav 16 4.18 4.28 wu bu\n"
     ]
    },
    {
     "name": "stderr",
     "output_type": "stream",
     "text": [
      " 36%|███▌      | 702/1944 [02:42<05:00,  4.13it/s]"
     ]
    },
    {
     "name": "stdout",
     "output_type": "stream",
     "text": [
      "lab_wav_pairs/009218.wav 12 2.96 3.08 ji jin\n"
     ]
    },
    {
     "name": "stderr",
     "output_type": "stream",
     "text": [
      " 36%|███▌      | 703/1944 [02:43<05:34,  3.71it/s]"
     ]
    },
    {
     "name": "stdout",
     "output_type": "stream",
     "text": [
      "lab_wav_pairs/009469.wav 8 2.13 2.36 jing jin\n",
      "lab_wav_pairs/009469.wav 19 4.84 5.07 tan tai\n"
     ]
    },
    {
     "name": "stderr",
     "output_type": "stream",
     "text": [
      " 36%|███▌      | 704/1944 [02:43<05:44,  3.59it/s]"
     ]
    },
    {
     "name": "stdout",
     "output_type": "stream",
     "text": [
      "lab_wav_pairs/008786.wav 7 1.6 1.72 gu guo\n",
      "lab_wav_pairs/008786.wav 9 1.88 2.04 yue yuan\n",
      "lab_wav_pairs/008786.wav 11 2.22 2.38 gan gai\n"
     ]
    },
    {
     "name": "stderr",
     "output_type": "stream",
     "text": [
      " 36%|███▋      | 708/1944 [02:44<05:43,  3.60it/s]"
     ]
    },
    {
     "name": "stdout",
     "output_type": "stream",
     "text": [
      "lab_wav_pairs/008505.wav 13 2.82 3.04 dao dang\n"
     ]
    },
    {
     "name": "stderr",
     "output_type": "stream",
     "text": [
      " 37%|███▋      | 710/1944 [02:45<05:25,  3.79it/s]"
     ]
    },
    {
     "name": "stdout",
     "output_type": "stream",
     "text": [
      "lab_wav_pairs/008840.wav 11 2.97 3.16 xue xie\n",
      "lab_wav_pairs/008840.wav 14 3.54 3.75 pin ping\n",
      "lab_wav_pairs/008855.wav 4 1.14 1.35 qin qing\n"
     ]
    },
    {
     "name": "stderr",
     "output_type": "stream",
     "text": [
      " 37%|███▋      | 711/1944 [02:45<05:21,  3.84it/s]"
     ]
    },
    {
     "name": "stdout",
     "output_type": "stream",
     "text": [
      "lab_wav_pairs/008855.wav 11 2.6 2.76 bing bian\n"
     ]
    },
    {
     "name": "stderr",
     "output_type": "stream",
     "text": [
      " 37%|███▋      | 712/1944 [02:45<05:43,  3.59it/s]"
     ]
    },
    {
     "name": "stdout",
     "output_type": "stream",
     "text": [
      "lab_wav_pairs/008993.wav 18 4.38 4.46 de di\n"
     ]
    },
    {
     "name": "stderr",
     "output_type": "stream",
     "text": [
      " 37%|███▋      | 713/1944 [02:46<06:16,  3.27it/s]"
     ]
    },
    {
     "name": "stdout",
     "output_type": "stream",
     "text": [
      "lab_wav_pairs/008272.wav 14 3.32 3.43 de dao\n"
     ]
    },
    {
     "name": "stderr",
     "output_type": "stream",
     "text": [
      " 37%|███▋      | 716/1944 [02:46<04:14,  4.83it/s]"
     ]
    },
    {
     "name": "stdout",
     "output_type": "stream",
     "text": [
      "lab_wav_pairs/008452.wav 3 1.03 1.22 jin ji\n",
      "lab_wav_pairs/008452.wav 7 1.72 1.85 zhei zhe\n",
      "lab_wav_pairs/008452.wav 8 1.85 2.0 yao yang\n"
     ]
    },
    {
     "name": "stderr",
     "output_type": "stream",
     "text": [
      " 37%|███▋      | 719/1944 [02:47<03:47,  5.39it/s]"
     ]
    },
    {
     "name": "stdout",
     "output_type": "stream",
     "text": [
      "lab_wav_pairs/009439.wav 9 2.68 2.84 ji jing\n",
      "lab_wav_pairs/009439.wav 10 2.84 3.04 lv li\n"
     ]
    },
    {
     "name": "stderr",
     "output_type": "stream",
     "text": [
      " 37%|███▋      | 722/1944 [02:47<03:31,  5.77it/s]"
     ]
    },
    {
     "name": "stdout",
     "output_type": "stream",
     "text": [
      "lab_wav_pairs/009766.wav 8 1.81 2.06 ruan run\n",
      "lab_wav_pairs/009128.wav 4 0.85 1.05 yi yin\n"
     ]
    },
    {
     "name": "stderr",
     "output_type": "stream",
     "text": [
      " 37%|███▋      | 724/1944 [02:48<03:51,  5.27it/s]"
     ]
    },
    {
     "name": "stdout",
     "output_type": "stream",
     "text": [
      "lab_wav_pairs/009961.wav 6 1.39 1.54 ting ti\n"
     ]
    },
    {
     "name": "stderr",
     "output_type": "stream",
     "text": [
      " 37%|███▋      | 727/1944 [02:48<03:52,  5.24it/s]"
     ]
    },
    {
     "name": "stdout",
     "output_type": "stream",
     "text": [
      "lab_wav_pairs/008756.wav 9 2.21 2.43 qian qie\n",
      "lab_wav_pairs/009794.wav 4 1.45 1.6 guan guang\n",
      "lab_wav_pairs/009794.wav 14 3.44 3.65 lian lie\n"
     ]
    },
    {
     "name": "stderr",
     "output_type": "stream",
     "text": [
      " 38%|███▊      | 730/1944 [02:49<03:19,  6.07it/s]"
     ]
    },
    {
     "name": "stdout",
     "output_type": "stream",
     "text": [
      "lab_wav_pairs/008904.wav 1 0.44 0.63 liang liao\n"
     ]
    },
    {
     "name": "stderr",
     "output_type": "stream",
     "text": [
      " 38%|███▊      | 731/1944 [02:49<04:03,  4.98it/s]"
     ]
    },
    {
     "name": "stdout",
     "output_type": "stream",
     "text": [
      "lab_wav_pairs/008134.wav 15 3.71 3.89 xun xu\n"
     ]
    },
    {
     "name": "stderr",
     "output_type": "stream",
     "text": [
      " 38%|███▊      | 733/1944 [02:50<05:12,  3.87it/s]"
     ]
    },
    {
     "name": "stdout",
     "output_type": "stream",
     "text": [
      "lab_wav_pairs/008987.wav 18 4.1 4.3 qing qin\n"
     ]
    },
    {
     "name": "stderr",
     "output_type": "stream",
     "text": [
      " 38%|███▊      | 736/1944 [02:50<04:31,  4.45it/s]"
     ]
    },
    {
     "name": "stdout",
     "output_type": "stream",
     "text": [
      "lab_wav_pairs/009228.wav 4 1.14 1.32 gan gang\n",
      "lab_wav_pairs/009228.wav 7 1.77 1.93 xi xue\n"
     ]
    },
    {
     "name": "stderr",
     "output_type": "stream",
     "text": [
      " 38%|███▊      | 738/1944 [02:50<03:39,  5.48it/s]"
     ]
    },
    {
     "name": "stdout",
     "output_type": "stream",
     "text": [
      "lab_wav_pairs/008625.wav 6 1.58 1.7 de dui\n"
     ]
    },
    {
     "name": "stderr",
     "output_type": "stream",
     "text": [
      " 38%|███▊      | 742/1944 [02:51<04:48,  4.16it/s]"
     ]
    },
    {
     "name": "stdout",
     "output_type": "stream",
     "text": [
      "lab_wav_pairs/009010.wav 17 4.16 4.35 men me\n",
      "lab_wav_pairs/009010.wav 30 6.53 6.65 ye yan\n"
     ]
    },
    {
     "name": "stderr",
     "output_type": "stream",
     "text": [
      " 38%|███▊      | 743/1944 [02:52<04:59,  4.01it/s]"
     ]
    },
    {
     "name": "stdout",
     "output_type": "stream",
     "text": [
      "lab_wav_pairs/008731.wav 12 2.92 3.02 bu de\n",
      "lab_wav_pairs/008731.wav 16 4.07 4.29 mou me\n"
     ]
    },
    {
     "name": "stderr",
     "output_type": "stream",
     "text": [
      " 38%|███▊      | 745/1944 [02:52<05:07,  3.90it/s]"
     ]
    },
    {
     "name": "stdout",
     "output_type": "stream",
     "text": [
      "lab_wav_pairs/009176.wav 10 2.5 2.68 xian xie\n"
     ]
    },
    {
     "name": "stderr",
     "output_type": "stream",
     "text": [
      " 38%|███▊      | 748/1944 [02:53<05:33,  3.58it/s]"
     ]
    },
    {
     "name": "stdout",
     "output_type": "stream",
     "text": [
      "lab_wav_pairs/009035.wav 14 3.46 3.59 zhei zhe\n",
      "lab_wav_pairs/009035.wav 19 4.4 4.68 shang chang\n"
     ]
    },
    {
     "name": "stderr",
     "output_type": "stream",
     "text": [
      " 39%|███▊      | 750/1944 [02:54<05:31,  3.60it/s]"
     ]
    },
    {
     "name": "stdout",
     "output_type": "stream",
     "text": [
      "lab_wav_pairs/009041.wav 3 0.7 0.88 ming min\n",
      "lab_wav_pairs/009041.wav 17 4.2 4.24 yu zi\n",
      "lab_wav_pairs/009041.wav 18 4.24 4.28 yu zi\n"
     ]
    },
    {
     "name": "stderr",
     "output_type": "stream",
     "text": [
      " 39%|███▊      | 752/1944 [02:54<05:12,  3.81it/s]"
     ]
    },
    {
     "name": "stdout",
     "output_type": "stream",
     "text": [
      "lab_wav_pairs/009535.wav 21 4.47 4.6 yan ye\n"
     ]
    },
    {
     "name": "stderr",
     "output_type": "stream",
     "text": [
      " 39%|███▉      | 756/1944 [02:55<04:52,  4.07it/s]"
     ]
    },
    {
     "name": "stdout",
     "output_type": "stream",
     "text": [
      "lab_wav_pairs/009862.wav 16 4.94 5.11 xin xi\n"
     ]
    },
    {
     "name": "stderr",
     "output_type": "stream",
     "text": [
      " 39%|███▉      | 758/1944 [02:56<05:07,  3.86it/s]"
     ]
    },
    {
     "name": "stdout",
     "output_type": "stream",
     "text": [
      "lab_wav_pairs/008541.wav 8 1.85 1.98 le lang\n",
      "lab_wav_pairs/008541.wav 9 1.98 2.08 de di\n",
      "lab_wav_pairs/009526.wav 5 1.19 1.3 dong duo\n",
      "lab_wav_pairs/009526.wav 11 2.66 2.8 bian bie\n"
     ]
    },
    {
     "name": "stderr",
     "output_type": "stream",
     "text": [
      " 39%|███▉      | 760/1944 [02:56<05:35,  3.53it/s]"
     ]
    },
    {
     "name": "stdout",
     "output_type": "stream",
     "text": [
      "lab_wav_pairs/009591.wav 1 0.46 0.72 gang gao\n"
     ]
    },
    {
     "name": "stderr",
     "output_type": "stream",
     "text": [
      " 39%|███▉      | 764/1944 [02:58<06:04,  3.24it/s]"
     ]
    },
    {
     "name": "stdout",
     "output_type": "stream",
     "text": [
      "lab_wav_pairs/008823.wav 9 2.21 2.41 jie jian\n"
     ]
    },
    {
     "name": "stderr",
     "output_type": "stream",
     "text": [
      " 39%|███▉      | 765/1944 [02:58<05:43,  3.44it/s]"
     ]
    },
    {
     "name": "stdout",
     "output_type": "stream",
     "text": [
      "lab_wav_pairs/008051.wav 5 1.54 1.76 ju jun\n"
     ]
    },
    {
     "name": "stderr",
     "output_type": "stream",
     "text": [
      " 39%|███▉      | 767/1944 [02:59<05:50,  3.36it/s]"
     ]
    },
    {
     "name": "stdout",
     "output_type": "stream",
     "text": [
      "lab_wav_pairs/009669.wav 11 2.46 2.66 mao mang\n"
     ]
    },
    {
     "name": "stderr",
     "output_type": "stream",
     "text": [
      " 40%|███▉      | 768/1944 [02:59<05:56,  3.30it/s]"
     ]
    },
    {
     "name": "stdout",
     "output_type": "stream",
     "text": [
      "lab_wav_pairs/008908.wav 2 0.84 1.02 xing xin\n",
      "lab_wav_pairs/008908.wav 13 3.1 3.24 yao re\n"
     ]
    },
    {
     "name": "stderr",
     "output_type": "stream",
     "text": [
      " 40%|███▉      | 773/1944 [03:00<03:39,  5.33it/s]"
     ]
    },
    {
     "name": "stdout",
     "output_type": "stream",
     "text": [
      "lab_wav_pairs/008013.wav 10 2.84 3.01 shang rang\n",
      "lab_wav_pairs/008683.wav 3 0.92 1.12 chao zhao\n"
     ]
    },
    {
     "name": "stderr",
     "output_type": "stream",
     "text": [
      " 40%|███▉      | 777/1944 [03:01<04:55,  3.96it/s]"
     ]
    },
    {
     "name": "stdout",
     "output_type": "stream",
     "text": [
      "lab_wav_pairs/008052.wav 17 3.84 4.04 jian jin\n"
     ]
    },
    {
     "name": "stderr",
     "output_type": "stream",
     "text": [
      " 40%|████      | 778/1944 [03:01<04:32,  4.28it/s]"
     ]
    },
    {
     "name": "stdout",
     "output_type": "stream",
     "text": [
      "lab_wav_pairs/008455.wav 10 2.29 2.49 yin ying\n"
     ]
    },
    {
     "name": "stderr",
     "output_type": "stream",
     "text": [
      " 40%|████      | 780/1944 [03:01<04:35,  4.22it/s]"
     ]
    },
    {
     "name": "stdout",
     "output_type": "stream",
     "text": [
      "lab_wav_pairs/009063.wav 4 1.4 1.62 jian jie\n",
      "lab_wav_pairs/009063.wav 11 2.97 3.24 fan fen\n",
      "lab_wav_pairs/009018.wav 3 0.83 1.03 pi ping\n",
      "lab_wav_pairs/009018.wav 7 1.61 1.71 men de\n"
     ]
    },
    {
     "name": "stderr",
     "output_type": "stream",
     "text": [
      " 40%|████      | 781/1944 [03:02<04:40,  4.15it/s]"
     ]
    },
    {
     "name": "stdout",
     "output_type": "stream",
     "text": [
      "lab_wav_pairs/009018.wav 16 3.41 3.45 er hang\n",
      "lab_wav_pairs/008418.wav 0 0.34 0.49 bo bu\n"
     ]
    },
    {
     "name": "stderr",
     "output_type": "stream",
     "text": [
      " 41%|████      | 788/1944 [03:03<04:39,  4.13it/s]"
     ]
    },
    {
     "name": "stdout",
     "output_type": "stream",
     "text": [
      "lab_wav_pairs/008537.wav 4 0.99 1.19 xiang xiao\n"
     ]
    },
    {
     "name": "stderr",
     "output_type": "stream",
     "text": [
      " 41%|████      | 792/1944 [03:04<04:28,  4.29it/s]"
     ]
    },
    {
     "name": "stdout",
     "output_type": "stream",
     "text": [
      "lab_wav_pairs/009811.wav 10 2.57 2.74 yao liao\n",
      "lab_wav_pairs/008386.wav 9 2.17 2.27 de me\n"
     ]
    },
    {
     "name": "stderr",
     "output_type": "stream",
     "text": [
      " 41%|████      | 795/1944 [03:05<03:47,  5.05it/s]"
     ]
    },
    {
     "name": "stdout",
     "output_type": "stream",
     "text": [
      "lab_wav_pairs/008905.wav 3 1.08 1.14 yangr di\n"
     ]
    },
    {
     "name": "stderr",
     "output_type": "stream",
     "text": [
      " 41%|████      | 797/1944 [03:05<03:41,  5.17it/s]"
     ]
    },
    {
     "name": "stdout",
     "output_type": "stream",
     "text": [
      "lab_wav_pairs/009213.wav 16 3.88 4.04 zi zui\n"
     ]
    },
    {
     "name": "stderr",
     "output_type": "stream",
     "text": [
      " 41%|████      | 798/1944 [03:06<03:38,  5.25it/s]"
     ]
    },
    {
     "name": "stdout",
     "output_type": "stream",
     "text": [
      "lab_wav_pairs/008656.wav 4 1.15 1.3 tan ta\n"
     ]
    },
    {
     "name": "stderr",
     "output_type": "stream",
     "text": [
      " 41%|████▏     | 803/1944 [03:07<03:57,  4.81it/s]"
     ]
    },
    {
     "name": "stdout",
     "output_type": "stream",
     "text": [
      "lab_wav_pairs/009724.wav 10 2.53 2.69 dou deng\n"
     ]
    },
    {
     "name": "stderr",
     "output_type": "stream",
     "text": [
      " 41%|████▏     | 804/1944 [03:07<04:55,  3.86it/s]"
     ]
    },
    {
     "name": "stdout",
     "output_type": "stream",
     "text": [
      "lab_wav_pairs/009891.wav 20 4.98 5.14 xia xiang\n"
     ]
    },
    {
     "name": "stderr",
     "output_type": "stream",
     "text": [
      " 41%|████▏     | 806/1944 [03:08<05:13,  3.63it/s]"
     ]
    },
    {
     "name": "stdout",
     "output_type": "stream",
     "text": [
      "lab_wav_pairs/009500.wav 4 1.46 1.53 ng wa\n",
      "lab_wav_pairs/009500.wav 13 3.8 4.03 ceng zeng\n"
     ]
    },
    {
     "name": "stderr",
     "output_type": "stream",
     "text": [
      " 42%|████▏     | 807/1944 [03:08<05:30,  3.44it/s]"
     ]
    },
    {
     "name": "stdout",
     "output_type": "stream",
     "text": [
      "lab_wav_pairs/009205.wav 10 2.25 2.4 fen he\n",
      "lab_wav_pairs/009205.wav 18 4.24 4.43 jing jin\n"
     ]
    },
    {
     "name": "stderr",
     "output_type": "stream",
     "text": [
      " 42%|████▏     | 808/1944 [03:08<04:58,  3.80it/s]"
     ]
    },
    {
     "name": "stdout",
     "output_type": "stream",
     "text": [
      "lab_wav_pairs/008268.wav 5 1.39 1.56 fu fo\n"
     ]
    },
    {
     "name": "stderr",
     "output_type": "stream",
     "text": [
      " 42%|████▏     | 811/1944 [03:09<03:42,  5.10it/s]"
     ]
    },
    {
     "name": "stdout",
     "output_type": "stream",
     "text": [
      "lab_wav_pairs/009731.wav 8 2.03 2.13 men neng\n",
      "lab_wav_pairs/009731.wav 9 2.13 2.31 ye yin\n",
      "lab_wav_pairs/008902.wav 1 0.52 0.61 men me\n"
     ]
    },
    {
     "name": "stderr",
     "output_type": "stream",
     "text": [
      " 42%|████▏     | 813/1944 [03:09<04:30,  4.18it/s]"
     ]
    },
    {
     "name": "stdout",
     "output_type": "stream",
     "text": [
      "lab_wav_pairs/009618.wav 16 4.26 4.44 shen shan\n"
     ]
    },
    {
     "name": "stderr",
     "output_type": "stream",
     "text": [
      " 42%|████▏     | 817/1944 [03:11<05:35,  3.36it/s]"
     ]
    },
    {
     "name": "stdout",
     "output_type": "stream",
     "text": [
      "lab_wav_pairs/009750.wav 12 2.98 3.2 ci zi\n"
     ]
    },
    {
     "name": "stderr",
     "output_type": "stream",
     "text": [
      " 42%|████▏     | 820/1944 [03:11<04:49,  3.88it/s]"
     ]
    },
    {
     "name": "stdout",
     "output_type": "stream",
     "text": [
      "lab_wav_pairs/009989.wav 13 3.41 3.54 ming mi\n",
      "lab_wav_pairs/009989.wav 17 4.09 4.22 zhi zhe\n"
     ]
    },
    {
     "name": "stderr",
     "output_type": "stream",
     "text": [
      " 43%|████▎     | 831/1944 [03:14<03:31,  5.25it/s]"
     ]
    },
    {
     "name": "stdout",
     "output_type": "stream",
     "text": [
      "lab_wav_pairs/009600.wav 19 4.19 4.41 chan chai\n"
     ]
    },
    {
     "name": "stderr",
     "output_type": "stream",
     "text": [
      " 43%|████▎     | 833/1944 [03:14<03:36,  5.12it/s]"
     ]
    },
    {
     "name": "stdout",
     "output_type": "stream",
     "text": [
      "lab_wav_pairs/009420.wav 20 5.47 5.62 ji jin\n"
     ]
    },
    {
     "name": "stderr",
     "output_type": "stream",
     "text": [
      " 43%|████▎     | 835/1944 [03:15<04:11,  4.41it/s]"
     ]
    },
    {
     "name": "stdout",
     "output_type": "stream",
     "text": [
      "lab_wav_pairs/008315.wav 14 3.57 3.72 tu tuo\n"
     ]
    },
    {
     "name": "stderr",
     "output_type": "stream",
     "text": [
      " 43%|████▎     | 837/1944 [03:15<04:10,  4.41it/s]"
     ]
    },
    {
     "name": "stdout",
     "output_type": "stream",
     "text": [
      "lab_wav_pairs/009835.wav 10 2.3 2.48 bei de\n",
      "lab_wav_pairs/009835.wav 14 3.38 3.5 bian bie\n",
      "lab_wav_pairs/009835.wav 16 3.67 3.8 ni nv\n"
     ]
    },
    {
     "name": "stderr",
     "output_type": "stream",
     "text": [
      " 43%|████▎     | 840/1944 [03:16<04:08,  4.45it/s]"
     ]
    },
    {
     "name": "stdout",
     "output_type": "stream",
     "text": [
      "lab_wav_pairs/008596.wav 12 2.73 2.95 shua shuai\n",
      "lab_wav_pairs/008596.wav 13 3.04 3.19 qian qi\n",
      "lab_wav_pairs/008561.wav 6 1.46 1.61 rou reng\n"
     ]
    },
    {
     "name": "stderr",
     "output_type": "stream",
     "text": [
      " 43%|████▎     | 841/1944 [03:16<04:55,  3.73it/s]"
     ]
    },
    {
     "name": "stdout",
     "output_type": "stream",
     "text": [
      "lab_wav_pairs/008561.wav 20 4.57 4.65 de di\n",
      "lab_wav_pairs/008943.wav 8 2.25 2.41 de deng\n"
     ]
    },
    {
     "name": "stderr",
     "output_type": "stream",
     "text": [
      " 43%|████▎     | 842/1944 [03:17<04:57,  3.71it/s]"
     ]
    },
    {
     "name": "stdout",
     "output_type": "stream",
     "text": [
      "lab_wav_pairs/008943.wav 16 3.83 3.98 xi xin\n"
     ]
    },
    {
     "name": "stderr",
     "output_type": "stream",
     "text": [
      " 43%|████▎     | 843/1944 [03:17<04:28,  4.10it/s]"
     ]
    },
    {
     "name": "stdout",
     "output_type": "stream",
     "text": [
      "lab_wav_pairs/008961.wav 1 0.49 0.66 yi ri\n",
      "lab_wav_pairs/008961.wav 11 2.86 3.0 zhe zhou\n"
     ]
    },
    {
     "name": "stderr",
     "output_type": "stream",
     "text": [
      " 43%|████▎     | 845/1944 [03:17<04:05,  4.48it/s]"
     ]
    },
    {
     "name": "stdout",
     "output_type": "stream",
     "text": [
      "lab_wav_pairs/008961.wav 17 3.93 4.1 dian die\n",
      "lab_wav_pairs/008961.wav 19 4.28 4.58 tan dan\n"
     ]
    },
    {
     "name": "stderr",
     "output_type": "stream",
     "text": [
      " 44%|████▎     | 846/1944 [03:18<04:52,  3.75it/s]"
     ]
    },
    {
     "name": "stdout",
     "output_type": "stream",
     "text": [
      "lab_wav_pairs/008407.wav 1 0.5 0.68 xing xin\n",
      "lab_wav_pairs/008407.wav 6 1.58 1.78 ban nan\n",
      "lab_wav_pairs/008407.wav 14 3.42 3.64 da dai\n"
     ]
    },
    {
     "name": "stderr",
     "output_type": "stream",
     "text": [
      " 44%|████▎     | 847/1944 [03:18<04:48,  3.80it/s]"
     ]
    },
    {
     "name": "stdout",
     "output_type": "stream",
     "text": [
      "lab_wav_pairs/009533.wav 4 1.08 1.36 chong chou\n"
     ]
    },
    {
     "name": "stderr",
     "output_type": "stream",
     "text": [
      " 44%|████▎     | 849/1944 [03:18<04:51,  3.76it/s]"
     ]
    },
    {
     "name": "stdout",
     "output_type": "stream",
     "text": [
      "lab_wav_pairs/008743.wav 2 0.75 0.93 jing jin\n"
     ]
    },
    {
     "name": "stderr",
     "output_type": "stream",
     "text": [
      " 44%|████▎     | 850/1944 [03:19<05:13,  3.49it/s]"
     ]
    },
    {
     "name": "stdout",
     "output_type": "stream",
     "text": [
      "lab_wav_pairs/008743.wav 11 2.86 3.04 han hai\n",
      "lab_wav_pairs/009627.wav 6 1.35 1.56 ao ang\n"
     ]
    },
    {
     "name": "stderr",
     "output_type": "stream",
     "text": [
      " 44%|████▍     | 851/1944 [03:19<05:33,  3.28it/s]"
     ]
    },
    {
     "name": "stdout",
     "output_type": "stream",
     "text": [
      "lab_wav_pairs/009627.wav 12 2.81 2.97 mi ming\n"
     ]
    },
    {
     "name": "stderr",
     "output_type": "stream",
     "text": [
      " 44%|████▍     | 853/1944 [03:20<04:54,  3.71it/s]"
     ]
    },
    {
     "name": "stdout",
     "output_type": "stream",
     "text": [
      "lab_wav_pairs/009834.wav 10 2.03 2.23 luo la\n"
     ]
    },
    {
     "name": "stderr",
     "output_type": "stream",
     "text": [
      " 44%|████▍     | 854/1944 [03:20<04:58,  3.65it/s]"
     ]
    },
    {
     "name": "stdout",
     "output_type": "stream",
     "text": [
      "lab_wav_pairs/008466.wav 18 4.61 4.74 yuan yue\n",
      "lab_wav_pairs/008401.wav 0 0.45 0.51 e la\n"
     ]
    },
    {
     "name": "stderr",
     "output_type": "stream",
     "text": [
      " 44%|████▍     | 857/1944 [03:20<03:08,  5.76it/s]"
     ]
    },
    {
     "name": "stdout",
     "output_type": "stream",
     "text": [
      "lab_wav_pairs/009671.wav 2 0.61 0.82 yuan yue\n",
      "lab_wav_pairs/008597.wav 2 0.67 0.86 jun ju\n"
     ]
    },
    {
     "name": "stderr",
     "output_type": "stream",
     "text": [
      " 44%|████▍     | 858/1944 [03:20<03:34,  5.07it/s]"
     ]
    },
    {
     "name": "stdout",
     "output_type": "stream",
     "text": [
      "lab_wav_pairs/008597.wav 12 3.14 3.33 xie xin\n"
     ]
    },
    {
     "name": "stderr",
     "output_type": "stream",
     "text": [
      " 44%|████▍     | 859/1944 [03:21<03:20,  5.41it/s]"
     ]
    },
    {
     "name": "stdout",
     "output_type": "stream",
     "text": [
      "lab_wav_pairs/009541.wav 2 1.09 1.24 ji jin\n"
     ]
    },
    {
     "name": "stderr",
     "output_type": "stream",
     "text": [
      " 44%|████▍     | 864/1944 [03:22<03:39,  4.92it/s]"
     ]
    },
    {
     "name": "stdout",
     "output_type": "stream",
     "text": [
      "lab_wav_pairs/008427.wav 5 1.38 1.54 dui dun\n"
     ]
    },
    {
     "name": "stderr",
     "output_type": "stream",
     "text": [
      " 45%|████▍     | 867/1944 [03:22<03:40,  4.88it/s]"
     ]
    },
    {
     "name": "stdout",
     "output_type": "stream",
     "text": [
      "lab_wav_pairs/008279.wav 0 0.39 0.56 pian pie\n",
      "lab_wav_pairs/008279.wav 9 2.39 2.52 zhe zhen\n"
     ]
    },
    {
     "name": "stderr",
     "output_type": "stream",
     "text": [
      " 45%|████▍     | 868/1944 [03:23<04:20,  4.14it/s]"
     ]
    },
    {
     "name": "stdout",
     "output_type": "stream",
     "text": [
      "lab_wav_pairs/008279.wav 20 4.4 4.59 pi pin\n"
     ]
    },
    {
     "name": "stderr",
     "output_type": "stream",
     "text": [
      " 45%|████▍     | 872/1944 [03:23<04:03,  4.41it/s]"
     ]
    },
    {
     "name": "stdout",
     "output_type": "stream",
     "text": [
      "lab_wav_pairs/008184.wav 9 2.35 2.49 dou dong\n",
      "lab_wav_pairs/008184.wav 10 2.49 2.66 ren yuan\n",
      "lab_wav_pairs/008184.wav 18 4.0 4.18 zhang zhao\n"
     ]
    },
    {
     "name": "stderr",
     "output_type": "stream",
     "text": [
      " 45%|████▍     | 874/1944 [03:24<03:44,  4.77it/s]"
     ]
    },
    {
     "name": "stdout",
     "output_type": "stream",
     "text": [
      "lab_wav_pairs/009296.wav 1 0.43 0.59 xiang xiao\n"
     ]
    },
    {
     "name": "stderr",
     "output_type": "stream",
     "text": [
      " 45%|████▌     | 875/1944 [03:24<03:45,  4.74it/s]"
     ]
    },
    {
     "name": "stdout",
     "output_type": "stream",
     "text": [
      "lab_wav_pairs/009324.wav 3 1.16 1.4 ning nin\n",
      "lab_wav_pairs/009324.wav 12 3.59 3.7 shu shi\n",
      "lab_wav_pairs/009513.wav 1 0.39 0.61 jian jin\n"
     ]
    },
    {
     "name": "stderr",
     "output_type": "stream",
     "text": [
      " 45%|████▌     | 877/1944 [03:24<03:41,  4.82it/s]"
     ]
    },
    {
     "name": "stdout",
     "output_type": "stream",
     "text": [
      "lab_wav_pairs/009840.wav 5 1.7 1.88 zan zai\n"
     ]
    },
    {
     "name": "stderr",
     "output_type": "stream",
     "text": [
      " 45%|████▌     | 880/1944 [03:25<05:10,  3.42it/s]"
     ]
    },
    {
     "name": "stdout",
     "output_type": "stream",
     "text": [
      "lab_wav_pairs/008130.wav 9 2.2 2.27 de di\n",
      "lab_wav_pairs/008130.wav 11 3.09 3.13 er ng\n"
     ]
    },
    {
     "name": "stderr",
     "output_type": "stream",
     "text": [
      " 45%|████▌     | 881/1944 [03:26<05:31,  3.20it/s]"
     ]
    },
    {
     "name": "stdout",
     "output_type": "stream",
     "text": [
      "lab_wav_pairs/008807.wav 2 0.66 0.88 xi xin\n",
      "lab_wav_pairs/008807.wav 16 3.45 3.55 ng nei\n"
     ]
    },
    {
     "name": "stderr",
     "output_type": "stream",
     "text": [
      " 45%|████▌     | 883/1944 [03:26<05:36,  3.16it/s]"
     ]
    },
    {
     "name": "stdout",
     "output_type": "stream",
     "text": [
      "lab_wav_pairs/008227.wav 6 1.55 1.64 de di\n",
      "lab_wav_pairs/008227.wav 7 1.64 1.83 gang gao\n"
     ]
    },
    {
     "name": "stderr",
     "output_type": "stream",
     "text": [
      " 46%|████▌     | 885/1944 [03:27<05:00,  3.52it/s]"
     ]
    },
    {
     "name": "stdout",
     "output_type": "stream",
     "text": [
      "lab_wav_pairs/008011.wav 9 1.86 1.94 de di\n"
     ]
    },
    {
     "name": "stderr",
     "output_type": "stream",
     "text": [
      " 46%|████▌     | 888/1944 [03:27<03:23,  5.18it/s]"
     ]
    },
    {
     "name": "stdout",
     "output_type": "stream",
     "text": [
      "lab_wav_pairs/008713.wav 5 1.39 1.59 yu yun\n",
      "lab_wav_pairs/008753.wav 3 0.91 1.06 qi xi\n"
     ]
    },
    {
     "name": "stderr",
     "output_type": "stream",
     "text": [
      " 46%|████▌     | 892/1944 [03:28<03:19,  5.28it/s]"
     ]
    },
    {
     "name": "stdout",
     "output_type": "stream",
     "text": [
      "lab_wav_pairs/009307.wav 6 1.77 1.91 jie jian\n"
     ]
    },
    {
     "name": "stderr",
     "output_type": "stream",
     "text": [
      " 46%|████▌     | 896/1944 [03:29<03:02,  5.75it/s]"
     ]
    },
    {
     "name": "stdout",
     "output_type": "stream",
     "text": [
      "lab_wav_pairs/008808.wav 4 1.16 1.34 bao bang\n"
     ]
    },
    {
     "name": "stderr",
     "output_type": "stream",
     "text": [
      " 46%|████▌     | 897/1944 [03:29<03:12,  5.45it/s]"
     ]
    },
    {
     "name": "stdout",
     "output_type": "stream",
     "text": [
      "lab_wav_pairs/009923.wav 7 1.51 1.66 xie xi\n",
      "lab_wav_pairs/009923.wav 11 2.45 2.7 shu shuo\n"
     ]
    },
    {
     "name": "stderr",
     "output_type": "stream",
     "text": [
      " 46%|████▋     | 901/1944 [03:30<03:43,  4.66it/s]"
     ]
    },
    {
     "name": "stdout",
     "output_type": "stream",
     "text": [
      "lab_wav_pairs/009002.wav 14 3.22 3.39 hou hao\n"
     ]
    },
    {
     "name": "stderr",
     "output_type": "stream",
     "text": [
      " 46%|████▋     | 902/1944 [03:30<03:39,  4.76it/s]"
     ]
    },
    {
     "name": "stdout",
     "output_type": "stream",
     "text": [
      "lab_wav_pairs/009473.wav 0 0.28 0.53 xian xie\n"
     ]
    },
    {
     "name": "stderr",
     "output_type": "stream",
     "text": [
      " 47%|████▋     | 905/1944 [03:31<03:39,  4.74it/s]"
     ]
    },
    {
     "name": "stdout",
     "output_type": "stream",
     "text": [
      "lab_wav_pairs/008192.wav 3 0.81 0.96 jun ju\n"
     ]
    },
    {
     "name": "stderr",
     "output_type": "stream",
     "text": [
      " 47%|████▋     | 908/1944 [03:31<03:00,  5.75it/s]"
     ]
    },
    {
     "name": "stdout",
     "output_type": "stream",
     "text": [
      "lab_wav_pairs/009283.wav 6 1.49 1.65 she shui\n",
      "lab_wav_pairs/008525.wav 0 0.32 0.44 wen wei\n"
     ]
    },
    {
     "name": "stderr",
     "output_type": "stream",
     "text": [
      " 47%|████▋     | 909/1944 [03:32<03:10,  5.43it/s]"
     ]
    },
    {
     "name": "stdout",
     "output_type": "stream",
     "text": [
      "lab_wav_pairs/008525.wav 8 1.87 2.12 lia liang\n"
     ]
    },
    {
     "name": "stderr",
     "output_type": "stream",
     "text": [
      " 47%|████▋     | 910/1944 [03:32<03:36,  4.78it/s]"
     ]
    },
    {
     "name": "stdout",
     "output_type": "stream",
     "text": [
      "lab_wav_pairs/008689.wav 4 1.1 1.33 kuo ku\n"
     ]
    },
    {
     "name": "stderr",
     "output_type": "stream",
     "text": [
      " 47%|████▋     | 920/1944 [03:34<03:38,  4.69it/s]"
     ]
    },
    {
     "name": "stdout",
     "output_type": "stream",
     "text": [
      "lab_wav_pairs/008277.wav 17 4.0 4.21 xi xing\n"
     ]
    },
    {
     "name": "stderr",
     "output_type": "stream",
     "text": [
      " 48%|████▊     | 924/1944 [03:35<03:42,  4.59it/s]"
     ]
    },
    {
     "name": "stdout",
     "output_type": "stream",
     "text": [
      "lab_wav_pairs/009814.wav 5 1.1 1.27 dun lun\n"
     ]
    },
    {
     "name": "stderr",
     "output_type": "stream",
     "text": [
      " 48%|████▊     | 926/1944 [03:35<03:48,  4.45it/s]"
     ]
    },
    {
     "name": "stdout",
     "output_type": "stream",
     "text": [
      "lab_wav_pairs/008761.wav 0 0.32 0.46 jin ji\n"
     ]
    },
    {
     "name": "stderr",
     "output_type": "stream",
     "text": [
      " 48%|████▊     | 927/1944 [03:35<03:51,  4.40it/s]"
     ]
    },
    {
     "name": "stdout",
     "output_type": "stream",
     "text": [
      "lab_wav_pairs/009483.wav 9 2.4 2.5 me men\n",
      "lab_wav_pairs/009894.wav 2 1.07 1.22 yi yu\n"
     ]
    },
    {
     "name": "stderr",
     "output_type": "stream",
     "text": [
      " 48%|████▊     | 933/1944 [03:37<03:25,  4.92it/s]"
     ]
    },
    {
     "name": "stdout",
     "output_type": "stream",
     "text": [
      "lab_wav_pairs/008305.wav 4 1.21 1.3 de di\n"
     ]
    },
    {
     "name": "stderr",
     "output_type": "stream",
     "text": [
      " 48%|████▊     | 935/1944 [03:37<03:32,  4.76it/s]"
     ]
    },
    {
     "name": "stdout",
     "output_type": "stream",
     "text": [
      "lab_wav_pairs/008414.wav 2 0.59 0.8 lia liang\n"
     ]
    },
    {
     "name": "stderr",
     "output_type": "stream",
     "text": [
      " 48%|████▊     | 939/1944 [03:38<03:59,  4.19it/s]"
     ]
    },
    {
     "name": "stdout",
     "output_type": "stream",
     "text": [
      "lab_wav_pairs/008831.wav 10 2.52 2.7 jian jie\n"
     ]
    },
    {
     "name": "stderr",
     "output_type": "stream",
     "text": [
      " 49%|████▊     | 944/1944 [03:40<03:42,  4.50it/s]"
     ]
    },
    {
     "name": "stdout",
     "output_type": "stream",
     "text": [
      "lab_wav_pairs/008185.wav 1 0.5 0.63 zi ci\n",
      "lab_wav_pairs/008185.wav 4 1.36 1.51 dan dai\n"
     ]
    },
    {
     "name": "stderr",
     "output_type": "stream",
     "text": [
      " 49%|████▊     | 945/1944 [03:40<04:17,  3.87it/s]"
     ]
    },
    {
     "name": "stdout",
     "output_type": "stream",
     "text": [
      "lab_wav_pairs/008185.wav 16 3.49 3.64 shi shen\n"
     ]
    },
    {
     "name": "stderr",
     "output_type": "stream",
     "text": [
      " 49%|████▊     | 947/1944 [03:40<03:44,  4.44it/s]"
     ]
    },
    {
     "name": "stdout",
     "output_type": "stream",
     "text": [
      "lab_wav_pairs/009343.wav 2 0.6 0.78 xing xi\n",
      "lab_wav_pairs/008724.wav 3 0.89 1.24 lao lou\n"
     ]
    },
    {
     "name": "stderr",
     "output_type": "stream",
     "text": [
      " 49%|████▉     | 951/1944 [03:41<02:43,  6.07it/s]"
     ]
    },
    {
     "name": "stdout",
     "output_type": "stream",
     "text": [
      "lab_wav_pairs/009825.wav 3 0.8 1.03 de duan\n"
     ]
    },
    {
     "name": "stderr",
     "output_type": "stream",
     "text": [
      " 49%|████▉     | 952/1944 [03:41<03:31,  4.70it/s]"
     ]
    },
    {
     "name": "stdout",
     "output_type": "stream",
     "text": [
      "lab_wav_pairs/009518.wav 22 5.52 5.63 de dou\n",
      "lab_wav_pairs/009518.wav 23 5.63 5.67 er hang\n"
     ]
    },
    {
     "name": "stderr",
     "output_type": "stream",
     "text": [
      " 49%|████▉     | 955/1944 [03:42<03:49,  4.31it/s]"
     ]
    },
    {
     "name": "stdout",
     "output_type": "stream",
     "text": [
      "lab_wav_pairs/008645.wav 16 4.16 4.4 fan san\n"
     ]
    },
    {
     "name": "stderr",
     "output_type": "stream",
     "text": [
      " 49%|████▉     | 957/1944 [03:42<03:39,  4.50it/s]"
     ]
    },
    {
     "name": "stdout",
     "output_type": "stream",
     "text": [
      "lab_wav_pairs/008270.wav 6 1.63 1.83 can cen\n",
      "lab_wav_pairs/008270.wav 15 3.4 3.69 bi li\n",
      "lab_wav_pairs/008003.wav 8 2.26 2.47 guan guang\n"
     ]
    },
    {
     "name": "stderr",
     "output_type": "stream",
     "text": [
      " 49%|████▉     | 958/1944 [03:42<03:26,  4.77it/s]"
     ]
    },
    {
     "name": "stdout",
     "output_type": "stream",
     "text": [
      "lab_wav_pairs/009854.wav 2 0.7 0.93 chuan chuai\n",
      "lab_wav_pairs/009854.wav 7 2.02 2.21 pu po\n",
      "lab_wav_pairs/009854.wav 12 3.1 3.3 zhong zhou\n"
     ]
    },
    {
     "name": "stderr",
     "output_type": "stream",
     "text": [
      " 50%|████▉     | 964/1944 [03:44<03:26,  4.74it/s]"
     ]
    },
    {
     "name": "stdout",
     "output_type": "stream",
     "text": [
      "lab_wav_pairs/009034.wav 18 3.96 4.15 ren ran\n"
     ]
    },
    {
     "name": "stderr",
     "output_type": "stream",
     "text": [
      " 50%|█████     | 972/1944 [03:46<03:42,  4.36it/s]"
     ]
    },
    {
     "name": "stdout",
     "output_type": "stream",
     "text": [
      "lab_wav_pairs/008079.wav 1 0.48 0.81 guo gu\n",
      "lab_wav_pairs/008079.wav 7 1.87 1.96 men me\n"
     ]
    },
    {
     "name": "stderr",
     "output_type": "stream",
     "text": [
      " 50%|█████     | 975/1944 [03:47<03:20,  4.83it/s]"
     ]
    },
    {
     "name": "stdout",
     "output_type": "stream",
     "text": [
      "lab_wav_pairs/009654.wav 8 1.94 2.14 men nen\n"
     ]
    },
    {
     "name": "stderr",
     "output_type": "stream",
     "text": [
      " 50%|█████     | 979/1944 [03:47<03:28,  4.62it/s]"
     ]
    },
    {
     "name": "stdout",
     "output_type": "stream",
     "text": [
      "lab_wav_pairs/009756.wav 1 0.46 0.66 wen wan\n"
     ]
    },
    {
     "name": "stderr",
     "output_type": "stream",
     "text": [
      " 50%|█████     | 981/1944 [03:48<02:36,  6.16it/s]"
     ]
    },
    {
     "name": "stdout",
     "output_type": "stream",
     "text": [
      "lab_wav_pairs/008973.wav 7 1.89 2.14 lia liang\n",
      "lab_wav_pairs/008973.wav 8 2.14 2.33 xia xiang\n"
     ]
    },
    {
     "name": "stderr",
     "output_type": "stream",
     "text": [
      " 51%|█████     | 983/1944 [03:48<03:30,  4.57it/s]"
     ]
    },
    {
     "name": "stdout",
     "output_type": "stream",
     "text": [
      "lab_wav_pairs/009596.wav 5 1.39 1.58 yan ye\n"
     ]
    },
    {
     "name": "stderr",
     "output_type": "stream",
     "text": [
      " 51%|█████     | 984/1944 [03:48<03:35,  4.46it/s]"
     ]
    },
    {
     "name": "stdout",
     "output_type": "stream",
     "text": [
      "lab_wav_pairs/009506.wav 4 1.27 1.49 xu xun\n",
      "lab_wav_pairs/009506.wav 7 1.91 2.09 da dan\n",
      "lab_wav_pairs/009506.wav 14 3.19 3.3 nen nei\n"
     ]
    },
    {
     "name": "stderr",
     "output_type": "stream",
     "text": [
      " 51%|█████     | 987/1944 [03:49<03:34,  4.47it/s]"
     ]
    },
    {
     "name": "stdout",
     "output_type": "stream",
     "text": [
      "lab_wav_pairs/008275.wav 18 4.07 4.25 jin jian\n",
      "lab_wav_pairs/008533.wav 5 1.5 1.64 bie bing\n"
     ]
    },
    {
     "name": "stderr",
     "output_type": "stream",
     "text": [
      " 51%|█████     | 989/1944 [03:50<04:57,  3.21it/s]"
     ]
    },
    {
     "name": "stdout",
     "output_type": "stream",
     "text": [
      "lab_wav_pairs/008775.wav 17 4.18 4.32 ni ning\n",
      "lab_wav_pairs/008775.wav 18 4.32 4.47 yue yuan\n"
     ]
    },
    {
     "name": "stderr",
     "output_type": "stream",
     "text": [
      " 51%|█████     | 990/1944 [03:50<04:28,  3.56it/s]"
     ]
    },
    {
     "name": "stdout",
     "output_type": "stream",
     "text": [
      "lab_wav_pairs/008664.wav 0 0.35 0.5 ji jin\n",
      "lab_wav_pairs/008664.wav 5 1.42 1.59 nian nin\n"
     ]
    },
    {
     "name": "stderr",
     "output_type": "stream",
     "text": [
      " 51%|█████     | 992/1944 [03:51<04:24,  3.60it/s]"
     ]
    },
    {
     "name": "stdout",
     "output_type": "stream",
     "text": [
      "lab_wav_pairs/009304.wav 8 2.05 2.21 qian qie\n",
      "lab_wav_pairs/009304.wav 13 2.86 3.04 da dai\n"
     ]
    },
    {
     "name": "stderr",
     "output_type": "stream",
     "text": [
      " 51%|█████     | 995/1944 [03:51<04:01,  3.93it/s]"
     ]
    },
    {
     "name": "stdout",
     "output_type": "stream",
     "text": [
      "lab_wav_pairs/009048.wav 9 2.27 2.46 dong dou\n",
      "lab_wav_pairs/008028.wav 1 0.49 0.62 wen an\n"
     ]
    },
    {
     "name": "stderr",
     "output_type": "stream",
     "text": [
      " 52%|█████▏    | 1005/1944 [03:54<03:44,  4.19it/s]"
     ]
    },
    {
     "name": "stdout",
     "output_type": "stream",
     "text": [
      "lab_wav_pairs/009916.wav 16 3.68 3.9 tong tou\n",
      "lab_wav_pairs/009198.wav 5 1.46 1.65 san suan\n"
     ]
    },
    {
     "name": "stderr",
     "output_type": "stream",
     "text": [
      " 52%|█████▏    | 1014/1944 [03:56<04:12,  3.68it/s]"
     ]
    },
    {
     "name": "stdout",
     "output_type": "stream",
     "text": [
      "lab_wav_pairs/009536.wav 5 1.55 1.72 xie xi\n"
     ]
    },
    {
     "name": "stderr",
     "output_type": "stream",
     "text": [
      " 52%|█████▏    | 1017/1944 [03:57<04:03,  3.81it/s]"
     ]
    },
    {
     "name": "stdout",
     "output_type": "stream",
     "text": [
      "lab_wav_pairs/008758.wav 7 1.8 1.98 dou dong\n"
     ]
    },
    {
     "name": "stderr",
     "output_type": "stream",
     "text": [
      " 52%|█████▏    | 1019/1944 [03:58<05:16,  2.92it/s]"
     ]
    },
    {
     "name": "stdout",
     "output_type": "stream",
     "text": [
      "lab_wav_pairs/009817.wav 10 2.57 2.76 pin ping\n"
     ]
    },
    {
     "name": "stderr",
     "output_type": "stream",
     "text": [
      " 53%|█████▎    | 1021/1944 [03:58<04:28,  3.44it/s]"
     ]
    },
    {
     "name": "stdout",
     "output_type": "stream",
     "text": [
      "lab_wav_pairs/008842.wav 6 1.34 1.58 xiang xiao\n",
      "lab_wav_pairs/008465.wav 8 2.09 2.21 yan ye\n",
      "lab_wav_pairs/008465.wav 9 2.21 2.35 dei de\n"
     ]
    },
    {
     "name": "stderr",
     "output_type": "stream",
     "text": [
      " 53%|█████▎    | 1022/1944 [03:59<04:37,  3.32it/s]"
     ]
    },
    {
     "name": "stdout",
     "output_type": "stream",
     "text": [
      "lab_wav_pairs/008465.wav 13 3.07 3.18 na nei\n"
     ]
    },
    {
     "name": "stderr",
     "output_type": "stream",
     "text": [
      " 53%|█████▎    | 1024/1944 [03:59<04:10,  3.67it/s]"
     ]
    },
    {
     "name": "stdout",
     "output_type": "stream",
     "text": [
      "lab_wav_pairs/008312.wav 6 1.85 2.03 gu guo\n",
      "lab_wav_pairs/008312.wav 7 2.03 2.18 jin ji\n",
      "lab_wav_pairs/008312.wav 9 2.37 2.52 shui shi\n"
     ]
    },
    {
     "name": "stderr",
     "output_type": "stream",
     "text": [
      " 53%|█████▎    | 1025/1944 [03:59<03:40,  4.17it/s]"
     ]
    },
    {
     "name": "stdout",
     "output_type": "stream",
     "text": [
      "lab_wav_pairs/009434.wav 0 0.26 0.57 ni nv\n"
     ]
    },
    {
     "name": "stderr",
     "output_type": "stream",
     "text": [
      " 53%|█████▎    | 1028/1944 [04:00<04:04,  3.75it/s]"
     ]
    },
    {
     "name": "stdout",
     "output_type": "stream",
     "text": [
      "lab_wav_pairs/008325.wav 16 3.69 3.85 jin jian\n",
      "lab_wav_pairs/008173.wav 3 1.22 1.35 ta pai\n"
     ]
    },
    {
     "name": "stderr",
     "output_type": "stream",
     "text": [
      " 53%|█████▎    | 1031/1944 [04:01<03:16,  4.64it/s]"
     ]
    },
    {
     "name": "stdout",
     "output_type": "stream",
     "text": [
      "lab_wav_pairs/008413.wav 6 1.92 2.08 hou hong\n"
     ]
    },
    {
     "name": "stderr",
     "output_type": "stream",
     "text": [
      " 53%|█████▎    | 1032/1944 [04:01<03:03,  4.97it/s]"
     ]
    },
    {
     "name": "stdout",
     "output_type": "stream",
     "text": [
      "lab_wav_pairs/008527.wav 8 1.71 1.89 que quan\n"
     ]
    },
    {
     "name": "stderr",
     "output_type": "stream",
     "text": [
      " 53%|█████▎    | 1038/1944 [04:02<03:13,  4.68it/s]"
     ]
    },
    {
     "name": "stdout",
     "output_type": "stream",
     "text": [
      "lab_wav_pairs/008322.wav 6 1.68 1.81 me men\n"
     ]
    },
    {
     "name": "stderr",
     "output_type": "stream",
     "text": [
      " 53%|█████▎    | 1039/1944 [04:02<03:37,  4.17it/s]"
     ]
    },
    {
     "name": "stdout",
     "output_type": "stream",
     "text": [
      "lab_wav_pairs/009384.wav 5 1.6 1.78 de le\n"
     ]
    },
    {
     "name": "stderr",
     "output_type": "stream",
     "text": [
      " 54%|█████▎    | 1042/1944 [04:03<03:17,  4.58it/s]"
     ]
    },
    {
     "name": "stdout",
     "output_type": "stream",
     "text": [
      "lab_wav_pairs/008879.wav 8 1.89 2.08 wai wan\n"
     ]
    },
    {
     "name": "stderr",
     "output_type": "stream",
     "text": [
      " 54%|█████▎    | 1043/1944 [04:03<04:08,  3.62it/s]"
     ]
    },
    {
     "name": "stdout",
     "output_type": "stream",
     "text": [
      "lab_wav_pairs/008632.wav 15 3.53 3.69 ke he\n",
      "lab_wav_pairs/008721.wav 4 1.02 1.2 ye yan\n"
     ]
    },
    {
     "name": "stderr",
     "output_type": "stream",
     "text": [
      " 54%|█████▍    | 1045/1944 [04:04<03:11,  4.71it/s]"
     ]
    },
    {
     "name": "stdout",
     "output_type": "stream",
     "text": [
      "lab_wav_pairs/008923.wav 1 0.56 0.73 de deng\n"
     ]
    },
    {
     "name": "stderr",
     "output_type": "stream",
     "text": [
      " 54%|█████▍    | 1050/1944 [04:05<03:11,  4.66it/s]"
     ]
    },
    {
     "name": "stdout",
     "output_type": "stream",
     "text": [
      "lab_wav_pairs/008071.wav 19 4.69 4.85 ben de\n"
     ]
    },
    {
     "name": "stderr",
     "output_type": "stream",
     "text": [
      " 54%|█████▍    | 1053/1944 [04:05<02:40,  5.56it/s]"
     ]
    },
    {
     "name": "stdout",
     "output_type": "stream",
     "text": [
      "lab_wav_pairs/009337.wav 2 0.61 0.77 gu guo\n"
     ]
    },
    {
     "name": "stderr",
     "output_type": "stream",
     "text": [
      " 54%|█████▍    | 1054/1944 [04:06<02:25,  6.10it/s]"
     ]
    },
    {
     "name": "stdout",
     "output_type": "stream",
     "text": [
      "lab_wav_pairs/009720.wav 0 0.28 0.46 jie ji\n"
     ]
    },
    {
     "name": "stderr",
     "output_type": "stream",
     "text": [
      " 54%|█████▍    | 1055/1944 [04:06<02:49,  5.25it/s]"
     ]
    },
    {
     "name": "stdout",
     "output_type": "stream",
     "text": [
      "lab_wav_pairs/009389.wav 6 1.79 1.98 qing jin\n"
     ]
    },
    {
     "name": "stderr",
     "output_type": "stream",
     "text": [
      " 54%|█████▍    | 1058/1944 [04:07<04:01,  3.68it/s]"
     ]
    },
    {
     "name": "stdout",
     "output_type": "stream",
     "text": [
      "lab_wav_pairs/008382.wav 21 5.24 5.43 yue yuan\n"
     ]
    },
    {
     "name": "stderr",
     "output_type": "stream",
     "text": [
      " 55%|█████▍    | 1060/1944 [04:07<03:41,  3.99it/s]"
     ]
    },
    {
     "name": "stdout",
     "output_type": "stream",
     "text": [
      "lab_wav_pairs/008524.wav 4 1.19 1.33 yan ren\n"
     ]
    },
    {
     "name": "stderr",
     "output_type": "stream",
     "text": [
      " 55%|█████▍    | 1062/1944 [04:08<03:57,  3.71it/s]"
     ]
    },
    {
     "name": "stdout",
     "output_type": "stream",
     "text": [
      "lab_wav_pairs/009479.wav 2 0.61 0.8 jian jin\n"
     ]
    },
    {
     "name": "stderr",
     "output_type": "stream",
     "text": [
      " 55%|█████▍    | 1063/1944 [04:08<03:50,  3.83it/s]"
     ]
    },
    {
     "name": "stdout",
     "output_type": "stream",
     "text": [
      "lab_wav_pairs/008263.wav 2 0.72 0.84 zhi zhun\n",
      "lab_wav_pairs/008263.wav 5 1.36 1.42 you hang\n"
     ]
    },
    {
     "name": "stderr",
     "output_type": "stream",
     "text": [
      " 55%|█████▍    | 1064/1944 [04:08<04:00,  3.66it/s]"
     ]
    },
    {
     "name": "stdout",
     "output_type": "stream",
     "text": [
      "lab_wav_pairs/008263.wav 15 3.29 3.48 yun yu\n"
     ]
    },
    {
     "name": "stderr",
     "output_type": "stream",
     "text": [
      " 55%|█████▍    | 1065/1944 [04:09<03:58,  3.69it/s]"
     ]
    },
    {
     "name": "stdout",
     "output_type": "stream",
     "text": [
      "lab_wav_pairs/008899.wav 2 0.73 0.94 bo bu\n"
     ]
    },
    {
     "name": "stderr",
     "output_type": "stream",
     "text": [
      " 55%|█████▍    | 1068/1944 [04:09<03:55,  3.72it/s]"
     ]
    },
    {
     "name": "stdout",
     "output_type": "stream",
     "text": [
      "lab_wav_pairs/008972.wav 20 4.08 4.23 yao yang\n"
     ]
    },
    {
     "name": "stderr",
     "output_type": "stream",
     "text": [
      " 55%|█████▌    | 1070/1944 [04:10<03:08,  4.63it/s]"
     ]
    },
    {
     "name": "stdout",
     "output_type": "stream",
     "text": [
      "lab_wav_pairs/008321.wav 9 2.81 2.99 wu wo\n"
     ]
    },
    {
     "name": "stderr",
     "output_type": "stream",
     "text": [
      " 55%|█████▌    | 1078/1944 [04:11<03:22,  4.28it/s]"
     ]
    },
    {
     "name": "stdout",
     "output_type": "stream",
     "text": [
      "lab_wav_pairs/008054.wav 16 3.87 4.07 lian lie\n"
     ]
    },
    {
     "name": "stderr",
     "output_type": "stream",
     "text": [
      " 56%|█████▌    | 1079/1944 [04:12<03:25,  4.21it/s]"
     ]
    },
    {
     "name": "stdout",
     "output_type": "stream",
     "text": [
      "lab_wav_pairs/009895.wav 10 2.32 2.52 xian xing\n"
     ]
    },
    {
     "name": "stderr",
     "output_type": "stream",
     "text": [
      " 56%|█████▌    | 1082/1944 [04:12<02:57,  4.86it/s]"
     ]
    },
    {
     "name": "stdout",
     "output_type": "stream",
     "text": [
      "lab_wav_pairs/009321.wav 8 2.24 2.41 lin ling\n",
      "lab_wav_pairs/008678.wav 2 0.74 0.92 men me\n",
      "lab_wav_pairs/008678.wav 4 1.1 1.25 gai gan\n"
     ]
    },
    {
     "name": "stderr",
     "output_type": "stream",
     "text": [
      " 56%|█████▌    | 1085/1944 [04:13<04:03,  3.53it/s]"
     ]
    },
    {
     "name": "stdout",
     "output_type": "stream",
     "text": [
      "lab_wav_pairs/009174.wav 11 3.04 3.25 ce cuan\n",
      "lab_wav_pairs/009174.wav 17 4.27 4.44 jin ji\n"
     ]
    },
    {
     "name": "stderr",
     "output_type": "stream",
     "text": [
      " 56%|█████▌    | 1087/1944 [04:14<03:44,  3.81it/s]"
     ]
    },
    {
     "name": "stdout",
     "output_type": "stream",
     "text": [
      "lab_wav_pairs/008650.wav 8 2.3 2.42 dan dai\n"
     ]
    },
    {
     "name": "stderr",
     "output_type": "stream",
     "text": [
      " 56%|█████▌    | 1088/1944 [04:14<03:44,  3.81it/s]"
     ]
    },
    {
     "name": "stdout",
     "output_type": "stream",
     "text": [
      "lab_wav_pairs/009001.wav 9 2.04 2.19 yi yu\n",
      "lab_wav_pairs/008975.wav 2 0.98 1.17 ji jin\n",
      "lab_wav_pairs/008975.wav 3 1.17 1.28 ye ri\n",
      "lab_wav_pairs/008975.wav 8 2.12 2.28 xing xin\n",
      "lab_wav_pairs/008975.wav 13 3.31 3.48 xie xin\n"
     ]
    },
    {
     "name": "stderr",
     "output_type": "stream",
     "text": [
      " 56%|█████▋    | 1096/1944 [04:16<03:47,  3.73it/s]"
     ]
    },
    {
     "name": "stdout",
     "output_type": "stream",
     "text": [
      "lab_wav_pairs/008157.wav 20 4.18 4.4 que qun\n"
     ]
    },
    {
     "name": "stderr",
     "output_type": "stream",
     "text": [
      " 57%|█████▋    | 1099/1944 [04:17<03:42,  3.80it/s]"
     ]
    },
    {
     "name": "stdout",
     "output_type": "stream",
     "text": [
      "lab_wav_pairs/008333.wav 7 1.54 1.79 ling lin\n"
     ]
    },
    {
     "name": "stderr",
     "output_type": "stream",
     "text": [
      " 57%|█████▋    | 1101/1944 [04:18<03:36,  3.89it/s]"
     ]
    },
    {
     "name": "stdout",
     "output_type": "stream",
     "text": [
      "lab_wav_pairs/009078.wav 9 2.08 2.26 yue yuan\n",
      "lab_wav_pairs/009396.wav 12 3.09 3.2 you ru\n"
     ]
    },
    {
     "name": "stderr",
     "output_type": "stream",
     "text": [
      " 57%|█████▋    | 1104/1944 [04:18<02:59,  4.68it/s]"
     ]
    },
    {
     "name": "stdout",
     "output_type": "stream",
     "text": [
      "lab_wav_pairs/009287.wav 2 0.68 0.8 de di\n"
     ]
    },
    {
     "name": "stderr",
     "output_type": "stream",
     "text": [
      " 57%|█████▋    | 1105/1944 [04:19<03:07,  4.47it/s]"
     ]
    },
    {
     "name": "stdout",
     "output_type": "stream",
     "text": [
      "lab_wav_pairs/008767.wav 4 1.33 1.53 shu shuo\n",
      "lab_wav_pairs/008767.wav 12 3.37 3.53 zhu zhong\n"
     ]
    },
    {
     "name": "stderr",
     "output_type": "stream",
     "text": [
      " 57%|█████▋    | 1107/1944 [04:19<02:51,  4.89it/s]"
     ]
    },
    {
     "name": "stdout",
     "output_type": "stream",
     "text": [
      "lab_wav_pairs/009792.wav 13 3.28 3.43 ji jie\n"
     ]
    },
    {
     "name": "stderr",
     "output_type": "stream",
     "text": [
      " 57%|█████▋    | 1113/1944 [04:20<03:11,  4.33it/s]"
     ]
    },
    {
     "name": "stdout",
     "output_type": "stream",
     "text": [
      "lab_wav_pairs/009994.wav 20 5.02 5.16 bei fen\n",
      "lab_wav_pairs/008209.wav 5 1.43 1.59 xiao xiang\n"
     ]
    },
    {
     "name": "stderr",
     "output_type": "stream",
     "text": [
      " 57%|█████▋    | 1116/1944 [04:21<02:57,  4.67it/s]"
     ]
    },
    {
     "name": "stdout",
     "output_type": "stream",
     "text": [
      "lab_wav_pairs/009608.wav 6 1.98 2.18 qian qie\n"
     ]
    },
    {
     "name": "stderr",
     "output_type": "stream",
     "text": [
      " 57%|█████▋    | 1117/1944 [04:21<03:32,  3.89it/s]"
     ]
    },
    {
     "name": "stdout",
     "output_type": "stream",
     "text": [
      "lab_wav_pairs/009095.wav 9 2.13 2.31 xi xing\n",
      "lab_wav_pairs/009095.wav 12 2.82 2.97 yong ru\n"
     ]
    },
    {
     "name": "stderr",
     "output_type": "stream",
     "text": [
      " 58%|█████▊    | 1118/1944 [04:21<03:11,  4.31it/s]"
     ]
    },
    {
     "name": "stdout",
     "output_type": "stream",
     "text": [
      "lab_wav_pairs/009556.wav 10 2.53 2.72 fan fa\n",
      "lab_wav_pairs/009556.wav 11 2.72 2.88 ran zhan\n",
      "lab_wav_pairs/009556.wav 22 5.14 5.34 bie bian\n"
     ]
    },
    {
     "name": "stderr",
     "output_type": "stream",
     "text": [
      " 58%|█████▊    | 1122/1944 [04:22<02:50,  4.84it/s]"
     ]
    },
    {
     "name": "stdout",
     "output_type": "stream",
     "text": [
      "lab_wav_pairs/008098.wav 9 1.97 2.04 de di\n"
     ]
    },
    {
     "name": "stderr",
     "output_type": "stream",
     "text": [
      " 58%|█████▊    | 1123/1944 [04:23<03:11,  4.29it/s]"
     ]
    },
    {
     "name": "stdout",
     "output_type": "stream",
     "text": [
      "lab_wav_pairs/008087.wav 15 3.42 3.62 guan gua\n",
      "lab_wav_pairs/008087.wav 18 3.89 4.07 ding dian\n",
      "lab_wav_pairs/008397.wav 1 0.62 0.78 hou hong\n"
     ]
    },
    {
     "name": "stderr",
     "output_type": "stream",
     "text": [
      " 58%|█████▊    | 1125/1944 [04:23<03:22,  4.05it/s]"
     ]
    },
    {
     "name": "stdout",
     "output_type": "stream",
     "text": [
      "lab_wav_pairs/009933.wav 10 2.34 2.61 lia liang\n",
      "lab_wav_pairs/009264.wav 6 1.53 1.77 lian lie\n"
     ]
    },
    {
     "name": "stderr",
     "output_type": "stream",
     "text": [
      " 58%|█████▊    | 1130/1944 [04:24<02:48,  4.82it/s]"
     ]
    },
    {
     "name": "stdout",
     "output_type": "stream",
     "text": [
      "lab_wav_pairs/008431.wav 9 2.28 2.42 fei fen\n",
      "lab_wav_pairs/009325.wav 1 0.48 0.72 yuan yun\n",
      "lab_wav_pairs/009325.wav 4 1.27 1.47 lin ling\n"
     ]
    },
    {
     "name": "stderr",
     "output_type": "stream",
     "text": [
      " 58%|█████▊    | 1133/1944 [04:25<02:52,  4.70it/s]"
     ]
    },
    {
     "name": "stdout",
     "output_type": "stream",
     "text": [
      "lab_wav_pairs/008262.wav 13 3.26 3.36 wen le\n",
      "lab_wav_pairs/008150.wav 10 2.52 2.69 jue ju\n"
     ]
    },
    {
     "name": "stderr",
     "output_type": "stream",
     "text": [
      " 58%|█████▊    | 1135/1944 [04:25<02:59,  4.52it/s]"
     ]
    },
    {
     "name": "stdout",
     "output_type": "stream",
     "text": [
      "lab_wav_pairs/008327.wav 2 0.66 0.92 lia liang\n",
      "lab_wav_pairs/009044.wav 2 0.64 0.86 sa fa\n"
     ]
    },
    {
     "name": "stderr",
     "output_type": "stream",
     "text": [
      " 58%|█████▊    | 1137/1944 [04:26<02:57,  4.54it/s]"
     ]
    },
    {
     "name": "stdout",
     "output_type": "stream",
     "text": [
      "lab_wav_pairs/009044.wav 17 3.99 4.19 rang ren\n",
      "lab_wav_pairs/008949.wav 2 0.68 0.85 mao meng\n"
     ]
    },
    {
     "name": "stderr",
     "output_type": "stream",
     "text": [
      " 59%|█████▊    | 1139/1944 [04:26<02:36,  5.16it/s]"
     ]
    },
    {
     "name": "stdout",
     "output_type": "stream",
     "text": [
      "lab_wav_pairs/009947.wav 4 1.27 1.41 du dou\n",
      "lab_wav_pairs/008202.wav 4 1.08 1.29 ting tian\n"
     ]
    },
    {
     "name": "stderr",
     "output_type": "stream",
     "text": [
      " 59%|█████▉    | 1148/1944 [04:29<04:16,  3.11it/s]"
     ]
    },
    {
     "name": "stdout",
     "output_type": "stream",
     "text": [
      "lab_wav_pairs/008981.wav 1 0.61 0.74 ren ri\n",
      "lab_wav_pairs/008981.wav 7 1.91 2.06 ze zen\n"
     ]
    },
    {
     "name": "stderr",
     "output_type": "stream",
     "text": [
      " 59%|█████▉    | 1151/1944 [04:30<03:56,  3.36it/s]"
     ]
    },
    {
     "name": "stdout",
     "output_type": "stream",
     "text": [
      "lab_wav_pairs/009904.wav 17 4.25 4.43 qi qin\n"
     ]
    },
    {
     "name": "stderr",
     "output_type": "stream",
     "text": [
      " 59%|█████▉    | 1153/1944 [04:30<04:34,  2.88it/s]"
     ]
    },
    {
     "name": "stdout",
     "output_type": "stream",
     "text": [
      "lab_wav_pairs/008151.wav 16 3.81 3.97 reng rou\n",
      "lab_wav_pairs/008151.wav 22 5.11 5.27 can cai\n"
     ]
    },
    {
     "name": "stderr",
     "output_type": "stream",
     "text": [
      " 59%|█████▉    | 1154/1944 [04:31<04:27,  2.95it/s]"
     ]
    },
    {
     "name": "stdout",
     "output_type": "stream",
     "text": [
      "lab_wav_pairs/009385.wav 11 2.4 2.51 de di\n",
      "lab_wav_pairs/008103.wav 3 1.26 1.4 yue yuan\n"
     ]
    },
    {
     "name": "stderr",
     "output_type": "stream",
     "text": [
      " 59%|█████▉    | 1155/1944 [04:31<04:18,  3.05it/s]"
     ]
    },
    {
     "name": "stdout",
     "output_type": "stream",
     "text": [
      "lab_wav_pairs/008103.wav 20 4.67 4.85 qian qie\n",
      "lab_wav_pairs/008866.wav 1 0.46 0.59 se sa\n",
      "lab_wav_pairs/008866.wav 2 0.59 0.71 ge ke\n"
     ]
    },
    {
     "name": "stderr",
     "output_type": "stream",
     "text": [
      " 59%|█████▉    | 1156/1944 [04:31<04:05,  3.21it/s]"
     ]
    },
    {
     "name": "stdout",
     "output_type": "stream",
     "text": [
      "lab_wav_pairs/008866.wav 12 2.72 2.9 ji jin\n",
      "lab_wav_pairs/008866.wav 17 3.67 4.0 pai tai\n",
      "lab_wav_pairs/008218.wav 4 1.06 1.29 chang zhang\n"
     ]
    },
    {
     "name": "stderr",
     "output_type": "stream",
     "text": [
      " 60%|█████▉    | 1158/1944 [04:32<03:11,  4.11it/s]"
     ]
    },
    {
     "name": "stdout",
     "output_type": "stream",
     "text": [
      "lab_wav_pairs/008218.wav 17 3.85 4.02 yuan yue\n"
     ]
    },
    {
     "name": "stderr",
     "output_type": "stream",
     "text": [
      " 60%|█████▉    | 1160/1944 [04:32<03:13,  4.05it/s]"
     ]
    },
    {
     "name": "stdout",
     "output_type": "stream",
     "text": [
      "lab_wav_pairs/008637.wav 9 2.25 2.36 men le\n",
      "lab_wav_pairs/008853.wav 0 0.31 0.44 di dian\n",
      "lab_wav_pairs/008853.wav 1 0.44 0.56 yi ying\n",
      "lab_wav_pairs/008853.wav 2 0.56 0.91 hua kua\n"
     ]
    },
    {
     "name": "stderr",
     "output_type": "stream",
     "text": [
      " 60%|█████▉    | 1162/1944 [04:33<02:51,  4.55it/s]"
     ]
    },
    {
     "name": "stdout",
     "output_type": "stream",
     "text": [
      "lab_wav_pairs/009016.wav 11 2.65 2.88 chou chao\n",
      "lab_wav_pairs/009016.wav 14 3.24 3.33 de di\n",
      "lab_wav_pairs/008226.wav 8 1.78 1.96 yuan yue\n"
     ]
    },
    {
     "name": "stderr",
     "output_type": "stream",
     "text": [
      " 60%|█████▉    | 1163/1944 [04:33<03:43,  3.49it/s]"
     ]
    },
    {
     "name": "stdout",
     "output_type": "stream",
     "text": [
      "lab_wav_pairs/008627.wav 1 0.47 0.6 zhi zhe\n"
     ]
    },
    {
     "name": "stderr",
     "output_type": "stream",
     "text": [
      " 60%|█████▉    | 1166/1944 [04:34<03:33,  3.64it/s]"
     ]
    },
    {
     "name": "stdout",
     "output_type": "stream",
     "text": [
      "lab_wav_pairs/008499.wav 5 1.35 1.54 cheng chao\n",
      "lab_wav_pairs/008499.wav 10 2.54 2.72 zhe zhui\n"
     ]
    },
    {
     "name": "stderr",
     "output_type": "stream",
     "text": [
      " 60%|██████    | 1167/1944 [04:34<04:06,  3.15it/s]"
     ]
    },
    {
     "name": "stdout",
     "output_type": "stream",
     "text": [
      "lab_wav_pairs/009734.wav 23 5.92 6.01 men me\n"
     ]
    },
    {
     "name": "stderr",
     "output_type": "stream",
     "text": [
      " 60%|██████    | 1171/1944 [04:35<03:03,  4.21it/s]"
     ]
    },
    {
     "name": "stdout",
     "output_type": "stream",
     "text": [
      "lab_wav_pairs/009490.wav 0 0.27 0.43 yin ying\n"
     ]
    },
    {
     "name": "stderr",
     "output_type": "stream",
     "text": [
      " 60%|██████    | 1172/1944 [04:35<03:39,  3.52it/s]"
     ]
    },
    {
     "name": "stdout",
     "output_type": "stream",
     "text": [
      "lab_wav_pairs/009490.wav 17 4.4 4.55 ji jin\n",
      "lab_wav_pairs/009490.wav 20 5.03 5.11 de di\n"
     ]
    },
    {
     "name": "stderr",
     "output_type": "stream",
     "text": [
      " 60%|██████    | 1176/1944 [04:37<04:18,  2.97it/s]"
     ]
    },
    {
     "name": "stdout",
     "output_type": "stream",
     "text": [
      "lab_wav_pairs/008378.wav 10 2.72 2.87 geng gou\n",
      "lab_wav_pairs/008378.wav 20 4.97 5.12 men mei\n"
     ]
    },
    {
     "name": "stderr",
     "output_type": "stream",
     "text": [
      " 61%|██████    | 1178/1944 [04:38<03:52,  3.30it/s]"
     ]
    },
    {
     "name": "stdout",
     "output_type": "stream",
     "text": [
      "lab_wav_pairs/008228.wav 15 3.75 3.99 tuo tu\n",
      "lab_wav_pairs/008228.wav 18 4.37 4.54 qu qun\n"
     ]
    },
    {
     "name": "stderr",
     "output_type": "stream",
     "text": [
      " 61%|██████    | 1181/1944 [04:39<04:10,  3.05it/s]"
     ]
    },
    {
     "name": "stdout",
     "output_type": "stream",
     "text": [
      "lab_wav_pairs/009014.wav 9 2.13 2.21 de di\n"
     ]
    },
    {
     "name": "stderr",
     "output_type": "stream",
     "text": [
      " 61%|██████    | 1185/1944 [04:40<03:50,  3.30it/s]"
     ]
    },
    {
     "name": "stdout",
     "output_type": "stream",
     "text": [
      "lab_wav_pairs/009846.wav 9 2.59 2.73 jie ji\n"
     ]
    },
    {
     "name": "stderr",
     "output_type": "stream",
     "text": [
      " 61%|██████    | 1186/1944 [04:40<03:37,  3.49it/s]"
     ]
    },
    {
     "name": "stdout",
     "output_type": "stream",
     "text": [
      "lab_wav_pairs/008089.wav 5 1.29 1.52 ta pa\n"
     ]
    },
    {
     "name": "stderr",
     "output_type": "stream",
     "text": [
      " 61%|██████    | 1190/1944 [04:41<02:38,  4.75it/s]"
     ]
    },
    {
     "name": "stdout",
     "output_type": "stream",
     "text": [
      "lab_wav_pairs/009256.wav 8 1.95 2.17 chang cheng\n",
      "lab_wav_pairs/009354.wav 2 1.05 1.2 ying yu\n"
     ]
    },
    {
     "name": "stderr",
     "output_type": "stream",
     "text": [
      " 61%|██████▏   | 1191/1944 [04:41<03:13,  3.90it/s]"
     ]
    },
    {
     "name": "stdout",
     "output_type": "stream",
     "text": [
      "lab_wav_pairs/009354.wav 13 3.23 3.33 le lei\n"
     ]
    },
    {
     "name": "stderr",
     "output_type": "stream",
     "text": [
      " 61%|██████▏   | 1193/1944 [04:42<03:37,  3.45it/s]"
     ]
    },
    {
     "name": "stdout",
     "output_type": "stream",
     "text": [
      "lab_wav_pairs/009015.wav 3 0.98 1.24 yi yu\n"
     ]
    },
    {
     "name": "stderr",
     "output_type": "stream",
     "text": [
      " 62%|██████▏   | 1201/1944 [04:44<02:48,  4.40it/s]"
     ]
    },
    {
     "name": "stdout",
     "output_type": "stream",
     "text": [
      "lab_wav_pairs/009447.wav 0 0.28 0.48 san sen\n",
      "lab_wav_pairs/009447.wav 2 0.67 0.81 guo gong\n"
     ]
    },
    {
     "name": "stderr",
     "output_type": "stream",
     "text": [
      " 62%|██████▏   | 1202/1944 [04:44<02:38,  4.68it/s]"
     ]
    },
    {
     "name": "stdout",
     "output_type": "stream",
     "text": [
      "lab_wav_pairs/008928.wav 5 1.49 1.65 lang lao\n",
      "lab_wav_pairs/008928.wav 17 4.12 4.37 ze zi\n"
     ]
    },
    {
     "name": "stderr",
     "output_type": "stream",
     "text": [
      " 62%|██████▏   | 1203/1944 [04:44<03:06,  3.97it/s]"
     ]
    },
    {
     "name": "stdout",
     "output_type": "stream",
     "text": [
      "lab_wav_pairs/008928.wav 23 5.55 5.71 huo huang\n",
      "lab_wav_pairs/008030.wav 6 1.59 1.77 si su\n"
     ]
    },
    {
     "name": "stderr",
     "output_type": "stream",
     "text": [
      " 62%|██████▏   | 1204/1944 [04:45<03:37,  3.41it/s]"
     ]
    },
    {
     "name": "stdout",
     "output_type": "stream",
     "text": [
      "lab_wav_pairs/008030.wav 14 3.48 3.63 de dan\n"
     ]
    },
    {
     "name": "stderr",
     "output_type": "stream",
     "text": [
      " 62%|██████▏   | 1205/1944 [04:45<03:40,  3.36it/s]"
     ]
    },
    {
     "name": "stdout",
     "output_type": "stream",
     "text": [
      "lab_wav_pairs/009486.wav 12 3.2 3.44 tuo tu\n",
      "lab_wav_pairs/009486.wav 19 4.73 4.87 yao you\n"
     ]
    },
    {
     "name": "stderr",
     "output_type": "stream",
     "text": [
      " 62%|██████▏   | 1206/1944 [04:45<04:03,  3.03it/s]"
     ]
    },
    {
     "name": "stdout",
     "output_type": "stream",
     "text": [
      "lab_wav_pairs/008941.wav 16 3.94 4.14 guan guai\n"
     ]
    },
    {
     "name": "stderr",
     "output_type": "stream",
     "text": [
      " 63%|██████▎   | 1218/1944 [04:49<03:11,  3.78it/s]"
     ]
    },
    {
     "name": "stdout",
     "output_type": "stream",
     "text": [
      "lab_wav_pairs/008567.wav 21 4.65 4.87 gen geng\n"
     ]
    },
    {
     "name": "stderr",
     "output_type": "stream",
     "text": [
      " 63%|██████▎   | 1219/1944 [04:49<02:54,  4.15it/s]"
     ]
    },
    {
     "name": "stdout",
     "output_type": "stream",
     "text": [
      "lab_wav_pairs/008573.wav 6 1.78 1.98 kai kan\n",
      "lab_wav_pairs/008573.wav 9 2.55 2.74 chu chuo\n"
     ]
    },
    {
     "name": "stderr",
     "output_type": "stream",
     "text": [
      " 63%|██████▎   | 1224/1944 [04:50<03:03,  3.91it/s]"
     ]
    },
    {
     "name": "stdout",
     "output_type": "stream",
     "text": [
      "lab_wav_pairs/008261.wav 6 1.85 2.0 ni nv\n",
      "lab_wav_pairs/008271.wav 2 0.93 1.13 xin xu\n",
      "lab_wav_pairs/008271.wav 3 1.13 1.31 jie jin\n"
     ]
    },
    {
     "name": "stderr",
     "output_type": "stream",
     "text": [
      " 63%|██████▎   | 1227/1944 [04:51<03:59,  2.99it/s]"
     ]
    },
    {
     "name": "stdout",
     "output_type": "stream",
     "text": [
      "lab_wav_pairs/009459.wav 15 4.04 4.13 an nian\n"
     ]
    },
    {
     "name": "stderr",
     "output_type": "stream",
     "text": [
      " 63%|██████▎   | 1233/1944 [04:53<02:47,  4.25it/s]"
     ]
    },
    {
     "name": "stdout",
     "output_type": "stream",
     "text": [
      "lab_wav_pairs/008819.wav 21 5.21 5.36 yin ying\n",
      "lab_wav_pairs/009808.wav 4 1.07 1.28 pai pan\n"
     ]
    },
    {
     "name": "stderr",
     "output_type": "stream",
     "text": [
      " 64%|██████▎   | 1235/1944 [04:53<02:26,  4.85it/s]"
     ]
    },
    {
     "name": "stdout",
     "output_type": "stream",
     "text": [
      "lab_wav_pairs/009832.wav 3 1.14 1.4 jin jun\n"
     ]
    },
    {
     "name": "stderr",
     "output_type": "stream",
     "text": [
      " 64%|██████▎   | 1237/1944 [04:53<02:41,  4.37it/s]"
     ]
    },
    {
     "name": "stdout",
     "output_type": "stream",
     "text": [
      "lab_wav_pairs/008801.wav 15 4.06 4.22 zhe zhen\n"
     ]
    },
    {
     "name": "stderr",
     "output_type": "stream",
     "text": [
      " 64%|██████▎   | 1239/1944 [04:54<02:48,  4.19it/s]"
     ]
    },
    {
     "name": "stdout",
     "output_type": "stream",
     "text": [
      "lab_wav_pairs/009742.wav 4 0.92 1.0 de di\n"
     ]
    },
    {
     "name": "stderr",
     "output_type": "stream",
     "text": [
      " 64%|██████▍   | 1241/1944 [04:54<02:31,  4.65it/s]"
     ]
    },
    {
     "name": "stdout",
     "output_type": "stream",
     "text": [
      "lab_wav_pairs/009883.wav 10 2.34 2.55 zhang chang\n"
     ]
    },
    {
     "name": "stderr",
     "output_type": "stream",
     "text": [
      " 64%|██████▍   | 1247/1944 [04:55<02:02,  5.69it/s]"
     ]
    },
    {
     "name": "stdout",
     "output_type": "stream",
     "text": [
      "lab_wav_pairs/008647.wav 0 0.29 0.41 yin ni\n"
     ]
    },
    {
     "name": "stderr",
     "output_type": "stream",
     "text": [
      " 64%|██████▍   | 1248/1944 [04:55<02:12,  5.24it/s]"
     ]
    },
    {
     "name": "stdout",
     "output_type": "stream",
     "text": [
      "lab_wav_pairs/009491.wav 0 0.29 0.36 a er\n"
     ]
    },
    {
     "name": "stderr",
     "output_type": "stream",
     "text": [
      " 64%|██████▍   | 1249/1944 [04:56<02:29,  4.66it/s]"
     ]
    },
    {
     "name": "stdout",
     "output_type": "stream",
     "text": [
      "lab_wav_pairs/008930.wav 6 1.33 1.55 tou tong\n"
     ]
    },
    {
     "name": "stderr",
     "output_type": "stream",
     "text": [
      " 64%|██████▍   | 1251/1944 [04:56<03:03,  3.79it/s]"
     ]
    },
    {
     "name": "stdout",
     "output_type": "stream",
     "text": [
      "lab_wav_pairs/008877.wav 8 2.19 2.34 dai tai\n",
      "lab_wav_pairs/008877.wav 13 3.26 3.44 dao dang\n"
     ]
    },
    {
     "name": "stderr",
     "output_type": "stream",
     "text": [
      " 64%|██████▍   | 1252/1944 [04:57<02:59,  3.86it/s]"
     ]
    },
    {
     "name": "stdout",
     "output_type": "stream",
     "text": [
      "lab_wav_pairs/008579.wav 6 1.59 1.74 tou tong\n"
     ]
    },
    {
     "name": "stderr",
     "output_type": "stream",
     "text": [
      " 65%|██████▍   | 1254/1944 [04:57<02:53,  3.97it/s]"
     ]
    },
    {
     "name": "stdout",
     "output_type": "stream",
     "text": [
      "lab_wav_pairs/009790.wav 15 3.76 3.83 ang zhao\n"
     ]
    },
    {
     "name": "stderr",
     "output_type": "stream",
     "text": [
      " 65%|██████▍   | 1256/1944 [04:58<02:48,  4.09it/s]"
     ]
    },
    {
     "name": "stdout",
     "output_type": "stream",
     "text": [
      "lab_wav_pairs/008255.wav 6 1.66 1.84 ni ning\n",
      "lab_wav_pairs/008255.wav 13 3.12 3.32 min ming\n",
      "lab_wav_pairs/008826.wav 7 1.97 2.12 hu hui\n"
     ]
    },
    {
     "name": "stderr",
     "output_type": "stream",
     "text": [
      " 65%|██████▍   | 1258/1944 [04:58<02:14,  5.11it/s]"
     ]
    },
    {
     "name": "stdout",
     "output_type": "stream",
     "text": [
      "lab_wav_pairs/008826.wav 10 2.38 2.49 you yong\n",
      "lab_wav_pairs/008826.wav 12 2.78 3.0 ze zi\n"
     ]
    },
    {
     "name": "stderr",
     "output_type": "stream",
     "text": [
      " 65%|██████▍   | 1261/1944 [04:59<02:43,  4.17it/s]"
     ]
    },
    {
     "name": "stdout",
     "output_type": "stream",
     "text": [
      "lab_wav_pairs/008586.wav 4 1.21 1.39 ceng zeng\n"
     ]
    },
    {
     "name": "stderr",
     "output_type": "stream",
     "text": [
      " 65%|██████▌   | 1265/1944 [05:00<02:27,  4.60it/s]"
     ]
    },
    {
     "name": "stdout",
     "output_type": "stream",
     "text": [
      "lab_wav_pairs/009268.wav 4 1.0 1.17 xian xing\n",
      "lab_wav_pairs/009268.wav 5 1.17 1.32 ying you\n",
      "lab_wav_pairs/008514.wav 5 1.17 1.28 de da\n",
      "lab_wav_pairs/008514.wav 8 1.63 1.84 nan nai\n"
     ]
    },
    {
     "name": "stderr",
     "output_type": "stream",
     "text": [
      " 65%|██████▌   | 1267/1944 [05:00<02:13,  5.05it/s]"
     ]
    },
    {
     "name": "stdout",
     "output_type": "stream",
     "text": [
      "lab_wav_pairs/009980.wav 9 2.0 2.15 yu yi\n"
     ]
    },
    {
     "name": "stderr",
     "output_type": "stream",
     "text": [
      " 65%|██████▌   | 1269/1944 [05:00<02:08,  5.24it/s]"
     ]
    },
    {
     "name": "stdout",
     "output_type": "stream",
     "text": [
      "lab_wav_pairs/008440.wav 8 1.94 2.08 dao dang\n"
     ]
    },
    {
     "name": "stderr",
     "output_type": "stream",
     "text": [
      " 65%|██████▌   | 1272/1944 [05:01<02:19,  4.81it/s]"
     ]
    },
    {
     "name": "stdout",
     "output_type": "stream",
     "text": [
      "lab_wav_pairs/008540.wav 8 1.9 2.04 bai ban\n",
      "lab_wav_pairs/008540.wav 9 2.04 2.21 yu yun\n"
     ]
    },
    {
     "name": "stderr",
     "output_type": "stream",
     "text": [
      " 65%|██████▌   | 1273/1944 [05:01<02:29,  4.48it/s]"
     ]
    },
    {
     "name": "stdout",
     "output_type": "stream",
     "text": [
      "lab_wav_pairs/009768.wav 10 2.23 2.41 zou zong\n"
     ]
    },
    {
     "name": "stderr",
     "output_type": "stream",
     "text": [
      " 66%|██████▌   | 1274/1944 [05:01<02:22,  4.71it/s]"
     ]
    },
    {
     "name": "stdout",
     "output_type": "stream",
     "text": [
      "lab_wav_pairs/008288.wav 7 1.7 1.77 de le\n"
     ]
    },
    {
     "name": "stderr",
     "output_type": "stream",
     "text": [
      " 66%|██████▌   | 1275/1944 [05:02<02:50,  3.92it/s]"
     ]
    },
    {
     "name": "stdout",
     "output_type": "stream",
     "text": [
      "lab_wav_pairs/009204.wav 17 4.31 4.5 jing jin\n"
     ]
    },
    {
     "name": "stderr",
     "output_type": "stream",
     "text": [
      " 66%|██████▌   | 1277/1944 [05:03<03:26,  3.24it/s]"
     ]
    },
    {
     "name": "stdout",
     "output_type": "stream",
     "text": [
      "lab_wav_pairs/009331.wav 20 4.07 4.23 dang dao\n",
      "lab_wav_pairs/009331.wav 22 4.37 4.49 me men\n"
     ]
    },
    {
     "name": "stderr",
     "output_type": "stream",
     "text": [
      " 66%|██████▌   | 1282/1944 [05:04<02:31,  4.37it/s]"
     ]
    },
    {
     "name": "stdout",
     "output_type": "stream",
     "text": [
      "lab_wav_pairs/008457.wav 10 2.34 2.49 ju jun\n",
      "lab_wav_pairs/008127.wav 9 2.22 2.34 ji jue\n"
     ]
    },
    {
     "name": "stderr",
     "output_type": "stream",
     "text": [
      " 66%|██████▌   | 1283/1944 [05:04<02:22,  4.63it/s]"
     ]
    },
    {
     "name": "stdout",
     "output_type": "stream",
     "text": [
      "lab_wav_pairs/009738.wav 7 1.7 1.77 de di\n"
     ]
    },
    {
     "name": "stderr",
     "output_type": "stream",
     "text": [
      " 66%|██████▌   | 1285/1944 [05:04<02:40,  4.10it/s]"
     ]
    },
    {
     "name": "stdout",
     "output_type": "stream",
     "text": [
      "lab_wav_pairs/008049.wav 8 2.07 2.23 ran ren\n"
     ]
    },
    {
     "name": "stderr",
     "output_type": "stream",
     "text": [
      " 66%|██████▌   | 1286/1944 [05:05<02:35,  4.23it/s]"
     ]
    },
    {
     "name": "stdout",
     "output_type": "stream",
     "text": [
      "lab_wav_pairs/009899.wav 7 1.65 1.83 shui shun\n",
      "lab_wav_pairs/009899.wav 9 2.01 2.12 de di\n"
     ]
    },
    {
     "name": "stderr",
     "output_type": "stream",
     "text": [
      " 66%|██████▋   | 1288/1944 [05:05<03:04,  3.55it/s]"
     ]
    },
    {
     "name": "stdout",
     "output_type": "stream",
     "text": [
      "lab_wav_pairs/008236.wav 15 3.3 3.49 hua huang\n",
      "lab_wav_pairs/009802.wav 0 0.27 0.45 wen wan\n"
     ]
    },
    {
     "name": "stderr",
     "output_type": "stream",
     "text": [
      " 66%|██████▋   | 1290/1944 [05:06<03:01,  3.61it/s]"
     ]
    },
    {
     "name": "stdout",
     "output_type": "stream",
     "text": [
      "lab_wav_pairs/008932.wav 15 3.57 3.76 xiao jiao\n"
     ]
    },
    {
     "name": "stderr",
     "output_type": "stream",
     "text": [
      " 67%|██████▋   | 1293/1944 [05:07<03:13,  3.37it/s]"
     ]
    },
    {
     "name": "stdout",
     "output_type": "stream",
     "text": [
      "lab_wav_pairs/008646.wav 10 2.8 2.94 le luo\n"
     ]
    },
    {
     "name": "stderr",
     "output_type": "stream",
     "text": [
      " 67%|██████▋   | 1297/1944 [05:08<02:32,  4.25it/s]"
     ]
    },
    {
     "name": "stdout",
     "output_type": "stream",
     "text": [
      "lab_wav_pairs/008649.wav 8 1.96 2.13 ying yi\n",
      "lab_wav_pairs/008308.wav 3 0.98 1.15 bai pai\n"
     ]
    },
    {
     "name": "stderr",
     "output_type": "stream",
     "text": [
      " 67%|██████▋   | 1300/1944 [05:08<02:44,  3.91it/s]"
     ]
    },
    {
     "name": "stdout",
     "output_type": "stream",
     "text": [
      "lab_wav_pairs/008409.wav 5 1.83 1.93 bing bi\n",
      "lab_wav_pairs/008409.wav 11 2.84 3.01 zhu zhuo\n",
      "lab_wav_pairs/008409.wav 12 3.01 3.26 xiang xia\n"
     ]
    },
    {
     "name": "stderr",
     "output_type": "stream",
     "text": [
      " 67%|██████▋   | 1302/1944 [05:09<02:47,  3.82it/s]"
     ]
    },
    {
     "name": "stdout",
     "output_type": "stream",
     "text": [
      "lab_wav_pairs/009634.wav 10 2.63 2.71 de di\n"
     ]
    },
    {
     "name": "stderr",
     "output_type": "stream",
     "text": [
      " 67%|██████▋   | 1303/1944 [05:09<02:46,  3.86it/s]"
     ]
    },
    {
     "name": "stdout",
     "output_type": "stream",
     "text": [
      "lab_wav_pairs/009217.wav 14 3.63 3.89 cu cuo\n",
      "lab_wav_pairs/008606.wav 10 2.3 2.42 yuan yue\n"
     ]
    },
    {
     "name": "stderr",
     "output_type": "stream",
     "text": [
      " 67%|██████▋   | 1304/1944 [05:10<02:47,  3.82it/s]"
     ]
    },
    {
     "name": "stdout",
     "output_type": "stream",
     "text": [
      "lab_wav_pairs/008606.wav 16 3.53 3.67 xing xin\n"
     ]
    },
    {
     "name": "stderr",
     "output_type": "stream",
     "text": [
      " 67%|██████▋   | 1306/1944 [05:10<02:42,  3.94it/s]"
     ]
    },
    {
     "name": "stdout",
     "output_type": "stream",
     "text": [
      "lab_wav_pairs/008117.wav 4 1.19 1.34 mi min\n",
      "lab_wav_pairs/009203.wav 1 0.46 0.6 su song\n"
     ]
    },
    {
     "name": "stderr",
     "output_type": "stream",
     "text": [
      " 67%|██████▋   | 1308/1944 [05:11<02:56,  3.61it/s]"
     ]
    },
    {
     "name": "stdout",
     "output_type": "stream",
     "text": [
      "lab_wav_pairs/008230.wav 16 4.04 4.2 cun ceng\n"
     ]
    },
    {
     "name": "stderr",
     "output_type": "stream",
     "text": [
      " 67%|██████▋   | 1310/1944 [05:11<02:47,  3.79it/s]"
     ]
    },
    {
     "name": "stdout",
     "output_type": "stream",
     "text": [
      "lab_wav_pairs/008536.wav 9 2.05 2.18 dou dong\n"
     ]
    },
    {
     "name": "stderr",
     "output_type": "stream",
     "text": [
      " 68%|██████▊   | 1315/1944 [05:12<02:25,  4.33it/s]"
     ]
    },
    {
     "name": "stdout",
     "output_type": "stream",
     "text": [
      "lab_wav_pairs/008084.wav 0 0.37 0.5 wen wei\n"
     ]
    },
    {
     "name": "stderr",
     "output_type": "stream",
     "text": [
      " 68%|██████▊   | 1317/1944 [05:13<02:56,  3.55it/s]"
     ]
    },
    {
     "name": "stdout",
     "output_type": "stream",
     "text": [
      "lab_wav_pairs/008548.wav 10 2.86 2.94 de di\n"
     ]
    },
    {
     "name": "stderr",
     "output_type": "stream",
     "text": [
      " 68%|██████▊   | 1319/1944 [05:14<02:50,  3.66it/s]"
     ]
    },
    {
     "name": "stdout",
     "output_type": "stream",
     "text": [
      "lab_wav_pairs/008186.wav 9 2.44 2.5 de bu\n"
     ]
    },
    {
     "name": "stderr",
     "output_type": "stream",
     "text": [
      " 68%|██████▊   | 1325/1944 [05:15<01:52,  5.52it/s]"
     ]
    },
    {
     "name": "stdout",
     "output_type": "stream",
     "text": [
      "lab_wav_pairs/008341.wav 7 1.62 1.83 min ming\n"
     ]
    },
    {
     "name": "stderr",
     "output_type": "stream",
     "text": [
      " 68%|██████▊   | 1326/1944 [05:15<01:56,  5.29it/s]"
     ]
    },
    {
     "name": "stdout",
     "output_type": "stream",
     "text": [
      "lab_wav_pairs/009530.wav 6 1.75 1.93 zhong zheng\n",
      "lab_wav_pairs/009153.wav 7 1.64 1.77 gen ge\n"
     ]
    },
    {
     "name": "stderr",
     "output_type": "stream",
     "text": [
      " 69%|██████▊   | 1335/1944 [05:16<01:50,  5.51it/s]"
     ]
    },
    {
     "name": "stdout",
     "output_type": "stream",
     "text": [
      "lab_wav_pairs/008884.wav 6 1.62 1.8 lun ne\n",
      "lab_wav_pairs/008884.wav 15 3.68 3.88 pai tai\n"
     ]
    },
    {
     "name": "stderr",
     "output_type": "stream",
     "text": [
      " 69%|██████▉   | 1337/1944 [05:17<01:45,  5.74it/s]"
     ]
    },
    {
     "name": "stdout",
     "output_type": "stream",
     "text": [
      "lab_wav_pairs/008044.wav 15 3.77 3.91 lei li\n"
     ]
    },
    {
     "name": "stderr",
     "output_type": "stream",
     "text": [
      " 69%|██████▉   | 1339/1944 [05:17<01:43,  5.82it/s]"
     ]
    },
    {
     "name": "stdout",
     "output_type": "stream",
     "text": [
      "lab_wav_pairs/008045.wav 9 2.01 2.23 shun shuan\n",
      "lab_wav_pairs/009920.wav 9 2.53 2.66 ban bai\n"
     ]
    },
    {
     "name": "stderr",
     "output_type": "stream",
     "text": [
      " 69%|██████▉   | 1340/1944 [05:18<02:14,  4.49it/s]"
     ]
    },
    {
     "name": "stdout",
     "output_type": "stream",
     "text": [
      "lab_wav_pairs/009920.wav 24 5.51 5.68 xia xiao\n"
     ]
    },
    {
     "name": "stderr",
     "output_type": "stream",
     "text": [
      " 69%|██████▉   | 1344/1944 [05:18<02:00,  4.99it/s]"
     ]
    },
    {
     "name": "stdout",
     "output_type": "stream",
     "text": [
      "lab_wav_pairs/008411.wav 19 4.96 5.17 di li\n",
      "lab_wav_pairs/008588.wav 2 0.65 0.81 gai gan\n",
      "lab_wav_pairs/008588.wav 11 2.36 2.48 du duo\n"
     ]
    },
    {
     "name": "stderr",
     "output_type": "stream",
     "text": [
      " 69%|██████▉   | 1346/1944 [05:19<02:10,  4.60it/s]"
     ]
    },
    {
     "name": "stdout",
     "output_type": "stream",
     "text": [
      "lab_wav_pairs/008551.wav 8 2.21 2.36 nuan luan\n"
     ]
    },
    {
     "name": "stderr",
     "output_type": "stream",
     "text": [
      " 69%|██████▉   | 1348/1944 [05:19<02:23,  4.15it/s]"
     ]
    },
    {
     "name": "stdout",
     "output_type": "stream",
     "text": [
      "lab_wav_pairs/009575.wav 15 3.66 3.81 sa fan\n",
      "lab_wav_pairs/008088.wav 0 0.41 0.57 nie nian\n"
     ]
    },
    {
     "name": "stderr",
     "output_type": "stream",
     "text": [
      " 69%|██████▉   | 1350/1944 [05:20<02:06,  4.68it/s]"
     ]
    },
    {
     "name": "stdout",
     "output_type": "stream",
     "text": [
      "lab_wav_pairs/008088.wav 17 3.75 3.96 xing xin\n"
     ]
    },
    {
     "name": "stderr",
     "output_type": "stream",
     "text": [
      " 70%|██████▉   | 1353/1944 [05:20<01:55,  5.12it/s]"
     ]
    },
    {
     "name": "stdout",
     "output_type": "stream",
     "text": [
      "lab_wav_pairs/008313.wav 5 1.3 1.48 zhuang zhua\n"
     ]
    },
    {
     "name": "stderr",
     "output_type": "stream",
     "text": [
      " 70%|██████▉   | 1354/1944 [05:20<02:01,  4.85it/s]"
     ]
    },
    {
     "name": "stdout",
     "output_type": "stream",
     "text": [
      "lab_wav_pairs/009839.wav 17 4.09 4.32 jiu jing\n"
     ]
    },
    {
     "name": "stderr",
     "output_type": "stream",
     "text": [
      " 70%|██████▉   | 1358/1944 [05:21<01:48,  5.39it/s]"
     ]
    },
    {
     "name": "stdout",
     "output_type": "stream",
     "text": [
      "lab_wav_pairs/008332.wav 5 1.7 1.87 nan nai\n"
     ]
    },
    {
     "name": "stderr",
     "output_type": "stream",
     "text": [
      " 70%|██████▉   | 1359/1944 [05:22<02:07,  4.60it/s]"
     ]
    },
    {
     "name": "stdout",
     "output_type": "stream",
     "text": [
      "lab_wav_pairs/009360.wav 21 4.81 4.97 ji jin\n"
     ]
    },
    {
     "name": "stderr",
     "output_type": "stream",
     "text": [
      " 70%|███████   | 1362/1944 [05:22<02:26,  3.96it/s]"
     ]
    },
    {
     "name": "stdout",
     "output_type": "stream",
     "text": [
      "lab_wav_pairs/008140.wav 13 3.78 3.94 wo wen\n"
     ]
    },
    {
     "name": "stderr",
     "output_type": "stream",
     "text": [
      " 70%|███████   | 1365/1944 [05:23<02:16,  4.25it/s]"
     ]
    },
    {
     "name": "stdout",
     "output_type": "stream",
     "text": [
      "lab_wav_pairs/008025.wav 11 2.91 3.02 men de\n"
     ]
    },
    {
     "name": "stderr",
     "output_type": "stream",
     "text": [
      " 70%|███████   | 1367/1944 [05:23<01:59,  4.82it/s]"
     ]
    },
    {
     "name": "stdout",
     "output_type": "stream",
     "text": [
      "lab_wav_pairs/008957.wav 7 1.68 1.85 cheng che\n",
      "lab_wav_pairs/009202.wav 4 1.5 1.72 pu piao\n",
      "lab_wav_pairs/009202.wav 10 3.03 3.29 qing qin\n"
     ]
    },
    {
     "name": "stderr",
     "output_type": "stream",
     "text": [
      " 70%|███████   | 1369/1944 [05:24<02:11,  4.38it/s]"
     ]
    },
    {
     "name": "stdout",
     "output_type": "stream",
     "text": [
      "lab_wav_pairs/008929.wav 20 5.53 5.72 po pu\n"
     ]
    },
    {
     "name": "stderr",
     "output_type": "stream",
     "text": [
      " 71%|███████   | 1371/1944 [05:24<02:13,  4.28it/s]"
     ]
    },
    {
     "name": "stdout",
     "output_type": "stream",
     "text": [
      "lab_wav_pairs/008158.wav 5 1.4 1.6 ceng zeng\n",
      "lab_wav_pairs/008158.wav 14 3.49 3.69 mao mang\n"
     ]
    },
    {
     "name": "stderr",
     "output_type": "stream",
     "text": [
      " 71%|███████   | 1373/1944 [05:25<02:11,  4.36it/s]"
     ]
    },
    {
     "name": "stdout",
     "output_type": "stream",
     "text": [
      "lab_wav_pairs/009169.wav 18 4.53 4.68 guo gong\n"
     ]
    },
    {
     "name": "stderr",
     "output_type": "stream",
     "text": [
      " 71%|███████   | 1375/1944 [05:25<02:04,  4.57it/s]"
     ]
    },
    {
     "name": "stdout",
     "output_type": "stream",
     "text": [
      "lab_wav_pairs/008297.wav 15 3.4 3.55 de deng\n",
      "lab_wav_pairs/008396.wav 5 1.56 1.8 pou peng\n"
     ]
    },
    {
     "name": "stderr",
     "output_type": "stream",
     "text": [
      " 71%|███████   | 1379/1944 [05:26<02:03,  4.59it/s]"
     ]
    },
    {
     "name": "stdout",
     "output_type": "stream",
     "text": [
      "lab_wav_pairs/008963.wav 4 1.37 1.54 qian jian\n",
      "lab_wav_pairs/008963.wav 11 2.75 2.91 de ben\n"
     ]
    },
    {
     "name": "stderr",
     "output_type": "stream",
     "text": [
      " 71%|███████   | 1380/1944 [05:26<02:10,  4.34it/s]"
     ]
    },
    {
     "name": "stdout",
     "output_type": "stream",
     "text": [
      "lab_wav_pairs/009585.wav 13 3.28 3.35 de di\n",
      "lab_wav_pairs/009585.wav 14 3.41 3.52 qi qiang\n"
     ]
    },
    {
     "name": "stderr",
     "output_type": "stream",
     "text": [
      " 71%|███████   | 1383/1944 [05:27<02:20,  4.00it/s]"
     ]
    },
    {
     "name": "stdout",
     "output_type": "stream",
     "text": [
      "lab_wav_pairs/009003.wav 12 2.6 2.77 jing jin\n"
     ]
    },
    {
     "name": "stderr",
     "output_type": "stream",
     "text": [
      " 71%|███████   | 1385/1944 [05:28<02:26,  3.83it/s]"
     ]
    },
    {
     "name": "stdout",
     "output_type": "stream",
     "text": [
      "lab_wav_pairs/009553.wav 2 0.66 0.82 ji jing\n",
      "lab_wav_pairs/008152.wav 2 0.78 1.0 tian tie\n"
     ]
    },
    {
     "name": "stderr",
     "output_type": "stream",
     "text": [
      " 71%|███████▏  | 1387/1944 [05:28<02:34,  3.59it/s]"
     ]
    },
    {
     "name": "stdout",
     "output_type": "stream",
     "text": [
      "lab_wav_pairs/009796.wav 11 2.78 2.92 nian ni\n"
     ]
    },
    {
     "name": "stderr",
     "output_type": "stream",
     "text": [
      " 72%|███████▏  | 1392/1944 [05:29<01:59,  4.63it/s]"
     ]
    },
    {
     "name": "stdout",
     "output_type": "stream",
     "text": [
      "lab_wav_pairs/010000.wav 14 3.49 3.71 chang chan\n"
     ]
    },
    {
     "name": "stderr",
     "output_type": "stream",
     "text": [
      " 72%|███████▏  | 1396/1944 [05:30<01:51,  4.93it/s]"
     ]
    },
    {
     "name": "stdout",
     "output_type": "stream",
     "text": [
      "lab_wav_pairs/008435.wav 1 0.5 0.67 duo dou\n",
      "lab_wav_pairs/009109.wav 1 0.39 0.55 xi xie\n"
     ]
    },
    {
     "name": "stderr",
     "output_type": "stream",
     "text": [
      " 72%|███████▏  | 1398/1944 [05:31<01:57,  4.63it/s]"
     ]
    },
    {
     "name": "stdout",
     "output_type": "stream",
     "text": [
      "lab_wav_pairs/009888.wav 5 1.52 1.69 jun jue\n"
     ]
    },
    {
     "name": "stderr",
     "output_type": "stream",
     "text": [
      " 72%|███████▏  | 1399/1944 [05:31<02:14,  4.05it/s]"
     ]
    },
    {
     "name": "stdout",
     "output_type": "stream",
     "text": [
      "lab_wav_pairs/008544.wav 17 3.77 3.88 zhe zhi\n"
     ]
    },
    {
     "name": "stderr",
     "output_type": "stream",
     "text": [
      " 72%|███████▏  | 1401/1944 [05:32<02:23,  3.79it/s]"
     ]
    },
    {
     "name": "stdout",
     "output_type": "stream",
     "text": [
      "lab_wav_pairs/008602.wav 16 4.12 4.24 dou dong\n"
     ]
    },
    {
     "name": "stderr",
     "output_type": "stream",
     "text": [
      " 72%|███████▏  | 1403/1944 [05:32<02:17,  3.94it/s]"
     ]
    },
    {
     "name": "stdout",
     "output_type": "stream",
     "text": [
      "lab_wav_pairs/008467.wav 15 3.26 3.41 bei ben\n",
      "lab_wav_pairs/008467.wav 21 4.44 4.6 ji zhi\n"
     ]
    },
    {
     "name": "stderr",
     "output_type": "stream",
     "text": [
      " 72%|███████▏  | 1404/1944 [05:32<02:11,  4.09it/s]"
     ]
    },
    {
     "name": "stdout",
     "output_type": "stream",
     "text": [
      "lab_wav_pairs/008326.wav 15 3.22 3.38 dou duo\n"
     ]
    },
    {
     "name": "stderr",
     "output_type": "stream",
     "text": [
      " 72%|███████▏  | 1408/1944 [05:33<01:51,  4.81it/s]"
     ]
    },
    {
     "name": "stdout",
     "output_type": "stream",
     "text": [
      "lab_wav_pairs/008191.wav 11 2.32 2.52 xuan xue\n"
     ]
    },
    {
     "name": "stderr",
     "output_type": "stream",
     "text": [
      " 72%|███████▏  | 1409/1944 [05:33<01:54,  4.66it/s]"
     ]
    },
    {
     "name": "stdout",
     "output_type": "stream",
     "text": [
      "lab_wav_pairs/009156.wav 11 2.75 2.94 zai zan\n",
      "lab_wav_pairs/009156.wav 12 2.94 3.14 qian qi\n"
     ]
    },
    {
     "name": "stderr",
     "output_type": "stream",
     "text": [
      " 73%|███████▎  | 1412/1944 [05:34<01:58,  4.51it/s]"
     ]
    },
    {
     "name": "stdout",
     "output_type": "stream",
     "text": [
      "lab_wav_pairs/008927.wav 15 3.58 3.75 ceng zeng\n"
     ]
    },
    {
     "name": "stderr",
     "output_type": "stream",
     "text": [
      " 73%|███████▎  | 1415/1944 [05:34<01:40,  5.25it/s]"
     ]
    },
    {
     "name": "stdout",
     "output_type": "stream",
     "text": [
      "lab_wav_pairs/008379.wav 6 1.79 1.95 sa fan\n"
     ]
    },
    {
     "name": "stderr",
     "output_type": "stream",
     "text": [
      " 73%|███████▎  | 1416/1944 [05:35<01:58,  4.46it/s]"
     ]
    },
    {
     "name": "stdout",
     "output_type": "stream",
     "text": [
      "lab_wav_pairs/009998.wav 12 2.85 2.97 zhai zhan\n"
     ]
    },
    {
     "name": "stderr",
     "output_type": "stream",
     "text": [
      " 73%|███████▎  | 1419/1944 [05:36<03:00,  2.90it/s]"
     ]
    },
    {
     "name": "stdout",
     "output_type": "stream",
     "text": [
      "lab_wav_pairs/009863.wav 10 2.49 2.64 de deng\n"
     ]
    },
    {
     "name": "stderr",
     "output_type": "stream",
     "text": [
      " 73%|███████▎  | 1420/1944 [05:36<02:51,  3.06it/s]"
     ]
    },
    {
     "name": "stdout",
     "output_type": "stream",
     "text": [
      "lab_wav_pairs/008976.wav 12 2.89 3.06 lian lie\n",
      "lab_wav_pairs/008976.wav 13 3.06 3.22 lian lie\n",
      "lab_wav_pairs/008976.wav 17 3.99 4.11 de di\n"
     ]
    },
    {
     "name": "stderr",
     "output_type": "stream",
     "text": [
      " 73%|███████▎  | 1422/1944 [05:37<02:14,  3.89it/s]"
     ]
    },
    {
     "name": "stdout",
     "output_type": "stream",
     "text": [
      "lab_wav_pairs/008619.wav 9 2.58 2.7 dou dong\n"
     ]
    },
    {
     "name": "stderr",
     "output_type": "stream",
     "text": [
      " 73%|███████▎  | 1423/1944 [05:37<02:34,  3.37it/s]"
     ]
    },
    {
     "name": "stdout",
     "output_type": "stream",
     "text": [
      "lab_wav_pairs/008619.wav 22 4.91 5.08 yan ye\n"
     ]
    },
    {
     "name": "stderr",
     "output_type": "stream",
     "text": [
      " 73%|███████▎  | 1425/1944 [05:38<02:33,  3.37it/s]"
     ]
    },
    {
     "name": "stdout",
     "output_type": "stream",
     "text": [
      "lab_wav_pairs/008989.wav 19 3.88 4.01 guo gou\n"
     ]
    },
    {
     "name": "stderr",
     "output_type": "stream",
     "text": [
      " 74%|███████▎  | 1430/1944 [05:39<02:01,  4.24it/s]"
     ]
    },
    {
     "name": "stdout",
     "output_type": "stream",
     "text": [
      "lab_wav_pairs/008477.wav 18 3.8 3.96 yue yun\n",
      "lab_wav_pairs/008590.wav 8 2.2 2.36 mo mou\n"
     ]
    },
    {
     "name": "stderr",
     "output_type": "stream",
     "text": [
      " 74%|███████▎  | 1433/1944 [05:40<02:13,  3.81it/s]"
     ]
    },
    {
     "name": "stdout",
     "output_type": "stream",
     "text": [
      "lab_wav_pairs/008620.wav 9 2.0 2.16 quan que\n",
      "lab_wav_pairs/008620.wav 10 2.16 2.25 de di\n"
     ]
    },
    {
     "name": "stderr",
     "output_type": "stream",
     "text": [
      " 74%|███████▍  | 1436/1944 [05:40<01:55,  4.41it/s]"
     ]
    },
    {
     "name": "stdout",
     "output_type": "stream",
     "text": [
      "lab_wav_pairs/008019.wav 3 0.98 1.15 xie xi\n"
     ]
    },
    {
     "name": "stderr",
     "output_type": "stream",
     "text": [
      " 74%|███████▍  | 1438/1944 [05:41<02:13,  3.79it/s]"
     ]
    },
    {
     "name": "stdout",
     "output_type": "stream",
     "text": [
      "lab_wav_pairs/008572.wav 1 0.44 0.57 si se\n",
      "lab_wav_pairs/008572.wav 2 0.57 0.74 lian lie\n"
     ]
    },
    {
     "name": "stderr",
     "output_type": "stream",
     "text": [
      " 74%|███████▍  | 1440/1944 [05:42<02:29,  3.36it/s]"
     ]
    },
    {
     "name": "stdout",
     "output_type": "stream",
     "text": [
      "lab_wav_pairs/009347.wav 19 4.8 4.9 de di\n",
      "lab_wav_pairs/009741.wav 2 0.66 0.88 jing jiu\n"
     ]
    },
    {
     "name": "stderr",
     "output_type": "stream",
     "text": [
      " 74%|███████▍  | 1442/1944 [05:42<02:10,  3.86it/s]"
     ]
    },
    {
     "name": "stdout",
     "output_type": "stream",
     "text": [
      "lab_wav_pairs/009867.wav 5 1.43 1.57 dian bie\n"
     ]
    },
    {
     "name": "stderr",
     "output_type": "stream",
     "text": [
      " 74%|███████▍  | 1448/1944 [05:43<01:26,  5.73it/s]"
     ]
    },
    {
     "name": "stdout",
     "output_type": "stream",
     "text": [
      "lab_wav_pairs/008633.wav 4 1.18 1.35 jiu jiong\n",
      "lab_wav_pairs/008633.wav 13 2.84 3.02 xian xie\n"
     ]
    },
    {
     "name": "stderr",
     "output_type": "stream",
     "text": [
      " 75%|███████▍  | 1449/1944 [05:43<01:45,  4.68it/s]"
     ]
    },
    {
     "name": "stdout",
     "output_type": "stream",
     "text": [
      "lab_wav_pairs/008613.wav 6 1.51 1.69 xie xi\n",
      "lab_wav_pairs/008613.wav 18 4.22 4.43 xian xie\n"
     ]
    },
    {
     "name": "stderr",
     "output_type": "stream",
     "text": [
      " 75%|███████▍  | 1451/1944 [05:44<01:51,  4.42it/s]"
     ]
    },
    {
     "name": "stdout",
     "output_type": "stream",
     "text": [
      "lab_wav_pairs/008463.wav 1 0.55 0.71 ji jin\n"
     ]
    },
    {
     "name": "stderr",
     "output_type": "stream",
     "text": [
      " 75%|███████▍  | 1454/1944 [05:45<01:52,  4.34it/s]"
     ]
    },
    {
     "name": "stdout",
     "output_type": "stream",
     "text": [
      "lab_wav_pairs/009625.wav 5 1.53 1.7 ba bang\n"
     ]
    },
    {
     "name": "stderr",
     "output_type": "stream",
     "text": [
      " 75%|███████▌  | 1458/1944 [05:45<01:31,  5.29it/s]"
     ]
    },
    {
     "name": "stdout",
     "output_type": "stream",
     "text": [
      "lab_wav_pairs/009223.wav 10 2.02 2.17 ran ren\n",
      "lab_wav_pairs/008954.wav 1 0.52 0.65 de dao\n",
      "lab_wav_pairs/008954.wav 7 2.03 2.19 qu qun\n",
      "lab_wav_pairs/008954.wav 14 3.44 3.64 lou lu\n"
     ]
    },
    {
     "name": "stderr",
     "output_type": "stream",
     "text": [
      " 75%|███████▌  | 1462/1944 [05:46<01:51,  4.34it/s]"
     ]
    },
    {
     "name": "stdout",
     "output_type": "stream",
     "text": [
      "lab_wav_pairs/008324.wav 14 3.18 3.37 shang shao\n",
      "lab_wav_pairs/008425.wav 7 1.83 1.97 zhi zhe\n"
     ]
    },
    {
     "name": "stderr",
     "output_type": "stream",
     "text": [
      " 75%|███████▌  | 1465/1944 [05:47<01:22,  5.82it/s]"
     ]
    },
    {
     "name": "stdout",
     "output_type": "stream",
     "text": [
      "lab_wav_pairs/008425.wav 10 2.38 2.58 que qu\n"
     ]
    },
    {
     "name": "stderr",
     "output_type": "stream",
     "text": [
      " 75%|███████▌  | 1466/1944 [05:47<01:17,  6.20it/s]"
     ]
    },
    {
     "name": "stdout",
     "output_type": "stream",
     "text": [
      "lab_wav_pairs/008768.wav 1 0.49 0.66 yan ye\n",
      "lab_wav_pairs/008768.wav 7 1.94 2.12 xin xi\n"
     ]
    },
    {
     "name": "stderr",
     "output_type": "stream",
     "text": [
      " 76%|███████▌  | 1468/1944 [05:47<01:34,  5.06it/s]"
     ]
    },
    {
     "name": "stdout",
     "output_type": "stream",
     "text": [
      "lab_wav_pairs/009007.wav 9 2.4 2.62 tuo tu\n",
      "lab_wav_pairs/008403.wav 3 1.17 1.31 dou duo\n"
     ]
    },
    {
     "name": "stderr",
     "output_type": "stream",
     "text": [
      " 76%|███████▌  | 1471/1944 [05:48<02:26,  3.23it/s]"
     ]
    },
    {
     "name": "stdout",
     "output_type": "stream",
     "text": [
      "lab_wav_pairs/009362.wav 15 3.77 3.91 shi shen\n"
     ]
    },
    {
     "name": "stderr",
     "output_type": "stream",
     "text": [
      " 76%|███████▌  | 1477/1944 [05:50<02:24,  3.23it/s]"
     ]
    },
    {
     "name": "stdout",
     "output_type": "stream",
     "text": [
      "lab_wav_pairs/009967.wav 11 2.66 2.84 shang shan\n"
     ]
    },
    {
     "name": "stderr",
     "output_type": "stream",
     "text": [
      " 76%|███████▌  | 1478/1944 [05:50<02:17,  3.39it/s]"
     ]
    },
    {
     "name": "stdout",
     "output_type": "stream",
     "text": [
      "lab_wav_pairs/008475.wav 4 1.19 1.37 zhuo zhe\n"
     ]
    },
    {
     "name": "stderr",
     "output_type": "stream",
     "text": [
      " 76%|███████▌  | 1479/1944 [05:51<02:01,  3.82it/s]"
     ]
    },
    {
     "name": "stdout",
     "output_type": "stream",
     "text": [
      "lab_wav_pairs/008915.wav 7 1.95 2.08 ben deng\n"
     ]
    },
    {
     "name": "stderr",
     "output_type": "stream",
     "text": [
      " 76%|███████▋  | 1483/1944 [05:52<02:04,  3.69it/s]"
     ]
    },
    {
     "name": "stdout",
     "output_type": "stream",
     "text": [
      "lab_wav_pairs/009120.wav 0 0.28 0.45 qi qing\n"
     ]
    },
    {
     "name": "stderr",
     "output_type": "stream",
     "text": [
      " 76%|███████▋  | 1484/1944 [05:52<02:12,  3.46it/s]"
     ]
    },
    {
     "name": "stdout",
     "output_type": "stream",
     "text": [
      "lab_wav_pairs/008979.wav 19 4.06 4.22 yan ye\n"
     ]
    },
    {
     "name": "stderr",
     "output_type": "stream",
     "text": [
      " 77%|███████▋  | 1488/1944 [05:53<01:44,  4.35it/s]"
     ]
    },
    {
     "name": "stdout",
     "output_type": "stream",
     "text": [
      "lab_wav_pairs/008472.wav 7 1.85 2.01 weng long\n"
     ]
    },
    {
     "name": "stderr",
     "output_type": "stream",
     "text": [
      " 77%|███████▋  | 1492/1944 [05:54<01:53,  3.98it/s]"
     ]
    },
    {
     "name": "stdout",
     "output_type": "stream",
     "text": [
      "lab_wav_pairs/008381.wav 6 1.32 1.49 zi ci\n",
      "lab_wav_pairs/008381.wav 7 1.49 1.7 ci ce\n"
     ]
    },
    {
     "name": "stderr",
     "output_type": "stream",
     "text": [
      " 77%|███████▋  | 1497/1944 [05:55<01:20,  5.53it/s]"
     ]
    },
    {
     "name": "stdout",
     "output_type": "stream",
     "text": [
      "lab_wav_pairs/008712.wav 1 0.5 0.61 yin ying\n"
     ]
    },
    {
     "name": "stderr",
     "output_type": "stream",
     "text": [
      " 77%|███████▋  | 1499/1944 [05:56<01:34,  4.72it/s]"
     ]
    },
    {
     "name": "stdout",
     "output_type": "stream",
     "text": [
      "lab_wav_pairs/009505.wav 9 1.95 2.13 yan ren\n"
     ]
    },
    {
     "name": "stderr",
     "output_type": "stream",
     "text": [
      " 77%|███████▋  | 1503/1944 [05:56<01:27,  5.03it/s]"
     ]
    },
    {
     "name": "stdout",
     "output_type": "stream",
     "text": [
      "lab_wav_pairs/008285.wav 4 1.36 1.56 jun ju\n"
     ]
    },
    {
     "name": "stderr",
     "output_type": "stream",
     "text": [
      " 78%|███████▊  | 1510/1944 [05:58<01:38,  4.39it/s]"
     ]
    },
    {
     "name": "stdout",
     "output_type": "stream",
     "text": [
      "lab_wav_pairs/009257.wav 1 0.49 0.62 zhang chang\n",
      "lab_wav_pairs/008805.wav 4 1.16 1.34 xia xiang\n"
     ]
    },
    {
     "name": "stderr",
     "output_type": "stream",
     "text": [
      " 78%|███████▊  | 1513/1944 [05:59<01:22,  5.25it/s]"
     ]
    },
    {
     "name": "stdout",
     "output_type": "stream",
     "text": [
      "lab_wav_pairs/008223.wav 5 1.57 1.73 jing ji\n",
      "lab_wav_pairs/008223.wav 7 1.93 2.07 jie jing\n"
     ]
    },
    {
     "name": "stderr",
     "output_type": "stream",
     "text": [
      " 78%|███████▊  | 1515/1944 [05:59<01:28,  4.84it/s]"
     ]
    },
    {
     "name": "stdout",
     "output_type": "stream",
     "text": [
      "lab_wav_pairs/009195.wav 14 3.01 3.21 zhang chang\n",
      "lab_wav_pairs/008502.wav 9 2.25 2.61 sha cha\n"
     ]
    },
    {
     "name": "stderr",
     "output_type": "stream",
     "text": [
      " 78%|███████▊  | 1516/1944 [05:59<01:41,  4.21it/s]"
     ]
    },
    {
     "name": "stdout",
     "output_type": "stream",
     "text": [
      "lab_wav_pairs/008502.wav 14 3.63 3.8 kan kai\n"
     ]
    },
    {
     "name": "stderr",
     "output_type": "stream",
     "text": [
      " 78%|███████▊  | 1517/1944 [06:00<01:41,  4.20it/s]"
     ]
    },
    {
     "name": "stdout",
     "output_type": "stream",
     "text": [
      "lab_wav_pairs/009145.wav 7 1.69 1.87 hui hun\n",
      "lab_wav_pairs/009145.wav 13 3.16 3.31 xing xin\n"
     ]
    },
    {
     "name": "stderr",
     "output_type": "stream",
     "text": [
      " 78%|███████▊  | 1519/1944 [06:00<01:49,  3.87it/s]"
     ]
    },
    {
     "name": "stdout",
     "output_type": "stream",
     "text": [
      "lab_wav_pairs/008092.wav 3 1.16 1.33 qi qin\n",
      "lab_wav_pairs/008092.wav 7 2.04 2.18 dei de\n"
     ]
    },
    {
     "name": "stderr",
     "output_type": "stream",
     "text": [
      " 78%|███████▊  | 1523/1944 [06:01<01:13,  5.70it/s]"
     ]
    },
    {
     "name": "stdout",
     "output_type": "stream",
     "text": [
      "lab_wav_pairs/008289.wav 3 0.94 1.22 jiang jiao\n",
      "lab_wav_pairs/008005.wav 5 1.26 1.35 men me\n"
     ]
    },
    {
     "name": "stderr",
     "output_type": "stream",
     "text": [
      " 79%|███████▉  | 1531/1944 [06:02<01:21,  5.06it/s]"
     ]
    },
    {
     "name": "stdout",
     "output_type": "stream",
     "text": [
      "lab_wav_pairs/009323.wav 12 2.84 2.98 di dian\n",
      "lab_wav_pairs/008172.wav 1 0.49 0.67 dui dun\n"
     ]
    },
    {
     "name": "stderr",
     "output_type": "stream",
     "text": [
      " 79%|███████▉  | 1532/1944 [06:03<01:41,  4.06it/s]"
     ]
    },
    {
     "name": "stdout",
     "output_type": "stream",
     "text": [
      "lab_wav_pairs/008172.wav 14 3.42 3.54 ze zen\n"
     ]
    },
    {
     "name": "stderr",
     "output_type": "stream",
     "text": [
      " 79%|███████▉  | 1534/1944 [06:03<01:19,  5.17it/s]"
     ]
    },
    {
     "name": "stdout",
     "output_type": "stream",
     "text": [
      "lab_wav_pairs/008751.wav 10 2.49 2.65 qu que\n"
     ]
    },
    {
     "name": "stderr",
     "output_type": "stream",
     "text": [
      " 79%|███████▉  | 1535/1944 [06:03<01:25,  4.79it/s]"
     ]
    },
    {
     "name": "stdout",
     "output_type": "stream",
     "text": [
      "lab_wav_pairs/008280.wav 2 0.75 0.95 jiang jia\n",
      "lab_wav_pairs/008280.wav 13 3.29 3.45 xun qu\n"
     ]
    },
    {
     "name": "stderr",
     "output_type": "stream",
     "text": [
      " 79%|███████▉  | 1540/1944 [06:04<01:18,  5.13it/s]"
     ]
    },
    {
     "name": "stdout",
     "output_type": "stream",
     "text": [
      "lab_wav_pairs/008296.wav 4 1.23 1.27 er hang\n"
     ]
    },
    {
     "name": "stderr",
     "output_type": "stream",
     "text": [
      " 79%|███████▉  | 1541/1944 [06:05<01:36,  4.16it/s]"
     ]
    },
    {
     "name": "stdout",
     "output_type": "stream",
     "text": [
      "lab_wav_pairs/009206.wav 3 0.75 0.89 ci su\n",
      "lab_wav_pairs/009206.wav 11 2.48 2.63 nan men\n",
      "lab_wav_pairs/009206.wav 12 2.63 2.78 ge gen\n"
     ]
    },
    {
     "name": "stderr",
     "output_type": "stream",
     "text": [
      " 79%|███████▉  | 1545/1944 [06:06<01:58,  3.37it/s]"
     ]
    },
    {
     "name": "stdout",
     "output_type": "stream",
     "text": [
      "lab_wav_pairs/009361.wav 14 3.11 3.31 xing xin\n",
      "lab_wav_pairs/008810.wav 10 2.35 2.46 dei lei\n"
     ]
    },
    {
     "name": "stderr",
     "output_type": "stream",
     "text": [
      " 80%|███████▉  | 1549/1944 [06:07<01:50,  3.58it/s]"
     ]
    },
    {
     "name": "stdout",
     "output_type": "stream",
     "text": [
      "lab_wav_pairs/008050.wav 15 3.51 3.63 wen wei\n",
      "lab_wav_pairs/009779.wav 6 1.54 1.72 jie jian\n"
     ]
    },
    {
     "name": "stderr",
     "output_type": "stream",
     "text": [
      " 80%|███████▉  | 1553/1944 [06:08<01:18,  4.99it/s]"
     ]
    },
    {
     "name": "stdout",
     "output_type": "stream",
     "text": [
      "lab_wav_pairs/008048.wav 13 3.21 3.31 me men\n"
     ]
    },
    {
     "name": "stderr",
     "output_type": "stream",
     "text": [
      " 80%|████████  | 1558/1944 [06:09<01:31,  4.22it/s]"
     ]
    },
    {
     "name": "stdout",
     "output_type": "stream",
     "text": [
      "lab_wav_pairs/008838.wav 4 1.28 1.47 lan nan\n"
     ]
    },
    {
     "name": "stderr",
     "output_type": "stream",
     "text": [
      " 80%|████████  | 1559/1944 [06:09<01:31,  4.23it/s]"
     ]
    },
    {
     "name": "stdout",
     "output_type": "stream",
     "text": [
      "lab_wav_pairs/008286.wav 18 4.0 4.33 qie xie\n"
     ]
    },
    {
     "name": "stderr",
     "output_type": "stream",
     "text": [
      " 80%|████████  | 1561/1944 [06:10<01:34,  4.06it/s]"
     ]
    },
    {
     "name": "stdout",
     "output_type": "stream",
     "text": [
      "lab_wav_pairs/008558.wav 7 1.85 2.11 ya zha\n"
     ]
    },
    {
     "name": "stderr",
     "output_type": "stream",
     "text": [
      " 80%|████████  | 1563/1944 [06:10<01:28,  4.29it/s]"
     ]
    },
    {
     "name": "stdout",
     "output_type": "stream",
     "text": [
      "lab_wav_pairs/009322.wav 12 3.3 3.42 wu ni\n"
     ]
    },
    {
     "name": "stderr",
     "output_type": "stream",
     "text": [
      " 81%|████████  | 1565/1944 [06:11<01:26,  4.40it/s]"
     ]
    },
    {
     "name": "stdout",
     "output_type": "stream",
     "text": [
      "lab_wav_pairs/009275.wav 13 3.01 3.14 bie bi\n"
     ]
    },
    {
     "name": "stderr",
     "output_type": "stream",
     "text": [
      " 81%|████████  | 1566/1944 [06:11<01:31,  4.12it/s]"
     ]
    },
    {
     "name": "stdout",
     "output_type": "stream",
     "text": [
      "lab_wav_pairs/008986.wav 14 3.78 3.97 xi xin\n"
     ]
    },
    {
     "name": "stderr",
     "output_type": "stream",
     "text": [
      " 81%|████████  | 1568/1944 [06:11<01:17,  4.85it/s]"
     ]
    },
    {
     "name": "stdout",
     "output_type": "stream",
     "text": [
      "lab_wav_pairs/009429.wav 5 1.41 1.58 jian jin\n",
      "lab_wav_pairs/009951.wav 4 1.24 1.41 jin jie\n"
     ]
    },
    {
     "name": "stderr",
     "output_type": "stream",
     "text": [
      " 81%|████████  | 1573/1944 [06:13<01:46,  3.48it/s]"
     ]
    },
    {
     "name": "stdout",
     "output_type": "stream",
     "text": [
      "lab_wav_pairs/008293.wav 7 1.63 1.71 de di\n",
      "lab_wav_pairs/008293.wav 8 1.83 1.93 dong duo\n"
     ]
    },
    {
     "name": "stderr",
     "output_type": "stream",
     "text": [
      " 81%|████████  | 1574/1944 [06:13<02:00,  3.08it/s]"
     ]
    },
    {
     "name": "stdout",
     "output_type": "stream",
     "text": [
      "lab_wav_pairs/009660.wav 7 1.58 1.81 bo bu\n",
      "lab_wav_pairs/008882.wav 3 1.19 1.34 dao da\n",
      "lab_wav_pairs/008882.wav 11 2.85 3.0 dian di\n"
     ]
    },
    {
     "name": "stderr",
     "output_type": "stream",
     "text": [
      " 81%|████████  | 1579/1944 [06:14<01:38,  3.72it/s]"
     ]
    },
    {
     "name": "stdout",
     "output_type": "stream",
     "text": [
      "lab_wav_pairs/009359.wav 14 3.82 3.96 jin jing\n"
     ]
    },
    {
     "name": "stderr",
     "output_type": "stream",
     "text": [
      " 81%|████████▏ | 1581/1944 [06:15<01:27,  4.15it/s]"
     ]
    },
    {
     "name": "stdout",
     "output_type": "stream",
     "text": [
      "lab_wav_pairs/008162.wav 11 2.32 2.49 lan lai\n",
      "lab_wav_pairs/008120.wav 10 2.33 2.57 tou tong\n"
     ]
    },
    {
     "name": "stderr",
     "output_type": "stream",
     "text": [
      " 81%|████████▏ | 1583/1944 [06:15<01:12,  4.97it/s]"
     ]
    },
    {
     "name": "stdout",
     "output_type": "stream",
     "text": [
      "lab_wav_pairs/009685.wav 2 0.69 0.88 xie xin\n"
     ]
    },
    {
     "name": "stderr",
     "output_type": "stream",
     "text": [
      " 82%|████████▏ | 1585/1944 [06:15<01:07,  5.34it/s]"
     ]
    },
    {
     "name": "stdout",
     "output_type": "stream",
     "text": [
      "lab_wav_pairs/009087.wav 9 2.31 2.48 le lan\n"
     ]
    },
    {
     "name": "stderr",
     "output_type": "stream",
     "text": [
      " 82%|████████▏ | 1590/1944 [06:16<01:17,  4.56it/s]"
     ]
    },
    {
     "name": "stdout",
     "output_type": "stream",
     "text": [
      "lab_wav_pairs/008655.wav 5 1.47 1.61 min mi\n",
      "lab_wav_pairs/008655.wav 8 2.0 2.09 de di\n"
     ]
    },
    {
     "name": "stderr",
     "output_type": "stream",
     "text": [
      " 82%|████████▏ | 1591/1944 [06:17<01:38,  3.60it/s]"
     ]
    },
    {
     "name": "stdout",
     "output_type": "stream",
     "text": [
      "lab_wav_pairs/008655.wav 20 4.71 4.94 chuai chuan\n"
     ]
    },
    {
     "name": "stderr",
     "output_type": "stream",
     "text": [
      " 82%|████████▏ | 1597/1944 [06:18<01:21,  4.25it/s]"
     ]
    },
    {
     "name": "stdout",
     "output_type": "stream",
     "text": [
      "lab_wav_pairs/008430.wav 10 2.52 2.7 fen fan\n"
     ]
    },
    {
     "name": "stderr",
     "output_type": "stream",
     "text": [
      " 82%|████████▏ | 1598/1944 [06:18<01:12,  4.76it/s]"
     ]
    },
    {
     "name": "stdout",
     "output_type": "stream",
     "text": [
      "lab_wav_pairs/008562.wav 6 1.43 1.61 zai zan\n"
     ]
    },
    {
     "name": "stderr",
     "output_type": "stream",
     "text": [
      " 82%|████████▏ | 1599/1944 [06:19<01:25,  4.05it/s]"
     ]
    },
    {
     "name": "stdout",
     "output_type": "stream",
     "text": [
      "lab_wav_pairs/008562.wav 21 4.51 4.62 yun yu\n"
     ]
    },
    {
     "name": "stderr",
     "output_type": "stream",
     "text": [
      " 83%|████████▎ | 1606/1944 [06:20<01:12,  4.65it/s]"
     ]
    },
    {
     "name": "stdout",
     "output_type": "stream",
     "text": [
      "lab_wav_pairs/009910.wav 7 1.98 2.09 yuan ren\n"
     ]
    },
    {
     "name": "stderr",
     "output_type": "stream",
     "text": [
      " 83%|████████▎ | 1611/1944 [06:22<01:23,  3.99it/s]"
     ]
    },
    {
     "name": "stdout",
     "output_type": "stream",
     "text": [
      "lab_wav_pairs/009852.wav 6 1.87 2.08 pai tai\n",
      "lab_wav_pairs/009852.wav 15 4.11 4.35 ceng zeng\n"
     ]
    },
    {
     "name": "stderr",
     "output_type": "stream",
     "text": [
      " 83%|████████▎ | 1613/1944 [06:22<01:22,  4.00it/s]"
     ]
    },
    {
     "name": "stdout",
     "output_type": "stream",
     "text": [
      "lab_wav_pairs/009378.wav 14 3.18 3.36 li lie\n"
     ]
    },
    {
     "name": "stderr",
     "output_type": "stream",
     "text": [
      " 83%|████████▎ | 1614/1944 [06:22<01:26,  3.80it/s]"
     ]
    },
    {
     "name": "stdout",
     "output_type": "stream",
     "text": [
      "lab_wav_pairs/009181.wav 17 4.76 4.94 ji jin\n"
     ]
    },
    {
     "name": "stderr",
     "output_type": "stream",
     "text": [
      " 83%|████████▎ | 1616/1944 [06:23<01:38,  3.31it/s]"
     ]
    },
    {
     "name": "stdout",
     "output_type": "stream",
     "text": [
      "lab_wav_pairs/009922.wav 24 5.94 6.28 dir jiao\n"
     ]
    },
    {
     "name": "stderr",
     "output_type": "stream",
     "text": [
      " 83%|████████▎ | 1618/1944 [06:24<01:26,  3.78it/s]"
     ]
    },
    {
     "name": "stdout",
     "output_type": "stream",
     "text": [
      "lab_wav_pairs/009889.wav 18 4.28 4.41 da dai\n"
     ]
    },
    {
     "name": "stderr",
     "output_type": "stream",
     "text": [
      " 83%|████████▎ | 1621/1944 [06:24<01:25,  3.77it/s]"
     ]
    },
    {
     "name": "stdout",
     "output_type": "stream",
     "text": [
      "lab_wav_pairs/009580.wav 3 0.95 1.16 cai can\n"
     ]
    },
    {
     "name": "stderr",
     "output_type": "stream",
     "text": [
      " 83%|████████▎ | 1622/1944 [06:25<01:19,  4.04it/s]"
     ]
    },
    {
     "name": "stdout",
     "output_type": "stream",
     "text": [
      "lab_wav_pairs/008559.wav 1 0.48 0.66 qian qie\n"
     ]
    },
    {
     "name": "stderr",
     "output_type": "stream",
     "text": [
      " 84%|████████▎ | 1625/1944 [06:25<01:13,  4.31it/s]"
     ]
    },
    {
     "name": "stdout",
     "output_type": "stream",
     "text": [
      "lab_wav_pairs/008489.wav 6 1.66 1.81 qing qin\n"
     ]
    },
    {
     "name": "stderr",
     "output_type": "stream",
     "text": [
      " 84%|████████▎ | 1627/1944 [06:26<01:24,  3.73it/s]"
     ]
    },
    {
     "name": "stdout",
     "output_type": "stream",
     "text": [
      "lab_wav_pairs/009996.wav 8 1.96 2.14 shen shou\n",
      "lab_wav_pairs/009996.wav 9 2.14 2.3 ling li\n"
     ]
    },
    {
     "name": "stderr",
     "output_type": "stream",
     "text": [
      " 84%|████████▎ | 1628/1944 [06:26<01:23,  3.80it/s]"
     ]
    },
    {
     "name": "stdout",
     "output_type": "stream",
     "text": [
      "lab_wav_pairs/008869.wav 9 2.28 2.46 shuo shou\n"
     ]
    },
    {
     "name": "stderr",
     "output_type": "stream",
     "text": [
      " 84%|████████▍ | 1629/1944 [06:26<01:15,  4.17it/s]"
     ]
    },
    {
     "name": "stdout",
     "output_type": "stream",
     "text": [
      "lab_wav_pairs/008080.wav 6 1.45 1.7 me ne\n"
     ]
    },
    {
     "name": "stderr",
     "output_type": "stream",
     "text": [
      " 84%|████████▍ | 1632/1944 [06:27<01:25,  3.64it/s]"
     ]
    },
    {
     "name": "stdout",
     "output_type": "stream",
     "text": [
      "lab_wav_pairs/009057.wav 31 6.82 6.94 me ma\n"
     ]
    },
    {
     "name": "stderr",
     "output_type": "stream",
     "text": [
      " 84%|████████▍ | 1635/1944 [06:28<01:09,  4.46it/s]"
     ]
    },
    {
     "name": "stdout",
     "output_type": "stream",
     "text": [
      "lab_wav_pairs/009798.wav 8 2.13 2.3 men man\n",
      "lab_wav_pairs/009449.wav 3 1.13 1.35 shang shao\n",
      "lab_wav_pairs/009449.wav 7 2.16 2.46 xue xun\n"
     ]
    },
    {
     "name": "stderr",
     "output_type": "stream",
     "text": [
      " 84%|████████▍ | 1636/1944 [06:28<01:03,  4.83it/s]"
     ]
    },
    {
     "name": "stdout",
     "output_type": "stream",
     "text": [
      "lab_wav_pairs/008510.wav 12 2.9 3.07 que qu\n",
      "lab_wav_pairs/009968.wav 7 1.8 1.95 ken ke\n"
     ]
    },
    {
     "name": "stderr",
     "output_type": "stream",
     "text": [
      " 84%|████████▍ | 1638/1944 [06:28<01:00,  5.09it/s]"
     ]
    },
    {
     "name": "stdout",
     "output_type": "stream",
     "text": [
      "lab_wav_pairs/008832.wav 2 0.72 0.88 xu xun\n",
      "lab_wav_pairs/008832.wav 3 0.88 1.06 wei wen\n"
     ]
    },
    {
     "name": "stderr",
     "output_type": "stream",
     "text": [
      " 84%|████████▍ | 1641/1944 [06:29<01:01,  4.93it/s]"
     ]
    },
    {
     "name": "stdout",
     "output_type": "stream",
     "text": [
      "lab_wav_pairs/009911.wav 4 1.17 1.37 yuan yun\n",
      "lab_wav_pairs/009694.wav 1 0.43 0.61 ceng zeng\n"
     ]
    },
    {
     "name": "stderr",
     "output_type": "stream",
     "text": [
      " 85%|████████▍ | 1647/1944 [06:30<00:50,  5.88it/s]"
     ]
    },
    {
     "name": "stdout",
     "output_type": "stream",
     "text": [
      "lab_wav_pairs/009340.wav 4 0.99 1.15 shen shi\n",
      "lab_wav_pairs/009857.wav 0 0.28 0.47 xian xin\n",
      "lab_wav_pairs/009857.wav 6 1.47 1.62 jian jie\n"
     ]
    },
    {
     "name": "stderr",
     "output_type": "stream",
     "text": [
      " 85%|████████▍ | 1648/1944 [06:30<01:04,  4.61it/s]"
     ]
    },
    {
     "name": "stdout",
     "output_type": "stream",
     "text": [
      "lab_wav_pairs/008224.wav 3 1.18 1.36 li lin\n",
      "lab_wav_pairs/008224.wav 14 4.2 4.34 li lin\n",
      "lab_wav_pairs/008224.wav 17 4.81 4.95 tun tui\n"
     ]
    },
    {
     "name": "stderr",
     "output_type": "stream",
     "text": [
      " 85%|████████▍ | 1650/1944 [06:31<01:06,  4.42it/s]"
     ]
    },
    {
     "name": "stdout",
     "output_type": "stream",
     "text": [
      "lab_wav_pairs/008036.wav 0 0.31 0.43 de ben\n",
      "lab_wav_pairs/008036.wav 5 1.45 1.63 lin ling\n"
     ]
    },
    {
     "name": "stderr",
     "output_type": "stream",
     "text": [
      " 85%|████████▍ | 1651/1944 [06:31<01:09,  4.21it/s]"
     ]
    },
    {
     "name": "stdout",
     "output_type": "stream",
     "text": [
      "lab_wav_pairs/009864.wav 6 1.99 2.05 de lv\n"
     ]
    },
    {
     "name": "stderr",
     "output_type": "stream",
     "text": [
      " 85%|████████▍ | 1652/1944 [06:32<01:27,  3.34it/s]"
     ]
    },
    {
     "name": "stdout",
     "output_type": "stream",
     "text": [
      "lab_wav_pairs/009864.wav 19 4.99 5.11 you ying\n"
     ]
    },
    {
     "name": "stderr",
     "output_type": "stream",
     "text": [
      " 85%|████████▌ | 1654/1944 [06:32<01:27,  3.31it/s]"
     ]
    },
    {
     "name": "stdout",
     "output_type": "stream",
     "text": [
      "lab_wav_pairs/008473.wav 18 4.36 4.49 yun yu\n",
      "lab_wav_pairs/008687.wav 6 1.39 1.55 fen wen\n"
     ]
    },
    {
     "name": "stderr",
     "output_type": "stream",
     "text": [
      " 85%|████████▌ | 1658/1944 [06:33<01:02,  4.58it/s]"
     ]
    },
    {
     "name": "stdout",
     "output_type": "stream",
     "text": [
      "lab_wav_pairs/008643.wav 9 1.99 2.15 cun cuo\n"
     ]
    },
    {
     "name": "stderr",
     "output_type": "stream",
     "text": [
      " 85%|████████▌ | 1659/1944 [06:33<01:04,  4.39it/s]"
     ]
    },
    {
     "name": "stdout",
     "output_type": "stream",
     "text": [
      "lab_wav_pairs/009166.wav 5 1.59 1.71 guo gong\n"
     ]
    },
    {
     "name": "stderr",
     "output_type": "stream",
     "text": [
      " 85%|████████▌ | 1660/1944 [06:33<01:07,  4.19it/s]"
     ]
    },
    {
     "name": "stdout",
     "output_type": "stream",
     "text": [
      "lab_wav_pairs/009193.wav 20 5.28 5.55 hua huang\n",
      "lab_wav_pairs/009588.wav 8 2.28 2.45 shen sheng\n"
     ]
    },
    {
     "name": "stderr",
     "output_type": "stream",
     "text": [
      " 85%|████████▌ | 1661/1944 [06:34<01:12,  3.93it/s]"
     ]
    },
    {
     "name": "stdout",
     "output_type": "stream",
     "text": [
      "lab_wav_pairs/009588.wav 17 3.85 4.03 xin xing\n"
     ]
    },
    {
     "name": "stderr",
     "output_type": "stream",
     "text": [
      " 86%|████████▌ | 1664/1944 [06:34<01:00,  4.66it/s]"
     ]
    },
    {
     "name": "stdout",
     "output_type": "stream",
     "text": [
      "lab_wav_pairs/009744.wav 0 0.26 0.39 wang weng\n"
     ]
    },
    {
     "name": "stderr",
     "output_type": "stream",
     "text": [
      " 86%|████████▌ | 1668/1944 [06:35<01:03,  4.36it/s]"
     ]
    },
    {
     "name": "stdout",
     "output_type": "stream",
     "text": [
      "lab_wav_pairs/009132.wav 13 3.73 3.98 sai san\n"
     ]
    },
    {
     "name": "stderr",
     "output_type": "stream",
     "text": [
      " 86%|████████▌ | 1669/1944 [06:36<01:06,  4.13it/s]"
     ]
    },
    {
     "name": "stdout",
     "output_type": "stream",
     "text": [
      "lab_wav_pairs/009649.wav 3 0.84 1.01 ju qu\n",
      "lab_wav_pairs/009649.wav 4 1.03 1.07 er mu\n"
     ]
    },
    {
     "name": "stderr",
     "output_type": "stream",
     "text": [
      " 86%|████████▌ | 1672/1944 [06:36<00:50,  5.38it/s]"
     ]
    },
    {
     "name": "stdout",
     "output_type": "stream",
     "text": [
      "lab_wav_pairs/008035.wav 2 0.69 0.94 lia liang\n"
     ]
    },
    {
     "name": "stderr",
     "output_type": "stream",
     "text": [
      " 86%|████████▌ | 1673/1944 [06:36<01:01,  4.44it/s]"
     ]
    },
    {
     "name": "stdout",
     "output_type": "stream",
     "text": [
      "lab_wav_pairs/009687.wav 12 3.26 3.38 bin bing\n"
     ]
    },
    {
     "name": "stderr",
     "output_type": "stream",
     "text": [
      " 86%|████████▋ | 1681/1944 [06:38<00:54,  4.87it/s]"
     ]
    },
    {
     "name": "stdout",
     "output_type": "stream",
     "text": [
      "lab_wav_pairs/009418.wav 3 0.84 1.04 jian jie\n"
     ]
    },
    {
     "name": "stderr",
     "output_type": "stream",
     "text": [
      " 87%|████████▋ | 1682/1944 [06:38<00:56,  4.61it/s]"
     ]
    },
    {
     "name": "stdout",
     "output_type": "stream",
     "text": [
      "lab_wav_pairs/008447.wav 3 0.89 1.01 yi ying\n"
     ]
    },
    {
     "name": "stderr",
     "output_type": "stream",
     "text": [
      " 87%|████████▋ | 1688/1944 [06:40<00:58,  4.38it/s]"
     ]
    },
    {
     "name": "stdout",
     "output_type": "stream",
     "text": [
      "lab_wav_pairs/008982.wav 6 1.63 1.84 shuan shuai\n",
      "lab_wav_pairs/008982.wav 12 2.73 2.89 shi zhi\n",
      "lab_wav_pairs/008982.wav 19 4.37 4.55 jin jing\n",
      "lab_wav_pairs/008982.wav 20 4.55 4.67 jin ji\n"
     ]
    },
    {
     "name": "stderr",
     "output_type": "stream",
     "text": [
      " 87%|████████▋ | 1689/1944 [06:40<01:02,  4.09it/s]"
     ]
    },
    {
     "name": "stdout",
     "output_type": "stream",
     "text": [
      "lab_wav_pairs/009515.wav 5 1.51 1.7 yuan yue\n"
     ]
    },
    {
     "name": "stderr",
     "output_type": "stream",
     "text": [
      " 87%|████████▋ | 1692/1944 [06:41<01:14,  3.37it/s]"
     ]
    },
    {
     "name": "stdout",
     "output_type": "stream",
     "text": [
      "lab_wav_pairs/009709.wav 15 3.27 3.36 na nei\n",
      "lab_wav_pairs/009709.wav 16 3.49 3.66 xian xie\n"
     ]
    },
    {
     "name": "stderr",
     "output_type": "stream",
     "text": [
      " 87%|████████▋ | 1693/1944 [06:41<01:15,  3.34it/s]"
     ]
    },
    {
     "name": "stdout",
     "output_type": "stream",
     "text": [
      "lab_wav_pairs/009517.wav 24 5.28 5.62 ze zi\n"
     ]
    },
    {
     "name": "stderr",
     "output_type": "stream",
     "text": [
      " 87%|████████▋ | 1695/1944 [06:42<00:54,  4.60it/s]"
     ]
    },
    {
     "name": "stdout",
     "output_type": "stream",
     "text": [
      "lab_wav_pairs/008496.wav 11 2.79 2.93 shi shen\n",
      "lab_wav_pairs/008496.wav 12 2.93 3.05 men me\n"
     ]
    },
    {
     "name": "stderr",
     "output_type": "stream",
     "text": [
      " 87%|████████▋ | 1696/1944 [06:42<01:02,  3.98it/s]"
     ]
    },
    {
     "name": "stdout",
     "output_type": "stream",
     "text": [
      "lab_wav_pairs/009029.wav 10 2.61 2.74 dai da\n",
      "lab_wav_pairs/009029.wav 11 2.74 2.95 na nan\n",
      "lab_wav_pairs/008014.wav 2 0.66 0.88 yuan yun\n"
     ]
    },
    {
     "name": "stderr",
     "output_type": "stream",
     "text": [
      " 88%|████████▊ | 1706/1944 [06:44<00:50,  4.70it/s]"
     ]
    },
    {
     "name": "stdout",
     "output_type": "stream",
     "text": [
      "lab_wav_pairs/008488.wav 3 0.95 1.13 xun xu\n"
     ]
    },
    {
     "name": "stderr",
     "output_type": "stream",
     "text": [
      " 88%|████████▊ | 1710/1944 [06:46<01:07,  3.46it/s]"
     ]
    },
    {
     "name": "stdout",
     "output_type": "stream",
     "text": [
      "lab_wav_pairs/008115.wav 6 1.41 1.56 men neng\n"
     ]
    },
    {
     "name": "stderr",
     "output_type": "stream",
     "text": [
      " 88%|████████▊ | 1717/1944 [06:47<00:37,  6.06it/s]"
     ]
    },
    {
     "name": "stdout",
     "output_type": "stream",
     "text": [
      "lab_wav_pairs/009313.wav 7 1.86 1.93 de di\n",
      "lab_wav_pairs/009455.wav 0 0.27 0.43 gong dong\n"
     ]
    },
    {
     "name": "stderr",
     "output_type": "stream",
     "text": [
      " 88%|████████▊ | 1718/1944 [06:47<00:37,  6.08it/s]"
     ]
    },
    {
     "name": "stdout",
     "output_type": "stream",
     "text": [
      "lab_wav_pairs/008797.wav 11 3.07 3.105 ca hang\n"
     ]
    },
    {
     "name": "stderr",
     "output_type": "stream",
     "text": [
      " 88%|████████▊ | 1720/1944 [06:47<00:43,  5.18it/s]"
     ]
    },
    {
     "name": "stdout",
     "output_type": "stream",
     "text": [
      "lab_wav_pairs/009026.wav 7 1.71 1.9 ju jun\n",
      "lab_wav_pairs/009026.wav 14 4.18 4.38 hu huo\n",
      "lab_wav_pairs/009460.wav 4 1.12 1.23 me men\n",
      "lab_wav_pairs/009460.wav 5 1.23 1.36 lian liang\n"
     ]
    },
    {
     "name": "stderr",
     "output_type": "stream",
     "text": [
      " 89%|████████▊ | 1723/1944 [06:48<00:55,  4.01it/s]"
     ]
    },
    {
     "name": "stdout",
     "output_type": "stream",
     "text": [
      "lab_wav_pairs/009881.wav 22 5.2 5.4 xian xie\n"
     ]
    },
    {
     "name": "stderr",
     "output_type": "stream",
     "text": [
      " 89%|████████▊ | 1724/1944 [06:48<00:55,  3.98it/s]"
     ]
    },
    {
     "name": "stdout",
     "output_type": "stream",
     "text": [
      "lab_wav_pairs/009880.wav 8 1.75 1.94 qie qian\n"
     ]
    },
    {
     "name": "stderr",
     "output_type": "stream",
     "text": [
      " 89%|████████▉ | 1726/1944 [06:49<00:49,  4.38it/s]"
     ]
    },
    {
     "name": "stdout",
     "output_type": "stream",
     "text": [
      "lab_wav_pairs/009700.wav 0 0.28 0.5 xiu xiong\n"
     ]
    },
    {
     "name": "stderr",
     "output_type": "stream",
     "text": [
      " 89%|████████▉ | 1728/1944 [06:49<00:52,  4.12it/s]"
     ]
    },
    {
     "name": "stdout",
     "output_type": "stream",
     "text": [
      "lab_wav_pairs/009417.wav 3 0.91 1.14 xian qian\n"
     ]
    },
    {
     "name": "stderr",
     "output_type": "stream",
     "text": [
      " 89%|████████▉ | 1730/1944 [06:50<00:47,  4.55it/s]"
     ]
    },
    {
     "name": "stdout",
     "output_type": "stream",
     "text": [
      "lab_wav_pairs/008102.wav 1 0.58 0.72 gou gu\n"
     ]
    },
    {
     "name": "stderr",
     "output_type": "stream",
     "text": [
      " 89%|████████▉ | 1734/1944 [06:51<01:00,  3.49it/s]"
     ]
    },
    {
     "name": "stdout",
     "output_type": "stream",
     "text": [
      "lab_wav_pairs/008635.wav 8 1.66 1.82 jie jian\n"
     ]
    },
    {
     "name": "stderr",
     "output_type": "stream",
     "text": [
      " 89%|████████▉ | 1738/1944 [06:52<01:03,  3.27it/s]"
     ]
    },
    {
     "name": "stdout",
     "output_type": "stream",
     "text": [
      "lab_wav_pairs/008136.wav 10 2.42 2.62 cui cun\n"
     ]
    },
    {
     "name": "stderr",
     "output_type": "stream",
     "text": [
      " 90%|████████▉ | 1741/1944 [06:53<00:54,  3.72it/s]"
     ]
    },
    {
     "name": "stdout",
     "output_type": "stream",
     "text": [
      "lab_wav_pairs/008532.wav 2 0.73 0.9 xie xian\n"
     ]
    },
    {
     "name": "stderr",
     "output_type": "stream",
     "text": [
      " 90%|████████▉ | 1743/1944 [06:54<00:57,  3.49it/s]"
     ]
    },
    {
     "name": "stdout",
     "output_type": "stream",
     "text": [
      "lab_wav_pairs/009288.wav 14 3.4 3.58 ce zeng\n",
      "lab_wav_pairs/009842.wav 1 0.47 0.63 run ri\n",
      "lab_wav_pairs/009842.wav 4 1.08 1.33 yu yue\n"
     ]
    },
    {
     "name": "stderr",
     "output_type": "stream",
     "text": [
      " 90%|████████▉ | 1746/1944 [06:54<00:43,  4.55it/s]"
     ]
    },
    {
     "name": "stdout",
     "output_type": "stream",
     "text": [
      "lab_wav_pairs/009955.wav 0 0.27 0.48 ta ka\n"
     ]
    },
    {
     "name": "stderr",
     "output_type": "stream",
     "text": [
      " 90%|█████████ | 1754/1944 [06:56<00:42,  4.46it/s]"
     ]
    },
    {
     "name": "stdout",
     "output_type": "stream",
     "text": [
      "lab_wav_pairs/009064.wav 24 5.74 5.86 me ma\n"
     ]
    },
    {
     "name": "stderr",
     "output_type": "stream",
     "text": [
      " 90%|█████████ | 1759/1944 [06:57<00:52,  3.55it/s]"
     ]
    },
    {
     "name": "stdout",
     "output_type": "stream",
     "text": [
      "lab_wav_pairs/008568.wav 20 4.49 4.66 qu qun\n",
      "lab_wav_pairs/008792.wav 12 2.56 2.72 gu guo\n"
     ]
    },
    {
     "name": "stderr",
     "output_type": "stream",
     "text": [
      " 91%|█████████ | 1761/1944 [06:58<00:44,  4.10it/s]"
     ]
    },
    {
     "name": "stdout",
     "output_type": "stream",
     "text": [
      "lab_wav_pairs/009280.wav 8 1.91 2.04 men de\n",
      "lab_wav_pairs/009848.wav 0 0.27 0.46 xin xing\n"
     ]
    },
    {
     "name": "stderr",
     "output_type": "stream",
     "text": [
      " 91%|█████████ | 1764/1944 [06:58<00:42,  4.21it/s]"
     ]
    },
    {
     "name": "stdout",
     "output_type": "stream",
     "text": [
      "lab_wav_pairs/009345.wav 15 4.28 4.4 yan ye\n",
      "lab_wav_pairs/009345.wav 16 4.4 4.56 ji jin\n"
     ]
    },
    {
     "name": "stderr",
     "output_type": "stream",
     "text": [
      " 91%|█████████ | 1766/1944 [06:59<00:40,  4.45it/s]"
     ]
    },
    {
     "name": "stdout",
     "output_type": "stream",
     "text": [
      "lab_wav_pairs/008167.wav 0 0.35 0.56 qi qin\n"
     ]
    },
    {
     "name": "stderr",
     "output_type": "stream",
     "text": [
      " 91%|█████████ | 1767/1944 [06:59<00:46,  3.82it/s]"
     ]
    },
    {
     "name": "stdout",
     "output_type": "stream",
     "text": [
      "lab_wav_pairs/009352.wav 19 4.71 4.75 er la\n"
     ]
    },
    {
     "name": "stderr",
     "output_type": "stream",
     "text": [
      " 91%|█████████ | 1769/1944 [07:00<00:47,  3.71it/s]"
     ]
    },
    {
     "name": "stdout",
     "output_type": "stream",
     "text": [
      "lab_wav_pairs/008492.wav 11 2.99 3.14 tong peng\n",
      "lab_wav_pairs/008492.wav 16 3.76 4.08 bao dao\n"
     ]
    },
    {
     "name": "stderr",
     "output_type": "stream",
     "text": [
      " 91%|█████████ | 1770/1944 [07:00<00:45,  3.85it/s]"
     ]
    },
    {
     "name": "stdout",
     "output_type": "stream",
     "text": [
      "lab_wav_pairs/009569.wav 15 3.69 3.87 yang yao\n",
      "lab_wav_pairs/008684.wav 3 0.81 1.01 quan que\n"
     ]
    },
    {
     "name": "stderr",
     "output_type": "stream",
     "text": [
      " 91%|█████████ | 1772/1944 [07:00<00:35,  4.91it/s]"
     ]
    },
    {
     "name": "stdout",
     "output_type": "stream",
     "text": [
      "lab_wav_pairs/009791.wav 14 3.32 3.49 duo dun\n"
     ]
    },
    {
     "name": "stderr",
     "output_type": "stream",
     "text": [
      " 91%|█████████▏| 1775/1944 [07:01<00:40,  4.22it/s]"
     ]
    },
    {
     "name": "stdout",
     "output_type": "stream",
     "text": [
      "lab_wav_pairs/008232.wav 9 1.9 2.06 xin xi\n",
      "lab_wav_pairs/008187.wav 6 1.79 1.95 zhong zhu\n",
      "lab_wav_pairs/008187.wav 13 3.61 3.76 an wan\n"
     ]
    },
    {
     "name": "stderr",
     "output_type": "stream",
     "text": [
      " 91%|█████████▏| 1777/1944 [07:02<00:50,  3.34it/s]"
     ]
    },
    {
     "name": "stdout",
     "output_type": "stream",
     "text": [
      "lab_wav_pairs/008352.wav 6 1.61 1.76 you yong\n",
      "lab_wav_pairs/008352.wav 14 2.89 3.06 jin ji\n",
      "lab_wav_pairs/008352.wav 16 3.26 3.46 bai ban\n"
     ]
    },
    {
     "name": "stderr",
     "output_type": "stream",
     "text": [
      " 91%|█████████▏| 1778/1944 [07:02<00:47,  3.49it/s]"
     ]
    },
    {
     "name": "stdout",
     "output_type": "stream",
     "text": [
      "lab_wav_pairs/009096.wav 9 2.65 2.82 xing xin\n",
      "lab_wav_pairs/009096.wav 15 3.95 4.08 jin ji\n"
     ]
    },
    {
     "name": "stderr",
     "output_type": "stream",
     "text": [
      " 92%|█████████▏| 1779/1944 [07:02<00:42,  3.92it/s]"
     ]
    },
    {
     "name": "stdout",
     "output_type": "stream",
     "text": [
      "lab_wav_pairs/009229.wav 6 1.43 1.62 bang beng\n"
     ]
    },
    {
     "name": "stderr",
     "output_type": "stream",
     "text": [
      " 92%|█████████▏| 1783/1944 [07:03<00:48,  3.35it/s]"
     ]
    },
    {
     "name": "stdout",
     "output_type": "stream",
     "text": [
      "lab_wav_pairs/009445.wav 13 3.2 3.38 ji jin\n"
     ]
    },
    {
     "name": "stderr",
     "output_type": "stream",
     "text": [
      " 92%|█████████▏| 1785/1944 [07:04<00:52,  3.05it/s]"
     ]
    },
    {
     "name": "stdout",
     "output_type": "stream",
     "text": [
      "lab_wav_pairs/008380.wav 6 1.67 1.88 jian jie\n",
      "lab_wav_pairs/008380.wav 17 4.77 4.95 bian bie\n"
     ]
    },
    {
     "name": "stderr",
     "output_type": "stream",
     "text": [
      " 92%|█████████▏| 1789/1944 [07:05<00:45,  3.38it/s]"
     ]
    },
    {
     "name": "stdout",
     "output_type": "stream",
     "text": [
      "lab_wav_pairs/008980.wav 5 1.68 1.8 me mei\n",
      "lab_wav_pairs/008980.wav 11 2.84 2.98 jue juan\n"
     ]
    },
    {
     "name": "stderr",
     "output_type": "stream",
     "text": [
      " 92%|█████████▏| 1793/1944 [07:06<00:44,  3.42it/s]"
     ]
    },
    {
     "name": "stdout",
     "output_type": "stream",
     "text": [
      "lab_wav_pairs/008679.wav 19 4.22 4.37 yan ye\n"
     ]
    },
    {
     "name": "stderr",
     "output_type": "stream",
     "text": [
      " 92%|█████████▏| 1794/1944 [07:07<00:41,  3.65it/s]"
     ]
    },
    {
     "name": "stdout",
     "output_type": "stream",
     "text": [
      "lab_wav_pairs/009901.wav 3 1.1 1.25 min ming\n"
     ]
    },
    {
     "name": "stderr",
     "output_type": "stream",
     "text": [
      " 93%|█████████▎| 1799/1944 [07:08<00:32,  4.42it/s]"
     ]
    },
    {
     "name": "stdout",
     "output_type": "stream",
     "text": [
      "lab_wav_pairs/008669.wav 4 1.22 1.36 yue yuan\n",
      "lab_wav_pairs/008669.wav 5 1.36 1.55 jin ji\n"
     ]
    },
    {
     "name": "stderr",
     "output_type": "stream",
     "text": [
      " 93%|█████████▎| 1800/1944 [07:08<00:36,  3.98it/s]"
     ]
    },
    {
     "name": "stdout",
     "output_type": "stream",
     "text": [
      "lab_wav_pairs/008669.wav 23 5.15 5.37 xian xie\n",
      "lab_wav_pairs/008278.wav 11 2.8 2.91 e ne\n"
     ]
    },
    {
     "name": "stderr",
     "output_type": "stream",
     "text": [
      " 93%|█████████▎| 1803/1944 [07:09<00:34,  4.13it/s]"
     ]
    },
    {
     "name": "stdout",
     "output_type": "stream",
     "text": [
      "lab_wav_pairs/009414.wav 3 1.13 1.3 zi zun\n",
      "lab_wav_pairs/008094.wav 1 0.56 0.8 chao chang\n"
     ]
    },
    {
     "name": "stderr",
     "output_type": "stream",
     "text": [
      " 93%|█████████▎| 1804/1944 [07:09<00:38,  3.60it/s]"
     ]
    },
    {
     "name": "stdout",
     "output_type": "stream",
     "text": [
      "lab_wav_pairs/008094.wav 21 5.17 5.32 lin li\n",
      "lab_wav_pairs/008094.wav 22 5.32 5.48 min mi\n"
     ]
    },
    {
     "name": "stderr",
     "output_type": "stream",
     "text": [
      " 93%|█████████▎| 1806/1944 [07:10<00:31,  4.41it/s]"
     ]
    },
    {
     "name": "stdout",
     "output_type": "stream",
     "text": [
      "lab_wav_pairs/009937.wav 1 0.46 0.64 xue jue\n"
     ]
    },
    {
     "name": "stderr",
     "output_type": "stream",
     "text": [
      " 93%|█████████▎| 1807/1944 [07:10<00:37,  3.66it/s]"
     ]
    },
    {
     "name": "stdout",
     "output_type": "stream",
     "text": [
      "lab_wav_pairs/008774.wav 15 3.11 3.16 yi you\n"
     ]
    },
    {
     "name": "stderr",
     "output_type": "stream",
     "text": [
      " 93%|█████████▎| 1808/1944 [07:10<00:36,  3.69it/s]"
     ]
    },
    {
     "name": "stdout",
     "output_type": "stream",
     "text": [
      "lab_wav_pairs/008746.wav 20 5.05 5.12 wu o\n"
     ]
    },
    {
     "name": "stderr",
     "output_type": "stream",
     "text": [
      " 93%|█████████▎| 1813/1944 [07:11<00:29,  4.48it/s]"
     ]
    },
    {
     "name": "stdout",
     "output_type": "stream",
     "text": [
      "lab_wav_pairs/009633.wav 8 1.7 1.93 xi xing\n",
      "lab_wav_pairs/008420.wav 4 1.27 1.45 suan fan\n"
     ]
    },
    {
     "name": "stderr",
     "output_type": "stream",
     "text": [
      " 93%|█████████▎| 1814/1944 [07:12<00:31,  4.15it/s]"
     ]
    },
    {
     "name": "stdout",
     "output_type": "stream",
     "text": [
      "lab_wav_pairs/008576.wav 17 3.89 4.02 bu bo\n",
      "lab_wav_pairs/008576.wav 19 4.22 4.54 mei nei\n",
      "lab_wav_pairs/009317.wav 11 3.01 3.15 si su\n"
     ]
    },
    {
     "name": "stderr",
     "output_type": "stream",
     "text": [
      " 94%|█████████▎| 1818/1944 [07:13<00:29,  4.26it/s]"
     ]
    },
    {
     "name": "stdout",
     "output_type": "stream",
     "text": [
      "lab_wav_pairs/009966.wav 4 1.31 1.45 yuan ye\n",
      "lab_wav_pairs/009966.wav 12 2.64 2.87 cai can\n"
     ]
    },
    {
     "name": "stderr",
     "output_type": "stream",
     "text": [
      " 94%|█████████▎| 1819/1944 [07:13<00:32,  3.84it/s]"
     ]
    },
    {
     "name": "stdout",
     "output_type": "stream",
     "text": [
      "lab_wav_pairs/008281.wav 9 1.92 2.09 zhou zheng\n",
      "lab_wav_pairs/008281.wav 12 2.89 3.09 ceng zeng\n"
     ]
    },
    {
     "name": "stderr",
     "output_type": "stream",
     "text": [
      " 94%|█████████▎| 1820/1944 [07:13<00:30,  4.00it/s]"
     ]
    },
    {
     "name": "stdout",
     "output_type": "stream",
     "text": [
      "lab_wav_pairs/008004.wav 7 2.07 2.23 ceng zeng\n"
     ]
    },
    {
     "name": "stderr",
     "output_type": "stream",
     "text": [
      " 94%|█████████▎| 1822/1944 [07:14<00:33,  3.63it/s]"
     ]
    },
    {
     "name": "stdout",
     "output_type": "stream",
     "text": [
      "lab_wav_pairs/009759.wav 15 3.68 3.84 wo wang\n"
     ]
    },
    {
     "name": "stderr",
     "output_type": "stream",
     "text": [
      " 94%|█████████▍| 1823/1944 [07:14<00:34,  3.54it/s]"
     ]
    },
    {
     "name": "stdout",
     "output_type": "stream",
     "text": [
      "lab_wav_pairs/008112.wav 0 0.36 0.54 qi qing\n"
     ]
    },
    {
     "name": "stderr",
     "output_type": "stream",
     "text": [
      " 94%|█████████▍| 1825/1944 [07:15<00:37,  3.16it/s]"
     ]
    },
    {
     "name": "stdout",
     "output_type": "stream",
     "text": [
      "lab_wav_pairs/009023.wav 9 2.18 2.38 jin ji\n",
      "lab_wav_pairs/009023.wav 11 2.58 2.66 de di\n"
     ]
    },
    {
     "name": "stderr",
     "output_type": "stream",
     "text": [
      " 94%|█████████▍| 1829/1944 [07:16<00:28,  4.08it/s]"
     ]
    },
    {
     "name": "stdout",
     "output_type": "stream",
     "text": [
      "lab_wav_pairs/008680.wav 10 2.47 2.61 men neng\n",
      "lab_wav_pairs/008639.wav 1 0.63 0.87 ye yan\n"
     ]
    },
    {
     "name": "stderr",
     "output_type": "stream",
     "text": [
      " 94%|█████████▍| 1830/1944 [07:16<00:26,  4.30it/s]"
     ]
    },
    {
     "name": "stdout",
     "output_type": "stream",
     "text": [
      "lab_wav_pairs/008639.wav 10 2.41 2.6 da dai\n",
      "lab_wav_pairs/008659.wav 6 1.44 1.53 de di\n"
     ]
    },
    {
     "name": "stderr",
     "output_type": "stream",
     "text": [
      " 94%|█████████▍| 1833/1944 [07:17<00:34,  3.20it/s]"
     ]
    },
    {
     "name": "stdout",
     "output_type": "stream",
     "text": [
      "lab_wav_pairs/009821.wav 14 3.37 3.53 xian xie\n"
     ]
    },
    {
     "name": "stderr",
     "output_type": "stream",
     "text": [
      " 94%|█████████▍| 1837/1944 [07:18<00:34,  3.14it/s]"
     ]
    },
    {
     "name": "stdout",
     "output_type": "stream",
     "text": [
      "lab_wav_pairs/008748.wav 5 1.7 1.86 shi chi\n",
      "lab_wav_pairs/008648.wav 1 0.51 0.75 lv luo\n",
      "lab_wav_pairs/008648.wav 2 0.75 0.84 de le\n",
      "lab_wav_pairs/008648.wav 3 0.84 1.0 lv luo\n"
     ]
    },
    {
     "name": "stderr",
     "output_type": "stream",
     "text": [
      " 95%|█████████▍| 1839/1944 [07:19<00:31,  3.30it/s]"
     ]
    },
    {
     "name": "stdout",
     "output_type": "stream",
     "text": [
      "lab_wav_pairs/009377.wav 5 1.57 1.69 ge gen\n"
     ]
    },
    {
     "name": "stderr",
     "output_type": "stream",
     "text": [
      " 95%|█████████▍| 1840/1944 [07:19<00:33,  3.09it/s]"
     ]
    },
    {
     "name": "stdout",
     "output_type": "stream",
     "text": [
      "lab_wav_pairs/009691.wav 19 4.72 4.87 ri zhi\n",
      "lab_wav_pairs/009123.wav 10 2.65 2.75 men neng\n"
     ]
    },
    {
     "name": "stderr",
     "output_type": "stream",
     "text": [
      " 95%|█████████▌| 1847/1944 [07:20<00:18,  5.11it/s]"
     ]
    },
    {
     "name": "stdout",
     "output_type": "stream",
     "text": [
      "lab_wav_pairs/009502.wav 13 3.32 3.51 qin qing\n"
     ]
    },
    {
     "name": "stderr",
     "output_type": "stream",
     "text": [
      " 95%|█████████▌| 1852/1944 [07:21<00:18,  4.87it/s]"
     ]
    },
    {
     "name": "stdout",
     "output_type": "stream",
     "text": [
      "lab_wav_pairs/009315.wav 5 1.46 1.62 jian jin\n"
     ]
    },
    {
     "name": "stderr",
     "output_type": "stream",
     "text": [
      " 95%|█████████▌| 1855/1944 [07:22<00:17,  4.96it/s]"
     ]
    },
    {
     "name": "stdout",
     "output_type": "stream",
     "text": [
      "lab_wav_pairs/009437.wav 5 1.56 1.78 xi xu\n"
     ]
    },
    {
     "name": "stderr",
     "output_type": "stream",
     "text": [
      " 96%|█████████▌| 1858/1944 [07:22<00:13,  6.27it/s]"
     ]
    },
    {
     "name": "stdout",
     "output_type": "stream",
     "text": [
      "lab_wav_pairs/008369.wav 6 1.66 1.84 mie mi\n",
      "lab_wav_pairs/008696.wav 0 0.3 0.45 wei wen\n",
      "lab_wav_pairs/008696.wav 2 0.64 0.8 wei wen\n",
      "lab_wav_pairs/008114.wav 4 1.11 1.29 xiao jiao\n",
      "lab_wav_pairs/008114.wav 8 2.02 2.18 ha han\n"
     ]
    },
    {
     "name": "stderr",
     "output_type": "stream",
     "text": [
      " 96%|█████████▌| 1862/1944 [07:24<00:18,  4.39it/s]"
     ]
    },
    {
     "name": "stdout",
     "output_type": "stream",
     "text": [
      "lab_wav_pairs/008891.wav 0 0.3 0.42 yin yi\n",
      "lab_wav_pairs/009000.wav 0 0.31 0.51 she shi\n"
     ]
    },
    {
     "name": "stderr",
     "output_type": "stream",
     "text": [
      " 96%|█████████▌| 1864/1944 [07:24<00:16,  4.80it/s]"
     ]
    },
    {
     "name": "stdout",
     "output_type": "stream",
     "text": [
      "lab_wav_pairs/008469.wav 6 1.51 1.68 ji jin\n"
     ]
    },
    {
     "name": "stderr",
     "output_type": "stream",
     "text": [
      " 96%|█████████▌| 1865/1944 [07:24<00:18,  4.37it/s]"
     ]
    },
    {
     "name": "stdout",
     "output_type": "stream",
     "text": [
      "lab_wav_pairs/009816.wav 10 2.65 2.84 guan guai\n",
      "lab_wav_pairs/009816.wav 18 4.45 4.65 tian tie\n",
      "lab_wav_pairs/009816.wav 21 5.04 5.31 miao mian\n",
      "lab_wav_pairs/008682.wav 1 0.51 0.73 mi min\n"
     ]
    },
    {
     "name": "stderr",
     "output_type": "stream",
     "text": [
      " 96%|█████████▌| 1866/1944 [07:25<00:20,  3.89it/s]"
     ]
    },
    {
     "name": "stdout",
     "output_type": "stream",
     "text": [
      "lab_wav_pairs/008682.wav 14 3.02 3.19 xi ji\n"
     ]
    },
    {
     "name": "stderr",
     "output_type": "stream",
     "text": [
      " 96%|█████████▌| 1868/1944 [07:25<00:18,  4.22it/s]"
     ]
    },
    {
     "name": "stdout",
     "output_type": "stream",
     "text": [
      "lab_wav_pairs/008937.wav 1 0.52 0.68 jie ji\n"
     ]
    },
    {
     "name": "stderr",
     "output_type": "stream",
     "text": [
      " 96%|█████████▌| 1869/1944 [07:25<00:19,  3.86it/s]"
     ]
    },
    {
     "name": "stdout",
     "output_type": "stream",
     "text": [
      "lab_wav_pairs/009036.wav 11 3.17 3.31 si se\n"
     ]
    },
    {
     "name": "stderr",
     "output_type": "stream",
     "text": [
      " 96%|█████████▌| 1870/1944 [07:26<00:20,  3.54it/s]"
     ]
    },
    {
     "name": "stdout",
     "output_type": "stream",
     "text": [
      "lab_wav_pairs/009602.wav 19 4.64 4.81 hao hang\n"
     ]
    },
    {
     "name": "stderr",
     "output_type": "stream",
     "text": [
      " 96%|█████████▋| 1872/1944 [07:26<00:18,  3.87it/s]"
     ]
    },
    {
     "name": "stdout",
     "output_type": "stream",
     "text": [
      "lab_wav_pairs/008784.wav 7 1.76 1.94 yue yun\n",
      "lab_wav_pairs/009619.wav 0 0.27 0.53 xiang xiao\n"
     ]
    },
    {
     "name": "stderr",
     "output_type": "stream",
     "text": [
      " 96%|█████████▋| 1875/1944 [07:27<00:15,  4.54it/s]"
     ]
    },
    {
     "name": "stdout",
     "output_type": "stream",
     "text": [
      "lab_wav_pairs/009782.wav 12 2.99 3.13 de di\n"
     ]
    },
    {
     "name": "stderr",
     "output_type": "stream",
     "text": [
      " 97%|█████████▋| 1879/1944 [07:27<00:13,  4.98it/s]"
     ]
    },
    {
     "name": "stdout",
     "output_type": "stream",
     "text": [
      "lab_wav_pairs/009363.wav 20 4.74 4.91 hua huan\n"
     ]
    },
    {
     "name": "stderr",
     "output_type": "stream",
     "text": [
      " 97%|█████████▋| 1880/1944 [07:28<00:14,  4.42it/s]"
     ]
    },
    {
     "name": "stdout",
     "output_type": "stream",
     "text": [
      "lab_wav_pairs/009369.wav 8 2.15 2.38 jin jing\n",
      "lab_wav_pairs/009369.wav 12 2.87 2.99 me men\n"
     ]
    },
    {
     "name": "stderr",
     "output_type": "stream",
     "text": [
      " 97%|█████████▋| 1881/1944 [07:28<00:13,  4.53it/s]"
     ]
    },
    {
     "name": "stdout",
     "output_type": "stream",
     "text": [
      "lab_wav_pairs/008935.wav 15 3.38 3.55 xing xi\n",
      "lab_wav_pairs/008212.wav 12 2.91 3.07 dou dong\n"
     ]
    },
    {
     "name": "stderr",
     "output_type": "stream",
     "text": [
      " 97%|█████████▋| 1886/1944 [07:29<00:10,  5.28it/s]"
     ]
    },
    {
     "name": "stdout",
     "output_type": "stream",
     "text": [
      "lab_wav_pairs/008194.wav 8 2.13 2.28 yu yi\n"
     ]
    },
    {
     "name": "stderr",
     "output_type": "stream",
     "text": [
      " 97%|█████████▋| 1889/1944 [07:30<00:09,  5.59it/s]"
     ]
    },
    {
     "name": "stdout",
     "output_type": "stream",
     "text": [
      "lab_wav_pairs/009952.wav 12 3.14 3.32 she shui\n"
     ]
    },
    {
     "name": "stderr",
     "output_type": "stream",
     "text": [
      " 97%|█████████▋| 1892/1944 [07:30<00:09,  5.52it/s]"
     ]
    },
    {
     "name": "stdout",
     "output_type": "stream",
     "text": [
      "lab_wav_pairs/008195.wav 7 2.14 2.41 qiang qiao\n"
     ]
    },
    {
     "name": "stderr",
     "output_type": "stream",
     "text": [
      " 98%|█████████▊| 1896/1944 [07:31<00:09,  4.87it/s]"
     ]
    },
    {
     "name": "stdout",
     "output_type": "stream",
     "text": [
      "lab_wav_pairs/008169.wav 10 2.89 3.06 hu huo\n",
      "lab_wav_pairs/008169.wav 15 3.75 3.92 du duo\n"
     ]
    },
    {
     "name": "stderr",
     "output_type": "stream",
     "text": [
      " 98%|█████████▊| 1897/1944 [07:31<00:08,  5.32it/s]"
     ]
    },
    {
     "name": "stdout",
     "output_type": "stream",
     "text": [
      "lab_wav_pairs/009855.wav 1 0.41 0.58 xing xi\n",
      "lab_wav_pairs/009855.wav 3 0.76 0.94 kan kai\n",
      "lab_wav_pairs/009855.wav 6 1.76 1.89 bie bi\n",
      "lab_wav_pairs/009855.wav 11 2.87 3.03 jiu ju\n"
     ]
    },
    {
     "name": "stderr",
     "output_type": "stream",
     "text": [
      " 98%|█████████▊| 1899/1944 [07:32<00:09,  4.97it/s]"
     ]
    },
    {
     "name": "stdout",
     "output_type": "stream",
     "text": [
      "lab_wav_pairs/009097.wav 2 0.63 0.73 ge gang\n"
     ]
    },
    {
     "name": "stderr",
     "output_type": "stream",
     "text": [
      " 98%|█████████▊| 1905/1944 [07:33<00:10,  3.70it/s]"
     ]
    },
    {
     "name": "stdout",
     "output_type": "stream",
     "text": [
      "lab_wav_pairs/008145.wav 30 6.44 6.56 me ma\n"
     ]
    },
    {
     "name": "stderr",
     "output_type": "stream",
     "text": [
      " 98%|█████████▊| 1906/1944 [07:33<00:10,  3.73it/s]"
     ]
    },
    {
     "name": "stdout",
     "output_type": "stream",
     "text": [
      "lab_wav_pairs/009456.wav 1 0.48 0.76 bie bian\n",
      "lab_wav_pairs/009456.wav 15 3.58 3.72 ji jin\n"
     ]
    },
    {
     "name": "stderr",
     "output_type": "stream",
     "text": [
      " 98%|█████████▊| 1907/1944 [07:34<00:10,  3.48it/s]"
     ]
    },
    {
     "name": "stdout",
     "output_type": "stream",
     "text": [
      "lab_wav_pairs/009235.wav 4 1.02 1.17 dai da\n"
     ]
    },
    {
     "name": "stderr",
     "output_type": "stream",
     "text": [
      " 98%|█████████▊| 1910/1944 [07:34<00:09,  3.56it/s]"
     ]
    },
    {
     "name": "stdout",
     "output_type": "stream",
     "text": [
      "lab_wav_pairs/009098.wav 15 3.76 3.86 me men\n",
      "lab_wav_pairs/008417.wav 4 1.23 1.38 qing qian\n"
     ]
    },
    {
     "name": "stderr",
     "output_type": "stream",
     "text": [
      " 98%|█████████▊| 1913/1944 [07:35<00:08,  3.83it/s]"
     ]
    },
    {
     "name": "stdout",
     "output_type": "stream",
     "text": [
      "lab_wav_pairs/009370.wav 20 4.76 4.91 xi xing\n"
     ]
    },
    {
     "name": "stderr",
     "output_type": "stream",
     "text": [
      " 99%|█████████▊| 1915/1944 [07:36<00:06,  4.41it/s]"
     ]
    },
    {
     "name": "stdout",
     "output_type": "stream",
     "text": [
      "lab_wav_pairs/008773.wav 11 2.55 2.66 me mu\n"
     ]
    },
    {
     "name": "stderr",
     "output_type": "stream",
     "text": [
      " 99%|█████████▊| 1917/1944 [07:36<00:07,  3.78it/s]"
     ]
    },
    {
     "name": "stdout",
     "output_type": "stream",
     "text": [
      "lab_wav_pairs/008282.wav 19 4.61 4.7 de dan\n",
      "lab_wav_pairs/008282.wav 23 5.2 5.4 jin ji\n"
     ]
    },
    {
     "name": "stderr",
     "output_type": "stream",
     "text": [
      " 99%|█████████▊| 1919/1944 [07:37<00:06,  3.91it/s]"
     ]
    },
    {
     "name": "stdout",
     "output_type": "stream",
     "text": [
      "lab_wav_pairs/008266.wav 8 2.23 2.46 xu xue\n"
     ]
    },
    {
     "name": "stderr",
     "output_type": "stream",
     "text": [
      " 99%|█████████▉| 1921/1944 [07:37<00:04,  4.68it/s]"
     ]
    },
    {
     "name": "stdout",
     "output_type": "stream",
     "text": [
      "lab_wav_pairs/008616.wav 2 0.82 0.99 sun sui\n"
     ]
    },
    {
     "name": "stderr",
     "output_type": "stream",
     "text": [
      " 99%|█████████▉| 1924/1944 [07:38<00:04,  4.06it/s]"
     ]
    },
    {
     "name": "stdout",
     "output_type": "stream",
     "text": [
      "lab_wav_pairs/009186.wav 9 2.43 2.6 run re\n"
     ]
    },
    {
     "name": "stderr",
     "output_type": "stream",
     "text": [
      " 99%|█████████▉| 1925/1944 [07:38<00:04,  3.89it/s]"
     ]
    },
    {
     "name": "stdout",
     "output_type": "stream",
     "text": [
      "lab_wav_pairs/008631.wav 6 1.72 1.86 bu bo\n",
      "lab_wav_pairs/008631.wav 7 1.86 2.04 xiang xia\n"
     ]
    },
    {
     "name": "stderr",
     "output_type": "stream",
     "text": [
      " 99%|█████████▉| 1927/1944 [07:39<00:04,  4.08it/s]"
     ]
    },
    {
     "name": "stdout",
     "output_type": "stream",
     "text": [
      "lab_wav_pairs/009594.wav 4 1.32 1.53 sheng zheng\n",
      "lab_wav_pairs/009594.wav 6 1.76 1.95 jin jing\n"
     ]
    },
    {
     "name": "stderr",
     "output_type": "stream",
     "text": [
      " 99%|█████████▉| 1930/1944 [07:39<00:03,  4.35it/s]"
     ]
    },
    {
     "name": "stdout",
     "output_type": "stream",
     "text": [
      "lab_wav_pairs/009555.wav 4 1.4 1.65 zao zang\n"
     ]
    },
    {
     "name": "stderr",
     "output_type": "stream",
     "text": [
      " 99%|█████████▉| 1932/1944 [07:40<00:03,  3.85it/s]"
     ]
    },
    {
     "name": "stdout",
     "output_type": "stream",
     "text": [
      "lab_wav_pairs/009573.wav 6 1.64 1.86 la lang\n",
      "lab_wav_pairs/009573.wav 10 2.5 2.7 tuo tu\n"
     ]
    },
    {
     "name": "stderr",
     "output_type": "stream",
     "text": [
      " 99%|█████████▉| 1933/1944 [07:40<00:02,  3.71it/s]"
     ]
    },
    {
     "name": "stdout",
     "output_type": "stream",
     "text": [
      "lab_wav_pairs/009135.wav 12 3.59 3.76 jian jin\n"
     ]
    },
    {
     "name": "stderr",
     "output_type": "stream",
     "text": [
      "100%|█████████▉| 1942/1944 [07:42<00:00,  3.55it/s]"
     ]
    },
    {
     "name": "stdout",
     "output_type": "stream",
     "text": [
      "lab_wav_pairs/009240.wav 5 1.48 1.65 ga jia\n",
      "lab_wav_pairs/009059.wav 9 2.42 2.58 xia xiang\n"
     ]
    },
    {
     "name": "stderr",
     "output_type": "stream",
     "text": [
      "100%|██████████| 1944/1944 [07:43<00:00,  4.20it/s]\n"
     ]
    }
   ],
   "source": [
    "\n",
    "correct = 0\n",
    "total = 0\n",
    "err_list = []\n",
    "\n",
    "for file_path in tqdm(list(audio_py_pairs.keys())):\n",
    "    for index, ap in enumerate(audio_py_pairs[file_path]):\n",
    "        py, start, end = ap\n",
    "        try:\n",
    "            SPEECH_WAVEFORM, SAMPLE_RATE = torchaudio.load(file_path, int(start * 48000), int((end-start) * 48000))\n",
    "            SPEECH_WAVEFORM = torchaudio.functional.resample(SPEECH_WAVEFORM, SAMPLE_RATE, 16000)\n",
    "\n",
    "            SPEECH_WAVEFORM = F.pad(SPEECH_WAVEFORM, (0, 16000-SPEECH_WAVEFORM.shape[1]), mode='constant', value=0)\n",
    "\n",
    "            with torch.no_grad():\n",
    "                # features, _ = hubert_model.extract_features(SPEECH_WAVEFORM.cuda())\n",
    "                input_values = feature_extractor(SPEECH_WAVEFORM[0], return_tensors=\"pt\", sampling_rate=16000).input_values\n",
    "                outputs = hubert_model(input_values.cuda())\n",
    "                last_hidden_state = outputs.last_hidden_state\n",
    "            \n",
    "            # print(last_hidden_state.shape)\n",
    "            with torch.no_grad():\n",
    "                output = model(torch.unsqueeze(last_hidden_state, 0))\n",
    "            _, predicted = torch.topk(output, 5)\n",
    "            # print(predicted, label_to_pinyin[predicted[0][0].item()], py)\n",
    "            # c_sum = sum([1 if label_to_pinyin[predicted[0][i].item()] == py[:-1] else 0 for i in range(len(predicted))])\n",
    "            c_sum = 1 if label_to_pinyin[predicted[0][0].item()] == py[:-1] else 0\n",
    "            correct += c_sum\n",
    "            if c_sum == 0:\n",
    "                # for i in range(len(predicted)):\n",
    "                #     if py[:-1] != label_to_pinyin[predicted[0][i].item()]:\n",
    "                print(file_path, index, start, end, label_to_pinyin[predicted[0][0].item()], py[:-1])\n",
    "                err_list.append((file_path, index, start, end, predicted[0], py[:-1]))\n",
    "            total += 1\n",
    "        except Exception as e:\n",
    "            print(file_path, ap, e)\n",
    "            continue\n"
   ]
  },
  {
   "cell_type": "code",
   "execution_count": 27,
   "metadata": {},
   "outputs": [
    {
     "name": "stdout",
     "output_type": "stream",
     "text": [
      "Accuracy of the model: 96.545 %\n"
     ]
    }
   ],
   "source": [
    "print('Accuracy of the model: %.3f %%' %((100*correct)/(total)))"
   ]
  },
  {
   "cell_type": "code",
   "execution_count": 50,
   "metadata": {},
   "outputs": [],
   "source": [
    "\n",
    "detected_err_list = []\n",
    "\n",
    "for err in err_list:\n",
    "    filename, index, start, end, predicted, gt = err\n",
    "    # print(predicted, gt)\n",
    "    # for p in predicted:\n",
    "    #     print(label_to_pinyin[p.item()])\n",
    "    pp = label_to_pinyin[predicted[0].item()]\n",
    "    # print(filename, audio_py_hetero_list[filename]['nm_hetero_py'][index], audio_py_hetero_list[filename]['m_hetero_py'][index])\n",
    "    nm_hetero_py_i = audio_py_hetero_list[filename]['nm_hetero_py'][index]\n",
    "    m_hetero_py_i = audio_py_hetero_list[filename]['m_hetero_py'][index]\n",
    "    if pp in nm_hetero_py_i:\n",
    "        hetero_index = nm_hetero_py_i.index(pp)\n",
    "        audio_py_pairs[filename][index] = (m_hetero_py_i[hetero_index], audio_py_pairs[filename][index][1], audio_py_pairs[filename][index][2])\n",
    "        detected_err_list.append(err)\n",
    "    else:\n",
    "        pp = label_to_pinyin[predicted[1].item()]\n",
    "        if pp in nm_hetero_py_i:\n",
    "            hetero_index = nm_hetero_py_i.index(pp)\n",
    "            audio_py_pairs[filename][index] = (m_hetero_py_i[hetero_index], audio_py_pairs[filename][index][1], audio_py_pairs[filename][index][2])\n",
    "            detected_err_list.append(err)\n",
    "        else:\n",
    "            pp = label_to_pinyin[predicted[2].item()]\n",
    "            if pp in nm_hetero_py_i:\n",
    "                hetero_index = nm_hetero_py_i.index(pp)\n",
    "                audio_py_pairs[filename][index] = (m_hetero_py_i[hetero_index], audio_py_pairs[filename][index][1], audio_py_pairs[filename][index][2])\n",
    "                detected_err_list.append(err)\n",
    "            else:\n",
    "                pp = label_to_pinyin[predicted[3].item()]\n",
    "                if pp in nm_hetero_py_i:\n",
    "                    hetero_index = nm_hetero_py_i.index(pp)\n",
    "                    audio_py_pairs[filename][index] = (m_hetero_py_i[hetero_index], audio_py_pairs[filename][index][1], audio_py_pairs[filename][index][2])\n",
    "                    detected_err_list.append(err)\n",
    "                else:\n",
    "                    pp = label_to_pinyin[predicted[4].item()]\n",
    "                    if pp in nm_hetero_py_i:\n",
    "                        hetero_index = nm_hetero_py_i.index(pp)\n",
    "                        audio_py_pairs[filename][index] = (m_hetero_py_i[hetero_index], audio_py_pairs[filename][index][1], audio_py_pairs[filename][index][2])\n",
    "                        detected_err_list.append(err)\n",
    "    "
   ]
  },
  {
   "cell_type": "code",
   "execution_count": 51,
   "metadata": {},
   "outputs": [
    {
     "name": "stdout",
     "output_type": "stream",
     "text": [
      "009419 guai4 bu4 de2 gu3 ren2 chang2 shuo1 jin4 zhu1 zhe3 chi4 wo3 xian4 zai4 que4 shi2 yue4 lai2 yue4 xiang4 zhu3 ren2 le5\n",
      "008493 shi4 shi2 shang4 gao1 li2 hun1 yi3 jing1 gei3 ke4 luo2 di4 ya4 de5 she4 hui4 dai4 lai2 le5 hen3 da4 de5 ying2 xiang3\n",
      "009112 yuan2 lai2 ta1 duo3 qi3 lai2 wan2 wei1 bo2 yu3 you3 ren2 da4 tan2 xing1 zuo4\n",
      "009334 bei4 cheng1 zan4 le5 zhen1 kai1 xin1 ya1\n",
      "008763 hei1 zuo4 fang1 nei4 zheng4 zai4 fen1 zhuang1 jia3 mao4 shui3 ni2\n",
      "009497 shu4 ren2 xiong1 ke3 xi1 wan3 sheng1 le5 yi4 bai3 nian2 huo4 zhe3 zao3 sheng1 le5 yi4 bai3 nian2\n",
      "009668 wu2 yi2 tang2 jun4 de5 shuai2 shou3 zou3 ren2 dui4 lian2 you2 wang3 luo4 lai2 shuo1 shi4 xue3 shang4 jia1 shuang1\n",
      "009872 cao2 hong2 liang4 shuo1 hai2 you3 ji3 ge4 kong1 zhe5 mei2 guan1 xi4 rang4 wo3 chao1 chao1\n",
      "008073 ge4 ti3 gong1 shang1 hu4 gen1 ju4 jing1 ying2 xu1 yao4 ke2 yi3 pin4 qing3 ruo4 gan1 bang1 shou3 huo4 zhe3 xue2 tu2\n",
      "008822 shuang1 fang1 shang1 ding4 ji4 xu4 jiu4 ci3 wen4 ti2 bao3 chi2 cuo1 shang1\n",
      "008846 ping2 shi2 wei1 feng1 lin2 lin3 de5 mi1 mi1 bei4 che3 xia4 le5 xu3 duo1 mao2 shen1 shang4 ye3 bei4 zhua1 shang1 le5\n",
      "008336 hang2 zhou1 shi4 cheng2 nuo4 jiang1 zai4 er4 ling2 san1 wu3 nian2 hou4 chai1 chu2 huo4 jiang4 ceng2\n",
      "009713 ling2 shi2 shi2 jiu3 fen1 xu3 hai3 xun2 san1 yao1 er4 wu3 qi1 hao4 di3 da2 shi4 fa1 shui3 yu4\n",
      "009274 leng3 mo4 guo4 he2 chai1 qiao2 xin1 wen2 cong2 hui2 yi4 li3 zhuai4 chu1 zhe4 xie1 zi4 yan3\n",
      "008895 shi4 nan2 san1 zhong1 pang2 guang1 ming2 mu4 zhang1 dan3 de5 dian4 nao3 fang2 jiu4 you3 wu3 jia1 wai4 jia1 shang4 xue2 xi2 zhong1 xin1\n",
      "009302 suo2 yi3 hen3 min3 gan3 hen3 fu4 za2\n",
      "009510 qian2 hua1 de2 zhi2 lao3 bai3 xing4 ye3 yuan4 yi4 jie3 nang2\n",
      "009856 you2 yu2 luo4 shui3 hou4 lian2 qiang1 le5 ji1 kou3 shui3 shang4 an4 hou4 de5 po2 po2 jing1 hun2 wei4 ding4 lian3 se4 cang1 bai2\n",
      "008547 gai1 bao3 an1 wei2 ji4 zhe3 da3 kai1 dian4 ti1 hu4 song4 ji4 zhe3 xia4 lou2\n",
      "009227 long2 hu2 wang3 ji4 zhe3 jiang1 ji4 xu4 guan1 zhu4\n",
      "008300 qu4 nian2 zhang3 xin1 da4 chao2 xi2 juan3 zhong1 guo2\n",
      "008707 qiao2 xiao3 sun1 gan1 de5 hao3 shi4\n",
      "009453 yi4 xie1 guan1 yuan2 ting1 wan2 hou4 jue2 de5 huo4 yi4 fei2 qian3\n",
      "008661 na4 tou2 yi1 ju4 bu4 xin4 suan4 le5 bian4 gua4 le5\n",
      "008482 xiang4 yu3 ping2 jie4 zhe5 gai4 shi4 wu2 shuang1 de5 wu3 yi4 hai2 qi3 tu2 chong2 zheng3 qi2 gu3 juan3 tu3 chong2 lai2\n",
      "009976 zhe4 yi1 qie4 dou1 ling4 ren2 huan1 xin1 gu2 wu3 a1 ne4 xi1 mei2 li3 you2 bu4 jian1 chi2 dao4 zui4 hou4\n",
      "008673 xian4 zai4 shi4 lian2 wo3 ben3 ren2 ye3 mo3 diao4 le5\n",
      "008729 wo3 chi1 jing1 de5 an4 zi4 si1 cun3\n",
      "008618 san1 shi4 yao4 jia1 kuai4 sheng1 tai4 han2 yang3 fa1 zhan3 qu1 jian4 she4\n",
      "009104 shi2 nian2 shi4 yi1 chuan4 chuan4 jiao3 yin4 shi2 nian2 shi4 yi2 ge4 zhang1 jie2\n",
      "008517 jie2 guo3 zhi3 shi4 ni3 da4 fang1 de5 qing3 da2 ren2 shua2 shua3\n",
      "008553 gao1 di4 jia4 xiang4 mu4 de5 lei2 lei3 fu4 zhai4 dui4 qi3 ye4 de5 ying2 shou1 xing2 cheng2 zhong4 ya1\n",
      "009592 liang3 ge4 dou1 shi4 da4 mei2 nv3 hao3 nan2 xuan3 ze2 ya1\n",
      "009457 kang4 yi4 shi4 wei1 zhe3 sheng1 cheng1 jiang1 jie3 fang4 shou3 du1 di4 li2 bo1 li3\n",
      "009776 chen2 ji4 ming2 ren4 wei2 dui4 fang1 qiao2 bu4 qi3 ta1 liang3 ren2 fa1 sheng1 zhua1 che3\n",
      "009723 jie2 shu4 tai4 guo2 you2 hou4 zhou1 jie2 lun2 lou3 zhe5 ma1 ma5 bu4 chu1 tao2 yuan2 ji1 chang3\n",
      "009705 di4 ba1 li4 que4 zhen3 bing4 li4 wei2 yi1 qi1 sui4 nv3 tong2 jia1 na2 da4 ji2 hua2 ren2\n",
      "009398 na3 ge4 nv3 hai2 zi5 ru2 shang4 hai3 de5 xue3 ye3 suan4 ta1 wan2 le5\n",
      "009350 deng4 li4 de5 xin1 sui4 le5 tian1 tian1 yi3 lei4 xi3 mian4\n",
      "008454 du2 chang3 ke3 wei2 zheng4 fu3 dai4 lai2 gao1 e2 shui4 shou1\n",
      "008701 wo3 mei3 tian1 dou1 yao4 chen2 pao3 ne5\n",
      "009670 shao1 wei1 hui4 yi4 dian3 dan4 wo3 hui4 de5 bu4 duo1\n",
      "008225 shang4 yi1 jiao1 yi4 ri4 ren2 min2 bi4 dui4 mei3 yuan2 hui4 shuai4 wei2 liu4 dian3 san1 qi1 jiu3 qi1 yuan2\n",
      "008243 sui1 ran2 wo3 wu2 er2 wu2 nv3 dan4 xiang3 dang3 he2 zheng4 fu3 de5 fu2 wo3 de5 wan3 nian2 guo4 de2 hen3 an1 yi4\n",
      "008170 zhi1 dao4 ya1 ni3 shi4 wo3 de5 zhu3 ren2 shi4 yi2 ge4 yang2 guang1 kai1 lang3 re4 ai4 sheng1 huo2 de5 ren2\n",
      "009115 geng1 ji2 shou3 de5 shi4 niu1 niu5 de5 fu4 qiang1 gan2 ran3 yan2 zhong4\n",
      "008610 cong2 mu4 qian2 qing2 kuang4 kan4 ning2 bo1 shi4 di4 er4 yi1 yuan4 de5 ying4 dui4 cuo4 shi1 shi4 ji2 shi2 tuo3 dang4 de5\n",
      "008605 shi2 er4 yue4 er4 shi2 jiu3 ri4 chen2 chang2 hai3 bei4 er4 shi2 qi1 qu1 jian3 cha2 yuan4 pi1 zhun3 dai4 bu3\n",
      "009451 jin1 wan3 deng3 zhe5 ni3 xi2 fu4 he2 ni3 pin1 ming4 ba1\n",
      "008163 er2 qie3 ta1 men5 de5 fang2 wu1 dou1 bi3 jiao4 ai3 ge2 zhen4 ji4 shu4 ke2 yi3 zuo4 de2 jian3 yi4 xie1\n",
      "009684 ta1 xiang3 kang2 zhe5 que4 yi3 li4 bu4 cong2 xin1\n",
      "008451 zhe4 ge4 tiao2 kuan3 wu2 yi2 shi4 fei1 chang2 huang1 miu4 de5\n",
      "009589 zuo4 wei2 cong2 ye4 ren2 yuan2 wo3 yi3 jing1 sang4 shi1 le5 kan4 dian4 shi4 ju4 de5 le4 qu4\n",
      "008337 ta1 zhe4 ge4 nv3 ren2 zui3 ba5 ting3 tian2 de5 bu2 guo4 ye3 ting3 hao3 de5 o2\n",
      "008543 zi4 cong2 shi3 yong4 ruan3 jian4 hou4 zhao4 mou3 jiu4 cheng2 le5 chang2 sheng4 jiang1 jun1\n",
      "008007 yi2 ge4 li2 xiang3 de5 yi1 liao2 bao2 xian3 ti3 xi4 ying1 gai1 shi4 zen3 yang4 de5\n",
      "009476 dan4 zai4 si4 nve4 de5 sha1 chen2 sha1 bao4 mian4 qian2 ji4 hua4 bian4 cheng2 tan2 hua1 yi1 meng4\n",
      "009149 zhe4 zhong3 dan1 jing1 shou4 pa4 de5 ri4 zi5 he2 shi2 le5\n",
      "009638 ru2 guo3 shi4 zhuan1 jia1 dou1 de2 wang3 ping2 gu1 bao4 gao4 shang4 qian1 zi4\n",
      "009809 huo3 cong2 san1 jiao3 xing2 de5 ku1 long5 kai1 shi3 ran2 shao1\n",
      "008640 guo2 min2 heng2 cai4 xi1 hong2 shi4 chao3 ji1 dan4\n",
      "009793 su4 ya1 hu2 hu2 bian1 de5 mai4 di4 li3 bei4 du2 si3 de5 ye3 ji1 he2 xi3 que4 sui2 chu4 ke3 jian4\n",
      "008190 wu3 shi4 ke4 guan1 ren4 shi2 bi2 ci3 neng2 li4 he2 ze2 ren4\n",
      "009247 wo3 shuo1 wo3 qu4 ce4 suo3 leng3 jing4 leng3 jing4\n",
      "008360 zhen1 ying1 gai1 hao2 hao3 cha2 zha1 ta1 men5\n",
      "008676 wu3 yue4 qi1 ri4 zhang1 wu3 yi1 zuo4 zai4 qian2 ting3 jia4 shi3 cang1 jin4 xing2 ce4 shi4\n",
      "008124 cheng2 ying1 ma3 shang4 dui4 na4 shi2 pin3 lou4 chu1 xiang1 jian4 hen4 wan3 de5 lian3 se4\n",
      "009676 pi4 ru2 shuo1 mei2 gui1 zong3 shi4 zhang3 bu4 hao3\n",
      "008565 zhang1 liang4 xin1 li5 hui2 da2 zheng4 shi4 lao3 zi5 zui3 shang4 jiong3 xiao4 shuo1 shi4 ma2\n",
      "008119 dui4 ci3 wei4 hou4 kai3 gei3 chu1 le5 jian3 shui4 he2 ti2 jia4 liang3 fu4 yao4 ji4\n",
      "008563 shang4 bai3 ming2 chuan1 lan2 mian2 ao3 dai4 lei2 feng1 mao4 de5 da4 xue2 sheng1 chu1 xian4 zai4 yan4 piao4 kou3 qian2\n",
      "008233 dan1 shuang1 hao4 xian4 yan3 lian4 zhen1 zheng4 de5 kao3 yan4 jiang1 zai4 xia4 zhou1 yi1\n",
      "009093 zai4 gan1 la1 ji1 tong3 nei4 que4 fang4 zhe5 ji1 dan4 ke2\n",
      "008276 dang1 nian2 bei4 tuan2 jie2 qi3 lai2 de5 xiao3 ni2 qiu1 yi3 jing1 bei4 xi1 ji4 yi4 tong3 jiang1 hu2 de5 e4 yu2 xian2 qi4\n",
      "009077 rao2 rang3 ban4 nian2 zui4 zhong1 bei4 pan4 fa2 kuan3 le5 shi4\n",
      "008017 dan4 ye4 nei4 fen1 xi1 shi1 ye3 dui4 zheng4 ce4 xiao1 xi5 dui4 zi1 ben3 shi4 chang3 de5 ci4 ji1 chi2 jin3 shen4 tai4 du4\n",
      "008039 cong2 wei4 qiao3 qu3 hao2 duo2 wei4 shang1 tian1 hai4 li3\n",
      "008371 bu4 hao3 yi4 si1 wo3 hai2 mei2 you3 wan2 guo4\n",
      "008603 qing1 shao4 nian2 bian4 yu2 hong3 pian4 jiao4 suo1 ye3 shi4 bu4 fa3 zhi1 tu2 shou2 xuan3 de5 yuan2 yin1 zhi1 yi1\n",
      "009932 zhe4 yao1 qiu2 zhong1 guo2 bi4 xu1 you3 yi2 ge4 jian1 qiang2 de5 zheng4 dang3 ling2 dao3\n",
      "009516 ta1 tie1 zhe5 yi2 ge4 tu1 tou2 nan2 ren2 na4 cai2 shi4 tie1 zhe5 kan4 lai2 shang4 di4 ye3 you3 lou4 zhan3 de5 shi2 hou5\n",
      "009975 suan4 ming4 qi2 shi2 zhi3 shi4 ren2 men5 de5 yi4 zhong3 zi4 wo3 an1 wei4 he2 zi4 wo3 an4 shi4 er2 yi3 wo3 men5 hai2 shi4 yao4 xiang1 xin4 ke1 xue2 cai2 hao3\n",
      "009584 mian4 dui4 jiao3 hua2 de5 xian2 yi2 ren2 min2 jing3 bai3 chu1 zhong2 zhong3 zheng4 ju4 yi4 yi1 fan3 bo2\n",
      "009060 bie2 ju3 sang4 huo2 chu1 jing1 cai3 cai2 shi4 dui4 feng3 ci4 zui4 hao3 de5 huan2 ji1 dun1 xia4 lai2 gei3 zi4 ji3 yi2 ge4 yong1 bao4\n",
      "008704 shui2 yao4 bu4 ren4 shi2 ni3\n",
      "009771 ta1 jiang1 bei4 kong4 fei1 fa3 chuang3 ru4 yi3 ji2 miao3 shi4 fa3 ting2 liang3 zong1 zui4\n",
      "008509 ni3 yao4 shi4 an1 quan2 de5 hua4 jiu4 miao1 yi4 sheng1 da4 jia1 jiu4 fang4 xin1 le5\n",
      "009595 wo3 you3 yi4 ke1 re4 ai4 sheng1 huo2 de5 xin1 zhe4 bi3 shen2 me5 dou1 zhong4 yao4\n",
      "009963 lu4 shang4 guan1 qia3 hen3 duo1 wei2 le5 fang1 bian4 che4 li2 zhi2 hao3 qing1 zhuang1 qian2 jin4\n",
      "009161 chan2 shi1 na2 chu1 le5 yi2 ge4 cha1 zi3 shen2 me5 ye3 bu4 shuo1 nian2 qing1 ren2 huang3 ran2 da4 wu4\n",
      "009139 cu4 bu4 ji2 fang2 de5 ta1 ji2 tui4 liang3 bu4\n",
      "009525 wei2 xiu1 bu4 men2 bao3 liu2 xiao1 shou4 deng3 qi2 ta1 ye4 wu4 he2 bing4 zai4 yi4 qi3\n",
      "008599 ai4 wei1 er2 zao1 yu4 zhong1 guo2 chang2 cheng2 ai4 wei1 er2 de5 zhong1 guo2 zhi1 lv3 ke3 wei4 shou1 huo4 duo1 duo1\n",
      "008718 hao3 de5 dian4 hua4 jie1 tong1 zhong1\n",
      "009677 gei3 nv2 you3 ge4 jing1 xi3 dai4 nv2 you3 qu4 fu4 jin4 de5 di4 fang1 wan2\n",
      "008143 zai4 chuo1 chuan1 zhi1 hui4 yan2 mian4 diu1 shi1 bu4 dai4 biao3 wo3 mei2 you3 zhun3 bei4\n",
      "008970 zhe4 wei4 zai4 zhan4 chang3 shang4 chi2 cheng3 sha1 chang3 de5 shi4 bing1 que4 wu2 fa3 ren3 shou4 pin2 min2 sheng1 huo2\n",
      "008237 wo3 men5 jiu4 juan2 qi3 pu1 gai4 na2 zhe5 ya2 shua1 shen2 me5 de5 qu4 xi3 shu4\n",
      "009824 dian4 pu1 nei4 bo1 li2 sui4 bian4 di4\n",
      "008708 wo3 jue2 de5 hong2 shu4 lin2 bu2 cuo4\n",
      "008060 qin1 shen1 ti3 yan4 hou4 weng1 xi2 sheng1 zai4 ci4 fa1 wen4\n",
      "009978 jin4 liang2 shao3 wan2 dian4 nao3 shao3 kan4 dian4 shi4 shao3 da3 you2 xi4\n",
      "008600 e4 le5 ren3 zhe5 dian3 ma2 bu4 ran2 zhen1 de5 hui4 pang4 hen3 duo1\n",
      "008848 qing3 zhi1 qing2 zhe3 yu3 kuai4 bao4 re4 xian4 ba1 wu3 yao1 ling2 ling2 ling2 ling2 ling2 lian2 xi4\n",
      "009330 chu2 fei1 you3 tong1 tian1 de5 neng2 li4 dan4 tian1 hui4 sui2 shi2 sui2 di4 bang1 ni3 jiang4 yu3 mie4 huo3 ma2\n",
      "009632 huang2 chang2 yong3 gei3 chu1 le5 zi4 ji3 de5 da2 an4\n",
      "008984 ta1 de5 ban4 gong1 zhuo1 shang4 zong3 shi4 dui1 man3 le5 xue2 sheng5 zuo4 ye4 shi4 juan4 jing1 chang2 fei4 qin3 wang4 shi2\n",
      "008464 li2 zi5 dui4 chang2 yan2 jia3 zhuang4 xian4 zhong3 da4 bian4 mi4 yan4 shi2 xiao1 hua4 bu4 liang2 deng3 ji2 bing4 you3 yi2 ding4 liao2 xiao4\n",
      "009624 jian1 kong4 pai1 she4 dao4 gai1 nan2 zi3 zou3 lu4 shi2 you3 xie1 bo2 jiao3 chang2 fa4 pian1 shou4\n",
      "008123 hai2 yin1 wei4 mei2 qian2 zhong4 gu3 ming2 xiang1 cong2 lai2 bu4 mai3 wa4 zi5 ye3 bu4 chuan1\n",
      "009155 zhe4 jiu4 yi4 wei4 zhe5 jin1 hou4 gong1 min2 ke2 yi3 bu4 can1 jia1 jia4 xiao4 pei2 xun4 er2 zhi2 jie1 luo2 kao3 jia4 zhao4\n",
      "009332 yu2 shi4 ta1 bian4 da3 dian4 hua4 xun2 wen4 jia1 zhong1 shi4 fou3 you3 shi4\n",
      "009859 yin1 wei4 pan2 chan2 ji1 hu1 hao4 jin4 san1 ren2 zhi1 neng2 kao4 lin2 ju1 he2 bao3 an1 de5 jie1 ji4 mian2 qiang3 du4 ri4\n",
      "009311 tou2 zi1 shi2 bi4 xu1 tong2 shi2 you3 yuan3 jian4 zhuo2 shi2 he2 shi2 zai4 de5 shu4 ju4 zhi1 cheng1\n",
      "009071 zhe4 shi4 zang4 min2 de5 ding2 li3\n",
      "008331 zhe4 ge4 zuan1 kong3 ke3 yu3 liu4 qi1 ba1 jiu3 hao4 gong1 zuo4 mian4 xiang1 lian2\n",
      "009702 ji1 fen1 yi3 fen1 wei2 dan1 wei4 mei3 ci4 jin4 ru4 zhang4 hu4 shi2 an4 si4 she3 wu3 ru4 gui1 ze2 qu2 zheng3 ji4 suan4\n",
      "009478 mian4 dui4 tong2 yang4 jue2 jiang4 de5 fu4 qin1 wei1 zi3 wu2 ke3 nai4 he2 zhi3 de5 bai3 yi1 bai3 shun4\n",
      "008122 ci3 qian2 ou1 yang1 hang2 he2 yin4 du4 yang1 hang2 yi3 jing1 xuan1 bu4 jiang4 di1 li4 lv4\n",
      "008116 shi1 ti3 lei3 cheng2 yi4 dui1 you3 ming2 xian3 zao1 ren2 sao3 she4 zhi4 si3 ji4 xiang4\n",
      "008777 ta1 na2 zhe5 zhao4 pian1 zi3 xi4 duan1 xiang2 cai1 ce4 le5 duo1 ci4 cai2 ren4 chu1 zhao4 pian1 zhong1 de5 wei4 qiu1 yue4\n",
      "008235 zhong1 guo2 hai3 yang2 diao4 cha2 chuan2 ke1 xue2 san1 hao4 er4 shi2 san1 ri4 jia1 ru4\n",
      "009136 si1 li4 yao2 gao4 su4 ji4 zhe3 dian4 dong4 san1 lun2 che1 zai4 kuai4 di4 shi4 chang3 de5 sheng1 ming4 li4 fei1 chang2 wang4 sheng4\n",
      "008244 dan4 ying2 jie1 ta1 de5 bu2 shi4 tong2 qing2 he2 bang1 zhu4 er2 shi4 yi1 lang4 you4 yi1 lang4 de5 qian3 ze2\n",
      "008183 bu2 guo4 dui4 yu2 da4 duo1 shu4 pin3 pai2 er2 yan2 zhe4 reng2 ran2 shi4 zui4 wen2 tuo3 de5 zuo4 fa3\n",
      "009442 quan2 qiu2 di4 yi1 zuo4 ping1 pang1 qiu2 pai1 zao4 xing2 de5 ti3 yu4 bin1 guan3 xiao4 guo3 tu2\n",
      "009679 an1 ma3 xian4 zai4 wo3 dou1 bu2 lian4 le5 lian4 bu4 chu1 lai2 he1 he1\n",
      "008141 wo3 mei2 you3 di4 di4 dan4 wo3 you3 yi4 qun2 ai4 wo3 de5 ji1 qi4 ren2 hao3 peng2 you5\n",
      "009038 luan2 zi3 shi4 cong2 ji1 yin1 ku4 tiao1 xuan3 de5 lai2 zi4 yi2 ge4 ni4 ming2 de5 nv2 zi3\n",
      "009664 bai2 pang4 gao1 bai2 er2 liang4 de5 lian3 dai4 ti4 le5 deng1 de5 gong1 neng2\n",
      "008521 huang2 shang4 nin2 jin1 tian1 zen3 me5 you3 kong4 dao4 wo3 zhe4 lai2 la1\n",
      "009338 ni3 ye2 hao3 fan2 ya1\n",
      "009092 wu2 qi2 long2 cheng1 dang1 zhi4 zuo4 ren2 chi1 li4 bu4 tao2 hao3\n",
      "008075 hai2 you3 ren2 ba3 wen4 ti2 che3 dao4 le5 gong1 che1 shang4\n",
      "009844 dang1 ran2 shang4 wang3 ye3 bu4 guang1 shi4 kan4 qi2 ye3 liao2 liao2 tian1 zha1 cha2 you2 jian4 shen2 me5 de5\n",
      "008159 si1 ji1 shi1 fu5 yi1 leng4 you1 shang1 de5 shuo1 ni3 shu4 xue2 lao3 shi1 si3 de5 zao3 a1\n",
      "009144 zui4 hou4 han2 zhe5 lei4 wen4 le5 ju4 shui2 jia1 de5 xiong2 hai2 zi5 jiao4 xi1 zao3 bu2 da4 san1 ge4 tu3\n",
      "008104 jian4 zhuang4 min2 jing3 gan2 jin3 da3 kai1 chuang1 hu5 jiang1 nan2 zi3 zhuai4 hui2 fang2 nei4\n",
      "009440 wo3 yi1 bao4 gao4 ni3 tao2 ye4 jiu4 de2 chu3 fen4 mei2 gao4 ni3 ting3 hao3 le5 kan4 yi4 feng1 xin4 you3 shen2 me5 liao3 bu4 qi3 le5\n",
      "009831 zhi4 yu2 dang1 chu1 bao4 kao3 nan2 ke1 da4 ta1 ye3 zhi3 shi4 xiang3 tao2 bi4 gao1 kao3 sui2 bian4 kao3 zhe5 wan2 wan2\n",
      "008113 zai4 ou1 yuan2 xian4 ru4 wei1 ji1 zhi1 shi2 ou1 zhou1 kai1 shi3 xiang4 zhong1 guo2 qiu2 zhu4\n",
      "009184 wo3 men5 lian2 xi4 hao3 le5 la1 sa4 na4 bian1 you3 liang3 ge4 lv2 you3 hui4 zuo4 hao3 jie1 ying4\n",
      "008291 zhe4 me5 duo1 xiang3 ba3 wo3 lei2 si3 ma2\n",
      "009703 zhe4 shi2 lou2 fang2 huang3 de2 geng4 jia1 li4 hai5 bo1 li2 chuang1 hua1 hua1 de5 za2 la4 xia4 lai2\n",
      "008068 xian2 yi2 ren2 zhan4 zai4 gao1 chu4 shou2 ju3 yi4 gen1 bang4 chui2 yong4 li4 hui1 wu3 za2 xiang4 min2 jing3 wang2 jun1\n",
      "009736 pan1 bing1 shi4 yi1 wei4 po1 you3 te4 dian3 he2 ge4 xing4 de5 xuan2 shou3\n",
      "008672 sha1 he2 shi4 da1 lian5 cun1 xiang4 mu4 xian4 chang3\n",
      "008771 de2 te4 le4 fu1 dui4 zhi3 kong4 gong1 ren4 bu2 hui4\n",
      "008798 da4 ye2 te4 bie2 xi3 huan5 zai4 shen1 zhen4 de5 sheng1 huo2\n",
      "009116 wo3 zui4 jin4 zhu4 yi4 dao4 wang3 shang4 dui4 fa1 gai2 wei3 yi4 lun4 po1 duo1\n",
      "009484 ke3 chou2 lai2 de5 na4 dian3 qian2 mei4 mei5 zuo4 ji3 ci4 tou4 xi1 jiu4 dou1 hua1 guang1 le5\n",
      "009804 ta1 men5 dan1 xin1 ye3 xiang4 ban1 jia1 hou4 ke3 neng2 chong2 fan3\n",
      "009915 ye3 jiu4 shi4 shuo1 jin1 wan3 cheng2 du1 shi4 min2 ji2 you3 ke3 neng2 zai4 ci4 kan4 dao4 piao1 xue3\n",
      "008833 wo3 shi4 qiu3 bai3 mei4 zi5 a1 bu4 neng2 gei3 zu3 zhi1 diu1 lian3\n",
      "008750 ke3 zhe4 wei4 lao3 tai4 tai5 bu2 dan4 mei2 biao3 shi4 gan3 xie4 fan3 er2 hai2 bu4 ting2 de5 hong1 sun1 zi5\n",
      "009652 ling4 wai4 yao1 ling2 ba1 guo2 dao4 yang2 xian4 duan4 ye3 chu1 xian4 le5 lei4 si4 de5 qing2 kuang4\n",
      "008852 wo3 cai2 bu2 yao4 bei4 bie2 ren2 cao1 zong4 ne5\n",
      "008809 ta1 shuo1 wo3 jue2 de5 nin2 zen3 me5 kan4 zen3 me5 xiang4 wo3 san1 da4 ye2 kao3 guan1 hun1 si3\n",
      "009542 mu4 qian2 chen2 mou3 yin1 she4 xian2 gu4 yi4 sun2 hui3 gong1 si1 cai2 wu4 bei4 jing3 fang1 xing2 ju1\n",
      "009488 wo3 ning2 yuan4 gei3 gou3 chi1 ye3 bu4 gei3 ta1 liu2\n",
      "008486 dan1 shen1 nv3 xing4 zui4 jiu3 hou4 ying1 you3 shu2 xi1 de5 nan2 xing4 pei2 song4 hui2 jia1\n",
      "009085 lin2 jin4 nian2 di3 ge4 zhong3 bu3 tie1 fen1 zhi4 ta4 lai2\n",
      "008061 chen2 shui2 bian3 yao4 xiang3 jiao1 bao3 hai2 xu1 deng3 dai4\n",
      "008343 xiao1 xi1 fa1 chu1 hou4 tong2 xue2 men2 qun2 qing2 ji1 ang2 quan2 dou1 bao4 le5 ming2\n",
      "008311 ta1 xi3 ai4 da3 wang3 qiu2 you2 yong3 zeng1 bei4 xuan3 wei2 xue2 xiao4 ma3 shu4 bu4 de5 zhu3 jiang4\n",
      "008043 ru2 guo3 dang3 de5 ji1 ben3 lu4 xian4 cuo4 le5 wo3 men5 de5 shi4 ye4 jiu4 zao1 shou4 cuo4 zhe2 he2 shi1 bai4\n",
      "009146 an3 men5 san1 nian2 da4 xue2 jing4 suan4 shu4 xue2 ti2 le5\n",
      "008148 wo3 kan4 guo4 ni3 he2 wu2 zhuo2 xi1 de5 xue2 jing3 san1 hen3 xi3 huan5\n",
      "009292 you3 ren2 shen4 zhi4 kang2 lai2 lou2 ti1 da1 zai4 wei2 qiang2 shang4 si4 chu3 zhang1 wang4\n",
      "008083 chen2 ming2 liang4 zai4 ting2 shen3 zhong1 ye3 cheng2 ren4 ta1 ben3 ren2 ou2 er3 ye3 xi1 shi2 du2 pin3\n",
      "008612 gen1 ju4 gu3 dai4 mu4 zhi4 deng3 zi1 liao4 zong3 jie2 gu3 dai4 nv2 zi3 zai4 shi2 wu3 dao4 shi2 jiu3 sui4 jie2 hun1 wei2 duo1 o2\n",
      "009125 bu4 kua1 zhang1 de5 shuo1 ta1 jiang1 guan1 xi4 yi1 gai3 de5 cheng2 bai4\n",
      "008988 da4 pi1 ji4 zhe3 liu2 shou3 ze2 kao1 ma1 yu4 suo3 lou2 xia4 xi1 wang4 neng2 cai2 fang3 dao4 di4 yi4 shou3 zi1 xun4\n",
      "009913 cheng2 chang2 geng1 sheng1 zai4 qing1 wang2 zhao1 jia1 qing4 nian2 jian1 an1 hui1 de5 qian2 shan1 xiao3 xian4\n",
      "009764 yu3 xiang2 lian2 dou3 de5 yong3 qi4 ye3 mei2 you3 zhi2 you3 zai4 bei4 di4 li3 ma4 de5 ben3 shi4\n",
      "008101 mei2 you3 gong1 ji3 jing4 zheng1 xu1 qiu2 jing4 zheng1 jia4 qian2 ken3 ding4 jiu4 wang3 shang4 pao3\n",
      "009290 yin1 wei4 jia1 ting2 bu4 ke3 neng2 ge1 she3 shi4 ye4 ke2 yi3 deng3 dai4 xia4 yi4 bo1\n",
      "008727 guo2 qi3 li4 run4 ye3 zai4 xia4 jiang4\n",
      "008429 wo3 du2 dao4 yi2 ban4 jiu4 xin1 teng2 le5 shi4 nao4 na3 yang4\n",
      "008208 ling4 wai4 di4 mian4 shang4 hai2 you3 yi2 ge4 zuan1 kong3 yi3 da3 tong1\n",
      "009758 ka3 mei2 lun2 biao3 shi4 gan3 xie4 bing4 qing3 zhuan3 da2 dui4 wen1 jia1 bao3 zong2 li3 de5 wen4 hou4\n",
      "009521 ge2 xiao3 jie5 de5 ma1 ma5 wang2 nv3 shi4 zhi4 jin1 reng2 ran2 yi3 lei4 xi3 mian4\n",
      "009333 fen1 mian3 chi2 xiang4 ge4 da4 yu4 gang1 you3 zuo4 dian4 jiao3 dian4 liang3 ce4 hai2 you3 ba2 shou3\n",
      "009995 li3 dong1 weng3 biao3 shi4 zi4 ji3 dang1 shi2 zai4 fa3 ting2 shang4 fa1 biao3 le5 yi1 ci4 du2 te4 de5 gong1 su4 yi4 jian4\n",
      "009131 you3 wang2 you3 wen4 neng2 bu4 neng2 hui2 yi4 ji1 jian4 liu2 yang2 zai4 xue2 xiao4 li3 de5 qu4 shi4 huo4 qiu3 shi4\n",
      "009511 de2 guo2 li4 shi3 you1 jiu3 wen2 hua4 cui3 can4 su4 you3 shi1 ren2 he2 zhe2 xue2 jia1 guo2 du4 de5 mei3 yu4\n",
      "008009 you3 yi1 ju4 hua4 jiao4 yuan2 heng1 li4 zhen1 shi4 yi4 jing1 shang4 de5 yi2 ge4 gua4\n",
      "008835 shang4 zhou1 wu3 wei2 liu4 dian3 san1 ba1 si4 ling2\n",
      "008367 yuan2 yin1 shi4 gong1 zi1 di1 zhu4 fang2 zhai3\n",
      "008991 nan2 zi3 hao3 xiang4 bing4 bu4 jie3 qi4 you4 yao4 lin1 zhe5 la1 ji1 tong3 zai4 za2 bei4 ren2 zu2 zhi3\n",
      "009076 mai3 ping2 yin3 liao4 ping2 gai4 shang4 xie3 de5 zai4 lai2 yi4 ping2\n",
      "009946 ling4 wai4 jie2 ke4 xun4 you3 wen2 chun2 xian4 yan3 xian4 mei2 mao5 de5 dong4 zuo4\n",
      "009918 yu4 dao4 dian1 bo3 shi2 ying1 ting1 cong2 cheng2 wu4 yuan2 de5 an1 quan2 zhi3 ling4 hui2 zuo4 wei4 zuo4 hao3\n",
      "009407 xiang1 gang3 hui2 gui1 yi4 zhou1 nian2 de5 ji4 nian4 ri4 ji2 jiang1 lai2 lin2\n",
      "008760 jing1 yi1 yuan4 jian3 cha2 xiao3 ling2 wei2 ruan3 zu3 zhi1 cuo4 shang1\n",
      "008107 zai4 di4 qu1 ceng2 mian4 ling2 dao2 zhe3 xu1 yao4 que4 ding4 xia4 yi2 ge4 zeng1 zhang3 qian2 yan2\n",
      "008020 guo2 xue2 re4 zheng4 zai4 gan3 ran3 zhe5 geng1 duo1 tiao2 jian4 cen1 ci1 bu4 qi2 de5 you4 er2 yuan2\n",
      "008705 yin1 wei4 chuo1 dao4 tong4 chu4 le5\n",
      "008450 gu2 sui3 juan1 xian4 guo4 cheng2 zhong1 de5 fan4 hao2 jie2\n",
      "009410 ni3 shou3 xian1 yao4 zhao3 ji3 ge4 jing1 bu5 qi3 nie1 de5 ruan3 shi4 zi5\n",
      "009847 shi2 xia4 ni3 bei4 jie3 gu4 le5 zai4 mei3 guo2 shen4 wei2 liu2 xing2 cheng2 le5 yi1 ju4 shi2 mao2 yu3\n",
      "008531 ke2 yi3 chi1 wan3 ji1 tang1 hun2 tun2 zai4 chi1 yi2 ge4 shui2 zhu3 ji1 dan4 ying2 yang3 you4 jian4 kang1\n",
      "008374 zhe4 dui4 suan1 yu3 zhi4 li3 hen3 bu2 li4\n",
      "008804 zai4 ci3 guo4 cheng2 zhong1 li2 yu3 ye4 wu4 yuan2 fa1 sheng1 kou3 jue2 sui2 hou4 xiang1 hu4 la1 che3 tui1 sang3\n",
      "009887 wu1 ya1 de5 si3 shi4 zi4 ji3 zao4 cheng2 de5 yuan2 yin1 zhi1 zai4 yu2 ta1 mei2 you3 zuo4 diao4 cha2 shi4 tan4 huo2 dong4\n",
      "009348 wo3 shen1 shang4 zhong1 yu2 you3 yi4 dian3 zhu3 ren2 de5 qi4 zhi4 le5\n",
      "008168 wo3 jun1 shi2 xian4 hou4 qin2 xian4 dai4 hua4 you3 mei2 you3 shi2 jian1 biao3\n",
      "008078 zhe4 ge4 wen4 ti2 kan4 kan4 wo3 jiu4 zhi1 dao4 le5 ya1\n",
      "009704 pan1 shi2 yi4 chu1 le5 yi2 ge4 jia4 qian2 wo3 men5 zong1 he2 kao3 lv4 ke2 yi3 jiu4 mai4 lou2\n",
      "008945 hai2 zi5 zai4 wo3 shen1 shang4 pa2 zhe5 wan2 tu1 ran2 ting1 dao4 lo5 ge1 ge1 de5 qiao1 men2 sheng1\n",
      "009697 chuang1 wai4 wan3 feng1 chui1 fu2 shu4 ye4 you3 le5 huo2 li4 hua1 la1 la1 de5 xiang3 xiang4 zai4 su4 shuo1 zhe5 shen2 me5\n",
      "009140 ru2 guo3 bu4 neng2 cong2 zhe4 yi1 jian4 kan4 dao4 lie4 ren2 de5 yong2 wu3 na4 zhe4 tou2 shi1 zi5 jiu4 ben4 dan4 dao4 jia1 le5\n",
      "008526 zhe4 shi4 yi4 zhuang1 fei1 xing2 yun4 dong4 shou3 ci4 deng1 lu4 zhong1 guo2\n",
      "008126 xian4 zai4 zhou1 wei2 ju1 min2 dui4 ni3 men5 jia1 you3 mei2 you3 te4 bie2 de5 gan3 jue2\n",
      "009773 chou3 wen2 ming2 xing1 zou3 bu4 liao3 chang2 xian4\n",
      "009046 er2 dao4 xia4 ji4 hou4 niao3 bei3 fei1 you4 ke3 neng2 zai4 ya4 zhou1 bei3 bu4 dai4 lai2 yi4 qing2\n",
      "008406 ku4 ni2 si1 shen1 shou3 ba3 ku4 che4 de5 tou2 lou3 jin4 huai2 li3 shen4 zhi4 dang1 zhong4 jie1 wen3 xiang1 dang1 qin1 mi4\n",
      "008545 ben3 lai2 li3 kun1 yao4 ke3 na2 chu1 xu3 duo1 li3 you2 wei2 zi4 ji3 kai1 tuo1\n",
      "008256 da4 duo1 shu4 ren2 dou1 fang4 qi4 yang3 zhu1 gai3 zuo4 bie2 de5 hang2 dang1\n",
      "008660 yi2 jia1 can1 ting1 yi4 ming2 a1 yi2 zai4 he1 ka1 fei1\n",
      "008330 hai2 you3 si4 fen1 zhi1 yi1 de5 ren2 shen4 zhi4 mei2 you3 an4 chu3 fang1 zhua1 yao4 zhi4 bing4\n",
      "009382 zhe4 du3 si3 wang2 qiang2 shang4 dan4 kong3 lei2 lei3 zhe4 li3 shi4 na4 cui4 chu3 jue2 fan4 ren2 de5 di4 fang1\n",
      "009949 cong2 yun4 xing2 gui3 ji4 shang4 lai2 shuo1 ta1 ye3 bu4 ke3 neng2 shi4 xing1 xing5\n",
      "008248 yan3 xi2 guo4 cheng2 zhong1 jiang1 dong4 yong4 fu2 he2 bei3 yue1 biao1 zhun3 de5 xian1 jin4 ji4 suan4 ji1 xi4 tong3\n",
      "009754 zhong1 guo2 zheng4 fu3 hen3 zhou1 quan2 wu2 ke3 tiao1 ti4\n",
      "008501 mao2 tai2 ji2 tuan2 zuo2 tian1 fa1 biao3 sheng1 ming2 zai4 ci4 pie1 qing1 le5 zi4 ji3 yu3 she1 chi2 pin3 de5 guan1 xi4\n",
      "009900 mei3 tian1 ba3 lao2 sao1 na2 chu1 lai2 shai4 shai4 tai4 yang2 xin1 qing2 jiu4 bu2 hui4 que1 gai4\n",
      "009954 mei2 liao4 dao4 chuang3 xia4 da4 tou2 fo2 de5 a1 wei3 hai2 bu4 zhi1 hui2 gai3\n",
      "008529 xi3 huan5 se4 cai3 he2 tu2 hua4 de5 ren2 da4 duo1 xi3 huan5 jian3 dan1 er2 an1 jing4 de5 sheng1 huo2 shuo1 de5 shi4 ni3 ma2\n",
      "009514 jiu4 shi4 bi3 jiao4 xi3 huan5 xie3 dian3 dong1 xi1 ma2\n",
      "008871 chi2 gu3 de5 mei4 li4 jiu1 jing4 zai4 na3\n",
      "009408 teng2 tong4 nan2 ren3 de5 wang2 dan1 dan1 sui2 ji2 ye3 tang2 dao3 zai4 di4\n",
      "009397 er2 tong2 que1 dian3 hui4 dao3 zhi4 zhi4 li4 di1 xia4 shen1 cai2 ai2 xiao3\n",
      "008260 ye3 nan2 guai4 zhong1 guo2 you3 ming2 yan2 qun2 zhong4 de5 yan3 jing5 shi4 xue3 liang4 de5\n",
      "009157 dang1 ran2 zhe4 bu4 neng2 quan2 guai4 zhang1 yi4 mou2 zhi1 guai4 zi4 ji3 zhi1 shi2 tai4 pin2 fa2\n",
      "008653 wo3 pa4 ta1 men5 hu4 xiang1 chao2 xing3 dui4 fang1\n",
      "008969 zhi3 ding4 de5 ri4 qi1 dao4 le5 suo2 you3 de5 niao3 dou1 yi4 qi2 lai2 dao4 zhou4 si1 mian4 qian2\n",
      "009326 zui4 jin4 gan3 jue2 ta1 xiao1 ting2 yi4 xie1 le5 wo3 ye3 jue2 de5 wo3 ke2 yi3 chu1 lai2 le5\n",
      "009458 you3 mei2 you3 fa1 xian4 wo3 xi3 huan5 bei4 ying3 zhao4 bu2 guo4 wo3 xiang1 xin4 ni3 xin1 li5 yi3 jing1 you3 wo3 de5 lun2 kuo4 le5\n",
      "008175 fei1 zhou1 ren2 you3 fei1 chang2 qiang2 da4 de5 fu2 zhou4 neng2 gou4 zai4 zha2 yan3 jian1 hui3 diao4 yi2 ge4 ren2\n",
      "009495 jiao4 shi4 li3 yi2 you3 ji3 ge4 ren2 shu3 jia4 de5 lian4 bi3 zuo4 wen2 gang1 fa1 xia4 lai5\n",
      "009430 ta1 chuan1 le5 yi1 jian4 song1 kua3 kua3 de5 hong2 se4 chen4 shan1\n",
      "008717 nan2 you3 yi4 liang3 ge4 yue4 bu4 zhu3 dong4 lian2 xi4 wo3 shi4 ji3 ge4 yi4 si1\n",
      "008298 bing4 you3 men2 shuo1 ta1 men5 chu1 qu4 shua3 le5\n",
      "009113 ran2 hou4 ta1 chuan1 shang4 yi1 jian4 quan2 shen1 bai2 se4 de5 sang1 fu2\n",
      "008794 ji1 qi4 ren2 yao4 shi4 lei2 le5 hui4 guan1 ji1 chong2 qi3\n",
      "008139 ta1 jin4 lai2 hou4 da4 sheng1 wen4 hao3 yao4 wo3 men5 bang1 ta1 zhun3 bei4 yi4 xie1 pu3 tong1 dian3 xin5 da3 bao1 dai4 zou3\n",
      "008198 ni3 jian4 guo4 na3 zhi1 mu3 ji1 da3 jia4 yong4 ji1 dan4 de5\n",
      "008345 wo3 yao4 xue2 xi2 yi1 xia4 xiang1 guan1 zhi1 shi2\n",
      "008883 zun1 ming4 wo3 ke2 yi3 pei2 ni3 yi4 qi3 qu4\n",
      "009803 jing1 qu1 zheng4 fu3 yu3 duo1 fang1 xie2 tiao2 chong2 xin1 shang4 lu4\n",
      "008772 er2 zhe4 xie1 huan2 jie2 dui4 yu2 cheng2 ben3 geng4 wei2 min2 gan3\n",
      "008956 shang4 mian4 xie3 you3 ming2 zi5 chu1 sheng1 nian2 yue4 deng3 xin4 xi1 dan4 xian4 zai4 dou1 gao3 diu1 le5\n",
      "008156 chu2 le5 que2 tui3 nan2 zai4 shen1 shang4 tao1 chu1 de5 yi1 bu4 wai4 chu2 fang2 chuang1 tai2 shang4 hai2 you3 yi1 bu4\n",
      "009620 zi4 you4 shi2 ji4 shi4 qi3 da4 ren2 men5 yi1 shuo1 qi3 ta1 dou1 duo2 duo3 shan2 shan3 hui4 mo4 ru2 shen1\n",
      "008012 er2 dao4 er4 ling2 jiu3 ling2 nian2 zhe4 yi1 ke3 neng2 xing4 ze2 jiang1 gao1 da2 bai3 fen1 zhi1 jiu3 shi2\n",
      "009893 ju4 xi1 zhe4 ge4 liu2 dong4 de5 luo4 tuo5 zhao4 xiang4 tan1 bing4 wei4 ban4 li3 ren4 he2 shou3 xu4\n",
      "009438 kan4 dao4 zhe4 ge4 heng2 fu2 xu3 duo1 ren2 re4 lei4 ying2 kuang4\n",
      "008995 ge2 lao3 tai4 hen3 gan3 ji1 yao4 ba3 qin2 cai4 song4 gei3 hao3 xin1 ren2 dan4 bei4 ren2 men5 wan3 ju4\n",
      "009143 ban4 fa3 gui1 ding4 le5 nong2 chan2 pin3 zeng1 zhi2 shui4 jin4 xiang4 shui4 e2 he2 ding4 fang1 fa3\n",
      "009294 you3 er2 you3 nv3 le5 hen3 man3 zu2 le5\n",
      "009753 guo1 jin1 long2 ping2 jia4 lu2 yong3 shi4 ye4 xin1 ze2 ren4 gan3 jiao4 qiang2 zu3 zhi1 xie2 tiao2 neng2 li4 qiang2\n",
      "008584 zi4 zhi4 qu1 fu4 zhu3 xi2 jin4 nuo4 kan4 wang4 cai3 ta4 shi4 gu4 shou4 shang1 xue2 sheng5\n",
      "009248 zhu3 yao4 yong4 zuo4 piao3 bai2 ji4 fang2 fu3 ji4\n",
      "008027 wu2 pei4 yu4 shuo1 you3 ren2 wen4 wu2 meng4 chao1 shen1 ti3 na4 me5 hao3 shi4 bu2 shi4 chi1 shen2 me5 bu2 pin3 a1\n",
      "008053 xu1 yao4 piao2 xi3 de5 guo1 wan3 tai4 duo1 chi2 zi5 li3 shui3 mian4 shang4 de5 pao4 mo4 yue4 lai2 yue4 duo1\n",
      "008361 dao4 san1 yao1 jiu3 guo2 dao4 du3 che1 zao4 cheng2 jiao1 tong1 shou4 zu3 yue1 yi1 xiao3 shi2\n",
      "009622 wo3 hai2 mei2 kai1 fa1 chu1 zhe4 ge4 gong1 neng2 ye2\n",
      "009158 zhe4 jue2 dui4 shi4 shou4 dao4 le5 ta1 pai1 she4 de5 jing1 song3 pian4 zi3 zhai2 de5 ying2 xiang3\n",
      "009543 ni3 shi4 fou3 xiang3 guo4 ni3 de5 ge4 ren2 xin4 xi1 ye2 xu3 yi3 bei4 zhuan2 shou3 shu4 ci4\n",
      "008032 mei3 zhong1 chu2 li3 fen1 qi2 de5 fang1 shi4 jiong3 yi4\n",
      "008253 ji2 shi3 zai4 wei4 jia1 zheng4 lao2 lao3 qu4 shi4 shi2 dou1 mei2 gan3 shuo1\n",
      "009819 ren2 men5 shou3 peng3 xian1 hua1 zai4 lin2 shi2 she4 zhi4 de5 deng3 hou4 qu1 li3 huan2 huan3 qian2 xing2\n",
      "009049 sheng1 hai2 zi5 ye3 hen3 lei2 a1 bu2 yao4 zai4 yi4 shi4 shei2 de5 le5 hao3 ma2\n",
      "008076 yu2 qi1 reng2 bu4 deng1 ji4 de5 shou1 rong2 quan3 zhi1\n",
      "009635 zhong1 wu3 shi2 fen1 jun1 dou1 shan1 hua2 xue3 chang2\n",
      "008670 ye2 lu4 sa1 leng3 shi4 you2 tai4 jiao4 ji1 du1 jiao4 he2 yi1 si1 lan2 jiao4 gong4 tong2 de5 sheng4 di4\n",
      "009884 qian2 wei3 chang2 dui4 yin3 shi2 cong2 bu4 tiao1 ti4 ji4 bu4 chou1 yan1 ye3 bu4 he1 jiu3 yin3 cha2 ye3 bu4 jiang3 jiu5\n",
      "008836 zui4 hou4 chu1 lu4 bao4 shang4 de5 bian1 pai2 shi4 zhe4 yang4 de5 san1 pian1 san3 wen2 yi1 bu4 xiao3 shuo1 yi4 shou3 shi1\n",
      "009470 zheng1 zhi2 zhong1 zhao4 mou3 sui4 yong4 shuang1 shou3 qia1 zhu4 guan1 mou3 de5 bo2 zi5 zhi4 qi2 si3 wang2\n",
      "008490 ceng2 you3 tui1 xiao1 yuan2 zhe4 me5 shuo1 wo3 mei3 jie1 chu4 shi2 ge4 ren2 cai2 you3 yi2 ge4 ren2 yuan4 yi4 gou4 mai3 wo3 de5 huo4 wu4\n",
      "008428 zhe4 bei4 kan4 zuo4 shi4 fei1 meng2 yu3 lian2 he2 guo2 wo4 xuan2 gai1 guo2 zheng4 zhi4 jiang1 ju2 de5 yi1 da4 cheng2 guo3\n",
      "009441 liang3 guo2 yuan2 shou3 gao1 zhan1 yuan2 zhu3 kai1 chuang4 le5 zhong1 mei3 guan1 xi4 de5 xin1 ju2 mian4\n",
      "008356 ta1 hou4 lai2 bei4 song4 wang3 rui4 shi4 bo2 er3 ni2 de5 guo2 ji4 xue2 xiao4 liu2 xue2\n",
      "009836 you3 le5 ke1 xue2 zhi2 yin3 zhi2 xing2 sou1 jiu4 ren4 wu4 de5 guan1 bing1 dun4 shi2 dou4 zhi4 bei4 zeng1\n",
      "009357 jia1 li3 mai3 le5 bu4 shao2 zhong3 you2 cha2 de5 shu1 ke3 guang1 kan4 shu1 ku1 zao4 bu4 shuo1 hai2 bu4 hao3 dong3\n",
      "009926 bu4 guan3 ha1 da4 ye2 qu4 na3 ta1 dou1 yi1 bu4 bu4 li2 de5 gen1 zhe5\n",
      "009342 shi4 ba1 jie4 sheng2 wei3 wei3 yuan2\n",
      "009299 bu2 cuo4 ma5 hai2 zai4 zhen1 hao3\n",
      "009194 jie4 shi2 nan2 jing1 jiang1 cheng2 wei2 quan2 guo2 zui4 da4 de5 bei2 dou3 chan3 ye4 ying4 yong4 fa1 zhan3 ji1 di4\n",
      "009648 ke4 tang2 shang4 ting1 bu4 dong3 xia4 ke4 jiu4 xiang4 ge1 ge5 jie3 jie5 wen4\n",
      "009246 ye3 xu3 shi4 jue2 de5 na4 ge4 gu1 niang5 bi3 jiao4 ai2 xiao3 li3 yong3 yan4 reng2 mei2 you3 hui2 xin4\n",
      "008421 duan2 duan3 yi4 fen1 zhong1 wang4 de5 bu4 zhou4 jie2 shu4 le5\n",
      "009812 duo2 mu4 cui3 can4 de5 deng1 guang1 jiao1 zhi1 zhe5 ji1 qing2 peng2 pai4 de5 yin1 yue4\n",
      "008395 zhu3 zhi4 yi1 sheng1 gao4 su4 liu2 yuan2 yi4 jia1 ren2 fu4 qin1 de5 bing4 zhi4 yu4 de5 xi1 wang4 miao3 mang2\n",
      "009623 ji2 shi3 ta1 fan4 le5 cuo4 fu4 mu3 qin1 ye3 bu2 hui4 jiao4 xun5 ta1\n",
      "009126 qu4 ba1 qu4 ba1 ming2 tian1 ji4 de5 zai4 lai2 zhao3 wo3 bao4 dao4\n",
      "008909 wo3 bu2 shi4 tian1 tian1 dou1 tu2 fen2 di3\n",
      "009341 chi1 ge4 zhong3 jing1 shen2 shi2 liang2\n",
      "008818 jin1 tian1 zhong1 wu3 chi1 fan4 pang2 bian1 you3 liang3 xiao3 hai2 zai4 dou3 zui3 nan2 hai2 wen4 ni3 bu4 xi3 huan5 wo3 le5 ma2\n",
      "008458 zui4 ke3 wu4 de5 shi4 dao4 hou4 lai2 na4 tou2 de5 ren2 dou1 wen4 wo3 ni3 shi4 bu2 shi4 de2 zui4 shui2 le5\n",
      "008294 dan1 wei4 de5 cai2 wu4 jian1 guan3 li4 du4 ru2 he2\n",
      "009237 wei4 he2 mei2 you3 yi4 jia1 zhong1 guo2 qi3 ye4 zuo4 wei2 ben3 jie4 ya4 yun4 hui4 de5 zan4 zhu4 shang1 ne5\n",
      "008622 he1 he1 kan4 lai2 ni3 ting3 liao2 jie3 de5 na4 ni3 gei3 wo3 xiang2 xi4 shuo1 shuo1 bei5\n",
      "008287 jie2 an4 zhi1 ji4 jiang1 tao1 fu4 qin1 xiang4 fa3 guan1 liu2 lu4 chu1 le5 chan4 hui3 zhi1 qing2\n",
      "008938 ta1 xiang3 gao3 ming2 bai5 qin1 mi4 guan1 xi4 de5 fan4 wei2 dao4 di3 you3 duo1 da4\n",
      "008375 wo3 dou2 dan3 cai1 ce4 ji2 tuan2 gei3 lu4 zhao4 xi3 wu4 liu2 gei3 shao4 xiao3 feng1\n",
      "009655 ju4 e2 kui1 kong1 hou4 jiang3 gong1 kai1 qian2 tao2\n",
      "009935 mi1 mi1 tian3 zhe5 hai2 zi5 ba3 ta1 shen1 shang4 de5 mao2 tian3 gan1 jing4\n",
      "008055 suo2 yi3 zai4 zhe4 ge4 bu4 fen4 wa4 zi5 que4 shi2 yi4 yu2 guan2 li3 tong2 shi2 ta1 ye3 yi4 yu2 wu4 liu2\n",
      "008410 ta1 fan1 le5 wo3 de5 duan3 xin4 xian4 zai4 ta1 bu4 jin3 zhi1 dao4 wo3 you3 wai4 yu4 hai2 jian1 xin4 wo3 shi4 ge4 ji1 lao3\n",
      "008353 zhe4 ba3 qiu2 yuan2 men2 ji1 dong4 huai4 le5\n",
      "008585 jin4 yi1 ge4 yue4 li3 wo3 mei2 peng4 dao4 chuan2 yan2 zhong1 man2 heng4 qi1 ba4 de5 zai1 min2\n",
      "008720 zhe4 ge4 yao1 qiu2 mei2 you3 bei4 yun2 xu3\n",
      "008864 xia4 le5 yi2 ge4 xing1 qi1 de5 yu3 le5 mei3 tian1 dai4 jia1 li3 na3 ye3 qu4 bu4 liao3\n",
      "009056 han2 jia3 zuo4 ye4 bian4 le5 wei4 dou1 shi4 gong1 li4 shi2 yong4 zhu3 yi4 re3 de5 huo4\n",
      "009974 qi2 jian1 lian2 po4 liu4 dian3 liu4 liu4 dian3 wu3 liu4 dian3 si4 liu4 dian3 san1 wu3 deng3 duo1 ge5 zhong4 yao4 guan1 kou3\n",
      "008292 ta1 hen3 jing1 ya4 fu4 qin1 zai4 xin1 hai4 ge2 ming4 zhi1 zhong1 gei3 le5 ta1 yi2 ge4 jue2 se4\n",
      "009938 you2 ci3 ke2 yi3 kan4 chu1 han2 gang1 de5 jing1 ji4 xiao4 yi4 lai2 zi4 he2 chu3\n",
      "008827 zhe4 xian3 ran2 ye3 bu2 shi4 ha1 ma3 si1 suo3 yuan4 yi4 mian4 dui4 de5\n",
      "009755 ke2 yi3 qu4 jiu4 jin4 de5 zhu2 guan3 shui4 wu4 ju2 shen1 bao4 ru2 guo3 you3 jiao1 yi4 ping2 zheng4 ke2 yi3 xie2 dai4\n",
      "009945 xian3 ran2 luo4 yang2 xing4 nu2 an4 bu4 ju4 bei4 shang4 shu4 liang3 ge4 qian2 ti2\n",
      "008967 bei3 jing1 jing1 xi1 bin1 guan3 hua2 deng1 cui3 can4 yang2 yi4 zhe5 huan1 qing4 xiang2 he2 de5 qi4 fen1\n",
      "008742 lin2 zou3 shi2 yuan2 bao3 hong2 zhuai4 xia4 le5 liang2 li4 li4 de5 xiang4 lian4\n",
      "009162 jin1 wan3 ni3 zai4 zhe4 yang4 shui4 sha1 fa1 qu4\n",
      "009009 nv3 ming2 xing1 ye3 shi4 ping2 fan2 ren2 ni3 yi3 wei2 zai4 yu2 le4 quan1 pai1 xi4 gan3 tong1 gao4 hen3 rong2 yi4 ma2\n",
      "009431 ran2 hou4 jiu4 chu1 men2 le5 liu2 xia4 cuo4 e4 de5 lao3 po2\n",
      "008694 wo3 men5 ke3 mei2 you3 dai4 mian4 ju4 yo1\n",
      "008351 bu2 yao4 gen1 wo3 liao2 zhe4 xie1 wo3 bu4 dong3\n",
      "009224 ta1 zhi1 cheng1 tai4 tai5 yi4 hen3 xin4 ren4 ta1\n",
      "009404 er4 hao4 qin3 shi4 li3 san1 ge4 ren2 dou1 tang3 zai4 chuang2 shang4 wen1 shu1\n",
      "008487 he2 lao3 po2 ling3 zheng4 qi1 nian2 le5 ban4 zhun3 sheng1 zheng4 shi2 ju1 ran2 shuo1 wang3 shang4 cha2 bu2 dao4 wo3 men5 de5 jie2 hun1 zheng4\n",
      "009934 ming2 dai4 wa3 la4 da2 da2 ru4 qin1 ming2 jing4 ye3 shi4 tong1 guo4 ci3 di4\n",
      "008290 zhe4 wei4 cong1 ming5 de5 bao2 bao3 jiao4 chen2 jun4\n",
      "008952 na4 duan4 shi2 jian1 wei4 le5 an1 fu3 mu3 qin1 zhao4 can4 ceng2 hui2 dao4 lao3 jia1 shen1 ze2 xian4\n",
      "008221 xiao3 mei4 zui4 hou4 hai2 shi4 yong1 you3 le5 ban4 ge5 ya3 dian3 na4 de5 zhi4 hui4 jue2 yi4 he2 luo2 tian1 cheng2 fen1 shou3\n",
      "009233 xiong1 mei4 lia3 shou1 shi2 hao3 pu1 gai4 yong4 jia4 zi5 che1 la1 zhe5 fu4 qin1 qu4 shang4 xue2\n",
      "008881 xu1 ke4 fang1 shi4 niu1 niu5 de5 fu4 qin1\n",
      "008118 wo3 men5 zai4 zhe4 li3 hai2 fa1 xian4 le5 shan1 dong1 sheng3 zeng4 song4 de5 tao2 ci2\n",
      "008803 yu3 duan4 yi4 hong2 de5 dui4 hua4 yue4 shen1 ru4 yue4 neng2 gan3 shou4 dao4 ta1 de5 zheng4 yi4 lin3 ran2 de5 qi4 chang2\n",
      "008497 deng3 wo3 yu4 dao4 xin1 shang4 ren2 de5 shi2 hou5 jiu4 yao4 jie2 hun1 lou2\n",
      "008125 xu3 duo1 zhu4 hu4 zai4 men2 kou3 zhu4 qi3 sha1 dai4 ri4 ye4 yao2 shui3 pai2 lao4\n",
      "009885 yi3 hou4 wo3 sheng1 ri4 jiu4 bu4 neng2 ling3 li3 wu4 le5 he1 he1 ke3 neng2 ta1 shi4 wei4 le5 sheng3 li3 wu4 ba1\n",
      "009788 ni2 ke4 song1 dui4 ci3 zan4 bu4 jue2 kou3 yi4 lian2 chi1 le5 liu4 zhi1 hun2 tun2\n",
      "009446 wo3 yi1 qie4 dou1 hao3 nin2 da4 ke3 bu2 bi4 cao1 xin1\n",
      "008402 chi4 feng1 you2 ci3 er2 cheng2 wei2 zhong1 hua2 long2 de5 gu4 xiang1 he2 long2 wen2 hua4 de5 fa1 xiang2 di4\n",
      "009770 wai4 biao3 han1 hou5 que4 gong1 yu2 xin1 ji4\n",
      "009574 beng1 yi1 xia4 he2 tao2 wan2 hao3 de5 zai4 di4 shang4 da2 gun3 su4 she3 men2 que4 diao4 le5 xia4 lai5\n",
      "008736 yin1 wei4 he2 shui3 wen1 du4 di1 nan2 zi3 bu4 ting2 de5 duo1 suo5 zhe5\n",
      "009519 wen2 xun4 hou4 lv3 zong1 yin1 li4 ji2 tiao4 xia4 che1 zhen1 cheng2 bei1 qie4 de5 su4 shuo1 da3 dong4 le5 zhi4 yuan4 zhe3 men2\n",
      "008229 yi3 jun1 zong3 can1 mou2 zhang3 ha1 lu3 ci2 jiang1 jun1 ling2 chen2 zhao4 kai1 jin3 ji2 hui4 yi4 tao3 lun4 dui4 ce4\n",
      "009179 wang2 you3 xiao3 tao3 yan4 zhou1 shuo1 hai2 hao3 wo3 men5 de5 mei3 ci4 jia4 qi1 hui2 lai5 dou1 hui4 chai1 xia4 lai2 xi3 o2\n",
      "008424 zhui1 tao2 min2 jing3 di3 da2 hou4 lai2 bu4 ji2 tian1 zhi4 mian2 ao3 jiu4 zhi2 ben4 dang1 di4 gong1 an1 ji1 guan1\n",
      "008081 zai4 hu2 run4 bang3 dan1 zhong1 wei4 lie4 zhong1 guo2 si1 you3 jing1 ji4 ti3 di4 yi4 ming2\n",
      "009114 xiao3 zheng4 biao2 jie3 jiu4 zai4 zhong1 qiu1 jie2 zhao3 dao4 po2 jia5 de5\n",
      "009066 wo3 gui1 nv3 rang4 wo3 gei3 ta1 mai3 hao3 chi1 de5 ne5\n",
      "008082 gan2 jin3 bi4 shang4 yan3 jing1 xiu1 xi1 ba1\n",
      "009626 mei2 you3 ren2 fa1 lao2 sao1 er2 shi4 mao3 zu2 jin4 zhuo2 shou3 zheng2 gai3\n",
      "009042 jie2 guo3 yin1 ci3 mei2 chou3 jian4 qian2 mian4 de5 dian4 xian4 gan1 zi3 yi4 tou2 zai1 shang4 le5\n",
      "009133 lao3 zi5 chu1 qi4 er2 zi5 xie4 qi4 ling2 shan1 shuo1 wo3 fan3 zheng4 bu4 yong4 gong1 wo3 bu2 nian4 le5\n",
      "009147 xian4 zai4 lian2 ji1 qi4 ren2 ye3 yao4 bei4 cui1 hun1 le5 ma2\n",
      "009267 zhe4 ge4 fen1 xi1 ji1 ben3 gong1 yun3 zhong1 li4\n",
      "008900 wang2 jun1 yong3 yu2 fu4 ze2 de5 jing1 shen2 shen1 shen1 gan3 dong4 le5 zhu1 xin1 wen2\n",
      "008258 chan3 ye4 hua4 dui4 nong2 mu4 min2 zeng1 shou1 de5 dai4 dong4 zuo4 yong4 ming2 xian3\n",
      "008231 shuo1 ma3 hong2 shi4 zhu1 rong2 ji1 de5 en1 shi1 dui4 zhu1 rong2 ji1 you3 zhi1 yu4 zhi1 en1 yi4 dian3 ye3 bu2 guo4 fen1\n",
      "009549 qi1 zi3 de5 jiao3 que2 ze2 shi4 yi4 chang3 yi1 liao2 shi4 gu4 de5 hou4 yi2 zheng4\n",
      "008851 shi4 bu2 shi4 jiao1 bu2 shang4 fang2 zu1 wo3 men5 jiu4 yao4 wu2 jia1 ke3 gui1 le5 zhu3 ren2\n",
      "008604 zai4 kan1 shou2 suo3 ta1 bei4 qu3 le5 hua4 ming2 jiao4 wu2 liang2 ling2 jiu3 yao1 zhuan1 an4 zu3 de5\n",
      "009336 ni3 xiang3 wan2 dian3 shen2 me5\n",
      "008267 you3 hao3 peng2 you5 de5 guan1 xin1 wo3 de5 ya2 zen3 gan3 bu4 kuai4 dian3 hao3 ne5\n",
      "009072 zai4 shuo1 le5 wo3 ba3 shou3 ji1 huan2 gei3 ni3 wo3 bu4 jiu4 shi4 zi4 tou2 luo2 wang3 wo3 sha3 ya1\n",
      "008131 shou3 xian1 wo3 xiang3 tan2 tan2 zhong1 hua2 wen2 hua4 yu3 ao4 yun4 jing1 shen2 zai4 nei4 zai4 li3 nian4 shang4 de5 gong4 tong1 zhi1 chu3\n",
      "009170 na4 tian1 shi4 yi4 nian2 yi1 du4 de5 gao1 kao3 shang4 wu3 kao3 wan2 hou4 xiao3 ming2 shuo1 kao3 de5 fei1 chang2 lan4\n",
      "008821 wu2 liao2 lai2 he2 wo3 liao2 liao2 tian1 ba1\n",
      "009903 ta1 jian4 wo3 yi1 jin4 men2 jiu4 ma4 chi1 fan4 shi2 ye3 ma4 ma4 de2 wo3 tai2 bu4 qi3 tou2\n",
      "008265 ju4 diao4 cha2 ge2 wu1 ran3 yuan2 lai2 zi4 chang2 sha1 xiang1 he2 hua4 gong1 chang3\n",
      "009270 di4 er4 tian1 shou1 shang4 zuo4 ye4 lao3 shi1 ding1 zhe5 ta1 de5 zuo4 wen2 jiu2 jiu3 bu4 neng2 yan2 yu3\n",
      "009211 ke3 jian4 hao2 hao3 xue2 sheng5 ye3 bu4 neng2 yao4\n",
      "008926 guan1 cai5 wei4 zhi5 mu4 zhu3 ren2 de5 shi1 gu3 ye3 jian4 jian4 xian3 lu4 chu1 lai2 xia4 e4 bao3 liu2 zhe5 ya2 chi3\n",
      "009775 bu2 yao4 lang4 fei4 shi2 jian1 che3 dan4 la1\n",
      "009603 huo3 hen3 da4 kan4 bu4 qing1 yan1 ye3 hen3 da4\n",
      "009760 sheng3 wei4 sheng1 ting1 zhuan1 jia1 wei2 zai1 qu1 qun2 zhong4 jiang2 jie3 yu4 fang2 ji2 bing4 zhi1 shi2\n",
      "008636 dui4 ci3 fan3 dui4 dang3 gong1 dang3 bu4 fen1 yi4 yuan2 tong4 pi1 zhe4 gen1 ben3 shi4 ge4 nu2 li4 ji4 hua4\n",
      "009871 bu2 hui4 ya1 zhu3 ren2 ma4 ren2 shi4 bu4 dui4 de5\n",
      "009583 ta1 zhe4 ge4 jiu4 shi4 lao3 bai3 xing4 shuo1 de5 bie1 yu4 mi3 jiu4 shi4 qu4 le5 pi2 li3 tou5 mei2 you3 liang2 shi2 le5\n",
      "009849 di4 er4 tian1 you3 er4 bai3 ling2 san1 jia1 chang3 fang2 he2 ba1 bai3 ling2 wu3 jia1 shang1 pu4 bei4 ding4 gou4\n",
      "008892 zuo2 ri4 xiao1 fang2 yuan2 cha2 kan4 huo2 chang3\n",
      "008399 na4 wo3 jiu4 gei3 ni3 liang4 dian3 zhen1 ben3 shi4 ba1\n",
      "008765 hou4 mian4 de5 si1 jia1 che1 sui2 ji2 la3 ba5 da4 xiang3\n",
      "008959 deng3 wo3 zhang3 da4 le5 ke2 yi3 wei2 yi2 ge4 xin1 sheng1 ming4 fu4 ze2 shi2 zai4 yang3 le5\n",
      "008483 zhe4 shi4 chen2 shui2 bian3 chi4 luo2 luo3 gu3 chui1 tai2 du2 zai4 tai2 du2 fen1 lie4 dao4 lu4 shang4 you4 mai4 chu1 de5 wei1 xian3 yi1 bu4\n",
      "008710 shui2 hui4 lai2 jie1 wo3 de5 nv3 er2\n",
      "008301 zhe4 shi4 dang3 wei3 zheng4 fu3 de5 zhong4 yao4 zhi2 ze2\n",
      "009747 she2 de5 qi2 ta1 bu4 fen4 shuo1 ni3 mei2 you3 yan3 jing5 bi2 zi5 zen3 me5 neng2 zhi2 yin3 wo3 men5 xiang4 qian2 zou3\n",
      "009401 yi1 sheng1 dui4 xiao3 qin2 qiang3 jiu4 shi2 fa1 xian4 xiao3 qin2 yi3 jing1 si3 wang2\n",
      "009987 wo3 xi1 wang4 ge4 ren2 dou1 neng2 gou4 zun1 zhong4 wo3 men5 de5 yin3 si1\n",
      "009695 qi2 ci4 de5 bang4 bang4 shi4 wei2 ren2 huo2 luo4 guan1 xi4 duo1 ye4 wu4 dou1 shi4 shu2 ren2 jie4 shao4 de5\n",
      "008274 yu2 shi4 ta1 shang4 lou2 ba2 diao4 dian4 yuan2 er2 biao3 di4 ye3 xiang3 shang4 ce4 suo3\n",
      "009850 ni3 zhe4 po4 fen1 shu4 jiu4 shi4 xiao3 shi2 hou5 luan4 qi1 ba1 zao1 shu1 kan4 tai4 duo1 de5 yuan2 yin1\n",
      "009690 mu4 qian2 quan2 guo2 nai3 ye4 zheng2 ti3 di1 mi2 zhu3 yao4 shi4 xiao1 fei4 zhe3 dui4 ru2 pin3 zhi4 liang4 xin4 xin1 bu4 zu2\n",
      "009897 zhe4 he2 gao1 ceng2 guan2 li2 zhe3 jing1 shen2 ya1 li4 da4 ying4 chou2 duo1 you3 hen3 da4 guan1 xi4\n",
      "008587 ao4 ba1 ma3 fang3 wen4 ya4 tai4 di4 qu1 de5 shi2 hou5 kai1 shi3 ming2 bai5 zhe4 yi4 dian3\n",
      "009298 da4 mian4 ji1 gan1 luo3 de5 he2 dao4\n",
      "009312 bu4 xi3 huan5 jiao4 yu4 dan4 si1 xiang3 jue2 wu4 hai2 mei2 dao4 tui1 fan1 xian4 xing2 jiao4 yu4 ti3 zhi4 de5 gao1 du4\n",
      "009388 zuo4 shang4 dian4 ti1 hou4 ta1 dou2 dou3 tu1 ran2 diao4 xia4 lai2 le5 mei2 you3 ren4 he2 xian1 zhao4\n",
      "009547 dan4 li3 jia1 ding3 yu3 shi1 ming2 jun1 fou3 ren4\n",
      "008338 ji1 shi2 wo3 xiang3 shuo1 de5 shi4 gan1 ma1\n",
      "008560 wo3 hai2 you3 ji1 shi2 nian2 ne5 fan3 zheng4 zong3 shi4 cha4 ta1 ban4 cun4 jiu4 zhui1 dao4 ta1 le5\n",
      "009061 zuo2 ri4 bei3 jing1 ao4 yun4 hui4 kai1 mu4 shi4 dao2 yan3 zhi1 yi1 de5 wang2 chao2 ge1 tou4 lu4 le5 zhe4 yi1 xiao1 xi5\n",
      "009936 shi4 fou3 zhe4 ci4 de5 guo2 biao1 xiu1 ding4 bei4 da4 qi3 ye4 bang3 jia4 le5\n",
      "009879 zou3 cha4 bu4 duo1 ji1 fen1 zhong1\n",
      "008046 wo3 xiang3 na4 xie1 ying1 gai1 shi4 cao3 mei2 de5 zhong3 zi5 ba1\n",
      "009045 mei3 tian1 da4 bu4 fen4 shi2 jian1 ta1 dou1 dai1 zai4 xiu4 jia4 qian2 mai2 tou2 xiu4 hua1\n",
      "009956 zhe4 ge4 hai2 zi5 de5 sheng1 ming4 yi2 ban4 lai2 yuan2 yu2 ling4 yi1 wei4 nv3 shi4 juan1 zeng4 de5 leng3 dong4 luan2 zi3\n",
      "008129 dui4 yu2 shi2 xia4 zi4 ji3 mian3 fei4 shun4 feng1 che1 de5 hong2 huo3 ju2 mian4 mao2 yuan2 bei4 jia1 zhen1 xi1\n",
      "009448 dou1 kuai4 cheng2 nian2 le5 hai2 bu4 zhi1 dao4 huan2 shou3 a1\n",
      "008453 wo3 de5 lian3 mei3 tian1 dou1 xi3 de5 hen3 gan1 jing4 o2\n",
      "009659 zai4 li4 shan1 lu4 yi4 jia1 chao1 shi4 yi1 wei4 xiao1 fei4 zhe3 zheng4 zi3 xi4 duan1 xiang2 cheng2 fen1 biao3\n",
      "009118 ru2 guo3 zai4 xin4 xi1 hen3 nan2 chuan2 da2 dao4 de5 shan1 qu1 ne5\n",
      "009238 gai2 zu3 gui1 mo2 yu4 ji4 jin3 xian4 shu4 ren2\n",
      "009925 ji4 zhe3 suo3 zai4 de5 shi4 shou4 hai4 ren2 jia1 shu3 suo3 zai4 de5 you4 qu1\n",
      "008319 lia3 ren2 he2 mou2 yong4 xiao4 fu2 jiang1 hai2 zi5 men4 si3 hou4 you4 qi4 shi1 he2 zhong1\n",
      "008006 hai2 you3 bu4 fen4 dan1 bao3 gong1 si1 she4 ji2 chao2 gu3 pei4 zi1 ye4 wu4\n",
      "008556 min2 jing3 xi1 wang4 deng4 jin1 chao1 ji2 shi2 lian2 xi4 ben3 bao4 re4 xian4 jiu3 liu4 er4 yao1 yao1\n",
      "008204 zhao4 chao1 su1 lian2 de5 mo2 shi4 nan2 dao4 bu2 shi4 cuo4 wu4\n",
      "009403 wo3 xun4 su4 xia4 lai5 le5 jie2 guo3 bei4 ma1 ma5 da3 le5 yi1 dun4\n",
      "008719 wei4 shen2 me5 yao4 zhe4 yang4 hei1 zi4 ji3\n",
      "009121 si4 nian2 zhi1 hou4 ta1 men5 de5 ju4 xing1 di4 wei4 yi1 jiu4 wen3 gu4\n",
      "008459 jin1 mao4 da4 sha4 ba1 shi2 ba1 ceng2 guan1 guang1 ting1 wo3 ceng2 jing1 lai2 guo4\n",
      "009373 zhe4 shi4 fo2 ding2 gu3 she4 li4 chong2 guang1 hou4 shou3 ci4 zai4 zhong1 guo2 nei4 di4 yi3 wai4 di4 qu1 gong4 feng4\n",
      "008495 zheng3 tiao2 gong1 lu4 duo1 chu3 sun2 hui3 yan2 zhong4 xian3 xiang4 huan2 sheng1\n",
      "008886 zhao4 shi4 che1 che1 tou2 ye3 sun2 hui3 yan2 zhong4\n",
      "009869 ren2 men5 zhi1 hui4 pei4 fu2 na4 xie1 you3 chuang4 zao4 xing4 gong4 xian4 de5 ren2\n",
      "009306 gong1 si1 fu4 ze2 ren2 de5 nian2 du4 xin1 chou2 zeng1 zhang3 lv4 ying1 di1 yu2 gong1 si1 xin1 chou2 zeng1 zhang3 lv4\n",
      "008918 you3 de5 liu2 lang4 gou3 chi1 wan2 dong1 xi1 hou4 hai2 hui4 tian3 tian3 wei4 shi2 ren2 de5 shou3 yi3 biao3 shi4 gan3 xie4\n",
      "008793 jiao1 cha1 zuo4 ye4 you4 shi3 xia2 xiao3 de5 kong1 jian1 xian3 de5 geng4 wei2 bi1 ze4\n",
      "009787 xiao3 ming2 zhang3 de5 xiang4 bing1 gun4 zai4 shui2 li3 you2 yong3 you2 zhe5 you2 zhe5 mei2 le5\n",
      "009492 zuo2 ri4 ji4 zhe3 yu3 da3 chu1 guang3 gao4 shou1 gou4 luan2 zi3 de5 zhong1 jie4 jian4 mian4\n",
      "009387 ba4 ba5 duan1 xiang2 yi1 hui4 shuo1 wo3 fa1 shi4 zhe4 shi4 wo3 jian4 guo4 de5 zui4 shuai4 de5 guang1 tou2\n",
      "008890 yi1 ge4 yue4 hou4 di3 zhi4 lian2 meng2 wa2 jie3\n",
      "009539 fu1 fu4 lia3 mei3 nian2 de5 xiu1 jia4 quan2 yong4 zai4 le5 chang2 tu2 ba2 she4 qu4 lao3 jia1 kan4 hai2 zi5 shang4\n",
      "009630 min2 jing3 jie3 kai1 sheng2 zi5 jiu4 le5 nan2 hai2\n",
      "008820 qian2 men2 di4 qu1 hai2 shi4 lao3 bei3 jing1 shi4 jing3 feng1 mao4 shi3 ji4 wen2 wu4 bao3 cun2 zui4 wan2 zheng3 de5 di4 qu1 zhi1 yi1\n",
      "008239 dan4 ta1 men5 xiang4 guang2 yu3 gong1 si1 da3 qian4 tiao2 jie4 qian2 dao3 shi4 zhen1 de5\n",
      "008365 he2 ni3 yi4 qi3 kan4 yue4 liang5 zen3 me5 yang4\n",
      "009761 lai2 zheng4 zhou1 shi2 ji1 nian2 liu2 kui2 yuan2 dou1 mei2 neng2 dai4 lao3 ban4 chu1 qu4 wan2 wan2\n",
      "009421 hai2 you3 ta1 zai4 si1 xia4 qi2 shi2 bi3 jiao4 la1 ta1 xiang4 xi1 li4 ge1 yi1 yang4\n",
      "008999 guang3 zhou1 nv3 xing4 zhi4 chuang1 huan4 bing4 lv4 ju1 shou3 qi2 ci4 shun4 wei4 pai2 xu4 shi4 bei3 jing1 shang4 hai3 shen1 zhen4\n",
      "009462 xuan1 shi4 jie2 shu4 guo2 qi2 huan2 huan3 tui4 chu1 hui4 chang3\n",
      "008815 jin4 yi2 bu4 zheng3 he2 jing1 ban4 guan2 li3 zi1 yuan2 ti2 gao1 yun4 xing2 xiao4 lv4\n",
      "009466 qi2 ta1 de5 lai2 zi4 yu2 jing1 shen2 bing4 zhen2 suo3 huo4 yi1 yuan4\n",
      "009629 wo3 de5 ji4 yi4 zhi2 you3 qi1 miao3 pian4 ni3 da1\n",
      "009957 chu1 xian4 zhe4 zhong3 ni2 qiu1 nei4 ge2 de5 ju2 mian4 ji4 shi4 ye3 tian2 you3 yi4 wei2 zhi1 ye3 shi2 shu3 wu2 nai4\n",
      "009546 hao2 hao3 shui4 yi4 jue2 ming2 tian1 you4 shi4 zhan3 xin1 de5 yi4 tian1\n",
      "009783 di4 er4 zhan4 shi4 er4 yue4 de5 nong2 xin1 bei1\n",
      "009561 shi4 fou3 xue1 ruo4 le5 dui4 nong2 ye4 de5 tou2 ru4\n",
      "009244 jiu4 shi4 gu4 yi4 bai3 nong4 shi4 gu4 yi4 yuan1 wang5\n",
      "008693 ta1 men5 hai2 zai4 yu4 men4 ne5\n",
      "009715 jin1 tian1 ben3 bao4 jiang1 wei2 nin2 feng4 xian4 zui4 xiang2 xi4 de5 zhong1 zhuan3 jie1 xu4 fang1 an4\n",
      "009532 ta1 men5 jing1 guo4 qian1 tiao1 wan4 xuan3 zheng3 ti3 su4 zhi4 hen3 hao3 ying1 gai1 de2 dao4 gao1 yi4 xie1 de5 dai4 yu4\n",
      "009412 dian4 yuan2 cong2 lai2 mei2 zhuang1 guo4 du2 pin3 xiao1 de5 shen2 me5 du2\n",
      "009772 zui4 hou4 shi2 zai4 ao3 bu2 guo4 ta1 ting2 ting2 he2 hai3 zou3 jin4 le5 bin1 guan3\n",
      "008504 wei4 lai2 ji3 nian2 lv4 cheng2 zui4 zhong4 yao4 de5 jiu4 shi4 duo1 mai4 fang2 shao3 mai3 di4\n",
      "008144 da2 an4 zong3 rang4 ren2 ju3 sang4\n",
      "008539 bu2 yong4 shuo1 shou2 li3 de5 lou4 dong4 ye3 shi4 duo1 de5 ke2 yi3 pi1 fa1 le5\n",
      "009463 jiu4 suan4 wu2 yu3 wo3 ye3 hui4 yi4 zhi2 pei2 zhe5 zhu3 ren2 de5 o2\n",
      "009160 yin1 wei4 hong2 fan1 qie2 wai4 mian4 shi4 hong2 de5 ran2 hou4 qi2 shi2 fan1 qie2 li3 mian4 ye3 shi4 hong2 de5\n",
      "008480 mei4 zi5 tu1 ran2 lai2 le5 ju4 ni3 bu2 hui4 zhao3 ge4 yong4 dao4 shou3 de5 dian4 ying3 a1\n",
      "008570 lu2 qi3 yuan2 dui4 hui1 fu4 lu2 zhai2 mian4 mao4 shen4 zhi4 dao4 le5 ji1 hu1 zhi2 niu4 de5 di4 bu4\n",
      "009207 wang1 yang2 qiang2 diao4 yao4 zai4 dui4 wu3 bao3 zhang4 shang4 gong1 guan1\n",
      "008863 ying1 cai3 er2 ken3 ding4 hui4 shou1 shi2 ta1 de5\n",
      "009094 dan4 shi4 si4 yue4 fu2 lei2 zai4 ci4 dang1 xuan3 zong2 tong3 bing4 yin3 fa1 le5 guo2 nei4 de5 bao4 li4 chong1 tu1 shi4 jian4\n",
      "009111 fang4 pi4 ni3 gao4 su4 lao3 niang2 na2 li3 pi2 qi5 bao4 le5\n",
      "009801 peng4 shang4 zhe4 yang4 de5 xiang3 he2 ying3 jiu4 hui4 fei1 chang2 kun4 nan2\n",
      "008442 dang1 jin1 li2 xiang3 de5 hun1 yin1 mo2 shi4 shi4 shen2 me5\n",
      "009617 qi2 zhong1 bao1 kuo4 lao3 pai2 ru2 pin3 qi3 ye4 hang2 zhou1 mei3 li4 jian4 ru3 ye4 you3 xian4 gong1 si1\n",
      "008770 ma3 sha1 la1 di4 jin3 che1 tou2 you2 xiao2 chu3 ao1 xian4\n",
      "009273 wo3 bu2 shi4 hen3 shang4 xiang1 bu2 guo4 wo3 zui4 man3 yi4 wo3 de5 yan3 jing5 la1 ni3 ne5\n",
      "009426 ni3 de5 tou2 ding3 dou1 tu1 cheng2 shen2 me5 yang4 zi5 le5 gen1 wo3 shang1 liang2 guo4 ma2\n",
      "008295 ta1 wei4 lai2 fa1 zhan3 qu1 xiang4 you4 jiang1 ru2 he2\n",
      "008593 ji4 zhe3 kan4 dao4 mang2 guo3 shu4 lan2 yao1 zhe2 duan4 duan4 kou3 cen1 ci1 bu4 qi2\n",
      "009269 chuan2 shuo1 shi4 wen2 shu1 pu2 sa4 de5 bian4 shen1\n",
      "008219 jiang1 an4 qu1 xiao1 fang2 zhong1 dui4 gan3 lai2 jiang1 lao3 ren2 cong2 yu1 ni2 zhong1 bao4 qi3\n",
      "009646 jie2 guo3 yue4 shi4 zhe4 yang4 de2 zui4 ren2 yue4 duo1\n",
      "009896 neng2 bei4 xuan3 zuo4 ji1 xin1 ge2 zi1 liao4 de5 shou1 cang2 zhe3 ye1 lu3 shen1 gan3 rong2 xing4\n",
      "009663 lao3 fu4 qin1 mei3 nian2 dou1 yao4 di1 sheng1 xia4 qi4 de5 qu4 cui1 kuan3 ke3 zong3 shi4 peng4 bi4\n",
      "008790 ci3 wai4 ji4 wei3 que4 ren4 cai4 bin1 de5 er2 zi5 yi3 jia1 ru4 ao4 zhou1 guo2 ji2\n",
      "009212 jing3 cha2 jiang1 jin2 xi3 song4 hui2 jia1 dan4 jue2 jiang4 de5 wu2 hai3 nan2 bu4 yuan4 yi4 kai1 men2\n",
      "009021 jing1 hun2 yi1 ke4 guo4 hou4 ta1 hui2 xiang2 qi3 shi4 deng1 shan1 zhang4 mei2 ning2 jin3\n",
      "009494 da4 shu1 xia4 chang3 shi2 pai1 le5 pai1 yao2 ming2 de5 jian1 yi1 qie4 jin4 zai4 bu4 yan2 zhong1\n",
      "008246 zou3 chu1 zhang4 peng5 de5 shi2 hou5 wo3 wen4 pang2 bian1 de5 tong2 shi4 zhe4 ge4 wa2 wa5 you3 mei2 you3 liang3 sui4\n",
      "008193 dang4 wan3 xiao3 jie2 tou1 tou1 liu1 zou3 wan2 qi3 le5 shi1 zong1\n",
      "009329 xin1 hun1 ye4 na4 tian1 wan3 shang5 ta1 he1 de2 ming3 ding3 da4 zui4 wo2 lia3 ji1 hu1 shi4 he2 yi1 er2 mian2\n",
      "009866 cong2 qian2 you3 ge4 da4 hui1 lang2 ni3 cai1 da4 hui1 lang2 shi4 shui2\n",
      "009610 ta1 ye3 yong4 zi4 ji3 de5 ai4 xin1 dian3 zhui4 le5 zi4 ji3 de5 sheng1 ming4\n",
      "009254 zhe4 ke3 shi4 kai1 tian1 pi4 di4 tou2 yi4 hui2\n",
      "008391 yi1 ci4 ou3 ran2 de5 ji1 hui4 yi4 zhang1 li4 ta3 hong2 zai4 nang2 bing3 tan1 qian2 de5 zhao4 pian1 bao4 hong2 wang3 luo4\n",
      "008674 qing4 xing4 mei2 xiang4 wo3 ba4 wo3 ba4 da4 fang1 lian3\n",
      "008583 yang2 lei3 de5 di4 di4 yang2 kun1 zai4 fa3 ting2 shang4 fu4 he4 le5 shang4 shu4 shuo1 fa3\n",
      "008462 ban4 ye4 jia3 da3 le5 yi2 ge4 da4 pen1 ti4 yi3 zheng3 ge4 lian3 shang4 dou1 shi4 jia3 de5 jie2 jing1\n",
      "009255 huan4 zhe3 shu4 hou4 shang4 shi2 tian1 reng2 zai4 liu2 xie3 ying1 gai1 shi4 qi2 zhi4 chuang1 suo3 zhi4\n",
      "008623 zai4 nei4 cheng2 zhi1 nei4 de5 nan2 ban4 bu4 he2 xin1 chu3 song3 li4 zhe5 qin2 shi3 huang2 ling2 de5 gao1 da4 feng1 tu3\n",
      "009355 sui2 shou3 pai1 zhang1 luo5 nv3 shi4 hai3 tao2 de5 wu4 pin3 dou1 shi4 dang1 xia4 zui4 re4 men2 de5 you4 er2 bao3 jian4 pin3\n",
      "008047 zi4 ci3 fang2 nu2 zai4 zhong1 guo2 cheng2 wei2 yi2 ge4 te4 you3 ming2 ci2\n",
      "009043 ce4 jing3 ji4 shu4 dui4 shi2 you2 kan1 tan4 de5 xiao4 lv4 he2 zhi4 liang4 zhi4 guan1 zhong4 yao4\n",
      "009765 jin3 li3 hen3 hao3 wan2 ke2 yi3 chi1 dao4 ge4 zhong3 cheng2 du1 te4 se4 xiao3 chi1 ya1\n",
      "008182 ci3 wai4 she4 ji2 zhu4 fang2 xin4 xi1 de5 zhong2 zhong3 li4 yi4 wen4 ti2 you3 dai4 wen2 tuo3 chu2 li3\n",
      "008508 cheng2 ben3 hua1 de2 you2 dian3 gao1 yo1 kong3 pa4 shi4 kai1 che1 de5 shi2 hou5 zou3 shen2 le5 yo1\n",
      "009028 yi3 qian2 suo3 ban4 de5 zhan2 lan3 deng3 bu4 shu3 yu2 gu4 gong1 guan2 li3\n",
      "008757 zui4 jing1 cai3 de5 huan2 jie2 dang1 shu3 chang2 nei4 hu4 dong4\n",
      "008878 xiang1 guan1 ke1 xue2 bao4 gao4 kan1 deng1 zai4 zui4 xin1 yi4 qi1 zi4 ran2 tong1 xun4 shang4\n",
      "009523 da4 xue2 li3 you3 yi1 da4 pi1 zhui1 qiu2 miao2 tiao2 he2 gu2 gan3 de5 nv3 hai2\n",
      "009696 ji4 zhe3 fa1 xian4 ming2 nian2 fang4 jia4 an1 pai2 zai4 zong2 ti3 shang4 bu2 hui4 chu1 xian4 zui4 zhe1 teng2 chang2 jia4\n",
      "008634 dui4 ci3 ri4 ben3 ping1 xie2 biao3 da2 le5 qian4 yi4\n",
      "009400 nv3 hai2 zi5 de5 nian2 ling2 zen3 me5 neng2 qing1 yi4 gao4 su4 ni3 ne5\n",
      "008582 ke3 shi4 sui2 zhe5 shi2 jian1 yue4 lai2 yue4 wan3 liang3 ren2 de5 yao1 qiu2 ye3 yue4 lai2 yue4 di1\n",
      "009310 nan2 jing1 xian4 zai4 ji2 hou2 hou3 yao4 chai1 bao4 ting2 cheng2 shi4 guan2 li2 zhe3 de5 shui3 ping2 rang4 ren2 bu4 gan3 gong1 wei5\n",
      "009413 shang1 ren2 hen3 shi2 zai4 dang1 ran2 zhi1 dao4 wen2 hua4 ke2 yi3 sheng1 cai2\n",
      "008022 wo3 bai2 fei4 le5 li4 qi5 hai2 ai1 le5 ba4 ba5 de5 pi1 ping2\n",
      "009818 yi1 sheng1 jian3 cha2 fa1 xian4 die1 die5 zhi2 chang2 chuan1 kong3 li4 ji2 wei2 ta1 shi2 shi1 le5 shou3 shu4\n",
      "008133 yu2 shi4 ta1 shang4 shan1 zhao3 gao1 seng1 gei3 suan4 le5 suan4 gao1 seng1 suan4 wan2 shuo1 ni3 hui2 qu5 deng3 zhe5 ba1\n",
      "009249 bu4 tuo3 dang4 chu3 ge4 wei4 peng2 you3 hai3 han2\n",
      "008074 ta1 men5 ken3 ding4 shi1 qu4 le5 qi2 you1 shi4 di4 wei4\n",
      "009465 shui2 neng2 chu1 ren4 e2 luo2 si1 dui4 xin1 de5 zhu3 jiao4 lian4\n",
      "009653 liu2 xian1 sheng1 gan1 ga4 de5 xiao4 le5 xiao4 jiang1 yan1 shou1 le5 hui2 qu5\n",
      "009022 xi1 shui3 xi1 chen2 qu4 wu1 ge2 yin1 bao3 hu4 zhu3 ji1 tan3 deng3 gong1 neng2\n",
      "009943 wo3 nu4 hou3 yi4 sheng1 chong1 shang4 qu4 ju2 qi3 zhuan1 tou2 za2 le5 guo4 qu4\n",
      "008037 an3 ren4 shi2 de5 you3 ren2 zhi2 jie1 la1 gei3 ni3\n",
      "009226 zhi2 dao4 wo3 zou3 dao4 le5 ta1 men5 kai1 shi3 ke2 sou4 de5 di4 fang1 wo3 ye3 ke2 sou4 le5\n",
      "009838 dao4 le5 hu2 tou2 liang3 ge4 xiao3 hai2 fa1 jue2 bu2 dui4 jin4 xiang4 ta1 rang1 rang1 yao4 hui2 jia1\n",
      "009522 er2 qie3 dang1 ran2 ye3 shi4 gua3 tou2 he2 qian2 du2 cai2 zhe3 de5 bi4 nan4 suo3\n",
      "009027 dan4 ta1 men5 hen3 zhi1 chi2 yun2 xu3 wo3 ba3 zhe4 ju4 hua4 fang4 dao4 wang3 zhan4 shang4\n",
      "008180 zhe4 ge4 cheng2 shi4 zhong1 yu2 an1 jing4 le5 ke3 shi4 xin1 li5 de5 hui2 yi4 hao3 chao3 you3 mei2 you3\n",
      "009680 zai4 ni3 tou2 zi1 zhi1 qian2 xi1 wang4 ni3 neng2 wan2 wan2 wo3 men2 de5 you2 xi4\n",
      "009905 zhe4 zhong3 che1 piao4 he2 bao3 xian3 dan1 kun2 bang3 chu1 shou4 shu3 yu2 chong2 fu4 xing4 gou4 mai3\n",
      "008135 ren2 men5 fu2 yao4 shang4 diao4 huo4 zhe3 ge1 wan4 zi4 sha1 dan4 shi4 bu2 hui4 ge1 po4 zi4 ji3 de5 hou2 long2\n",
      "008468 gai1 nan2 zi3 shou4 dao4 qiang2 lie4 ji3 ya1 hun2 shen1 dou1 shi4 xie3 zui2 li3 hai2 zai4 du1 nang5 zhe5\n",
      "009017 wei4 le5 rang4 zhang4 fu1 qing1 qing1 shuang2 shuang3 chang2 nv3 hai2 xue2 hui4 le5 li3 fa4\n",
      "008434 yun2 nan2 meng4 lian2 he2 gui4 zhou1 weng4 an1 de5 bian4 hua4 shi4 zhe4 zhong3 jing3 min2 guan1 xi4 de5 zui4 hao3 jian4 zheng4\n",
      "008861 dan1 ba1 xian4 lin2 ye4 ju2 de5 tong2 zhi4 gan3 tan4 zhe4 li3 zhen1 shi5 tai4 qiong2 le5\n",
      "008479 zhang1 mo4 shu4 ci4 chuang3 huo4 dou1 shi4 rang4 fu4 qin1 zhang1 guo2 li4 jiao1 tou2 lan4 e2\n",
      "009559 ci3 wai4 zheng3 ge4 guan3 zhong1 hai2 shou1 cang2 zhe5 jia3 ping2 ao1 de5 yi4 xie1 cang2 pin3 he2 shu1 hua4 zuo4 pin3\n",
      "009593 zai4 xue2 xi2 zen3 yang4 rang4 zi4 ji3 bian4 de5 geng1 cong1 ming5\n",
      "008201 dui4 yang1 hang2 zuo2 ri4 chu1 tai2 de5 zheng4 ce4 zen3 me5 kan4\n",
      "008433 mei3 ci4 ti2 chu1 yi4 jian4 ye3 zong3 shi4 xian1 shuo1 wo3 zhi3 shi4 shuo1 shuo1 ting1 bu4 ting1 you2 ni3 men5 jue2 ding4\n",
      "009381 e1 nuo2 de5 ti3 tai4 rang4 ren2 si1 hao2 kan4 bu5 chu1 ta1 ji3 ge4 yue4 qian2 gang1 gang5 sheng1 wan2 bao2 bao3\n",
      "009183 wo3 men5 lao3 ban1 mei2 na4 me5 yan2 hai2 te4 bie2 hao3 ta1 hui4 bang1 ni3 xia4 yi4 xie1 fu4 you3 jiao4 yu4 yi4 yi4 de5 dian4 ying3\n",
      "009647 zhe4 shi4 wo3 ying1 gai1 zuo4 de5 bu2 yong4 ke4 qi5\n",
      "009297 nan2 dao4 ni3 yao4 pao1 qi4 wo3 le5 ma2\n",
      "008370 ji4 zhe3 gan3 dao4 yao1 yao1 qi1 yi1 yuan4 ji1 chang2 lu4 fen1 yuan4 ji2 zhen3 qiang1 jiu4 shi4\n",
      "009554 liu4 yue4 er4 shi2 qi1 ri4 jiao1 long2 hao4 shua1 xin1 ji4 lu4 xia4 qian2 zhi4 qi1 qian1 ling2 liu4 shi2 er4 mi3\n",
      "008106 tai2 wan1 wen4 ti2 min2 zhu3 zi4 you2 dou1 cheng2 wei2 wai4 mei2 ji4 zhe3 chang2 ti2 de5 wen4 ti2\n",
      "009069 gong1 nei4 zheng3 jie2 li4 suo5 lang2 zhu4 men2 chuang1 yan2 se4 xian1 yan4 ji1 ming2 dian4 gong1 zheng4 zai4 wei2 xiu1 xian4 lu4\n",
      "008215 yi3 shi4 shen1 qiu1 de5 gu3 du1 luo2 ma3 que4 hao2 wu2 han2 yi4\n",
      "009953 lao3 da4 ye2 shuo1 xiao2 zi3 ni3 dang3 wo3 cai2 lu4 le5 zhi1 dao4 bu4\n",
      "009985 wu3 tai2 xia4 de5 ni3 hui4 dui4 wu3 tai2 shang4 de5 ni3 shuo1 shen2 me5\n",
      "008939 yi4 heng2 yi1 shu4 yi4 dian3 yi4 pie1 suo2 you3 tong2 xue2 dou1 shi2 fen1 gong1 zheng3 de5 jin4 xing2 zhe5 xie3 zi4 lian4 xi2\n",
      "009008 tong2 shi2 mu4 min2 jiu4 ye4 qu2 dao4 zhai3 shou1 ru4 zeng1 zhang3 huan3 man4\n",
      "009725 hao2 wu2 yi2 wen4 ke4 nu3 te4 shi4 shi4 jie4 shang4 zui4 shou4 huan1 ying2 de5 dong4 wu4\n",
      "008010 zhe4 shi4 di4 zhen4 zhong1 kai1 lie4 de5 da4 mei2 gou1 mei2 kuang4 feng1 dong4\n",
      "008667 cheng2 shi4 ren2 sheng1 huo2 jie2 zou4 gai3 bian4 le5 hui4 zi4 ji3 an1 pai2 shi2 jian1\n",
      "009997 jin1 tian1 kuai4 di4 yuan2 na2 zhe5 yi2 ge4 kuai4 di4 zai4 ban4 gong1 shi4 han3 qin2 wang2 shi4 nei3 ge4 you3 ta1 kuai4 di4\n",
      "008419 shang4 hai3 guang3 zhou1 ye3 you3 gou3 zi1 dan4 shi4 hai2 mei2 cheng2 qi4 hou4\n",
      "009699 tang2 hong2 jian4 xi3 huan5 yong4 dao4 lu4 qu1 zhe2 lai2 miao2 shu4 zhong1 guo2 he2 dian4 gong1 ye4 de5 fa1 zhan3 li4 cheng2\n",
      "009411 san1 ren2 xia4 ban1 hou4 dou1 yu3 mai4 ke4 bu4 lai4 de2 tong1 duan3 xin4\n",
      "009601 zai4 zui4 leng3 de5 ji3 tian1 zhan4 shi4 lu4 su4 hu4 wai4 teng2 chu1 zhang4 peng5 an1 zhi4 qun2 zhong4\n",
      "008755 er2 qia4 qiao3 de5 shi4 zhou1 hong2 yi1 ye3 shi4 hu2 bei3 ren2\n",
      "009245 bing1 mian4 shang4 ye3 zhu2 jian4 re4 nao4 qi3 lai5\n",
      "008506 ju4 xi1 shi4 di1 xue4 tang2 dao3 zhi4 le5 kai3 xi1 ci3 ci4 tu1 ran2 yun1 dao3\n",
      "009578 zhi2 dao4 zuo2 tian1 zhong1 guo2 dui4 yi3 jing1 yi3 jiu3 kuai4 jin1 pai2 ru4 zhang4 zan4 ju1 ao4 yun4 hui4 jin1 pai2 bang3 de5 bang2 shou3\n",
      "008257 ta1 qiao3 sheng1 zuo4 dao4 na4 ge4 fan1 shu1 ru2 fei1 de5 nan2 sheng1 pang2\n",
      "009368 ji1 zhang3 hai2 shuo1 zhong1 guo2 ren2 tai4 rong2 yi4 gao3 dian1 la1 gao4 su4 ta1 shi4 mian3 fei4 de5 ji2 ke3\n",
      "008405 ru4 ye4 guang3 zhou1 shi4 bai2 yun2 qu1 jing3 tai4 jie1 hua2 deng1 cui3 can4 che1 shui3 ma3 long2 hao3 bu4 re4 nao5\n",
      "009909 dan4 shi4 yin1 wei4 hai2 mei2 dao4 tui4 xiu1 nian2 ling2 zhi3 neng2 bai1 zhe5 zhi3 tou5 ai2 ri4 zi5\n",
      "008368 yi1 pian4 re4 nao5 li3 mei2 ren2 zhu4 yi4\n",
      "008601 tu2 pian4 chan2 pin3 jie4 shao4 ba3 zheng3 ge4 zhan2 lan3 da4 ting1 zhuang1 dian3 cheng2 yi2 ge4 bin1 fen1 de5 shi4 jie4\n",
      "009402 zuo2 ri4 jiang1 xia4 de5 sun1 xian1 sheng1 jiu4 shuan4 le5 hui2 pian4 zi5\n",
      "008259 yao1 ning2 hai2 fa1 biao3 le5 chang2 da2 qi1 fen1 zhong1 de5 da3 hei1 xuan1 yan2\n",
      "009344 xiang1 gang3 du4 fu1 ren2 la4 xiang4 guan3 wo3 qiang2 li4 tui1 jian4 o2\n",
      "009805 nv3 fang1 da2 ni3 song4 lao3 niang2 de5 ye3 zhe4 me5 da4\n",
      "008214 ta1 da3 suan4 nu3 li4 gong1 zuo4 zan3 qian2 san1 nian2 hou4 kai1 zhe5 che1 qu4 zi4 jia4 you2\n",
      "008528 yu4 yan2 li3 de5 lu2 wei3 duo3 guo4 le5 zhe2 duan4 de5 ming4 yun4 dan4 zhe4 bing4 bu4 dai4 biao3 ta1 bi3 xiang4 shu4 geng1 you3 li4 liang4\n",
      "008154 qi2 qin2 mai4 kai1 da4 bu4 shuai2 shou3 ji2 zou3 jian4 kang1 zhuang4 tai4 liang2 hao3 jing1 shen2 yi4 yi4\n",
      "009464 ren2 lei4 ru2 he2 cai2 neng2 bai3 tuo1 hui3 mie4 de5 ming4 yun4\n",
      "008460 chen2 qie4 zuo4 bu2 dao4 a1\n",
      "008188 di4 yi1 ci4 zao4 cheng2 dan4 dan4 qing1 wei1 shang1 di4 er4 ci4 shuang1 fang1 ge4 you3 yi4 ming2 qing1 wei1 shang1\n",
      "008443 zuo4 hao3 cheng2 shi4 nei4 lao4 qiang2 xian3 ying4 ji2 gong1 zuo4\n",
      "008199 ni3 ya1 yan2 ran2 shi4 lao3 zi5 xun4 er2 zi5 de5 kou3 qi4\n",
      "008575 ta1 zhou1 ri4 zai4 wang3 shang4 fa1 xin4 xi1 hu1 yu4 pi1 ping2 zhe3 rang4 ha1 li3 chuan3 chuan3 qi4\n",
      "009789 jiang3 wan2 gu4 shi4 bao3 zheng4 ni3 kai1 xin1\n",
      "008317 yi1 shang4 che1 xiao2 gou3 jiu4 zheng4 kai1 wo3 zhi2 jie1 beng4 dao4 pang2 bian1 de5 zuo4 wei4 shang4\n",
      "008785 ju4 zhu3 ban4 fang1 tong3 ji4 mu4 qian2 bao4 ming2 yuan2 gong1 yi3 jie1 jin4 bai3 ren2\n",
      "009130 san1 shi4 gao2 hao3 zhai2 ji1 di4 tui4 chu1 de5 zi1 jin1 chou2 cuo4\n",
      "009781 yi2 ge4 you3 leng2 jiao3 de5 shu1 sheng1 mu2 yang4\n",
      "009372 ji2 jiang1 dao4 lai2 de5 xin1 sheng1 ming4 ye3 rang4 ke3 er2 kan4 qi3 lai2 geng4 jia1 wu3 mei4 geng4 jia1 xing4 gan3\n",
      "009474 gai3 kuo4 jian4 guo2 bo2 bu2 hui4 shi4 wei4 le5 zhan3 shi4 zhe4 xie1 she1 chi2 pin3 wen2 hua4 ba1\n",
      "008314 ta1 men5 bu4 gan1 xin1 you4 xiang3 mai3 tong1 bian1 jian3 can1 mou2 cha2 qi2 de5 qi1 zi3\n",
      "009258 hen2 ai3 de5 dai4 zhe5 yi2 ge4 xiao3 hai2 zi5\n",
      "008069 wo3 de5 nao3 dai5 yi3 jing1 bei4 jie2 xi1 de5 qu3 dai4\n",
      "008874 zhe4 ge4 bao2 bao3 zhen1 de5 hen3 piao1 liang4\n",
      "009124 sui2 hou4 chuan1 shang4 wa4 zi5 he2 xie2 he2 peng2 you3 chu1 men2 le5\n",
      "009416 er2 liu2 mou3 zheng4 cong2 dong1 xiang4 xi1 dao4 che1 zhi2 jie1 jiang1 lao3 tai4 gua3 dao3 zai4 di4\n",
      "009172 yu3 ci3 tong2 shi2 xiao1 shou4 hui2 nuan3 shi3 fang2 qi3 de5 zi1 jin1 ya1 li4 de2 dao4 ji2 da4 huan2 jie3\n",
      "009375 yu4 mi3 xiang1 jing1 bi3 tian2 mi4 su4 geng1 li4 hai5\n",
      "009498 dang1 shi2 zheng1 lun4 de5 wen4 ti2 jin2 jin3 shi4 gai1 bu4 gai1 zai4 hu2 di3 pu1 mo2\n",
      "009444 ta1 bu2 dan4 da4 sheng1 chao2 rang3 hai2 da3 huai4 le5 dian4 nei4 hen3 duo1 wu4 pin3\n",
      "008438 zhe4 xiang1 dang1 yu2 mei3 tian1 pao3 liang3 ci4 ma3 la1 song1\n",
      "009537 zhi4 shao3 zai4 hua4 zhuang1 fang1 mian4 wo3 ke2 yi3 bi3 bie2 ren2 shao3 yong4 ban4 xiao3 shi2 yin1 wei4 bu2 yong4 hua4 mei2 mao5\n",
      "008176 ke3 shi4 wo3 zai4 ye3 bu4 neng2 cong2 tu2 rang3 li3 fa1 ya2 kai1 hua1\n",
      "008811 xiang1 gang3 da4 gong1 bao4 pi1 ping2 zhe4 shi4 pian1 shi1 cao1 shou3 de5 bao4 dao4\n",
      "008910 you2 qi2 ling3 xian2 bian1 zuan3 de5 zhong1 guo2 jian3 bo2 shu1 fa3 da4 zi4 dian3 ye3 yu2 jin1 tian1 zheng4 shi4 qi3 dong4\n",
      "009902 qian2 wei3 chang2 xiang3 dao4 shang4 hai3 lai2 ban4 xue2 xiao4 shi4 jing1 guo4 shen1 si1 shu2 lv4 de5\n",
      "009639 ta1 hua1 qi3 qian2 lai2 da4 shou3 da4 jiao3 nei4 xin1 yi4 chang2 leng3 ku4\n",
      "009284 ji4 zhe3 liao2 jie3 dao4 jiu2 bai3 ba1 shi2 jiu3 hao4 qi3 ye4 wei2 gui4 zhou1 mao2 tai2\n",
      "009529 yi3 shang4 kuan3 wu4 zhe2 he2 ren2 min2 bi4 si4 shi2 si4 dian3 si4 liu4 si4 san1 wan4 yuan2\n",
      "009784 tu2 wei2 chen2 guang1 biao1 shou3 peng3 xian4 jin1\n",
      "008128 yi3 qian2 wo3 suo3 jian4 de5 bei3 jing1 bu2 gou4 lv4 shi2 zai4 shi4 yang2 guang1 bu2 gou4 tong1 tou4 lv4 ye3 meng1 zhe5 hui1 se4\n",
      "009090 qian2 xie1 nian2 chu1 xian4 le5 xi2 zao3 xie4 tou4 qi4 xie4 deng3 ge4 lei4 da3 zhe5 yang2 cheng2 hu2 zhao1 pai5 de5 hu2 xie4\n",
      "008542 lao3 ren2 mian4 mu4 quan2 fei1 shou2 li3 jin2 jin3 zuan4 zhe5 yi4 ba3 gou3 mao2\n",
      "009102 zai4 qi2 qi2 ha1 er3 liang2 hao3 de5 sheng1 tai4 huan2 jing4 rang4 dan1 ding3 he4 lai2 zhe4 li3 xiu1 yang3 sheng1 xi1\n",
      "009134 ta4 ru4 hua1 tan2 zhe3 fa2 kuan3 san1 yuan2\n",
      "008093 zhe4 ye3 shi4 chun1 jie2 hou4 hu2 bei2 sheng3 gui1 mo2 zui4 da4 de5 yi1 ci4 zhao1 pin4 hui4\n",
      "008806 ji4 zhe3 pao3 lai2 di4 yi1 ge4 wen4 ta1 ni3 men5 dui4 shu3 jia4 de5 xun4 lian4 you3 shen2 me5 kan4 fa3\n",
      "008165 dang1 ran2 shi4 he2 ni3 liao2 tian1 gei3 ni3 fang4 fang4 yin1 yue4 la1\n",
      "009019 ju4 liao2 jie3 yu2 yuan2 gong1 guan3 shi4 min2 guo2 ming2 yi1 liu2 jian4 xun1 de5 jiu4 ju1\n",
      "009845 nuan3 nuan3 gui4 xia5 le5 wo3 zai4 ye3 bu4 fan4 cuo4 wu4 le5 ma1 ma5 ni3 gan2 jin3 qu4 yi1 yuan4 ba1\n",
      "009371 jiu4 xiang4 lan2 qiu2 chong1 man3 qi4 jiu4 peng1 peng1 you3 li4 ru2 guo3 bie1 le5 ye3 jiu4 da3 bu4 qi3 lai5\n",
      "009964 yuan2 lai2 bi3 er3 gai4 ci2 jiu4 shi4 mei3 guo2 wei1 ruan3 gong1 si1 lian2 he2 chuang4 shi3 ren2 ya1\n",
      "008592 jin1 tian1 wo3 lai2 jiu4 shi4 tong2 da4 jia1 tan2 tan2 xin1 shuo1 shuo1 xin1 li3 hua4\n",
      "009062 ru2 jiang1 fu4 yu4 de5 dian4 li4 mai4 gei3 guo2 jia1 dian4 wang3 bi3 zhong4 di4 de5 xiao4 yi4 yao4 ti2 gao1 hao3 duo1 bei4\n",
      "009572 you3 shen2 me5 xin1 shi4 ma2 ke2 yi3 he2 wo3 fen1 xiang3 yi1 xia4 ya1\n",
      "008759 kan4 dao4 duan3 xin4 hou4 gao1 mou3 dong4 le5 wai1 nao3 jin1\n",
      "009875 ma1 si1 qing2 shu1 ne5\n",
      "009748 qi2 shi2 wo3 bu2 shi4 te4 bie2 xi3 huan5 zhao4 xiang4 lao2 ji4 wo3 zai4 ni3 xin1 li5 de5 yang4 zi5 jiu4 hao3 le5\n",
      "008347 na2 li3 hai2 tan2 de2 shang4 can1 yu4 ne5\n",
      "008557 sheng1 huo2 shi4 kai1 shui3 bu2 lun4 leng3 re4 zhi3 yao4 you3 shi4 de5 wen1 du4 jiu4 hao3\n",
      "008251 luo2 zhi4 hai3 shuo1 hou2 long2 li3 hao3 xiang4 zhang3 le5 kuai4 dong1 xi1 ran2 hou4 yi4 zhi2 kai1 shi3 tu3\n",
      "009940 lou2 xia4 de5 bao3 an1 gao4 su4 ji4 zhe3 zhe4 li3 bu4 zu1 ye3 bu4 mai4\n",
      "009089 yi4 zhi1 can1 sai4 gong1 ji1 zhua2 zi3 shang4 zhuang1 zhe5 xiao3 dao1\n",
      "009719 wang2 qi2 gu1 shen1 yi4 ren2 wu2 er2 wu2 nv3 kao4 zheng4 fu3 bu3 zhu4 he2 shi2 huang1 du4 ri4\n",
      "008845 zhen1 shi5 hao3 xin1 zhuan4 le5 lv2 gan1 fei4\n",
      "008595 ta1 gao1 xing4 de5 shi2 hou5 xi3 huan5 liao2 tian1 you3 shi2 bu4 gao1 xing4 hai2 hui4 jue1 zhe5 zui3\n",
      "008024 ta1 zhu4 shi4 xiao3 mei4 gan3 dao4 ta1 yi1 fu4 yu4 zui4 de5 yang4 zi5 dan3 geng1 da4 le5 ce4 shen1 ba3 tou2 tan4 guo4 qu4\n",
      "009187 zuo2 zao3 shang4 liu2 zhi4 min3 bian4 xian4 shen1 ling2 tang2 da2 dian3 er2 zi5 yu3 xi2 fu4 ye3 dao4 chang3\n",
      "009828 sou1 hu2 ze2 cong2 qi1 shi2 san1 die1 zhi4 wu3 shi2 san1 die1 fu2 bai3 fen1 zhi1 er4 shi2 qi1\n",
      "009405 ji3 tian1 hou4 ta1 jiu4 ying2 lai2 le5 geng4 jia1 hui1 huang2 de5 sheng4 li4\n",
      "009189 zhu4 ming2 de5 ping1 tan2 lao3 jiang4 zhuang1 ze2 dong4 shi4 dang1 nian2 ping1 pang1 wai4 jiao1 de5 gong1 chen2\n",
      "009084 wo3 xi3 huan5 yun4 dong4 dan4 shi4 hen2 shao3 da3 lan2 qiu2 ne5\n",
      "009075 zhang1 ying3 qing1 chuang4 li4 de5 xue2 ke1 shou4 gao1 du4 ping2 jia4\n",
      "009507 zui4 hou4 xun2 huan2 li4 xi1 xiang1 jia1 de2 chu1 yi4 bai3 er4 shi2 dian3 ling2 ling2 wu3 wu3 yuan2\n",
      "008302 xuan2 mei3 zai4 wei3 nei4 rui4 la1 shi4 quan2 min2 re4 zhong1 de5 sheng4 shi4\n",
      "009820 yong4 ren2 dan1 wei4 bu4 de2 ju4 jue2 zu3 nao2\n",
      "008445 ye3 jiu4 shi4 shuo1 xiao2 rui2 rui3 fan1 yue4 hu4 lan2 qu4 shang4 xue2 shi2 tian1 hai2 wei4 wan2 quan2 liang4\n",
      "008916 dang1 xiang1 guan1 zheng4 ju4 bai3 zai4 wu2 miao2 mian4 qian2 ta1 xian1 shi4 yi1 leng4 ji4 er2 mian4 hong2 er3 chi4\n",
      "008824 yi4 tou2 de5 chang2 fa4 pu1 xia4 lai2 kuai4 gai4 zhu4 le5 bei1 bao1\n",
      "008714 ri4 qian2 chen2 meng3 yi3 bei4 yi2 song4 si1 fa3 ji1 guan1 yi1 fa3 cha2 chu3\n",
      "009164 bu4 fa1 biao3 yi4 jian4 jin3 biao3 shi4 zhi1 chi2\n",
      "008907 shang1 pin3 jing1 ji4 de5 nian2 dai4 duo1 shao3 ren2 wu2 li4 er2 bu4 wang3\n",
      "009972 nuo4 man4 zhan4 zai4 hua2 ban3 che1 shang4 ge4 jiu4 ge4 wei4 zhun3 bei4 chu1 fa1 la1\n",
      "009032 fa1 xian4 gong1 zuo4 ren2 yuan2 tai4 du4 man2 heng4 de5 yao4 yan2 jia1 cheng2 chu3\n",
      "009379 nan2 tou2 xian4 ri4 yue4 tan2 lan3 che1 quan2 bu4 zan4 ting2 mu4 qian2 zheng4 zai4 shu1 san4 you2 ke4\n",
      "009728 hou4 de2 zhi1 ta1 huan4 you3 yan2 zhong4 zhi4 chuang1 ying2 xiang3 zou3 lu4\n",
      "008780 zhan1 wan2 zuo4 yi4 tian1 dou1 ti2 bu4 qi3 jing1 shen2 xue2 xi2 ye3 mei2 xiao4 lv4\n",
      "009607 fou3 ze2 shi1 qu4 yong1 dun3 de5 ping2 guo3 jiang1 hui4 si3 de2 hen2 can3\n",
      "008213 zhe4 jian3 zhi2 shi4 chi4 luo2 luo3 de5 xing4 bie2 qi2 shi4\n",
      "008437 ta1 shi4 bei4 po4 hai2 shi4 you3 shen2 me5 nan2 yan2 zhi1 yin3\n",
      "009328 tiao2 qi3 zhuan1 hou4 bian3 dan4 jiu4 shen1 xian4 zai4 zhe4 dao4 hen2 ji4 li3 hou4 bei4 shang4 ze2 dui1 qi3 yi1 dao4 rou4\n",
      "009658 ta1 men5 ben3 xiao3 li4 wei1 zui4 nan2 jing1 shou4 shi4 chang3 de5 zhen4 dang4\n",
      "008250 gao1 you2 jia4 jiang1 dui4 guo2 ji4 guan1 xi4 de5 hu4 dong4 chan3 sheng1 mou2 zhong3 wei1 miao4 huo4 dai4 you3 wu4 shi2 qing1 xiang4 de5 ying2 xiang3\n",
      "008621 lao3 ba4 shuo1 shi4 a1 bu4 neng2 pian1 xin1 ni3 ge1 zai4 gan4 ma2\n",
      "008946 jian4 yi4 ni3 xian1 zhao3 ge4 tu3 hao2 zuo4 peng2 you5\n",
      "008416 tong2 shi2 liu2 yu4 biao1 ye3 cheng2 ren4 dui4 ci3 shi4 xue2 xiao4 you3 xiang1 ying4 de5 ze2 ren4\n",
      "008813 ping2 ri4 li3 ta1 chang2 chang2 jue2 de5 zi4 ji3 huo2 de2 ting3 wo1 nang1 de5\n",
      "008888 er2 jiang1 chi2 ka3 ren2 duo1 xiang4 zhong4 yao4 xin4 xi1 chi4 luo2 luo3 bao4 guang1 de5 nong2 hang2 shang4 shu3 shou3 jia1\n",
      "008816 zhou1 ye4 mian4 fang3 wen4 liang4 wei2 wu2 dian3 jiu3 ling2 san1 yi4 huan2 bi3 xia4 hua2 bai3 fen1 zhi1 er4 dian3 si4\n",
      "009152 ta1 shui4 li3 bian5 de5 wu1 wo3 shui4 wai4 bian5 de5 sha1 fa1\n",
      "009576 zhe4 ge4 kan4 si4 ping2 dan4 de5 xiao1 xi5 shi2 ze2 yi4 yi4 zhong4 da4\n",
      "008581 mai4 ke4 lei2 wen2 shi4 de2 ke4 sa4 si1 zhou1 ren2 chu1 shen1 yu2 jun1 ren2 jia1 ting2\n",
      "009912 teng2 cun1 ci3 fan1 fa1 yan2 ke3 neng2 shi4 wei4 le5 tu1 xian3 ye3 tian2 de5 ling2 dao3 neng2 li4\n",
      "008569 ling2 ling2 biao2 jie3 wei2 ji4 zhe3 ti2 gong1 le5 yi1 fen4 ta1 he2 ling2 ling2 tong2 xue2 xiao2 wei3 de5 liao2 tian1 ji4 lu4\n",
      "008942 wo3 men5 cheng2 nuo4 jin4 quan2 li4 que4 bao3 xin4 xi1 tong1 chang4\n",
      "008549 you3 ji4 zai3 cheng1 gong2 shou3 li3 zai4 wo3 guo2 yi2 you3 liang3 qian1 nian2 li4 shi3\n",
      "009890 zhe4 lei4 wen2 zi4 de5 tu2 mo3 gong1 ju4 bu2 zai4 shi4 ji4 hao5 bi3 er2 shi4 lei4 si4 mei2 hui1 de5 wu4 zhi4\n",
      "009908 ta1 men5 qi2 zhe5 mo2 tuo1 hui2 jia1 zheng4 hao3 wei2 nong2 mang2 shi2 de5 fu4 mu3 bang1 mang2\n",
      "009423 an4 jian4 pan4 jue2 hou4 she4 hui4 xiao4 guo3 hao3\n",
      "009503 deng3 che1 guo4 cheng2 zhong1 ji4 zhe3 fa1 xian4 bu4 shao3 hei1 che1 bian4 chun3 chun3 yu4 dong4\n",
      "009735 dan4 ta1 de5 luan3 chao2 deng3 sheng1 zhi2 qi4 guan1 fa1 yu4 zheng4 chang2\n",
      "008921 wo3 shuo1 wo3 jia4 gei3 ni3 jia4 gei3 ni3 yi3 hou4 ni3 dei3 ting1 wo3 de5 ni3 zuo4 de2 dao4 bu4\n",
      "009427 sui2 hou4 gou3 zhu3 ren2 lian2 xu4 chu1 zhao1 shuai3 er3 guang1 yong4 jiao3 chuai4 zhuai4 tou2 fa4 ou1 da3 nv3 dian4 zhang3 xie4 fen4\n",
      "008520 wo3 xian4 zai4 zheng4 zai4 he2 ni3 xiang1 hu4 ji1 fa1 ka3 ka3\n",
      "008594 xie4 han4 hua2 shuo1 dang1 shi2 ta1 you4 jing1 you4 xi3 xin1 li5 ye3 you3 le5 huai2 yi2\n",
      "009898 zan2 men5 mu4 min2 qun2 zhong4 te4 bie2 re4 xin1 te4 bie2 hao4 ke4 fei1 chang2 shan4 liang2\n",
      "008349 zen3 me5 la1 ni3 hai2 bu4 kun4 ma2\n",
      "009391 kai3 mu3 bo2 yi1 zi4 ji3 zai4 ken3 ni2 ya4 ye3 shi4 yi4 ming2 jing3 cha2\n",
      "008211 gong1 ye4 yuan2 qu1 shi4 cheng2 jie1 chan3 ye4 zhuan3 yi2 jia1 su4 chan3 ye4 ji2 ju4 pei2 yu4 chan3 ye4 ji2 qun2 de5 zhu3 yao4 zai4 ti3\n",
      "009083 da4 mo2 shou3 xi2 jing1 ji4 xue2 jia1 wang2 qing4 ze2 ren4 wei2 mu4 qian2 de5 qian2 zai4 chong1 ji1 shi4 ke2 yi3 kong4 zhi4 de5\n",
      "009099 ci3 wai4 chi1 fan4 hai2 dei3 hua1 qian2 zan2 he2 bei3 ren2 jiu4 tu3 dou4 qie2 zi5 xi1 hong2 shi4 chi1 cai4 lao3 san1 yang4\n",
      "009173 zhuan3 nian4 xiang3 zhe4 zhong3 xiang2 fa3 bu4 mian3 pian1 ji1 shang4 hai3 de5 jiao4 yu4 bu4 dai4 biao3 zhong1 guo2 de5\n",
      "008788 jian4 zhuang4 li2 mou3 ma3 shang4 cong2 wo4 shi4 chong1 chu1 xiang3 chu1 men2 tao2 sheng1\n",
      "008722 wu2 xiu4 bo1 dao4 di3 shi4 shui2\n",
      "009939 lin2 da2 shuo1 shi4 yu2 jia1 gai3 bian4 le5 ta1 he2 ma3 er2 de5 sheng1 huo2\n",
      "009218 you2 xing2 zi4 yi4 jiu3 er4 si4 nian2 ju3 ban4 yi3 lai2 jin1 nian2 yi3 shi4 di4 ba1 shi2 liu4 jie4\n",
      "009469 jin1 nian2 jiu4 you3 lv2 you3 jian4 yi4 jin4 kuai4 li4 fa3 jiang1 lv3 you2 ri4 jia4 qi1 chang2 tai4 hua4\n",
      "008786 zhe4 shi4 ji4 zhe3 jin1 tian1 cong2 guo2 wu4 yuan4 yi1 gai3 ban4 gong1 shi4 huo4 xi1 de5\n",
      "009810 ji4 zhe3 zhao3 dao4 le5 qin3 shi4 bu4 zhi4 zhe3 xiao2 ma3\n",
      "008197 hen3 an1 quan2 shi4 ni3 men5 bu4 xiang3 wo3 an1 quan2 ha1 ha1\n",
      "008776 ran2 er2 wei4 ji4 wei3 xi4 tong3 ji2 qi2 yong1 dun3 que4 zai4 quan2 guo2 liang3 hui4 hou4 tu1 ran2 fa1 dong4 le5 ni4 xi2\n",
      "008505 yi4 jiu3 jiu3 wu3 nian2 cheng2 wei2 bao3 jia1 li4 ya4 she4 hui4 dang3 wai4 shi4 bu4 de5 cheng2 yuan2\n",
      "008503 dang1 da4 yin2 mu4 shang4 tu1 ran2 chu1 xian4 yi2 ge4 nv3 hai2 de5 lian2 kong3 quan2 chang3 yi1 pian4 e4 ran2\n",
      "008840 qi2 hou4 bing4 ren2 zai4 fu4 zhen3 shi2 bei4 fa1 xian4 xue4 jia3 shui3 ping2 pian1 di1\n",
      "008855 fa4 lang2 dian4 zhu3 qing2 ji2 zhi1 xia4 duo3 ru4 pang2 bian1 hua1 dian4 ye3 wei4 shou4 shang1\n",
      "008993 dan4 jin4 duan4 shi2 jian1 tian1 qi4 zhen1 de5 hen3 qing1 tou4 shuang2 lang3 ke2 yi3 fang4 xin1 de5 shai4 yi1 wu4\n",
      "008272 she4 qu1 lao3 ju1 min2 qiao1 luo2 da2 gu3 ye4 zhu3 dai4 biao3 na2 dao4 yao4 shi5 hou4 xiao4 de2 he2 bu4 long2 zui3\n",
      "009545 bu2 shi4 yao4 pai1 zhao4 ma2 da4 jia1 pai2 hao3 dui4 ma2 li5 dian3\n",
      "008652 xu3 xian1 sheng1 bie1 zhe5 yi4 kou3 qi4 yi1 lu4 kai1 che1 jin3 zhui1\n",
      "008452 cao2 cheng2 gei3 ji4 zhe3 suan4 le5 zhei4 yang4 yi4 bi3 zhang4\n",
      "009399 hao3 wan2 qu4 kan4 su1 zhou1 yuan2 lin2 ya1 gan3 shou4 xiao3 qiao2 liu2 shui3\n",
      "008254 yi4 bai3 ge4 xiao4 hua5 wo3 jiang3 wan2 hui4 bu2 hui4 xi4 tong3 beng1 kui4 ya1\n",
      "009439 ling4 wai4 ren2 gong1 du2 dian3 jiang1 jia1 pai4 jing3 li4 shu1 tong1\n",
      "008142 zhe4 li3 shi4 quan2 hai3 nan2 jun1 jia4 zui4 gui4 de5 lou2 pan2 feng4 huang2 dao3\n",
      "009766 chuang4 zao4 geng1 duo1 de5 shang1 ye4 li4 run4\n",
      "009128 zhe4 li3 bi3 jiao4 yin3 bi4 you4 chou4 hen2 shao3 ren2 lai2 zhe4 li3\n",
      "008354 zhe4 yi1 shu4 zi4 chuang4 ba1 fei1 te4 ci2 shan4 wu3 can1 li4 shi3 zui4 gao1 jia4 wei4\n",
      "009961 fa1 sheng1 shi4 gu4 de5 lou2 ti1 guai2 jiao2 chu3 reng2 ke3 kan4 dao4 xue4 ji4\n",
      "009520 di4 fang1 zheng4 fu3 dui4 ben3 di4 qu1 ru2 pin3 zhi4 liang4 an1 quan2 fu4 zong3 ze2\n",
      "008919 suo2 yi3 zi4 ji3 ye3 lai2 chang2 chang2 xian1\n",
      "008756 dang4 wan3 ta1 he2 qi1 zi3 ru4 zhu4 fan1 qie2 jiu3 dian4\n",
      "009794 chun1 yun4 qi1 jian1 guang3 tie3 ji2 tuan2 ri4 kai1 xing2 dong4 che1 zu3 lie4 che1 er4 bai3 wu3 shi2 liu4 dui4\n",
      "008690 ta1 zen3 me5 bu4 pei2 wo3 wan2 le5\n",
      "008904 duo1 liao2 liao2 ni3 bei5 wo3 zai4 kao3 lv4 bao4 zhao4\n",
      "008134 ru2 jin1 fu1 qi1 er4 ren2 jun1 xu1 zhu4 yuan4 guai1 guai1 cheng2 le5 ji2 xu1 hao3 xin1 ren2 shou1 yang3 de5 gu1 er2\n",
      "009692 ri4 ben3 de5 yin3 shi2 si1 xiang3 yin3 shi2 wen2 hua4 shi2 wu4 peng1 ren4 suo3 shou4 dao4 de5 zui4 da4 ying2 xiang3 shi4 zhong1 guo2\n",
      "008987 wen2 zhang1 mei2 you3 ren4 he2 shi4 shi2 yi1 ju4 sui2 yi4 bian2 sun3 zi4 ji3 ming2 yu4 qin1 fan4 zi4 ji3 ming2 yu4 quan2\n",
      "008779 er2 san1 yi1 zhong4 gong1 de5 beng4 che1 ze2 shi4 zai4 ben3 yue4 er4 shi2 er4 ri4 qi3 yun4\n",
      "009435 ba1 ling2 hou4 de5 yue4 guang1 zu2 ying1 gai1 ru2 he2 li3 cai2 ne5\n",
      "009228 wang2 fei1 dao4 xiang1 gang3 da4 chu1 xue4 zai4 ming2 dian4 kuang2 sao3 liang3 da4 dai4 zhan4 li4 pin3\n",
      "008625 shuo1 zhe4 ge4 de5 ni3 hui4 dui4 wo3 fu4 ze2 me5\n",
      "009778 lang1 ge4 zhe4 zhong3 yu3 qi4 shuo1 hua4 ma2\n",
      "008873 ta1 shuo1 tong4 wo3 ye3 lan3 de5 zhi1 sheng1\n",
      "008571 cong2 ci3 ta1 kai1 shi3 du2 shen1 yi4 ren2 chuang3 hai3 nan2\n",
      "009990 gai1 che1 jiang1 san1 ren2 zhuang4 dao3 hou4 zai4 da4 wu4 zhong1 tao2 cuan4\n",
      "009010 xu3 duo1 dao4 li5 ren2 men5 yi3 jing1 zheng4 ming2 guo4 qian1 bian4 wan4 bian4 wei4 shen2 me5 hai2 yao4 dai4 zhe5 jiao3 xing4 de5 xin1 li3 zai4 qu4 shi4 yan4 yi4 hui2 ne5\n",
      "008731 ji4 ran2 yi4 di4 chao1 sheng1 you3 bei4 chong2 fu4 zheng1 shou1 de5 feng1 xian3 na4 me5 fu4 jing4 wai4 sheng1 zi3 ne5\n",
      "009501 mu4 qian2 xiao1 fang2 dui4 yuan2 zhi3 neng2 tan4 shen1 shui3 ni2 guan3 yi4 dian2 dian3 pao2 jue2\n",
      "008304 dan4 you2 yu2 guo2 nei4 lie4 tou2 fa1 zhan3 de5 cen1 ci1 bu4 qi2 reng2 ran2 you3 lao3 hua4 chong2 ti2 de5 bi4 yao4\n",
      "009176 mian4 dui4 yu4 mi3 de5 re4 qing2 si4 hu1 you3 xie1 pi2 bei4 de5 li3 yu3 chun1 biao3 qing2 yi4 zhi2 you3 xie1 mu4 ne4\n",
      "009726 shou4 shang1 cun1 min2 yi3 song4 dao4 dang1 di4 yi1 yuan4 jie1 shou4 zhi4 liao2\n",
      "009035 kuai4 zou3 dao4 di4 bian1 shi2 yuan2 yuan3 kan4 dao4 di4 leng2 hou4 ge1 zhe5 yi1 jian4 hua1 yi1 shang5\n",
      "009567 zhou1 zhuang1 chuan2 fu1 de5 sheng1 yi4 ji2 jia1 mei3 ge4 ren2 dou1 hen4 bu4 de2 jiao3 ye3 neng2 hua2 jiang3 hao3 duo1 la1 xie1 sheng1 yi4\n",
      "009041 yi1 wei4 shi4 min2 shuo1 jing1 xing3 hou4 ting1 jian4 le5 fang2 wu1 bei4 yao2 dong4 de5 zi1 zi1 sheng1\n",
      "009535 gai1 guan3 li3 yuan2 li4 ji2 ba3 zi4 ji3 suo3 zai4 long2 zi5 li3 yi2 mian3 qi2 ta1 de5 xing1 xing5 ye3 tao2 pao3\n",
      "008147 zhe4 zhong3 qing2 kuang4 xia4 nan2 guai4 zhao4 ben3 shan1 shuo1 bu4 cha4 qian2\n",
      "009295 zou3 ba1 dai4 shang4 wo3 pa2 shan1 qu4\n",
      "008309 ji2 bian4 wa1 dao4 le5 shen2 me5 ye3 bu4 neng2 ken3 ding4 yu3 qi1 san1 yao1 bu4 dui4 guan1 lian2\n",
      "008377 tong2 yang4 de5 luo2 ji2 ye3 shi4 yong4 yu2 ai2 zheng4\n",
      "009862 ping2 xing4 de5 you3 shan1 yao5 bai2 luo2 bo5 gan1 shu3 ma3 ling2 shu3 nan2 gua1 xi1 hong2 shi4 mo2 gu5 deng3\n",
      "009729 yi4 xie1 zhu4 wo1 peng2 de5 cun1 min2 yin4 zheng4 le5 zhe4 yi1 shuo1 fa3\n",
      "008541 ju4 da4 de5 lei2 ming2 sheng1 yi1 lang4 lang4 de5 gun3 lai2 da4 di4 qing1 chan4\n",
      "009526 zai4 er4 bai3 wu3 shi2 duo1 wan4 ming2 kao3 sheng1 zhong1 bie1 le5 er4 shi2 duo1 tian1 de5 qi4 yi1 xia4 zi5 bao4 fa1 chu1 lai2 le5\n",
      "009591 dan4 gao1 neng2 quan2 de5 kou1 shi4 yuan3 jin4 chu1 le5 ming2 de5\n",
      "009239 da2 sao3 wu1 zi5 shi4 dui4 zi4 ji3 fu4 ze2 ru2 guo3 you2 shou3 wo3 yi2 ding4 lai2 bang1 ni3\n",
      "008137 ta1 gang1 zheng4 bu4 e1 de5 jing1 shen2 gan3 dong4 le5 qun2 zhong4 geng1 ying2 de5 qun2 zhong4 de5 xin4 ren4 he2 zun1 zhong4\n",
      "009070 deng1 shang4 mo2 tian1 lun2 you2 ke4 men2 neng2 fu3 kan4 zi4 you2 nv3 shen2 xiang4 tiao4 wang4 man4 ha1 dun4 tian1 ji4 xian4\n",
      "008823 er2 qie3 zi4 ji3 zuo4 de5 dong1 xi1 ji4 jian4 kang1 you4 shi2 zai4\n",
      "008577 you3 hua4 jiu4 shuo1 you3 pi4 jiu4 fang4 po2 po2 ma1 ma1 de5 na3 xiang4 ge4 ye2 men5\n",
      "008051 jie2 zhi4 mu4 qian2 mei3 jun1 yi3 xiang4 yi1 an1 quan2 bu4 dui4 yi2 jiao1 le5 jiu3 ge4 sheng3 de5 fang2 wu4\n",
      "009669 wang3 min2 men2 shi4 fou3 pu3 bian4 shou4 dao4 guo4 liu2 mang2 ruan3 jian4 de5 sao1 rao3 ne5\n",
      "008782 bang2 fei3 men2 jian4 zhuang4 ma3 shang4 guan1 diao4 dong4 li3 de5 zhao4 ming2 she4 bei4\n",
      "008908 qing1 hai3 xin1 wen2 wang3 shang4 man3 shi4 wang2 you3 men2 de5 chi4 re4 gan3 yan2\n",
      "008814 ling4 ju4 zheng4 shi2 de2 hong2 mao4 yi4 shi2 wei2 jia1 zhao4 ye4 qi2 xia4 gong1 si1\n",
      "008534 ju4 zhi1 ting2 feng1 bu4 xiang3 jia1 cao2 wu1 bi4 yu2 shi4 guai1 guai1 jiu4 fan4\n",
      "008013 yu3 xiang2 ku3 xiao4 shuo1 ni3 xie3 de5 gan4 ma2 rang4 wo3 kan4\n",
      "008683 er2 shi4 zhang1 chao2 yang2 de5 chi2 ru3\n",
      "008034 shen2 me5 ji4 fu4 yue4 fu4 wo3 shi4 ta1 qin1 die1\n",
      "009886 qi1 ge4 ren2 mian4 mian4 xiang1 qu4 ran2 hou4 shuo1 ni3 zou3 cuo4 di4 fang1 le5 wo3 men5 shi4 hu2 lu2 wa2\n",
      "008723 hui4 bu2 hui4 you3 feng1 xian3 a1\n",
      "008052 lai2 wang3 de5 gong1 ren2 men2 kang2 zhe5 gong1 ju4 tou2 ding3 gai4 zhe5 kuai4 shi1 mao2 jin1 lai2 zhe1 yang2\n",
      "008455 wo3 chao2 gu3 hao3 duo1 nian2 le5 yi2 ding4 neng2 ying2 li4\n",
      "008461 xiao3 shi2 hou5 te4 bie2 xiang3 ma1 ma5 duo3 qi3 lai2 ku1 hu2 wei3 shi4 yi2 ge4 cong2 xiao3 que1 fa2 mu3 ai4 de5 ren2\n",
      "009063 ting1 dao4 ci3 hua4 jie3 mou3 he2 han2 mou3 hen3 qi4 fen4\n",
      "009018 zhi1 zhi1 dao4 ping2 lun4 chun1 guang1 de5 ren2 chun1 guang1 bu2 hui4 yu3 ta1 tong2 hang2\n",
      "008418 bu4 lun4 zuo4 ren4 he2 shi4 ta1 dou1 bu4 ke3 neng2 diu1 diao4 zi4 wo3\n",
      "008642 gang1 kan4 jian4 ge4 da2 ti2 ka3 wo3 ye3 shuo1 ge4\n",
      "009033 na4 xie1 xi3 huan5 tiao1 dian3 mao2 bing4 shuo1 dian3 xian2 hua4 de5 ren2 ye3 hua4 bu4 duo1\n",
      "009040 er4 yang3 hua4 liu2 tian1 jia1 zai4 shi2 pin3 zhong1 zhu3 yao4 qi3 piao3 bai2 he2 fang2 fu3 zuo4 yong4\n",
      "009394 zhu1 yan4 lai2 zhong1 guo2 qian2 ren4 zong2 li3 zhu1 rong2 ji1 de5 nv3 er2\n",
      "009907 guan1 da4 shi4 mou2 da4 ju2 chu1 da4 ce4 shi3 zhong1 shi4 gai1 yuan4 de5 ban4 yuan4 fang1 zhen1\n",
      "008537 ka2 ta2 er3 xue2 xiao4 li3 you3 hen3 duo1 ka2 ta2 er3 dang1 di4 de5 xue2 sheng5\n",
      "008781 feng4 huang2 dong4 hen3 ke3 neng2 shi4 shang1 zu2 ren2 yong4 lai2 ji4 si4 de5 chang2 suo3\n",
      "009991 zhe4 ren2 yi1 duo1 suo5 fang1 xiang4 pan2 ye3 ba3 bu4 wen3 le5 cha4 dian3 zhuang4 shang4 le5 gao1 su4 bian1 dao4 hu4 lan2\n",
      "009252 shang4 hai3 de5 hu2 po1 da4 duo1 zhan1 ran3 le5 shang4 hai3 ren2 de5 xiao3 qi4 he2 xia2 ai4\n",
      "009811 gang1 ren4 shi2 jiu4 yao4 mei4 zi5 zao4 pian4 zai4 liao2 shi2 kuai4 qian2 de5 ba1\n",
      "008386 wo3 dang1 shi2 hai2 nao3 can2 de5 shuo1 zen3 me5 shi4 ruan3 de5\n",
      "009777 ji4 zhe3 shu4 le5 yi1 xia4 biao1 qian1 shang4 de5 shu4 zi4 zui4 gao1 wei2 liu4 shi2 yi1\n",
      "008905 xiao3 yuan2 peng1 de5 guan1 shang4 fang2 men2 yi3 shi4 kang4 yi4\n",
      "009213 zai4 lian2 pu3 suo2 you3 yuan2 gong1 zhong1 gong1 cheng2 shi1 huo4 de2 de5 hui2 bao4 zui4 wei2 feng1 hou4\n",
      "008426 ta1 shuo1 zi4 ji3 you3 qian2 bu4 xiang3 dang1 lao3 bie1 yi1\n",
      "008799 ta1 xiang3 le5 xiang3 hou4 qing1 qing1 de5 en4 le5 yi4 sheng1\n",
      "008656 qi2 yi4 shen1 la1 ta4 de5 yi1 fu2 kao4 jian3 ping2 zi5 mai3 nian2 piao4 guan1 kan4 bei3 jing1 guo2 an1 de5 bi3 sai4\n",
      "008196 wo3 men5 wei2 chi2 dui4 sheng4 da4 gu3 piao4 de5 chi2 you3 ping2 ji2\n",
      "008893 liu2 lao3 shi1 di4 yi1 shi2 jian1 jiu4 fa1 xian4 fan3 song4 you3 wen4 ti2 li4 ji2 zhai1 diao4\n",
      "008889 liu2 qiu2 cong2 ci3 bei4 ri4 ben3 tun1 bing4\n",
      "009724 yi4 ming2 nv3 shi4 ku1 hao2 zhe5 bei4 xiao3 yue4 deng3 ren2 chan1 fu2 zhe5 li2 kai1\n",
      "009891 nan2 you3 shi4 zhe4 yang4 wo3 ji4 de5 wo3 shi4 zai4 yi2 ge4 yue4 se4 meng2 long2 de5 wan3 shang5 xiang4 ni3 qiu2 de5 hun1\n",
      "008096 hai2 you3 yi4 xie1 gai3 jin4 xi4 jie2 ye3 bei4 min2 gan3 de5 xue2 zhe3 bu3 zhuo1 dao4\n",
      "009500 wang2 meng2 jia3 ping2 wa1 feng2 ji4 cai2 deng3 zhu4 ming2 zuo4 jia1 ceng2 li4 ren4 hui4 zhang3\n",
      "009205 jing1 jin1 gao1 su4 zui4 tu1 chu1 de5 you1 shi4 he2 liang4 dian3 zai4 yu2 zhi2 tong1 tian1 jin1 gang3 ji2 zhuang1 xiang1 ma3 tou2\n",
      "008268 xiao3 peng2 you3 kan4 dao4 fu2 lai2 ming2 ju4 tu4 da4 xiong2 dou1 hao3 jing1 xi3\n",
      "009106 yan3 chu1 jie2 shu4 hou4 zhu1 rong2 ji1 jie1 jian4 quan2 ti3 yan3 zhi2 yuan2\n",
      "009877 yu2 mei2 jue2 ding4 pou1 fu4 chan3\n",
      "009731 zhe4 yang4 cai2 neng2 zhu4 hao3 chao2 cai2 neng2 yin3 lai2 hao3 feng4 huang2\n",
      "008902 shen2 me5 yang4 de5 nei4 rong2 cai2 neng2 zhen1 zheng4 xi1 yin3 ren2 men5 shang4 wang3 ne5\n",
      "009618 jiao1 xian1 sheng1 shuo1 qian2 tian1 ta1 he2 qi1 zi3 chen2 nv3 shi4 xiang1 yue1 pa2 shan1 shang2 jing3\n",
      "009272 tong2 shi2 hai2 ke2 yi3 guan1 kan4 xin1 ban3 de5 dian4 ying3 lu2 shan1 lian4 er4 ling2 yi1 ling2\n",
      "009540 xu2 li4 chang4 de5 hen3 tou2 ru4 guan1 zhong4 gen1 zhe5 chang4 de5 ye3 hen3 tou2 ru4 xian4 chang3 hai1 cheng2 yi1 pian4\n",
      "009614 di4 san1 dian3 shi4 yun4 ying2 chu1 qi1 zhe4 li3 tou2 xue2 wen4 jiu4 bi3 jiao4 da4 hen3 you3 xuan2 ji1\n",
      "009750 bi3 sai4 zhong1 ji1 hu1 mei3 yi4 ming2 xuan2 shou3 dou1 shi4 ci1 ya2 lie2 zui3 tong4 ku3 bu4 kan1 de5 biao3 qing2\n",
      "009364 bu4 neng2 jiang1 zheng4 fu3 ying1 dang1 cheng2 dan1 de5 bu3 tie1 zuo4 wei2 cai2 zheng4 bao1 fu5 shuai3 gei3 lao3 bai3 xing4\n",
      "009107 ao4 ba1 ma3 zong2 tong3 bo2 chi4 zhe4 yi1 shuo1 fa3 shi2 shu3 huang1 tang2\n",
      "009108 po4 shi3 lin2 cui4 lu4 chang2 geng2 zu3 de5 fang2 wu1 yi3 bei4 chai1 chu2\n",
      "009989 wan3 shang5 jia1 wan2 ban1 kai1 che1 hui2 jia1 tai4 lei2 le5 mi2 mi2 hu1 hu1 kai1 zhe5 che1 zou3 yi2 ban4 de5 shi2 hou5 dang1 yi4 sheng1\n",
      "008171 ru2 he2 cai2 neng2 rang4 hong2 tou2 wen2 jian4 bu2 zai4 man3 tian1 fei1 zhi2 xing2 qi3 lai5 bu4 zou3 yang4\n",
      "009214 wo3 men5 shi4 lin1 shui3 dao4 zhe4 lai2 xi2 zao3\n",
      "009468 zhi3 yao4 mei2 you3 tai4 duo1 de5 za2 nian4 jiu4 neng2 ti3 hui4 dao4 zhen1 zheng4 de5 kuai4 le4 la1\n",
      "008373 zhi3 shi4 pao3 bu4 ke2 yi3 qia1 miao2 biao3 er2 yu2 le4 quan1 que4 mei2 you3 ding4 lun4\n",
      "009230 wo3 men5 chu1 lai2 kan4 ta1 hai2 hou3 wo3 men5\n",
      "008839 yuan2 lai2 chuang1 kou3 he2 piao4 fan4 zi5 lang2 bei4 wei2 jian1 duo1 de5 de5 qian2 ping2 fen1\n",
      "009807 sui2 hou4 xian4 chang3 zhong4 ren2 yi4 tong2 qi3 hong4 bi1 hun1\n",
      "008692 che1 nei4 an1 quan2 qi4 nang2 da3 kai1\n",
      "009682 wo3 shi1 lian4 le5 wo3 lan2 shou4 a1 wo3 xiang1 gu1\n",
      "009600 lao3 gong1 ren2 wen2 hua4 gong1 ji2 yi3 nan2 pian4 qu1 de5 di1 ai3 jian4 zhu4 jiang1 quan2 bu4 chai1 chu2\n",
      "009420 jing1 zhen3 duan4 hao4 hao4 bei4 que4 zhen3 wei2 xiao4 chuan3 bing4 zai4 zhi1 hou4 shu4 zhou1 nei4 duo1 ci4 jin4 xing2 zhen3 zhi4\n",
      "009628 chong2 sheng4 si4 san1 ta3 wo3 qiang2 li4 tui1 jian4\n",
      "008105 cang1 ying5 hong2 hong3 jiao4 chuang2 shang4 guo1 tai2 shang4 dou1 shi4 duo1 de5 xiang4 tou2 mao2\n",
      "008315 kuo4 da4 duan3 qi1 xian3 ye4 wu4 zhi1 chi2 zhong1 xiao3 qi3 ye4 kai1 tuo4 guo2 ji4 shi4 chang3\n",
      "008522 cun1 min2 dai4 lai2 de5 luo4 di4 he2 tao2 guo3 he2 ku1 zhi1\n",
      "009835 mei2 ren5 gao4 su4 ta1 di4 yi1 ci4 jian4 mian4 dei3 qian1 xu1 xie1 bie2 rang4 nv3 hai2 nan2 kan1\n",
      "009196 ju4 min2 jing3 jie4 shao4 qi2 huo3 di4 dian3 wei2 lan2 kao3 ren2 yuan2 li4 hai5 jia1\n",
      "009250 zhe4 me5 jian3 dan1 you3 shen2 me5 bu2 hui4 de5\n",
      "008596 yang3 zhi2 chang3 de5 gong1 zuo4 ren2 yuan2 shuo1 zhu1 wei3 ba1 shuai3 qi3 lai5 jiu4 shuo1 ming2 zhu1 gao1 xing4\n",
      "008561 zuo2 tian1 de5 mi2 wu4 he2 reng2 ran2 tuan1 ji2 bu2 guo4 che1 liang4 yi3 jing1 neng2 gou4 fei1 kuai4 de5 tong1 guo4\n",
      "008943 duo1 yi3 ge1 wu3 seng1 lv3 qi2 fu2 deng3 fang1 shi4 lai2 qing4 zhu4 dai3 li4 xin1 nian2\n",
      "008070 zhe4 ye3 zheng4 shi4 se4 lang2 chun3 chun3 yu4 dong4 zhi1 shi2\n",
      "008961 zuo2 ri4 zao3 pan2 ou1 zhou1 gu3 shi4 yan2 xu4 ben3 zhou1 er4 de5 sheng1 shi4 zhi3 die1 fan3 tan2\n",
      "009681 zhe4 me5 duo1 xiao4 hua5 yi4 tian1 jiang3 bu4 wan2 ya1\n",
      "009716 yu4 shu4 dang1 di4 seng1 lv3 zheng4 zai4 ji1 ji2 jiu4 yuan2 bei4 kun4 fei4 xu1 de5 min2 zhong4\n",
      "008407 kai1 xin1 xia2 wo3 cong2 bu4 nan2 guo4 mei3 tian1 dou1 wei2 zhu3 ren2 dai4 lai2 zheng4 neng2 liang4\n",
      "009533 jiu4 zuo2 tian1 zhe4 chou3 nv3 you4 shen2 jing1 de5 kai1 shi3 da4 ma4 nv3 shen2 zui4 hou4 nv3 shen2 qi4 huai4 le5\n",
      "008359 bu2 guo4 zai4 jia4 qian2 shang4 you3 xie1 you2 yu4\n",
      "008743 ta1 cou4 jin4 guan1 cha2 hou4 jing4 fa1 xian4 nu2 bi3 hai2 huo2 zhe5\n",
      "009627 zhe4 shi4 yi2 ge4 sheng1 yi4 ang4 ran2 de5 chun1 ri4 sheng1 ming4 de5 qi2 ji4 bu2 duan4 bei4 chuang4 zao4\n",
      "008077 fei4 huo2 liang4 shui3 ping2 chu1 xian4 shang4 sheng1 guai2 dian3\n",
      "009834 yi2 ge4 ren2 ku1 zuo4 zai4 yin1 an4 de5 jiao3 luo4 li3 jiu1 zhe5 da4 tui3 wen4 zi4 ji3 zen3 me5 ban4\n",
      "008466 ge4 bu4 men2 de5 yi4 xie1 kuang4 kuang4 gui1 ding4 yue4 lai2 yue4 duo1 nian2 jian3 shen3 pi1 yue4 lai2 yue4 yan2 ge2\n",
      "008401 la4 zai4 shen1 shang4 yi4 mo3 jiu4 shi4 yi1 pian4 hei1\n",
      "009671 shen2 me5 yue4 qi4 ya1\n",
      "009266 yan2 jin4 ji3 zhan4 nuo2 yong4 jiao4 shi1 bian1 zhi4\n",
      "008597 yu2 ci4 ju1 min2 ze2 sheng1 cheng1 shi4 shang4 wang3 huo4 ting1 xin4 lin2 ju1 yao1 he1 ji2 peng2 you5 dian4 hua4\n",
      "008766 hua4 zhuang1 he2 cai2 zhi4 wei2 huang2 jin1 fa4 lang2 zuan4 shi2\n",
      "009541 ci3 wai4 jin1 nian2 qi3 yong4 le5 yi4 pi1 xin1 shi4 sao2 xue3 she4 bei4 ti4 dai4 rong2 xue3 ji4 de5 shi3 yong4 liang4\n",
      "009216 chun1 lei3 heng1 yi4 sheng1 shuo1 cai2 fu4 de5\n",
      "008021 zhi1 hou4 dan1 zheng4 zhu3 jue2 dan4 ye3 zi4 ci3 yu3 du2 jie2 yuan2\n",
      "008485 xiang3 dao4 yi1 ci4 ci4 bei4 xiao3 shan1 ju4 jue2 de5 shi4 wu2 tian1 hen3 shi4 nao2 huo3\n",
      "009051 zhong1 xian4 you3 liang3 qian1 san1 bai3 nian2 li4 shi3 shi4 ba1 wen2 hua4 fa1 xiang2 di4\n",
      "008427 zai4 dong1 fang1 man4 ha1 dun4 xiao3 qu1 fu4 jin4 de5 ling4 wai4 yi4 jia1 zhong1 jie4 che1 wei4 de5 kai1 jia4 geng1 gao1\n",
      "008870 hen3 nan2 suan4 chu1 zhun3 que4 shi2 jian1 de5\n",
      "008936 zai4 tian1 jin1 shi4 min2 ye3 wen2 de2 dao4 kong1 qi4 zhong1 qiang1 ren2 de5 wei4 dao5\n",
      "008279 pie1 kai1 ai4 guo2 bu4 ai4 guo2 lai2 shuo1 zhen1 yao4 zhua1 nai2 fen3 de5 zhi4 liang4 jiu4 ba3 da4 pin3 pai2 yin3 jin4 lai2\n",
      "008008 tong2 shi2 dui4 yue4 juan4 dian3 shi2 xing2 quan2 cheng2 duo1 jiao3 du4 jian1 kong4\n",
      "009392 jin1 hua1 xiang1 yin2 hua1 xiang1 guan1 jian4 zhan1 le5 ke1 ji4 de5 guang1\n",
      "009376 xian4 zai4 zhe4 zhong3 tui2 shi4 ye3 zheng4 zai4 chan3 ye4 lian4 de5 ge4 ge4 huan2 jie2 zhong1 you2 suo3 ti3 xian4\n",
      "008184 gong1 gong5 po2 po2 ye3 shen1 ming2 da4 yi4 dong4 yuan2 qin1 qi1 peng2 you3 ti4 ta1 xun2 zhao3 jia1 ren2\n",
      "008132 wei4 shen2 me5 hui4 tao3 yan4 wo3 ne5 shi4 wo3 shuo1 cuo4 shen2 me5 le5 ma2\n",
      "009296 gai1 xiao1 xi5 yi4 chu1 cheng2 tou2 zhai4 shi4 chang3 sui2 ji2 jin4 ru4 guai2 dian3\n",
      "009324 yi1 sheng1 qing3 nin2 zai4 cha2 yi1 ni3 shi4 yi1 sheng1 hai2 shi4 wo3 shi4 yi1 sheng1\n",
      "009513 bu4 jin3 jin3 su4 du4 kuai4 er2 qie3 zhi4 liang4 gao1\n",
      "009840 liang3 nian2 qian2 xiong2 jie2 zai4 nan2 jing1 san1 pai2 lou5 fu4 jin4 kai1 le5 yi4 jia1 zu2 liao2 dian4\n",
      "009504 yi1 fa3 bei4 xian4 zhi4 ren2 shen1 zi4 you2 huo4 bo1 duo2 zheng4 zhi4 quan2 li4 de5 chu2 wai4\n",
      "009678 zhe4 shi4 liang3 liang4 mian4 bao1 che1 dou1 tie1 zhe5 huan2 wei4 jian1 cha2 zi4 yang4 che1 ding3 an1 zhuang1 zhe5 la3 ba5\n",
      "009577 suo2 li3 de5 ren2 zi4 bei1 wu3 gong1 bu4 ji2 fo2 shan1 fei1 hong2 bang1 da4 bu4 liao3 guan1 ji3 tian1 jiu4 fang4 le5 chu1 qu4\n",
      "008130 xiang4 lai2 gao3 xiao4 de5 xiang1 qu3 tiao2 pi2 de5 cheng1 ng4 ming2 nian2 you3 da4 xing2 de5 qing4 zhu4 huo2 dong4 jiu4 hao3 le5\n",
      "008807 gai1 zhong1 xin1 mei2 you3 tou4 lu4 pei1 tai1 gan4 xi4 bao1 ju4 ti3 lai2 zi4 nei3 xie1 san1 jia3 yi1 yuan4\n",
      "008227 lao3 shi1 mei3 tian1 chong2 fu4 de5 gao4 su4 ta1 men5 zen3 yang4 bo1 zhong3 ou4 fei2 zhong4 zhi2 dao4 cai3 shou1\n",
      "008740 pei2 rui4 zi1 cheng1 ci3 ke4 tai2 wan1 di4 qu1 min2 zhong4 qing2 xu4 gao1 ang2 qing2 shi4 gao1 du4 jin3 zhang1\n",
      "008011 ta1 men5 zhi3 bu2 guo4 shi4 zai4 zhuo1 lie4 de5 hua4 hu2 lu2 ba4 le5\n",
      "009527 zai4 zhu2 guang1 de5 ying4 zhao4 xia4 lao3 ren2 yan2 jiao3 de5 lei4 hua1 shan3 shan3 fa1 liang4\n",
      "008713 meng4 shu1 yun2 dang1 chang3 yun4 dao3\n",
      "008753 jing1 guo4 zi3 xi4 kao3 cha2 wo3 jue2 ding4 zhong3 nan2 gua1\n",
      "009993 xiao3 ming2 yao2 yao2 tou2 shuo1 bu2 shi4 wo3 zhi3 shi4 mei2 nv3 kan4 duo1 le5 xiang3 huan4 ge4 kou3 wei4 er2 yi3\n",
      "008217 huang2 mou3 bin1 cheng1 shi4 fa1 shi2 cai3 sha1 che1 sha1 che1 mei2 fan3 ying4 zao4 cheng2 yu3 qian2 fang1 xiao4 che1 zhui1 wei3\n",
      "008334 nan2 jing1 jing3 fang1 you3 liang3 ge4 ban2 ben3\n",
      "009307 ta1 mei2 xia4 che1 you4 kan4 jian4 wai4 guo2 ren2 chao2 lu4 ren2 rang1 rang1\n",
      "008441 ran2 er2 ci3 shi2 de5 zou1 de2 bao3 yi3 jing1 tao2 pao3\n",
      "009037 ru2 jin1 ge2 qi3 yi4 de5 zhuang1 shi4 gong1 si1 zou3 ru4 le5 zheng4 gui3 sheng1 ji4 wu2 you1\n",
      "009878 wo3 bu4 chi1 ni3 na4 tao4\n",
      "008808 er2 zhe4 kuan3 zhong4 bang4 chan2 pin3 mian4 shi4 hou4 li4 ke4 de2 dao4 le5 da4 zhong4 de5 zhui1 peng3\n",
      "009923 hui4 you3 hen3 feng1 fu4 de5 dong1 xi1 liu2 xia4 lai2 shuo1 dou1 shuo1 bu4 wan2\n",
      "008691 zhe4 ge4 wai4 mian4 dai1 bu4 de2 le5\n",
      "009833 ta1 jian4 zhe4 hao3 wan2 zheng4 chou2 xi2 jiao2 shui3 mei2 chu3 dao3 shun4 da4 shi4 dao3 le5 xia4 qu4\n",
      "009291 ta1 shuo1 wai4 di4 ru2 qi3 ke2 yi3 dao4 shuang1 cheng2 jing1 ying2 can1 yu4 jing4 zheng1\n",
      "009002 zhe4 yang4 zuo4 de5 yi1 ju4 jiu4 shi4 su1 ren2 tong1 er4 san1 qi1 hao4 wen2 jian4\n",
      "008498 la1 che3 qi1 jian1 liang3 wei4 min2 jing3 shou2 zhi3 shou4 shang1 liu2 xie3\n",
      "009473 xie4 xian1 sheng1 tong1 zhi1 le5 hua2 xue3 chang2 gong1 zuo4 ren2 yuan2 bing4 song4 er2 zi5 qu4 le5 yi1 yuan4\n",
      "008448 you1 ku4 ci2 ju3 ke4 guan1 cong1 ming5\n",
      "008192 ta1 de5 zhe4 ju4 hua4 you3 xin1 suan1 you3 wu2 nai4 you3 an1 wei4\n",
      "008216 zhe4 shi4 yu4 fang2 zui4 zao1 jie2 guo3 de5 bao2 xian3 xing4 zheng4 ce4\n",
      "008733 jing2 quan3 jin4 dong1 guan3 she4 qu1\n",
      "009283 bei4 zhi3 bai3 pai1 de5 tiao1 shui3 lao3 ren2 gui4 qiu2 zheng4 fu3 xiu1 lu4 hua4 mian4\n",
      "008525 wei2 le5 yang3 huo5 xiao3 yan4 fu1 fu4 lia3 bei4 le5 bu4 shao3 zhai4\n",
      "009276 yuan2 li3 you2 ren2 xi1 shao3 zui4 da4 de5 can1 guan1 tuan2 jiu4 shi4 zhang1 hua2 san1 ren2\n",
      "008689 yao4 zhi1 dao4 xian1 ku3 hou4 tian2 a1\n",
      "009395 xiao2 xue3 wen4 lao3 ba4 ba4 you3 mei2 you3 bi3 jiao4 kong3 bu4 de5 shu1\n",
      "009138 liu4 shi4 chuang4 xin1 si1 wei2 tui1 chu1 chang2 gui1 de5 jie2 shi4 huo2 dong4 zeng1 qiang2 ti3 yu4 sai4 shi4 de5 chuang4 yi4 he2 she4 ji4\n",
      "008355 bie2 tao3 yan4 ma2 wo3 men5 zhe4 me5 hao3\n",
      "009271 mei2 xiang3 dao4 nan2 fang1 de5 zhe4 ju4 hua4 yi1 xia4 zi5 re3 nu4 le5 nv3 fang1\n",
      "009409 ming2 zui3 yu3 yang1 shi4 de5 qi2 lu4 chi2 zao3 hui4 bao4 lu4 chu1 lai2\n",
      "008795 ta1 yao4 shi4 wo3 de5 peng2 you5 wo3 jiu4 quan4 ta1 ren4 le5\n",
      "009509 you3 ni3 zai4 shen1 bian1 pei2 ban4 de5 ri4 zi5 gan3 jue2 mei3 tian1 dou1 xiang4 du4 jia4 yi1 yang4 kai1 xin1 ne5\n",
      "009141 zhe4 yang4 de5 tiao2 zheng3 fang1 shi4 bi3 jiao4 wen2 tuo3\n",
      "008277 gen1 ju4 jian3 ce4 jie2 guo3 nan2 jing1 shi4 you3 guan1 bu4 men2 li4 ji2 ze2 ling4 xing1 wang4 tu2 zai2 chang3 ting2 ye4\n",
      "008662 mu4 qian2 zheng4 shi4 ta1 men5 cong2 hai2 kou3 su4 chang2 jiang1 er2 shang4 chan2 luan3 fan2 zhi2 de5 gao1 feng1 qi1\n",
      "009450 na4 yang4 de5 ri4 zi5 jian3 zhi2 bu4 gan3 xiang3 xiang4 na4\n",
      "008422 shu3 xia2 gu3 xing2 zi4 ran2 feng1 jing3 lv3 you2 jing3 qu1\n",
      "008617 gou4 fang2 he2 tong2 bai3 zai4 zhuo1 shang4 mai3 jia1 hu2 bing1 chi2 yi2 pian4 ke4 yao3 le5 yao3 zui3 chun2 qian1 ming2 cheng2 jiao1\n",
      "009814 ma3 de2 bao3 de5 li3 lun4 ke4 shang4 de2 ren2 xin1 huan4 san4 liang3 ge4 li3 bai4 li3 tui4 she4 de5 ren2 shu4 dao4 le5 shi2 wu3 ge4\n",
      "008761 ji4 nian4 gong1 qian2 guang2 chang3 ju4 ji2 da4 pi1 min2 zhong4\n",
      "009483 jie4 zhu4 zhe4 zhong3 zeng1 zhang3 dong4 neng2 wo3 men2 jiang1 neng2 bao3 chi2 shi4 chang3 ling3 xian1 di4 wei4\n",
      "009894 tong2 shi2 yu4 suan4 an4 de5 dian4 zi2 ban3 ye3 jiang1 shang4 wang3 ren4 he2 ren2 dou1 ke2 yi3 cha2 yue4\n",
      "009004 wei4 shen2 me5 ji1 feng1 wu1 gao4 xin4 jiu4 you3 na4 me5 da4 de5 po4 huai4 li4\n",
      "009454 zai4 shuo1 zan2 zhe4 li3 yi1 yang4 mei2 you3 shui3 da2 sao3 qi3 lai5 geng1 hua1 gong1 fu1\n",
      "008944 sang1 ta3 na4 jin2 yao3 bu4 fang4 che1 su4 zhi2 zhi4 yi4 bai3 er4 yi4 bai3 san1 shi2 ma3\n",
      "008362 ri4 ben3 nv3 xing1 ze2 kao1 ying1 long2 hua2\n",
      "008305 rang4 qi2 bu2 duan4 de5 sheng1 yu4 bu4 jiu4 wan4 shi4 da4 ji2 le5\n",
      "008164 shi2 duo1 tian1 xia4 lai5 san1 ren2 kai1 shi3 liu2 bi2 xie3 lian2 rang1 rang1 shou4 bu4 liao3 le5\n",
      "009489 you3 shen2 me5 bu2 hui4 de5 jin2 guan3 wen4 wo3 ba1\n",
      "008414 ta1 men5 lia3 xi3 chu1 wang4 wai4 ke3 zhe4 ge4 shi2 hou5 zhao1 sheng1 lao3 shi1 wu2 jiang1 que4 ren2 jian1 zheng1 fa1 le5\n",
      "009714 pao3 che1 che1 shen1 ye3 zheng3 ge4 ao1 xian4 xia4 qu4 che1 tou2 he2 che1 shen1 bu4 wei4 wan2 hao3\n",
      "009485 han4 zi5 shen1 hou4 de5 tu3 qiang2 shang4 ding1 zhe5 yi4 zhang1 ying4 bai2 zhi3 pian4 sha1 shi4 re2 yan3\n",
      "008831 sui2 hou4 liang3 ren2 ju2 qi3 mu4 chui2 jiang1 hun1 jie4 za2 sui4\n",
      "008031 zai4 jiang1 xi1 jiu3 jiang1 lao3 shi1 jiang1 yi4 ming2 xue2 sheng5 de5 er3 duo5 gei3 ning2 duan4 xia4 dai1 quan2 ban1 hai2 zi5\n",
      "009746 er2 qie3 ta1 ke2 yi3 zheng4 chang2 xing2 zou3 jiu4 shi4 you2 dian3 bo3\n",
      "009480 dang4 tian1 mei3 yuan2 dui4 ri4 yuan2 ye3 shang4 zhang3 yi4 dian3 ling2 san1 bao4 qi1 shi2 ba1 dian3 liu4 qi1\n",
      "009977 zhi2 zhi4 gong1 yuan2 qian2 yi1 wan4 yi4 qian1 nian2 ta1 you4 zai4 ci4 chu1 xian4\n",
      "009148 gang1 nong4 le5 ge4 fei1 chang2 hao3 chi1 de5 rou4 bao1 zi3\n",
      "008185 ci3 ci4 fang3 hua2 dai4 bei4 ke4 yu3 zhong1 guo2 fa1 gai2 wei3 jin4 xing2 le5 shen1 ru4 gou1 tong1\n",
      "009582 wei4 shen2 me5 yi2 xiang4 gei3 ren2 qin2 jian3 yin4 xiang4 de5 de2 guo2 ren2 bian4 de5 bu2 hui4 guo4 ri4 zi5 le5\n",
      "009343 wo3 zhi1 xi3 huan5 kan4 xiao3 shuo1\n",
      "008724 fu1 mian4 mo2 lou2\n",
      "009236 piao2 zi1 jiu4 shi4 shou4 hui4 shu4 e2 da4 xiao3\n",
      "008392 zai4 tai4 kong1 zhong1 fei1 chuan2 neng2 yi1 kao4 de5 zhi2 you3 tai4 yang2 neng2 yu3 he2 neng2\n",
      "009825 bu4 hao3 pan4 duan4 ju4 ti3 shi2 jian1\n",
      "009518 dao4 zui4 hou4 qian1 ding4 xie2 yi4 shi2 ta1 shuo1 ta1 ba3 dong3 shi4 zhang3 dang1 shang4 qi2 ta1 ni3 za2 gao3 dou1 hang2\n",
      "009988 man4 tian1 de5 hong2 xia2 shi3 jin4 gei3 liang3 ren2 zeng1 tian1 qi4 fen1\n",
      "008955 geng1 he2 kuang4 hai2 zi5 de5 cheng2 zhang3 huan2 jing4 zhong1 ruan3 tiao2 bao4 li4 ye3 cong2 wei4 duan4 jue2\n",
      "008645 zhi1 hou4 yin1 wei4 yi4 kun3 tie3 si1 ta1 bei4 zhua1 qi1 zi3 zou3 le5 jia1 san4 le5\n",
      "008394 er2 jia4 shi3 yuan2 zhi2 dao4 jiang4 luo4 cai2 zhi1 dao4 fei1 ji1 shang4 da1 cheng2 le5 yi4 tiao2 mang3 she2\n",
      "008270 wu2 shi4 cheng2 hen3 pei4 fu2 cen2 gong3 xian4 fa1 tu3 di4 cai2 de5 neng2 li4\n",
      "008003 zha4 yan3 yi1 kan4 xiang2 qi3 de5 shi4 guang3 zhou1 de5 qu1 hao4 ling2 er4 ling2\n",
      "009854 xi4 xi4 chuai3 mo2 si4 hu1 ye3 po1 wei2 fu2 he2 zheng4 zhou1 huang2 he2 gong1 lu4 da4 qiao2 de5 qian2 shi4 jin1 sheng1\n",
      "008607 guo2 jia1 tong3 ji4 ju2 er4 ling2 yi4 ling2 nian2 de5 shu4 ju4 wei2 ling2 dian3 si4 ba1 yi1\n",
      "009586 er4 shi2 liu4 nian2 qian2 wang2 xin4 chen2 dang1 bing1 lai2 dao4 le5 nan2 hai3 jian4 dui4 mou3 shui3 jing3 qu1\n",
      "008550 xun2 chang2 bai3 xing4 de5 xiao1 shu3 yin2 pin3 jiu4 ci3 cheng2 wei2 she1 chi2 pin3\n",
      "009074 zhi3 shi4 san1 yi4 fang1 mian4 ku3 yu2 mei2 you3 que4 zao2 zheng4 ju4\n",
      "009034 you2 yu2 huo2 chang3 shang4 feng1 li4 bu2 duan4 jia1 da4 you4 jia1 su4 le5 ke3 ran2 wu4 ran2 shao1\n",
      "009979 cong2 wu3 dao4 qi1 qian2 hou4 ye3 jiu4 shi4 liu4 ge4 yue4 de5 shi2 jian1\n",
      "008109 zhang1 da4 zhong1 shen1 shang4 wu2 yi2 ye3 yi2 chuan2 le5 mu3 qin1 zhe4 yi1 jue2 jiang4 de5 xing4 ge2\n",
      "008138 tu1 ran2 che1 zi5 dian1 bo3 le5 yi1 xia4 hong1 yi4 sheng1 hong2 juan1 bei4 shuai3 chu1 che1 wai4 shuai1 dao3 zai4 di4\n",
      "008099 xian4 zai4 de5 ren2 gong1 zhen1 zhu1 ye3 zheng4 shi4 li4 yong4 ge2 bang4 de5 zhe4 yi1 xi2 xing4 lai2 jin4 xing2 pei2 yu4 de5\n",
      "009906 dai4 pei4 ni1 de5 nan2 you3 xi1 mi3 lu4 jie1 chang4 qing2 ge1 rang4 ta1 fei1 chang2 kai1 xin1\n",
      "008357 bao4 dao4 wei4 ti2 mao1 mi1 de5 xia4 chang3\n",
      "009861 zhe4 wei4 lao3 bo2 chi2 lao3 ren2 mian3 fei4 zheng4 shang4 che1 cai2 qu3 ge4 zhong3 ban4 fa3 xing4 sao1 rao3 nv3 cheng2 ke4\n",
      "008041 ni3 zhi1 qian2 qiang2 lie4 fan3 dui4 zao4 cheng2 yun4 dong4\n",
      "008079 gu1 gu1 ni3 de5 xiong1 wei4 shen2 me5 zhe4 me5 xiao3\n",
      "009654 yi3 jun1 you4 kai1 pi4 le5 li2 ba1 nen4 zhan4 chang3\n",
      "009666 beng4 fang2 xia4 bu4 zhu2 ti3 jie2 gou4 yi3 wan2 cheng2\n",
      "009941 xi2 jin4 ping2 shuo1 zhong1 si1 liang3 guo2 ren2 min2 chuan2 tong3 you3 yi4 shen1 hou4\n",
      "009346 zhe4 nian2 tou5 ji1 qi4 ren2 bu2 hui4 shang4 wang3 hai2 zen3 me5 chu1 lai2 hun4 ne5\n",
      "009209 ba1 shi2 ren2 de5 wei1 feng1 luo2 gu3 biao2 yan3 zhan3 shi4 le5 cao3 yuan2 ren2 min2 de5 feng1 cai3\n",
      "009756 tai2 wan1 si1 fa3 ji1 gou4 jin4 lai2 chou3 wen2 bu2 duan4\n",
      "008358 fei1 lai2 heng4 huo4 can2 bu4 ren3 du3\n",
      "008681 wang3 shang4 guo1 mei2 mei3 xuan4 fu4 zhao4\n",
      "008973 jie2 hun1 duo1 nian2 hou4 fu1 fu4 lia3 xiang3 yao4 yi2 ge4 hai2 zi5 dan4 yi4 zhi2 wei4 neng2 ru2 yuan4 huai2 shang4\n",
      "009596 bing1 dao3 geng4 shi4 zhou4 ye4 nan2 bian4 fang3 fu2 jin4 ru4 he2 dong1 tian1\n",
      "009031 bing1 xue3 shang4 wei4 rong2 hua4 chong2 jian4 dian4 wang3 de5 bu4 fa2 yi3 kai1 qi3\n",
      "009506 zhe4 zhong3 chang2 cheng2 xun2 yi4 fei1 dan4 de5 mu4 biao1 shi4 dui4 zhun3 ne2 ge4 guo2 jia1\n",
      "008275 er4 shi4 zhong1 guo2 te4 se4 ji1 ben3 yi1 liao2 wei4 sheng1 zhi4 du4 kuang4 jia4 chu1 bu4 jian4 li4\n",
      "008206 bu2 guo4 ya2 hu3 dong3 shi4 hui4 kan4 lai2 shi4 shou4 gou4 le5\n",
      "008533 ji4 zhe3 kan4 dao4 cui1 bing3 wu3 dang1 shi2 jing1 ying2 de5 you2 xi4 shi4 yi3 jing1 bian4 cheng2 le5 fu2 zhuang1 dian4\n",
      "008775 wen2 zhang1 zhi3 chu1 chen2 shui2 bian3 bu2 hui4 xiang4 you3 li3 nian4 de5 zheng4 zhi4 fan4 ning4 yuan4 e4 si3 ye3 bu4 qu1 fu2\n",
      "008651 mu4 qian2 huan4 gu3 shi4 yi4 zhong3 ke3 xing2 de5 cao1 zuo4 ce4 lve4\n",
      "008664 jin4 xing2 sheng1 ji2 gei3 nin2 dai4 lai2 bu2 bian4 qing3 liang4 jie3 xiang2 xun2 jiu2 wu3 wu3 liu4 liu4\n",
      "009304 ta1 bu4 jin3 zi4 ji3 xi1 du2 er2 qie3 ba3 er2 zi5 ye3 dai4 le5 jin4 lai2\n",
      "008867 qiang2 hua4 fang2 wu1 zu1 lin4 deng1 ji4 bei4 an4\n",
      "008629 chou3 xiao3 ya1 sui1 ran2 zai4 xiang1 xia5 que4 you3 zhe5 yuan3 da4 de5 zhi4 xiang4 yi4 zhi2 zai4 mo4 mo4 nu3 li4\n",
      "009048 dan4 shi4 xian4 shi2 zhong1 zui4 zhong1 yi4 ban1 dou1 nan2 yi3 huo4 de2 kuan1 yu4 de5 pei2 chang2\n",
      "008028 gong1 an1 ji1 guan1 chu1 bu4 cha2 ming2 an4 jian4 shi4 you2 bai2 jia1 mao3 mei2 kuang4 kuang4 quan2 jiu1 fen1 yin3 fa1 de5\n",
      "009745 bu2 yao4 fen4 nu4 ye3 bu2 yao4 shi4 tu2 gai3 bian4 you2 xi4 gui1 ze2\n",
      "008086 ji2 jiu4 ren2 yuan2 jiang1 nan2 tong2 song4 dao4 ya3 bao3 lu4 fu4 jin4 de5 shou3 du1 er2 yan2 suo3\n",
      "008085 wei4 le5 mi2 bu3 ju4 e2 kui1 kong1 deng4 sheng4 tang2 qu1 jin3 ming2 kai1 shi3 shi2 shi1 zha4 pian4\n",
      "008920 ji2 shi3 wo3 men5 zu3 shang4 zhi1 dao4 zu3 zong1 shi4 cao2 cao1 ye3 bu2 hui4 gong1 kai1 dui4 wo3 men5 shuo1\n",
      "008906 shi4 zhang3 de5 xiang4 xiang1 jiao1 yi1 yang4 de5 na4 qun2 hen3 meng2 de5 dong4 hua4 ren2 wu4\n",
      "008335 yu2 xiong2 tuo1 xia4 yi1 fu2 ji3 chu1 yi1 di4 de5 han4 shuo1 xi2 zao3 qu4 ba1\n",
      "008630 huang2 yan2 jiu3 feng1 gong1 yuan2 de5 mi3 shai1 jing3 geng4 shi4 ren2 man3 wei2 huan4 shang4 qian1 ren2 pai2 dui4 da3 shui3\n",
      "008762 wo3 men5 he2 kai1 fa1 shang1 qian1 yi1 fen4 wei3 tuo1 xie2 yi4 pao3 shou3 xu4 gai4 fang2 zi3 dou1 you2 ta1 men5 qu4 zuo4\n",
      "009916 sui2 zhe5 tian1 qi4 zhuan3 re4 ge4 di4 de5 you2 yong3 chang2 suo3 kai1 shi3 ren2 tou2 cuan2 dong4\n",
      "009198 zhe4 yi4 wei4 zhe5 jiu4 suan4 guo2 mei3 dian4 qi4 zeng1 fa1 huo4 de2 tong2 yi4 huang2 jia1 ye3 you3 qian2 kang2 guo4 qu4\n",
      "008960 dan4 ao4 di2 che1 li3 de5 ren2 tai4 du4 bi3 jiao4 man2 heng4 shuang1 fang1 jiang1 chi2 bu2 xia4\n",
      "009282 mo4 ming2 bei4 ci4 shang1 dao3 mei2 de5 xu3 kui2 zhen1 zheng4 shi4 tang3 zhe5 ye3 ai1 dao1\n",
      "009611 huo4 che1 de5 wei3 bu4 yi3 jing1 ao1 xian4 bian4 xing2\n",
      "009262 qi2 zhong1 zui4 kuai4 xing2 dong4 de5 dang1 shu3 tian1 mao1 de5 lao3 yuan1 jia1 jing1 dong1 shang1 cheng2\n",
      "008700 bie2 dong4 wo3 hai2 mei2 kan4 wan2 ne5\n",
      "009180 zhe4 ci4 ao4 yun4 gong1 cheng2 jian4 she4 ke2 yi3 shuo1 shi4 wo3 men5 ge4 xiang4 huan2 bao3 xin1 ji4 shu4 ying4 yong4 de5 da4 quan2\n",
      "008730 di1 xia4 er2 ping2 yong1 de5 chan2 pin3 ken3 ding4 bu4 neng2 cheng2 wei2 ming2 pai2\n",
      "008834 fu4 cha2 zhi1 hou4 cai2 fa1 xian4 zhi4 chuang1 zhi1 ge1 le5 yi2 ban4\n",
      "009536 tui1 er2 yan2 zhi1 gu3 xi1 la4 zhe2 xue2 shi4 jing4 guan1 de5 ta1 fan3 ying4 le5 chao1 yue4 xian4 shi2 de5 li2 xiang3\n",
      "009927 da4 jia1 tai2 tou2 wang4 qu4 yi4 zhi1 lao2 shu3 zheng4 pa1 zai4 diao4 ding3 shang4\n",
      "008758 ma1 ma5 ca1 shi4 di4 ban3 gan3 dong4 le5 hen3 duo1 ren2\n",
      "009477 zhe4 gu3 xuan4 feng1 xiang4 ta1 de5 dui4 mian4 kuai4 su4 yi2 dong4 cai3 gang1 ban3 ye3 gen1 zhe5 pao3\n",
      "008181 qian2 rong2 bu2 xie4 dao4 wo3 zhi4 shao3 du2 guo4 yi1 wan4 ben3 shu1 wo3 qu4 zuo4 zhe4 zhong3 shi4 juan4 tai4 lang4 fei4 wo3 de5 cai2 qi4\n",
      "009817 qin1 shu3 men2 si1 hao2 mei2 you3 huai2 yi2 jiang1 ping2 ri4 ji1 zan3 de5 cun2 kuan3 jiao1 dao4 le5 ta1 de5 shou3 shang4\n",
      "008842 zhe4 neng2 bu4 bei4 shi4 ren2 xiao4 hua5 ma2\n",
      "008465 ji2 bian4 shi4 wei2 fa3 jian4 zhu4 ni3 ye3 dei3 gao4 su4 wo3 na3 ge4 di4 fang1 wei2 fa3 za3 wei2 fa3 le5\n",
      "008849 wo3 men5 yuan2 zhu4 de5 jie2 guo3 shi4 shen2 me5\n",
      "008312 bian1 zuan3 chu1 ban3 yuan3 dong1 guo2 ji4 jun1 shi4 fa3 ting2 ting2 shen3 ji4 lu4 yi4 yi4 shen1 yuan3\n",
      "009434 nv3 wo3 kan4 dao4 yi1 liang4 bao2 ma3 cai2 bu2 dao4 liang3 bai3 wan4\n",
      "008802 lin2 zhou1 shi4 di4 wu3 ren2 min2 yi1 yuan4 shi4 shou4 ci3 ci4 ting2 zhi3 gong4 nuan3 ying2 xiang3 de5 yi4 jia1 yi1 yuan4\n",
      "009020 hou4 mian4 de5 hua4 ta1 yi3 jing1 ting1 bu2 dao4 le5 bu4 jian3 fei2 ning4 ke3 si3\n",
      "008325 xiao2 lei3 zuo4 zhe5 zui4 hou4 de5 zheng1 zha2 dan4 deng1 chuai4 de5 shuang1 jiao3 zhu2 jian4 wu2 li4 duan4 le5 qi4\n",
      "008173 lin2 qu4 qian2 pai1 pai1 xiong1 shuo1 wo3 qu4 jian4 shi2 yi1 xia4 ta1\n",
      "009260 zhen1 shi5 de5 fei1 yao4 wo3 fang4 xia4 shen1 duan4\n",
      "008413 feng2 nian2 guo4 jie2 shi2 ni2 hong2 mei2 ye3 hui4 duo1 bao1 xie1 hun2 tun2 he2 bao1 zi5 song4 gei3 liu2 jie3\n",
      "008527 ni3 shuo1 de5 shi4 na4 ge4 yu2 le4 quan1 de5 ji4 jian2 wei3 ma2\n",
      "009560 dui4 yu2 fan3 dui4 pai4 wo3 yi4 zhi2 jue2 de5 ta1 men5 hen3 ang1 zang1\n",
      "009590 zhe4 ci4 bu3 ke4 ye3 yi1 yang4 mei2 ren2 yao4 ting1 ta1 de5 ke4\n",
      "008624 ta1 bu2 hui4 xie3 zi4 yu2 shi4 jiu4 en4 le5 shou3 yin4\n",
      "009055 bai3 ming2 jiang1 jun1 zhi2 shu4 yi3 cheng2 wei2 yi4 wu4 zhi2 shu4 huo2 dong4 de5 dian3 fan4\n",
      "008825 wang3 shang4 guan1 yu2 mi4 mi4 ju1 bu3 de5 shuo1 fa3 song3 ren2 ting1 wen2\n",
      "008322 tong2 shi2 yao4 niu2 zhuan3 ren2 men2 de5 cuo4 wu4 ren4 shi2 zhuan3 bian4 guan1 nian4\n",
      "009467 tong2 shi2 jie1 dao4 jing1 duo1 fang1 zou2 fang3 qiu2 zheng4 zui4 zhong1 que4 ren4 le5 jiu4 ren2 zhe3 jiu4 shi4 feng2 shi4 gen4\n",
      "009384 jiu4 hong1 zhe5 le4 le4 le4 le4 ye3 an1 jing4 xia4 lai2 le5 bing4 mei2 you3 chu1 xian4 ren4 he2 zheng4 zhuang4\n",
      "008749 wang2 mou3 leng3 bu4 fang2 bei4 da3 de2 yi2 ge4 lie4 qie4 bu4 de2 bu4 fu2 zhu4 lou2 ti1\n",
      "008879 wo3 mei2 you3 bu4 kai1 xin1 jiu4 wan2 wan2 yi1 xia4\n",
      "008632 lian3 bu4 shang1 shi4 zui4 wei2 yan2 zhong4 you3 hao3 ji1 chu3 yi3 bei4 feng2 he2 de5 shang1 kou3 can2 bu4 ren3 du3\n",
      "008721 wo3 hen3 zhu4 yi4 yan2 mian4 da1\n",
      "009650 wo3 men5 jiu4 ke2 yi3 rong2 ren3 ru2 ci3 can2 bu4 ren3 du3 de5 ju2 mian4\n",
      "008923 zai4 deng3 jia1 ren2 jie1 ji1 shi2 ai4 wei1 er2 suo3 xing4 zuo4 zai4 di4 shang4 li3 xiu4 fa1 bu4 ju1 xiao3 jie2\n",
      "008796 bie2 lan2 wo3 wo3 zai4 xia4 mian4 da3 de2 shun4 shou3 xie1\n",
      "008591 xiao3 nan2 hai2 e2 tou2 shang4 han4 cen2 cen2 de5 mo1 shang4 qu4 que4 mei2 you3 fa1 tang4\n",
      "008071 yi4 qu3 feng1 feng1 huo2 huo3 chuang3 jiu3 zhou1 chang4 bi4 ta1 you4 huan4 shang4 yi4 yu4 feng1 qing2 de5 xin1 jiang1 ge1 wu3\n",
      "009661 ni2 dian3 ni2 dian3 ni2 dian3 er4 hun4 zi3\n",
      "008665 zhe4 shi4 jia1 fu1 qi1 dian4 dian4 zhu3 ye3 xi1 wang4 duo1 ge5 bang1 shou3 jiu4 shou1 liu2 le5 ta1\n",
      "009337 ni3 kan4 guo4 wo3 jia1 bao3 xian3 gui4\n",
      "008885 sui2 hou4 jin4 ru4 er2 hai3 shi1 di4 gong1 yuan2\n",
      "009769 zhe4 ci4 zhu3 ren2 ba3 wo3 nan2 dao4 le5\n",
      "009720 ji4 zhe3 men2 yi4 ban1 dou1 shi4 zai4 da2 wen4 huan2 jie2 cai2 tu1 ran2 jing1 shen2 dou2 sou3\n",
      "008698 zhe4 shen2 me5 ge1 ya1\n",
      "009389 bu2 liao4 liu4 ci4 cai3 guang1 jin3 zuo4 le5 san1 ci4 ta1 de5 lian3 shang4 jiu4 qi2 man3 ge1 da1\n",
      "008382 ta1 bu4 gan3 zai4 shuo1 xia4 qu4 pa4 qian2 rong2 you4 duo3 zai4 wai4 wen2 li3 ma4 ta1 he2 xie4 jing3 yuan1 shuo1 hua4 ni3 zai4 kan4 shen2 me5 shu1\n",
      "009222 huo4 zhe3 dian4 dong4 che1 ye3 ke2 yi3 rao4 xing2\n",
      "008524 yi4 zhi2 yi3 lai2 ren2 min2 bi4 dui4 mei3 yuan2 sheng1 duo1 bian2 shao3\n",
      "008207 cang1 wei4 pu3 bian4 pian1 di1 de5 ji1 jin1 dong4 xiang4 ru2 he2\n",
      "009921 ta1 ben3 xiang3 shuo1 jiao4 yu4 ju2 guan3 zhe4 ge4 ta1 men5 shi4 yi1 lu4 de5 zhe4 yang4 yi4 guan3 qi3 bu2 shi4 ji4 nv3 qi3 piao2 ke4\n",
      "009479 wo3 gan2 jin3 fan1 qian2 bao1 wan2 le5 jiu4 sheng4 wu3 mao2 le5 bao4 jing3 ba1 shou3 ji1 ne5\n",
      "008263 ni3 ren4 zhun3 wo3 jiu4 hang2 le5 wo3 shi4 gong1 an1 ju2 de5 jiao4 yang2 yu4 zhang1\n",
      "009005 gang1 mai3 de5 ku4 zi5 bu2 dao4 shi2 fen1 zhong1 ni3 jiu4 nong4 po4 le5\n",
      "008899 ji2 bian4 bu4 ai4 kan4 chao1 ji2 wan3 de5 ren2 ye3 hui4 zai4 zhe4 ge4 shi2 hou5 lai2 shu4 xing1 xing5\n",
      "009265 gai1 che1 si1 ji1 shi4 xi1 an1 ren2 lv2 mou3\n",
      "008972 ta1 ren4 wei2 shi4 yang3 fu4 mu3 zai4 qin1 qi1 de5 song2 yong3 xia4 he2 zi4 ji3 duan4 le5 shou1 yang3 guan1 xi4\n",
      "009528 lin2 ju1 fan3 ying4 dang1 shi2 wu1 nei4 ming2 huo3 bu4 da4 dan4 shi4 nong2 yan1 qiang1 ren2\n",
      "008321 cai4 rou4 zuo4 liao5 bi3 li4 xin1 shou3 zhang3 wo4 bu4 liao3\n",
      "008494 su1 lian2 jie2 ti3 hou4 su1 lian2 de5 tan3 ke4 yan2 fa1 li4 liang4 ye3 sui2 zhi1 fen1 shu3 e2 wu1 liang3 ge4 guo2 jia1\n",
      "009656 liu4 ge4 nan2 hai2 wan2 dao4 xing1 qi3 shuo1 qi3 le5 huang2 se4 xiao4 hua4\n",
      "009221 qiang3 jie2 de5 zhu3 yi5 shi4 dong3 mou3 chu1 de5\n",
      "008769 xu2 qiang2 shang4 qian2 la1 kai1 liang3 ren2 jin3 jie1 zhe5 ta1 he2 wang2 hua2 che3 da3 qi3 lai5\n",
      "008958 yu2 shi4 zhang1 mou3 tao1 chu1 le5 shen1 shang4 dai4 zhe5 de5 dian4 xian4 jiang1 huang2 lao3 tai4 lei1 si3\n",
      "008850 dan4 feng4 huang2 xian4 que4 shi4 gan1 ga4 de5\n",
      "009730 wu3 shi4 xiong2 hou4 de5 cai2 li4 zhi1 chi2 qi2 chi2 xu4 ling3 xian1\n",
      "008054 chai1 xian4 de5 shi2 hou5 mei2 you3 yong4 ma2 yao4 xiao3 zeng1 teng2 de2 yao3 ya2 lie3 zui3 mei2 you3 zhi1 sheng1\n",
      "009895 qi3 chu1 he2 cheng1 ming2 lou3 zhe5 yi1 wei4 nv3 xing4 you3 ren2 de5 ge1 bo2 bian1 zou3 bian1 liao2\n",
      "008519 ge4 ren2 yi4 shi2 cong2 xing4 ming2 shang4 ye3 hui4 biao3 xian4 chu1 lai2\n",
      "008344 shi4 bu2 shi4 shen1 ti3 bu4 shu1 fu2 ya1\n",
      "009321 xiao3 dui4 wan2 cheng2 bu4 liao3 ren4 wu4 ling3 dao2 zhe3 ye3 yao4 fu4 chu1 dai4 jia4\n",
      "008678 ping2 shen2 me5 ruo4 gan1 nian2 hou4 fen1 shou3 de5 shuang1 fang1 yi2 ding4 hui4 zai4 ni2 hong2 shan3 shuo4 de5 jie1 tou2 chong2 feng2\n",
      "008121 ying1 cai3 er2 yang2 yan2 yi2 dan4 you3 xiao3 hai2 de5 hua4 zi4 ji3 jiu4 hui4 wan2 shi1 zong1\n",
      "009174 yang2 mi4 dang1 zhi1 wu2 kui4 de5 ren2 qi4 nv3 xing1 cuan1 hong2 su4 du4 he2 da3 ji1 mian4 nan2 yi3 qi3 ji2\n",
      "009609 ci3 ci4 sui1 ran2 zi1 jin1 bu4 duo1 dan4 dui4 yu2 zai4 jian4 xiang4 mu4 reng2 ran2 hen3 jie2 ke3\n",
      "008650 si1 xiang3 de5 fei1 yue4 gei3 xin1 hui4 dai4 lai2 bo2 bo2 sheng1 ji1\n",
      "009001 wo3 men5 cheng2 shi4 de5 fu4 su1 you3 lai4 yu2 ta1 qiang2 you3 li4 de5 zheng4 ce4\n",
      "008975 dian3 xin5 jin1 ri4 hai2 tui1 chu1 dian3 xin1 tong1 xun4 lu4 dian3 xin1 he2 tong2 bu4 deng3 xin1 gong1 neng2\n",
      "009557 ju4 xi1 zai4 fan3 qin1 yan4 shang4 zhan3 shi4 nv3 fang1 jia4 zhuang5 shi4 jin4 jiang1 yi1 dai4 te4 you3 de5 xi2 su2\n",
      "009786 ni3 shi4 fou3 you3 xing4 qu4 yu3 ta1 de5 ju4 long2 feng1 zheng1 yi4 qi3 fei1 tian1 ne5\n",
      "008715 cuo1 zhe5 cuo1 zhe5 wo3 de5 shou3 bei4 shang4 jiu4 cuo1 chu1 ni2 lai2 le5\n",
      "009481 sun1 xing1 ken2 qing3 gong1 zhong4 ba3 xin4 ren4 chong2 xin1 jiao1 hui2 dao4 zi4 ji3 de5 shou3 shang4\n",
      "009278 xie4 mou3 he2 yuan2 mou3 jing1 xing3 meng3 de5 zhan4 qi3 lai5 guo4 lai2 qiang1 ping2 zi5\n",
      "008157 ge2 zi5 jian1 dang1 zhong1 zhi1 lan2 zhe5 di1 ai3 de5 qiang2 ban3 mei2 you3 ren2 shi4 zhen1 zheng4 li2 qun2 de5\n",
      "009642 jin1 zao3 fa1 xian4 zi4 ji3 bei4 la1 hei1 le5\n",
      "008189 zhe4 dui4 yu2 bao3 hu4 quan2 li4 jie2 yue1 she4 hui4 cheng2 ben3 deng3 dou1 shi4 you3 hao3 chu4 de5\n",
      "009178 you2 yu2 wu2 fa3 jin4 ru4 zhi3 hui1 bu4 ta1 men5 shen4 zhi4 he2 zha4 lan2 dui4 mian4 de5 bao3 an1 ding2 qi3 le5 niu2\n",
      "008333 shi4 hen3 hao3 chi1 de5 bing1 qi2 lin2 a1\n",
      "009079 ta1 shen1 cai2 ai2 xiao3 quan2 gu3 tu1 chu1 liu2 zhe5 xiao3 hu2 zi3 shuo1 hua4 yi4 kou3 nong2 zhong4 de5 fu2 jian4 kou3 yin1\n",
      "009078 wo3 de5 sun1 nv3 shuo1 ta1 xian4 zai4 bu4 yuan4 yi4 qu4 shang4 xue2\n",
      "009396 chen2 shui2 bian3 yi3 san1 gui4 jiu3 kou4 de5 fang1 shi4 jin4 ru4 ling2 tang2\n",
      "009613 bu2 guo4 tu3 jiao1 zuo1 fang1 bing4 wei4 cong2 ci3 zai4 shan1 dong1 jue2 ji4\n",
      "009287 jian4 jian4 de5 li3 qiang2 de5 ping2 jia4 bian4 cheng2 le5 bu4 kai1 qiao4 wo1 nang1 fei4\n",
      "008767 xiao3 gu4 yu3 fang1 shuo4 shi4 shi4 gao1 zhong1 tong2 xue2 gao1 zhong1 bi4 ye4 hou4 wei4 ceng2 lian2 xi4\n",
      "008364 jiu4 deng3 yu2 he2 zu1 lin4 cha4 bu4 duo1\n",
      "009792 suo2 yi3 gu3 ge1 zhe4 ci4 ren2 shi4 bian4 dong4 shou4 dao4 wai4 jie4 pu3 bian4 guan1 zhu4\n",
      "009693 zhe4 xie1 wai4 biao3 guang1 xian1 de5 ren2 zuo4 chu1 le5 wo4 chuo4 ang1 zang1 de5 chou3 shi4 ji4 zhu5 ta1 men5 de5 ming2 zi5\n",
      "008800 yin1 wei4 di4 xia4 zao2 dong4 zhen4 dong4 shui3 lou4 mei2 le5\n",
      "008897 bi3 ru2 jiu4 you3 wang2 you3 na2 ta1 yi1 kai1 kou3 wo3 jiu4 geng3 ye4 le5 de5 kou3 tou2 chan2 kai1 shuan4\n",
      "008346 fen3 shua1 yi3 qian2 hai2 bi3 na4 li4 hai5\n",
      "009472 tu2 zhong1 you3 yi4 chu3 ming2 xian3 cuo4 wu4 ji2 mei2 you3 ba3 tai2 wan1 hua2 wei2 zhong1 guo2 de5 ling2 tu3\n",
      "009994 jie1 xia4 lai2 hong2 niang2 yao1 qiu2 ji4 zhe3 jiao1 fei4 ji4 zhe3 biao3 shi4 bu4 zhi1 biao2 jie3 shen1 fen4 zheng4 hao4 ma3\n",
      "008209 piao2 xi3 qi3 ye4 jiu4 xiang4 yi4 tou2 ben4 zhong4 de5 shou4 lei4 xiang3 yao4 zhuan3 shen1 kun4 nan2 chong2 chong2\n",
      "008657 si3 huo2 bu4 zou3 de2 rang4 ni3 nuo2 kai1 xie1\n",
      "009608 min2 jing3 you4 sheng1 yi1 ji4 qie1 duan4 zhe4 ming2 lao3 shi1 jia1 de5 dian4 yuan2\n",
      "009095 zhan2 lan3 jiang1 dui4 quan2 ti3 guan1 zhong4 shi2 xing2 mian3 fei4 ru4 chang2 ti2 gong1 yi4 wu4 jiang2 jie3\n",
      "008880 hou2 pei4 cen2 ye3 gen1 zhe5 hong2 le5 yan3 kuang4\n",
      "009556 guo4 qu4 ji1 shi2 nian2 yan2 hai3 zhi1 suo2 yi3 fa1 zhan3 xun4 su4 jiu4 shi4 yin1 wei4 jin4 xiang5 wu4 liu2 bian4 li4\n",
      "009316 shi2 er4 ri4 ou1 yuan2 dui4 mei3 yuan2 de5 bi3 jia4 shi4 yi4 bi3 yi4 dian3 san1 wu3 jiu3 san1\n",
      "008098 wu1 ding3 de5 diao4 deng1 ye3 zai4 bu4 ting2 de5 huang3\n",
      "009425 ci3 tie4 li4 ji2 zai4 wang3 shang4 yin2 qi3 re4 chao3\n",
      "008087 wei2 bu4 ying2 xiang3 zheng4 zai4 yi1 xian4 jiu4 ren2 de5 yin2 ga3 ji4 zhe3 gua4 duan4 le5 dian4 hua4\n",
      "008397 yang2 hong2 wei4 hai2 you3 yi2 ge4 xi2 guan4 shi4 jing1 chang2 zong4 qing2 yin2 jiu3 he1 de2 ming3 ding3 da4 zui4\n",
      "009933 zai4 shuo1 guan1 yu2 li4 yi4 shang4 de5 shi4 an3 lia3 dou1 bu4 hao3 kai1 kou3\n",
      "009264 mu3 he2 ma3 zai4 shui3 zhong1 lie3 zhe5 da4 zui3 hao3 xiang4 zai4 xiao3 you2 ke4 men2 pao2 xiao4\n",
      "008968 you3 yi4 xie1 bu4 neng2 wan2 quan2 gui1 na4 wei2 gan1 rao3 zu3 ai4 you3 yi4 xie1 shi4 ren4 shi2 bu4 yi2 zhi4\n",
      "008752 dang1 shi2 ma1 ma5 ba3 wo3 jin2 jin3 lou3 zai4 huai2 li3\n",
      "008726 geng3 xiao3 hua2 xiang4 gong1 yu3 hui4 bao4\n",
      "008431 zheng4 hang2 shuo1 yi3 pu3 tong1 gong1 min2 shen1 fen4 qi3 su4 jiu4 shi4 wei2 pie1 qing1 lan4 yong4 gong1 quan2 li4 zhi1 xian2\n",
      "009325 ma3 yun2 you3 yi4 ling2 er4 nian2 de5 ji4 hua4 wo3 you3 san1 ling2 nian2 de5 ji4 hua4\n",
      "009874 wo3 shuo1 yan1 bu2 xia4 zhe4 kou3 qi4\n",
      "008262 rao2 fu4 gui4 shuo1 ci3 hou4 yuan2 rao2 ye3 bei4 zhao3 qu4 zuo4 le5 ji4 lu4\n",
      "008150 ta1 shen4 zhi4 you2 dian3 chuan3 qi4 kun4 nan2 shuo1 ju4 lian2 guan4 de5 hua4 dou1 xian3 de5 yi4 chang2 jian1 nan2\n",
      "008327 fu1 qi1 lia3 yu2 shi4 zheng1 chao3 qi3 lai5\n",
      "009044 you3 ren2 fa1 chu1 zhe4 yang4 de5 yi2 wen4 fan4 du2 zhi4 zao4 jia3 yao4 mei2 you3 ren2 guan3 ma2\n",
      "008949 wo3 shi4 meng2 meng2 da1 ni3 shi4 dai1 dai1 da1\n",
      "009241 da4 ren2 men5 bu4 dong3 wo3 men5 de5 shi4 jie4\n",
      "009947 zuo2 wan3 hua2 xi1 du1 shi4 bao4 ji4 zhe3 dian4 hua4 cai2 fang3 le5 yin3 qi2\n",
      "008202 ta1 kan4 zhe5 luo2 tian1 cheng2 he2 ta1 xiao3 mei4 jiu4 yan3 hong2\n",
      "008745 xu2 xiao3 xia2 ma3 shang4 jiao4 ren2 zhao3 che1 ba3 lao3 ren2 song4 dao4 le5 xiang1 zhen4 wei4 sheng1 yuan4\n",
      "009737 wo3 tian1 tian1 chao3 cai4 zuo4 fan4 gei3 ta1 wei4 de5 bao2 bao3 de5\n",
      "009047 bi1 ze4 de5 hang4 dao4 liang3 pang2 lin2 li4 zhe5 xiao2 shou3 gong1 zuo4 fang1 de5 zhao1 pai5\n",
      "008901 cheng2 hui4 lin2 shi4 chao2 xian3 dang1 shi2 zui4 xing4 gan3 de5 dian4 ying3 ming2 xing1\n",
      "009562 jin1 se4 de5 kua1 zhang1 mao3 ding1 shou3 zhuo2 he2 shan2 shan3 liang4 de5 jin1 se4 bao1 bao1 hu1 ying4 de2 gang1 gang5 hao3\n",
      "009154 dao4 hun2 chun1 shou3 xian1 gan3 shou4 dao4 de5 shi4 hun2 chun1 ren2 de5 na4 fen4 zi4 hao2 gan3 shi3 ming4 gan3\n",
      "009356 zhi2 dao4 dong1 chuang1 shi4 fa1 cai2 zhi1 dao4 song2 yong3 ta1 mai4 yin2 de5 wang2 yuan4 zhang3 jing4 shi4 zi4 ji3 de5 zhang4 fu1\n",
      "009100 ke1 pu3 huo2 dong4 jie2 shu4 hou4 jing1 xuan3 chu1 ban3 le5 ren2 wen2 zhi1 chuang1 yi4 shu1 shou4 dao4 guang3 da4 du2 zhe3 de5 huan1 ying2\n",
      "008981 xi1 ri4 de5 wang3 tan2 nv3 huang2 zen3 me5 bei4 bie2 ren2 gao4 shang4 le5 fa3 ting2 ne5\n",
      "009050 zheng4 shi4 zhe4 zhu4 ming2 de5 feng1 zheng1 shi2 yan4 cheng2 jiu4 le5 ta1 dian4 xue2 zhi1 fu4 de5 di4 wei4\n",
      "009904 li3 shu4 de2 zai4 li2 kai1 zhi1 qian2 zhi1 shuo1 le5 yi1 ju4 zhu4 tuo2 sha1 fu4 qin1 le5\n",
      "008444 ke3 na4 xie1 ji1 tou2 shi4 mai4 yin2 piao2 chang1 de5 zu3 zhi1 zhe3 shi4 hou4 tai2 lao2 ban3 shi4 zui4 da4 de5 ying2 li4 zhe3\n",
      "008151 tu1 ran2 you3 yi2 ge4 nv3 de5 wu3 zhu4 wo3 de5 yan3 bing4 yong4 ju4 wen1 rou2 de5 sheng1 yin1 shuo1 cai1 cai1 wo3 shi4 shui2\n",
      "009385 zhi3 yao4 xiang4 yi3 qian2 yi1 yang4 ta1 ta1 shi2 shi2 de5 gan1 yi2 ding4 neng2 hui1 fu4 guo4 lai2\n",
      "008103 ji3 tian1 hou4 yuan2 nv3 shi4 zai4 yi1 yuan4 zuo4 le5 fu4 qiang1 jing4 xia4 luan3 chao2 you4 fu4 jian4 qie1 chu2 shu4\n",
      "008866 ha1 sa4 ke4 si1 tan3 zong2 tong3 yi3 xuan1 bu4 gai1 zhen4 jin4 ru4 jin3 ji2 zhuang4 tai4\n",
      "008218 you2 yu2 lie4 che1 chang2 shi2 jian1 ting2 kao4 che1 xiang1 nei4 de5 kong1 qi4 yue4 lai2 yue4 men4\n",
      "008065 bu4 qing1 guo2 bu4 qing1 cheng2 qing1 jia1 dang4 chan3\n",
      "009052 you3 shi2 zhuo1 zi5 shang4 shu1 hong2 le5 yan3 yu2 le4 cheng2 le5 ou4 qi4 ye3 bu4 hao3\n",
      "008637 qiang1 an4 fa1 sheng1 hou4 jing3 fang1 feng1 suo3 le5 man4 ha1 dun4 duo1 tiao2 jie1 dao4\n",
      "008853 dian4 ying3 kua3 le5 wo3 ke2 yi3 bu4 xin1 teng2\n",
      "009016 wei4 le5 duo1 zheng4 ji3 ge4 fa3 lang2 ta1 mei3 zhou1 chao1 fu4 he4 de5 gong1 zuo4\n",
      "008226 xian4 zai4 zuo4 zhe4 ge4 de5 ren2 ye3 yue4 lai2 yue4 shao3 le5 wo3 duo1 zuo4 yi1 jian4 jiu4 duo1 liu2 yi1 jian4 bei5\n",
      "008627 dai4 zhe5 ni3 de5 ai4 wo3 hui4 shui4 de5 hen3 xiang1 tian2\n",
      "008914 dao2 yan3 gen1 heng1 ren4 wei2 nian2 qing1 ren2 de5 pang2 huang2 he2 zheng1 zha2 wang2 wang3 shi4 ta1 men5 cheng2 zhang3 de5 guo4 cheng2\n",
      "008499 liang3 ren2 qi3 chu1 chao3 chao3 nao4 nao4 hou4 lai2 zhui4 ru4 ai4 he2\n",
      "009734 ni3 nian2 fang1 shi2 ba1 yi4 zhi1 hua1 nian2 fang1 er4 ba1 hui4 cheng2 jia1 nian2 fang1 san1 ba1 you3 qian2 hua1 zen3 me5 yang4 zhun3 ma2\n",
      "008439 dui4 yuan2 men2 zhi1 dao4 ta1 men5 shen1 shang4 you3 jia1 huo5\n",
      "008628 ni3 chi1 guo4 tiao4 shui3 huang2 hou4 zuo4 de5 fan4 ma2\n",
      "008161 jia1 qiang2 qing1 nian2 ti3 yu4 fang1 mian4 de5 jiao1 liu2 yu3 he2 zuo4\n",
      "009636 sui2 hou4 you4 yu3 yi1 qian2 lai2 zu3 lan2 de5 cun1 min2 niu2 da3 qi3 lai5\n",
      "009490 ying4 lang3 de5 che1 shen1 yao1 xian4 cong2 che1 qian2 da4 deng1 chu2 qi3 yi4 zhi2 gang1 jin4 you3 li4 de5 yan2 shen1 xiang4 hou4\n",
      "009393 ge2 wei3 sheng4 ba3 che1 zi5 ting2 zai4 li2 ce4 suo3 jin4 de5 di4 fang1\n",
      "009558 jin4 ru4 qi4 che1 shi2 dai4 yi3 lai2 ren2 men5 si4 hu1 yi1 ke4 ye3 li2 bu4 kai1 gun2 gun3 de5 che1 lun2\n",
      "009308 xian4 zai4 yi3 jing1 jian4 ge2 wu3 shi2 jiu3 nian2 ming2 xian3 chao1 qi1 le5\n",
      "008303 wo3 men5 dang3 dai4 ling3 ren2 min2 pu2 xie3 le5 zhong1 hua2 min2 zu2 zi4 qiang2 bu4 xi1 wan2 qiang2 fen4 jin4 de5 zhuang4 li4 shi3 shi1\n",
      "008378 hao3 tian1 qi4 jiu4 shi4 yao4 chu1 lai2 guang4 you3 gou3 de5 liu4 gou3 you3 wa2 de5 bao4 wa2 dou1 mei2 you3 de5 ni3 bao4 wo3 ba1\n",
      "009673 wo3 na2 dao1 jiu4 kan3 le5 zhao4 zuo4 hai3 yi4 dao1\n",
      "008228 ling4 yi1 zao4 xing2 shi4 yi3 ping2 guo3 zuo4 dian3 zhui4 yi4 shen1 xian1 hua1 tu2 an4 chang2 qun2 de5 nv3 xing1 zhuang1 ban4\n",
      "009581 pan1 mou3 zhuan3 shen1 he2 he2 mou3 dui4 da3 bing4 shi4 tu2 qiang1 guo4 he2 mou3 de5 cheng4 tuo2\n",
      "009014 mei3 jun1 wei4 he2 hai2 po4 bu4 ji2 dai4 de5 yao4 dong4 yong4 di4 si4 bu4 bing1 shi1\n",
      "009662 bei4 shao1 cheng2 kong1 jia4 de5 dian4 pu4 zhao1 pai5 yi3 kan4 bu2 jian4 le5\n",
      "008951 zhe4 jian1 zhong1 yu2 you3 le5 fan3 kui4 ta1 zuo3 pu1 fang4 xia4 shu1 shuo1 ling2 qiao2 zhen4 zhong1 xue2\n",
      "008552 liu4 shi4 hei1 e4 shi4 li4 dui4 dang3 zheng4 gan1 bu4 de5 la1 long3 fu3 shi2 ri4 yi4 yan2 zhong4\n",
      "009846 yan2 qiu1 ling2 shuo1 zi4 shi4 yong4 hei1 se4 ji4 hao5 bi3 xie3 de5 bu2 shi4 yong4 dao1 zi5 ke4 de5\n",
      "008089 shou4 shang1 de5 hai2 zi5 pa1 zai4 di4 shang4 yi1 dong4 bu2 dong4 hou4 bei4 yi2 ma1 fa1 xian4\n",
      "008471 tong2 shi2 hua1 qian2 da2 dian3 jing3 fang1 ren2 yuan2 shi4 yin1 wei2 shi4 guan1 zi4 ji3 de5 di4 di4 wang2 dong1 ming2\n",
      "008787 xiao3 qing1 yi3 jing1 cheng2 wei2 li3 qin4 de5 yi2 ge4 zhen1 zheng4 de5 gui1 zhong1 zhi1 ji3\n",
      "009390 xi3 huan5 mei3 yi2 ge4 ai4 sheng1 huo2 de5 ren2 ne5\n",
      "009256 dan4 yuan4 ta1 de5 chan4 hui3 shi4 zhen1 cheng2 de5\n",
      "009354 zhi4 ci3 yu3 zhong1 guo2 ji1 jian4 he2 zuo4 de5 fo2 shan1 ba1 lei3 yu3 xiang4 mu4 shou3 chuang4 zhi4 ye4 wan2 quan2 tui4 chu1\n",
      "008252 huai2 le5 yun4 de5 qi1 zi3 wen4 zhang4 fu1 ni3 jue2 de5 wo3 men5 de5 hai2 zi5 xiang4 shui2 geng1 hao3\n",
      "009550 shuo1 bu2 ding4 ta1 hui4 bi3 yue1 han4 hai2 yao4 zao3 de5 dong1 shan1 zai4 qi3 ne5\n",
      "009015 er2 yi2 min2 yu3 guan1 qia3 ju2 yi3 zhan3 kai1 diao4 cha2 zhang3 wo4 liang3 ren2 de5 zui4 zheng4\n",
      "008538 zui4 hou4 mai3 yi1 fu2 yao4 dong3 de5 kan4 chi3 cun4 mian4 liao4 he2 cai2 zhi4\n",
      "009011 zuo2 tian1 ta1 xiang4 cheng2 du1 shang1 bao4 ji4 zhe3 wei3 wei3 dao4 lai2\n",
      "008555 shi4 pin2 jie2 tu2 dang1 shi4 yi1 sheng1 li3 he2 chun2 de5 jian1 bang3 bei4 tie3 gun4 chuo1 shang1\n",
      "008990 qian2 rong2 tu1 ran2 pao3 dao4 ta1 mian4 qian2 shuo1 gao4 su4 ni3 yi2 ge4 xiao1 xi5 wo3 yao4 qu4 zhui1 yao2 shu1 qin2\n",
      "008876 sui2 xing2 zhe3 wu2 bu4 lei4 shui3 pang1 tuo2\n",
      "008677 ye2 xu3 wo3 men5 dou1 gai1 zao2 dian3 hui2 dao4 jia1 xiang1 na4 li3 you3 wo3 men5 de5 gen1\n",
      "009447 sen1 lin2 gong1 an1 gan3 dao4 hou4 jiang1 niao2 wang3 chai1 chu2\n",
      "009813 lao3 ba4 fei1 shen1 yi4 jiao3 shuo1 ni3 ge1 zai4 tan2 zheng4 shi4 ni3 gan4 ma5\n",
      "008928 zhuan3 tou2 yi1 kan4 yi1 lao3 nai3 nai5 chong1 wo3 xiao4 xi1 xi1 de5 shuo1 xiao3 huo3 zi3 zhua1 zhe5 ni3 dian3 che1 huang3\n",
      "008030 bu4 sui4 zhong1 jia1 za2 zhe5 su4 liao4 dai4 fei4 zhi3 pian4 deng3 bu2 dan4 ang1 zang1 hai2 san4 fa4 ci4 bi2 yi4 wei4\n",
      "009486 shang4 che1 de5 shi2 hou5 gua4 yi1 dang4 qi3 bu4 kao3 guan1 tu1 ran2 lai2 le5 yi1 ju4 jia1 you2\n",
      "008941 dang1 shi2 na4 ge4 nv3 sheng1 chuan1 zhe5 niu2 zai3 ku4 shu4 zhe5 pi2 dai4 jiu4 guai1 guai1 ba3 ta1 jie3 kai1 le5\n",
      "009142 shuo1 ying1 yu3 hao3 nan2 o2 wo3 zheng4 zai4 xue2 xi2 zhong1\n",
      "008284 zhen2 suo3 yi4 fang1 ze2 ren4 wei2 mei2 you3 ze2 ren4\n",
      "009612 chu3 fa2 kan4 qing2 mian4 da2 dian3 you3 shen2 gong1\n",
      "009544 yi4 zheng4 fa1 zuo4 shi2 you3 de5 hai2 zi5 zi4 shu4 tou2 yun1 huo4 chu1 xian4 chou1 chu4\n",
      "008110 ni3 kan4 kan4 ren2 jia1 dui4 lao3 po2 duo1 wen1 rou2 ren2 jia1 wen3 de5 duo1 you3 ji4 qiao3\n",
      "008666 chu2 le5 qing1 jiao1 yi4 xie1 ye4 cai4 ru2 shang4 hai3 qing1 huang2 gua1 deng3 jia4 ge2 ye3 jiao4 gao1\n",
      "009259 gai1 che1 qian2 hou4 che1 pai2 yi3 bei4 zhai1 diao4 jiao1 jing3 zheng4 jian3 cha2 che1 liang4 qing2 kuang4\n",
      "009422 dang1 shi2 yi3 shi4 shi4 ren2 da4 dai4 biao3 de5 xiao1 you4 mei3 tie1 chu1 jing4 xuan3 hai3 bao4 yi3 she4 qu1 ju1 min2 shen1 fen4 can1 xuan3\n",
      "009924 zhe4 ju4 hua4 xiang4 cong2 tian1 er2 jiang4 xia4 de2 si4 zhou1 yi1 pian4 ji4 jing4\n",
      "009327 ta1 you4 zhua1 zhu4 shou4 piao4 yuan2 de5 bao1 bao1 dan4 shou4 piao4 yuan2 bai1 kai1 ta1 de5 shou2 zhi3 pin1 ming4 pao3 xia4 che1\n",
      "008567 ba1 yue4 de5 ao4 yun4 zhan4 chang3 bi4 ding4 hui4 yin1 duo1 chang2 qiang2 qiang2 dui4 hua4 de5 shang4 yan3 er2 geng1 jia1 jing1 cai3 ji1 lie4\n",
      "008153 yao4 bu2 duan4 hang1 shi2 nong2 ye4 ji1 chu3\n",
      "008573 zui4 zhong1 xiao3 li4 yin1 bu4 kan1 ren3 shou4 chuo4 xue2 li2 jia1 chu1 zou3\n",
      "009374 xiao3 pei2 ni3 du4 guo4 zhe4 man4 chang2 de5 hei1 ye4\n",
      "008516 yi1 lang3 yu3 xi1 fang1 guo2 jia1 de5 guan1 xi4 jin4 yi2 bu4 e4 hua4\n",
      "008644 wo3 he2 ni3 die1 shang1 liang2 gei3 ni3 qing3 yi2 ge4 jia1 jiao4 hao2 hao3 gei3 ni3 bu3 ke4\n",
      "008997 ru2 guo3 shuai4 shi4 yi4 zhong3 zui4 na4 jin1 tian1 zhu3 ren2 ni3 yi3 jing1 zui4 e4 tao1 tian1 le5\n",
      "008261 kan4 dao4 sun1 nv3 de2 jiu4 nv3 tong2 de5 nai3 nai5 po4 ti2 wei2 xiao4\n",
      "008271 jin4 ri4 xu3 jin4 heng1 zai4 ai4 chao2 jia1 jian4 ying1 er2 fang2 ri4 nei4 jiang1 hui4 da4 si4 zhuang1 xiu1\n",
      "008177 yin1 wei4 you3 hen3 duo1 yun4 song4 yan2 de5 lun2 chuan2 fan1 le5 suo2 yi3 hai2 shui3 cai2 hui4 zhe4 me5 xian2 zhe4 shi4 wo3 luan4 shuo1 de5\n",
      "009459 yang2 guo2 sheng4 bei4 shao1 de2 xiang4 ge4 hei1 ren2 yi1 fu2 gen1 pi2 fu1 nian2 zai4 yi4 qi3\n",
      "008948 yi4 shen3 hou4 chen2 xing1 luan2 ti2 qi3 shang4 su4\n",
      "009708 wo3 ling2 dao3 le5 ta1 wu3 shi2 qi1 nian2 ye3 bu4 ke3 bi4 mian3 fan4 le5 yi4 xie1 cuo4\n",
      "009829 shen2 me5 shi2 hou5 gei3 wo3 huan4 ge4 cai3 ping2 shou3 ji1\n",
      "009339 ni3 de5 di4 yi1 xuan3 ze2 shi4 shui2\n",
      "009767 shang4 le5 li3 yi4 ba1 ni3 jiu4 dong3 le5\n",
      "008819 chen2 zhi4 zhong1 shuo1 qiu1 yi4 yi1 lu4 shan2 duo3 bu4 fu4 ze2 de5 biao3 xian4 zhi3 neng2 duo3 zai4 she4 ying3 peng2 nei4 shuo1\n",
      "009808 ta1 shuo1 zhe4 zhong3 pan1 yan2 shi4 zui4 chun2 jing4 de5 yun4 dong4\n",
      "009832 yu2 shi4 lei2 jun1 cong2 zi4 ji3 de5 ren2 sheng1 he2 li2 xiang3 jiang3 qi3\n",
      "009415 zhe4 shi4 yi4 tian1 nei4 di4 er4 qi3 er2 tong2 bai3 nong4 qiang1 zhi1 zhi4 ren2 sang4 sheng1 shi4 jian4\n",
      "008801 zhou1 ga3 jian4 gan3 jue2 shi4 tai4 yan2 zhong4 sui4 li4 ji2 xiang4 ku2 shui3 zhen4 pai4 chu1 suo3 qiu2 zhu4\n",
      "008668 an4 zhong1 yi4 ming2 nan2 zi3 qin4 qian2 hou4 wang4 ji4 ti2 qu3 zhe2 fan3 hou4 fa1 xian4 jin1 qian2 yi3 bu2 yi4 er2 fei1\n",
      "009742 zhe4 me5 ji2 qie4 de5 hu1 huan4 wo3 shi4 bu2 shi4 xiang3 wo3 le5\n",
      "009876 ying1 gai1 shi4 bi3 mo4 zhi3 yan4 ba1\n",
      "009883 shi2 ren4 shen1 zhen4 shi4 si1 fa3 ju2 fu4 ju2 zhang3 de5 xu2 jian4 shou4 ming4 she4 ji4 yi1 tao4 zheng4 gai3 fang1 an4\n",
      "009615 wo3 de5 shu4 xue2 lao3 shi1 hai2 mei2 jiao4 guo4 wo3\n",
      "009471 dao3 shang4 you3 han2 fang1 jian4 zao4 de5 deng1 ta3 hai3 an4 shao4 suo3 he2 ma3 tou2 deng3 she4 shi1\n",
      "008697 lan2 mou3 de2 zhi1 hou4 sha2 yan3 le5\n",
      "008841 wo3 gang1 gang5 guo4 wan2 shi2 ba1 sui4 sheng1 ri4\n",
      "009597 da4 dao4 li3 mian4 bu4 yun2 xu3 xiao3 de5 pu4 wei4\n",
      "009971 da2 sao3 wan2 ni3 hui4 hen3 you3 cheng2 jiu4 gan3 de5 shi4 yi1 shi4 ni3 jiu4 xin4 le5\n",
      "008647 ni3 liang3 sui4 le5 ma1 ma5 que4 zhi1 wei2 ni3 guo4 le5 yi1 ci4 sheng1 ri4\n",
      "009491 er4 er4 shi2 yi1 yi4 shi2 wu3 hao4 mu4 qian2 shi4 mou3 jiao1 liu2 xie2 hui4 ban4 gong1 di4 dian3\n",
      "008930 dang1 ran2 hai2 shi4 wo3 men5 tong2 ren2 tang2 de5 dong1 xi1 zhi2 de5 xin4 lai4 la1\n",
      "008877 fan3 dui4 zhe3 ren4 wei2 ti2 qu3 pei1 tai1 gan4 xi4 bao1 xiang1 dang1 yu2 e4 sha1 sheng1 ming4\n",
      "008579 yong4 dian4 shang1 dian1 fu4 chuan2 tong3 hang2 ye4 zhan4 ling3 chui2 zhi2 de5 fu2 zhuang1 shi4 chang2\n",
      "008063 lai2 gao3 yi1 lv4 bu4 tui4 qing3 zi4 liu2 di2 gao3\n",
      "009790 zhang1 nv3 shi4 ye3 shun4 shou3 na2 qi3 fang4 zai4 zhen3 bian1 de5 mu4 gun4 zhao1 na4 ming2 nan2 zi3 tou2 shang4 lun1 qu4\n",
      "008222 ta1 shuo1 fei1 ji1 zai4 dian1 bo3 di4 yi1 ci4 shi1 zhong4 hou4 guang3 bo1 cai2 shuo1 fei1 ji1 yu4 dao4 qiang2 qi4 liu2\n",
      "008255 wo3 gao3 bu2 guo4 ge1 bo2 ning2 bu2 guo4 da4 tui3 wo3 ren4 ming4 le5\n",
      "008826 bai4 tuo1 mei2 you3 zhi3 jia5 ni3 hui4 bu2 hui4 yong4 nao3 zi3\n",
      "008363 jia1 li3 you3 quan2 zi4 dong4 xi3 yi1 ji1 ya1\n",
      "008992 wo3 xiang1 xin4 xiao3 hai2 zi5 ye3 bu4 xi1 wang4 ma1 ma5 mei3 tian1 dou1 zai4 jia1 dui4 ta1 luo1 suo5 ba1\n",
      "008663 yi4 zhi1 mao1 pao3 dao4 zhe4 ke1 shu4 de5 shu4 gan4 shang4 zhao3 dao4 yi2 ge4 shu4 dong4 zai4 na4 li3 sheng1 xia4 xiao3 mao1\n",
      "008586 ci3 qian2 sha1 yi4 ceng2 biao3 shi4 jie2 hun1 hou4 ken3 ding4 hui4 ma3 shang4 yao4 bao2 bao3\n",
      "008415 dan4 bian4 fang1 zhi3 chu1 zhe4 ba3 dao1 tai4 da4 bu4 fu2 he2 yu4 hai4 zhe3 hou2 long2 shang4 zhi4 ming4 shang1 de5 xing2 zhuang4\n",
      "009524 dan4 shi4 wei4 lai2 ji3 nian2 nei4 da4 xue2 sheng1 jiu4 ye4 xing2 shi4 yi1 ran2 yan2 jun4\n",
      "009959 zhao4 ling2 fei1 de5 hua4 fan3 ying4 le5 shen3 yang2 sai4 qu1 suo2 you3 ao4 yun4 zhi4 yuan4 zhe3 de5 gong4 tong2 xin1 sheng1\n",
      "009268 wo3 men5 shi4 xing1 xing1 you4 er2 yuan2 de5 xiao3 peng2 you3\n",
      "008514 yi4 shou3 ba3 wo3 dai4 da4 de5 nai3 nai3 zuo2 tian1 qu4 shi4 le5\n",
      "009980 yi1 jin4 ka1 fei1 dian4 ta1 jiu4 yu4 jian4 yi1 zhang1 shu2 xi1 de5 lian3\n",
      "008481 tong2 che1 de5 xu3 gen4 fu4 zai4 shi4 gu4 zhong1 you4 tui3 gu3 zhe2 xiong1 kou3 shou4 shang1\n",
      "008440 zhe4 ge4 yan2 se4 jiao4 lao3 lv4 xiang1 dang1 yu2 cui4 lv4\n",
      "009319 bi4 ta3 ta2 wa3 ju4 xi1 you3 te4 shu1 de5 ti3 se4 biao1 ji4 he2 xing4 qi4 guan1\n",
      "008828 ying1 cai3 er2 ting1 le5 ji4 zhe3 de5 zhuan3 shu4 hou4 po1 wei2 jing1 e4\n",
      "008540 cao1 zong4 jian4 pan2 de5 shou3 yong4 lai2 ban1 yun4 sha1 dai4 shi4 fou3 jue2 de5 kui1\n",
      "009768 ling2 wo3 zhi4 jin1 nan2 wang4 de5 hai2 you3 zhou1 zong3 li3 na4 shuang2 lang3 de5 xiao4 sheng1\n",
      "008288 na2 qi3 juan3 zi5 jiu4 gan3 dao4 le5 wen1 nuan3\n",
      "009204 yao4 hui2 da2 zhe4 ge4 wen4 ti2 shou3 xian1 bi4 xu1 nong4 qing1 chu3 ping2 zhun3 ji1 jin1 ru4 shi4 gan1 yu4 de5 mu4 di4\n",
      "008316 jia1 kai3 cheng2 ji2 tuan2 gu3 fen4 you3 xian4 gong1 si1 qu4 nian2 guo4 de2 hen3 han2 chen3\n",
      "009331 yi2 ge4 yuan3 zai4 zu3 guo2 xi1 bei2 jiao3 de5 ye4 yu2 zuo4 zhe3 de5 zuo4 pin3 he2 yi3 de2 dao4 ni3 men2 de5 qing1 lai4\n",
      "009303 qian2 tian1 na4 na4 yin1 tiao4 lou2 hou4 shang1 shi4 guo4 zhong4 yi3 bu2 zhi4 shen1 wang2\n",
      "009192 dan4 wo3 men5 zong3 bu4 neng2 lv3 you2 de5 shi2 hou5 ye3 chuai3 ge4 hu4 kou3 bu4 ba1 tai4 ma2 fan5 le5\n",
      "008097 ju4 cheng1 liang3 ren2 dang1 shi2 dou1 you3 cu1 kou3\n",
      "008457 chen1 hang2 dao3 you3 yi1 pian4 zhu4 ming2 de5 jiang1 jun1 lin2\n",
      "008127 nan2 zi3 bu4 ting1 shuang1 fang1 bao4 fa1 kou3 jue2 bing4 tui1 tui1 sang1 sang1\n",
      "009738 dui4 you3 men2 feng1 feng1 guang1 guang1 de5 lun2 fan1 chu1 qu4 bi3 sai4\n",
      "008264 ta1 tong2 shi2 cheng1 dan4 nong2 min2 wei4 kou3 tai4 da4 bu4 hao3 jie3 jue2\n",
      "008049 dan4 yan3 qian2 de5 za1 dao4 shang4 gong1 ren2 men2 hai2 zai4 mang2 zhe5 an1 zhuang1 dao4 lu4 fang1 xiang4 biao1\n",
      "009899 mei3 yi2 ge4 huo3 jian4 guan1 dou1 shun4 li4 de5 sheng1 shang4 qu4 le5 ran2 ran3 ruo4 xing1 guang1\n",
      "009366 ju2 huang2 de5 deng1 guang1 ying4 zhe5 jie1 jing3 yu3 xiang2 xin1 li5 fu2 qi3 yi4 zhong3 shen1 zai4 yi4 xiang1 de5 leng3 qing1\n",
      "008236 yu3 shi4 you3 liao2 tian1 tao3 lun4 lin2 xi1 shi4 fou3 zhen1 de5 ai4 mu4 huang2 yao4 ming2\n",
      "009802 wan4 yi1 shui4 zhao2 shi2 wu1 zi5 jiu4 bei4 fang4 huo3 shao1 le5 ne5\n",
      "008932 yin4 du4 yang2 shang4 zheng4 zai4 chu1 xian4 zhong1 guo2 jiang1 bei4 kun2 zhu4 shou3 jiao3 de5 ge2 ju2\n",
      "008608 zhang1 zhi4 guo2 de5 fu4 qin1 ye3 bu4 ting2 mo3 yan2 jiao3 shi2 zai4 ren3 bu5 zhu4 shi2 zhi2 hao3 yi4 sheng1 chang2 tan4\n",
      "009780 zhu4 zai4 xiang1 xia5 de5 shang1 bu4 qi3 ya1\n",
      "008646 lai2 lai2 lai2 wo3 shi4 yi2 ge4 bo1 luo2 luo2 luo2 luo2 luo2 luo2 luo2\n",
      "009711 qu4 nian2 he2 lan2 wu3 qi4 de5 zui4 da4 mai3 jia1 shi4 dan1 mai4 mei3 guo2 he2 an1 man4\n",
      "009672 bing4 qie3 pao1 shou4 pu3 bian4 zai4 er4 san1 tao4\n",
      "009806 guan1 zhong4 zong3 hui4 you3 xin1 chong3 bu4 fu4 nian4 jiu4 ren2\n",
      "008649 er4 ling2 yi1 er4 nian2 shuang1 bian1 mao4 yi4 e2 wei2 si4 dian3 si4 jiu2 wu3 ba1 yi4 mei3 yuan2\n",
      "008308 yu2 xiong2 pai1 pai1 ta1 de5 jian1 shuo1 xiang3 kai1 yi4 dian3 guo4 liang3 tian1 jiu4 mei2 shi4 le5 hong2 yan2 huo4 shui3\n",
      "009717 peng2 zhong4 xin1 dai4 de5 ji3 ge4 ren2 you2 yu2 gua3 bu4 di2 zhong4 ze2 si4 chu4 tao2 ming4\n",
      "008179 fu2 shou3 huo4 hu4 lan2 gan1 ying1 wu2 ji1 hui1 bian4 xing2 po4 sun3 ban1 hen2 tuo1 luo4\n",
      "008409 ta1 jian4 yi4 can1 guan3 bi4 xu1 zai4 mei3 zhang1 can1 zhuo1 xia4 fang4 yi2 ge4 zhi2 lou3 rang4 shi4 min2 reng1 zhi3 jin1\n",
      "009634 qi2 shi2 you4 you3 shui2 hui4 wu2 yuan2 wu2 gu4 de5 zhao3 ta1 de5 ma2 fan5 ne5\n",
      "009217 er2 qiu1 yi2 ke3 chen2 qi3 deng3 lao3 zhu3 li4 geng4 shi4 xian3 de5 cuo1 tuo2 le5 xu3 duo1\n",
      "008606 chen2 yu3 hui1 de5 fu4 mu3 dang4 tian1 zai4 niu3 yue1 man4 ha1 dun4 chu1 xi2 xin1 wen2 fa1 bu4 hui4\n",
      "008015 guo1 bin1 yi1 kan4 ye4 bu4 mian2 de5 zhao1 pai5 jue2 de5 hao3 xiang4 jian4 dao4 guo4 xiang2 qi3 shi2 ba3 zi4 ji3 xia4 yi1 tiao4\n",
      "008117 dui4 pu3 tong1 shi4 min2 lai2 shuo1 san3 zhuang1 yue4 bing3 ji4 chu1 guo2 ye3 hen3 nan2\n",
      "009203 fa1 song4 wan2 bi4 hou4 zi3 xi4 du2 le5 yi1 bian4 gan3 jue2 ming2 nian2 wo3 ke3 neng2 you4 yao4 yi2 ge4 ren2 guo4 qing2 ren2 jie2 le5\n",
      "008230 da4 jia1 ba3 xin1 yuan4 xie3 hao3 dian3 shang4 deng1 deng1 fei1 le5 da4 gai4 liang3 ceng2 lou2 gao1 de5 shi2 hou5\n",
      "008675 guang3 xi1 ben3 di4 yi2 you3 san1 si4 jia1 qi3 ye4 ju4 bei4 pi1 liang4 sheng1 chan3 mang3 cao3 suan1 de5 neng2 li4\n",
      "008536 gei3 ren2 gan3 jue2 zheng4 xiang4 shi4 shi2 cao3 dong4 wu4 nian1 de2 mei2 pi2 qi5\n",
      "008865 yin1 ci3 zhe4 zhong3 ren2 lei4 pei1 tai1 gan4 xi4 bao1 hai2 bu4 ju4 bei4 shi2 yong4 xing4\n",
      "008339 ji4 shi2 hui4 tiao1 xuan3 yu2 di4 ye3 da4\n",
      "009657 xian4 zai4 hai2 gan3 jue2 tou2 yun1 shou3 bi4 teng2\n",
      "008299 bu2 yao4 ba3 yuan4 qi4 sa1 dao4 lv4 shi1 tou2 shang4\n",
      "008478 ru2 jin1 ma3 yue4 ling2 cheng1 sheng1 chi1 huo2 ni2 qiu1 shi4 zhi4 liao2 jian4 dong4 ren2 zheng4 de5 fa2 bao3\n",
      "008084 wei2 le5 ti2 shen2 hai2 pei4 bei4 bo4 he5 tang2 guang3 zhou1 jun1 qu1 zhuan1 men2 pei4 le5 da4 suan4 tou2\n",
      "008548 shou4 ci3 zhong4 ji1 lin2 hui1 huang4 huang3 you1 you1 de5 dao3 zai4 le5 di4 shang4\n",
      "008515 zhang1 wei4 jian4 xiao4 yan2 zi4 ji3 hen3 xi3 huan5 zhe4 ge4 jue2 se4\n",
      "008186 bing4 quan4 ta1 hai2 shi4 an1 xin1 du2 shu1 bu4 yao4 wei2 xiao3 shuo1 de5 shi4 qing5 guo4 yu2 fen1 xin1\n",
      "009640 ta1 tou4 lu4 ju3 bao4 ren2 wei4 xiang4 ta1 suo2 qu3 ren4 he2 bao4 chou5\n",
      "009727 jiu1 jing4 hao3 lai2 wu1 he2 di2 si1 ni2 de5 mei4 li4 he2 zai4\n",
      "009830 wo3 de5 pu3 tong1 hua4 hai2 shi4 ting3 biao1 zhun3 de5 ba1\n",
      "008446 bu2 guo4 mian3 shi4 gong1 du2 yan2 jiu1 sheng1 de5 ta1 zao3 yi3 jing1 bu4 jin2 jin3 man3 zu2 yu2 kan4 ao4 yun4 le5\n",
      "008341 wang2 fei1 na4 shi4 lao3 niang2 de5 ming4 na4\n",
      "008872 dan4 shi4 ye3 bu2 hui4 tian1 tian1 you3 huo2 de5\n",
      "009530 ru2 ci3 bian4 neng2 rao4 kai1 zheng4 fu3 zhu3 guan3 bu4 men2 rong3 chang2 de5 shen3 pi1\n",
      "008688 en1 jia1 you2 ba1 yi4 qi3\n",
      "009153 zheng4 hao3 qu1 wei3 li3 de5 yi2 ge4 nei4 bu4 kan1 wu4 yao4 ren2 lin2 fu4 rong2 sheng1 bian1 ji2 bian4 ju3 jia1 ban1 qian1\n",
      "009799 yu2 xiong2 shi4 ge4 shao3 yan2 de5 ren2 yi4 xin1 yi2 yi4 zai4 chi1 mian4\n",
      "008857 ni3 na2 le5 wo3 de5 nao3 dai5 wo3 jiu4 pa4\n",
      "009931 tu2 men2 jiang1 xia4 you2 di4 qu1 kai1 fa1 kai1 fang4 de5 jin4 zhan3 ru2 he2\n",
      "008725 jiao4 ni3 jie3 wo3 gan4 ma2\n",
      "009733 chuan1 shang4 xi4 zhuang1 shi4 yan3 yuan2 tuo1 xia4 xi4 zhuang1 shi4 nong2 min2\n",
      "009167 zhao4 pian1 zhong1 li3 hong2 ji1 he2 zhang1 gen1 shuo4 liang3 ren2 zhan4 zai4 zhong1 jian1 zuo4 ke3 ai4 lie2 zui3 zhuang4\n",
      "008884 zai4 wai4 ren2 kan4 lai2 ta1 ne4 yu2 yan2 ci2 bu2 hui4 jiang3 hua4 han1 tai4 ke3 ju1\n",
      "008706 ni3 zhe4 shi4 bu4 ai4 wo3 le5\n",
      "008044 zui4 chang2 jian4 de5 cai4 shi4 ga1 li2 shi4 cong2 lin2 guo2 yin4 du4 si1 li3 lan2 ka3 chuan2 ru4 de5\n",
      "009827 geng3 nv3 shi4 gan2 jin3 bao4 le5 jing3\n",
      "008045 gao1 ceng2 jian4 zhu4 de5 shi4 nei4 xiao1 huo3 shuan1 xiang1 nei4 jiang1 she4 zhi4 xiao1 fang2 ruan2 guan3 juan4 pan2\n",
      "009920 bang4 wan3 qi1 ge4 xiao3 ren2 hui2 lai5 le5 bai2 xue3 gong1 zhu3 shuo1 ni3 men5 jiu4 shi4 wo3 ming4 zhong4 de5 qi1 ge4 xiao3 ai3 ren2 ba1\n",
      "008934 ze2 kao1 ying1 long2 hua2 zi4 bai2 yan3 yi4 jing1 li4 he2 yu3 zhang4 fu1 li2 hun1 de5 zhong2 zhong3\n",
      "008702 wo3 bu4 neng2 xi2 zao3 o2\n",
      "009452 wo3 dang1 shi2 leng4 zai4 na4 ban4 tian1 bu4 zhi1 za3 ban4\n",
      "008411 dang1 shui3 wei4 xia4 jiang4 dun3 chuan2 ze2 ke2 yi3 xiang4 jiang1 zhong1 yi2 dong4 jin4 zui4 da4 nu3 li4 bao3 zheng4 qu2 shui3\n",
      "008588 wo3 zai4 gan1 yi4 nian2 duo1 shi2 jian1 zhe4 yi4 nian2 duo1 de5 shi2 jian1 wo3 neng2 bao3 zheng4\n",
      "008551 hua4 fei2 liu2 tong1 zhi4 xu4 hun4 luan4 luan4 tai2 jia4 ge2 de5 wen4 ti2 reng2 ran2 cun2 zai4\n",
      "008474 zhi4 yu2 sang1 li3 ju3 xing2 de5 xi4 jie2 ta1 zhi3 yao4 wen4 xu3 guan1 wu3 yin1 shi4 ta1 quan2 li4 da2 dian3\n",
      "009575 mian4 dui4 yi1 xi4 lie4 de5 da3 ji1 tian2 zheng4 yang2 mei2 you3 qi4 nei3 fan3 er2 geng4 jia1 jian1 qiang2\n",
      "008088 nian2 hui4 de5 zhu3 ti2 wei2 zhong1 guo2 he2 ya4 tai4 shang1 ye4 fang2 di4 chan3 de5 xin1 si1 wei2\n",
      "009631 bu2 liao4 zhe4 yi1 ju4 hua4 re2 nao3 le5 li3 ao2\n",
      "008546 chi1 chi1 jiu4 zhi1 dao4 chi1 zhuan4 duo1 shao3 qian2 gou4 ni3 chi1 de5\n",
      "009351 liu2 jin1 yao4 jiao4 shou4 zai4 wei2 cheng2 cheng2 jin4 xing2 jian3 cha2\n",
      "008313 yi4 ming2 jing3 yuan2 zai4 zhua1 bu3 guo4 cheng2 zhong1 zuo3 ce4 zhou3 guan1 jie2 zhong4 dan4 shou4 shang1\n",
      "009839 tong2 shi2 jiang1 jia1 da4 sa3 shui3 che1 song4 shui3 li4 du4 gu3 li4 ju1 min2 shui2 jing3 qu2 shui3\n",
      "009073 dui4 yu2 shang4 shu4 tou2 zi1 tian1 lai4 si4 de5 seng1 ren2 men5 biao3 shi4 yi4 wu2 suo3 zhi1\n",
      "008038 ta1 shi4 zhi1 wa4 che1 jian1 de5 yi1 wei4 zhu3 ban1 zhang3\n",
      "009433 gong1 cheng2 xian4 chang3 you3 gong1 ren2 zai4 lie4 ri4 xia4 da3 hang1\n",
      "008332 ju4 shuo1 she4 ji4 zhe3 nai3 shi4 zhe4 xiao3 zhen4 ding3 ding3 you3 ming2 de5 da4 jia1\n",
      "009360 sui2 hou4 you2 liang3 ming2 shen1 cai2 lve4 wei2 ai2 xiao3 de5 xiao1 fang2 guan1 bing1 jin4 ru4 jia4 shi3 shi4 jin4 xing2 ying2 jiu4\n",
      "008389 you3 shi2 yi1 tang4 hang2 ban1 jin3 san1 bai3 duo1 ming2 lv3 ke4\n",
      "008476 mu4 qian2 fan4 zui4 xian2 yi2 ren2 ma3 mou2 mou3 zhou1 mou3 la2 mou3 bei4 yi1 fa3 xing2 shi4 ju1 liu2\n",
      "008140 ta1 shuo1 bu5 chu1 hua4 yao2 shu1 qin2 zhui1 ji1 shuo1 lin2 da4 wen2 hao2 ni3 xia4 yi2 ge4 zhun3 bei4 yao4 ma4 shui2\n",
      "008016 bu2 guo4 zhe4 lao2 liang2 kou3 ping2 shi2 hen3 ai4 tao1 er2 duo3 lao3 liang2 you3 kong4 hai2 xi3 huan5 qu4 xiao3 li3 fa4 dian4\n",
      "009496 ci3 shi2 yi4 ming2 jing3 cha2 dan1 shou3 bie2 zai4 shen1 hou4 shou3 zhong1 wo4 you3 yi1 chui2 zi5\n",
      "008025 zhe4 zhong3 kong4 zhi4 yu3 li4 yong4 you3 qi2 te4 ding4 de5 nei4 han2\n",
      "008056 zhe4 xie1 qi2 wen2 yi4 shi4 zi4 ran2 shi4 lin2 da4 ge1 qin1 kou3 gao4 su4 de5 zhen1 jia3 nan2 bian4\n",
      "008957 duo1 ming2 min2 yi4 dai4 biao3 la1 che3 cheng2 yi4 tuan2\n",
      "009202 wang2 chao2 zhu4 chun2 pu3 de2 jin4 hu5 mu4 ne4 qin2 fen4 de2 zu2 bu4 chu1 hu4\n",
      "008929 zhu3 yao4 ti2 cai2 you3 shi4 jia1 xiang4 mi2 le4 xiang4 shi4 jia1 duo1 bao3 xiang4 guan1 yin1 xiang4 shuang1 pu2 sa4 xiang4 deng3\n",
      "009318 zai4 shi4 fa1 de5 yao1 si4 ling2 er4 shi4 men2 kou3 hai2 you3 da4 tan1 de5 xue4 ji4\n",
      "008158 zhu1 zi3 rao2 xiao3 shi2 ceng2 dang1 nv3 tong2 jun1 dan4 xian4 zai4 tai4 mang2 mei2 you3 can1 yu4\n",
      "009219 o2 zhe4 ke3 shi4 ge4 nan2 ao2 de5 ri4 zi5\n",
      "009169 yu3 wu2 lun2 ci4 shuo1 chu1 xiao3 li4 can2 si3 xiao1 xi5 sui2 ji2 xiang4 song1 tao2 xian4 gong1 an1 ju2 bao4 jing3\n",
      "009986 dan4 kao3 sheng1 pu3 bian4 ren4 wei2 shi4 ti2 de5 guai4 duo1 guo4 nan2\n",
      "008297 zhe4 shi4 tai4 yuan2 shi4 fen2 he2 jing3 guan1 dai4 guan1 deng1 qian2 he2 guan1 deng1 hou4 de5 dui4 bi3\n",
      "008396 jin1 tian1 mai4 jia1 gei3 peng2 you5 fan3 xian4 le5 shi2 yuan2 jiao4 shi4 you3 ba3 tu2 pian4 gei3 shan1 le5\n",
      "008754 ran2 hou4 yin3 lai2 zhou1 wei2 de5 ren2 zai4 che1 shang4 ju4 can1\n",
      "009749 ta1 shuo1 sui1 ran2 ta1 de5 gou3 dui4 ren2 hen3 you2 hao3 dan4 mei3 ci4 liu4 gou3 dou1 yong4 sheng2 zi5 shuan1 zhe5\n",
      "008963 dan4 shi4 tou1 gong1 jian3 liao4 de5 guang3 gao4 pai2 gen1 ben3 kang2 bu2 zhu4 tai2 feng1\n",
      "009585 tu2 wei2 shou3 gang1 zhi2 gong1 zuo2 ri4 zai4 liao4 chang2 jin3 zhang1 de5 qiang1 xie4 dong4 mei2\n",
      "008090 lin2 fu4 cai2 liu2 zhi1 shi2 qi2 yi1 bu4 shi2 qi2 er4 ba3 lao2 she3 si4 shi4 tong2 tang2 li3 de5 shu3 cuo4 fang4 le5 guo4 qu4\n",
      "009512 gao1 xin4 zhan3 shi4 gong3 li4 de5 gu3 li4 duan3 xin4\n",
      "009003 zhe4 jiang1 hui4 hen3 da4 cheng2 du4 de5 huan2 jie3 yang3 lao3 jin1 de5 que1 kou3\n",
      "009314 ta1 yi1 ran2 ji4 de5 meng4 lu4 dang1 shi2 gei3 ta1 yi2 ge4 nuan3 nuan3 de5 yong1 bao4\n",
      "009553 liang3 guo2 jing1 mao4 he2 zuo4 de5 bu2 duan4 kuo4 da4 shi3 mei3 zhong1 shuang1 fang1 huo4 yi4\n",
      "008152 ru2 ci3 tie1 di4 qi4 bu2 dan4 si1 hao2 wu2 sun3 ta1 de5 xing2 xiang4 fan3 dao4 ying2 de5 geng1 duo1 yong1 dun3\n",
      "009796 dian4 hua4 na4 tou2 ruo4 ruo4 de5 shuo1 wo3 jiu4 zai4 ni3 hou4 mian4 wo3 jiu4 shi4 na4 ge4 er4 bi1\n",
      "008066 zhi1 hou4 an1 li3 hui4 ju3 xing2 bi4 men2 cuo1 shang1\n",
      "008614 qiang2 ruo4 bu4 yi3 zhen1 zheng4 de5 shi2 li4 lai2 jie4 ding4 er2 shi4 yi3 yong1 you3 de5 zi1 yuan2 duo1 shao3 lai2 jie4 ding4\n",
      "009973 ta3 he2 de5 han2 ye4 qi4 wen1 jiang4 dao4 le5 ling2 xia4 san1 shi2 duo1 she4 shi4 du4\n",
      "009616 jia4 gei3 zhe4 me5 ge4 ren2 wo3 zhe4 bei4 zi3 ye3 suan4 mei2 zhi3 wang4 le5\n",
      "010000 zai4 yu4 zhong1 zhang1 ming2 bao3 hui3 hen4 jiao1 jia1 xie3 le5 yi1 fen4 chan4 hui3 shu1\n",
      "009191 chong1 tu1 zhong1 qi2 zhong1 yi4 fang1 de5 bang1 shou3 wu4 jiang1 yi4 ming2 kan4 re4 nao5 de5 shi4 min2 da3 shang1\n",
      "009182 ni3 zhe4 ge4 yue4 gong1 zi1 dou1 mei2 shang4 jiao1 ni3 shi4 bu2 shi4 yang3 xiao3 san1 le5\n",
      "008985 wo3 gan2 jin3 deng1 lu4 dao4 de5 tao2 bao3 bei1 ju4 a1 shou1 huo4 di4 zhi3 ju1 ran2 mo4 ren4 de5 shi4 ta1\n",
      "008435 da3 dou3 dang1 zhong1 zhu1 mou3 bei4 shi1 shou3 ci4 si3\n",
      "009109 yi4 xie1 yan1 cong1 bei4 xiao1 diao4 le5 geng1 duo1 yan1 cong1 li4 qi3 lai5\n",
      "009888 jie2 zhi4 mu4 qian2 wa1 jue2 gong1 zuo4 yi3 jing1 jie2 shu4 mu4 qian2 ya1 lu4 ji1 zheng4 zai4 hang1 shi2 di4 ji1\n",
      "008544 tong2 shi2 da4 xuan3 de5 hun4 luan4 ye3 jin4 yi2 bu4 zheng4 ming2 le5 hai3 di4 zheng4 zhi4 ti3 xi4 yi3 wan2 quan2 wa2 jie3\n",
      "009774 zhe4 fu2 he2 guang3 da4 fa1 zhan3 zhong1 guo2 jia1 de5 li4 yi4 ye3 you3 li4 yu2 tui1 jin4 qi4 hou4 bian4 hua4 guo2 ji4 he2 zuo4\n",
      "008602 sha1 tan1 teng2 qiu2 rong2 he2 le5 pai2 qiu2 zu2 qiu2 yu3 mao2 qiu2 deng3 yun4 dong4 de5 te4 dian3\n",
      "008023 ru2 ci3 can2 ren3 de5 xing2 wei2 rang4 ren2 cheng1 mu4 jie2 she2\n",
      "008467 dao3 shi4 xiao3 bing1 zhang1 ga1 he2 wang2 xiao3 er4 de5 shi4 ji4 zai4 ke4 ben3 li3 zhan4 you3 yi4 xi2 zhi1 di4\n",
      "008326 yi1 shi4 ta1 jie3 jue2 le5 jing1 chang2 xing4 juan1 zeng4 cun2 zai4 de5 hen3 duo1 wen4 ti2\n",
      "008108 na4 shi3 zhong1 gua4 zai4 lian3 shang4 de5 mo4 ran2 wei1 xiao4 ling4 ren2 mao2 gu3 song3 ran2\n",
      "008859 nv2 you3 wei2 ta1 de5 nan2 you3 zuo4 le5 jian4 mao2 yi1 hen3 piao1 liang4 shui2 jian4 shui2 kua1\n",
      "008191 zhe4 jiu4 shi4 cao2 gui4 lin2 zuo4 bu4 xing3 de5 wen2 xue2 meng4\n",
      "008149 jing3 cha2 yu2 shi4 dai4 bu3 ta1 ye3 qu3 hui2 bei4 qiang1 de5 zang1 kuan3\n",
      "009156 ta1 she3 bu4 de2 hua1 yi4 fen1 qian2 dou1 ba3 qian2 zan3 qi3 lai5 gei3 mu3 qin1 zhi4 bing4\n",
      "008310 shi4 shi2 shang4 tai2 dang1 ju2 shi4 shi2 hou5 gai1 ting1 ting1 min2 zhong4 de5 hu1 sheng1 le5\n",
      "009300 ceng2 jing1 ye3 you3 shao3 liang4 de5 fan1 qie2\n",
      "008927 zhe4 shi4 ji2 mi3 de5 di4 er4 ci4 mo2 tuo1 zhi1 lv3 ci3 qian2 ta1 ceng2 qi2 mo2 tuo1 che1 huan2 you2 guo4 yin4 du4\n",
      "009644 nu2 er3 bi3 ye2 de5 mu3 qin1 shi4 yi1 wei4 jiao4 shi1\n",
      "008996 wo3 jia1 de5 mu2 lao2 hu3 cai2 ke3 pa4 ne5\n",
      "008342 dan4 zai4 chen2 ji4 yi1 duan4 shi2 jian1 hou4 shan1 tie3 gong1 si1 juan3 tu3 chong2 lai2\n",
      "008379 qi1 zi3 bu2 dan4 bu2 pa4 fan3 er2 rou2 qing2 de5 shuo1 mao1 ge1 bie2 jiao4 le5 wo3 lao3 gong1 hai2 mei2 chu1 chai1 ne5\n",
      "009998 zhe4 chang2 kang4 yi4 huo2 dong4 jiu1 jing4 shi4 ru2 he2 fa1 zhan3 yan3 bian4 de5 you4 jiu1 jing4 shi4 shui2 shang1 hai4 le5 shui2\n",
      "009175 di2 fu4 shuan1 dang1 ji2 jiu4 zhao3 dao4 le5 tong2 cun1 de5 guang1 gun4 han4 feng2 mou3 feng2 mou3 biao3 shi4 tong2 yi4\n",
      "009863 zhe4 feng1 kuang2 de5 yi2 mu4 ye2 xu3 zhi2 you3 deng3 dao4 da4 chao2 tui4 qu4 luo2 yong3 zhe3 cai2 hui4 fu2 chu1 shui3 mian4\n",
      "008976 kan4 dao4 shu2 xi1 de5 hu4 shi5 jie3 jie5 hai2 zi5 hui4 lie3 lie3 zui3 wu2 sheng1 de5 xiao4 qi3 lai5\n",
      "008896 wo3 de2 guo4 gan1 yan2 zhu4 le5 yuan4 bian4 xiu1 le5 yi2 ge4 xue2 qi1 de5 xue2\n",
      "008057 bi3 ru2 dui4 mei3 yuan2 chi2 xu4 bian3 zhi2 de5 yu4 qi1\n",
      "008619 ying1 ji2 li4 juan2 qi3 qie4 ting1 feng1 bao4 dong4 yao2 le5 mo4 duo1 ke4 fu4 zi3 zai4 ying1 guo2 de5 shang1 ye4 gen1 ji1\n",
      "008741 shi4 e4 yi4 ma4 nv3 hai2 zi5 de5 la1 ni3 ke3 bu2 yao4 xue2 huai4 o2\n",
      "008989 hai2 guan1 zong3 shu3 ji1 ji2 tuo4 zhan3 he2 you1 hua4 jia1 gong1 mao4 yi4 de5 chan3 ye4 jie2 gou4 tiao2 zheng3 deng2 deng3\n",
      "009710 lao3 bei4 mei3 ci4 liang4 xiang4 qian2 dou1 yao4 xi4 xin1 de5 tu2 zhi1 mo2 fen3 yi4 fan1 ne5\n",
      "008366 guang3 ben3 guan3 li3 ren2 yuan2 ru2 shi4 shuo1\n",
      "008318 ji4 zhe3 pai1 zhao4 yao1 er2 xian4 shen1 man3 bu2 zai4 hu1 lu4 ren2 qi4 fen4 qian3 ze2\n",
      "009606 ban4 nian2 zou3 yi4 zhuan3 shi2 chuan2 jiu3 da3 lan4\n",
      "008477 ding1 zi3 gao1 hai2 zi4 bao4 biao2 jie3 song4 le5 liang3 zhi1 bu4 tong2 pai2 zi5 de5 yan4 yun4 bang4 gei3 ta1\n",
      "008590 sui2 hou4 jin4 mou3 you4 qia1 zhu4 gao1 mou3 de5 bo2 zi5 jiang1 qi2 an4 zai4 di4 shang4\n",
      "008111 ta1 zuo2 tian1 tou4 lu4 zi4 ji3 he2 tai4 tai5 you3 le5 yi2 ge4 hun1 yin1 he2 yue1\n",
      "008620 dang1 shi2 fa1 xian4 de5 hua4 shi2 geng1 zhun3 que4 de5 shuo1 shi4 pei1 tai1 hua4 shi2\n",
      "009667 zhe4 zuo4 tu3 qiu1 yi3 jing1 bei4 zha4 chu1 yi2 ge4 shen1 shen1 de5 huo1 kou3\n",
      "009757 ju4 ti3 kai1 ting2 shen2 li3 shi2 jian1 dan1 xian4 fa3 yuan4 zai4 tong1 bao4 zhong1 wei4 ti2 ji2\n",
      "009163 she4 zai4 he2 dao4 zhong1 yang1 de5 shai1 xi3 dian3\n",
      "008019 ji4 zhe3 zi3 xi4 cha2 ting1 le5 liang3 ge4 hao4 ma3 de5 zi4 dong4 yu3 yin1 fu2 wu4 fa1 xian4 di2 que4 you3 suo3 bu4 tong2\n",
      "008572 yi3 se4 lie4 jun1 dui4 cong2 ru4 qin1 de5 li2 cun1 zhuang1 che4 chu1\n",
      "008654 wo3 ming2 bai5 le5 yuan2 lai2 ni3 de5 xiong1 jiu4 shi4 na4 shi2 hou5 ceng4 mei2 de5 duo1 me5 tong4 de5 ling3 wu4\n",
      "009347 wo3 yi3 qian2 jiu4 zuo4 guo4 fan1 yi4 zhe4 ci4 shi4 chong2 cao1 jiu4 ye4 yu2 shi4 tong4 kuai4 de5 da1 ying4 le5\n",
      "009741 bu4 ran2 jiu4 hui4 zao4 cheng2 ji2 da4 de5 wu4 chuan2 he2 cai1 ce4\n",
      "009867 shou1 fei4 nian2 xian4 fen1 bie2 chi2 xu4 zhi4 er4 ling2 san1 er4 nian2 ji2 er4 ling2 si4 ling2 nian2\n",
      "009286 a1 jie2 rang4 a1 yue4 kan4 xia4 sheng4 xia4 de5 he2 fan4 he2 bu4 he2 ta1 de5 wei4 kou3\n",
      "008739 ca1 zui3 ba5 na2 lai2 ca1 zui3 ba5 de5\n",
      "009571 xiao3 nv3 hai2 ting3 guai1 de5 mei2 you3 ku1 nao4\n",
      "009301 li4 wei2 fou3 ren4 le5 zhe4 yi1 bao4 dao4\n",
      "009643 qi2 huo3 dian3 wei4 yu2 he2 bian1\n",
      "008241 ni3 rang4 nong2 min2 ba3 dui1 ji1 ru2 shan1 de5 jie1 gan3 na2 qu4 gan4 shen2 me5\n",
      "008633 ling4 wai4 ta1 na4 jiong3 jiong3 you3 shen2 de5 yan3 guang1 he2 wei1 xie2 ta1 ren2 de5 biao3 qing2 ye3 fei1 chang2 dai4 jin4\n",
      "008613 dui4 da4 sai4 tui1 chu1 de5 xi4 lie4 chi3 cun4 biao1 zhun3 zhou1 cen2 cen2 ren4 wei2 you3 xie1 nan2 yi3 jie1 shou4\n",
      "008463 li3 jin3 man4 de5 jia1 fu4 mu3 yi4 zha2 yan3 dou1 bu4 zai4 le5\n",
      "009137 ci3 wai4 da1 shou4 bei4 jiao4 ting2 li4 yong4 li2 cai2 chan3 pin3 gao1 xi1 lan2 chu3 de5 xian4 xiang4 ye3 jiang1 bei4 e4 zhi4\n",
      "008626 you3 zhe5 jin1 shu3 lan2 gan1 de5 da4 men2 xu1 yan3 zhe5\n",
      "009625 hu4 ji2 yi1 jiu4 kun2 bang3 le5 hu4 ji2 ren2 kou3 de5 te4 xu3 quan2\n",
      "008200 ren2 men5 song3 jian1 suo1 tou2 bi4 zhe5 zui3 bu4 shuo1 hua4\n",
      "008735 wo3 jiu4 shi4 zhe4 yang4 xiang3 shou4 men4\n",
      "009563 zai4 zuo4 wan2 jian3 cha2 fan3 hui2 bing4 fang2 tu2 zhong1 lin2 lin2 tang3 zai4 bing4 chuang2 shang4 bai3 nong4 shou3 ji1\n",
      "009223 wo3 ye3 shi4 yi2 ge4 wu2 chi3 de5 tai2 wan1 ren2 na4\n",
      "008954 shuo1 dao4 hai1 shi2 zhou1 wei2 yi4 qun2 nian2 qing1 bai2 ling3 fen1 fen1 lou4 chu1 shi2 hua4 biao3 qing2\n",
      "009860 hong2 guang1 lu4 shang4 de5 qin2 pang2 gong1 jing3 qu1 yi2 du4 rang4 ren2 men5 ren4 wei2 zhe4 li3 jiu4 shi4 pang2 gong1\n",
      "008029 yi3 qian2 ta1 jiu4 you3 guo4 ji3 ci4 bei4 he2 nan2 sheng3 dui4 tui4 hui2 de5 jing1 li4 li3 you2 ye3 shi4 tai4 ai3\n",
      "008324 wo3 shi4 ni3 de5 yu3 yin1 zhu4 li3 ya1 ren2 gong1 zhi4 neng2 mei2 shao3 nv3 wo3\n",
      "008716 zhi1 dao4 cuo4 le5 jiu4 hao3\n",
      "008425 jiu4 zhe4 yang4 shou3 lian4 ye3 gen1 zhe5 shuai3 chu1 qu4 le5\n",
      "009645 kuai4 ren2 kuai4 yu3 shi4 li3 yong3 bo1 de5 ge4 xing4\n",
      "008040 bu4 hao3 ba1 jie2 shi2 jian3 fei2 hen3 tong4 ku3\n",
      "008768 nong2 ye4 ke1 ji4 zai4 guang3 da4 xi1 bu4 nong2 cun1 de5 pu3 ji2 hua4 cheng2 du4 hen3 gao1\n",
      "009007 liang3 ren2 cuo4 che1 zhi1 ji4 mao2 die1 die5 tu1 ran2 shuai1 dao3 shou4 shang1\n",
      "008403 yan3 yuan2 de2 duo1 gao1 xin1 li3 su4 zhi4 he2 liu2 lei4 ji4 qiao3 cai2 neng2 da2 dao4 yao1 qiu2 wa1\n",
      "008388 bao4 yu3 tian1 zai4 lu4 shang4 bei4 lin2 cheng2 le5 luo4 tang1 ji1\n",
      "009362 zhe4 ji1 ju4 hua4 ru2 kong3 bu4 pian4 li3 de5 kong3 bu4 yin1 yue4 jia1 shen1 le5 yu3 xiang2 de5 ju2 cu4 bu4 an1\n",
      "008971 er2 an4 zhao4 nong2 cun1 feng1 su2 wang2 wang3 shi4 jie2 hun1 shi2 nan2 fang1 chu1 fang2 zi5 nv3 fang1 chu1 jia4 zhuang5\n",
      "008924 zai4 luan2 cheng2 xian4 hong2 ri4 yong3 he2 dou4 jiang1 dian4 ji4 zhe3 kan4 dao4 le5 yi1 kuai4 cheng2 xin4 jian1 guan3 pai2\n",
      "009432 su1 jing4 mei2 you3 dian3 di1 de5 xing1 fen4 dao3 shi4 su1 mu3 wei2 kong3 tian1 xia4 bu4 zhi1 si4 chu4 da3 dian4 hua4 tong1 zhi1\n",
      "008578 wei4 ci3 ying1 guo2 lu4 hua2 gong1 si1 jiang1 zhong1 guo2 shang1 ping2 wei3 qi3 su4 zhi4 fa3 yuan4\n",
      "008002 xi3 huan5 ba3 li3 ao2 de5 shu1 cha1 zai4 niu2 zai3 ku4 de5 qian2 mian4\n",
      "009967 shi4 shi2 shang4 shi4 cong2 lai2 mei2 you3 yi2 ge4 qi1 shan4 pa4 e4 de5 ren2 neng2 zuo4 chu1 guo4 shao1 da4 yi4 dian3 de5 cheng2 jiu4\n",
      "008475 bu4 fen4 min2 zhong4 zhuo2 gao3 guai4 fu2 zhuang1 zhan4 zai4 kuang2 feng1 bao4 yu3 zhong1 zhao4 xiang4 fan1 jin1 dou3\n",
      "008737 zhe4 ge4 jiang2 fa3 wo3 ren4 wei2 shi4 bu4 fu2 he2 shi2 ji4 qing2 kuang4\n",
      "008915 he2 fan1 hai2 tang3 zai4 chuang2 shang4 deng3 ta1 ba4 pai4 che1 lai2 jie1 jian4 qiu1 zhi4 jie2 zai4 fa1 dai1 shuo1 ni3 zai4 xiang3 shui2\n",
      "009865 wei4 le5 neng2 pao3 qi3 lai5 fang1 bian4 ta1 men5 zhi1 bei1 zhe5 jian3 dan1 de5 gong1 ju4 hu4 xiang1 zhao4 ying4 zhe5 neng2 pao3 jiu4 pao3\n",
      "008598 qian2 zhe4 zhong3 dong1 xi1 dui4 ji1 qi4 ren2 lai2 shuo1 yong2 yuan3 mei2 you3 zhi1 shi2 he2 nu3 li4 zhong4 yao4\n",
      "009120 qing3 kao3 lv4 zai4 zhong1 qing2 ju2 de5 quan2 qiu2 ren4 zhi2 ji1 hui4\n",
      "008979 chu2 le5 shang4 zi4 ji3 zhuan1 ye4 kai1 de5 ke4 mu4 peng2 hai2 xi3 huan5 dao4 bie2 de5 zhuan1 ye4 ceng4 ke4\n",
      "008470 shou4 zhu4 qun2 zhong4 wu2 bu4 jiao1 kou3 cheng1 zan4 dang1 nian2 de5 lao3 ba1 lu4 zuo4 feng1 you4 hui2 lai5 le5\n",
      "009868 ru2 guo3 chi1 qi3 lai5 fei1 chang2 xi4 ni4 ze2 shuo1 ming2 yu4 mi2 fen3 jia1 de2 bu4 duo1\n",
      "008523 zai4 mou3 zhong3 yi4 yi4 shang4 ye2 xu3 zhe4 bing4 fei1 wei1 yan2 song3 ting1\n",
      "008245 xiao3 zhen4 shang4 de5 ren2 dou1 cheng1 zhi1 wei2 cai2 zi3\n",
      "008472 gong1 ren2 men2 xian1 ban1 kai1 ku1 long2 zhou1 wei2 de5 jie1 zhuan1 zai4 yong4 dian4 zuan4 zao2 kai1 shui3 ni2 ban3\n",
      "008699 duo1 xie4 peng2 chang3 he1 he1\n",
      "009970 ju4 xi1 ao4 ba1 ma3 yi4 jia1 ren2 dui4 zhe4 zuo4 dong1 ji4 bai2 gong1 ji2 wei2 man3 yi4\n",
      "008381 jiu4 hao3 xiang4 zui4 hou4 yi1 ci4 ce4 shi4 wo3 zhong1 yu2 beng4 guo4 qu4 ji2 ge2 le5\n",
      "009443 lao3 shi1 zai4 xiang3 yi4 xiang3 jing1 chang2 na2 yi4 ba3 jian3 dao1 zai4 hua1 cong2 bian1 liu1 da2 de5 shi4 shen2 me5 ren2\n",
      "009091 nv3 ren2 ti3 yan4 zhe5 tong4 ku3 er2 xing4 fu2 de5 shi2 ke4\n",
      "008242 chen1 zhou1 shi4 jian3 cha2 yuan4 ye3 yi3 jie4 ru4 diao4 cha2\n",
      "008712 huan1 ying2 lai2 gen1 wo3 men5 shuo1 shuo1\n",
      "009065 qi4 jin1 wei2 zhi3 ta1 reng2 ran2 bi3 geng1 bu2 chuo4\n",
      "009604 san1 sui4 na4 nian2 he2 hen3 duo1 xiao3 peng2 you3 yi1 yang4 xiao3 qi2 xi3 huan5 shang4 le5 yao3 shou2 zhi3\n",
      "009505 huo4 de2 yi2 ding4 fen1 shu4 de5 wai4 ji2 ren2 shi4 jiang1 bei4 shi4 wei2 gao1 ji2 ren2 cai2\n",
      "008273 gong1 dian4 fu2 wu4 re4 xian4 jiu2 wu3 wu3 jiu3 ba1 bao3 chi2 er4 shi2 si4 xiao3 shi2 chang4 tong1\n",
      "009999 yin1 hua4 guo2 feng1 xiao1 ji1 mu4 di4 she4 ji4 gen1 ju4 qi2 shu3 xiang4 she4 ji4\n",
      "009122 xin1 yi4 lun2 tou2 zi1 sheng4 yan4 xi1 xi1 rang2 rang3 jie1 wei2 li4 lai2\n",
      "008285 shi4 cheng2 hou4 lin2 ju1 hui4 gei3 bao4 chou5\n",
      "009674 bu4 guan3 xia4 fang4 yu4 bei4 dui4 de5 shi4 shen2 me5 ren2 dou1 ke2 yi3 hui2 dao4 dui4 wu3 zhong1 lai2\n",
      "008234 hen3 duo1 wang2 you3 dui4 guang3 zhou1 lv3 ke4 lu2 mang3 de5 xing2 wei2 biao3 shi4 qian3 ze2\n",
      "009969 mei3 fang1 dui4 jin4 qi1 dong1 hai3 ju2 shi4 biao3 shi4 guan1 qie4\n",
      "009698 min2 jing3 yi1 lu4 cong2 yong3 xing1 xian4 dao4 chen1 zhou1 shi4 qu1 di4 duan4 ji1 shi2 gong1 li3 pai2 cha2 suo2 you3 yi1 yuan4\n",
      "009892 jing3 fang1 cha2 xun2 le5 wu4 liao4 ling2 qu3 dan1 ju4 ri4 qi1 yu3 an1 zhuang1 shi2 jian1 xiang1 fu2\n",
      "009917 geng1 rang4 xu2 xian1 sheng1 na4 men4 de5 shi4 fang2 ke4 de5 shou3 ji1 ye3 da3 bu4 tong1 le5\n",
      "009257 ni3 zhang3 ge4 yan3 jing5 shi4 chu1 qi4 de5 ma2\n",
      "008805 sui1 ran2 te4 bie2 xiang3 yao3 na4 kuai4 rou4 dan4 hai2 shi4 xian1 ren3 zhu4 ba3 zhou1 wei2 de5 pi2 chi1 wan2\n",
      "008350 ta1 shuo1 zi4 ji3 kuai4 bie1 huai4 le5\n",
      "008223 si4 shi4 qi3 ye4 guo2 ji4 hua4 jing1 ying2 neng2 li4 jiao4 ruo4\n",
      "009944 wo3 xian4 zai4 hai2 bu2 hui4 zhe4 jiu4 hui2 qu5 wen4 wen4 fa1 ming2 wo3 de5 ren2\n",
      "009195 ta1 bing4 bu4 zhi1 dao4 yi3 jing1 huai2 yun4 yi4 zhi2 yi3 wei2 shi4 zhang3 pang4 le5\n",
      "008502 zai4 xing2 shi3 guo4 cheng2 zhong1 pin2 pin2 dian3 sha1 gu4 yi4 rang4 che1 kai1 de2 dian1 bo3 ba3 cheng2 ke4 huang3 shui4\n",
      "009225 hou4 lai2 nv3 qing1 nian2 bei4 min2 jing3 la1 shang4 jing3 che1 dai4 wang3 pai4 chu1 suo3 xing2 jiu3\n",
      "009145 dui4 yu2 yu3 ying1 cai3 er2 de5 hun1 yin1 ta1 hen3 you3 zi4 xin4 de5 shuo1 jie2 hun1 jiu4 shi4 yi1 bei4 zi5 de5 shi4\n",
      "008092 wu2 nai4 zhi2 qin2 min2 jing3 zhi3 dei3 liu2 yi4 ming2 fu2 jing3 liu2 shou3\n",
      "008348 he2 xiao3 jie5 jia1 yang3 de5 huang2 jin1 mang3\n",
      "009293 di4 si4 jiu4 shi4 xuan3 ze2 tui2 fei4\n",
      "008383 shou3 xian1 yao4 you3 ge4 hao3 shen1 ti3 qi2 ci4 hai2 yao4 fu4 chu1 nu3 li4\n",
      "008289 zhe4 gu4 shi4 jiao4 yi2 ge4 wen2 mang2 de5 bei1 ai1\n",
      "008005 bu2 tai4 ming2 bai5 shen2 me5 yi4 si1\n",
      "009706 qiao2 de5 ling4 yi4 duan1 wei2 fang2 zhi3 ren2 shang4 qiao2 te4 yi4 qi4 qi3 le5 yi4 du3 ai3 qiang2\n",
      "009960 yin1 wei4 wo3 men5 suo3 fa1 chu1 de5 li4 liang4 bi4 hui4 yin1 nan2 du4 jia1 da4 er2 jian3 ruo4\n",
      "008922 ren2 men5 yi2 dan4 zhua1 zhu4 wo3 yong4 dui4 fu5 ni3 de5 fang1 fa3 jiang1 hui4 yao4 wo3 de5 ming4\n",
      "008574 zui4 zhong1 jie2 guo3 shi4 xie4 hong2 qiang2 ying2 le5 ling4 yi4 jia1 tao3 zhai4 gong1 si1 bei4 nian2 zou3\n",
      "008778 hu4 shi5 pa4 ren2 xiao4 hua5 bian4 ba3 zi4 ji3 de5 niao4 yang4 na2 qu4 hua4 yan4\n",
      "008376 suo2 you3 seng1 ren2 dou1 pao3 le5 chu1 lai2\n",
      "009323 dang1 nian2 zong3 shou1 ru4 wei2 ren2 min2 bi4 qi1 shi2 yi4 dian3 wu3 si4 wu3 yi4 yuan2\n",
      "008172 wo3 dun4 shi2 yi1 jin3 zhang1 zhe4 bu2 shi4 lao3 duan4 zi5 ma2 wo3 zen3 me5 hui4 yi4 zhi2 xiu1 dian4 nao3\n",
      "008328 er4 shi4 ren3 ru3 fu4 zhong4 he2 nan2 ren2\n",
      "008751 yue4 lan3 shi4 li3 ren2 tou2 cuan2 dong4 dan4 ya1 que4 wu2 sheng1\n",
      "009641 dan4 you3 yu2 min2 ren4 wei2 jin4 qi1 shui3 hu2 lu2 de5 ying2 xiang3 yi3 bu2 da4\n",
      "008280 zai4 ta1 jia1 meng2 zhi1 chu1 lian2 pu3 hai2 zhi3 shi4 kan4 shang5 qu4 hen3 mei3 zi1 jin1 zhuang4 kuang4 you3 jin4 wu2 chu1\n",
      "008095 zhe4 ji3 tian1 shou1 kan4 xin1 wen2 le5 ma2\n",
      "008764 jiu4 zai4 zhe4 shi2 ta1 bei4 peng2 you5 po1 le5 leng2 shui3\n",
      "009406 cong2 ci3 ge1 dong3 de5 le5 yi2 ge4 dao4 li5 zuo4 ren2 yao4 cheng2 shi2\n",
      "008296 wen1 zong2 li3 ci3 hang2 an1 pai2 shi2 fen1 jin3 cou4\n",
      "008747 wei2 yang3 er2 fang2 lao3 wang2 nv3 shi4 qi3 su4 qian2 fu1 yu4 tao3 hui2 nv3 er2 de5 fu3 yang3 quan2\n",
      "009206 wo3 neng2 gao4 su4 ni3 men5 zao3 chen2 wo3 ba4 chu1 men2 gen1 wo3 shuo1 rang4 wo3 zhong1 wu3 zi4 ji3 chi1 pao4 mian4 ma2\n",
      "009564 bu2 guo4 wang2 you3 dou1 fen1 fen1 zhi1 chi2 ying1 cai3 er2 zhe4 yi1 ba4 qi4 xing2 wei2\n",
      "008384 cheng2 du1 niao3 yu3 lin2 yuan2 lai2 zhun3 bei4 kai1 zhan3 de5 you2 ke4 qi2 tuo2 niao3 xiang4 mu4 ye3 bu4 gao3 le5\n",
      "009361 bu4 shao3 ren2 yin1 ci3 ren4 shi2 le5 guang3 zhou1 ji4 zhu5 le5 hai3 xin1 sha1 xiang4 wang3 zhu1 jiang1 bian1 de5 cui3 can4\n",
      "008810 guo2 nei4 zhao4 ming2 hang2 ye4 de5 ling3 tou2 yang2 lei2 shi4 zhao4 ming2 jue2 ding4 shuai4 xian1 chu1 ji1 jin4 xing2 zi4 zhu3 yan2 fa1\n",
      "008837 qiang2 du4 di1 yong4 shou3 kou1 ke3 tuo1 luo4\n",
      "009251 qu3 diao4 shi4 xian4 cheng2 de5 dong1 bei3 ren2 dou1 neng2 heng1 heng1 ji1 ju4 de5 er4 ren2 zhuan4\n",
      "008050 yi2 xiang4 yi4 fen1 qian2 dou1 yao4 bai1 cheng2 liang3 ban4 hua1 de5 fu4 qin1 wei2 le5 er2 zi5 da4 bai3 yan4 xi2\n",
      "009779 si1 di3 xia4 ye3 bu4 ceng2 jian4 mian4 guo4\n",
      "009929 zui4 zhong1 zhong1 guo2 nan2 zi3 ping1 pang1 qiu2 dui4 huo4 de2 ci3 jiang3 xiang4\n",
      "008789 shuo1 hao3 he2 wo3 bai2 tou2 xie2 lao3 de5 ni3 ran3 fa4 shi4 ji3 ge4 yi4 si1\n",
      "008912 cen2 huang2 liang3 ren2 ge4 fen1 de2 liang3 wan4 duo1 yuan2\n",
      "008048 zheng4 wei3 rui4 shuang1 lin2 gao4 su4 ji4 zhe3 zai4 zhe4 li3 wo3 men2 yi1 ju2 shou3 yi1 tou2 zu2 dou1 guan1 hu1 wo3 jun1 de5 xing2 xiang4\n",
      "009080 qi2 shi2 tian2 xing1 jiu4 shi4 zhi4 zhang4 zhe3 lv3 tian1 xi3\n",
      "009208 nao4 le5 ban4 tian1 nin2 gan3 qing2 shi4 ye4 cha1\n",
      "009110 mei2 ban4 fa3 zhi3 neng2 xuan3 ze2 chu1 xing2 duo2 duo3 feng1 tou5\n",
      "008838 shi4 fa1 zao3 ying2 nan2 li3 liu4 hao4 lou2 qi1 ling2 liu4 shi4 de5 yi2 ge4 xiao3 wo4 shi4\n",
      "008286 zheng4 yin1 ru2 ci3 ta1 men5 zai4 xuan3 ze2 gong1 zuo4 shi2 hui4 xiang1 dui4 tiao1 ti4 yi4 xie1\n",
      "009013 dui4 yu2 wu2 li4 ke3 tu2 de5 ke4 hu4 qu2 dao4 ye3 ba3 ta1 men5 qia1 duan4 le5\n",
      "008558 shuang1 shou3 bei4 xi4 tie3 si1 kun3 zha1 lian3 se4 tie3 qing1 chu3 yu2 hun1 mi2 zhuang4 tai4\n",
      "009984 cong2 xiao3 dao4 da4 ge2 qi3 yi4 mei2 you3 shou1 dao4 guo4 ya1 sui4 qian2\n",
      "009322 lao3 gong1 hen3 mei2 qing2 diao4 de5 wen4 lao3 po2 shuo1 ma2 ni3 xiang3 yao4 sha2\n",
      "009054 ju4 xi1 lao3 tai4 tai5 du2 zi4 yi4 ren2 ju1 zhu4 shen1 bian1 wu2 ren2 zhao4 gu5\n",
      "009275 you3 wei1 xian3 de5 di4 fang1 bu2 yao4 rang4 xue2 sheng5 qing1 sao3 bi3 ru2 ca1 chuang1 hu5\n",
      "008986 xin4 ji4 chu1 hou4 wang2 xiao1 jue2 de5 shi4 jie4 mang2 ran2 yi1 pian4 xin1 ma2 mu4 de2 ting2 zhi3 le5 tiao4 dong4\n",
      "009067 chao1 shi4 li3 que4 chao2 mi2 fen3 mai4 de2 bu2 cuo4\n",
      "009429 gai1 an4 mu4 qian2 yi3 jin4 ru4 yi2 jiao1 fa3 yuan4 qi3 su4 jie1 duan4\n",
      "009951 zeng1 bao3 yi2 zai4 jie2 mu4 lu4 zhi4 xian4 chang3 da4 bao4 guan1 zhong4 qiu3 shi4\n",
      "009566 xiang3 zhe5 xiang3 zhe5 zi4 ji3 bei4 zi4 ji3 dou4 le4 dui4 zhe5 jun1 huo3 ku4 zao4 xing2 de5 yu2 guo3 tang2 kai1 huai2 da4 xiao4\n",
      "009261 gui3 shi3 shen2 chai1 zhe4 ci4 a1 bing1 na2 chu1 le5 zhen1 shi2 shen1 fen4 zheng4 yong4 yu2 deng1 ji4\n",
      "009579 qian2 ji3 nian2 huo3 che1 ti2 su4 dan4 na4 li3 de5 hai2 zi5 que4 bu4 neng2 ti2 su4\n",
      "008500 ye4 nei4 ren2 shi4 biao3 shi4 xian4 zai4 wo2 sheng3 xiao1 fei4 zhe3 yi3 shou3 ci4 gou4 che1 wei2 zhu3\n",
      "008293 wo3 hai2 xiang3 zi4 you2 zi4 zai4 de5 duo1 wan2 ji3 nian2 suo2 yi3 xian4 zai4 hai2 shi4 dan1 shen1 ne5\n",
      "009660 wo3 neng2 hen3 xin1 da3 duan4 ni3 bu4\n",
      "008882 dan4 shi4 sheng4 da4 wang3 luo4 de5 jing4 li4 run4 zai4 di4 er4 ji4 du4 que4 bao4 die1\n",
      "008436 wei4 liao4 yi4 tian1 qing1 chen2 wo3 hai2 zai4 bei4 wo1 li3 hu1 ting1 yi1 zhen4 xi1 xi1 de5 zhua2 zi3 nao2 men2 sheng1\n",
      "009129 xue2 dao4 cheng2 chu2 fa3 shi2 jiu4 hui4 bei4 jiu3 jiu3 cheng2 fa3 biao3\n",
      "009359 gai1 dian4 shi4 ming2 ma3 shi2 jia4 ye3 ti2 gong1 bu4 tong2 you1 hui4 jing1 ming2 de5 xiao1 fei4 zhe3 dong3 de5 xuan3 ze2\n",
      "009199 chu2 le5 zhang4 peng5 xiao3 ban3 deng4 yu2 san3 mian2 shou3 tao4 yi3 ji2 mian2 mao4 deng3 ye3 dou1 fen1 fen1 shang4 zhen4\n",
      "008162 ni3 de5 shen1 ying3 zong3 shi4 zai4 wo3 xin1 li5 huang3 lai2 huang3 qu4\n",
      "008120 san1 shi4 quan2 guo2 tie3 lu4 ke4 fu2 dian4 hua4 tong3 yi1 wei2 yao1 er4 san1 ling2 liu4\n",
      "009685 dang1 shi2 xin1 li5 zhi1 xiang2 shao3 re3 ma2 fan5\n",
      "009551 ta1 ti2 xing3 tou2 zi1 zhe3 jing3 ti4 hui4 fou3 chu1 xian4 zhi4 zhang4 xian4 xiang4\n",
      "009087 bei4 bu4 de5 ju4 zhi4 yin1 ci3 bei4 ceng4 lan4 hao3 duo1 hui2\n",
      "009712 za2 jiao1 shui3 dao4 ying4 yong4 ze2 shi4 ti2 gao1 shui3 dao4 chan3 liang4 de5 zui4 jia1 xuan3 ze2\n",
      "008695 shui2 jiu4 yi4 xiao3 ming2 xing1 shui2\n",
      "008953 de2 fa3 fei1 chang2 nao2 huo3 ying1 guo2 de5 li4 chang3 rang4 de2 fa3 deng3 guo2 fei1 chang2 nao2 huo3\n",
      "008858 ke3 shi4 ru2 guo3 cong2 li3 yi2 wen2 hua4 ben3 shen1 lai2 shuo1 xiang4 zhang3 bei4 gong2 shou3 shi4 bu4 he2 shi4 de5\n",
      "009689 zhe4 ye3 shi4 zuo4 wei2 wang3 luo4 xie2 shou3 zui4 tong4 ku3 de5 shi4\n",
      "008655 yi3 qiu1 fu4 jin4 mi4 mi4 ma2 ma2 de5 ju4 ji2 le5 da4 xiao3 hong2 huo2 yi3 yi3 ji2 yi1 chuan4 chuan4 de5 yi3 luan3\n",
      "008844 jian4 yi4 zai4 zhen1 zhuo2 tuo3 dang4 xiu1 gai3\n",
      "009358 zuo2 ri4 jin1 feng1 biao3 shi4 zai4 jie2 mu4 zhong1 de5 yan2 lun4 wei4 jing1 guo4 yan4 zheng4 you3 shi1 yan2 jin3 he2 tuo3 dang4\n",
      "009568 ta1 he2 yi4 bang1 shuo1 hua4 du1 du1 nang1 nang1 cheng2 tian1 tiao4 wu3 de5 ren2 sheng1 huo2 zai4 yi4 qi3\n",
      "008744 ta1 men5 bei4 suo3 lian4 shuan1 zai4 chuang2 shang4 jie1 shou4 ji2 duan1 zhu3 yi4 guan1 dian3 de5 jiao4 yu4\n",
      "008686 ta1 hen3 chan2 wo3 he2 lao3 gong1\n",
      "008430 he1 zui4 le5 de5 li2 kan3 bei4 ti1 xing3 hou4 fan1 shen1 zhan4 qi3 yu3 zhe4 ming2 min2 jing3 si1 che3 qi3 lai5\n",
      "008042 zhe4 jiu4 xiang1 dang1 yu2 jiang1 duo4 tai1 he2 fa3 hua4\n",
      "008562 ling4 wai4 wo3 men5 hai2 neng2 zan3 dian3 qian2 zuo4 dian3 xiao3 tou2 zi1 sheng1 huo2 ya1 li4 ye3 bu2 zhi4 yu2 tai4 da4\n",
      "009177 mu4 qian2 zhou1 bian1 ge4 sheng3 shi4 de5 chang2 tu2 che1 zhan4 yi3 shi2 xing2 shi2 ming2 gou4 piao4 jin4 zhan4 an1 jian3\n",
      "009675 zhe4 qi2 zhong1 yi3 ou1 meng2 de5 guan1 qia3 zui4 wei2 guan1 jian4 he2 jian1 nan2\n",
      "009232 ai4 fu2 long2 de5 er2 zi5 shuo1 ta1 de5 mu3 qin1 yin1 fei4 yan2 bing4 shi4 zai4 man4 ha1 dun4\n",
      "008685 yi1 sheng1 yi1 kan4 jing1 dai1 le5\n",
      "009605 gao2 hao3 da4 xue2 sheng1 qin3 shi4 guan1 xi4 zi4 ran2 ye3 yi4 yi4 zhong4 da4\n",
      "008671 tu2 wei2 yi4 zhi1 xi3 que4 zai4 xue3 tian1 mi4 shi2\n",
      "009910 zhe4 ji3 tian1 yu2 shui3 bu2 duan4 ren2 men5 hen4 bu4 de2 dai4 zai4 jia1 li3 bu4 chu1 men2\n",
      "009487 ci3 wai4 huan4 zhe3 ke2 you3 fan2 ke3 chu1 han4 liu2 xian2 si4 zhi1 ji1 rou4 jing4 luan2 hu1 xi1 kun4 nan2 deng3 zheng4 zhuang4\n",
      "008830 mian4 dui4 xiang1 e4 qing2 de5 tui2 shi4 ji1 gou4 jian4 sheng1 tui4 yi4\n",
      "009353 zhe4 xie1 nian2 ru2 guo3 bu2 shi4 wo3 zai4 zhong1 jian1 de5 hua4 chen2 ming2 liang4 zao3 jiu4 bei4 zhong1 ai3 er2 chu2 diao4 le5\n",
      "008269 kong1 tou2 cheng2 gong1 le5 bei4 kun4 de5 wu3 qian1 duo1 qun2 zhong4 you3 jiu4 le5\n",
      "009852 zai4 chen2 shui2 bian3 dan1 ren4 tai2 bei3 shi4 yi4 yuan2 shi2 su1 huan4 zhi4 ceng2 dan1 ren4 bian3 zhu4 li3\n",
      "008978 ru2 he2 gou1 tong1 zen3 me5 gou1 tong1 jian4 jian4 cheng2 wei2 wo3 men5 ri4 si1 ye4 xiang3 de5 zhu3 ti2\n",
      "009378 nv3 jia4 shi3 yuan2 bu2 le4 yi4 le5 zui2 li3 kai1 shi3 ma4 ma4 lie3 lie1 de5\n",
      "009181 shi4 hou4 zhang1 jian4 bei4 zhen3 duan4 you4 gu2 gu2 jing3 chu3 gu3 zhe2 zai4 yi1 yuan4 jin4 xing2 le5 shou3 shu4 zhi4 liao2\n",
      "009701 zai4 ci4 jiao1 yi4 shi2 jie4 shao4 ren2 jian4 mou3 he2 ta1 de5 peng2 you5 yang2 mou3 da2 qi3 le5 qi2 ta1 suan4 pan2\n",
      "009922 yi4 zhong3 biao3 shi4 shang1 pin3 suo3 you3 quan2 de5 cai2 wu4 zheng4 quan4 ye3 cheng1 shang1 pin3 zheng4 quan4 ru2 ti2 huo4 dan1 jiao1 huo4 dan1\n",
      "008732 zhe4 yi1 jia3 she4 bing4 bu4 kua1 zhang1\n",
      "009889 gai1 ren2 shi4 ti2 xing3 bu2 yao4 sui2 yi4 yi2 qi4 quan3 zhi1 gei3 shi4 min2 chu1 xing2 dai4 lai2 an1 quan2 yin3 huan4\n",
      "008238 xu2 hu3 du2 shu1 shi2 yi4 zhi2 dou1 kao4 xue2 xiao4 fa1 gei3 de5 zhu4 xue2 jin1\n",
      "008965 wo3 he2 bi4 rou2 shi4 yan1 jing1 da4 xue2 de5 tong2 ban1 tong2 xue2 ta1 bi3 wo3 xiao3 qi1 ge4 yue4\n",
      "009580 er2 ci3 ci4 can1 jia1 ren2 shu4 zhong4 duo1 ye3 rang4 mai4 xiang4 ding2 dian3 de5 nan2 du4 zeng1 jia1\n",
      "008783 da3 wan2 gong1 hou4 hai2 shi4 hui2 cun1 li3 lai2 gai4 xin1 fang2 gao3 chan3 ye4\n",
      "008559 bing4 qie3 mei3 ci4 ba3 ping2 sai1 la1 chu1 lai2 de5 shi2 hou5 dou1 yao4 da4 jiao4 yi4 sheng1\n",
      "009598 xue2 xiao4 de5 zou3 du2 sheng1 zai4 fang4 xue2 hou4 shi4 bu4 yun2 xu3 zai4 xue2 xiao4 dou4 liu2 de5\n",
      "008489 xiao3 yao2 zai4 hai3 bin1 mu3 qing4 de5 pei2 tong2 xia4 zai4 ci4 duo4 tai1\n",
      "009718 jin1 tian1 de5 jiu3 quan2 wei4 xing1 fa1 she4 zhong1 xin1 qiu1 gao1 qi4 shuang3 yang2 guang1 can4 lan4\n",
      "009996 ling4 yi1 nan2 zi3 pu1 le5 shang4 lai2 shou3 li3 na2 zhe5 ming2 huang2 huang3 de5 chang2 dao1 xiang4 ta1 xiong1 kou3 zhi2 ci4\n",
      "008869 wang3 shang4 de5 dian4 jia1 cheng1 ta1 men5 xiao1 shou4 de5 nai2 fen3 shi4 gang2 ban3 dai4 gou4\n",
      "008080 hai2 yao4 jiao4 ta1 qi3 chuang2 ne5 zen3 me5 hui4 bu4 zao2 qi3\n",
      "008062 chen2 li3 dong1 zhi4 dian4 dian4 cheng2 zhen4 bin4 gai3 dui4\n",
      "009637 yang2 guang1 zhi1 xia4 kuai4 pao3 zhe3 wei4 bi4 xian1 da2 li4 zhan4 zhe3 wei4 bi4 neng2 sheng4\n",
      "009057 you3 ci4 peng2 you5 yi4 qi3 da3 ma2 jiang4 san1 que1 yi1 you3 ge4 peng2 you5 dai4 ge4 bu4 ren4 shi2 de5 peng2 you5 lai2 wo3 men5 wen4 ta1 hui4 wan2 ma2\n",
      "009570 ta1 de5 dao4 lai2 shi4 yi1 jian4 hao3 shi4 wo3 hen3 huan1 ying2 ta1 bu4 guan3 shi4 dai4 biao3 ge4 ren2 hai2 shi4 dai4 biao3 ju4 le4 bu4\n",
      "009798 gan1 die1 die5 cheng1 qi3 yu2 san3 man4 man4 zou3 le5 guo4 qu4\n",
      "009449 bi3 ru2 qian2 shao3 nai2 nai3 zhou1 xun4 he2 zhang1 yu3 qi3\n",
      "008510 rang4 ren2 huai2 yi2 shi4 ci3 jun1 ke4 wan2 hou4 tiao4 xia4 qu4 le5\n",
      "009968 wo3 hui4 da3 kai1 you2 jian4 ni3 ke3 yi3 cong2 na4 li3 ji4 xu4\n",
      "008832 shu4 ci4 xun2 wen4 yi1 sheng1 lu2 mou3 que4 hui2 fu4 mei2 you3 da4 ai4\n",
      "009688 hai3 deng1 dui4 zou1 jia1 hua2 de5 lai2 fang3 biao3 shi4 huan1 ying2\n",
      "009305 li4 ru2 fen4 nu4 de5 xiao2 niao3 jiu4 shi4 ni3 hua4 wo3 cai1 de5 mu2 ban3\n",
      "009911 mei2 xiang3 dao4 xu2 yun1 zhang1 hai3 xiang2 liang3 ren2 jiu4 ci3 wan2 qi3 le5 ren2 jian1 zheng1 fa1\n",
      "009694 ta1 ceng2 xiang3 guo4 fang4 qi4 jin2 guan3 ru2 jin1 ta1 yi3 shi4 yan2 hai3 mou3 shi4 de5 qing1 shao4 nian2 san4 da3 guan4 jun1\n",
      "008512 ting3 hao3 de5 chang2 tou2 fa4 gan4 ma2 jian3 de2 zhe4 me5 duan3\n",
      "009253 gui4 zu2 chao2 ting2 ming4 guan1 de5 si3 xing2 chu2 fa3 ze2 duo1 shi4 ci4 si3 mian3 xing2\n",
      "008983 fu2 cong2 bin1 yuan4 shi4 zheng4 shi4 zai4 ci3 ling3 yu4 qu3 de5 le5 ling4 ren2 zhu3 mu4 de5 cheng2 jiu4\n",
      "009340 ni3 xi3 huan5 wan2 shen2 me5 you2 xi4\n",
      "008058 ta1 men5 jiu4 xiang4 shi4 bei4 chong3 huai4 de5 hai2 zi5\n",
      "009857 xin1 hua2 she4 ji4 zhe3 zu1 jie4 yi4 sou1 dang1 di4 yu2 chuan2 kao4 jin4 le5 zai4 qian2 hai3 zhong1 de5 zhong1 guo2 yu2 chuan2\n",
      "008224 hui2 dao4 jia1 lin2 ma1 bu2 zhu4 cui1 wen4 ta1 shuo1 hai2 ke2 yi3 lin2 mu3 pai1 tui3 er2 qi3 ni3 shuo1 ke2 yi3 jiu4 shi4 bu4 hao3\n",
      "008036 ben3 wang3 dian4 hua4 ba1 ling2 ba1 ba1 jiu3 yao1 ba1 er4\n",
      "009053 wo3 hai2 mei2 yang3 guo4 chong3 wu4 ne5 bu2 guo4 dao3 shi4 hen3 xiang3 chang2 shi4 yi1 xia4\n",
      "009864 yi3 hou4 bi4 cheng2 tong2 zhi4 lv4 bu4 can1 jia1 le5 liang3 ci4 lian2 shui3 bao3 wei4 zhan4 ce4 ying1 le5 su4 bei3 da4 zhan4 de5 sheng4 li4\n",
      "008283 yi1 yuan4 mian4 shi4 gong1 si1 deng3 pai1 she4 chang3 di4 ye3 shi4 ta1 yi4 yi1 zhang1 luo5 de5\n",
      "008473 yuan2 ben3 zhi3 shi4 xiang3 xia4 hu3 xia4 hu3 ke3 shi4 zai4 kun2 bang3 xiao3 hao4 shi2 zao1 yu4 le5 fan3 kang4\n",
      "008687 na4 tian1 hai2 hao4 qi2 de5 wen4 ba4 ma1 le5 ke3 hai2 shi4 bu4 dong3\n",
      "008580 zhe4 nan2 dao4 jiu4 shi4 da4 ming2 ding2 ding3 de5 zhong1 guo2 qi1 wang2 huang2 xing1 guo2 ma2\n",
      "009785 bi2 ci2 bi2 ci3 ban4 jin1 ba1 liang3\n",
      "008643 lao2 ban3 gei3 le5 ta1 ba1 ba1 yi4 xiao3 cuo1 zi3 dan4 shang4 tang2 miao2 zhun3 er2 zi5 de5 tui3 peng1\n",
      "009166 hen3 kuai4 a1 cheng2 gong1 gong4 an1 quan2 zhuan1 jia1 ju2 hui4 ning2 pai4 chu1 suo3 min2 jing3 jiu4 gan3 dao4 le5\n",
      "009193 zhao4 pian1 zhong1 ling2 dao3 zhan4 zai4 shi2 tou5 yin1 ying3 xia4 dan4 lian3 shang4 guang1 xian4 reng2 ming2 huang2 huang3 de5\n",
      "009588 xin1 gui1 shi2 shi1 di4 er4 tian1 wo2 sheng3 yi4 xie1 di4 fang1 de5 mei2 kuang4 zhi2 xing2 qing2 kuang4 dao4 di3 ru2 he2\n",
      "008615 ji4 zhe3 zhun3 bei4 zai4 ci4 piao2 xi3 pang2 bian1 de5 xi3 wan3 gong1 cui1 cu4 zhe5 ke2 yi3 la1 ke2 yi3 la1\n",
      "008847 xiang1 xin4 da4 jia1 yi2 ding4 shou4 yi4 fei2 qian3\n",
      "009744 weng1 mei3 ling2 zi4 sha1 de5 zui4 zhu3 yao4 yuan2 yin1 shi4 gong1 zuo4 ya1 li4\n",
      "009732 qiao2 bu4 si1 zai4 wu3 shi2 liu4 sui4 shi2 yin1 yi2 xian4 ai2 bing4 shi4\n",
      "009151 dang1 ran2 shi4 mang2 zhe5 xue2 xi2 bian4 de5 geng1 bang4 lou2\n",
      "008100 jin4 ri4 shang4 rao2 shi4 zhong1 yuan4 zuo4 chu1 cai2 ding4 bo2 hui2 shang4 su4 wei2 chi2 yuan2 pan4\n",
      "009132 zi1 liao4 xian3 shi4 jing1 hu4 gao1 tie3 lang2 fang2 duan4 quan2 chang2 san1 shi2 dian3 san1 si4 er4 gong1 li3\n",
      "009185 ta1 deng4 da4 yan3 jing5 pao2 xiao4 zhe5 fa1 chu1 wu1 wu1 sheng1 yong4 zhua2 zi3 bao3 hu4 shi2 wu4\n",
      "009649 wo3 ba4 hai2 qu4 mu3 jia1 nao4\n",
      "009565 ta1 shuo1 dang1 shi2 zai4 pian4 chang2 huo4 bo2 ji1 hu1 gen1 suo3 you3 ren2 gan1 guo4 jia4\n",
      "008035 jie3 mei4 lia3 yi4 bian1 shang2 jing3 yi4 bian1 shuo1 xiao4\n",
      "009687 ta1 men5 neng2 zai4 jiang1 shui3 he2 hai2 shui3 zhong1 sheng1 cun2 bing4 qie3 cheng2 shu2 hou4 hui2 you2 dao4 chan2 luan3 di4 chan2 luan3\n",
      "008940 qi2 jian1 hai2 zi5 da3 le5 yi2 ge4 ge2 dan4 yi1 sheng1 kan4 wan2 hou4 shuo1 shi4 hai2 zi5 shui4 jiao4 da3 hu1 lu1\n",
      "008925 wang2 dan1 jia1 jin3 shou3 bao1 pai2 zai4 le5 ren2 qun2 zhong1 tie3 zha4 lan2 ba3 she2 xing2 dui4 wu3 fen1 ge2 cheng2 si4 zhi1\n",
      "009930 fang2 xun4 kang4 han4 liang3 shou3 zhua1 kang4 han4 xiang1 dui4 zhua1 de5 bu2 gou4\n",
      "008166 kan4 lai2 liang3 ren2 shi4 bi4 yao4 wei4 ci3 dui4 pu1 gong1 tang2 le5\n",
      "009277 chen2 hong2 zhi2 hao3 qing3 le5 liang3 ge4 bang4 bang4 ba3 mu3 qin1 tai2 hui2 le5 jia1\n",
      "008456 zhu3 guai3 nan2 zi3 xia4 shui3 tuo1 qi3 luo4 shui3 nv3\n",
      "009841 yi2 ge4 ju4 da4 de5 pi2 zang4 wan2 zheng3 tuo1 chu1 bo1 li2 jie2 za1 bing4 cheng2 gong1 qie1 chu2\n",
      "009418 guo1 hong2 ding4 jie4 shao4 qi2 zhong1 de5 yi1 san1 wu3 zhu3 yao4 jiu4 shi4 zhi3 gong1 zu1 fang2\n",
      "009499 yin1 wei4 zhi1 dao4 zi4 ji3 de5 shi1 bai4 yu3 wu2 neng2 yu2 shi4 xiang3 ban4 fa3 qu4 ke4 fu2\n",
      "008447 chang2 qi1 de5 ying2 yang3 bu4 zu2 dao3 zhi4 xu3 duo1 hai2 zi5 pu3 bian4 ai2 xiao3 you3 de5 hai2 huan4 shang4 wei4 bing4\n",
      "009683 shen2 me5 dou1 bu2 yong4 ni3 gan1 jiu4 zhe4 yang4 gei3 wo3 gui4 dao4 tian1 liang4\n",
      "008829 zhe4 bu4 fu2 he2 zheng4 ce4 gui1 ding4 ying1 yu2 cha2 chu3 jiu1 zheng4\n",
      "009365 zhan3 xin1 de5 lou2 fang2 gao1 gao1 song3 li4 ran2 er2 yi1 wang4 ke3 zhi1 xu3 duo1 fang2 zi5 reng2 zai4 kong1 zhi4\n",
      "009873 zhao4 gu1 niang2 bei1 zhe5 ge4 shuang1 jian1 bao1 zuo4 xia5 shi2 shun4 shi4 fang4 zai4 yi4 bian1\n",
      "009285 you3 bao4 dao3 shuo1 tuo1 de2 hai2 shi4 ken3 ta3 ji1 zhou1 de5 yi4 ming2 tong1 ji2 fan4\n",
      "008982 ou1 zhou1 he2 ri4 ben3 zai4 shuai1 tui4 bian1 yuan2 zheng1 zha2 zhi1 shi2 zhi1 cheng1 qi3 quan2 qiu2 jing1 ji4 de5 zeng1 zhang3\n",
      "009515 wu3 nian2 lai2 zai4 ji2 yue4 shang1 yong4 qing1 chun1 he2 re4 xue4 shu1 xie3 le5 biao1 bing3 shi3 ce4 de5 zhuang4 li4 pian1 zhang1\n",
      "009279 qing3 xie3 xia4 nin2 de5 xing4 ming2 xiang2 xi4 tong1 xun4 di4 zhi3 you2 zheng4 bian1 ma3\n",
      "009709 tiao2 li4 dui4 wu1 ran3 yuan2 pu3 cha2 de5 zu3 zhi1 shi2 shi1 zuo4 le5 na3 xie1 gui1 ding4\n",
      "009517 qing1 song1 ji1 kua3 ta3 li4 ban1 zhi1 hou4 mei3 jun1 mian4 dui4 de5 shi4 yi4 pan2 san3 sha1 shi4 de5 wu3 zhuang1 fen4 zi3\n",
      "009335 nan2 tong2 zai4 che1 hou4 wan2 shua3\n",
      "008496 ta1 de5 xun1 zhang1 you3 san1 chou1 ti5 dan4 shi4 mei2 shi2 me5 qian2\n",
      "009029 dan4 shi4 jia1 bao4 wa1 ta1 ye3 you3 nv3 de5 da3 nan2 de5 de5 shi2 hou5\n",
      "008014 liu2 ben3 yun2 shuo1 lai2 ta1 jia1 li3 de5 shi2 hou5 zhao4 xiao3 qi2 chuan1 zhe5 bu3 ding1 ku4 zi5\n",
      "009740 bi3 ru2 da4 zha2 xie4 shang4 shi4 le5 jiu4 fa1 pang2 xie4 quan4\n",
      "009983 tong3 le5 ta1 yi3 hou4 mo2 hu2 ji4 de5 ta1 mei2 za3 dong4 le5\n",
      "008307 ji4 ru2 ci3 he2 bu4 qu4 tuan2 jie2 yi1 qie4 neng2 gou4 tuan2 jie2 de5 ren2 ying2 zao4 zui4 da4 de5 li4 yi4 ne5\n",
      "009599 zhang1 guo2 li4 yu3 luo2 zhi4 xiang2 zhang1 shao2 han2\n",
      "009919 ta1 zai4 hou4 mian4 dai1 guan4 le5 pa4 zi4 ji3 yi4 cha1 shen1 hou4 de5 ren2 hui4 bu4 man3 bu4 gan3 pai2 jin4 qu4\n",
      "008412 wo3 zan4 shi2 hai2 bu2 hui4 o2\n",
      "008641 gen1 ju4 dian4 ci2 xue2 de5 ji1 ben3 yuan2 li3 bi4 he2 de5 dian4 lu4 zai4 ci2 chang3 zhong1 yun4 dong4 ke2 yi3 chan3 sheng1 dian4 neng2\n",
      "009380 yin1 wei4 gong1 zuo4 yuan2 yin1 jing1 chang2 de2 zui4 ren2 ta1 ye3 jing1 chang2 shou4 dao4 ru3 ma4 he2 wei2 gong1\n",
      "008488 jing4 xuan3 shi2 xu3 nuo4 de5 zheng4 ce4 ke3 neng2 shi2 xian4 ji2 xu3\n",
      "009475 ben3 lai2 qu4 tiao2 jie3 jiu1 fen1 de5 peng4 qiao3 ba3 zhe4 ming2 tao2 fan4 jiu1 chu1 lai2 le5\n",
      "008611 qian2 rong2 bai3 kai1 chao1 de5 jia4 shi5 dao4 yi2 ge4 si1 li4 zhong1 xue2 ha1 zhe4 yang4 zi5 de5 shi4 juan4 ye3 yao4 wo3 lai2 zuo4\n",
      "008903 wu2 miao3 hou4 zhang4 fu1 kan4 dao4 dui4 mian4 de5 ge2 lin2 tai4 tai5 zai4 gei3 ta1 de5 chong3 wu4 xi2 zao3\n",
      "008115 ta1 men5 de5 ti3 li4 hai2 neng2 jing1 de5 qi3 duo1 shao3 ci4 zhe1 teng2 ne5\n",
      "009928 wo3 jue2 ding4 guo4 nian2 jiu4 ci2 zhi2 jie1 shou3 wo3 ba4 de5 fei4 pin3 zhan4\n",
      "009103 xian4 cheng2 li3 ye3 mei2 you3 chu1 xian4 qiang3 gou4 shi2 pin3 deng3 xian4 xiang4\n",
      "009088 wo3 ting3 zai4 hu5 fen3 si1 de5 ou2 er3 ye3 hui4 fa1 ge4 tie4\n",
      "008950 xin1 hua2 she4 she4 zhang3 li3 cong2 jun1 zhi4 ci2\n",
      "008018 mu4 qian2 zhao4 shi4 che1 reng2 heng2 gen4 yu2 lu4 zhong1 jian1 shi4 fa1 lu4 duan4 reng2 zhi3 neng2 wei2 chi2 ban4 fu2 jiao1 tong1\n",
      "009313 you3 shi2 hou5 shi4 hen3 ji1 zhi4 de5 zhuang1 song3\n",
      "009455 dong1 hu2 cheng2 guan3 dui4 yuan2 zai4 sao2 xue3\n",
      "008797 wo3 qiu2 hun1 de5 shi2 hou5 ni3 bie2 da1 ying4 jiu4 hang2\n",
      "009958 ji4 qing1 gao1 su4 ji3 nan2 hua4 shan1 zhang1 qiu1 zou1 ping2 zhou1 cun1 zi1 bo2 lin2 zi1 zhan4\n",
      "009026 you3 xie1 jia1 ru4 le5 bang4 bang4 jun1 jian1 tiao1 zhu2 gan1 cong2 shi4 huo4 wu4 yun4 song4\n",
      "009460 na4 shi2 hou5 wo3 men2 lia3 zhen1 shi5 pin2 jian4 bu4 neng2 yi2 a1\n",
      "008856 hui4 shuo1 san1 guo2 yu3 yan2 de5 jia1 li4 zai4 jue2 sai4 ji2 xing4 wen4 da2 huan2 jie2 biao3 xian4 you2 qi2 chu1 se4\n",
      "009881 liang3 ren2 yi4 chang3 e4 dou4 sheng4 fu4 nan2 fen1 zhi2 hao3 ba3 mao2 tou2 dui4 zhun3 zai4 du2 ying1 yu3 de5 xie4 jing3 yuan1 dao4 ni3 ne5\n",
      "009101 zai4 wei4 lai2 wu3 tian1 li3 dou1 you3 jiang4 yu3 wai4 chu1 ji4 de5 dai4 hao3 yu3 ju4\n",
      "009880 dao4 shui3 de5 xue2 sheng5 zhi1 ting1 dao4 qian2 ban4 ju4 zun1 qi2 ming4 zai4 qing1 qi2 yu2 shui3 bian1 dao3 bian1 jiao4 qu4 ni3 de5\n",
      "008843 ken2 qing3 da4 jia1 ping2 jia4 ci3 shi4 jian4\n",
      "009700 xiong2 wei3 de5 ren2 min2 da4 hui4 tang2 qi4 fen1 long2 zhong4 re4 lie4 wan4 ren2 da4 li3 tang2 li3 deng1 guang1 cui3 can4\n",
      "009417 yu2 mou3 shang4 qian2 hu4 fu1 bei4 nan2 mou3 lan2 zhu4 qu4 lu4 liang3 ren2 niu2 da3 qi3 lai5\n",
      "009686 di4 er4 nian2 sheng1 le5 ge4 da4 pang4 xiao2 zi3\n",
      "008966 sui1 ze2 ru2 ci3 ye3 yao4 jia1 yi3 gui1 fan4 bu4 neng2 ren4 you2 fan4 lan4 miu4 zhong3 liu2 chuan2\n",
      "008102 mei2 gu3 ying2 li4 da2 dao4 san1 dian3 wu3 qi1 yi1 gang3 yuan2 tong2 bi3 shang4 sheng1 bai3 fen1 zhi1 yi4 bai3 jiu3 shi2 jiu3 dian3 san1\n",
      "009508 bi3 ru2 shuo1 ti2 chang4 jian1 ku3 fen4 dou4 zhe4 bing4 bu4 yi4 wei4 zhe5 wo3 men5 yao4 chuan1 da3 bu3 ding1 de5 yi1 fu2\n",
      "008400 ci3 wai4 duo1 shu4 qi3 er2 bing4 fei1 bei4 guai3 de5\n",
      "008635 lu4 guo4 ci3 di4 de5 hu2 li5 kan4 jian4 hou4 kou3 shui3 zhi2 liu2 hen3 xiang3 ba3 rou4 nong4 dao4 shou3\n",
      "009231 jiao3 shang4 shi4 mian2 bu4 wa4 zi5 he2 pi2 xie2\n",
      "009853 gang1 kai1 shi3 ta1 hai2 lian4 xi2 gu3 zheng1 yin1 wei4 tan2 qin2 shou2 zhi3 dou1 mo2 po4 le5 ta1 ye3 bu4 han3 ku3\n",
      "008566 zai4 jin4 bai2 mi3 de5 xuan2 ya2 xia4 yi4 tiao2 xi4 xi4 de5 lie4 feng4 heng2 gen4 zai4 xuan2 shou3 yan3 qian2\n",
      "009428 yi4 shen3 fa3 yuan4 xian3 ran2 hun4 xiao2 le5 zhe4 san1 ge4 guan1 xi4\n",
      "008136 li4 ru2 zai4 tiao2 zheng3 shi4 pin2 bo1 fang4 chi3 cun4 shi2 yong4 hu4 ke2 yi3 dian3 ji1 bu4 tong2 chi3 cun4 de5 tu2 biao1\n",
      "009030 qi1 jian1 niu1 niu5 yi4 zhi2 da4 ku1 dan4 dan1 mou3 mei2 you3 ting2 shou3\n",
      "009086 tong2 yang4 de5 hou4 xuan2 chi3 cun4 ye3 jin4 xing2 le5 suo1 duan3\n",
      "008532 gen1 ju4 xian4 suo3 xian3 shi4 zheng4 mou3 ji4 you3 ke3 neng2 yi3 jing1 gai3 ming2 huan4 xing4 piao3 bai2 shen1 fen4\n",
      "009288 zhu1 rong2 ji1 can1 jia1 qing1 hua2 da4 xue2 bai3 nian2 xiao4 qing4 shi2 ceng2 xiang4 guang3 da4 tong2 xue2 tui1 jian4 guo4 ci3 shu1\n",
      "008709 ba3 hu2 luo2 bo5 jiao1 chu1 lai2\n",
      "009842 zhong1 ri4 guan1 xi4 yue4 lai2 yue4 mi4 qie4 xue2 xi2 han4 yu3 de5 ri4 ben3 ren2 yi4 bu2 ji4 qi2 shu4\n",
      "009955 ka3 zha1 fei1 bu4 luo4 shi4 tong3 zhi4 yi3 zao1 yu4 bu4 luo4 nei4 hong4\n",
      "009721 duo1 mi3 ni2 jia1 ren2 hen3 xiang3 liao2 jie3 zhong1 guo2 cai4 he2 dian3 xin5 zen3 me5 zuo4\n",
      "008711 zhi4 yuan4 zhe3 yi4 shou4 yi4 fei2 qian3\n",
      "008535 wu1 ya1 shuo1 wo3 zhen1 bu2 xing4 dan4 shi2 ji4 shang4 ta1 shi4 yin1 wei2 yun4 qi5 ma2\n",
      "008511 tu2 wei2 zuo2 ri4 yi4 ming2 nv3 hai2 zai4 pin3 chang2 lian3 qiao3 fan4\n",
      "009981 hao3 zai4 zhong4 di4 xiong1 kan4 dao4 le5 ba3 ta1 zhui1 le5 hui2 lai5\n",
      "008854 wo3 shi4 ni3 yi4 shi3 yi1 niao4 dai4 da4 de5 ya1\n",
      "009552 ta1 jian4 shi4 yu2 xiong2 mang2 pao3 guo4 qu4 yu2 xiong2 shuo1 pai2 wo3 qian2 mian4\n",
      "009064 ren2 men5 he1 wo3 men5 hai2 neng2 zai4 kai1 da4 long2 tou2 rang4 qing1 ling2 ling2 de5 zi4 lai2 shui3 zhou4 ye4 chang2 liu2 ma2\n",
      "008812 hai2 shu1 zhe4 me5 duo1 yu2 shi4 yi2 ge4 guo2 jia1 jiu4 bei4 an3 ji4 zhu5 le5\n",
      "008491 tu2 rang3 li3 de5 hua4 xue2 wu4 zhi4 jin4 ru4 shi2 wu4 lian4 hou4 zui4 zhong1 reng2 shi4 bei4 ren2 lei4 zi4 ji3 chi1 diao4\n",
      "008964 ban4 shi4 chu4 ling2 dao3 de2 zhi1 ci3 shi4 hou4 yao1 qiu2 shan1 xi1 da4 sha4 yan2 su4 chu2 li3\n",
      "009367 ru2 guo3 zhen1 shi5 chen2 le5 jiu4 chai1 xiu1 le5 you4 chen2 zhe4 tie3 lu4 neng2 bu4 neng2 bao3 zheng4 an1 quan2 ya1\n",
      "008568 jin1 yong1 xiao3 shuo1 li3 zong2 you3 yi2 ge4 feng1 du4 pian1 pian1 qi4 zhi4 jun4 lang3 wu3 gong1 chao1 qun2 de5 biao3 ge1\n",
      "008792 ta1 men5 jiu4 shi4 liu2 wang2 mei3 guo2 de5 shi4 jie4 ge4 guo2 de5 qian2 huang2 zu2\n",
      "009280 pin3 guan3 bu4 dui4 sheng1 chan3 bu4 men2 de5 chan2 pin3 ju4 you3 yi1 piao4 fou3 jue2 quan2\n",
      "008703 ni3 kuai4 le4 suo2 yi3 wo3 kuai4 le4\n",
      "009848 xing2 man3 shi4 fang4 hou4 de5 gao1 yi4 qiang2 bu4 si1 hui2 gai3 bing4 ran3 shang4 du3 bo2 de5 e4 xi2\n",
      "009345 di4 liu4 qi1 ba1 jiu3 xiang4 ren4 wu4 shu3 yu2 jia1 qiang2 wan2 shan4 qi3 ye4 jin1 rong2 zhi1 chi2\n",
      "009201 er2 qie3 bao4 ming2 dong4 zuo4 yao4 kuai4 yi4 dian3 de5 zhe4 ge4 ban1 hen3 duo1 ren2 bao4 de5\n",
      "008167 qin1 shu3 men2 mang2 zhe5 gei3 ta1 qia1 ren2 zhong1 lu1 shou2 zhi3\n",
      "009352 bu2 guo4 ci3 fan1 xiao3 tou1 hao3 xiang4 zou3 de2 cong1 mang2 hai2 ba3 yi4 ba3 tie3 ban1 shou3 la4 zai4 le5 dian4 li3\n",
      "009159 zai4 fu4 shi4 kang1 yi4 tian1 kai1 hui4 gong1 zhang3 wen4 ta1 wei4 shen2 me5 zong3 shi4 xiao4 mi1 mi1 de5\n",
      "008492 zao3 shang4 zai4 lou2 xia4 tang1 fen3 dian4 chi1 zao3 can1 peng4 jian4 wo3 men5 ling2 dao3 bing4 re4 qing2 de5 da3 zhao1 hu1\n",
      "009569 qu4 shen1 zhen4 da3 gong1 zhi1 qian2 di4 di4 mei4 mei5 jiu4 rang1 rang1 zhe5 yao4 mai3 bu4 dian4 nao3\n",
      "008684 ni3 zui4 jin4 que1 qian2 la1\n",
      "009791 ta1 zuo4 de5 cai4 te4 bie2 hao3 chi1 tong2 shi4 xi3 huan5 lai2 ceng4 dun4 fan4 chi1\n",
      "009025 cheng2 qi1 si4 yi1 lu4 gan3 huo3 che1 de5 cheng2 ke4 zui4 hao3 ti2 zao3 chu1 fa1\n",
      "008974 shi4 shi2 shang4 ban4 sui2 zhe5 shang4 hai3 tui4 xiu1 zhe3 yue4 lai2 yue4 duo1 kui1 kong1 ye3 hui4 yue4 lai2 yue4 da4\n",
      "008232 lian2 bang1 jing3 cha2 yi3 zhen1 dui4 zhe4 yi1 xi4 lie4 shi4 jian4 zhan3 kai1 diao4 cha2\n",
      "008187 lin2 xing2 qian2 lao2 lao3 lan2 zhu4 ma1 ma5 ding1 zhu3 dao4 qian1 wan4 bie2 ti2 xiao3 yin2 zi5\n",
      "008352 pang2 guan1 zhe3 de5 xing4 ming2 yong3 yuan3 pa2 bu2 dao4 bi3 sai4 de5 ji4 fen1 ban3 shang4\n",
      "009096 hui4 hou4 lv4 se4 li4 wei3 biao3 shi4 xiang1 xin4 zong2 tong3 he2 hu1 luo2 ji2 de5 shuo1 fa3\n",
      "009229 ni2 bo2 er3 fa1 sheng1 xue3 beng1 de5 di4 dian3\n",
      "009215 jue2 jiang4 de5 fu4 qin1 yi1 ran2 zai4 lu4 shang4\n",
      "008817 zhong1 guo2 zhu4 tan3 sang1 ni2 ya4 da4 shi2 guan3 zheng4 zai4 xie2 zhu4 tan3 jing3 fang1 diao4 cha2 ci3 an4\n",
      "008947 zi3 gong4 shu2 mai3 le5 yi2 ge4 nu2 li4 dan4 ta1 fa1 yang2 feng1 ge2 ju4 jue2 le5 bu3 chang2\n",
      "009445 you3 mei2 ti3 zhi2 yan2 zhe4 yang4 lu4 gu3 de5 jiao4 yu4 bu4 jin3 wu2 yong4 er2 qie3 you3 hai4\n",
      "008205 kan4 lai2 guang3 zhou1 ta3 hai2 xiang3 cuan4 de2 geng1 gao1 li5\n",
      "008898 si4 shi2 san1 nian2 qian2 shi2 jian4 feng1 jiu4 zai4 zhe4 chu3 po4 wa3 fang2 zhong1 gu1 gu1 zhui4 di4\n",
      "008380 che1 xing2 zhi4 zao3 lin2 qian2 jie1 shi2 ma3 shi1 fu5 ba3 che1 ting2 xia4 zi4 cheng1 bie1 bu5 zhu4 le5 yao4 qu4 sa1 niao4\n",
      "009843 guan1 yin1 jian4 yi4 bu4 ru2 rang4 liang3 hou2 xuan3 ze2 zui4 ai4 de5 shui2 guo3 zhong4 sheng1 jie1 mi2 mang2\n",
      "008323 quan3 zhu3 dai4 quan3 chu1 jie1 shi2 quan3 zhi1 bi4 xu1 pei4 dai4 quan3 pai2 quan2 zhu3 xie2 dai4 quan3 zheng4\n",
      "009493 zai4 dang1 di4 cun1 min2 yan2 li3 mao2 xian4 mi2 shi4 yi2 ge4 you3 xie1 zhi2 niu4 de5 ren2\n",
      "008980 he2 xiao3 shun4 tou4 lu4 mei3 er2 de5 fu4 mu3 hai2 juan1 zeng4 chu1 ta1 de5 jiao3 mo2 he2 shen4 zang4\n",
      "009548 zuo2 tian1 ge2 ye4 zi1 jin1 die1 po4 bai3 fen1 zhi1 san1 zhi4 bai3 fen1 zhi1 er4 dian3 jiu3 liu4 qi1 yi1\n",
      "009965 zhi1 hou4 ta1 men5 yi4 jia1 san1 kou3 jiang1 yu3 shuang1 fang1 fu4 mu3 wang3 ke4 li3 dao3 lv3 you2\n",
      "008679 ju3 shi4 guan1 zhu4 de5 ba1 guo2 ji2 tuan2 shou3 nao3 hui4 yi4 jiu3 ri4 zai4 ri4 ben3 dong4 ye2 hu2 bi4 mu4\n",
      "009024 you3 shi2 mang2 qi3 lai5 le5 mei2 ling2 qian2 yi4 lian2 ji1 tian1 dou1 bu4 shou1 wo3 qian2\n",
      "009901 zuo2 ri4 zhe4 ming2 shang1 zhe3 yu3 yi1 sheng1 quan2 bu4 bei4 jing3 fang1 yi1 fa3 xing2 shi4 ju1 liu2\n",
      "009534 bu2 guo4 ta1 xian4 chang3 de5 you1 mo4 yu3 yan2 que4 dou4 de2 guan1 zhong4 he2 zhong4 wei4 jia1 bin1 he2 bu4 long2 zui3\n",
      "009837 ta1 chuan1 shang4 qian2 shui3 yi1 shen1 shang4 shuan1 le5 gen1 sheng2 zi5 yi1 hen3 xin1 tiao4 le5 xia4 qu4\n",
      "009751 dui4 yu2 bi3 sai4 zhong1 de5 cu1 ye3 chang3 mian4 bu4 lun2 dan1 ren4 wei2 bi3 sai4 ji1 lie4 ke2 yi3 li2 jie3\n",
      "008033 xian4 zai4 ta1 bu4 neng2 pao1 qi4 ke4 qin1 zu2\n",
      "008669 li4 shi3 jiang1 yong2 yuan3 ji4 zhu5 tong2 zhi4 men2 de5 jie2 chu1 chuang4 zao4 he2 feng4 xian4 dang3 he2 ren2 min2 gan3 xie4 ni3 men5\n",
      "008278 wei4 lai2 ban4 ge5 yue4 li3 ban4 sui2 dian4 yin1 de5 ne2 zha1 san1 tai4 zi3 dou1 jiang1 ji4 xu4 zai4 jie1 nei4 biao2 yan3\n",
      "009914 nan2 hai3 hai3 yu4 zong1 he2 bu2 ji3 ji1 di4 ma3 tou2 xiang4 mu4 zheng4 zai4 lun4 zheng4 zhong1\n",
      "009414 li4 shi3 kao4 zun1 hua4 ren2 de5 re4 xue4 he2 han4 shui3 xie3 jiu4\n",
      "008094 liu2 chang2 yu3 shuo1 zhe4 shi4 zuo2 ri4 shang4 wu3 cha2 shou1 de5 hai2 cha2 chu1 le5 liang2 ba3 shi2 yu2 li2 mi3 chang2 de5 dao1 ju4\n",
      "008432 ba1 guo2 cheng2 shi2 shang4 nv2 zi3 zai4 tou1 nai2 fen3\n",
      "009937 pan4 jue2 hou4 yao2 mou3 qi1 zi3 hu2 mou3 bu4 fu2 ti2 qi3 shang4 su4\n",
      "008774 yi4 xie1 wu3 zhuang1 fen4 zi3 ze2 qi2 zhe5 mo2 tuo1 che1 ban4 sui2 zuo3 you4 bing4 bu4 shi2 gao1 han3 fan2 yi3 kou3 hao4\n",
      "008746 ben3 ren2 dai4 xie3 xiao3 xue2 sheng1 zhong1 xue2 sheng1 shu3 jia3 zuo4 ye4 jia4 ge2 mian4 yi4 bao1 you2 o1\n",
      "009815 hua1 yuan2 kou3 yu3 jiang1 jun1 ba4 dao4 zheng4 zhou1 kan4 huang2 he2 bi4 ran2 xian1 dao4 hua1 yuan2 kou3\n",
      "009081 yu3 yi4 xing4 jie1 chu4 de5 ji1 hui4 duo1 chi1 cu4 le5 mei2\n",
      "008791 da4 pian4 de5 cui4 lv4 zhong1 dian3 zhui4 zhe5 zi3 hong2 you3 yi4 zhong3 yao1 yi4 de5 mei3\n",
      "009633 ta1 zai4 pa1 xia4 zhi1 hou4 jiu4 mei2 xing3 le5\n",
      "008420 zuo4 wei2 tai4 tai5 fan3 er2 bu4 xin1 shang3 bu4 ti3 liang4\n",
      "008576 ci4 ri4 shang4 wu3 you4 jiang1 gai1 shou3 ji1 mai2 ru4 su1 jia1 lou2 xia4 de5 luo2 bu3 keng1 nei4\n",
      "009317 chun1 jiang1 shui3 nuan2 ya3 xian1 zhi1 wo3 ke2 yi3 gao4 su4 ni3 ming2 tian1 chuan1 shen2 me5\n",
      "008220 dan4 ru2 guo3 an4 che1 dui4 gui1 mo2 yi1 hai1 shu4 qian1 liang4 che1 de5 liang2 ji2 jue2 dui4 suan4 bu2 shang4 zui4 da4\n",
      "008887 te4 lang2 pu3 dang4 tian1 chu1 xi2 le5 wan3 yan4\n",
      "009966 xie4 xie5 zong2 li3 ye3 gan3 xie4 guang3 da4 wang2 you3 de5 can1 yu4 wo3 men5 ming2 nian2 zai4 jian4\n",
      "008281 you2 ta1 zhi4 zuo4 de5 dian4 shi4 ju4 yong1 zheng4 wang2 chao2 ceng2 huo4 zhong1 guo2 dian4 shi4 ju4 zui4 gao1 san1 da4 jiang3 xiang4\n",
      "008004 ci3 qian2 qing1 hua2 zi3 guang1 jiu4 ceng2 zao1 yu4 guo4 tong2 yang4 de5 wei1 ji1\n",
      "009538 qiao3 jia1 guan1 fang1 de5 zhe4 fen4 hui2 ying4 hen3 kuai4 bei4 wai4 jie4 shi4 zuo4 ji2 yu2 pie1 qing1 chai1 qian1 mao2 dun4\n",
      "009759 dan4 ying1 cai3 er2 hou4 lai2 fa1 xian4 na4 ci4 fen1 ming2 shi4 ta1 you4 wang4 le5 mai3 li3 wu4\n",
      "009168 bu4 shao3 wei2 guan1 zhe3 hao3 yan2 xiang1 quan4 xiao2 huo3 bu2 dan4 bu4 ting1 zui2 li3 hai2 ma4 ma4 lie1 lie1\n",
      "008112 qing2 wen2 sao3 shi4 shen1 shang4 gua4 de5 ji1 jian4 yi1 fu2 shuo1 yi4 dian3 bu4 leng3\n",
      "009023 bei4 she4 sha1 dong1 bei2 hu3 de5 lao3 gong1 ji4 mo4 de5 pa1 zai4 tie3 long2 nei4\n",
      "008728 wu2 liao2 de5 shi2 hou5 xiang2 xiang3 wo3\n",
      "009882 zhou1 bian1 ju1 min2 shi2 chang2 hui4 kan4 dao4 you3 yan1 qi4 cong2 lv2 chang3 lin2 li4 de5 da4 yan1 cong1 zhong1 pai2 chu1\n",
      "008064 qian2 zai4 wo3 yan3 zhong1 shi4 hen3 miao2 xiao3 de5 dong1 xi1\n",
      "008680 zai4 yi1 ce4 tie2 gui3 xia4 dao4 zha3 shang4 reng2 neng2 kan4 jian4 xue4 ji4\n",
      "008639 hai1 yan4 li4 ni3 zen3 me5 bu4 ba3 ruo4 nan2 dai4 lai2 ne5\n",
      "008659 you4 yi1 tang4 che1 an1 quan2 de5 kai1 dao4 mu4 di4 di4\n",
      "008385 dang1 ran2 zhe4 me5 shuo1 ma1 bu4 tai4 he2 shi4 wo3 ma1 you2 dian3 leng4 zhe4 yi2 mian4 wo3 xiang4 wo3 ma1\n",
      "009821 ping2 shi2 wo3 ye3 bu4 ai4 chu1 men2 zai4 jia1 kan4 kan4 bao4 zhi3 xie3 xie3 bi3 ji4 sha2 de5\n",
      "008178 liu4 wu3 er4 lu4 jiao4 qian2 ji1 ri4 quan2 tian1 ji4 hua4 fa1 che1 zeng1 jia1 shi2 er4 che1 ci4\n",
      "009190 nin2 hai2 ji4 de5 na4 xie1 bei4 tian2 chuan1 cheng1 wei2 qin1 xiong1 di4 de5 fang2 bao4 dui4 yuan2 ma2\n",
      "009587 yi4 xie1 dao4 sai1 han3 ba4 de5 you2 ke4 quan2 fu4 wu3 zhuang1 xiang3 shou4 tian1 han2 di4 dong4 de5 ling4 lei4 kuai4 le4\n",
      "008748 tian1 zhou4 ran2 liang2 xia4 chi2 le5 liang3 ge4 yue4 de5 qiu1 yu3 zhong1 yu2 pu3 jiang4 da4 di4\n",
      "008648 ta1 lv3 le5 lv3 hu2 xu1 shuo1 yin1 wei4 ling2 chen2 yi4 dian3 zhi4 san1 dian3 shi4 chou3 shi2 a1\n",
      "009377 jin4 huo4 shi2 gong1 chang3 gen1 wo3 shuo1 shi4 chun2 mian2 de5 wo3 mo1 qi3 lai5 ye3 bu4 xiang4\n",
      "009691 dan1 xin1 zhang1 mou3 bao4 jing3 liang3 ren2 yong4 zhen3 jin1 wu3 zhu4 le5 zhang1 mou3 de5 zui3 zhi2 zhi4 ta1 bu2 zai4 dong4 tan2\n",
      "009123 jie1 fang1 men2 fen1 fen1 cai1 ce4 jing3 fang1 ke3 neng2 yao4 qiang2 gong1\n",
      "009309 zhe4 yi1 huan2 jie2 de5 shui4 shou1 za2 fei4 he2 fan2 rong3 de5 shou3 xu4 rang4 bu4 shao3 dai4 gou4 zhe3 ting2 er2 zou3 xian3\n",
      "008734 zhang1 hong2 song1 da4 han3 qi3 lai5\n",
      "008931 ci3 wai4 tou2 zi1 ren2 reng2 cun2 gu4 lv4\n",
      "009823 zhe4 yi1 ci4 bao3 diao4 chuan2 zhi1 bei4 si4 sou1 ri4 ben3 chuan2 ji2 zhi2 sheng1 ji1 bao1 wei2 dong4 tan5 bu5 de2\n",
      "009502 nan2 hai2 dai1 zuo4 zai4 di4 bu4 shi2 bao4 qi3 jiao3 zhi3 tou5 qing1 qing1 yao3 yi4 kou3\n",
      "009150 zui4 hou4 hai2 yao4 jing1 guo4 shua1 xi3 cai2 neng2 peng1 ren4\n",
      "008589 xiao3 gu1 niang2 shuo1 ta1 jue2 de5 wu2 bin1 shu1 shu5 te4 bie2 hao3 te4 bie2 hao3\n",
      "009950 mu4 qian2 kan4 ru2 guo3 ji4 xu4 jia1 xi1 ye3 cun2 zai4 liang3 nan2 wen4 ti2\n",
      "008249 hao3 zai4 nao4 xin1 fang2 de5 xi3 qing4 he2 re4 lie4 mi2 bu3 le5 hun1 li3 de5 zhong1 sheng1 yi2 han4\n",
      "009948 nie4 la1 ji4 ke1 wei4 tou4 lu4 zhe4 xie1 hang2 kong1 gong1 si1 de5 ming2 cheng1\n",
      "009315 wei4 le5 zhuang4 dan3 gan2 jin3 na2 chu1 sui2 shen1 xie2 dai4 de5 bian1 pao4 ran2 fang4\n",
      "009651 fu4 gui4 zhou1 juan1 kuan3 shai4 diao4 liang3 ceng2 pi2\n",
      "009105 shuang1 yang2 shui3 de5 yong4 tu2 shi4 gei3 niu2 ti2 niu2 er3 duo5 piao3 bai2\n",
      "009437 chi1 ku3 nai4 lao2 lian2 xu4 zuo4 zhan4 de5 zuo4 feng1 za3 yang4\n",
      "009243 zhe4 li3 zi1 yuan2 fu4 rao2 jing3 se4 yi2 ren2\n",
      "008369 hao3 zai4 ta1 chu1 yan3 le5 mi3 er3 ke4\n",
      "008696 wen4 zhe4 wen4 ti2 de5 ren2 zui4\n",
      "008114 wo3 ca1 qu4 zui2 jiao3 de5 xue4 shui3 han2 lei4 dao4 zhe4 bu4 ni3 de5 ma2\n",
      "009722 tu3 di4 you3 mei2 you3 fu4 ken3 hao3 he2 bu4 he2 ge2 quan2 kao4 yan4 shou1 lai2 ba3 guan1\n",
      "009165 ta1 gang1 cai2 hai2 xing4 zai1 le4 huo4 xian4 zai4 zi4 ji3 ye3 zao1 dao4 tong2 yang4 bu2 xing4 de5 ming4 yun4 le5\n",
      "008891 yi1 bang3 zhu4 gui1 hua4 kun2 bang3 zhe5 mai4\n",
      "009000 shi4 liang2 tuo1 hai2 shi4 dai4 gen1 de5\n",
      "008469 zhe4 shi4 gong2 bei3 hai3 guan1 jin4 nian2 lai2 cha2 huo4 de5 zui4 da4 yi4 qi3 zou3 si1 wen2 wu4 chu1 jing4 an4\n",
      "009816 zai4 lin2 nv3 shi4 xin1 zhong1 xiao3 rong2 cong2 xiao3 guai1 qiao3 dong3 shi4 jiu4 xiang4 ta1 de5 tie1 xin1 xiao3 mian2 ao3\n",
      "008682 cun1 min2 mai3 de5 zui4 duo1 de5 shi4 la4 zhu2 yi1 ci4 mai2 hao3 ji1 kun3\n",
      "009386 jie1 shang4 kong1 liu2 xia4 le5 shen2 se4 cong1 cong1 de5 xing2 ren2\n",
      "008937 zai4 ji4 zhe3 ren2 shu4 bing4 mei2 jian2 shao3 xia4 rong3 yuan2 zi4 ran2 chan3 sheng1\n",
      "009036 fei4 qi4 zhu1 rou4 zai4 tu3 guo1 li3 ao2 lian4 hei1 se4 de5 zhu1 you2 liu2 dao4 tong3 li3\n",
      "009602 yin1 li4 jun1 shuo1 qi2 jing2 hai3 de5 fu4 mu3 dou1 shi4 nong2 min2 di4 xiong1 wu3 ge4 pai2 hang2 lao3 da4\n",
      "009127 wo3 bu2 yao4 fen3 si1 le5 zhi1 chi2 wo3 jiu4 duo1 zhuan3 fa1 ci3 tie4\n",
      "008784 yi4 ming2 zhi4 yuan4 zhe3 zai4 gei3 yun4 shu1 xiao2 gou3 de5 ka3 che1 sa2 shui3 jiang4 wen1\n",
      "009619 xiao3 ning2 mei2 you3 duo1 xiang3 jiu4 shang4 le5 che1\n",
      "009039 dan4 ru2 guo3 que1 fa2 zi1 jin1 que4 hen3 nan2 xi1 yin3 you1 xiu4 de5 ruan3 jian4 ren2 cai2\n",
      "009782 ti2 dao4 shang3 qiu1 bu4 ying1 gai1 zhi1 rang4 ren2 jian3 dan1 de5 xiang3 dao4 hong2 se4\n",
      "008160 dai3 tu2 jian4 nan2 yi3 tao2 tuo1 reng1 xia4 pi2 bao1 ji4 xu4 tao2 cuan4\n",
      "008484 zai4 jiang1 mou3 chen2 mou3 er4 ren2 de5 jiao4 suo1 song2 yong3 xia4 lao3 xiang1 zhi1 jian1 hu4 xiang1 la1 long3 jie4 shao4\n",
      "009363 ke2 yi3 zuo4 dao4 bu4 shua1 ya2 bu4 zheng2 li3 tou2 fa4 ye3 bu4 chuan1 xie2 zi5 shen4 zhi4 bu4 huan4 wa4 zi5\n",
      "009210 wo3 lve4 dong3 dan4 shi4 hai2 bu2 tai4 hui4\n",
      "009369 ji3 nian2 zhi1 hou4 na4 ge4 men2 kan3 jing4 ran2 bei4 wo3 men2 di4 xiong1 liang3 ge4 ta4 ao1 xia4 qu4 yi1 kuai4\n",
      "008935 sui1 ran2 zuo4 pin3 mei2 you3 da4 mai4 you2 dian3 yi2 han4 dan4 mei2 guan1 xi4 la1\n",
      "008212 na4 yi1 ke4 wo3 cai2 zhen1 zheng4 de5 dong3 ni3 jiu4 xiang4 dong3 wo3 xian4 zai4 de5 zi4 ji3\n",
      "009006 yin1 ci3 zhi3 neng2 yi3 zui4 ben4 de5 fang1 shi4 bu2 duan4 yi3 luan3 ji1 shi2\n",
      "008917 mou3 ren2 de5 qi1 zi3 pi2 qi5 fei1 chang2 guai4 pi3 ta1 yu3 jia1 li3 de5 suo3 you3 ren2 dou1 nan2 yi3 xiang1 chu3\n",
      "008564 neng2 you3 da2 an4 jiu4 bu2 shi4 ren2 sheng1 ba1\n",
      "008194 wo3 ning2 shi4 jing1 tan4 yan3 jian4 dao4 yi1 zhong3 yi4 chang2 de5 mei3\n",
      "008933 liu2 nv3 shi4 shuai3 diao4 er2 zi5 shou3 shang4 de5 xiao3 ha2 ma2 shen2 qing2 you3 xie1 jin3 zhang1\n",
      "009952 dan4 ren4 ping2 zhou1 mou3 zen3 me5 jiao4 nan2 zi3 reng2 han1 shui4 bu4 xing3\n",
      "008449 shi4 ge4 hen3 you3 qian2 de5 jia1 huo5 ya1\n",
      "008203 zan2 men5 hai2 shi4 tao3 lun4 yi1 xia4 shi4 jie4 he2 ping2 ba1\n",
      "009739 sun1 da3 dian4 hua4 gei3 wang2 lin2 yao4 ta1 jiao4 xun5 chen2 mou3 liang4\n",
      "008195 ru2 jin1 zhe4 zhong3 jiong3 jing4 bei4 qiao3 miao4 rao4 guo4 le5\n",
      "008146 ji2 shi3 ya1 li4 zai4 da4 zai4 bu4 gao1 xing4 ye3 yao4 gan1 xia4 qu4\n",
      "008513 zhi2 you3 yi2 ge4 que1 dian3 jiu4 shi4 pi2 qi5 you3 yi4 dian2 dian3 bao4\n",
      "009797 ni3 na3 na4 me5 duo1 fei4 hua4 gei3 lao3 niang2 gui4 hao3\n",
      "008169 wei2 shang1 xin1 tian1 gong1 bu2 zuo4 mei3 ying1 xiong2 huo4 xu3 yao4 cheng2 shou4 duo1 mo2 nan4\n",
      "009068 zhu1 rong2 ji1 tong2 zhi4 gan3 dao4 you3 hen3 da4 ya1 li4\n",
      "009855 ta1 xi3 huan5 kai1 wan2 xiao4 bi3 ru2 wo3 ju3 qiang1 ju3 le5 shi2 fen1 zhong1 ta1 jiu4 zou3 guo4 lai2 shuo1 lei2 ba1\n",
      "008875 xian4 chang3 mi2 man4 zhe5 yi4 gu3 jiao1 chou4 wei4\n",
      "009097 jiu4 gang1 gang5 qu4 chao1 shi4 mai3 yan1 mu4 ce4 you3 yi2 ge4 zheng4 tai4 si4 wu3 sui4 de5 yang4 zi5\n",
      "009870 jiao1 gong1 liang2 wo3 ba3 zui4 hao3 de5 xiao3 mai4 yu4 mi3 song4 dao4 liang2 guan2 suo3\n",
      "008423 si2 zhe3 zai4 dang4 wan3 yi3 jing1 song4 dao4 le5 bin4 yi2 guan3\n",
      "009621 yi3 xia4 shi4 ji4 zhe3 yu3 he2 chao1 yun2 de5 fang3 wen4\n",
      "008210 tang3 zai4 ji2 jiu4 dan1 jia4 shang4 de5 nan2 zi3 shuang1 mu4 jin3 bi4 tou2 fa4 san4 fa1 chu1 yi4 gu3 shao1 jiao1 de5 wei4 dao5\n",
      "008145 ruo4 wo3 fang4 qi4 le5 shou3 zhong1 xian4 cheng2 de5 shi2 wu4 zai4 qu4 zhui1 qiu2 kan4 bu2 jian4 de5 dong1 xi1 na4 wo3 qi3 bu4 cheng2 sha3 gua1 le5 ma2\n",
      "009188 zai4 xin1 nian2 de5 di4 yi4 chang2 gao1 kao3 jiao4 liang4 zhong1 kao3 sheng1 jiang1 ying2 lai2 yi4 chang3 han1 zhan4\n",
      "009456 pang2 bian1 yi1 wei4 zhong1 nian2 nan2 zi3 jian4 zhuang4 lun1 qi3 dang4 kou3 fu4 jin4 de5 deng4 zi5 jiang1 fan4 mou3 da3 pao3\n",
      "009235 shen1 zhen4 shi4 ren2 dai4 dai4 biao3 weng1 xiao3 bo1 ze2 biao3 da2 le5 bu4 tong2 de5 guan1 dian3\n",
      "008329 qi1 shi2 san1 sui4 de5 chen2 a1 po2 cong2 shui2 ta3 li3 bei4 jie3 jiu4 chu1 lai2\n",
      "009098 chu1 shi4 hou4 gai1 za3 guan2 li3 nong2 cun1 san2 yang3 de5 quan3 zhi1 wo3 men2 ye3 hen3 tou2 teng2\n",
      "008417 ju4 jin1 yue1 si4 qian1 wu2 bai3 nian2 shi4 ba1 ren2 fa1 xiang2 di4 yi2 zhi3\n",
      "009752 miao3 miao3 qiang3 xian1 dian3 le5 gan1 guo3 pan2 shui3 guo3 pan2 ge4 yi2 ge4 pi2 jiu3 hong2 jiu3 ruo4 gan1\n",
      "009370 fang2 jia4 de5 gao1 ba4 zheng4 zai4 cong2 da4 hu4 xing2 kai1 shi3 wa2 jie3 bing4 xiang4 zhong1 xiao3 hu4 xing2 man4 yan2\n",
      "009826 kao2 gu3 zhuan1 jia1 gan3 dao4 nao2 tou2\n",
      "008773 jie1 xia4 lai2 de5 shi2 jian1 li3 wang2 pan1 xiang4 hua1 mu4 lan2 hui2 dao4 lao3 jia1 shu1 zhuang1 da3 ban4 bu4 ting2\n",
      "009171 bu4 guan3 xian4 shi2 duo1 me5 fan2 fu4 he2 rong3 men4 ta1 dou1 yao4 shi2 chang2 qu4 wang3 ling4 yi2 ge4 shi4 jie4\n",
      "008282 zhe4 shi4 wo3 de5 gong1 zuo4 shi4 qing5 chu1 lai2 hou4 ping2 jia4 zong3 hui4 you3 hao3 you3 huai4 dan4 wo3 bu2 hui4 ji4 jiao4\n",
      "008994 xiong2 mao1 you3 zhua2 zi3 wo3 zong3 shi4 gao4 su4 wo3 de5 fen3 si1 yao4 xiu4 chu1 ta1 men5 de5 zhua2 zi3\n",
      "008266 dan4 shi4 yi4 xie1 ji4 xiang4 xian3 shi4 xue4 an4 you2 nei4 bu4 ren2 tiao2 qi3\n",
      "009349 zhe4 bing4 bu2 shi4 pai1 nao3 dai5 zuo4 chu1 de5 jue2 ding4\n",
      "008507 ni3 shi4 bu2 shi4 zhao3 cuo4 ren2 la1 wo3 shi4 wo3 bu2 shi4 ben4 niu1\n",
      "008616 si1 yi2 sui1 you3 fa1 xian4 zhu1 ge3 zi3 qi2 bu4 tuo3 dan4 huo2 dong4 bing4 wei4 yin1 ci3 zhong1 duan4 huo4 gai3 dong4\n",
      "009800 zhi2 you3 li2 le5 hun1 wo3 cai2 neng2 xue2 zhe5 geng1 jian1 qiang2 ya1\n",
      "009186 you3 wan2 mei2 wan2 kai1 zhe5 che1 ne5 bie2 re3 wo3 yao4 chu1 le5 shi4 gu4 zen3 me5 ban4\n",
      "008631 dui4 ta1 qi1 wang4 guo4 gao1 bo1 xia4 long2 zhong3 shou1 huo4 tiao4 zao3 jiang1 hen3 ke3 neng2 cheng2 wei2 xian4 shi2\n",
      "008860 yu3 qi2 rang4 lao3 de5 shen1 zhe5 bo2 zi5 ai2 da3 bu4 ru2 rang4 xin1 ren2 ting3 zhe5 xiong1 tang2 qu4 pin1 sha1\n",
      "009594 ke3 shi4 xian4 ji2 zheng4 fu3 jing4 zheng1 cai2 pan4 shi4 shui2\n",
      "009119 ci3 shi2 min2 jing3 guo1 geng1 jun1 de5 ku4 zi5 you3 le5 gua3 ceng4\n",
      "008306 min2 jing3 jie1 dao4 bao4 jing3 hou4 gan3 dao4 xian4 chang3 chu1 zu1 che1 si1 ji1 zheng4 yu3 ji3 ge4 zui4 gui3 li3 lun4\n",
      "009289 guo2 qiang2 cai2 neng2 guo2 ning2 zei2 cai2 bu4 gan3 dian4 ji4\n",
      "009555 ci3 hou4 zai4 xi1 zang4 hui1 fu4 jiu4 you3 de5 feng1 jian4 nong2 nu2 zhi4 du4 ye3 cheng2 wei2 yong2 yuan3 bu4 ke3 neng2\n",
      "009573 ju1 min2 shuo1 zhe4 xie1 liu2 lang4 er2 si4 hu1 tu1 ran2 xiao1 shi1 le5 bu4 zhi1 qian2 wang3 he2 chu3\n",
      "009135 di4 san1 tian1 xiao3 dong1 fa1 re4 ke2 sou4 ma1 ma5 gan2 jin3 dai4 ta1 qu4 dang1 di4 de5 zhen4 yi1 yuan4 jiu4 zhen3\n",
      "009082 hen3 kuai4 zhang1 mou3 er2 zi5 de5 gong1 zuo4 an1 pai2 tuo3 dang4\n",
      "008658 dang1 shi2 li2 xue2 xiao4 bu2 guo4 ji1 shi2 mi3 yuan3\n",
      "009234 bu2 shi4 lei2 le5 bu2 shi4 gou4 le5 shi4 zhi1 dao4 fu4 mu3 you3 duo1 bu4 rong2 yi4 le5\n",
      "009436 ta1 shuo1 jing1 ju4 jiang3 jiu5 de5 shi4 qin2 shi1 si1 gu3\n",
      "008247 lao2 ban3 you1 you1 de5 hui2 da2 kan4 ni3 hui4 bu2 hui4 yang3 le5 yang3 de5 hao3 le5 ta1 song4 ni3 zou3\n",
      "008393 yu2 xiong2 you4 tui1 kai1 lai2 shi4 ping2 de5 shou3 shuo1 tian1 tai4 re4 le5 da4 jia1 fen1 kai1 dian3\n",
      "008998 wo3 men5 cong2 huang2 hai3 zhi1 bin1 xiang4 qing1 zang4 gao1 yuan2 xiang4 shi4 jie4 wu1 ji3 fa1 qu4 wo3 men5 zui4 hao3 de5 zhu4 yuan4\n",
      "009531 yi3 hou4 ni3 zai4 zhe4 me5 da4 sheng1 shuo1 wo3 wo3 jiu4 gei3 ni3 dian3 yan2 se4 kan4 kan4\n",
      "009424 ta1 zhe4 cai2 lun1 qi3 dao1 zi5 zhe4 shu3 yu2 ji1 qing2 fan4 zui4 bing4 mei2 you3 zhu3 guan1 e4 yi4\n",
      "009240 gong3 li4 zhang1 guo2 rong2 jia2 na4 jiu4 zhao4\n",
      "009059 zi4 ji3 kan4 kan4 ni3 zhe4 du3 zi5 na3 xiang4 er4 shi2 ji1 sui4 si4 wu3 shi2 sui4 dou1 bu4 zhi3 ba1\n"
     ]
    }
   ],
   "source": [
    "g2pa_pairs = {}\n",
    "\n",
    "for ap in audio_py_pairs:\n",
    "    file_name = ap.split('/').pop().split('.')[0]\n",
    "    py_list = ' '.join([a[0] for a in audio_py_pairs[ap]])\n",
    "    print(file_name, py_list)\n",
    "    g2pa_pairs[file_name] = py_list\n",
    "    "
   ]
  },
  {
   "cell_type": "code",
   "execution_count": 52,
   "metadata": {},
   "outputs": [],
   "source": [
    "\n",
    "json_object = json.dumps(g2pa_pairs, indent=4)\n",
    "\n",
    "with open(\"g2pa_pairs4.json\", \"w\") as outfile:\n",
    "    outfile.write(json_object)"
   ]
  },
  {
   "cell_type": "code",
   "execution_count": null,
   "metadata": {},
   "outputs": [],
   "source": []
  }
 ],
 "metadata": {
  "kernelspec": {
   "display_name": "vitscn",
   "language": "python",
   "name": "python3"
  },
  "language_info": {
   "codemirror_mode": {
    "name": "ipython",
    "version": 3
   },
   "file_extension": ".py",
   "mimetype": "text/x-python",
   "name": "python",
   "nbconvert_exporter": "python",
   "pygments_lexer": "ipython3",
   "version": "3.8.0"
  },
  "orig_nbformat": 4
 },
 "nbformat": 4,
 "nbformat_minor": 2
}
